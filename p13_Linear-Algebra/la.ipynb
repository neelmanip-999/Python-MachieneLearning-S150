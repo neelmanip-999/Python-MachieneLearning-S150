{
 "cells": [
  {
   "cell_type": "code",
   "execution_count": 2,
   "id": "cc1b9a2a",
   "metadata": {},
   "outputs": [],
   "source": [
    "import numpy as np"
   ]
  },
  {
   "cell_type": "code",
   "execution_count": 16,
   "id": "35f617a6",
   "metadata": {},
   "outputs": [],
   "source": [
    "m1=np.array([[1,2,3],[7,2,6],[6,2,7]])\n",
    "m2=np.array([[1,2,3],[7,2,3],[3,4,4]])"
   ]
  },
  {
   "cell_type": "code",
   "execution_count": 4,
   "id": "41df9aad",
   "metadata": {
    "vscode": {
     "languageId": "javascript"
    }
   },
   "outputs": [
    {
     "data": {
      "text/plain": [
       "array([[1, 2, 3],\n",
       "       [7, 2, 6]])"
      ]
     },
     "execution_count": 4,
     "metadata": {},
     "output_type": "execute_result"
    }
   ],
   "source": [
    "m1"
   ]
  },
  {
   "cell_type": "code",
   "execution_count": 5,
   "id": "51f5426d",
   "metadata": {},
   "outputs": [
    {
     "data": {
      "text/plain": [
       "array([[1, 2],\n",
       "       [7, 2],\n",
       "       [3, 4]])"
      ]
     },
     "execution_count": 5,
     "metadata": {},
     "output_type": "execute_result"
    }
   ],
   "source": [
    "m2"
   ]
  },
  {
   "cell_type": "markdown",
   "id": "3b9e213c",
   "metadata": {},
   "source": [
    "m1.T"
   ]
  },
  {
   "cell_type": "code",
   "execution_count": 7,
   "id": "00c1abb2",
   "metadata": {},
   "outputs": [
    {
     "data": {
      "text/plain": [
       "array([[1, 7],\n",
       "       [2, 2],\n",
       "       [3, 6]])"
      ]
     },
     "execution_count": 7,
     "metadata": {},
     "output_type": "execute_result"
    }
   ],
   "source": [
    "m1.transpose()"
   ]
  },
  {
   "cell_type": "code",
   "execution_count": 8,
   "id": "649cb232",
   "metadata": {},
   "outputs": [
    {
     "data": {
      "text/plain": [
       "array([[1, 7],\n",
       "       [2, 2],\n",
       "       [3, 6]])"
      ]
     },
     "execution_count": 8,
     "metadata": {},
     "output_type": "execute_result"
    }
   ],
   "source": [
    "np.transpose(m1)"
   ]
  },
  {
   "cell_type": "code",
   "execution_count": 11,
   "id": "3488b180",
   "metadata": {},
   "outputs": [],
   "source": [
    "m3=np.array([[[1,2],[3,4]],[[10,20],[30,40]]])"
   ]
  },
  {
   "cell_type": "code",
   "execution_count": 12,
   "id": "329d2bcb",
   "metadata": {},
   "outputs": [
    {
     "data": {
      "text/plain": [
       "(array([[[ 1,  2],\n",
       "         [ 3,  4]],\n",
       " \n",
       "        [[10, 20],\n",
       "         [30, 40]]]),\n",
       " (2, 2, 2))"
      ]
     },
     "execution_count": 12,
     "metadata": {},
     "output_type": "execute_result"
    }
   ],
   "source": [
    "m3,m3.shape"
   ]
  },
  {
   "cell_type": "code",
   "execution_count": 17,
   "id": "f4cf00c9",
   "metadata": {},
   "outputs": [
    {
     "data": {
      "text/plain": [
       "array([[ 2,  4,  6],\n",
       "       [14,  4,  9],\n",
       "       [ 9,  6, 11]])"
      ]
     },
     "execution_count": 17,
     "metadata": {},
     "output_type": "execute_result"
    }
   ],
   "source": [
    "m1+m2"
   ]
  },
  {
   "cell_type": "code",
   "execution_count": 18,
   "id": "844ed072",
   "metadata": {},
   "outputs": [
    {
     "data": {
      "text/plain": [
       "array([[24, 18, 21],\n",
       "       [39, 42, 51],\n",
       "       [41, 44, 52]])"
      ]
     },
     "execution_count": 18,
     "metadata": {},
     "output_type": "execute_result"
    }
   ],
   "source": [
    "m1@m2"
   ]
  },
  {
   "cell_type": "code",
   "execution_count": 19,
   "id": "82c6bf25",
   "metadata": {},
   "outputs": [
    {
     "data": {
      "text/plain": [
       "array([[24, 18, 21],\n",
       "       [39, 42, 51],\n",
       "       [41, 44, 52]])"
      ]
     },
     "execution_count": 19,
     "metadata": {},
     "output_type": "execute_result"
    }
   ],
   "source": [
    "np.dot(m1,m2)"
   ]
  },
  {
   "cell_type": "code",
   "execution_count": 20,
   "id": "1bde95f5",
   "metadata": {},
   "outputs": [
    {
     "data": {
      "text/plain": [
       "np.float64(-17.999999999999996)"
      ]
     },
     "execution_count": 20,
     "metadata": {},
     "output_type": "execute_result"
    }
   ],
   "source": [
    "np.linalg.det(m1)"
   ]
  },
  {
   "cell_type": "code",
   "execution_count": null,
   "id": "d58f55cb",
   "metadata": {},
   "outputs": [],
   "source": [
    "eigV,eigVec=np.linalg.eig(m1)  "
   ]
  },
  {
   "cell_type": "code",
   "execution_count": null,
   "id": "a4330ab4",
   "metadata": {},
   "outputs": [],
   "source": []
  },
  {
   "cell_type": "code",
   "execution_count": 22,
   "id": "241c4068",
   "metadata": {},
   "outputs": [
    {
     "data": {
      "text/plain": [
       "array([11.66762852, -2.32980095,  0.66217243])"
      ]
     },
     "execution_count": 22,
     "metadata": {},
     "output_type": "execute_result"
    }
   ],
   "source": [
    "eigV"
   ]
  },
  {
   "cell_type": "code",
   "execution_count": 23,
   "id": "3538525e",
   "metadata": {},
   "outputs": [
    {
     "data": {
      "text/plain": [
       "array([[-0.31586043, -0.66766889, -0.32407999],\n",
       "       [-0.65483096,  0.68912242, -0.76989513],\n",
       "       [-0.68660658,  0.28165322,  0.54975781]])"
      ]
     },
     "execution_count": 23,
     "metadata": {},
     "output_type": "execute_result"
    }
   ],
   "source": [
    "eigVec"
   ]
  },
  {
   "cell_type": "code",
   "execution_count": 24,
   "id": "f31b1a16",
   "metadata": {},
   "outputs": [
    {
     "data": {
      "text/plain": [
       "array([[-0.11111111,  0.44444444, -0.33333333],\n",
       "       [ 0.72222222,  0.61111111, -0.83333333],\n",
       "       [-0.11111111, -0.55555556,  0.66666667]])"
      ]
     },
     "execution_count": 24,
     "metadata": {},
     "output_type": "execute_result"
    }
   ],
   "source": [
    "np.linalg.inv(m1)"
   ]
  },
  {
   "cell_type": "code",
   "execution_count": 25,
   "id": "dec6fb80",
   "metadata": {},
   "outputs": [
    {
     "data": {
      "text/plain": [
       "array([[-0.2,  0.4],\n",
       "       [ 0.6, -0.2]])"
      ]
     },
     "execution_count": 25,
     "metadata": {},
     "output_type": "execute_result"
    }
   ],
   "source": [
    "np.linalg.inv(np.array([[1,2],[3,1]]))"
   ]
  },
  {
   "cell_type": "code",
   "execution_count": null,
   "id": "29845f17",
   "metadata": {},
   "outputs": [
    {
     "data": {
      "text/plain": [
       "np.float64(4.626065009182741)"
      ]
     },
     "execution_count": 27,
     "metadata": {},
     "output_type": "execute_result"
    }
   ],
   "source": [
    "np.linalg.norm(np.array([4,-2,3]),ord=3)\n",
    "# The norm is a measure of a vector's magnitude or length\n",
    "# This specifies that you want to compute the 3-norm (also called the L³ norm or p-norm with \n"
   ]
  },
  {
   "cell_type": "code",
   "execution_count": 52,
   "id": "7bab7049",
   "metadata": {},
   "outputs": [
    {
     "name": "stderr",
     "output_type": "stream",
     "text": [
      "Clipping input data to the valid range for imshow with RGB data ([0..1] for floats or [0..255] for integers). Got range [0.0..255.0].\n"
     ]
    },
    {
     "data": {
      "image/png": "[encoded data removed]",
      "text/plain": [
       "<Figure size 300x300 with 1 Axes>"
      ]
     },
     "metadata": {},
     "output_type": "display_data"
    }
   ],
   "source": [
    "import numpy as np\n",
    "import matplotlib.pyplot as plt\n",
    "\n",
    "plt.figure(figsize=(3,3))\n",
    "img=np.zeros((10,10,3))\n",
    "# print(img)\n",
    "img[:,:]=[255,0,0]\n",
    "plt.axis('off')\n",
    "# print(img)\n",
    "\n",
    "plt.imshow(img)\n",
    "plt.show()"
   ]
  },
  {
   "cell_type": "code",
   "execution_count": null,
   "id": "34ae4e2d",
   "metadata": {},
   "outputs": [
    {
     "data": {
      "image/png": "[encoded data removed]",
      "text/plain": [
       "<Figure size 300x300 with 1 Axes>"
      ]
     },
     "metadata": {},
     "output_type": "display_data"
    }
   ],
   "source": [
    "import numpy as np\n",
    "import matplotlib.pyplot as plt\n",
    "img = np.zeros((10, 10, 3), dtype=np.uint8)\n",
    "# Fill checkerboard pattern\n",
    "for i in range(10):\n",
    "    for j in range(10):\n",
    "        if (i + j) % 2 == 0:\n",
    "            img[i, j] = [255, 0, 0]  # Red\n",
    "plt.figure(figsize=(3, 3))\n",
    "plt.axis('off')\n",
    "plt.imshow(img)\n",
    "plt.title(\"Red-Black Checkerboard\")\n",
    "plt.show()\n"
   ]
  },
  {
   "cell_type": "code",
   "execution_count": null,
   "id": "a34c9fda",
   "metadata": {},
   "outputs": [
    {
     "data": {
      "image/png": "[encoded data removed]",
      "text/plain": [
       "<Figure size 300x300 with 1 Axes>"
      ]
     },
     "metadata": {},
     "output_type": "display_data"
    }
   ],
   "source": [
    "img = np.zeros((10, 10, 3), dtype=np.uint8)\n",
    "for i in range(10):\n",
    "    for j in range(10):\n",
    "        red = int(255 * j / 9)\n",
    "        blue = 255 - red\n",
    "        img[i, j] = [red, 0, blue]\n",
    "plt.figure(figsize=(3, 3))\n",
    "plt.axis('off')\n",
    "plt.imshow(img)\n",
    "plt.title(\"Horizontal Red-Blue Gradient\")\n",
    "plt.show()\n"
   ]
  },
  {
   "cell_type": "code",
   "execution_count": 46,
   "id": "3dae1fff",
   "metadata": {},
   "outputs": [
    {
     "data": {
      "image/png": "[encoded data removed]",
      "text/plain": [
       "<Figure size 300x300 with 1 Axes>"
      ]
     },
     "metadata": {},
     "output_type": "display_data"
    }
   ],
   "source": [
    "img = np.random.randint(0, 256, (10, 10, 3), dtype=np.uint8)\n",
    "\n",
    "plt.figure(figsize=(3, 3))\n",
    "plt.axis('off')\n",
    "plt.imshow(img)\n",
    "plt.title(\"Random Colors\")\n",
    "plt.show()\n"
   ]
  },
  {
   "cell_type": "code",
   "execution_count": 44,
   "id": "30bdbd5b",
   "metadata": {},
   "outputs": [
    {
     "data": {
      "image/png": "[encoded data removed]",
      "text/plain": [
       "<Figure size 300x300 with 1 Axes>"
      ]
     },
     "metadata": {},
     "output_type": "display_data"
    }
   ],
   "source": [
    "img = np.zeros((10, 10, 3), dtype=np.uint8)\n",
    "\n",
    "for i in range(10):\n",
    "    img[i, i] = [255, 255, 255]  # White diagonal\n",
    "\n",
    "plt.figure(figsize=(3, 3))\n",
    "plt.axis('off')\n",
    "plt.imshow(img)\n",
    "plt.title(\"White Diagonal Line\")\n",
    "plt.show()\n"
   ]
  },
  {
   "cell_type": "code",
   "execution_count": 45,
   "id": "838b7443",
   "metadata": {},
   "outputs": [
    {
     "data": {
      "image/png": "[encoded data removed]",
      "text/plain": [
       "<Figure size 300x300 with 1 Axes>"
      ]
     },
     "metadata": {},
     "output_type": "display_data"
    }
   ],
   "source": [
    "img = np.zeros((10, 10, 3), dtype=np.uint8)\n",
    "\n",
    "for i in range(10):\n",
    "    green = int(255 * i / 9)\n",
    "    img[i, :, 1] = green  # Green channel\n",
    "\n",
    "plt.figure(figsize=(3, 3))\n",
    "plt.axis('off')\n",
    "plt.imshow(img)\n",
    "plt.title(\"Vertical Green Gradient\")\n",
    "plt.show()\n"
   ]
  },
  {
   "cell_type": "code",
   "execution_count": 50,
   "id": "dde9693c",
   "metadata": {},
   "outputs": [
    {
     "data": {
      "image/png": "[encoded data removed]",
      "text/plain": [
       "<Figure size 640x480 with 1 Axes>"
      ]
     },
     "metadata": {},
     "output_type": "display_data"
    }
   ],
   "source": [
    "import numpy as np\n",
    "import matplotlib.pyplot as plt\n",
    "\n",
    "# Create a 5x5 grayscale image (2D array)\n",
    "img = np.array([\n",
    "    [0, 50, 100, 150, 200],\n",
    "    [200, 150, 100, 50, 0],\n",
    "    [0, 50, 255, 50, 0],\n",
    "    [100, 100, 100, 100, 100],\n",
    "    [255, 200, 150, 100, 50]\n",
    "], dtype=np.uint8)\n",
    "\n",
    "plt.imshow(img, cmap='gray')  # Display as grayscale\n",
    "plt.axis('off')\n",
    "plt.show()\n"
   ]
  },
  {
   "cell_type": "code",
   "execution_count": 51,
   "id": "38366aba",
   "metadata": {},
   "outputs": [
    {
     "data": {
      "image/png": "[encoded data removed]",
      "text/plain": [
       "<Figure size 640x480 with 1 Axes>"
      ]
     },
     "metadata": {},
     "output_type": "display_data"
    }
   ],
   "source": [
    "img = np.zeros((5, 5, 3), dtype=np.uint8)\n",
    "\n",
    "# Make the top-left pixel red\n",
    "img[0, 0] = [255, 0, 0]  # Red\n",
    "\n",
    "# Make the center pixel green\n",
    "img[2, 2] = [0, 255, 0]  # Green\n",
    "\n",
    "# Make the bottom-right pixel blue\n",
    "img[4, 4] = [0, 0, 255]  # Blue\n",
    "\n",
    "plt.imshow(img)\n",
    "plt.axis('off')\n",
    "plt.show()\n"
   ]
  }
 ],
 "metadata": {
  "kernelspec": {
   "display_name": ".venv",
   "language": "python",
   "name": "python3"
  },
  "language_info": {
   "codemirror_mode": {
    "name": "ipython",
    "version": 3
   },
   "file_extension": ".py",
   "mimetype": "text/x-python",
   "name": "python",
   "nbconvert_exporter": "python",
   "pygments_lexer": "ipython3",
   "version": "3.13.1"
  }
 },
 "nbformat": 4,
 "nbformat_minor": 5
}
