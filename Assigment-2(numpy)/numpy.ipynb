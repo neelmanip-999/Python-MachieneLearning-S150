{
 "cells": [
  {
   "cell_type": "markdown",
   "id": "ada47e62",
   "metadata": {},
   "source": [
    "Part-I Numpy Questions\n",
    "Objective:\n",
    "To build a strong foundation in using NumPy for numerical computations,\n",
    "including creating arrays, performing operations, and leveraging its\n",
    "powerful functionalities."
   ]
  },
  {
   "cell_type": "markdown",
   "id": "00a3566b",
   "metadata": {},
   "source": [
    "Task 1: Creating Arrays\n",
    "1. Write a Python program to:\n",
    "--> Create a 1D NumPy array of 10 integers ranging from 1 to 10.\n",
    "--> Create a 2D NumPy array of shape (3, 3) with integers from 1 to 9.\n",
    "--> Create a 3D NumPy array with random floating-point numbers of shape (3, 5, 3).\n",
    "2. Display the shape, size, and datatype of each array"
   ]
  },
  {
   "cell_type": "code",
   "execution_count": 7,
   "id": "a0831d25",
   "metadata": {},
   "outputs": [
    {
     "name": "stdout",
     "output_type": "stream",
     "text": [
      "(10,)\n",
      "10\n",
      "<class 'numpy.ndarray'>\n"
     ]
    },
    {
     "data": {
      "text/plain": [
       "array([1, 3, 6, 3, 9, 6, 4, 9, 3, 9], dtype=int32)"
      ]
     },
     "execution_count": 7,
     "metadata": {},
     "output_type": "execute_result"
    }
   ],
   "source": [
    "import numpy as np\n",
    "l1=np.random.randint(1,11,10)\n",
    "print(l1.shape)\n",
    "print(l1.size)\n",
    "print(type(l1))\n",
    "l1\n"
   ]
  },
  {
   "cell_type": "code",
   "execution_count": 9,
   "id": "fc5f9601",
   "metadata": {},
   "outputs": [
    {
     "name": "stdout",
     "output_type": "stream",
     "text": [
      "(3, 3)\n",
      "9\n",
      "<class 'numpy.ndarray'>\n"
     ]
    },
    {
     "data": {
      "text/plain": [
       "array([[2, 8, 5],\n",
       "       [1, 5, 4],\n",
       "       [8, 5, 7]], dtype=int32)"
      ]
     },
     "execution_count": 9,
     "metadata": {},
     "output_type": "execute_result"
    }
   ],
   "source": [
    "import numpy as np\n",
    "l2=np.random.randint(1,10,9).reshape(3,3)\n",
    "print(l2.shape)\n",
    "print(l2.size)\n",
    "print(type(l2))\n",
    "l2"
   ]
  },
  {
   "cell_type": "code",
   "execution_count": 13,
   "id": "a73db22f",
   "metadata": {},
   "outputs": [
    {
     "name": "stdout",
     "output_type": "stream",
     "text": [
      "(3, 5, 3)\n",
      "45\n",
      "<class 'numpy.ndarray'>\n"
     ]
    },
    {
     "data": {
      "text/plain": [
       "array([[[0.20944813, 0.1141704 , 0.33900474],\n",
       "        [0.54156809, 0.77270845, 0.45054271],\n",
       "        [0.39776692, 0.1799548 , 0.05853813],\n",
       "        [0.63438989, 0.41184282, 0.40815208],\n",
       "        [0.76736878, 0.49996463, 0.94202117]],\n",
       "\n",
       "       [[0.4741844 , 0.70248061, 0.2414695 ],\n",
       "        [0.59260942, 0.69936831, 0.49976674],\n",
       "        [0.85876242, 0.18048776, 0.09070577],\n",
       "        [0.83280531, 0.01062013, 0.60703839],\n",
       "        [0.46561512, 0.44748443, 0.06638304]],\n",
       "\n",
       "       [[0.61275257, 0.28598363, 0.72974437],\n",
       "        [0.12026133, 0.31520549, 0.36639818],\n",
       "        [0.18758917, 0.38782425, 0.19296345],\n",
       "        [0.50659899, 0.13068912, 0.17745502],\n",
       "        [0.54281253, 0.74151839, 0.32675268]]])"
      ]
     },
     "execution_count": 13,
     "metadata": {},
     "output_type": "execute_result"
    }
   ],
   "source": [
    "import numpy as np\n",
    "l3=np.random.rand(3,5,3)\n",
    "print(l3.shape)\n",
    "print(l3.size)\n",
    "print(type(l3))\n",
    "l3"
   ]
  },
  {
   "cell_type": "markdown",
   "id": "64614b90",
   "metadata": {},
   "source": [
    "Task 2: Array Indexing and Slicing:-\n",
    "\n",
    "1. Create a NumPy array from the following list:\n",
    "-->data = [10, 20, 30, 40, 50, 60, 70, 80, 90]\n",
    "2. Write a Python program to:\n",
    "-->Retrieve the first three elements of the array.\n",
    "-->Retrieve every alternate element of the array.\n",
    "-->Reverse the array.\n",
    "3. Perform the above operations and display the results"
   ]
  },
  {
   "cell_type": "code",
   "execution_count": 17,
   "id": "6605d02f",
   "metadata": {},
   "outputs": [
    {
     "name": "stdout",
     "output_type": "stream",
     "text": [
      "[10 20 30]\n",
      "[10 30 50 70 90]\n",
      "[90 80 70 60 50 40 30 20 10]\n"
     ]
    }
   ],
   "source": [
    "import numpy as np\n",
    "data = [10, 20, 30, 40, 50, 60, 70, 80, 90]\n",
    "l1=np.array(data)\n",
    "print(l1[0:3])\n",
    "print(l1[::2])\n",
    "print(l1[::-1])\n"
   ]
  },
  {
   "cell_type": "markdown",
   "id": "c400304b",
   "metadata": {},
   "source": [
    "Task 3: Mathematical Operations:-\n",
    "1. Create two NumPy arrays, A and B, each with 5 random integers between 1 and 20.\n",
    "\n",
    "2. Write a Python program to:-\n",
    "\n",
    "--> Add, subtract, multiply, and divide the two arrays element-wise.\n",
    "--> Compute the dot product of the arrays.\n",
    "--> Find the mean, median, standard deviation, and variance o--> array A.\n",
    "--> Identify the maximum and minimum values in array B and their indices"
   ]
  },
  {
   "cell_type": "code",
   "execution_count": 26,
   "id": "612761c8",
   "metadata": {},
   "outputs": [
    {
     "name": "stdout",
     "output_type": "stream",
     "text": [
      "[13  8 14  2 19]\n",
      "[17  1 19 19  6]\n",
      "Addition : [30  9 33 21 25]\n",
      "Subtraction : [ -4   7  -5 -17  13]\n",
      "Multiplication : [221   8 266  38 114]\n",
      "Division: [0.76470588 8.         0.73684211 0.10526316 3.16666667]\n"
     ]
    }
   ],
   "source": [
    "# Add, subtract, multiply, and divide the two arrays element-wise.\n",
    "import numpy as np\n",
    "A=np.random.randint(1,20,5)\n",
    "B=np.random.randint(1,20,5)\n",
    "print(A)\n",
    "print(B)\n",
    "add=A+B\n",
    "sub=A-B\n",
    "mul=A*B\n",
    "div=A/B\n",
    "print(\"Addition :\",add)\n",
    "print(\"Subtraction :\",sub)\n",
    "print(\"Multiplication :\",mul)\n",
    "print(\"Division:\",div)"
   ]
  },
  {
   "cell_type": "code",
   "execution_count": 23,
   "id": "d85eed87",
   "metadata": {},
   "outputs": [
    {
     "name": "stdout",
     "output_type": "stream",
     "text": [
      "[14 10  6 12  5]\n",
      "[ 7 16  2 19 18]\n",
      "588\n"
     ]
    }
   ],
   "source": [
    "# Compute the dot product of the arrays.\n",
    "A=np.random.randint(1,20,5)\n",
    "B=np.random.randint(1,20,5)\n",
    "print(A)\n",
    "print(B)\n",
    "dot_product = np.dot(A, B)\n",
    "# Or alternatively:\n",
    "# dot_product = A @ B\n",
    "print(dot_product)\n"
   ]
  },
  {
   "cell_type": "code",
   "execution_count": 25,
   "id": "041114a3",
   "metadata": {},
   "outputs": [
    {
     "name": "stdout",
     "output_type": "stream",
     "text": [
      "[10  5 10  7 14]\n",
      "Mean : 9.2\n",
      "Median : 10.0\n",
      "Standard deviation : 3.059411708155671\n",
      "Varience : 9.36\n"
     ]
    }
   ],
   "source": [
    "# Find the mean, median, standard deviation, and variance o--> array A.\n",
    "A=np.random.randint(1,20,5)\n",
    "B=np.random.randint(1,20,5)\n",
    "print(A)\n",
    "print(\"Mean :\",np.mean(A))\n",
    "print(\"Median :\",np.median(A))\n",
    "print(\"Standard deviation :\",np.std(A))\n",
    "print(\"Varience :\",np.var(A))\n"
   ]
  },
  {
   "cell_type": "code",
   "execution_count": 27,
   "id": "4aa9e57a",
   "metadata": {},
   "outputs": [
    {
     "name": "stdout",
     "output_type": "stream",
     "text": [
      "[18 19 11  1  5]\n",
      "Maximum : 19\n",
      "Minimum : 1\n",
      "Maximum idx : 1\n",
      "Minimum idx : 3\n"
     ]
    }
   ],
   "source": [
    "# Identify the maximum and minimum values in array B and their indices\n",
    "A=np.random.randint(1,20,5)\n",
    "B=np.random.randint(1,20,5)\n",
    "print(B)\n",
    "print(\"Maximum :\",np.max(B))\n",
    "print(\"Minimum :\",np.min(B))\n",
    "print(\"Maximum idx :\",np.argmax(B))\n",
    "print(\"Minimum idx :\",np.argmin(B))"
   ]
  },
  {
   "cell_type": "markdown",
   "id": "545711a2",
   "metadata": {},
   "source": [
    "Task 4: Reshaping and Transposing\n",
    "1. Create a 1D NumPy array of 12 integers ranging from 1 to 12.\n",
    "2. Write a Python program to:\n",
    "-->Reshape the array into a 2D array of shape (4, 3).\n",
    "-->Reshape the array into a 3D array of shape (2, 2, 3).\n",
    "-->Transpose the reshaped 2D array and display its shape."
   ]
  },
  {
   "cell_type": "code",
   "execution_count": 40,
   "id": "ca9b37d6",
   "metadata": {},
   "outputs": [
    {
     "name": "stdout",
     "output_type": "stream",
     "text": [
      "[ 8  9  6  4 10  3  9  4  2  7  9  6]\n",
      "2D Array of Size 4X3\n",
      "[[ 8  9  6]\n",
      " [ 4 10  3]\n",
      " [ 9  4  2]\n",
      " [ 7  9  6]]\n",
      "3D Array of Size 2X2X3  \n",
      "[[[ 8  9  6]\n",
      "  [ 4 10  3]]\n",
      "\n",
      " [[ 9  4  2]\n",
      "  [ 7  9  6]]]\n",
      "Transpose of 2D Array\n",
      "[[ 8  4  9  7]\n",
      " [ 9 10  4  9]\n",
      " [ 6  3  2  6]]\n",
      "Transpose of 2D Array and its shape\n",
      "(3, 4)\n"
     ]
    }
   ],
   "source": [
    "import numpy as np\n",
    "\n",
    "l1=np.random.randint(1,12,12)\n",
    "print(l1)\n",
    "print(\"2D Array of Size 4X3\")\n",
    "print(l1.reshape(4,3))\n",
    "print(\"3D Array of Size 2X2X3  \")\n",
    "print(l1.reshape(2,2,3))\n",
    "print(\"Transpose of 2D Array\")\n",
    "print(np.transpose(l1.reshape(4,3)))\n",
    "print(\"Transpose of 2D Array and its shape\")\n",
    "print(np.transpose(l1.reshape(4,3)).shape)\n"
   ]
  },
  {
   "cell_type": "markdown",
   "id": "b99a1de0",
   "metadata": {},
   "source": [
    "Task 5: Boolean Masking and Filtering:-\n",
    "\n",
    "1. Create a NumPy array with 15 random integers between 10 and 50.\n",
    "2. Write a Python program to:\n",
    "-->Find all elements greater than 25.\n",
    "-->Replace all elements less than 30 with 0.\n",
    "-->Count the number of elements divisible by 5."
   ]
  },
  {
   "cell_type": "code",
   "execution_count": 60,
   "id": "36cbed6d",
   "metadata": {},
   "outputs": [
    {
     "name": "stdout",
     "output_type": "stream",
     "text": [
      "[48 36 27 18 11 13 40 48 34 20 16 36 11 24 46]\n",
      "Numbers Greater than 25 :\n",
      "[48 36 27 40 48 34 36 46]\n",
      "Replacing all elements less than 30 with 0 :\n",
      "[48 36  0  0  0  0 40 48 34  0  0 36  0  0 46]\n",
      "number of nonZero elements divisible by 5\n",
      "1\n",
      "number of  elements divisible by 5\n",
      "9\n"
     ]
    }
   ],
   "source": [
    "import numpy as np\n",
    "\n",
    "l2=np.random.randint(10,50,15)\n",
    "print(l2)\n",
    "print(\"Numbers Greater than 25 :\")\n",
    "print(l2[l2>25])\n",
    "print(\"Replacing all elements less than 30 with 0 :\")\n",
    "l2[l2<30]=0\n",
    "print(l2)\n",
    "print(\"number of nonZero elements divisible by 5\")\n",
    "print(np.count_nonzero(l2[l2%5==0]))\n",
    "print(\"number of  elements divisible by 5\")\n",
    "print(np.count_nonzero(l2%5==0))\n"
   ]
  },
  {
   "cell_type": "markdown",
   "id": "cf4a5c72",
   "metadata": {},
   "source": [
    "Task 6: Working with Built-in Functions:-\n",
    "\n",
    "1. Use NumPy's built-in functions to:\n",
    "-->Create an array of 10 equally spaced values between 0 and 1.\n",
    "-->Create an identity matrix of size 4x4.\n",
    "-->Generate a 1D array of 20 random integers between 1 and 100, sort it, and find the 5 largest elements."
   ]
  },
  {
   "cell_type": "code",
   "execution_count": null,
   "id": "b1fcbe70",
   "metadata": {},
   "outputs": [
    {
     "name": "stdout",
     "output_type": "stream",
     "text": [
      "Array of 10 equally spaced values between 0 and 1 \n",
      "\n",
      "[0.         0.11111111 0.22222222 0.33333333 0.44444444 0.55555556\n",
      " 0.66666667 0.77777778 0.88888889 1.        ]\n"
     ]
    }
   ],
   "source": [
    "# Create an array of 10 equally spaced values between 0 and 1.\n",
    "import numpy as np\n",
    "l1=np.linspace(0,1,10)\n",
    "print(\"Array of 10 equally spaced values between 0 and 1 \\n\")\n",
    "print(l1)"
   ]
  },
  {
   "cell_type": "code",
   "execution_count": 67,
   "id": "a89f452a",
   "metadata": {},
   "outputs": [
    {
     "name": "stdout",
     "output_type": "stream",
     "text": [
      "[[1 0 0 0]\n",
      " [0 1 0 0]\n",
      " [0 0 1 0]\n",
      " [0 0 0 1]]\n"
     ]
    }
   ],
   "source": [
    "# Create an identity matrix of size 4x4.\n",
    "import numpy as np\n",
    "print(np.eye(4,dtype=\"int\"))"
   ]
  },
  {
   "cell_type": "code",
   "execution_count": 77,
   "id": "d6abe363",
   "metadata": {},
   "outputs": [
    {
     "name": "stdout",
     "output_type": "stream",
     "text": [
      "Original Array :-\n",
      "[90 44 21  1 43 16 12 64 48 33 10 75 63 15 48 44 47 64 58 63]\n",
      "Sorted Array :-\n",
      "[ 1 10 12 15 16 21 33 43 44 44 47 48 48 58 63 63 64 64 75 90]\n",
      "5 largest elements\n",
      "[90 75 64 64 63]\n"
     ]
    }
   ],
   "source": [
    "# Generate a 1D array of 20 random integers between 1 and 100, sort it, and find the 5 largest elements.\n",
    "\n",
    "import numpy as np\n",
    "l3=np.random.randint(1,100,20)\n",
    "print(\"Original Array :-\")\n",
    "print(l3)\n",
    "print(\"Sorted Array :-\")\n",
    "print(np.sort(l3))\n",
    "print(\"5 largest elements\")\n",
    "print(np.sort(l3)[-5:][::-1])"
   ]
  },
  {
   "cell_type": "markdown",
   "id": "e2cfbeb9",
   "metadata": {},
   "source": [
    "Task 7: Generic:-\n",
    "\n",
    "1. Create a Python program that:\n",
    "-->Generates two large random arrays of size (100, 100).\n",
    "-->Performs matrix multiplication on the two arrays.\n",
    "-->Finds the determinant and inverse of the resulting matrix (if possible).\n",
    "-->Measures the time taken to complete these operations."
   ]
  },
  {
   "cell_type": "code",
   "execution_count": 89,
   "id": "79778f07",
   "metadata": {},
   "outputs": [
    {
     "name": "stdout",
     "output_type": "stream",
     "text": [
      "Operation Start time :1751652537.6609411 \n",
      "\n",
      "Matrix multiplication completed.\n",
      "\n",
      "[[26.4601817  26.47685546 25.83436237 ... 26.72032976 25.9993785\n",
      "  24.03310171]\n",
      " [25.74721092 25.1406355  26.0826706  ... 27.53715657 25.6710559\n",
      "  23.94330322]\n",
      " [22.74633226 23.50352504 23.53090917 ... 25.22576455 22.3266705\n",
      "  22.46491098]\n",
      " ...\n",
      " [25.10892647 23.8649277  23.60950098 ... 25.47519132 23.65322513\n",
      "  23.10770176]\n",
      " [25.19401758 24.30116987 25.7187958  ... 25.61652499 24.17607341\n",
      "  23.88237298]\n",
      " [26.36444608 25.8408668  26.79977312 ... 27.0247361  26.46634642\n",
      "  23.11083803]] \n",
      "\n",
      "Determinant of the result: -2.363446161715872e+49 \n",
      "\n",
      "Operation end time :1751652537.7554245 \n",
      "\n",
      "Matrix is invertible.\n",
      "Inverse matrix calculated successfully.\n",
      "[[ 3.99279510e-02 -3.18502334e-01  4.00526252e+00 ... -4.00843455e+00\n",
      "   9.09597981e-02 -1.68982973e+00]\n",
      " [-5.83424723e+00 -7.27724759e-02  4.61295711e+01 ... -4.52193287e+01\n",
      "   6.02412881e+00 -1.68649112e+01]\n",
      " [-1.08508803e+01 -7.25944045e-01  8.20014573e+01 ... -8.23163009e+01\n",
      "   1.20500690e+01 -3.00198489e+01]\n",
      " ...\n",
      " [-3.60910410e+00 -6.53901968e-01  2.89282672e+01 ... -2.85767563e+01\n",
      "   3.46699468e+00 -1.04583117e+01]\n",
      " [ 3.98684514e+00  1.31076849e+00 -3.51912504e+01 ...  3.54042653e+01\n",
      "  -4.74208379e+00  1.32681027e+01]\n",
      " [-1.33853268e+01 -6.32875491e-01  1.02659689e+02 ... -1.02274122e+02\n",
      "   1.47553737e+01 -3.72157518e+01]] \n",
      "\n",
      "Time taken: 0.0945 seconds\n"
     ]
    }
   ],
   "source": [
    "import numpy as np\n",
    "import time\n",
    "\n",
    "# Step 1: Generate two random 100x100 arrays\n",
    "A = np.random.rand(100, 100)\n",
    "B = np.random.rand(100, 100)\n",
    "\n",
    "# Step 2: Start the timer\n",
    "start_time = time.time()\n",
    "print(f\"Operation Start time :{start_time} \\n\")\n",
    "\n",
    "# Step 3: Matrix multiplication\n",
    "C = np.dot(A, B)\n",
    "print(\"Matrix multiplication completed.\\n\")\n",
    "print(C,\"\\n\")\n",
    "\n",
    "\n",
    "# Step 4: Calculate determinant\n",
    "det_C = np.linalg.det(C)\n",
    "print(f\"Determinant of the result: {det_C} \\n\")\n",
    "\n",
    "\n",
    "# Step 5: Try to calculate inverse if determinant is not zero\n",
    "if np.isclose(det_C, 0):\n",
    "    inverse_C = None\n",
    "    invertible = False\n",
    "else:\n",
    "    inverse_C = np.linalg.inv(C)\n",
    "    invertible = True\n",
    "\n",
    "# Step 6: End the timer\n",
    "end_time = time.time()\n",
    "print(f\"Operation end time :{end_time} \\n\")\n",
    "\n",
    "elapsed_time = end_time - start_time\n",
    "\n",
    "# Step 7: Print results\n",
    "print(\"Matrix is invertible.\" if invertible else \"Matrix is not invertible.\")\n",
    "if invertible:\n",
    "    print(\"Inverse matrix calculated successfully.\")\n",
    "    print(inverse_C,\"\\n\")\n",
    "print(f\"Time taken: {elapsed_time:.4f} seconds\")\n"
   ]
  },
  {
   "cell_type": "code",
   "execution_count": null,
   "id": "633b03e2",
   "metadata": {},
   "outputs": [],
   "source": []
  }
 ],
 "metadata": {
  "kernelspec": {
   "display_name": ".venv",
   "language": "python",
   "name": "python3"
  },
  "language_info": {
   "codemirror_mode": {
    "name": "ipython",
    "version": 3
   },
   "file_extension": ".py",
   "mimetype": "text/x-python",
   "name": "python",
   "nbconvert_exporter": "python",
   "pygments_lexer": "ipython3",
   "version": "3.13.1"
  }
 },
 "nbformat": 4,
 "nbformat_minor": 5
}
