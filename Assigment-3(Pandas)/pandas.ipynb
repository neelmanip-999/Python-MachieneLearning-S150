{
 "cells": [
  {
   "cell_type": "markdown",
   "id": "34d6067a",
   "metadata": {},
   "source": [
    "Part-II Pandas Questions:-\n",
    "\n",
    "Assignment: Introduction to Pandas in Python\n",
    "Objective:\n",
    "To understand the basics of Pandas for data manipulation, analysis, and\n",
    "visualization, focusing on Series, DataFrames, and essential operations."
   ]
  },
  {
   "cell_type": "markdown",
   "id": "379989b0",
   "metadata": {},
   "source": [
    "Task 1: Working with Series:-\n",
    "\n",
    "1. Create a Pandas Series from the following list:\n",
    "data = [25, 30, 35, 40, 45]\n",
    "2. Write a Python program to:\n",
    "-->Assign custom indices ['A', 'B', 'C', 'D', 'E'] to the Series.\n",
    "-->Display the first three elements of the Series.\n",
    "-->Calculate the mean, median, and standard deviation of the Series."
   ]
  },
  {
   "cell_type": "code",
   "execution_count": 9,
   "id": "85f4a20b",
   "metadata": {},
   "outputs": [
    {
     "name": "stdout",
     "output_type": "stream",
     "text": [
      " \n",
      " Original series\n",
      "<module 'pandas' from 'c:\\\\Users\\\\asus\\\\OneDrive\\\\Desktop\\\\Super150-ML\\\\.venv\\\\Lib\\\\site-packages\\\\pandas\\\\__init__.py'>\n",
      "\n",
      " Series with index\n",
      "A    25\n",
      "B    30\n",
      "C    35\n",
      "D    40\n",
      "E    45\n",
      "dtype: int64\n",
      "\n",
      " Displaying the first three elements of the Series.\n",
      "A    25\n",
      "B    30\n",
      "C    35\n",
      "dtype: int64\n",
      "\n",
      " Statistics:\n",
      "Mean : 35.0\n",
      "Median : 35.0\n",
      "Standard deviation : 7.905694150420948\n"
     ]
    }
   ],
   "source": [
    "import pandas as pd\n",
    "data = [25, 30, 35, 40, 45]\n",
    "\n",
    "pds=pd.Series(data)\n",
    "print(\" \\n Original series\")\n",
    "print(pd)\n",
    "\n",
    "print(\"\\n Series with index\")\n",
    "pds.index=['A', 'B', 'C', 'D', 'E']\n",
    "print(pds)\n",
    "\n",
    "print(\"\\n Displaying the first three elements of the Series.\")\n",
    "print(pds.head(3))\n",
    "\n",
    "print(\"\\n Statistics:\")\n",
    "print(f\"Mean : {pds.mean()}\")\n",
    "print(f\"Median : {pds.median()}\")\n",
    "print(f\"Standard deviation : {pds.std()}\")\n"
   ]
  },
  {
   "cell_type": "markdown",
   "id": "c0aafbc8",
   "metadata": {},
   "source": [
    "Task 2: Creating and Inspecting DataFrames:-\n",
    "\n",
    "\n",
    "1.  Create a Pandas DataFrame with the following data: \n",
    "Name Age Gender Marks \n",
    "Alice 20 Female  85 \n",
    "Bob 22 Male 78 \n",
    "Carol 19 Female  92 \n",
    "David  21 Male 74 \n",
    "Eve 20 Female  88 \n",
    " \n",
    "2.  Write a Python program to: \n",
    "-->Display the first two rows of the DataFrame. \n",
    "-->Display the column names, data types, and summary statistics. \n",
    "-->Add a new column Passed that contains True if Marks >= 80 and False otherwise. "
   ]
  },
  {
   "cell_type": "code",
   "execution_count": null,
   "id": "68265392",
   "metadata": {},
   "outputs": [
    {
     "name": "stdout",
     "output_type": "stream",
     "text": [
      "Displaying the Dataframe:-\n",
      "    Name  Age  Gender  Marks\n",
      "0  Alice   20  Female     85\n",
      "1    Bob   22    Male     78\n",
      "2  Carol   19  Female     92\n",
      "3  David   21    Male     74\n",
      "4    Eve   20  Female     88\n",
      "\n",
      " first two rows of the DataFrame :-\n",
      "    Name  Age  Gender  Marks\n",
      "0  Alice   20  Female     85\n",
      "1    Bob   22    Male     78\n",
      "\n",
      " Statisctis:-\n",
      "             Age      Marks\n",
      "count   5.000000   5.000000\n",
      "mean   20.400000  83.400000\n",
      "std     1.140175   7.334848\n",
      "min    19.000000  74.000000\n",
      "25%    20.000000  78.000000\n",
      "50%    20.000000  85.000000\n",
      "75%    21.000000  88.000000\n",
      "max    22.000000  92.000000\n",
      "\n",
      " Columns names :-\n",
      "Index(['Name', 'Age', 'Gender', 'Marks'], dtype='object')\n"
     ]
    },
    {
     "data": {
      "application/vnd.microsoft.datawrangler.viewer.v0+json": {
       "columns": [
        {
         "name": "index",
         "rawType": "int64",
         "type": "integer"
        },
        {
         "name": "Name",
         "rawType": "object",
         "type": "string"
        },
        {
         "name": "Age",
         "rawType": "int64",
         "type": "integer"
        },
        {
         "name": "Gender",
         "rawType": "object",
         "type": "string"
        },
        {
         "name": "Marks",
         "rawType": "int64",
         "type": "integer"
        },
        {
         "name": "Passed",
         "rawType": "bool",
         "type": "boolean"
        }
       ],
       "ref": "acd9236f-1465-46b8-b414-e5657124fd7a",
       "rows": [
        [
         "0",
         "Alice",
         "20",
         "Female",
         "85",
         "True"
        ],
        [
         "1",
         "Bob",
         "22",
         "Male",
         "78",
         "False"
        ],
        [
         "2",
         "Carol",
         "19",
         "Female",
         "92",
         "True"
        ],
        [
         "3",
         "David",
         "21",
         "Male",
         "74",
         "False"
        ],
        [
         "4",
         "Eve",
         "20",
         "Female",
         "88",
         "True"
        ]
       ],
       "shape": {
        "columns": 5,
        "rows": 5
       }
      },
      "text/html": [
       "<div>\n",
       "<style scoped>\n",
       "    .dataframe tbody tr th:only-of-type {\n",
       "        vertical-align: middle;\n",
       "    }\n",
       "\n",
       "    .dataframe tbody tr th {\n",
       "        vertical-align: top;\n",
       "    }\n",
       "\n",
       "    .dataframe thead th {\n",
       "        text-align: right;\n",
       "    }\n",
       "</style>\n",
       "<table border=\"1\" class=\"dataframe\">\n",
       "  <thead>\n",
       "    <tr style=\"text-align: right;\">\n",
       "      <th></th>\n",
       "      <th>Name</th>\n",
       "      <th>Age</th>\n",
       "      <th>Gender</th>\n",
       "      <th>Marks</th>\n",
       "      <th>Passed</th>\n",
       "    </tr>\n",
       "  </thead>\n",
       "  <tbody>\n",
       "    <tr>\n",
       "      <th>0</th>\n",
       "      <td>Alice</td>\n",
       "      <td>20</td>\n",
       "      <td>Female</td>\n",
       "      <td>85</td>\n",
       "      <td>True</td>\n",
       "    </tr>\n",
       "    <tr>\n",
       "      <th>1</th>\n",
       "      <td>Bob</td>\n",
       "      <td>22</td>\n",
       "      <td>Male</td>\n",
       "      <td>78</td>\n",
       "      <td>False</td>\n",
       "    </tr>\n",
       "    <tr>\n",
       "      <th>2</th>\n",
       "      <td>Carol</td>\n",
       "      <td>19</td>\n",
       "      <td>Female</td>\n",
       "      <td>92</td>\n",
       "      <td>True</td>\n",
       "    </tr>\n",
       "    <tr>\n",
       "      <th>3</th>\n",
       "      <td>David</td>\n",
       "      <td>21</td>\n",
       "      <td>Male</td>\n",
       "      <td>74</td>\n",
       "      <td>False</td>\n",
       "    </tr>\n",
       "    <tr>\n",
       "      <th>4</th>\n",
       "      <td>Eve</td>\n",
       "      <td>20</td>\n",
       "      <td>Female</td>\n",
       "      <td>88</td>\n",
       "      <td>True</td>\n",
       "    </tr>\n",
       "  </tbody>\n",
       "</table>\n",
       "</div>"
      ],
      "text/plain": [
       "    Name  Age  Gender  Marks  Passed\n",
       "0  Alice   20  Female     85    True\n",
       "1    Bob   22    Male     78   False\n",
       "2  Carol   19  Female     92    True\n",
       "3  David   21    Male     74   False\n",
       "4    Eve   20  Female     88    True"
      ]
     },
     "execution_count": 30,
     "metadata": {},
     "output_type": "execute_result"
    }
   ],
   "source": [
    "import pandas as pd\n",
    "data = {\n",
    "    'Name': ['Alice', 'Bob', 'Carol', 'David', 'Eve'],\n",
    "    'Age': [20, 22, 19, 21, 20],\n",
    "    'Gender': ['Female', 'Male', 'Female', 'Male', 'Female'],\n",
    "    'Marks': [85, 78, 92, 74, 88]\n",
    "}\n",
    "\n",
    "\n",
    "df = pd.DataFrame(data)\n",
    "print(\"Displaying the Dataframe:-\")\n",
    "print(df)\n",
    "\n",
    "# Display the first two rows of the DataFrame.\n",
    "print(\"\\n first two rows of the DataFrame :-\")\n",
    "print(df.head(2))\n",
    "\n",
    "# Display the column names, data types, and summary statistics. \n",
    "print(\"\\n Statisctis:-\")\n",
    "print(df.describe())\n",
    "print(\"\\n Columns names :-\")\n",
    "print(df.columns)\n",
    "\n",
    "# Add a new column Passed that contains True if Marks >= 80 and False otherwise.\n",
    "df['Passed']=df['Marks']>=80\n",
    "df\n",
    "\n"
   ]
  },
  {
   "cell_type": "markdown",
   "id": "3165088e",
   "metadata": {},
   "source": [
    "Task 3: Data Selection and Filtering:-\n",
    "\n",
    "1. Using the DataFrame from Task 2, write a Python program to:\n",
    "-->Select and display the Name and Marks columns.\n",
    "-->Filter and display records where Marks > 80.\n",
    "-->Display the record of the student with the highest marks.\n"
   ]
  },
  {
   "cell_type": "code",
   "execution_count": null,
   "id": "0276237a",
   "metadata": {},
   "outputs": [
    {
     "name": "stdout",
     "output_type": "stream",
     "text": [
      " \n",
      " Displaying the Dataframe:-\n",
      "    Name  Age  Gender  Marks\n",
      "0  Alice   20  Female     85\n",
      "1    Bob   22    Male     78\n",
      "2  Carol   19  Female     92\n",
      "3  David   21    Male     74\n",
      "4    Eve   20  Female     88\n",
      " \n",
      " displaying the Name and Marks columns\n",
      "    Name  Marks\n",
      "0  Alice     85\n",
      "1    Bob     78\n",
      "2  Carol     92\n",
      "3  David     74\n",
      "4    Eve     88\n",
      " \n",
      " displaying records where Marks > 80\n",
      "    Name  Age  Gender  Marks\n",
      "2  Carol   19  Female     92\n"
     ]
    }
   ],
   "source": [
    "import pandas as pd\n",
    "data = {\n",
    "    'Name': ['Alice', 'Bob', 'Carol', 'David', 'Eve'],\n",
    "    'Age': [20, 22, 19, 21, 20],\n",
    "    'Gender': ['Female', 'Male', 'Female', 'Male', 'Female'],\n",
    "    'Marks': [85, 78, 92, 74, 88]\n",
    "}\n",
    "\n",
    "# Displaying the Dataframe:-\n",
    "df = pd.DataFrame(data)\n",
    "print(\" \\n Displaying the Dataframe:-\")\n",
    "print(df)\n",
    "\n",
    "# Select and display the Name and Marks columns.\n",
    "print(\" \\n displaying the Name and Marks columns :-\")\n",
    "print(df[['Name','Marks']])\n",
    "\n",
    "\n",
    "# Filter and display records where Marks > 80\n",
    "print(\" \\n displaying records where Marks > 80\")\n",
    "df[df['Marks']>80]\n",
    "\n",
    "# Get the row with the maximum marks\n",
    "top_scorer = df[df['Marks'] == df['Marks'].max()]\n",
    "print(top_scorer)\n",
    "\n"
   ]
  },
  {
   "cell_type": "markdown",
   "id": "e53cb7fa",
   "metadata": {},
   "source": [
    "Task 4: Handling Missing Data\n",
    "1. Modify the DataFrame from Task 2 by introducing missing values:\n",
    "2. df.loc[1, 'Marks'] = None\n",
    "3. df.loc[4, 'Age'] = None\n",
    "4. Write a Python program to:\n",
    "-->Identify missing values in the DataFrame.\n",
    "-->Fill missing values in the Marks column with the column's mean.\n",
    "-->Drop rows where the Age column has missing values."
   ]
  },
  {
   "cell_type": "markdown",
   "id": "916bd755",
   "metadata": {},
   "source": []
  },
  {
   "cell_type": "code",
   "execution_count": 58,
   "id": "6fb9af8c",
   "metadata": {},
   "outputs": [
    {
     "name": "stdout",
     "output_type": "stream",
     "text": [
      "Original Dataframe:-\n",
      "    Name  Age  Gender  Marks\n",
      "0  Alice   20  Female     85\n",
      "1    Bob   22    Male     78\n",
      "2  Carol   19  Female     92\n",
      "3  David   21    Male     74\n",
      "4    Eve   20  Female     88\n",
      " \n",
      " Identify missing values in the DataFrame (True=missing):-\n",
      "    Name    Age  Gender  Marks\n",
      "0  False  False   False  False\n",
      "1  False  False   False   True\n",
      "2  False  False   False  False\n",
      "3  False  False   False  False\n",
      "4  False   True   False  False\n",
      "\n",
      " Filling missing values in the Marks column with the column's mean:-\n",
      "    Name   Age  Gender  Marks\n",
      "0  Alice  20.0  Female  85.00\n",
      "1    Bob  22.0    Male  84.75\n",
      "2  Carol  19.0  Female  92.00\n",
      "3  David  21.0    Male  74.00\n",
      "4    Eve   NaN  Female  88.00\n",
      " \n",
      " Drop rows where the Age column has missing values:-\n"
     ]
    },
    {
     "data": {
      "application/vnd.microsoft.datawrangler.viewer.v0+json": {
       "columns": [
        {
         "name": "index",
         "rawType": "int64",
         "type": "integer"
        },
        {
         "name": "Name",
         "rawType": "object",
         "type": "string"
        },
        {
         "name": "Age",
         "rawType": "float64",
         "type": "float"
        },
        {
         "name": "Gender",
         "rawType": "object",
         "type": "string"
        },
        {
         "name": "Marks",
         "rawType": "float64",
         "type": "float"
        }
       ],
       "ref": "424a5d44-d1c9-4602-904e-811b656ec417",
       "rows": [
        [
         "0",
         "Alice",
         "20.0",
         "Female",
         "85.0"
        ],
        [
         "1",
         "Bob",
         "22.0",
         "Male",
         "84.75"
        ],
        [
         "2",
         "Carol",
         "19.0",
         "Female",
         "92.0"
        ],
        [
         "3",
         "David",
         "21.0",
         "Male",
         "74.0"
        ]
       ],
       "shape": {
        "columns": 4,
        "rows": 4
       }
      },
      "text/html": [
       "<div>\n",
       "<style scoped>\n",
       "    .dataframe tbody tr th:only-of-type {\n",
       "        vertical-align: middle;\n",
       "    }\n",
       "\n",
       "    .dataframe tbody tr th {\n",
       "        vertical-align: top;\n",
       "    }\n",
       "\n",
       "    .dataframe thead th {\n",
       "        text-align: right;\n",
       "    }\n",
       "</style>\n",
       "<table border=\"1\" class=\"dataframe\">\n",
       "  <thead>\n",
       "    <tr style=\"text-align: right;\">\n",
       "      <th></th>\n",
       "      <th>Name</th>\n",
       "      <th>Age</th>\n",
       "      <th>Gender</th>\n",
       "      <th>Marks</th>\n",
       "    </tr>\n",
       "  </thead>\n",
       "  <tbody>\n",
       "    <tr>\n",
       "      <th>0</th>\n",
       "      <td>Alice</td>\n",
       "      <td>20.0</td>\n",
       "      <td>Female</td>\n",
       "      <td>85.00</td>\n",
       "    </tr>\n",
       "    <tr>\n",
       "      <th>1</th>\n",
       "      <td>Bob</td>\n",
       "      <td>22.0</td>\n",
       "      <td>Male</td>\n",
       "      <td>84.75</td>\n",
       "    </tr>\n",
       "    <tr>\n",
       "      <th>2</th>\n",
       "      <td>Carol</td>\n",
       "      <td>19.0</td>\n",
       "      <td>Female</td>\n",
       "      <td>92.00</td>\n",
       "    </tr>\n",
       "    <tr>\n",
       "      <th>3</th>\n",
       "      <td>David</td>\n",
       "      <td>21.0</td>\n",
       "      <td>Male</td>\n",
       "      <td>74.00</td>\n",
       "    </tr>\n",
       "  </tbody>\n",
       "</table>\n",
       "</div>"
      ],
      "text/plain": [
       "    Name   Age  Gender  Marks\n",
       "0  Alice  20.0  Female  85.00\n",
       "1    Bob  22.0    Male  84.75\n",
       "2  Carol  19.0  Female  92.00\n",
       "3  David  21.0    Male  74.00"
      ]
     },
     "execution_count": 58,
     "metadata": {},
     "output_type": "execute_result"
    }
   ],
   "source": [
    "import pandas as pd\n",
    "data = {\n",
    "    'Name': ['Alice', 'Bob', 'Carol', 'David', 'Eve'],\n",
    "    'Age': [20, 22, 19, 21, 20],\n",
    "    'Gender': ['Female', 'Male', 'Female', 'Male', 'Female'],\n",
    "    'Marks': [85, 78, 92, 74, 88]\n",
    "}\n",
    "\n",
    "df=pd.DataFrame(data)\n",
    "print(\"Original Dataframe:-\")\n",
    "print(df)\n",
    "df.loc[1, 'Marks'] = None\n",
    "df.loc[4, 'Age'] = None\n",
    "\n",
    "# Identify missing values in the DataFrame.\n",
    "print(\" \\n Identify missing values in the DataFrame (True=missing):-\")\n",
    "print(df.isnull())\n",
    "\n",
    "# Fill missing values in the Marks column with the column's mean.\n",
    "print(\"\\n Filling missing values in the Marks column with the column's mean:-\")\n",
    "df['Marks']=df['Marks'].fillna(df['Marks'].mean())\n",
    "print(df)\n",
    "\n",
    "# Drop rows where the Age column has missing values.\n",
    "print(\" \\n Drop rows where the Age column has missing values:-\")\n",
    "df.dropna(subset=['Age'])"
   ]
  },
  {
   "cell_type": "markdown",
   "id": "f606f92d",
   "metadata": {},
   "source": [
    "Task 5: Grouping and Aggregation:-\n",
    "1. Using the DataFrame from Task 2, write a Python program to:\n",
    "-->Group the data by Gender and calculate the mean age and marks for each gender.\n",
    "-->Count the number of students in each gender group."
   ]
  },
  {
   "cell_type": "code",
   "execution_count": 70,
   "id": "580d83ae",
   "metadata": {},
   "outputs": [
    {
     "name": "stdout",
     "output_type": "stream",
     "text": [
      "Mean Age by Gender:\n",
      "Gender\n",
      "Female    19.666667\n",
      "Male      21.500000\n",
      "Name: Age, dtype: float64\n",
      " \n",
      "Mean Marks by Gender:\n",
      "Gender\n",
      "Female    88.333333\n",
      "Male      76.000000\n",
      "Name: Marks, dtype: float64\n",
      "\n",
      " number of students in each gender group:-\n",
      "Gender\n",
      "Female    3\n",
      "Male      2\n",
      "Name: Name, dtype: int64\n"
     ]
    }
   ],
   "source": [
    "import pandas as pd\n",
    "data = {\n",
    "    'Name': ['Alice', 'Bob', 'Carol', 'David', 'Eve'],\n",
    "    'Age': [20, 22, 19, 21, 20],\n",
    "    'Gender': ['Female', 'Male', 'Female', 'Male', 'Female'],\n",
    "    'Marks': [85, 78, 92, 74, 88]\n",
    "}\n",
    "df=pd.DataFrame(data)\n",
    "\n",
    "# Group the data by Gender and calculate the mean age and marks for each gender.\n",
    "\n",
    "group=df.groupby('Gender')\n",
    "print(\"Mean Age by Gender:\")\n",
    "print(group['Age'].mean())\n",
    "print(\" \\nMean Marks by Gender:\")\n",
    "print(group['Marks'].mean())\n",
    "\n",
    "# Count the number of students in each gender group.\n",
    "print(\"\\n number of students in each gender group:-\")\n",
    "print(group['Name'].count())\n",
    "\n",
    "\n",
    "\n",
    "\n"
   ]
  },
  {
   "cell_type": "markdown",
   "id": "5d18cc88",
   "metadata": {},
   "source": [
    "Task 6: Reading and Writing Data\n",
    "1. Write a Python program to:\n",
    "-->Save the modified DataFrame from Task 4 to a CSV file named students_data.csv.\n",
    "-->Read the CSV file into a new DataFrame.\n",
    "-->Display the first five rows of the newly loaded DataFrame."
   ]
  },
  {
   "cell_type": "code",
   "execution_count": 75,
   "id": "a1f74641",
   "metadata": {},
   "outputs": [
    {
     "name": "stdout",
     "output_type": "stream",
     "text": [
      "Original Dataframe:-\n",
      "    Name  Age  Gender  Marks\n",
      "0  Alice   20  Female     85\n",
      "1    Bob   22    Male     78\n",
      "2  Carol   19  Female     92\n",
      "3  David   21    Male     74\n",
      "4    Eve   20  Female     88\n",
      " \n",
      " Identify missing values in the DataFrame (True=missing):-\n",
      "    Name    Age  Gender  Marks\n",
      "0  False  False   False  False\n",
      "1  False  False   False   True\n",
      "2  False  False   False  False\n",
      "3  False  False   False  False\n",
      "4  False   True   False  False\n",
      "    Name   Age  Gender  Marks\n",
      "0  Alice  20.0  Female  85.00\n",
      "1    Bob  22.0    Male  84.75\n",
      "2  Carol  19.0  Female  92.00\n",
      "3  David  21.0    Male  74.00\n",
      "4    Eve   NaN  Female  88.00\n"
     ]
    },
    {
     "data": {
      "application/vnd.microsoft.datawrangler.viewer.v0+json": {
       "columns": [
        {
         "name": "index",
         "rawType": "int64",
         "type": "integer"
        },
        {
         "name": "Name",
         "rawType": "object",
         "type": "string"
        },
        {
         "name": "Age",
         "rawType": "float64",
         "type": "float"
        },
        {
         "name": "Gender",
         "rawType": "object",
         "type": "string"
        },
        {
         "name": "Marks",
         "rawType": "float64",
         "type": "float"
        }
       ],
       "ref": "53fb4a7d-2dcf-46ad-9bc2-28e33b307415",
       "rows": [
        [
         "0",
         "Alice",
         "20.0",
         "Female",
         "85.0"
        ],
        [
         "1",
         "Bob",
         "22.0",
         "Male",
         "84.75"
        ],
        [
         "2",
         "Carol",
         "19.0",
         "Female",
         "92.0"
        ],
        [
         "3",
         "David",
         "21.0",
         "Male",
         "74.0"
        ],
        [
         "4",
         "Eve",
         null,
         "Female",
         "88.0"
        ]
       ],
       "shape": {
        "columns": 4,
        "rows": 5
       }
      },
      "text/html": [
       "<div>\n",
       "<style scoped>\n",
       "    .dataframe tbody tr th:only-of-type {\n",
       "        vertical-align: middle;\n",
       "    }\n",
       "\n",
       "    .dataframe tbody tr th {\n",
       "        vertical-align: top;\n",
       "    }\n",
       "\n",
       "    .dataframe thead th {\n",
       "        text-align: right;\n",
       "    }\n",
       "</style>\n",
       "<table border=\"1\" class=\"dataframe\">\n",
       "  <thead>\n",
       "    <tr style=\"text-align: right;\">\n",
       "      <th></th>\n",
       "      <th>Name</th>\n",
       "      <th>Age</th>\n",
       "      <th>Gender</th>\n",
       "      <th>Marks</th>\n",
       "    </tr>\n",
       "  </thead>\n",
       "  <tbody>\n",
       "    <tr>\n",
       "      <th>0</th>\n",
       "      <td>Alice</td>\n",
       "      <td>20.0</td>\n",
       "      <td>Female</td>\n",
       "      <td>85.00</td>\n",
       "    </tr>\n",
       "    <tr>\n",
       "      <th>1</th>\n",
       "      <td>Bob</td>\n",
       "      <td>22.0</td>\n",
       "      <td>Male</td>\n",
       "      <td>84.75</td>\n",
       "    </tr>\n",
       "    <tr>\n",
       "      <th>2</th>\n",
       "      <td>Carol</td>\n",
       "      <td>19.0</td>\n",
       "      <td>Female</td>\n",
       "      <td>92.00</td>\n",
       "    </tr>\n",
       "    <tr>\n",
       "      <th>3</th>\n",
       "      <td>David</td>\n",
       "      <td>21.0</td>\n",
       "      <td>Male</td>\n",
       "      <td>74.00</td>\n",
       "    </tr>\n",
       "    <tr>\n",
       "      <th>4</th>\n",
       "      <td>Eve</td>\n",
       "      <td>NaN</td>\n",
       "      <td>Female</td>\n",
       "      <td>88.00</td>\n",
       "    </tr>\n",
       "  </tbody>\n",
       "</table>\n",
       "</div>"
      ],
      "text/plain": [
       "    Name   Age  Gender  Marks\n",
       "0  Alice  20.0  Female  85.00\n",
       "1    Bob  22.0    Male  84.75\n",
       "2  Carol  19.0  Female  92.00\n",
       "3  David  21.0    Male  74.00\n",
       "4    Eve   NaN  Female  88.00"
      ]
     },
     "execution_count": 75,
     "metadata": {},
     "output_type": "execute_result"
    }
   ],
   "source": [
    "import pandas as pd\n",
    "data = {\n",
    "    'Name': ['Alice', 'Bob', 'Carol', 'David', 'Eve'],\n",
    "    'Age': [20, 22, 19, 21, 20],\n",
    "    'Gender': ['Female', 'Male', 'Female', 'Male', 'Female'],\n",
    "    'Marks': [85, 78, 92, 74, 88]\n",
    "}\n",
    "\n",
    "df=pd.DataFrame(data)\n",
    "print(\"Original Dataframe:-\")\n",
    "print(df)\n",
    "df.loc[1, 'Marks'] = None\n",
    "df.loc[4, 'Age'] = None\n",
    "\n",
    "# Identify missing values in the DataFrame.\n",
    "print(\" \\n Identify missing values in the DataFrame (True=missing):-\")\n",
    "print(df.isnull())\n",
    "\n",
    "# Fill missing values in the Marks column with the column's mean.\n",
    "df['Marks']=df['Marks'].fillna(df['Marks'].mean())\n",
    "\n",
    "# saving data into CSV file\n",
    "df.to_csv(\"students_data.csv\", index=False)\n",
    "\n",
    "# Read the CSV file into a new DataFrame.\n",
    "df2=pd.read_csv('students_data.csv')\n",
    "print(df2)\n",
    "\n",
    "# Display the first five rows of the newly loaded DataFrame.\n",
    "df2.head()\n"
   ]
  },
  {
   "cell_type": "markdown",
   "id": "eb68cd2b",
   "metadata": {},
   "source": [
    "Task 7: General\n",
    "1. Download a sample dataset from Kaggle or use any public dataset.\n",
    "2. Write a Python program to:\n",
    "-->Load the dataset using Pandas.\n",
    "-->Perform exploratory data analysis (EDA) by summarizing key statistics, checking for missing values, and visualizing data trends using Matplotlib or Seaborn.\n",
    "-->Document your findings in Markdown or comments."
   ]
  },
  {
   "cell_type": "code",
   "execution_count": null,
   "id": "556c9505",
   "metadata": {},
   "outputs": [
    {
     "name": "stdout",
     "output_type": "stream",
     "text": [
      "Dataset Shape: (891, 12)\n",
      "\n",
      "First 5 Rows:\n",
      "   PassengerId  Survived  Pclass  \\\n",
      "0            1         0       3   \n",
      "1            2         1       1   \n",
      "2            3         1       3   \n",
      "3            4         1       1   \n",
      "4            5         0       3   \n",
      "\n",
      "                                                Name     Sex   Age  SibSp  \\\n",
      "0                            Braund, Mr. Owen Harris    male  22.0      1   \n",
      "1  Cumings, Mrs. John Bradley (Florence Briggs Th...  female  38.0      1   \n",
      "2                             Heikkinen, Miss. Laina  female  26.0      0   \n",
      "3       Futrelle, Mrs. Jacques Heath (Lily May Peel)  female  35.0      1   \n",
      "4                           Allen, Mr. William Henry    male  35.0      0   \n",
      "\n",
      "   Parch            Ticket     Fare Cabin Embarked  \n",
      "0      0         A/5 21171   7.2500   NaN        S  \n",
      "1      0          PC 17599  71.2833   C85        C  \n",
      "2      0  STON/O2. 3101282   7.9250   NaN        S  \n",
      "3      0            113803  53.1000  C123        S  \n",
      "4      0            373450   8.0500   NaN        S  \n",
      "\n",
      "Data Types and Non-Null Counts:\n",
      "<class 'pandas.core.frame.DataFrame'>\n",
      "RangeIndex: 891 entries, 0 to 890\n",
      "Data columns (total 12 columns):\n",
      " #   Column       Non-Null Count  Dtype  \n",
      "---  ------       --------------  -----  \n",
      " 0   PassengerId  891 non-null    int64  \n",
      " 1   Survived     891 non-null    int64  \n",
      " 2   Pclass       891 non-null    int64  \n",
      " 3   Name         891 non-null    object \n",
      " 4   Sex          891 non-null    object \n",
      " 5   Age          714 non-null    float64\n",
      " 6   SibSp        891 non-null    int64  \n",
      " 7   Parch        891 non-null    int64  \n",
      " 8   Ticket       891 non-null    object \n",
      " 9   Fare         891 non-null    float64\n",
      " 10  Cabin        204 non-null    object \n",
      " 11  Embarked     889 non-null    object \n",
      "dtypes: float64(2), int64(5), object(5)\n",
      "memory usage: 83.7+ KB\n",
      "None\n",
      "\n",
      "Summary Statistics (Numerical):\n",
      "       PassengerId    Survived      Pclass         Age       SibSp  \\\n",
      "count   891.000000  891.000000  891.000000  714.000000  891.000000   \n",
      "mean    446.000000    0.383838    2.308642   29.699118    0.523008   \n",
      "std     257.353842    0.486592    0.836071   14.526497    1.102743   \n",
      "min       1.000000    0.000000    1.000000    0.420000    0.000000   \n",
      "25%     223.500000    0.000000    2.000000   20.125000    0.000000   \n",
      "50%     446.000000    0.000000    3.000000   28.000000    0.000000   \n",
      "75%     668.500000    1.000000    3.000000   38.000000    1.000000   \n",
      "max     891.000000    1.000000    3.000000   80.000000    8.000000   \n",
      "\n",
      "            Parch        Fare  \n",
      "count  891.000000  891.000000  \n",
      "mean     0.381594   32.204208  \n",
      "std      0.806057   49.693429  \n",
      "min      0.000000    0.000000  \n",
      "25%      0.000000    7.910400  \n",
      "50%      0.000000   14.454200  \n",
      "75%      0.000000   31.000000  \n",
      "max      6.000000  512.329200  \n",
      "\n",
      "Missing Values (Column-wise):\n",
      "PassengerId      0\n",
      "Survived         0\n",
      "Pclass           0\n",
      "Name             0\n",
      "Sex              0\n",
      "Age            177\n",
      "SibSp            0\n",
      "Parch            0\n",
      "Ticket           0\n",
      "Fare             0\n",
      "Cabin          687\n",
      "Embarked         2\n",
      "dtype: int64\n"
     ]
    },
    {
     "data": {
      "image/png": "[encoded data removed]",
      "text/plain": [
       "<Figure size 600x400 with 1 Axes>"
      ]
     },
     "metadata": {},
     "output_type": "display_data"
    },
    {
     "data": {
      "image/png": "[encoded data removed]",
      "text/plain": [
       "<Figure size 600x400 with 1 Axes>"
      ]
     },
     "metadata": {},
     "output_type": "display_data"
    },
    {
     "data": {
      "image/png": "[encoded data removed]",
      "text/plain": [
       "<Figure size 800x500 with 1 Axes>"
      ]
     },
     "metadata": {},
     "output_type": "display_data"
    },
    {
     "data": {
      "image/png": "[encoded data removed]",
      "text/plain": [
       "<Figure size 1000x500 with 1 Axes>"
      ]
     },
     "metadata": {},
     "output_type": "display_data"
    }
   ],
   "source": [
    "# Task 7: Titanic Dataset EDA\n",
    "import pandas as pd\n",
    "import matplotlib.pyplot as plt\n",
    "import seaborn as sns\n",
    "\n",
    "# Load the dataset\n",
    "df = pd.read_csv(\"train.csv\")\n",
    "\n",
    "# ===============================\n",
    "# EDA Part 1: Summary Statistics\n",
    "# ===============================\n",
    "\n",
    "print(\"Dataset Shape:\", df.shape)\n",
    "print(\"\\nFirst 5 Rows:\")\n",
    "print(df.head())\n",
    "\n",
    "print(\"\\nData Types and Non-Null Counts:\")\n",
    "print(df.info())\n",
    "\n",
    "print(\"\\nSummary Statistics (Numerical):\")\n",
    "print(df.describe())\n",
    "\n",
    "# ===============================\n",
    "# EDA Part 2: Missing Values\n",
    "# ===============================\n",
    "\n",
    "print(\"\\nMissing Values (Column-wise):\")\n",
    "print(df.isnull().sum())\n",
    "\n",
    "# ===============================\n",
    "# EDA Part 3: Data Visualizations\n",
    "# ===============================\n",
    "\n",
    "# Set visual theme\n",
    "sns.set(style=\"whitegrid\")\n",
    "\n",
    "# 1. Survival Count\n",
    "plt.figure(figsize=(6,4))\n",
    "sns.countplot(x='Survived', data=df)\n",
    "plt.title('Survival Count')\n",
    "plt.show()\n",
    "\n",
    "# 2. Survival by Gender\n",
    "plt.figure(figsize=(6,4))\n",
    "sns.countplot(x='Survived', hue='Sex', data=df)\n",
    "plt.title('Survival by Gender')\n",
    "plt.show()\n",
    "\n",
    "# 3. Age Distribution\n",
    "plt.figure(figsize=(8,5))\n",
    "sns.histplot(df['Age'].dropna(), kde=True)\n",
    "plt.title('Age Distribution')\n",
    "plt.xlabel('Age')\n",
    "plt.show()\n",
    "\n",
    "# 4. Heatmap of Missing Values\n",
    "plt.figure(figsize=(10,5))\n",
    "sns.heatmap(df.isnull(), cbar=False, cmap='viridis')\n",
    "plt.title('Missing Value Heatmap')\n",
    "plt.show()\n",
    "\n"
   ]
  },
  {
   "cell_type": "markdown",
   "id": "cd8239fc",
   "metadata": {},
   "source": [
    "'''\n",
    "# EDA Summary:\n",
    "\n",
    "- The dataset contains 891 rows and 12 columns.\n",
    "- Key columns: Survived, Pclass, Sex, Age, SibSp, Parch, Fare, Embarked.\n",
    "- Missing Values:\n",
    "    - Age (~20% missing)\n",
    "    - Cabin (very sparse)\n",
    "    - Embarked (2 missing)\n",
    "- Observations:\n",
    "    - More males than females died; females had a higher survival rate.\n",
    "    - Younger passengers had slightly better survival.\n",
    "    - Most passengers were in 3rd class.\n",
    "    - 'Cabin' has too many missing values — could be dropped or processed separately.\n",
    "'''"
   ]
  },
  {
   "cell_type": "code",
   "execution_count": null,
   "id": "ce237c3d",
   "metadata": {},
   "outputs": [],
   "source": []
  },
  {
   "cell_type": "code",
   "execution_count": null,
   "id": "8928e594",
   "metadata": {},
   "outputs": [],
   "source": []
  },
  {
   "cell_type": "code",
   "execution_count": null,
   "id": "13dc2d1c",
   "metadata": {},
   "outputs": [],
   "source": []
  }
 ],
 "metadata": {
  "kernelspec": {
   "display_name": ".venv",
   "language": "python",
   "name": "python3"
  },
  "language_info": {
   "codemirror_mode": {
    "name": "ipython",
    "version": 3
   },
   "file_extension": ".py",
   "mimetype": "text/x-python",
   "name": "python",
   "nbconvert_exporter": "python",
   "pygments_lexer": "ipython3",
   "version": "3.13.1"
  }
 },
 "nbformat": 4,
 "nbformat_minor": 5
}
