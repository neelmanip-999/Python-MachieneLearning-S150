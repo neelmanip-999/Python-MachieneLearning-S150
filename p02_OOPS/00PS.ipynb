{
 "cells": [
  {
   "cell_type": "markdown",
   "id": "a6e93f71",
   "metadata": {},
   "source": [
    "✅ 1. Class:-\n",
    "A class is a blueprint for creating objects. It defines attributes (variables) and behaviors (methods) common to all objects of that type.\n",
    "\n",
    "class Dog:\n",
    "    def __init__(self, name):\n",
    "        self.name = name\n",
    "\n",
    "    def bark(self):\n",
    "        print(f\"{self.name} says Woof!\")\n",
    "\n",
    "✅ 2. Data Members and Functions\n",
    "Data Members: These are variables that belong to a class.\n",
    "\n",
    "Functions (Methods): These are functions defined inside a class that operate on instances of that class.\n",
    "\n",
    "class Person:\n",
    "    def __init__(self, name):\n",
    "        self.name = name  # data member\n",
    "\n",
    "    def greet(self):      # method\n",
    "        print(\"Hello,\", self.name)\n",
    "\n",
    "✅ 3. The __init__ Method (Constructor)\n",
    "This is the constructor method. It is automatically invoked when a new object is created.\n",
    "\n",
    "class Car:\n",
    "    def __init__(self, model):\n",
    "        self.model = model\n",
    "\n",
    "❌ No Constructor Overloading in Python\n",
    "Python does not support multiple constructors like Java or C++. But you can use default arguments:\n",
    "\n",
    "class Car:\n",
    "    def __init__(self, model=\"Default\"):\n",
    "        self.model = model\n",
    "\n",
    "✅ 4. Everything in Python is an Object\n",
    "All data types—int, float, bool, str, list, etc.—are instances of classes. Even functions are objects.\n",
    "\n",
    "print(isinstance(5, object))      # True\n",
    "print(isinstance(\"hello\", object)) # True\n",
    "\n",
    "\n",
    "✅ 5. isinstance()\n",
    "Used to check if an object is an instance of a particular class or a tuple of classes.\n",
    "isinstance(10, int)  # True\n",
    "\n",
    "✅ 6. Class Variables vs. Instance Variables\n",
    "Type\tScope\n",
    "Instance Var\tUnique to each object\n",
    "Class Var\tShared across all instances\n",
    "\n",
    "class Student:\n",
    "    school = \"ABC School\"  # class variable\n",
    "\n",
    "    def __init__(self, name):\n",
    "        self.name = name   # instance variable\n",
    "\n",
    "✅ 7. Memory Management\n",
    "Python manages memory using:\n",
    "\n",
    "Reference Counting\n",
    "\n",
    "Garbage Collection\n",
    "\n",
    "Private heap memory\n",
    "\n",
    "You usually don’t need to manage memory manually—Python handles it automatically.\n",
    "\n",
    "✅ 8. Inheritance\n",
    "Inheritance lets you derive a new class from an existing class. The new class (child) inherits attributes and methods of the old class (parent).\n",
    "\n",
    "class Animal:\n",
    "    def speak(self):\n",
    "        print(\"Animal speaks\")\n",
    "\n",
    "class Dog(Animal):  # Inherits from Animal\n",
    "    def speak(self):\n",
    "        print(\"Dog barks\")\n",
    "\n",
    "✅ 9. super() in __init__()\n",
    "Used to call methods from the parent class. Commonly used to initialize the parent class's properties.\n",
    "\n",
    "class Parent:\n",
    "    def __init__(self):\n",
    "        print(\"Parent init\")\n",
    "\n",
    "class Child(Parent):\n",
    "    def __init__(self):\n",
    "        super().__init__()  # calls Parent's __init__\n",
    "        print(\"Child init\")\n",
    "\n",
    "✅ 10. Method Overriding\n",
    "Child class redefines a method from the parent class.\n",
    "\n",
    "class Animal:\n",
    "    def speak(self):\n",
    "        print(\"Animal speaks\")\n",
    "\n",
    "class Dog(Animal):\n",
    "    def speak(self):  # Overriding\n",
    "        print(\"Dog barks\")\n",
    "\n",
    "✅ 11. Dunder (Magic) Methods\n",
    "Special methods with double underscores like __init__, __str__, __add__, etc., that allow you to define custom behavior for built-in operations.\n",
    "\n",
    "Examples:\n",
    "__init__: constructor\n",
    "\n",
    "__str__: string representation\n",
    "\n",
    "__add__: define + behavior\n",
    "\n",
    "__len__: define len() behavior\n",
    "\n",
    "class Book:\n",
    "    def __init__(self, title):\n",
    "        self.title = title\n",
    "\n",
    "    def __str__(self):\n",
    "        return f\"Book: {self.title}\"\n",
    "        \n",
    "✅ 12. Multiple Inheritance\n",
    "A class can inherit from more than one parent class.\n",
    "\n",
    "class A:\n",
    "    def method(self):\n",
    "        print(\"A\")\n",
    "\n",
    "class B:\n",
    "    def method(self):\n",
    "        print(\"B\")\n",
    "\n",
    "class C(A, B):\n",
    "    pass\n",
    "\n",
    "obj = C()\n",
    "obj.method()  # Method Resolution Order (MRO) decides which method to call\n",
    "Python uses the C3 linearization (MRO) to determine the order."
   ]
  },
  {
   "cell_type": "code",
   "execution_count": 1,
   "id": "3f6f09ea",
   "metadata": {},
   "outputs": [],
   "source": [
    "class Person:\n",
    "    def __init__(self,name = 'xyz',age=-1):\n",
    "        self.name = name\n",
    "        self.age = age\n",
    "    \n",
    "    def introduce(s):\n",
    "        s.y = 'y'\n",
    "        print(f\"Hi!! I am {s.name}. My age is {s.age}\")"
   ]
  },
  {
   "cell_type": "code",
   "execution_count": 2,
   "id": "a3f59e62",
   "metadata": {},
   "outputs": [],
   "source": [
    "p1=Person(\"durgesh\",28)"
   ]
  },
  {
   "cell_type": "code",
   "execution_count": 5,
   "id": "e500cac3",
   "metadata": {},
   "outputs": [
    {
     "name": "stdout",
     "output_type": "stream",
     "text": [
      "Hi!! I am durgesh. My age is 28\n"
     ]
    }
   ],
   "source": [
    "p1.introduce()"
   ]
  },
  {
   "cell_type": "code",
   "execution_count": 6,
   "id": "6a172a75",
   "metadata": {},
   "outputs": [
    {
     "name": "stdout",
     "output_type": "stream",
     "text": [
      "Shubham 28\n"
     ]
    }
   ],
   "source": [
    "p1.name = 'Shubham'\n",
    "p1.age = 28\n",
    "print(p1.name,p1.age)"
   ]
  },
  {
   "cell_type": "code",
   "execution_count": 7,
   "id": "fb3d781c",
   "metadata": {},
   "outputs": [],
   "source": [
    "p2 = Person()\n",
    "p2.name = 'ruchi'"
   ]
  },
  {
   "cell_type": "code",
   "execution_count": 8,
   "id": "8822d744",
   "metadata": {},
   "outputs": [
    {
     "name": "stdout",
     "output_type": "stream",
     "text": [
      "Hi!! I am ruchi. My age is -1\n"
     ]
    }
   ],
   "source": [
    "p2.introduce()"
   ]
  },
  {
   "cell_type": "code",
   "execution_count": 9,
   "id": "48c221ea",
   "metadata": {},
   "outputs": [
    {
     "data": {
      "text/plain": [
       "'y'"
      ]
     },
     "execution_count": 9,
     "metadata": {},
     "output_type": "execute_result"
    }
   ],
   "source": [
    "\n",
    "p1.y"
   ]
  },
  {
   "cell_type": "code",
   "execution_count": 10,
   "id": "b159bdaa",
   "metadata": {},
   "outputs": [
    {
     "name": "stdout",
     "output_type": "stream",
     "text": [
      "Hi!! I am Shubham. My age is 28\n"
     ]
    }
   ],
   "source": [
    "Person.introduce(p1)"
   ]
  },
  {
   "cell_type": "code",
   "execution_count": 11,
   "id": "bc7c86eb",
   "metadata": {},
   "outputs": [
    {
     "data": {
      "text/plain": [
       "True"
      ]
     },
     "execution_count": 11,
     "metadata": {},
     "output_type": "execute_result"
    }
   ],
   "source": [
    "a = 10\n",
    "isinstance(a,int)\n"
   ]
  },
  {
   "cell_type": "code",
   "execution_count": 13,
   "id": "8fe5cf27",
   "metadata": {},
   "outputs": [],
   "source": [
    "class Dog:\n",
    "    tail = 1\n",
    "    tricks = []\n",
    "    def __init__(self,name='abc',breed='xyz'):\n",
    "        self.name = name\n",
    "        self.breed = breed\n",
    "\n",
    "    def bark(self):\n",
    "        print(f\"{self.name}: bhow bhow\")\n"
   ]
  },
  {
   "cell_type": "code",
   "execution_count": 14,
   "id": "7e7f621b",
   "metadata": {},
   "outputs": [],
   "source": [
    "d1 = Dog(\"Pochi\",\"Labra\")\n",
    "d2 = Dog(\"Rockey\",\"Golden Retiever\")\n"
   ]
  },
  {
   "cell_type": "code",
   "execution_count": 15,
   "id": "a39a7550",
   "metadata": {},
   "outputs": [
    {
     "name": "stdout",
     "output_type": "stream",
     "text": [
      "Pochi: bhow bhow\n"
     ]
    }
   ],
   "source": [
    "d1.bark()"
   ]
  },
  {
   "cell_type": "code",
   "execution_count": 16,
   "id": "1a7ddd0f",
   "metadata": {},
   "outputs": [
    {
     "name": "stdout",
     "output_type": "stream",
     "text": [
      "Rockey: bhow bhow\n"
     ]
    }
   ],
   "source": [
    "d2.bark()"
   ]
  },
  {
   "cell_type": "code",
   "execution_count": 17,
   "id": "ef11875e",
   "metadata": {},
   "outputs": [],
   "source": [
    "d1.tail = 3"
   ]
  },
  {
   "cell_type": "code",
   "execution_count": 18,
   "id": "998d6b82",
   "metadata": {},
   "outputs": [
    {
     "data": {
      "text/plain": [
       "1"
      ]
     },
     "execution_count": 18,
     "metadata": {},
     "output_type": "execute_result"
    }
   ],
   "source": [
    "d2.tail"
   ]
  },
  {
   "cell_type": "code",
   "execution_count": 19,
   "id": "777296b5",
   "metadata": {},
   "outputs": [
    {
     "name": "stdout",
     "output_type": "stream",
     "text": [
      "3\n"
     ]
    }
   ],
   "source": [
    "print(d1.tail)"
   ]
  },
  {
   "cell_type": "code",
   "execution_count": null,
   "id": "ba3496eb",
   "metadata": {},
   "outputs": [],
   "source": [
    "d1.tricks = []\n",
    "d1.tricks.append('Sit')\n",
    "d2.tricks.append('Stand')\n",
    "Dog.tricks.append('HandShake')\n",
    "\n",
    "\n",
    "# d1.tricks = []                # ❗ You created a **new instance variable** for d1\n",
    "# d1.tricks.append('Sit')       # 'Sit' added to d1’s private tricks list\n",
    "\n",
    "# d2.tricks.append('Stand')     # No instance variable on d2 → uses **Dog.tricks**\n",
    "# Dog.tricks.append('HandShake') # Adds 'HandShake' to Dog.tricks\n",
    "\n",
    "\n",
    "# 🧠 Behind the Scenes\n",
    "# ➤ d1.tricks = []\n",
    "# You created a new instance variable tricks on d1, so now:\n",
    "\n",
    "# d1.tricks points to its own list: ['Sit']\n",
    "\n",
    "# d1 no longer uses Dog.tricks\n",
    "\n",
    "# ➤ d2.tricks.append('Stand')\n",
    "# d2 doesn’t have its own .tricks list, so it uses the class variable Dog.tricks\n",
    "\n",
    "# So now Dog.tricks becomes ['Stand']\n",
    "\n",
    "# ➤ Dog.tricks.append('HandShake')\n",
    "# Adds to the shared Dog.tricks list\n",
    "\n",
    "# So now Dog.tricks = ['Stand', 'HandShake']\n",
    "\n",
    "# d2.tricks = Dog.tricks = ['Stand', 'HandShake']\n"
   ]
  },
  {
   "cell_type": "code",
   "execution_count": 22,
   "id": "f3df3763",
   "metadata": {},
   "outputs": [
    {
     "name": "stdout",
     "output_type": "stream",
     "text": [
      "['Sit']\n",
      "['Stand', 'HandShake']\n"
     ]
    }
   ],
   "source": [
    "print(d1.tricks)\n",
    "print(d2.tricks)"
   ]
  },
  {
   "cell_type": "code",
   "execution_count": 23,
   "id": "a0f9dc20",
   "metadata": {},
   "outputs": [],
   "source": [
    "class Person:\n",
    "    def __init__(self,name = 'xyz',age=-1):\n",
    "        self.name = name\n",
    "        self.age = age\n",
    "    \n",
    "    def introduce(s):\n",
    "        print(f\"Hi!! I am {s.name}. My age is {s.age}\")"
   ]
  },
  {
   "cell_type": "code",
   "execution_count": 24,
   "id": "472cfc16",
   "metadata": {},
   "outputs": [],
   "source": [
    "class Student(Person):\n",
    "    def __init__(self,name,age,rollno):\n",
    "        # super().__init__(name,age)\n",
    "        Person.__init__(self,name,age)\n",
    "        self.rollno = rollno\n",
    "\n",
    "    def introduce(self):\n",
    "        super().introduce()\n",
    "        print(f\"Hi!! I am student {self.name}. My rollno is {self.rollno}\")"
   ]
  },
  {
   "cell_type": "code",
   "execution_count": 25,
   "id": "799713d5",
   "metadata": {},
   "outputs": [],
   "source": [
    "s1 = Student('Arnav',20,100)"
   ]
  },
  {
   "cell_type": "code",
   "execution_count": 26,
   "id": "7d13df2d",
   "metadata": {},
   "outputs": [
    {
     "name": "stdout",
     "output_type": "stream",
     "text": [
      "Hi!! I am Arnav. My age is 20\n",
      "Hi!! I am student Arnav. My rollno is 100\n"
     ]
    }
   ],
   "source": [
    "s1.introduce()"
   ]
  },
  {
   "cell_type": "code",
   "execution_count": 27,
   "id": "336dc5bc",
   "metadata": {},
   "outputs": [
    {
     "data": {
      "text/plain": [
       "100"
      ]
     },
     "execution_count": 27,
     "metadata": {},
     "output_type": "execute_result"
    }
   ],
   "source": [
    "s1.rollno"
   ]
  },
  {
   "cell_type": "code",
   "execution_count": 30,
   "id": "8bfd3c3d",
   "metadata": {},
   "outputs": [],
   "source": [
    "def fn(p):\n",
    "    p.introduce()\n"
   ]
  },
  {
   "cell_type": "code",
   "execution_count": 29,
   "id": "100fca29",
   "metadata": {},
   "outputs": [],
   "source": [
    "p1 = Person('Shubham',28)\n",
    "s1 = Student('Arnav',20,100)"
   ]
  },
  {
   "cell_type": "code",
   "execution_count": 31,
   "id": "46f63991",
   "metadata": {},
   "outputs": [
    {
     "name": "stdout",
     "output_type": "stream",
     "text": [
      "Hi!! I am Shubham. My age is 28\n"
     ]
    }
   ],
   "source": [
    "fn(p1)"
   ]
  },
  {
   "cell_type": "code",
   "execution_count": 32,
   "id": "d2d12c4e",
   "metadata": {},
   "outputs": [
    {
     "name": "stdout",
     "output_type": "stream",
     "text": [
      "Hi!! I am Arnav. My age is 20\n",
      "Hi!! I am student Arnav. My rollno is 100\n"
     ]
    }
   ],
   "source": [
    "fn(s1)"
   ]
  },
  {
   "cell_type": "markdown",
   "id": "dfe50b82",
   "metadata": {},
   "source": [
    ":\n",
    "\n",
    "🚗 1. __gt__(self, oth) — Greater Than (>)\n",
    "\n",
    "def __gt__(self, oth):\n",
    "    return self.speed > oth.speed\n",
    "\n",
    "\n",
    "This allows you to compare two Car objects using >. For example:\n",
    "\n",
    "print(c1 > c2)  # True, since 200 > 180\n",
    "print(c1 > c3)  # False, since 200 < 250\n",
    "\n",
    "\n",
    "📏 2. __len__(self) — Length (len())\n",
    "\n",
    "def __len__(self):\n",
    "    print('In length dunder')\n",
    "    return self.milage\n",
    "Calling len(c1) does two things:\n",
    "\n",
    "Prints \"In length dunder\"\n",
    "\n",
    "Returns the mileage:\n",
    "\n",
    "print(len(c1))\n",
    "# Output:\n",
    "# In length dunder\n",
    "# 30\n",
    "\n",
    "\n",
    "➕ 3. __add__(self, oth) — Addition (+)\n",
    "python\n",
    "Copy code\n",
    "def __add__(self, oth):\n",
    "    return Car(self.model, oth.speed, self.milage + oth.milage)\n",
    "This lets you \"add\" two cars, combining their mileage and taking the second car's speed:\n",
    "\n",
    "c_new = c1 + c2\n",
    "print(c_new)\n",
    "# Output: model: Roles Royce speed: 180 mileage: 70\n",
    "Here:\n",
    "\n",
    "model is taken from c1\n",
    "\n",
    "speed is taken from c2\n",
    "\n",
    "mileage is the sum of both\n",
    "\n",
    "(You could also have returned a number like 100 if you wanted a simpler behavior.)\n",
    "\n",
    "🖨️ 4. __str__(self) — String Representation (print() & str())\n",
    "\n",
    "def __str__(self):\n",
    "    return f\"model: {self.model} speed: {self.speed} mileage: {self.milage}\"\n",
    "When you print(c1) or call str(c1), this method determines what gets displayed:\n",
    "\n",
    "print(c1)\n",
    "# Output: model: Roles Royce speed: 200 mileage: 30\n",
    "\n",
    "\n",
    "\n",
    "✅ Putting It All Together\n",
    "\n",
    "c1 = Car('Roles Royce', 200, 30)\n",
    "c2 = Car('Defender', 180, 40)\n",
    "\n",
    "# 1. Greater Than\n",
    "print(c1 > c2)  # True\n",
    "\n",
    "# 2. Length (mileage)\n",
    "print(len(c2))  \n",
    "# In length dunder\n",
    "# 40\n",
    "\n",
    "# 3. Addition\n",
    "c3 = c1 + c2\n",
    "print(c3)\n",
    "# model: Roles Royce speed: 180 mileage: 70\n",
    "\n",
    "# 4. Printing\n",
    "print(c3)\n",
    "\n",
    "\n",
    "💡 Why This Matters\n",
    "Operator overloading via dunder methods makes your classes behave intuitively with standard operations.\n",
    "\n",
    "Instead of writing compare_speed(c1, c2), you can write c1 > c2.\n",
    "\n",
    "Having meaningful __str__ makes debugging and logging easier.\n",
    "\n",
    "You can customize len(c) to return something logical (like mileage).\n",
    "\n"
   ]
  },
  {
   "cell_type": "code",
   "execution_count": null,
   "id": "fb0385d1",
   "metadata": {},
   "outputs": [],
   "source": [
    "class Car:\n",
    "    def __init__(self,model,speed,milage):\n",
    "        self.model = model\n",
    "        self.speed = speed\n",
    "        self.milage = milage\n",
    "\n",
    "    def __gt__(self,oth):\n",
    "        return self.speed > oth.speed\n",
    "\n",
    "    def __len__(self):\n",
    "        print('In length dunder')\n",
    "        return self.milage\n",
    "\n",
    "    def __add__(self,oth):\n",
    "        return Car(self.model,oth.speed,self.milage+oth.milage)\n",
    "        # return 100\n",
    "    def __str__(self):\n",
    "        return f\"model: {self.model } speed: {self.speed } mileage: {self.milage}\"\n"
   ]
  },
  {
   "cell_type": "code",
   "execution_count": 34,
   "id": "79f3b26e",
   "metadata": {},
   "outputs": [],
   "source": [
    "c1 = Car('Roles Royce',200,30)\n",
    "c2 = Car('Defender', 180,40)\n",
    "c3 = Car('Porche',250,20)\n"
   ]
  },
  {
   "cell_type": "code",
   "execution_count": 35,
   "id": "0cb4f46f",
   "metadata": {},
   "outputs": [
    {
     "data": {
      "text/plain": [
       "<__main__.Car at 0x2136d3ca490>"
      ]
     },
     "execution_count": 35,
     "metadata": {},
     "output_type": "execute_result"
    }
   ],
   "source": [
    "c1\n",
    "c2\n",
    "c3"
   ]
  },
  {
   "cell_type": "code",
   "execution_count": 36,
   "id": "1c33a339",
   "metadata": {},
   "outputs": [
    {
     "data": {
      "text/plain": [
       "5"
      ]
     },
     "execution_count": 36,
     "metadata": {},
     "output_type": "execute_result"
    }
   ],
   "source": [
    "l = [1,2,3,4,5]\n",
    "\n",
    "len(l)"
   ]
  },
  {
   "cell_type": "code",
   "execution_count": 37,
   "id": "922d7230",
   "metadata": {},
   "outputs": [
    {
     "name": "stdout",
     "output_type": "stream",
     "text": [
      "In length dunder\n"
     ]
    },
    {
     "data": {
      "text/plain": [
       "30"
      ]
     },
     "execution_count": 37,
     "metadata": {},
     "output_type": "execute_result"
    }
   ],
   "source": [
    "len(c1)"
   ]
  },
  {
   "cell_type": "code",
   "execution_count": 38,
   "id": "16fd53b2",
   "metadata": {},
   "outputs": [],
   "source": [
    "l1 = [1,2,3,4]\n",
    "l2 = [5,6,7,8]\n",
    "l3 = l1+l2"
   ]
  },
  {
   "cell_type": "code",
   "execution_count": 39,
   "id": "88198630",
   "metadata": {},
   "outputs": [
    {
     "data": {
      "text/plain": [
       "[1, 2, 3, 4, 5, 6, 7, 8]"
      ]
     },
     "execution_count": 39,
     "metadata": {},
     "output_type": "execute_result"
    }
   ],
   "source": [
    "l3"
   ]
  },
  {
   "cell_type": "code",
   "execution_count": 41,
   "id": "e7c719d0",
   "metadata": {},
   "outputs": [
    {
     "name": "stdout",
     "output_type": "stream",
     "text": [
      "model: Roles Royce speed: 180 mileage: 70\n"
     ]
    }
   ],
   "source": [
    "c3 = c1+c2\n",
    "# print(c3.model,c3.speed,c3.milage)\n",
    "print(c3)"
   ]
  },
  {
   "cell_type": "code",
   "execution_count": 42,
   "id": "960d7b0f",
   "metadata": {},
   "outputs": [
    {
     "data": {
      "text/plain": [
       "False"
      ]
     },
     "execution_count": 42,
     "metadata": {},
     "output_type": "execute_result"
    }
   ],
   "source": [
    "c1 < c2\n"
   ]
  },
  {
   "cell_type": "code",
   "execution_count": 43,
   "id": "82532a46",
   "metadata": {},
   "outputs": [],
   "source": [
    "class A:\n",
    "    pass\n",
    "class B(A):\n",
    "    pass"
   ]
  },
  {
   "cell_type": "code",
   "execution_count": 44,
   "id": "d4aeb901",
   "metadata": {},
   "outputs": [],
   "source": [
    "class A:\n",
    "    pass\n",
    "class B(A):\n",
    "    pass\n",
    "class C(B):\n",
    "    pass\n",
    "class D(C):\n",
    "    pass"
   ]
  },
  {
   "cell_type": "code",
   "execution_count": 45,
   "id": "64a3eca3",
   "metadata": {},
   "outputs": [],
   "source": [
    "class A:\n",
    "    pass\n",
    "class B(A):\n",
    "    pass\n",
    "class C(A):\n",
    "    pass\n",
    "class D:\n",
    "    pass"
   ]
  },
  {
   "cell_type": "code",
   "execution_count": 46,
   "id": "15ef4570",
   "metadata": {},
   "outputs": [],
   "source": [
    "\n",
    "class A:\n",
    "    pass\n",
    "class B:\n",
    "    pass\n",
    "class C(A,B):\n",
    "    pass\n",
    "class D(C):\n",
    "    pass\n"
   ]
  },
  {
   "cell_type": "code",
   "execution_count": null,
   "id": "31dc7a89",
   "metadata": {},
   "outputs": [
    {
     "data": {
      "text/plain": [
       "[__main__.D, __main__.C, __main__.A, __main__.B, object]"
      ]
     },
     "execution_count": 47,
     "metadata": {},
     "output_type": "execute_result"
    }
   ],
   "source": [
    "D.mro()\n",
    "\n",
    "# The method .mro() stands for Method Resolution Order\n",
    "#  in Python, and it's used to show the order in which\n",
    "#  Python looks for methods and attributes in a class \n",
    "# hierarchy—especially important in multiple inheritance.\n",
    "\n"
   ]
  },
  {
   "cell_type": "code",
   "execution_count": 48,
   "id": "799b5939",
   "metadata": {},
   "outputs": [],
   "source": [
    "class A:\n",
    "    pass\n",
    "class B:\n",
    "    pass\n",
    "class C(A,B):\n",
    "    pass\n",
    "class D(B):\n",
    "    pass\n",
    "class E(C,D):\n",
    "    pass"
   ]
  },
  {
   "cell_type": "code",
   "execution_count": null,
   "id": "59680899",
   "metadata": {},
   "outputs": [
    {
     "data": {
      "text/plain": [
       "[__main__.E, __main__.C, __main__.A, __main__.D, __main__.B, object]"
      ]
     },
     "execution_count": 49,
     "metadata": {},
     "output_type": "execute_result"
    }
   ],
   "source": [
    "\n",
    "E.mro()\n",
    "\n",
    "# 🧱 Class Hierarchy:\n",
    "# Let’s first write the inheritance structure clearly:\n",
    "    #   A       B\n",
    "    #    \\     /\n",
    "    #     C   D\n",
    "    #      \\ /\n",
    "    #       E\n",
    "\n",
    "# C inherits from A and B\n",
    "\n",
    "# D inherits from B\n",
    "\n",
    "# E inherits from both C and D\n",
    "\n",
    "# 🧠 The Rule: C3 Linearization\n",
    "# The C3 MRO ensures:\n",
    "\n",
    "# Children come before parents\n",
    "\n",
    "# The order in base class lists is preserved\n",
    "\n",
    "# No class appears before its parents\n",
    "\n",
    "\n"
   ]
  },
  {
   "cell_type": "code",
   "execution_count": null,
   "id": "ee46d429",
   "metadata": {},
   "outputs": [],
   "source": []
  }
 ],
 "metadata": {
  "kernelspec": {
   "display_name": ".venv",
   "language": "python",
   "name": "python3"
  },
  "language_info": {
   "codemirror_mode": {
    "name": "ipython",
    "version": 3
   },
   "file_extension": ".py",
   "mimetype": "text/x-python",
   "name": "python",
   "nbconvert_exporter": "python",
   "pygments_lexer": "ipython3",
   "version": "3.13.1"
  }
 },
 "nbformat": 4,
 "nbformat_minor": 5
}
