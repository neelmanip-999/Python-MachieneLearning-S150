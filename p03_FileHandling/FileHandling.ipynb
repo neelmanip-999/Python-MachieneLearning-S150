{
 "cells": [
  {
   "cell_type": "markdown",
   "id": "c4a4b20f",
   "metadata": {},
   "source": [
    "🔓 File Access Modes in Python\n",
    "These modes define how a file is opened:\n",
    "\n",
    "Mode\tDescription\n",
    "r\tRead only mode. File must exist.\n",
    "r+\tRead and write mode. File must exist.\n",
    "w\tWrite only mode. Overwrites file if it exists or creates new file.\n",
    "a\tAppend mode. Data is added at the end. File created if not exist.\n",
    "a+\tAppend and Read mode. Pointer is at the end. File created if not exist.\n",
    "x\tCreate new file. Fails if file exists (throws error).\n",
    "t\tText mode (default). Read/write text data.\n",
    "b\tBinary mode. Used for binary data (images, videos, etc).\n",
    "\n",
    "You can combine them like \"rb\", \"w+b\", etc.\n",
    "\n",
    "📘 Reading Files\n",
    "1. read()\n",
    "Reads entire content of the file as a string.\n",
    "\n",
    "f = open(\"file.txt\", \"r\")\n",
    "content = f.read()\n",
    "\n",
    "2. readline()\n",
    "Reads one line from the file.\n",
    "\n",
    "line = f.readline()\n",
    "\n",
    "3. readlines()\n",
    "Reads all lines and returns a list of lines.\n",
    "\n",
    "lines = f.readlines()\n",
    "\n",
    "\n",
    "✍️ Writing to Files\n",
    "1. write()\n",
    "Writes string to the file.\n",
    "\n",
    "f = open(\"file.txt\", \"w\")\n",
    "f.write(\"Hello, World!\")\n",
    "\n",
    "\n",
    "2. Append\n",
    "Just open the file in a mode and use write(). This adds content to the end without deleting old data.\n",
    "\n",
    "f = open(\"file.txt\", \"a\")\n",
    "f.write(\"\\nAppended text\")\n",
    "\n",
    "\n",
    "✅ With Statement (Context Manager)\n",
    "Using with ensures the file is automatically closed after use.\n",
    "\n",
    "with open(\"file.txt\", \"r\") as f:\n",
    "    content = f.read()\n",
    "# File is automatically closed\n",
    "\n",
    "\n",
    "🔁 Moving the Cursor\n",
    "seek(n)\n",
    "Moves the file pointer to the nth byte from the beginning.\n",
    "\n",
    "f = open(\"file.txt\", \"r\")\n",
    "f.seek(5)     # Move to the 6th byte\n",
    "data = f.read()\n",
    "tell()\n",
    "Tells you the current position (byte number).\n",
    "\n",
    "pos = f.tell()\n",
    "\n",
    "\n",
    "🗂️ JSON Files in Python\n",
    "JSON (JavaScript Object Notation) is a data format used for storing and exchanging data.\n",
    "\n",
    "✅ dump – Write to JSON file\n",
    "\n",
    "import json\n",
    "data = {\"name\": \"John\", \"age\": 30}\n",
    "\n",
    "with open(\"data.json\", \"w\") as f:\n",
    "    json.dump(data, f)\n",
    "\n",
    "✅ load – Read from JSON file\n",
    "\n",
    "with open(\"data.json\", \"r\") as f:\n",
    "    data = json.load(f)\n",
    "print(data[\"name\"])\n",
    "\n",
    "\n",
    "🧠 Convert Between Dict and JSON String\n",
    "dumps() – Convert dictionary to JSON string\n",
    "\n",
    "json_string = json.dumps({\"name\": \"Alice\", \"age\": 25})\n",
    "print(json_string)\n",
    "loads() – Convert JSON string to dictionary\n",
    "python\n",
    "Copy code\n",
    "dict_obj = json.loads('{\"name\": \"Alice\", \"age\": 25}')\n",
    "print(dict_obj[\"name\"])\n",
    "\n",
    "\n",
    "✅ Summary Chart:\n",
    "Function\tDescription\n",
    "read()\tRead full content\n",
    "readline()\tRead one line\n",
    "readlines()\tRead all lines into list\n",
    "write()\tWrite string to file\n",
    "seek(n)\tMove cursor to nth byte\n",
    "dump()\tWrite Python object to JSON file\n",
    "load()\tRead JSON from file and convert to dict\n",
    "dumps()\tConvert dict to JSON string\n",
    "loads()\tConvert JSON string to dict"
   ]
  },
  {
   "cell_type": "code",
   "execution_count": 2,
   "id": "f4aa4bbc",
   "metadata": {},
   "outputs": [
    {
     "name": "stdout",
     "output_type": "stream",
     "text": [
      "<_io.TextIOWrapper name='test.txt' mode='r' encoding='cp1252'>\n"
     ]
    }
   ],
   "source": [
    "file = open('test.txt')\n",
    "print(file)"
   ]
  },
  {
   "cell_type": "code",
   "execution_count": 3,
   "id": "20ac7d93",
   "metadata": {},
   "outputs": [
    {
     "name": "stdout",
     "output_type": "stream",
     "text": [
      "<class '_io.TextIOWrapper'>\n"
     ]
    }
   ],
   "source": [
    "print(type(file))"
   ]
  },
  {
   "cell_type": "code",
   "execution_count": null,
   "id": "631d8327",
   "metadata": {},
   "outputs": [
    {
     "name": "stdout",
     "output_type": "stream",
     "text": [
      "\n"
     ]
    }
   ],
   "source": [
    "print(file.read(10))\n",
    "# This reads the first 10 characters (or bytes) from the\n",
    "#  file and prints them."
   ]
  },
  {
   "cell_type": "code",
   "execution_count": null,
   "id": "9f748dd9",
   "metadata": {},
   "outputs": [
    {
     "data": {
      "text/plain": [
       "0"
      ]
     },
     "execution_count": 14,
     "metadata": {},
     "output_type": "execute_result"
    }
   ],
   "source": [
    "file.seek(0)\n",
    "# file.seek(0) moves the file pointer (cursor) back to the \n",
    "# beginning of the file.\n",
    "\n",
    "# 📘 Why Use It?\n",
    "# After you read a file using .read(), .readline(), or \n",
    "# .readlines(), the file pointer is at the end, so if you\n",
    "#  try to read again — you'll get an empty result.\n",
    "\n",
    "# Using seek(0) resets the position so you can re-read the file\n",
    "#  from the beginning.\n",
    "\n"
   ]
  },
  {
   "cell_type": "code",
   "execution_count": null,
   "id": "c91c4869",
   "metadata": {},
   "outputs": [
    {
     "name": "stdout",
     "output_type": "stream",
     "text": [
      "['Hello World\\n', 'This is a dummy file for GLA Python Batch']\n"
     ]
    }
   ],
   "source": [
    "file.seek(0)\n",
    "print(file.readlines())"
   ]
  },
  {
   "cell_type": "code",
   "execution_count": 17,
   "id": "fe683a03",
   "metadata": {},
   "outputs": [
    {
     "name": "stdout",
     "output_type": "stream",
     "text": [
      "['Hello World\\n', 'This is a dummy file for GLA Python Batch']\n"
     ]
    }
   ],
   "source": [
    "file.seek(0)\n",
    "print(file.readlines())\n",
    "\n",
    "for line in file.readlines():\n",
    "    print(line,end='')"
   ]
  },
  {
   "cell_type": "code",
   "execution_count": 19,
   "id": "cb473dae",
   "metadata": {},
   "outputs": [
    {
     "name": "stdout",
     "output_type": "stream",
     "text": [
      "Hello World\n",
      "\n",
      "Hello World\n",
      "This is a dummy file for GLA Python Batch"
     ]
    }
   ],
   "source": [
    "file.seek(0)\n",
    "s = file.readline()\n",
    "print(s)\n",
    "while s != '':\n",
    "    print(s,end='')\n",
    "    s = file.readline()"
   ]
  },
  {
   "cell_type": "code",
   "execution_count": 20,
   "id": "61739f08",
   "metadata": {},
   "outputs": [],
   "source": [
    "file.close()"
   ]
  },
  {
   "cell_type": "code",
   "execution_count": 22,
   "id": "260d2c5f",
   "metadata": {},
   "outputs": [],
   "source": [
    "file = open('FileDemo.txt','r+')"
   ]
  },
  {
   "cell_type": "code",
   "execution_count": 30,
   "id": "36523149",
   "metadata": {},
   "outputs": [],
   "source": [
    "# file.write(\"\"\"This is stmt1.\n",
    "# This is stmt2.\n",
    "# This is stmt3.\n",
    "# This is stmt4.\n",
    "# This is stmt5.\"\"\")\n",
    "# file.seek(0)\n",
    "# print(file.read())\n"
   ]
  },
  {
   "cell_type": "code",
   "execution_count": 31,
   "id": "444a6269",
   "metadata": {},
   "outputs": [
    {
     "data": {
      "text/plain": [
       "11"
      ]
     },
     "execution_count": 31,
     "metadata": {},
     "output_type": "execute_result"
    }
   ],
   "source": [
    "file.write(\"Hello World\")"
   ]
  },
  {
   "cell_type": "code",
   "execution_count": 32,
   "id": "23ab197a",
   "metadata": {},
   "outputs": [],
   "source": [
    "\n",
    "file.close()"
   ]
  },
  {
   "cell_type": "code",
   "execution_count": 33,
   "id": "a069e50f",
   "metadata": {},
   "outputs": [
    {
     "name": "stdout",
     "output_type": "stream",
     "text": [
      "This is stmt1.\n",
      "This is stmt2.\n",
      "This is stmt3.\n",
      "This is stmt4.\n",
      "This is stmt5.\n",
      "This is stmt1.\n",
      "This is stmt2.\n",
      "This is stmt3.\n",
      "This is stmt4.\n",
      "This is stmtHello WorldHello WorldHello WorldHello WorldHello WorldHello World"
     ]
    }
   ],
   "source": [
    "with open('FileDemo.txt','r') as file:\n",
    "    # print(file.read())\n",
    "    for line in file:\n",
    "        print(line,end='')"
   ]
  },
  {
   "cell_type": "code",
   "execution_count": 34,
   "id": "3020644c",
   "metadata": {},
   "outputs": [],
   "source": [
    "js = {\n",
    "    'India':1000,\n",
    "    'USA':100\n",
    "}"
   ]
  },
  {
   "cell_type": "code",
   "execution_count": 35,
   "id": "367e9015",
   "metadata": {},
   "outputs": [],
   "source": [
    "import json"
   ]
  },
  {
   "cell_type": "code",
   "execution_count": null,
   "id": "19c1de23",
   "metadata": {},
   "outputs": [],
   "source": [
    "with open('Country.json','w') as file:\n",
    "    json.dump(js,file)\n",
    "# This code writes a Python object (usually a dictionary or list) to a JSON file.\n",
    "\n",
    "\n"
   ]
  },
  {
   "cell_type": "code",
   "execution_count": 37,
   "id": "dd5035f5",
   "metadata": {},
   "outputs": [
    {
     "name": "stdout",
     "output_type": "stream",
     "text": [
      "{'India': 1000, 'USA': 100} <class 'dict'>\n"
     ]
    }
   ],
   "source": [
    "with open('Country.json','r') as file:\n",
    "    j = json.load(file)\n",
    "    print(j,type(j))"
   ]
  },
  {
   "cell_type": "code",
   "execution_count": 38,
   "id": "884e54d8",
   "metadata": {},
   "outputs": [],
   "source": [
    "l = ['s1','s2','s3','s4']\n",
    "with open('Question.txt','w') as file:\n",
    "    for line in l:\n",
    "        file.write(line+'\\n')"
   ]
  },
  {
   "cell_type": "code",
   "execution_count": 39,
   "id": "9ef60629",
   "metadata": {},
   "outputs": [
    {
     "data": {
      "text/plain": [
       "['s10', 's20', 's30', 's40']"
      ]
     },
     "execution_count": 39,
     "metadata": {},
     "output_type": "execute_result"
    }
   ],
   "source": [
    "ans = []\n",
    "with open('Question.txt','r') as file:\n",
    "    for line in file:\n",
    "        ans.append(line.strip()+'0')\n",
    "ans"
   ]
  },
  {
   "cell_type": "code",
   "execution_count": null,
   "id": "7fb41680",
   "metadata": {},
   "outputs": [
    {
     "data": {
      "text/plain": [
       "['Country.json',\n",
       " 'FileDemo.txt',\n",
       " 'FileHandling.ipynb',\n",
       " 'Question.txt',\n",
       " 'test.txt']"
      ]
     },
     "execution_count": 42,
     "metadata": {},
     "output_type": "execute_result"
    }
   ],
   "source": [
    "import os\n",
    "os.listdir('./')\n",
    "# This code lists all files and directories in the current\n",
    "#  working directory ('./' means \"current directory\").\n",
    "\n",
    "\n"
   ]
  },
  {
   "cell_type": "code",
   "execution_count": 41,
   "id": "03d682d7",
   "metadata": {},
   "outputs": [],
   "source": [
    "# file = open('../populations.txt','r')\n",
    "# print(file.read())\n",
    "# file.close()"
   ]
  }
 ],
 "metadata": {
  "kernelspec": {
   "display_name": ".venv",
   "language": "python",
   "name": "python3"
  },
  "language_info": {
   "codemirror_mode": {
    "name": "ipython",
    "version": 3
   },
   "file_extension": ".py",
   "mimetype": "text/x-python",
   "name": "python",
   "nbconvert_exporter": "python",
   "pygments_lexer": "ipython3",
   "version": "3.13.1"
  }
 },
 "nbformat": 4,
 "nbformat_minor": 5
}
