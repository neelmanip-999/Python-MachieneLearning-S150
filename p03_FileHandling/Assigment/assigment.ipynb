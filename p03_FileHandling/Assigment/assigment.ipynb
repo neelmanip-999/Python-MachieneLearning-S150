{
 "cells": [
  {
   "cell_type": "code",
   "execution_count": null,
   "id": "0b795c7c",
   "metadata": {},
   "outputs": [],
   "source": [
    "l=[['M1', 'M2', 'M3', 'M4',], ['10','20','30',40],['50','60','65','70'],['75','80','85','90']]"
   ]
  },
  {
   "cell_type": "code",
   "execution_count": 20,
   "id": "28058820",
   "metadata": {},
   "outputs": [],
   "source": [
    "with open('assigment.csv','w') as file:\n",
    "    for list in l:\n",
    "        file.write(','.join(map(str,list)))\n",
    "        file.write('\\n')\n",
    "        \n"
   ]
  },
  {
   "cell_type": "code",
   "execution_count": 21,
   "id": "541c107b",
   "metadata": {},
   "outputs": [
    {
     "name": "stdout",
     "output_type": "stream",
     "text": [
      "M1,M2,M3,M4\n",
      "10,20,30,40\n",
      "50,60,65,70\n",
      "75,80,85,90\n",
      "\n"
     ]
    }
   ],
   "source": [
    "with open('assigment.csv', 'r') as file:\n",
    "    file.seek(0)  # Optional here since file just opened\n",
    "    content = file.read()\n",
    "    print(content)"
   ]
  },
  {
   "cell_type": "code",
   "execution_count": null,
   "id": "2e9ab5ce",
   "metadata": {},
   "outputs": [],
   "source": []
  }
 ],
 "metadata": {
  "kernelspec": {
   "display_name": ".venv",
   "language": "python",
   "name": "python3"
  },
  "language_info": {
   "codemirror_mode": {
    "name": "ipython",
    "version": 3
   },
   "file_extension": ".py",
   "mimetype": "text/x-python",
   "name": "python",
   "nbconvert_exporter": "python",
   "pygments_lexer": "ipython3",
   "version": "3.13.1"
  }
 },
 "nbformat": 4,
 "nbformat_minor": 5
}
