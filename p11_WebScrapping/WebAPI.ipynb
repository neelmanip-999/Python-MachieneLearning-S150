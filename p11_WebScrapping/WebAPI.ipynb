{
 "cells": [
  {
   "cell_type": "markdown",
   "id": "4c116f27-8a33-408e-8bbe-072b46e8f63c",
   "metadata": {},
   "source": [
    "# Data Acquisition - Web API's\n",
    "- Application Programming Interface - Set of Routines running over Web Server\n",
    "- Connects Application & Database\n",
    "- Specify Data with URL\n",
    "- Retrieve Data & Parse It\n",
    "- API may return data in JSON, XML data format's\n",
    "\n",
    "# JSON\n",
    "- JavaScript Object Notation\n",
    "- Dictionary Like Data-Structure: key value pairs\n",
    "- keys are string, values can be anything\n",
    "- Easy to reaad and write"
   ]
  },
  {
   "cell_type": "markdown",
   "id": "8eaaa01b-00df-4f5f-a25a-72e354691335",
   "metadata": {},
   "source": [
    "# Type of Requests\n",
    "- GET\n",
    "- POST\n",
    "- DELETE\n",
    "- PUT\n",
    "- PATCH"
   ]
  },
  {
   "cell_type": "markdown",
   "id": "eb901fdc-5377-4289-9265-2be72ba5971e",
   "metadata": {},
   "source": [
    "# Requests Library\n",
    "- Most popular Python Library\n",
    "\n",
    "# Installation\n",
    "```\n",
    "pip install requests\n",
    "```"
   ]
  },
  {
   "cell_type": "code",
   "execution_count": 1,
   "id": "e5c33f40-6ec9-4700-9c5e-28baf93536be",
   "metadata": {},
   "outputs": [],
   "source": [
    "import requests"
   ]
  },
  {
   "cell_type": "code",
   "execution_count": 2,
   "id": "eea5cac5-402b-48a2-9009-41ed8b66d796",
   "metadata": {},
   "outputs": [],
   "source": [
    "url = 'https://catfact.ninja/'\n",
    "res = requests.get('https://catfact.ninja/fact',params={'max_length':50})\n",
    "\n",
    "# making a GET request to the Cat Fact API, limiting the response fact length to 50 characters."
   ]
  },
  {
   "cell_type": "code",
   "execution_count": 3,
   "id": "58b5444a-f841-4ac6-9321-bf5bb5fc0ae2",
   "metadata": {},
   "outputs": [
    {
     "data": {
      "text/plain": [
       "<Response [200]>"
      ]
     },
     "execution_count": 3,
     "metadata": {},
     "output_type": "execute_result"
    }
   ],
   "source": [
    "res"
   ]
  },
  {
   "cell_type": "code",
   "execution_count": 4,
   "id": "f69c5dcf-3efb-4164-9c36-9105118414e7",
   "metadata": {},
   "outputs": [
    {
     "name": "stdout",
     "output_type": "stream",
     "text": [
      "{\"fact\":\"Cats have supersonic hearing\",\"length\":28} <class 'str'>\n"
     ]
    }
   ],
   "source": [
    "print(res.text,type(res.text))\n",
    "\n",
    "# What res.text does:\n",
    "# res.text returns the response content as a plain Unicode string.\n",
    "\n",
    "# type(res.text) confirms it's a str (Python string)."
   ]
  },
  {
   "cell_type": "code",
   "execution_count": 5,
   "id": "92ec596c-b14c-4831-95bb-2c5b1d1e9625",
   "metadata": {},
   "outputs": [],
   "source": [
    "import json"
   ]
  },
  {
   "cell_type": "code",
   "execution_count": null,
   "id": "7a5b658c-3360-4df0-a67a-8d84da3e61f4",
   "metadata": {},
   "outputs": [
    {
     "name": "stdout",
     "output_type": "stream",
     "text": [
      "{'fact': 'Cats have supersonic hearing', 'length': 28} <class 'dict'>\n"
     ]
    }
   ],
   "source": [
    "print(json.loads(res.text),type(json.loads(res.text)))\n",
    "\n",
    "# 🔍 Doing This:\n",
    "# res.text: A raw JSON string (e.g., '{\"fact\":\"...\",\"length\":42}')\n",
    "\n",
    "# json.loads(res.text): Converts that JSON string into a Python dictionary\n",
    "\n",
    "# type(...): Confirms it's a <class 'dict'>"
   ]
  },
  {
   "cell_type": "code",
   "execution_count": 7,
   "id": "d0699150-be3e-4c89-adae-758b22296f56",
   "metadata": {},
   "outputs": [],
   "source": [
    "fact = res.json()"
   ]
  },
  {
   "cell_type": "code",
   "execution_count": 8,
   "id": "a29bd00d-da35-47b9-9bc7-07e2fd4c41b7",
   "metadata": {},
   "outputs": [
    {
     "data": {
      "text/plain": [
       "('Cats have supersonic hearing', 28)"
      ]
     },
     "execution_count": 8,
     "metadata": {},
     "output_type": "execute_result"
    }
   ],
   "source": [
    "fact['fact'],len(fact['fact'])"
   ]
  },
  {
   "cell_type": "code",
   "execution_count": 19,
   "id": "770d3274-b15e-4da0-9745-f244c0ca4fd7",
   "metadata": {},
   "outputs": [
    {
     "data": {
      "text/plain": [
       "28"
      ]
     },
     "execution_count": 19,
     "metadata": {},
     "output_type": "execute_result"
    }
   ],
   "source": [
    "fact['length']"
   ]
  },
  {
   "cell_type": "code",
   "execution_count": null,
   "id": "7ce09d1a-b361-446a-9035-e9a4bd195b3d",
   "metadata": {},
   "outputs": [],
   "source": []
  },
  {
   "cell_type": "code",
   "execution_count": 10,
   "id": "45e4eee8-aac7-4631-af5e-5dc8dcdc2cd4",
   "metadata": {},
   "outputs": [],
   "source": [
    "url = 'https://catfact.ninja/'\n",
    "res = requests.get(url+'facts',params={'max_length':50})"
   ]
  },
  {
   "cell_type": "code",
   "execution_count": 11,
   "id": "befd538d-f850-4fb7-b32a-1580e26dcb2c",
   "metadata": {},
   "outputs": [
    {
     "data": {
      "text/plain": [
       "<Response [200]>"
      ]
     },
     "execution_count": 11,
     "metadata": {},
     "output_type": "execute_result"
    }
   ],
   "source": [
    "res"
   ]
  },
  {
   "cell_type": "code",
   "execution_count": null,
   "id": "e3594538-24d4-422e-89b8-4f8d65a18446",
   "metadata": {},
   "outputs": [],
   "source": [
    "facts = res.json()\n",
    "\n",
    "# You're converting the JSON response from the API directly \n",
    "# into a Python dictionary and storing it in the variable facts.\n",
    "\n"
   ]
  },
  {
   "cell_type": "code",
   "execution_count": 13,
   "id": "f37f57da-5882-4031-9ede-ab6d4a510213",
   "metadata": {},
   "outputs": [
    {
     "data": {
      "text/plain": [
       "{'current_page': 1,\n",
       " 'data': [{'fact': 'Cats have 3 eyelids.', 'length': 20},\n",
       "  {'fact': 'Cats walk on their toes.', 'length': 24},\n",
       "  {'fact': 'Most cats adore sardines.', 'length': 25},\n",
       "  {'fact': 'Cats dislike citrus scent.', 'length': 26},\n",
       "  {'fact': 'Cats have supersonic hearing', 'length': 28},\n",
       "  {'fact': 'Female cats are polyestrous', 'length': 28},\n",
       "  {'fact': 'A form of AIDS exists in cats.', 'length': 30},\n",
       "  {'fact': 'Female felines are \\\\superfecund', 'length': 31},\n",
       "  {'fact': 'Milk can give some cats diarrhea.', 'length': 33},\n",
       "  {'fact': 'A group of cats is called a clowder.', 'length': 36}],\n",
       " 'first_page_url': 'https://catfact.ninja/facts?page=1',\n",
       " 'from': 1,\n",
       " 'last_page': 4,\n",
       " 'last_page_url': 'https://catfact.ninja/facts?page=4',\n",
       " 'links': [{'url': None, 'label': 'Previous', 'active': False},\n",
       "  {'url': 'https://catfact.ninja/facts?page=1', 'label': '1', 'active': True},\n",
       "  {'url': 'https://catfact.ninja/facts?page=2', 'label': '2', 'active': False},\n",
       "  {'url': 'https://catfact.ninja/facts?page=3', 'label': '3', 'active': False},\n",
       "  {'url': 'https://catfact.ninja/facts?page=4', 'label': '4', 'active': False},\n",
       "  {'url': 'https://catfact.ninja/facts?page=2',\n",
       "   'label': 'Next',\n",
       "   'active': False}],\n",
       " 'next_page_url': 'https://catfact.ninja/facts?page=2',\n",
       " 'path': 'https://catfact.ninja/facts',\n",
       " 'per_page': 10,\n",
       " 'prev_page_url': None,\n",
       " 'to': 10,\n",
       " 'total': 33}"
      ]
     },
     "execution_count": 13,
     "metadata": {},
     "output_type": "execute_result"
    }
   ],
   "source": [
    "facts"
   ]
  },
  {
   "cell_type": "code",
   "execution_count": 14,
   "id": "e522d711-2375-4da2-bbba-0424cd744336",
   "metadata": {},
   "outputs": [
    {
     "data": {
      "text/plain": [
       "[{'fact': 'Cats have 3 eyelids.', 'length': 20},\n",
       " {'fact': 'Cats walk on their toes.', 'length': 24},\n",
       " {'fact': 'Most cats adore sardines.', 'length': 25},\n",
       " {'fact': 'Cats dislike citrus scent.', 'length': 26},\n",
       " {'fact': 'Cats have supersonic hearing', 'length': 28},\n",
       " {'fact': 'Female cats are polyestrous', 'length': 28},\n",
       " {'fact': 'A form of AIDS exists in cats.', 'length': 30},\n",
       " {'fact': 'Female felines are \\\\superfecund', 'length': 31},\n",
       " {'fact': 'Milk can give some cats diarrhea.', 'length': 33},\n",
       " {'fact': 'A group of cats is called a clowder.', 'length': 36}]"
      ]
     },
     "execution_count": 14,
     "metadata": {},
     "output_type": "execute_result"
    }
   ],
   "source": [
    "facts['data']"
   ]
  },
  {
   "cell_type": "code",
   "execution_count": null,
   "id": "ed494e2e-975e-4652-9ce6-0451ac29ff57",
   "metadata": {},
   "outputs": [],
   "source": []
  },
  {
   "cell_type": "code",
   "execution_count": 15,
   "id": "4dcdea61-8c2b-47f2-965d-0ee5a4e9cbd4",
   "metadata": {},
   "outputs": [],
   "source": [
    "url = 'https://catfact.ninja/'\n",
    "facts = []\n",
    "for page in range(1,4):\n",
    "    res = requests.get(url+'facts',params={'max_length':50,'page':page})\n",
    "    f = res.json()\n",
    "    for d in f['data']:\n",
    "        facts.append(d['fact'])"
   ]
  },
  {
   "cell_type": "code",
   "execution_count": 16,
   "id": "8f8c9e62-baa1-4388-82b5-af09007e78e9",
   "metadata": {},
   "outputs": [
    {
     "data": {
      "text/plain": [
       "['Cats have 3 eyelids.',\n",
       " 'Cats walk on their toes.',\n",
       " 'Most cats adore sardines.',\n",
       " 'Cats dislike citrus scent.',\n",
       " 'Cats have supersonic hearing',\n",
       " 'Female cats are polyestrous',\n",
       " 'A form of AIDS exists in cats.',\n",
       " 'Female felines are \\\\superfecund',\n",
       " 'Milk can give some cats diarrhea.',\n",
       " 'A group of cats is called a clowder.',\n",
       " 'A group of cats is called a “clowder.”',\n",
       " \"Cat's urine glows under a black light.\",\n",
       " 'Cats can be right-pawed or left-pawed.',\n",
       " \"A tiger's stripes are like fingerprints\",\n",
       " \"70% of your cat's life is spent asleep.\",\n",
       " 'Cats have the largest eyes of any mammal.',\n",
       " 'A cat cannot see directly under its nose.',\n",
       " 'A female cat is called a queen or a molly.',\n",
       " 'There are approximately 100 breeds of cat.',\n",
       " 'Approximately 24 cat skins can make a coat.',\n",
       " 'A domestic cat can run at speeds of 30 mph.',\n",
       " 'Cats take between 20-40 breaths per minute.',\n",
       " \"The cat's tail is used to maintain balance.\",\n",
       " 'A happy cat holds her tail high and steady.',\n",
       " 'A cats field of vision is about 185 degrees.',\n",
       " 'A cat can jump 5 times as high as it is tall.',\n",
       " \"A cat's field of vision is about 200 degrees.\",\n",
       " \"Jaguars are the only big cats that don't roar.\",\n",
       " 'Cats can jump up to 7 times their tail length.',\n",
       " 'Blue-eyed, pure white cats are frequently deaf.']"
      ]
     },
     "execution_count": 16,
     "metadata": {},
     "output_type": "execute_result"
    }
   ],
   "source": [
    "facts"
   ]
  },
  {
   "cell_type": "code",
   "execution_count": null,
   "id": "c8c0e2c1-7d2e-4824-aa3f-3470d6f8c2f7",
   "metadata": {},
   "outputs": [],
   "source": []
  },
  {
   "cell_type": "code",
   "execution_count": 17,
   "id": "fcd0f269-d65e-49c4-b18b-d21b6d46bcb2",
   "metadata": {},
   "outputs": [],
   "source": [
    "url = 'https://catfact.ninja/'\n",
    "breeds = []\n",
    "for page in range(1,4):\n",
    "    res = requests.get(url+'breeds',params={'page':page})\n",
    "    f = res.json()\n",
    "    for d in f['data']:\n",
    "        breeds.append(d['breed'])"
   ]
  },
  {
   "cell_type": "code",
   "execution_count": 18,
   "id": "1df47bbc-3a38-467f-abd0-8b7923e4f33c",
   "metadata": {},
   "outputs": [
    {
     "data": {
      "text/plain": [
       "['Abyssinian',\n",
       " 'Aegean',\n",
       " 'American Curl',\n",
       " 'American Bobtail',\n",
       " 'American Shorthair',\n",
       " 'American Wirehair',\n",
       " 'Arabian Mau',\n",
       " 'Australian Mist',\n",
       " 'Asian',\n",
       " 'Asian Semi-longhair',\n",
       " 'Balinese',\n",
       " 'Bambino',\n",
       " 'Bengal',\n",
       " 'Birman',\n",
       " 'Bombay',\n",
       " 'Brazilian Shorthair',\n",
       " 'British Semi-longhair',\n",
       " 'British Shorthair',\n",
       " 'British Longhair',\n",
       " 'Burmese',\n",
       " 'Burmilla',\n",
       " 'California Spangled',\n",
       " 'Chantilly-Tiffany',\n",
       " 'Chartreux',\n",
       " 'Chausie',\n",
       " 'Cheetoh',\n",
       " 'Colorpoint Shorthair',\n",
       " 'Cornish Rex',\n",
       " 'Cymric or Manx Longhair',\n",
       " 'Cyprus',\n",
       " 'Devon Rex',\n",
       " 'Donskoy, or Don Sphynx',\n",
       " 'Dragon Li',\n",
       " 'Dwarf cat, or Dwelf',\n",
       " 'Egyptian Mau',\n",
       " 'European Shorthair',\n",
       " 'Exotic Shorthair',\n",
       " 'Foldex[4]',\n",
       " 'German Rex',\n",
       " 'Havana Brown',\n",
       " 'Highlander',\n",
       " 'Himalayan, or Colorpoint Persian',\n",
       " 'Japanese Bobtail',\n",
       " 'Javanese',\n",
       " 'Karelian Bobtail',\n",
       " 'Khao Manee',\n",
       " 'Korat',\n",
       " 'Korean Bobtail',\n",
       " 'Korn Ja',\n",
       " 'Kurilian Bobtail, or Kuril Islands Bobtail',\n",
       " 'LaPerm',\n",
       " 'Lykoi',\n",
       " 'Maine Coon',\n",
       " 'Manx',\n",
       " 'Mekong Bobtail',\n",
       " 'Minskin',\n",
       " 'Munchkin',\n",
       " 'Nebelung',\n",
       " 'Napoleon',\n",
       " 'Norwegian Forest cat',\n",
       " 'Ocicat',\n",
       " 'Ojos Azules',\n",
       " 'Oregon Rex',\n",
       " 'Oriental Bicolor',\n",
       " 'Oriental Shorthair',\n",
       " 'Oriental Longhair',\n",
       " 'PerFoldæ(Experimental Breed - WCF)',\n",
       " 'Persian (Modern Persian Cat)',\n",
       " 'Persian (Traditional Persian Cat)',\n",
       " 'Peterbald',\n",
       " 'Pixie-bob',\n",
       " 'Raas',\n",
       " 'Ragamuffin',\n",
       " 'Ragdoll',\n",
       " 'Russian Blue']"
      ]
     },
     "execution_count": 18,
     "metadata": {},
     "output_type": "execute_result"
    }
   ],
   "source": [
    "breeds"
   ]
  },
  {
   "cell_type": "code",
   "execution_count": 20,
   "id": "72315188-dbda-4bd0-90f8-5c62edf5d512",
   "metadata": {},
   "outputs": [
    {
     "name": "stdout",
     "output_type": "stream",
     "text": [
      "200\n",
      "{\n",
      "  \"current_user_url\": \"https://api.github.com/user\",\n",
      "  \"current_user_authorizations_html_url\": \"https://github.com/settings/connections/applications{/client_id}\",\n",
      "  \"authorizations_url\": \"https://api.github.com/authorizations\",\n",
      "  \"code_search_url\": \"https://api.github.com/search/code?q={query}{&page,per_page,sort,order}\",\n",
      "  \"commit_search_url\": \"https://api.github.com/search/commits?q={query}{&page,per_page,sort,order}\",\n",
      "  \"emails_url\": \"https://api.github.com/user/emails\",\n",
      "  \"emojis_url\": \"https://api.github.com/emojis\",\n",
      "  \"events_url\": \"https://api.github.com/events\",\n",
      "  \"feeds_url\": \"https://api.github.com/feeds\",\n",
      "  \"followers_url\": \"https://api.github.com/user/followers\",\n",
      "  \"following_url\": \"https://api.github.com/user/following{/target}\",\n",
      "  \"gists_url\": \"https://api.github.com/gists{/gist_id}\",\n",
      "  \"hub_url\": \"https://api.github.com/hub\",\n",
      "  \"issue_search_url\": \"https://api.github.com/search/issues?q={query}{&page,per_page,sort,order}\",\n",
      "  \"issues_url\": \"https://api.github.com/issues\",\n",
      "  \"keys_url\": \"https://api.github.com/user/keys\",\n",
      "  \"label_search_url\": \"https://api.github.com/search/labels?q={query}&repository_id={repository_id}{&page,per_page}\",\n",
      "  \"notifications_url\": \"https://api.github.com/notifications\",\n",
      "  \"organization_url\": \"https://api.github.com/orgs/{org}\",\n",
      "  \"organization_repositories_url\": \"https://api.github.com/orgs/{org}/repos{?type,page,per_page,sort}\",\n",
      "  \"organization_teams_url\": \"https://api.github.com/orgs/{org}/teams\",\n",
      "  \"public_gists_url\": \"https://api.github.com/gists/public\",\n",
      "  \"rate_limit_url\": \"https://api.github.com/rate_limit\",\n",
      "  \"repository_url\": \"https://api.github.com/repos/{owner}/{repo}\",\n",
      "  \"repository_search_url\": \"https://api.github.com/search/repositories?q={query}{&page,per_page,sort,order}\",\n",
      "  \"current_user_repositories_url\": \"https://api.github.com/user/repos{?type,page,per_page,sort}\",\n",
      "  \"starred_url\": \"https://api.github.com/user/starred{/owner}{/repo}\",\n",
      "  \"starred_gists_url\": \"https://api.github.com/gists/starred\",\n",
      "  \"topic_search_url\": \"https://api.github.com/search/topics?q={query}{&page,per_page}\",\n",
      "  \"user_url\": \"https://api.github.com/users/{user}\",\n",
      "  \"user_organizations_url\": \"https://api.github.com/user/orgs\",\n",
      "  \"user_repositories_url\": \"https://api.github.com/users/{user}/repos{?type,page,per_page,sort}\",\n",
      "  \"user_search_url\": \"https://api.github.com/search/users?q={query}{&page,per_page,sort,order}\"\n",
      "}\n",
      "\n"
     ]
    }
   ],
   "source": [
    "import requests\n",
    "\n",
    "response = requests.get('https://api.github.com')\n",
    "print(response.status_code)  # e.g., 200\n",
    "print(response.text)         # raw HTML/JSON/text\n"
   ]
  }
 ],
 "metadata": {
  "kernelspec": {
   "display_name": ".venv",
   "language": "python",
   "name": "python3"
  },
  "language_info": {
   "codemirror_mode": {
    "name": "ipython",
    "version": 3
   },
   "file_extension": ".py",
   "mimetype": "text/x-python",
   "name": "python",
   "nbconvert_exporter": "python",
   "pygments_lexer": "ipython3",
   "version": "3.13.1"
  }
 },
 "nbformat": 4,
 "nbformat_minor": 5
}
