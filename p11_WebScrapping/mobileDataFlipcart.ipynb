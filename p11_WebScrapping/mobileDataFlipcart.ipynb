{
 "cells": [
  {
   "cell_type": "code",
   "execution_count": 2,
   "id": "13e4360a",
   "metadata": {},
   "outputs": [],
   "source": [
    "import pandas as pd\n",
    "import bs4\n",
    "import requests"
   ]
  },
  {
   "cell_type": "code",
   "execution_count": 20,
   "id": "81768303",
   "metadata": {},
   "outputs": [],
   "source": [
    "url='https://www.flipkart.com/search?q=mobile'\n",
    "response=requests.get(url)\n",
    "# print(response.text)"
   ]
  },
  {
   "cell_type": "code",
   "execution_count": 19,
   "id": "e1aa6ff4",
   "metadata": {},
   "outputs": [],
   "source": [
    "soup=bs4.BeautifulSoup(response.content,'html.parser')\n",
    "# print(soup.prettify())"
   ]
  },
  {
   "cell_type": "code",
   "execution_count": 17,
   "id": "0582ebc2",
   "metadata": {},
   "outputs": [
    {
     "name": "stdout",
     "output_type": "stream",
     "text": [
      "REDMI A5 (Pondicherry Blue, 128 GB)--->₹7,499\n",
      "REDMI A3X (Ocean Green, 64 GB)--->₹5,999\n",
      "POCO C71 (Desert Gold, 128 GB)--->₹6,999\n",
      "POCO F7 5G (Phantom Black, 512 GB)--->₹33,999\n",
      "Samsung Galaxy F05 (Twilight Blue, 64 GB)--->₹6,499\n",
      "POCO M6 Plus 5G (Ice Silver, 128 GB)--->₹10,080\n",
      "POCO C71 (Cool Blue, 128 GB)--->₹6,999\n",
      "POCO C75 5G (Enchanted Green, 64 GB)--->₹7,699\n",
      "REDMI A3X (Midnight Black, 64 GB)--->₹5,999\n",
      "Nokia 105 Classic with Charger--->₹998\n",
      "CMF by Nothing Phone 2 Pro (White, 128 GB)--->₹18,999\n",
      "Nothing Phone (3a) (White, 256 GB)--->₹26,999\n",
      "OPPO Reno14 5G (Forest Green, 256 GB)--->₹37,999\n",
      "Nokia 130 Music Dual Sim, Music Player, Wireless FM Radio and Dedicated Music Buttons--->₹1,849\n",
      "MOTOROLA g05 (Forest Green, 64 GB)--->₹7,299\n",
      "Nokia 110 Dual Sim, Keypad Mobile with Wireless FM Radio, Bluetooth and Rear Camera--->₹1,000\n",
      "REDMI A3X (Ocean Green, 64 GB)--->₹6,499\n",
      "POCO C75 5G (Aqua Bliss, 64 GB)--->₹7,699\n",
      "vivo T4 Lite 5G Charger in the Box (Titanium Gold, 128 GB)--->₹10,999\n",
      "Nokia 130 Music Dual Sim, Music Player, Wireless FM Radio and Dedicated Music Buttons--->₹1,895\n",
      "REDMI A5 (Just Black, 64 GB)--->₹6,499\n",
      "MOTOROLA g05 (Plum Red, 64 GB)--->₹7,299\n",
      "REDMI 13 5G (Hawaiian Blue, 128 GB)--->₹11,942\n",
      "vivo T4x 5G (Marine Blue, 128 GB)--->₹13,999\n"
     ]
    }
   ],
   "source": [
    "mobiles=soup.find_all('div',attrs={'class':'KzDlHZ'})\n",
    "prices=soup.find_all('div',attrs={'class':'Nx9bqj _4b5DiR'})\n",
    "for mobile,price in zip(mobiles,prices):\n",
    "    print(f\"{mobile.text}--->{price.text}\")"
   ]
  },
  {
   "cell_type": "code",
   "execution_count": 11,
   "id": "e1f570b1",
   "metadata": {},
   "outputs": [
    {
     "name": "stdout",
     "output_type": "stream",
     "text": [
      "REDMI A5 (Pondicherry Blue, 128 GB)-₹7,499\n",
      "REDMI A3X (Ocean Green, 64 GB)-₹5,999\n",
      "POCO C71 (Desert Gold, 128 GB)-₹6,999\n",
      "POCO F7 5G (Phantom Black, 512 GB)-₹33,999\n",
      "Samsung Galaxy F05 (Twilight Blue, 64 GB)-₹6,499\n",
      "POCO M6 Plus 5G (Ice Silver, 128 GB)-₹10,080\n",
      "POCO C71 (Cool Blue, 128 GB)-₹6,999\n",
      "POCO C75 5G (Enchanted Green, 64 GB)-₹7,699\n",
      "REDMI A3X (Midnight Black, 64 GB)-₹5,999\n",
      "Nokia 105 Classic with Charger-₹998\n",
      "CMF by Nothing Phone 2 Pro (White, 128 GB)-₹18,999\n",
      "Nothing Phone (3a) (White, 256 GB)-₹26,999\n",
      "OPPO Reno14 5G (Forest Green, 256 GB)-₹37,999\n",
      "Nokia 130 Music Dual Sim, Music Player, Wireless FM Radio and Dedicated Music Buttons-₹1,849\n",
      "MOTOROLA g05 (Forest Green, 64 GB)-₹7,299\n",
      "Nokia 110 Dual Sim, Keypad Mobile with Wireless FM Radio, Bluetooth and Rear Camera-₹1,000\n",
      "REDMI A3X (Ocean Green, 64 GB)-₹6,499\n",
      "POCO C75 5G (Aqua Bliss, 64 GB)-₹7,699\n",
      "vivo T4 Lite 5G Charger in the Box (Titanium Gold, 128 GB)-₹10,999\n",
      "Nokia 130 Music Dual Sim, Music Player, Wireless FM Radio and Dedicated Music Buttons-₹1,895\n",
      "REDMI A5 (Just Black, 64 GB)-₹6,499\n",
      "MOTOROLA g05 (Plum Red, 64 GB)-₹7,299\n",
      "REDMI 13 5G (Hawaiian Blue, 128 GB)-₹11,942\n",
      "vivo T4x 5G (Marine Blue, 128 GB)-₹13,999\n"
     ]
    }
   ],
   "source": [
    "import requests\n",
    "from bs4 import BeautifulSoup\n",
    "\n",
    "url = \"https://www.flipkart.com/search?q=mobile\"\n",
    "response = requests.get(url)\n",
    "soup = BeautifulSoup(response.content, \"html.parser\")\n",
    "\n",
    "prices = soup.find_all('div', attrs={'class': 'Nx9bqj _4b5DiR'})\n",
    "phone_name = soup.find_all('div', attrs={'class': 'KzDlHZ'})\n",
    "\n",
    "for phone, price in zip(phone_name, prices):\n",
    "    print(f\"{phone.text}-{price.text}\")"
   ]
  },
  {
   "cell_type": "code",
   "execution_count": 18,
   "id": "e422bec9",
   "metadata": {},
   "outputs": [
    {
     "name": "stdout",
     "output_type": "stream",
     "text": [
      "Data saved to flipkart_mobiles.csv\n"
     ]
    }
   ],
   "source": [
    "import requests\n",
    "from bs4 import BeautifulSoup\n",
    "import pandas as pd\n",
    "\n",
    "# Step 1: Send request\n",
    "url = \"https://www.flipkart.com/search?q=mobile\"\n",
    "headers = {\n",
    "    \"User-Agent\": \"Mozilla/5.0 (Windows NT 10.0; Win64; x64)\"\n",
    "}\n",
    "response = requests.get(url, headers=headers)\n",
    "soup = BeautifulSoup(response.content, \"html.parser\")\n",
    "\n",
    "# Step 2: Extract data\n",
    "products = []\n",
    "for item in soup.select(\"div._1AtVbE\"):  # container for each product\n",
    "    name = item.select_one(\"div.KzDlHZ\")\n",
    "    price = item.select_one(\"div.Nx9bqj._4b5DiR\")\n",
    "    rating = item.select_one(\"div.XQDdHH span\")  # rating might be inside a span\n",
    "\n",
    "    if name and price:\n",
    "        products.append({\n",
    "            \"Name\": name.text.strip(),\n",
    "            \"Price\": price.text.strip(),\n",
    "            \"Rating\": rating.text.strip() if rating else \"No Rating\"\n",
    "        })\n",
    "\n",
    "# Step 3: Save to CSV\n",
    "df = pd.DataFrame(products)\n",
    "df.to_csv(\"flipkart_mobiles.csv\", index=False)\n",
    "print(\"Data saved to flipkart_mobiles.csv\")\n",
    "\n"
   ]
  },
  {
   "cell_type": "code",
   "execution_count": 23,
   "id": "c908be15",
   "metadata": {},
   "outputs": [
    {
     "name": "stdout",
     "output_type": "stream",
     "text": [
      "Empty DataFrame\n",
      "Columns: []\n",
      "Index: []\n"
     ]
    }
   ],
   "source": [
    "print(df)"
   ]
  },
  {
   "cell_type": "code",
   "execution_count": null,
   "id": "5166e84d",
   "metadata": {},
   "outputs": [],
   "source": []
  }
 ],
 "metadata": {
  "kernelspec": {
   "display_name": ".venv",
   "language": "python",
   "name": "python3"
  },
  "language_info": {
   "codemirror_mode": {
    "name": "ipython",
    "version": 3
   },
   "file_extension": ".py",
   "mimetype": "text/x-python",
   "name": "python",
   "nbconvert_exporter": "python",
   "pygments_lexer": "ipython3",
   "version": "3.13.1"
  }
 },
 "nbformat": 4,
 "nbformat_minor": 5
}
