{
 "cells": [
  {
   "cell_type": "code",
   "execution_count": 1,
   "id": "9e980407",
   "metadata": {},
   "outputs": [],
   "source": [
    "import requests\n",
    "import bs4"
   ]
  },
  {
   "cell_type": "code",
   "execution_count": 2,
   "id": "2bd475b5",
   "metadata": {},
   "outputs": [
    {
     "name": "stdout",
     "output_type": "stream",
     "text": [
      "200\n"
     ]
    }
   ],
   "source": [
    "url='https://www.worldometers.info/geography/alphabetical-list-of-countries/'\n",
    "response=requests.get(url)\n",
    "print(response.status_code)\n",
    "# print(response.text)"
   ]
  },
  {
   "cell_type": "code",
   "execution_count": 18,
   "id": "513b9457",
   "metadata": {},
   "outputs": [],
   "source": [
    "soup = bs4.BeautifulSoup(response.text)\n",
    "# print(soup.prettify())"
   ]
  },
  {
   "cell_type": "code",
   "execution_count": 4,
   "id": "d3670c4d",
   "metadata": {},
   "outputs": [
    {
     "data": {
      "text/plain": [
       "'List of Countries of the world in alphabetical order (A to Z) - Worldometer'"
      ]
     },
     "execution_count": 4,
     "metadata": {},
     "output_type": "execute_result"
    }
   ],
   "source": [
    "soup.find('title').text"
   ]
  },
  {
   "cell_type": "code",
   "execution_count": 5,
   "id": "011777a2",
   "metadata": {},
   "outputs": [],
   "source": [
    "table_tag=soup.find('table')\n"
   ]
  },
  {
   "cell_type": "code",
   "execution_count": 6,
   "id": "38a1dac3",
   "metadata": {},
   "outputs": [
    {
     "data": {
      "text/plain": [
       "'   #  Country  Population(2025)  Land Area(Km²)  Density(P/Km²)   '"
      ]
     },
     "execution_count": 6,
     "metadata": {},
     "output_type": "execute_result"
    }
   ],
   "source": [
    "thead=table_tag.thead\n",
    "thead.text"
   ]
  },
  {
   "cell_type": "code",
   "execution_count": 7,
   "id": "2e162731",
   "metadata": {},
   "outputs": [
    {
     "name": "stdout",
     "output_type": "stream",
     "text": [
      "  1  Afghanistan  43,844,111  652,860  67  \n",
      "  2  Albania  2,771,508  27,400  101  \n",
      "  3  Algeria  47,435,312  2,381,740  20  \n",
      "  4  Andorra  82,904  470  176  \n",
      "  5  Angola  39,040,039  1,246,700  31  \n",
      "  6  Antigua and Barbuda  94,209  440  214  \n",
      "  7  Argentina  45,851,378  2,736,690  17  \n",
      "  8  Armenia  2,952,365  28,470  104  \n",
      "  9  Australia  26,974,026  7,682,300  4  \n",
      "  10  Austria  9,113,574  82,409  111  \n",
      "  11  Azerbaijan  10,397,713  82,658  126  \n",
      "  12  Bahamas  403,033  10,010  40  \n",
      "  13  Bahrain  1,643,332  760  2,162  \n",
      "  14  Bangladesh  175,686,899  130,170  1,350  \n",
      "  15  Barbados  282,623  430  657  \n",
      "  16  Belarus  8,997,603  202,910  44  \n",
      "  17  Belgium  11,758,603  30,280  388  \n",
      "  18  Belize  422,924  22,810  19  \n",
      "  19  Benin  14,814,460  112,760  131  \n",
      "  20  Bhutan  796,682  38,117  21  \n",
      "  21  Bolivia  12,581,843  1,083,300  12  \n",
      "  22  Bosnia and Herzegovina  3,140,095  51,000  62  \n",
      "  23  Botswana  2,562,122  566,730  5  \n",
      "  24  Brazil  212,812,405  8,358,140  25  \n",
      "  25  Brunei   466,330  5,270  88  \n",
      "  26  Bulgaria  6,714,560  108,560  62  \n",
      "  27  Burkina Faso  24,074,580  273,600  88  \n",
      "  28  Burundi  14,390,003  25,680  560  \n",
      "  29  Cabo Verde  527,326  4,030  131  \n",
      "  30  Cambodia  17,847,982  176,520  101  \n",
      "  31  Cameroon  29,879,337  472,710  63  \n",
      "  32  Canada  40,126,723  9,093,510  4  \n",
      "  33  Central African Republic  5,513,282  622,980  9  \n",
      "  34  Chad  21,003,705  1,259,200  17  \n",
      "  35  Chile  19,859,921  743,532  27  \n",
      "  36  China  1,416,096,094  9,388,211  151  \n",
      "  37  Colombia  53,425,635  1,109,500  48  \n",
      "  38  Comoros  882,847  1,861  474  \n",
      "  39  Congo (Congo-Brazzaville)  6,484,437  341,500  19  \n",
      "  40  Costa Rica  5,152,950  51,060  101  \n",
      "  41  Côte d'Ivoire  32,711,547  318,000  103  \n",
      "  42  Croatia  3,848,160  55,960  69  \n",
      "  43  Cuba  10,937,203  106,440  103  \n",
      "  44  Cyprus  1,370,754  9,240  148  \n",
      "  45  Czechia (Czech Republic)  10,609,239  77,240  137  \n",
      "  46  Democratic Republic of the Congo  112,832,473  2,267,050  50  \n",
      "  47  Denmark  6,002,507  42,430  141  \n",
      "  48  Djibouti  1,184,076  23,180  51  \n",
      "  49  Dominica  65,871  750  88  \n",
      "  50  Dominican Republic  11,520,487  48,320  238  \n",
      "  51  Ecuador  18,289,896  248,360  74  \n",
      "  52  Egypt  118,365,995  995,450  119  \n",
      "  53  El Salvador  6,365,503  20,720  307  \n",
      "  54  Equatorial Guinea  1,938,431  28,050  69  \n",
      "  55  Eritrea  3,607,003  101,000  36  \n",
      "  56  Estonia  1,344,232  42,390  32  \n",
      "  57  Eswatini (fmr. \"\"Swaziland\"\")  1,256,174  17,200  73  \n",
      "  58  Ethiopia  135,472,051  1,000,000  135  \n",
      "  59  Fiji  933,154  18,270  51  \n",
      "  60  Finland  5,623,329  303,890  19  \n",
      "  61  France  66,650,804  547,557  122  \n",
      "  62  Gabon  2,593,130  257,670  10  \n",
      "  63  Gambia  2,822,093  10,120  279  \n",
      "  64  Georgia  3,806,671  69,490  55  \n",
      "  65  Germany  84,075,075  348,560  241  \n",
      "  66  Ghana  35,064,272  227,540  154  \n",
      "  67  Greece  9,938,844  128,900  77  \n",
      "  68  Grenada  117,303  340  345  \n",
      "  69  Guatemala  18,687,881  107,160  174  \n",
      "  70  Guinea  15,099,727  245,720  61  \n",
      "  71  Guinea-Bissau  2,249,515  28,120  80  \n",
      "  72  Guyana  835,986  196,850  4  \n",
      "  73  Haiti  11,906,095  27,560  432  \n",
      "  74  Holy See  501  0  1,253  \n",
      "  75  Honduras  11,005,850  111,890  98  \n",
      "  76  Hungary  9,632,287  90,530  106  \n",
      "  77  Iceland  398,266  100,250  4  \n",
      "  78  India  1,463,865,525  2,973,190  492  \n",
      "  79  Indonesia  285,721,236  1,811,570  158  \n",
      "  80  Iran  92,417,681  1,628,550  57  \n",
      "  81  Iraq  47,020,774  434,320  108  \n",
      "  82  Ireland  5,308,039  68,890  77  \n",
      "  83  Israel  9,517,181  21,640  440  \n",
      "  84  Italy  59,146,260  294,140  201  \n",
      "  85  Jamaica  2,837,077  10,830  262  \n",
      "  86  Japan  123,103,479  364,555  338  \n",
      "  87  Jordan  11,520,684  88,780  130  \n",
      "  88  Kazakhstan  20,843,754  2,699,700  8  \n",
      "  89  Kenya  57,532,493  569,140  101  \n",
      "  90  Kiribati  136,488  810  169  \n",
      "  91  Kuwait  5,026,078  17,820  282  \n",
      "  92  Kyrgyzstan  7,295,034  191,800  38  \n",
      "  93  Laos  7,873,046  230,800  34  \n",
      "  94  Latvia  1,853,559  62,200  30  \n",
      "  95  Lebanon  5,849,421  10,230  572  \n",
      "  96  Lesotho  2,363,325  30,360  78  \n",
      "  97  Liberia  5,731,206  96,320  60  \n",
      "  98  Libya  7,458,555  1,759,540  4  \n",
      "  99  Liechtenstein  40,128  160  251  \n",
      "  100  Lithuania  2,830,144  62,674  45  \n",
      "  101  Luxembourg  680,453  2,590  263  \n",
      "  102  Madagascar  32,740,678  581,795  56  \n",
      "  103  Malawi  22,216,120  94,280  236  \n",
      "  104  Malaysia  35,977,838  328,550  110  \n",
      "  105  Maldives  529,676  300  1,766  \n",
      "  106  Mali  25,198,821  1,220,190  21  \n",
      "  107  Malta  545,405  320  1,704  \n",
      "  108  Marshall Islands  36,282  180  202  \n",
      "  109  Mauritania  5,315,065  1,030,700  5  \n",
      "  110  Mauritius  1,268,280  2,030  625  \n",
      "  111  Mexico  131,946,900  1,943,950  68  \n",
      "  112  Micronesia  113,683  700  162  \n",
      "  113  Moldova  2,996,106  32,850  91  \n",
      "  114  Monaco  38,341  1  25,732  \n",
      "  115  Mongolia  3,517,100  1,553,560  2  \n",
      "  116  Montenegro  632,729  13,450  47  \n",
      "  117  Morocco  38,430,770  446,300  86  \n",
      "  118  Mozambique  35,631,653  786,380  45  \n",
      "  119  Myanmar (formerly Burma)  54,850,648  653,290  84  \n",
      "  120  Namibia  3,092,816  823,290  4  \n",
      "  121  Nauru  12,025  20  601  \n",
      "  122  Nepal  29,618,118  143,350  207  \n",
      "  123  Netherlands  18,346,819  33,720  544  \n",
      "  124  New Zealand  5,251,899  263,310  20  \n",
      "  125  Nicaragua  7,007,502  120,340  58  \n",
      "  126  Niger  27,917,831  1,266,700  22  \n",
      "  127  Nigeria  237,527,782  910,770  261  \n",
      "  128  North Korea  26,571,036  120,410  221  \n",
      "  129  North Macedonia  1,813,791  25,220  72  \n",
      "  130  Norway  5,623,071  365,268  15  \n",
      "  131  Oman  5,494,691  309,500  18  \n",
      "  132  Pakistan  255,219,554  770,880  331  \n",
      "  133  Palau  17,663  460  38  \n",
      "  134  Palestine State  5,589,623  6,020  929  \n",
      "  135  Panama  4,571,189  74,340  61  \n",
      "  136  Papua New Guinea  10,762,817  452,860  24  \n",
      "  137  Paraguay  7,013,078  397,300  18  \n",
      "  138  Peru  34,576,665  1,280,000  27  \n",
      "  139  Philippines  116,786,962  298,170  392  \n",
      "  140  Poland  38,140,910  306,230  125  \n",
      "  141  Portugal  10,411,834  91,590  114  \n",
      "  142  Qatar  3,115,889  11,610  268  \n",
      "  143  Romania  18,908,650  230,170  82  \n",
      "  144  Russia  143,997,393  16,376,870  9  \n",
      "  145  Rwanda  14,569,341  24,670  591  \n",
      "  146  Saint Kitts and Nevis  46,922  260  180  \n",
      "  147  Saint Lucia  180,149  610  295  \n",
      "  148  Saint Vincent and the Grenadines  99,924  390  256  \n",
      "  149  Samoa  219,306  2,830  77  \n",
      "  150  San Marino  33,572  60  560  \n",
      "  151  Sao Tome and Principe  240,254  960  250  \n",
      "  152  Saudi Arabia  34,566,328  2,149,690  16  \n",
      "  153  Senegal  18,931,966  192,530  98  \n",
      "  154  Serbia  6,689,039  87,460  76  \n",
      "  155  Seychelles  132,779  460  289  \n",
      "  156  Sierra Leone  8,819,794  72,180  122  \n",
      "  157  Singapore  5,870,750  700  8,387  \n",
      "  158  Slovakia  5,474,881  48,088  114  \n",
      "  159  Slovenia  2,117,072  20,140  105  \n",
      "  160  Solomon Islands  838,645  27,990  30  \n",
      "  161  Somalia  19,654,739  627,340  31  \n",
      "  162  South Africa  64,747,319  1,213,090  53  \n",
      "  163  South Korea  51,667,029  97,230  531  \n",
      "  164  South Sudan  12,188,788  610,952  20  \n",
      "  165  Spain  47,889,958  498,800  96  \n",
      "  166  Sri Lanka  23,229,470  62,710  370  \n",
      "  167  Sudan  51,662,147  1,765,048  29  \n",
      "  168  Suriname  639,850  156,000  4  \n",
      "  169  Sweden  10,656,633  410,340  26  \n",
      "  170  Switzerland  8,967,407  39,516  227  \n",
      "  171  Syria  25,620,427  183,630  140  \n",
      "  172  Tajikistan  10,786,734  139,960  77  \n",
      "  173  Tanzania  70,545,865  885,800  80  \n",
      "  174  Thailand  71,619,863  510,890  140  \n",
      "  175  Timor-Leste  1,418,517  14,870  95  \n",
      "  176  Togo  9,721,608  54,390  179  \n",
      "  177  Tonga  103,742  720  144  \n",
      "  178  Trinidad and Tobago  1,511,155  5,130  295  \n",
      "  179  Tunisia  12,348,573  155,360  79  \n",
      "  180  Turkey  87,685,426  769,630  114  \n",
      "  181  Turkmenistan  7,618,847  469,930  16  \n",
      "  182  Tuvalu  9,492  30  316  \n",
      "  183  Uganda  51,384,894  199,810  257  \n",
      "  184  Ukraine  38,980,376  579,320  67  \n",
      "  185  United Arab Emirates  11,346,000  83,600  136  \n",
      "  186  United Kingdom  69,551,332  241,930  287  \n",
      "  187  United States of America  347,275,807  9,147,420  38  \n",
      "  188  Uruguay  3,384,688  175,020  19  \n",
      "  189  Uzbekistan  37,053,428  425,400  87  \n",
      "  190  Vanuatu  335,169  12,190  27  \n",
      "  191  Venezuela  28,516,896  882,050  32  \n",
      "  192  Vietnam  101,598,527  310,070  328  \n",
      "  193  Yemen  41,773,878  527,970  79  \n",
      "  194  Zambia  21,913,874  743,390  29  \n",
      "  195  Zimbabwe  16,950,795  386,850  44  \n"
     ]
    }
   ],
   "source": [
    "tbody=table_tag.tbody\n",
    "\n",
    "for tr in tbody.find_all('tr'):\n",
    "    print(tr.text)"
   ]
  },
  {
   "cell_type": "code",
   "execution_count": 8,
   "id": "6a9d712e",
   "metadata": {},
   "outputs": [
    {
     "name": "stdout",
     "output_type": "stream",
     "text": [
      "200\n"
     ]
    }
   ],
   "source": [
    "url='https://www.worldometers.info/geography/alphabetical-list-of-countries/'\n",
    "response=requests.get(url)\n",
    "print(response.status_code)\n",
    "# print(response.text)"
   ]
  },
  {
   "cell_type": "code",
   "execution_count": 9,
   "id": "0373d1a2",
   "metadata": {},
   "outputs": [
    {
     "data": {
      "text/plain": [
       "'<!DOCTYPE html>\\n<html lang=\"en\">\\n <head>\\n  <meta charset=\"utf-8\"/>\\n  <meta content=\"IE=edge\" http-equiv=\"X-UA-Compatible\"/>\\n  <meta content=\"width=device-width, initial-scale=1\" name=\"viewport\"/>\\n  <title>\\n   List of Countries of the world in alphabetical order (A to Z) - Worldometer\\n  </title>\\n  <script async=\"\" src=\"https://www.googletagmanager.com/gtag/js?id=G-ZDP3BFSX60\">\\n  </script>\\n  <script>\\n   window.dataLayer = window.dataLayer || [];\\n    function gtag() {\\n        dataLayer.push(arguments);\\n    }\\n    gtag(\"js\", new Date());\\n    gtag(\"config\", \"G-ZDP3BFSX60\");\\n  </script>\\n  <script crossorigin=\"anonymous\" src=\"https://pagead2.googlesyndication.com/pagead/js/adsbygoogle.js?client=ca-pub-3701697624350410\">\\n  </script>\\n  <script async=\"\" src=\"https://securepubads.g.doubleclick.net/tag/js/gpt.js\">\\n  </script>\\n  <link crossorigin=\"\" href=\"https://a.pub.network/\" rel=\"preconnect\"/>\\n  <link crossorigin=\"\" href=\"https://b.pub.network/\" rel=\"preconnect\"/>\\n  <link crossorigin=\"\" href=\"https://c.pub.network/\" rel=\"preconnect\"/>\\n  <link crossorigin=\"\" href=\"https://d.pub.network/\" rel=\"preconnect\"/>\\n  <link crossorigin=\"\" href=\"https://c.amazon-adsystem.com\" rel=\"preconnect\"/>\\n  <link crossorigin=\"\" href=\"https://s.amazon-adsystem.com\" rel=\"preconnect\"/>\\n  <link crossorigin=\"\" href=\"https://btloader.com/\" rel=\"preconnect\"/>\\n  <link crossorigin=\"\" href=\"https://api.btloader.com/\" rel=\"preconnect\"/>\\n  <link crossorigin=\"\" href=\"https://cdn.confiant-integrations.net\" rel=\"preconnect\"/>\\n  <!-- Below is a link to a CSS file that accounts for Cumulative Layout Shift -->\\n  <!-- The file is intended to eliminate the layout shifts that are seen when ads load into the page. If you don\\'t want to use this, simply remove this file -->\\n  <!-- To find out more about CLS, visit https://web.dev/vitals/ -->\\n  <link href=\"https://a.pub.network/worldometers-info/cls.css\" rel=\"stylesheet\"/>\\n  <script data-cfasync=\"false\" type=\"text/javascript\">\\n   var freestar = freestar || {};\\n\\n    freestar.queue = freestar.queue || [];\\n\\n    freestar.config = freestar.config || {};\\n    freestar.config.enabled_slots = [];\\n\\n    freestar.initCallback = function () {\\n        freestar.config.enabled_slots.length === 0\\n            ? (freestar.initCallbackCalled = false)\\n            : freestar.newAdSlots(freestar.config.enabled_slots);\\n    };\\n  </script>\\n  <script async=\"\" data-cfasync=\"false\" src=\"https://a.pub.network/worldometers-info/pubfig.min.js\">\\n  </script>\\n  <meta content=\"en\" property=\"og:locale\"/>\\n  <meta content=\"website\" property=\"og:type\"/>\\n  <meta content=\"http://www.worldometers.info/geography/alphabetical-list-of-countries/\" property=\"og:url\"/>\\n  <meta content=\"Worldometer\" property=\"og:site_name\"/>\\n  <meta content=\"List of Countries of the world in alphabetical order (A to Z) - Worldometer\" property=\"og:title\"/>\\n  <meta content=\"Countries and dependencies of the world in alphabetical order from A to Z and by letter, showing current population estimates for 2016, density, and land area\" property=\"og:description\"/>\\n  <meta content=\"https://www.worldometers.info/img/worldometers-fb.jpg\" property=\"og:image\"/>\\n  <link href=\"/favicon/favicon.ico\" rel=\"shortcut icon\" type=\"image/x-icon\"/>\\n  <link href=\"/favicon/apple-icon-57x57.png\" rel=\"apple-touch-icon\" sizes=\"57x57\"/>\\n  <link href=\"/favicon/apple-icon-60x60.png\" rel=\"apple-touch-icon\" sizes=\"60x60\"/>\\n  <link href=\"/favicon/apple-icon-72x72.png\" rel=\"apple-touch-icon\" sizes=\"72x72\"/>\\n  <link href=\"/favicon/apple-icon-76x76.png\" rel=\"apple-touch-icon\" sizes=\"76x76\"/>\\n  <link href=\"/favicon/apple-icon-114x114.png\" rel=\"apple-touch-icon\" sizes=\"114x114\"/>\\n  <link href=\"/favicon/apple-icon-120x120.png\" rel=\"apple-touch-icon\" sizes=\"120x120\"/>\\n  <link href=\"/favicon/apple-icon-144x144.png\" rel=\"apple-touch-icon\" sizes=\"144x144\"/>\\n  <link href=\"/favicon/apple-icon-152x152.png\" rel=\"apple-touch-icon\" sizes=\"152x152\"/>\\n  <link href=\"/favicon/apple-icon-180x180.png\" rel=\"apple-touch-icon\" sizes=\"180x180\"/>\\n  <link href=\"/favicon/android-icon-192x192.png\" rel=\"icon\" sizes=\"192x192\" type=\"image/png\"/>\\n  <link href=\"/favicon/favicon-32x32.png\" rel=\"icon\" sizes=\"32x32\" type=\"image/png\"/>\\n  <link href=\"/favicon/favicon-96x96.png\" rel=\"icon\" sizes=\"96x96\" type=\"image/png\"/>\\n  <link href=\"/favicon/favicon-16x16.png\" rel=\"icon\" sizes=\"16x16\" type=\"image/png\"/>\\n  <link href=\"/favicon/manifest.json\" rel=\"manifest\"/>\\n  <meta content=\"#ffffff\" name=\"msapplication-TileColor\"/>\\n  <meta content=\"/favicon/ms-icon-144x144.png\" name=\"msapplication-TileImage\"/>\\n  <meta content=\"#ffffff\" name=\"theme-color\"/>\\n  <link href=\"https://fonts.googleapis.com\" rel=\"preconnect\"/>\\n  <link crossorigin=\"\" href=\"https://fonts.gstatic.com\" rel=\"preconnect\"/>\\n  <link href=\"https://fonts.googleapis.com/css2?family=Noto+Sans:ital,wght@0,100..900;1,100..900&amp;family=Open+Sans:ital,wght@0,300..800;1,300..800&amp;family=Roboto+Condensed:ital,wght@0,100..900;1,100..900&amp;display=swap\" rel=\"stylesheet\"/>\\n  <meta content=\"Countries and dependencies of the world in alphabetical order from A to Z and by letter, showing current population estimates for 2016, density, and land area\" name=\"description\"/>\\n  <script src=\"/_astro/base-layout.astro_astro_type_script_index_0_lang.Dx6cZNtg.js\" type=\"module\">\\n  </script>\\n  <!-- HTML5 shim and Respond.js for IE8 support of HTML5 elements and media queries -->\\n  <!--[if lt IE 9]>\\n            <script src=\"https://oss.maxcdn.com/html5shiv/3.7.2/html5shiv.min.js\"></script>\\n            <script src=\"https://oss.maxcdn.com/respond/1.4.2/respond.min.js\"></script>\\n        <![endif]-->\\n  <link href=\"/_astro/_about_.CoKkjGQQ.css\" rel=\"stylesheet\"/>\\n  <script src=\"/_astro/page.DpYsPiLh.js\" type=\"module\">\\n  </script>\\n  <style>\\n   /*! tailwindcss v4.0.7 | MIT License | https://tailwindcss.com */table.datatable tbody tr:nth-child(odd){background-color:var(--color-zinc-100)}table.datatable:not(.datatable-table) thead th [data-sorting-icon]{display:none}table.datatable thead .datatable-sorter{cursor:pointer;justify-content:space-between;align-items:center;gap:calc(var(--spacing)*1);width:100%;display:flex}table.datatable thead .datatable-sorter span{text-align:start}table.datatable :target td{background-color:var(--color-yellow-100)}.datatable-wrapper .datatable-top{margin-bottom:calc(var(--spacing)*3);align-items:flex-start;gap:calc(var(--spacing)*1);flex-direction:column;display:flex}.datatable-wrapper .datatable-top .datatable-search{margin-inline-start:auto}.datatable-wrapper .datatable-input,.datatable-wrapper .datatable-selector{border-radius:var(--radius-sm);border-style:var(--tw-border-style);border-width:1px;border-color:var(--color-zinc-200);padding-inline:calc(var(--spacing)*2);padding-block:calc(var(--spacing)*1.5);outline-color:var(--color-lime-500)}.datatable-wrapper .datatable-input{justify-content:flex-end;min-width:16rem}@media (width>=640px){.datatable-wrapper .datatable-top{flex-direction:row;align-items:center}}.datatable-wrapper .datatable-bottom{margin-top:calc(var(--spacing)*3);justify-content:space-between;align-items:flex-start;gap:calc(var(--spacing)*1);flex-direction:column;display:flex}@media (width>=640px){.datatable-wrapper .datatable-bottom{flex-direction:row;align-items:center}}.datatable-wrapper .datatable-bottom .datatable-pagination-list{color:var(--color-zinc-500);align-items:center;display:flex}.datatable-wrapper .datatable-bottom .datatable-pagination-list-item-link{border-block-style:var(--tw-border-style);border-block-width:1px;border-inline-end-style:var(--tw-border-style);border-inline-end-width:1px;border-color:var(--color-zinc-200);padding-inline:calc(var(--spacing)*3);padding-block:calc(var(--spacing)*.5);align-items:center;display:flex}.datatable-wrapper .datatable-bottom .datatable-active{background-color:var(--color-zinc-100)}.datatable-wrapper .datatable-bottom .datatable-hidden{cursor:not-allowed;opacity:.5}.datatable-wrapper .datatable-bottom .datatable-pagination-list-item:not(.datatable-active):not(.datatable-disabled):hover{cursor:pointer;background-color:var(--color-zinc-100);text-decoration-line:underline}.datatable-wrapper .datatable-bottom .datatable-pagination-list-item:first-of-type .datatable-pagination-list-item-link{border-left-style:var(--tw-border-style);border-left-width:1px;border-start-start-radius:.25rem;border-end-start-radius:.25rem}.datatable-wrapper .datatable-bottom .datatable-pagination-list-item:last-of-type .datatable-pagination-list-item-link{border-start-end-radius:.25rem;border-end-end-radius:.25rem}.datatable-container{overflow-x:auto}@property --tw-border-style{syntax:\"*\";inherits:false;initial-value:solid}\\n  </style>\\n </head>\\n <body class=\"font-body text-base\">\\n  <div class=\"flex flex-col\">\\n   <div class=\"shrink-0\" data-astro-transition-persist=\"astro-yfdmylyz-1\">\\n    <header class=\"border-b\">\\n     <nav class=\"container py-4\">\\n      <div class=\"flex items-center gap-16 justify-between md:justify-start\">\\n       <div class=\"shrink-0\">\\n        <a href=\"/\">\\n         <img alt=\"Worldometer Logo\" src=\"/img/worldometers-logo.gif\" title=\"Worldometer\" width=\"200\"/>\\n        </a>\\n       </div>\\n       <div class=\"items-center gap-4 hidden md:flex\">\\n        <a class=\"transition-all duration-200 text-zinc-400 hover:text-zinc-800\" href=\"/population/\">\\n         <p>\\n          Population\\n         </p>\\n        </a>\\n        <button class=\"inline-flex items-center border focus:outline-none focus:ring-4 rounded-sm cursor-pointer focus:ring-zinc-200 transition-all duration-200 text-zinc-900 bg-white border-zinc-300 hover:bg-zinc-100 px-4 py-1.5 text-sm gap-1\" data-dropdown-offset-distance=\"4\" data-dropdown-placement=\"bottom\" data-dropdown-toggle=\"header-nav-more\" id=\"header-nav-more-trigger\" type=\"button\">\\n         <p>\\n          More\\n         </p>\\n         <svg aria-hidden=\"true\" class=\"size-2 text-zinc-800 mt-0.5\" fill=\"currentColor\" viewbox=\"0 0 16 10\" xmlns=\"http://www.w3.org/2000/svg\">\\n          <path d=\"M15.434 1.235A2 2 0 0 0 13.586 0H2.414A2 2 0 0 0 1 3.414L6.586 9a2 2 0 0 0 2.828 0L15 3.414a2 2 0 0 0 .434-2.179Z\">\\n          </path>\\n         </svg>\\n        </button>\\n        <div class=\"z-10 hidden border bg-white divide-y divide-zinc-100 rounded-sm shadow-lg w-44\" id=\"header-nav-more\">\\n         <ul aria-labelledby=\"header-nav-more-trigger\" class=\"text-sm\">\\n          <p>\\n           <li class=\"*:block *:px-4 *:py-1 *:hover:bg-zinc-100\">\\n            <a class=\"transition-all duration-200\" href=\"/co2-emissions/\">\\n             CO2 emissions\\n            </a>\\n           </li>\\n           <li class=\"*:block *:px-4 *:py-1 *:hover:bg-zinc-100\">\\n            <a class=\"transition-all duration-200\" href=\"/coronavirus\">\\n             Coronavirus\\n            </a>\\n           </li>\\n           <li class=\"*:block *:px-4 *:py-1 *:hover:bg-zinc-100\">\\n            <a class=\"transition-all duration-200\" href=\"/geography/countries-of-the-world/\">\\n             Countries\\n            </a>\\n           </li>\\n           <li class=\"*:block *:px-4 *:py-1 *:hover:bg-zinc-100\">\\n            <a class=\"transition-all duration-200\" href=\"/energy/\">\\n             Energy\\n            </a>\\n           </li>\\n           <li class=\"*:block *:px-4 *:py-1 *:hover:bg-zinc-100\">\\n            <a class=\"transition-all duration-200\" href=\"/geography/flags-of-the-world/\">\\n             Flags\\n            </a>\\n           </li>\\n           <li class=\"*:block *:px-4 *:py-1 *:hover:bg-zinc-100\">\\n            <a class=\"transition-all duration-200\" href=\"/food-agriculture/\">\\n             Food &amp; Agriculture\\n            </a>\\n           </li>\\n           <li class=\"*:block *:px-4 *:py-1 *:hover:bg-zinc-100\">\\n            <a class=\"transition-all duration-200\" href=\"/gdp/gdp-by-country/\">\\n             GDP by country\\n            </a>\\n           </li>\\n           <li class=\"*:block *:px-4 *:py-1 *:hover:bg-zinc-100\">\\n            <a class=\"transition-all duration-200\" href=\"/water/\">\\n             Water\\n            </a>\\n           </li>\\n           <li class=\"*:block *:px-4 *:py-1 *:hover:bg-zinc-100\">\\n            <a class=\"transition-all duration-200\" href=\"/world-map/\">\\n             World Map\\n            </a>\\n           </li>\\n          </p>\\n         </ul>\\n        </div>\\n       </div>\\n       <div class=\"md:hidden flex items-center gap-12\">\\n        <button aria-controls=\"mobile-menu\" aria-expanded=\"false\" class=\"inline-flex items-center border focus:outline-none focus:ring-4 rounded-sm cursor-pointer focus:ring-zinc-200 transition-all duration-200 text-zinc-900 bg-white border-zinc-300 hover:bg-zinc-100 p-1.5 text-base\" data-v2-collapse-toggle=\"mobile-menu\" type=\"button\">\\n         <svg aria-hidden=\"true\" class=\"size-4\" fill=\"none\" viewbox=\"0 0 17 14\" xmlns=\"http://www.w3.org/2000/svg\">\\n          <path d=\"M1 1h15M1 7h15M1 13h15\" stroke=\"currentColor\" stroke-linecap=\"round\" stroke-linejoin=\"round\" stroke-width=\"2\">\\n          </path>\\n         </svg>\\n        </button>\\n        <script>\\n         (function() {\\n  function Collapse(targetEl, triggerEl, options) {\\n    options = options || {};\\n    this._targetEl = targetEl;\\n    this._triggerEl = triggerEl;\\n    this.onCollapse = options.onCollapse || function() {};\\n    this.onExpand = options.onExpand || function() {};\\n    this.onToggle = options.onToggle || function() {};\\n    if (this._triggerEl.hasAttribute(\\'aria-expanded\\')) {\\n      this._visible = this._triggerEl.getAttribute(\\'aria-expanded\\') === \\'true\\';\\n    } else {\\n      this._visible = !targetEl.classList.contains(\\'hidden\\');\\n    }\\n    this._init();\\n  }\\n  Collapse.prototype._init = function() {\\n    if (this._triggerEl && this._targetEl) {\\n      this._clickHandler = this.toggle.bind(this);\\n      this._triggerEl.addEventListener(\\'click\\', this._clickHandler);\\n    }\\n  };\\n  Collapse.prototype.destroy = function() {\\n    if (this._triggerEl) {\\n      this._triggerEl.removeEventListener(\\'click\\', this._clickHandler);\\n    }\\n  };\\n  Collapse.prototype.collapse = function() {\\n    if (!this._targetEl) return;\\n    this._targetEl.style.overflow = \\'hidden\\';\\n    var currentHeight = this._targetEl.scrollHeight;\\n    this._targetEl.style.height = currentHeight + \\'px\\';\\n    this._targetEl.offsetHeight;\\n    this._targetEl.style.transition = \\'height 0.35s ease\\';\\n    this._targetEl.style.height = \\'0px\\';\\n    var self = this;\\n    this._targetEl.addEventListener(\\'transitionend\\', function handler() {\\n      self._targetEl.classList.add(\\'hidden\\');\\n      self._targetEl.style.height = \\'\\';\\n      self._targetEl.style.overflow = \\'\\';\\n      self._targetEl.removeEventListener(\\'transitionend\\', handler);\\n    });\\n    if (this._triggerEl) {\\n      this._triggerEl.setAttribute(\\'aria-expanded\\', \\'false\\');\\n    }\\n    this._visible = false;\\n    this.onCollapse();\\n  };\\n\\n  Collapse.prototype.expand = function() {\\n    if (!this._targetEl) return;\\n    this._targetEl.classList.remove(\\'hidden\\');\\n    this._targetEl.style.overflow = \\'hidden\\';\\n    this._targetEl.style.height = \\'0px\\';\\n    this._targetEl.offsetHeight;\\n    this._targetEl.style.transition = \\'height 0.35s ease\\';\\n    var targetHeight = this._targetEl.scrollHeight;\\n    this._targetEl.style.height = targetHeight + \\'px\\';\\n    var self = this;\\n    this._targetEl.addEventListener(\\'transitionend\\', function handler() {\\n      self._targetEl.style.height = \\'\\';\\n      self._targetEl.style.overflow = \\'\\';\\n      self._targetEl.style.transition = \\'\\';\\n      self._targetEl.removeEventListener(\\'transitionend\\', handler);\\n    });\\n    if (this._triggerEl) {\\n      this._triggerEl.setAttribute(\\'aria-expanded\\', \\'true\\');\\n    }\\n    this._visible = true;\\n    this.onExpand();\\n  };\\n\\n  Collapse.prototype.toggle = function() {\\n    if (this._visible) {\\n      this.collapse();\\n    } else {\\n      this.expand();\\n    }\\n    this.onToggle();\\n  };\\n\\n  function initCollapses() {\\n    var triggers = document.querySelectorAll(\\'[data-v2-collapse-toggle]\\');\\n    Array.prototype.forEach.call(triggers, function(triggerEl) {\\n      var targetId = triggerEl.getAttribute(\\'data-v2-collapse-toggle\\');\\n      var targetEl = document.getElementById(targetId);\\n      if (targetEl) {\\n        new Collapse(targetEl, triggerEl);\\n      } else {\\n        console.error(\\'Target element with id \"\\' + targetId + \\'\" does not exist.\\');\\n      }\\n    });\\n  }\\n  document.addEventListener(\\'DOMContentLoaded\\', function() {\\n    initCollapses();\\n  });\\n})();\\n        </script>\\n       </div>\\n      </div>\\n      <ul class=\"hidden border-t mt-4 w-full\" id=\"mobile-menu\">\\n       <p>\\n        <li class=\"*:block *:px-4 *:py-1 *:hover:bg-zinc-100\">\\n         <a class=\"transition-all duration-200\" href=\"/population/\">\\n          Population\\n         </a>\\n        </li>\\n       </p>\\n       <p>\\n        <li class=\"*:block *:px-4 *:py-1 *:hover:bg-zinc-100\">\\n         <a class=\"transition-all duration-200\" href=\"/co2-emissions/\">\\n          CO2 emissions\\n         </a>\\n        </li>\\n        <li class=\"*:block *:px-4 *:py-1 *:hover:bg-zinc-100\">\\n         <a class=\"transition-all duration-200\" href=\"/coronavirus\">\\n          Coronavirus\\n         </a>\\n        </li>\\n        <li class=\"*:block *:px-4 *:py-1 *:hover:bg-zinc-100\">\\n         <a class=\"transition-all duration-200\" href=\"/geography/countries-of-the-world/\">\\n          Countries\\n         </a>\\n        </li>\\n        <li class=\"*:block *:px-4 *:py-1 *:hover:bg-zinc-100\">\\n         <a class=\"transition-all duration-200\" href=\"/energy/\">\\n          Energy\\n         </a>\\n        </li>\\n        <li class=\"*:block *:px-4 *:py-1 *:hover:bg-zinc-100\">\\n         <a class=\"transition-all duration-200\" href=\"/geography/flags-of-the-world/\">\\n          Flags\\n         </a>\\n        </li>\\n        <li class=\"*:block *:px-4 *:py-1 *:hover:bg-zinc-100\">\\n         <a class=\"transition-all duration-200\" href=\"/food-agriculture/\">\\n          Food &amp; Agriculture\\n         </a>\\n        </li>\\n        <li class=\"*:block *:px-4 *:py-1 *:hover:bg-zinc-100\">\\n         <a class=\"transition-all duration-200\" href=\"/gdp/gdp-by-country/\">\\n          GDP by country\\n         </a>\\n        </li>\\n        <li class=\"*:block *:px-4 *:py-1 *:hover:bg-zinc-100\">\\n         <a class=\"transition-all duration-200\" href=\"/water/\">\\n          Water\\n         </a>\\n        </li>\\n        <li class=\"*:block *:px-4 *:py-1 *:hover:bg-zinc-100\">\\n         <a class=\"transition-all duration-200\" href=\"/world-map/\">\\n          World Map\\n         </a>\\n        </li>\\n       </p>\\n      </ul>\\n     </nav>\\n    </header>\\n   </div>\\n   <div class=\"container py-4 grow min-h-[500px]\">\\n    <div class=\"lg:grid grid-cols-3 gap-1\">\\n     <div class=\"col-span-2\">\\n      <div class=\"bg-zinc-100 rounded-sm py-2 px-4 mb-1 text-sm\">\\n       <nav aria-label=\"Breadcrumb\" class=\"flex\">\\n        <ul class=\"flex flex-wrap items-center gap-x-2 gap-y-1\">\\n         <li class=\"inline-flex items-center text-zinc-500\">\\n          <a class=\"transition-all duration-200 text-lime-600 hover:text-lime-500 underline\" href=\"/\">\\n           W\\n          </a>\\n         </li>\\n         <li aria-hidden=\"true\" class=\"text-zinc-400\">\\n          /\\n         </li>\\n         <li class=\"inline-flex items-center text-zinc-500\">\\n          Alphabetical list of countries\\n         </li>\\n        </ul>\\n       </nav>\\n      </div>\\n      <div class=\"prose max-w-none text-sm/5 md:text-base/6 prose-table:text-sm/5 md:prose-table:text-base/6 prose-headings:font-medium prose-headings:mt-10 prose-h1:text-4xl prose-h1:font-medium prose-h1:mb-8 prose-h2:text-3xl prose-h3:text-2xl prose-tr:border-0 prose-thead:border-0 prose-img:mb-0 prose-a:font-inherit prose-li:my-0.5\">\\n       <h1 id=\"alphabetical-list-of-countries\">\\n        Alphabetical list of countries\\n       </h1>\\n       <p>\\n        Countries that start with:\\n       </p>\\n       <div class=\"not-prose flex flex-wrap gap-2\">\\n        <a class=\"transition-all duration-200 text-lime-600 underline hover:bg-lime-500 hover:text-white px-1 py-0.5\" data-letter=\"a\" href=\"/geography/alphabetical-list-of-countries/countries-that-start-with-a/\">\\n         A\\n        </a>\\n        <a class=\"transition-all duration-200 text-lime-600 underline hover:bg-lime-500 hover:text-white px-1 py-0.5\" data-letter=\"b\" href=\"/geography/alphabetical-list-of-countries/countries-that-start-with-b/\">\\n         B\\n        </a>\\n        <a class=\"transition-all duration-200 text-lime-600 underline hover:bg-lime-500 hover:text-white px-1 py-0.5\" data-letter=\"c\" href=\"/geography/alphabetical-list-of-countries/countries-that-start-with-c/\">\\n         C\\n        </a>\\n        <a class=\"transition-all duration-200 text-lime-600 underline hover:bg-lime-500 hover:text-white px-1 py-0.5\" data-letter=\"d\" href=\"/geography/alphabetical-list-of-countries/countries-that-start-with-d/\">\\n         D\\n        </a>\\n        <a class=\"transition-all duration-200 text-lime-600 underline hover:bg-lime-500 hover:text-white px-1 py-0.5\" data-letter=\"e\" href=\"/geography/alphabetical-list-of-countries/countries-that-start-with-e/\">\\n         E\\n        </a>\\n        <a class=\"transition-all duration-200 text-lime-600 underline hover:bg-lime-500 hover:text-white px-1 py-0.5\" data-letter=\"f\" href=\"/geography/alphabetical-list-of-countries/countries-that-start-with-f/\">\\n         F\\n        </a>\\n        <a class=\"transition-all duration-200 text-lime-600 underline hover:bg-lime-500 hover:text-white px-1 py-0.5\" data-letter=\"g\" href=\"/geography/alphabetical-list-of-countries/countries-that-start-with-g/\">\\n         G\\n        </a>\\n        <a class=\"transition-all duration-200 text-lime-600 underline hover:bg-lime-500 hover:text-white px-1 py-0.5\" data-letter=\"h\" href=\"/geography/alphabetical-list-of-countries/countries-that-start-with-h/\">\\n         H\\n        </a>\\n        <a class=\"transition-all duration-200 text-lime-600 underline hover:bg-lime-500 hover:text-white px-1 py-0.5\" data-letter=\"i\" href=\"/geography/alphabetical-list-of-countries/countries-that-start-with-i/\">\\n         I\\n        </a>\\n        <a class=\"transition-all duration-200 text-lime-600 underline hover:bg-lime-500 hover:text-white px-1 py-0.5\" data-letter=\"j\" href=\"/geography/alphabetical-list-of-countries/countries-that-start-with-j/\">\\n         J\\n        </a>\\n        <a class=\"transition-all duration-200 text-lime-600 underline hover:bg-lime-500 hover:text-white px-1 py-0.5\" data-letter=\"k\" href=\"/geography/alphabetical-list-of-countries/countries-that-start-with-k/\">\\n         K\\n        </a>\\n        <a class=\"transition-all duration-200 text-lime-600 underline hover:bg-lime-500 hover:text-white px-1 py-0.5\" data-letter=\"l\" href=\"/geography/alphabetical-list-of-countries/countries-that-start-with-l/\">\\n         L\\n        </a>\\n        <a class=\"transition-all duration-200 text-lime-600 underline hover:bg-lime-500 hover:text-white px-1 py-0.5\" data-letter=\"m\" href=\"/geography/alphabetical-list-of-countries/countries-that-start-with-m/\">\\n         M\\n        </a>\\n        <a class=\"transition-all duration-200 text-lime-600 underline hover:bg-lime-500 hover:text-white px-1 py-0.5\" data-letter=\"n\" href=\"/geography/alphabetical-list-of-countries/countries-that-start-with-n/\">\\n         N\\n        </a>\\n        <a class=\"transition-all duration-200 text-lime-600 underline hover:bg-lime-500 hover:text-white px-1 py-0.5\" data-letter=\"o\" href=\"/geography/alphabetical-list-of-countries/countries-that-start-with-o/\">\\n         O\\n        </a>\\n        <a class=\"transition-all duration-200 text-lime-600 underline hover:bg-lime-500 hover:text-white px-1 py-0.5\" data-letter=\"p\" href=\"/geography/alphabetical-list-of-countries/countries-that-start-with-p/\">\\n         P\\n        </a>\\n        <a class=\"transition-all duration-200 text-lime-600 underline hover:bg-lime-500 hover:text-white px-1 py-0.5\" data-letter=\"q\" href=\"/geography/alphabetical-list-of-countries/countries-that-start-with-q/\">\\n         Q\\n        </a>\\n        <a class=\"transition-all duration-200 text-lime-600 underline hover:bg-lime-500 hover:text-white px-1 py-0.5\" data-letter=\"r\" href=\"/geography/alphabetical-list-of-countries/countries-that-start-with-r/\">\\n         R\\n        </a>\\n        <a class=\"transition-all duration-200 text-lime-600 underline hover:bg-lime-500 hover:text-white px-1 py-0.5\" data-letter=\"s\" href=\"/geography/alphabetical-list-of-countries/countries-that-start-with-s/\">\\n         S\\n        </a>\\n        <a class=\"transition-all duration-200 text-lime-600 underline hover:bg-lime-500 hover:text-white px-1 py-0.5\" data-letter=\"t\" href=\"/geography/alphabetical-list-of-countries/countries-that-start-with-t/\">\\n         T\\n        </a>\\n        <a class=\"transition-all duration-200 text-lime-600 underline hover:bg-lime-500 hover:text-white px-1 py-0.5\" data-letter=\"u\" href=\"/geography/alphabetical-list-of-countries/countries-that-start-with-u/\">\\n         U\\n        </a>\\n        <a class=\"transition-all duration-200 text-lime-600 underline hover:bg-lime-500 hover:text-white px-1 py-0.5\" data-letter=\"v\" href=\"/geography/alphabetical-list-of-countries/countries-that-start-with-v/\">\\n         V\\n        </a>\\n        <a class=\"transition-all duration-200 text-lime-600 underline hover:bg-lime-500 hover:text-white px-1 py-0.5\" data-letter=\"w\" href=\"/geography/alphabetical-list-of-countries/countries-that-start-with-w/\">\\n         W\\n        </a>\\n        <a class=\"transition-all duration-200 text-lime-600 underline hover:bg-lime-500 hover:text-white px-1 py-0.5\" data-letter=\"x\" href=\"/geography/alphabetical-list-of-countries/countries-that-start-with-x/\">\\n         X\\n        </a>\\n        <a class=\"transition-all duration-200 text-lime-600 underline hover:bg-lime-500 hover:text-white px-1 py-0.5\" data-letter=\"y\" href=\"/geography/alphabetical-list-of-countries/countries-that-start-with-y/\">\\n         Y\\n        </a>\\n        <a class=\"transition-all duration-200 text-lime-600 underline hover:bg-lime-500 hover:text-white px-1 py-0.5\" data-letter=\"z\" href=\"/geography/alphabetical-list-of-countries/countries-that-start-with-z/\">\\n         Z\\n        </a>\\n       </div>\\n       <br/>\\n       <div class=\"not-prose\">\\n        <table class=\"datatable w-full border border-zinc-200\" data-locale=\"en\" data-options=\\'{\"searchable\":false,\"sortable\":false,\"pageSize\":false}\\' data-sort-col=\"-1\" data-sort-dir=\"asc\">\\n         <thead>\\n          <tr>\\n           <th class=\"px-2 border-e border-zinc-200 font-semibold border-b-3 py-1\" data-sortable=\"false\">\\n            <span>\\n             #\\n            </span>\\n           </th>\\n           <th class=\"px-2 border-e border-zinc-200 font-semibold border-b-3 py-1\" data-sortable=\"false\">\\n            <span>\\n             Country\\n            </span>\\n           </th>\\n           <th class=\"px-2 border-e border-zinc-200 font-semibold border-b-3 py-1\" data-sortable=\"false\">\\n            <span>\\n             Population\\n             <br/>\\n             (2025)\\n            </span>\\n           </th>\\n           <th class=\"px-2 border-e border-zinc-200 font-semibold border-b-3 py-1\" data-sortable=\"false\" data-type=\"number\">\\n            <span>\\n             Land Area\\n             <br/>\\n             (Km²)\\n            </span>\\n           </th>\\n           <th class=\"px-2 border-e border-zinc-200 font-semibold border-b-3 py-1\" data-sortable=\"false\" data-type=\"number\">\\n            <span>\\n             Density\\n             <br/>\\n             (P/Km²)\\n            </span>\\n           </th>\\n          </tr>\\n         </thead>\\n         <tbody>\\n          <tr>\\n           <td class=\"px-2 border-e border-zinc-200 py-1.5 border-b text-start\">\\n            1\\n           </td>\\n           <td class=\"px-2 border-e border-zinc-200 py-1.5 border-b font-bold text-start\">\\n            Afghanistan\\n           </td>\\n           <td class=\"px-2 border-e border-zinc-200 text-end py-1.5 border-b font-bold\" data-order=\"43844111\">\\n            <a class=\"transition-all duration-200 text-lime-600 hover:text-lime-500\" data-country=\"afghanistan\" href=\"/world-population/afghanistan-population/\">\\n             43,844,111\\n            </a>\\n           </td>\\n           <td class=\"px-2 border-e border-zinc-200 text-end py-1.5 border-b\" data-order=\"652860\">\\n            652,860\\n           </td>\\n           <td class=\"px-2 border-e border-zinc-200 text-end py-1.5 border-b\" data-order=\"67.15698771558986\">\\n            67\\n           </td>\\n          </tr>\\n          <tr>\\n           <td class=\"px-2 border-e border-zinc-200 py-1.5 border-b text-start\">\\n            2\\n           </td>\\n           <td class=\"px-2 border-e border-zinc-200 py-1.5 border-b font-bold text-start\">\\n            Albania\\n           </td>\\n           <td class=\"px-2 border-e border-zinc-200 text-end py-1.5 border-b font-bold\" data-order=\"2771508\">\\n            <a class=\"transition-all duration-200 text-lime-600 hover:text-lime-500\" data-country=\"albania\" href=\"/world-population/albania-population/\">\\n             2,771,508\\n            </a>\\n           </td>\\n           <td class=\"px-2 border-e border-zinc-200 text-end py-1.5 border-b\" data-order=\"27400\">\\n            27,400\\n           </td>\\n           <td class=\"px-2 border-e border-zinc-200 text-end py-1.5 border-b\" data-order=\"101.14992700729927\">\\n            101\\n           </td>\\n          </tr>\\n          <tr>\\n           <td class=\"px-2 border-e border-zinc-200 py-1.5 border-b text-start\">\\n            3\\n           </td>\\n           <td class=\"px-2 border-e border-zinc-200 py-1.5 border-b font-bold text-start\">\\n            Algeria\\n           </td>\\n           <td class=\"px-2 border-e border-zinc-200 text-end py-1.5 border-b font-bold\" data-order=\"47435312\">\\n            <a class=\"transition-all duration-200 text-lime-600 hover:text-lime-500\" data-country=\"algeria\" href=\"/world-population/algeria-population/\">\\n             47,435,312\\n            </a>\\n           </td>\\n           <td class=\"px-2 border-e border-zinc-200 text-end py-1.5 border-b\" data-order=\"2381740\">\\n            2,381,740\\n           </td>\\n           <td class=\"px-2 border-e border-zinc-200 text-end py-1.5 border-b\" data-order=\"19.916242746899325\">\\n            20\\n           </td>\\n          </tr>\\n          <tr>\\n           <td class=\"px-2 border-e border-zinc-200 py-1.5 border-b text-start\">\\n            4\\n           </td>\\n           <td class=\"px-2 border-e border-zinc-200 py-1.5 border-b font-bold text-start\">\\n            Andorra\\n           </td>\\n           <td class=\"px-2 border-e border-zinc-200 text-end py-1.5 border-b font-bold\" data-order=\"82904\">\\n            <a class=\"transition-all duration-200 text-lime-600 hover:text-lime-500\" data-country=\"andorra\" href=\"/world-population/andorra-population/\">\\n             82,904\\n            </a>\\n           </td>\\n           <td class=\"px-2 border-e border-zinc-200 text-end py-1.5 border-b\" data-order=\"470\">\\n            470\\n           </td>\\n           <td class=\"px-2 border-e border-zinc-200 text-end py-1.5 border-b\" data-order=\"176.39148936170213\">\\n            176\\n           </td>\\n          </tr>\\n          <tr>\\n           <td class=\"px-2 border-e border-zinc-200 py-1.5 border-b text-start\">\\n            5\\n           </td>\\n           <td class=\"px-2 border-e border-zinc-200 py-1.5 border-b font-bold text-start\">\\n            Angola\\n           </td>\\n           <td class=\"px-2 border-e border-zinc-200 text-end py-1.5 border-b font-bold\" data-order=\"39040039\">\\n            <a class=\"transition-all duration-200 text-lime-600 hover:text-lime-500\" data-country=\"angola\" href=\"/world-population/angola-population/\">\\n             39,040,039\\n            </a>\\n           </td>\\n           <td class=\"px-2 border-e border-zinc-200 text-end py-1.5 border-b\" data-order=\"1246700\">\\n            1,246,700\\n           </td>\\n           <td class=\"px-2 border-e border-zinc-200 text-end py-1.5 border-b\" data-order=\"31.314702013315152\">\\n            31\\n           </td>\\n          </tr>\\n          <tr>\\n           <td class=\"px-2 border-e border-zinc-200 py-1.5 border-b text-start\">\\n            6\\n           </td>\\n           <td class=\"px-2 border-e border-zinc-200 py-1.5 border-b font-bold text-start\">\\n            Antigua and Barbuda\\n           </td>\\n           <td class=\"px-2 border-e border-zinc-200 text-end py-1.5 border-b font-bold\" data-order=\"94209\">\\n            <a class=\"transition-all duration-200 text-lime-600 hover:text-lime-500\" data-country=\"antigua-and-barbuda\" href=\"/world-population/antigua-and-barbuda-population/\">\\n             94,209\\n            </a>\\n           </td>\\n           <td class=\"px-2 border-e border-zinc-200 text-end py-1.5 border-b\" data-order=\"440\">\\n            440\\n           </td>\\n           <td class=\"px-2 border-e border-zinc-200 text-end py-1.5 border-b\" data-order=\"214.11136363636365\">\\n            214\\n           </td>\\n          </tr>\\n          <tr>\\n           <td class=\"px-2 border-e border-zinc-200 py-1.5 border-b text-start\">\\n            7\\n           </td>\\n           <td class=\"px-2 border-e border-zinc-200 py-1.5 border-b font-bold text-start\">\\n            Argentina\\n           </td>\\n           <td class=\"px-2 border-e border-zinc-200 text-end py-1.5 border-b font-bold\" data-order=\"45851378\">\\n            <a class=\"transition-all duration-200 text-lime-600 hover:text-lime-500\" data-country=\"argentina\" href=\"/world-population/argentina-population/\">\\n             45,851,378\\n            </a>\\n           </td>\\n           <td class=\"px-2 border-e border-zinc-200 text-end py-1.5 border-b\" data-order=\"2736690\">\\n            2,736,690\\n           </td>\\n           <td class=\"px-2 border-e border-zinc-200 text-end py-1.5 border-b\" data-order=\"16.75431926889783\">\\n            17\\n           </td>\\n          </tr>\\n          <tr>\\n           <td class=\"px-2 border-e border-zinc-200 py-1.5 border-b text-start\">\\n            8\\n           </td>\\n           <td class=\"px-2 border-e border-zinc-200 py-1.5 border-b font-bold text-start\">\\n            Armenia\\n           </td>\\n           <td class=\"px-2 border-e border-zinc-200 text-end py-1.5 border-b font-bold\" data-order=\"2952365\">\\n            <a class=\"transition-all duration-200 text-lime-600 hover:text-lime-500\" data-country=\"armenia\" href=\"/world-population/armenia-population/\">\\n             2,952,365\\n            </a>\\n           </td>\\n           <td class=\"px-2 border-e border-zinc-200 text-end py-1.5 border-b\" data-order=\"28470\">\\n            28,470\\n           </td>\\n           <td class=\"px-2 border-e border-zinc-200 text-end py-1.5 border-b\" data-order=\"103.70091324200914\">\\n            104\\n           </td>\\n          </tr>\\n          <tr>\\n           <td class=\"px-2 border-e border-zinc-200 py-1.5 border-b text-start\">\\n            9\\n           </td>\\n           <td class=\"px-2 border-e border-zinc-200 py-1.5 border-b font-bold text-start\">\\n            Australia\\n           </td>\\n           <td class=\"px-2 border-e border-zinc-200 text-end py-1.5 border-b font-bold\" data-order=\"26974026\">\\n            <a class=\"transition-all duration-200 text-lime-600 hover:text-lime-500\" data-country=\"australia\" href=\"/world-population/australia-population/\">\\n             26,974,026\\n            </a>\\n           </td>\\n           <td class=\"px-2 border-e border-zinc-200 text-end py-1.5 border-b\" data-order=\"7682300\">\\n            7,682,300\\n           </td>\\n           <td class=\"px-2 border-e border-zinc-200 text-end py-1.5 border-b\" data-order=\"3.5111914400635227\">\\n            4\\n           </td>\\n          </tr>\\n          <tr>\\n           <td class=\"px-2 border-e border-zinc-200 py-1.5 border-b text-start\">\\n            10\\n           </td>\\n           <td class=\"px-2 border-e border-zinc-200 py-1.5 border-b font-bold text-start\">\\n            Austria\\n           </td>\\n           <td class=\"px-2 border-e border-zinc-200 text-end py-1.5 border-b font-bold\" data-order=\"9113574\">\\n            <a class=\"transition-all duration-200 text-lime-600 hover:text-lime-500\" data-country=\"austria\" href=\"/world-population/austria-population/\">\\n             9,113,574\\n            </a>\\n           </td>\\n           <td class=\"px-2 border-e border-zinc-200 text-end py-1.5 border-b\" data-order=\"82409\">\\n            82,409\\n           </td>\\n           <td class=\"px-2 border-e border-zinc-200 text-end py-1.5 border-b\" data-order=\"110.58954725818782\">\\n            111\\n           </td>\\n          </tr>\\n          <tr>\\n           <td class=\"px-2 border-e border-zinc-200 py-1.5 border-b text-start\">\\n            11\\n           </td>\\n           <td class=\"px-2 border-e border-zinc-200 py-1.5 border-b font-bold text-start\">\\n            Azerbaijan\\n           </td>\\n           <td class=\"px-2 border-e border-zinc-200 text-end py-1.5 border-b font-bold\" data-order=\"10397713\">\\n            <a class=\"transition-all duration-200 text-lime-600 hover:text-lime-500\" data-country=\"azerbaijan\" href=\"/world-population/azerbaijan-population/\">\\n             10,397,713\\n            </a>\\n           </td>\\n           <td class=\"px-2 border-e border-zinc-200 text-end py-1.5 border-b\" data-order=\"82658\">\\n            82,658\\n           </td>\\n           <td class=\"px-2 border-e border-zinc-200 text-end py-1.5 border-b\" data-order=\"125.79197415858114\">\\n            126\\n           </td>\\n          </tr>\\n          <tr>\\n           <td class=\"px-2 border-e border-zinc-200 py-1.5 border-b text-start\">\\n            12\\n           </td>\\n           <td class=\"px-2 border-e border-zinc-200 py-1.5 border-b font-bold text-start\">\\n            Bahamas\\n           </td>\\n           <td class=\"px-2 border-e border-zinc-200 text-end py-1.5 border-b font-bold\" data-order=\"403033\">\\n            <a class=\"transition-all duration-200 text-lime-600 hover:text-lime-500\" data-country=\"bahamas\" href=\"/world-population/bahamas-population/\">\\n             403,033\\n            </a>\\n           </td>\\n           <td class=\"px-2 border-e border-zinc-200 text-end py-1.5 border-b\" data-order=\"10010\">\\n            10,010\\n           </td>\\n           <td class=\"px-2 border-e border-zinc-200 text-end py-1.5 border-b\" data-order=\"40.26303696303696\">\\n            40\\n           </td>\\n          </tr>\\n          <tr>\\n           <td class=\"px-2 border-e border-zinc-200 py-1.5 border-b text-start\">\\n            13\\n           </td>\\n           <td class=\"px-2 border-e border-zinc-200 py-1.5 border-b font-bold text-start\">\\n            Bahrain\\n           </td>\\n           <td class=\"px-2 border-e border-zinc-200 text-end py-1.5 border-b font-bold\" data-order=\"1643332\">\\n            <a class=\"transition-all duration-200 text-lime-600 hover:text-lime-500\" data-country=\"bahrain\" href=\"/world-population/bahrain-population/\">\\n             1,643,332\\n            </a>\\n           </td>\\n           <td class=\"px-2 border-e border-zinc-200 text-end py-1.5 border-b\" data-order=\"760\">\\n            760\\n           </td>\\n           <td class=\"px-2 border-e border-zinc-200 text-end py-1.5 border-b\" data-order=\"2162.278947368421\">\\n            2,162\\n           </td>\\n          </tr>\\n          <tr>\\n           <td class=\"px-2 border-e border-zinc-200 py-1.5 border-b text-start\">\\n            14\\n           </td>\\n           <td class=\"px-2 border-e border-zinc-200 py-1.5 border-b font-bold text-start\">\\n            Bangladesh\\n           </td>\\n           <td class=\"px-2 border-e border-zinc-200 text-end py-1.5 border-b font-bold\" data-order=\"175686899\">\\n            <a class=\"transition-all duration-200 text-lime-600 hover:text-lime-500\" data-country=\"bangladesh\" href=\"/world-population/bangladesh-population/\">\\n             175,686,899\\n            </a>\\n           </td>\\n           <td class=\"px-2 border-e border-zinc-200 text-end py-1.5 border-b\" data-order=\"130170\">\\n            130,170\\n           </td>\\n           <td class=\"px-2 border-e border-zinc-200 text-end py-1.5 border-b\" data-order=\"1349.6727279711147\">\\n            1,350\\n           </td>\\n          </tr>\\n          <tr>\\n           <td class=\"px-2 border-e border-zinc-200 py-1.5 border-b text-start\">\\n            15\\n           </td>\\n           <td class=\"px-2 border-e border-zinc-200 py-1.5 border-b font-bold text-start\">\\n            Barbados\\n           </td>\\n           <td class=\"px-2 border-e border-zinc-200 text-end py-1.5 border-b font-bold\" data-order=\"282623\">\\n            <a class=\"transition-all duration-200 text-lime-600 hover:text-lime-500\" data-country=\"barbados\" href=\"/world-population/barbados-population/\">\\n             282,623\\n            </a>\\n           </td>\\n           <td class=\"px-2 border-e border-zinc-200 text-end py-1.5 border-b\" data-order=\"430\">\\n            430\\n           </td>\\n           <td class=\"px-2 border-e border-zinc-200 text-end py-1.5 border-b\" data-order=\"657.2627906976744\">\\n            657\\n           </td>\\n          </tr>\\n          <tr>\\n           <td class=\"px-2 border-e border-zinc-200 py-1.5 border-b text-start\">\\n            16\\n           </td>\\n           <td class=\"px-2 border-e border-zinc-200 py-1.5 border-b font-bold text-start\">\\n            Belarus\\n           </td>\\n           <td class=\"px-2 border-e border-zinc-200 text-end py-1.5 border-b font-bold\" data-order=\"8997603\">\\n            <a class=\"transition-all duration-200 text-lime-600 hover:text-lime-500\" data-country=\"belarus\" href=\"/world-population/belarus-population/\">\\n             8,997,603\\n            </a>\\n           </td>\\n           <td class=\"px-2 border-e border-zinc-200 text-end py-1.5 border-b\" data-order=\"202910\">\\n            202,910\\n           </td>\\n           <td class=\"px-2 border-e border-zinc-200 text-end py-1.5 border-b\" data-order=\"44.342826869055244\">\\n            44\\n           </td>\\n          </tr>\\n          <tr>\\n           <td class=\"px-2 border-e border-zinc-200 py-1.5 border-b text-start\">\\n            17\\n           </td>\\n           <td class=\"px-2 border-e border-zinc-200 py-1.5 border-b font-bold text-start\">\\n            Belgium\\n           </td>\\n           <td class=\"px-2 border-e border-zinc-200 text-end py-1.5 border-b font-bold\" data-order=\"11758603\">\\n            <a class=\"transition-all duration-200 text-lime-600 hover:text-lime-500\" data-country=\"belgium\" href=\"/world-population/belgium-population/\">\\n             11,758,603\\n            </a>\\n           </td>\\n           <td class=\"px-2 border-e border-zinc-200 text-end py-1.5 border-b\" data-order=\"30280\">\\n            30,280\\n           </td>\\n           <td class=\"px-2 border-e border-zinc-200 text-end py-1.5 border-b\" data-order=\"388.32902906208716\">\\n            388\\n           </td>\\n          </tr>\\n          <tr>\\n           <td class=\"px-2 border-e border-zinc-200 py-1.5 border-b text-start\">\\n            18\\n           </td>\\n           <td class=\"px-2 border-e border-zinc-200 py-1.5 border-b font-bold text-start\">\\n            Belize\\n           </td>\\n           <td class=\"px-2 border-e border-zinc-200 text-end py-1.5 border-b font-bold\" data-order=\"422924\">\\n            <a class=\"transition-all duration-200 text-lime-600 hover:text-lime-500\" data-country=\"belize\" href=\"/world-population/belize-population/\">\\n             422,924\\n            </a>\\n           </td>\\n           <td class=\"px-2 border-e border-zinc-200 text-end py-1.5 border-b\" data-order=\"22810\">\\n            22,810\\n           </td>\\n           <td class=\"px-2 border-e border-zinc-200 text-end py-1.5 border-b\" data-order=\"18.54116615519509\">\\n            19\\n           </td>\\n          </tr>\\n          <tr>\\n           <td class=\"px-2 border-e border-zinc-200 py-1.5 border-b text-start\">\\n            19\\n           </td>\\n           <td class=\"px-2 border-e border-zinc-200 py-1.5 border-b font-bold text-start\">\\n            Benin\\n           </td>\\n           <td class=\"px-2 border-e border-zinc-200 text-end py-1.5 border-b font-bold\" data-order=\"14814460\">\\n            <a class=\"transition-all duration-200 text-lime-600 hover:text-lime-500\" data-country=\"benin\" href=\"/world-population/benin-population/\">\\n             14,814,460\\n            </a>\\n           </td>\\n           <td class=\"px-2 border-e border-zinc-200 text-end py-1.5 border-b\" data-order=\"112760\">\\n            112,760\\n           </td>\\n           <td class=\"px-2 border-e border-zinc-200 text-end py-1.5 border-b\" data-order=\"131.380454061724\">\\n            131\\n           </td>\\n          </tr>\\n          <tr>\\n           <td class=\"px-2 border-e border-zinc-200 py-1.5 border-b text-start\">\\n            20\\n           </td>\\n           <td class=\"px-2 border-e border-zinc-200 py-1.5 border-b font-bold text-start\">\\n            Bhutan\\n           </td>\\n           <td class=\"px-2 border-e border-zinc-200 text-end py-1.5 border-b font-bold\" data-order=\"796682\">\\n            <a class=\"transition-all duration-200 text-lime-600 hover:text-lime-500\" data-country=\"bhutan\" href=\"/world-population/bhutan-population/\">\\n             796,682\\n            </a>\\n           </td>\\n           <td class=\"px-2 border-e border-zinc-200 text-end py-1.5 border-b\" data-order=\"38117\">\\n            38,117\\n           </td>\\n           <td class=\"px-2 border-e border-zinc-200 text-end py-1.5 border-b\" data-order=\"20.900962824986227\">\\n            21\\n           </td>\\n          </tr>\\n          <tr>\\n           <td class=\"px-2 border-e border-zinc-200 py-1.5 border-b text-start\">\\n            21\\n           </td>\\n           <td class=\"px-2 border-e border-zinc-200 py-1.5 border-b font-bold text-start\">\\n            Bolivia\\n           </td>\\n           <td class=\"px-2 border-e border-zinc-200 text-end py-1.5 border-b font-bold\" data-order=\"12581843\">\\n            <a class=\"transition-all duration-200 text-lime-600 hover:text-lime-500\" data-country=\"bolivia\" href=\"/world-population/bolivia-population/\">\\n             12,581,843\\n            </a>\\n           </td>\\n           <td class=\"px-2 border-e border-zinc-200 text-end py-1.5 border-b\" data-order=\"1083300\">\\n            1,083,300\\n           </td>\\n           <td class=\"px-2 border-e border-zinc-200 text-end py-1.5 border-b\" data-order=\"11.614366288193484\">\\n            12\\n           </td>\\n          </tr>\\n          <tr>\\n           <td class=\"px-2 border-e border-zinc-200 py-1.5 border-b text-start\">\\n            22\\n           </td>\\n           <td class=\"px-2 border-e border-zinc-200 py-1.5 border-b font-bold text-start\">\\n            Bosnia and Herzegovina\\n           </td>\\n           <td class=\"px-2 border-e border-zinc-200 text-end py-1.5 border-b font-bold\" data-order=\"3140095\">\\n            <a class=\"transition-all duration-200 text-lime-600 hover:text-lime-500\" data-country=\"bosnia-and-herzegovina\" href=\"/world-population/bosnia-and-herzegovina-population/\">\\n             3,140,095\\n            </a>\\n           </td>\\n           <td class=\"px-2 border-e border-zinc-200 text-end py-1.5 border-b\" data-order=\"51000\">\\n            51,000\\n           </td>\\n           <td class=\"px-2 border-e border-zinc-200 text-end py-1.5 border-b\" data-order=\"61.57049019607843\">\\n            62\\n           </td>\\n          </tr>\\n          <tr>\\n           <td class=\"px-2 border-e border-zinc-200 py-1.5 border-b text-start\">\\n            23\\n           </td>\\n           <td class=\"px-2 border-e border-zinc-200 py-1.5 border-b font-bold text-start\">\\n            Botswana\\n           </td>\\n           <td class=\"px-2 border-e border-zinc-200 text-end py-1.5 border-b font-bold\" data-order=\"2562122\">\\n            <a class=\"transition-all duration-200 text-lime-600 hover:text-lime-500\" data-country=\"botswana\" href=\"/world-population/botswana-population/\">\\n             2,562,122\\n            </a>\\n           </td>\\n           <td class=\"px-2 border-e border-zinc-200 text-end py-1.5 border-b\" data-order=\"566730\">\\n            566,730\\n           </td>\\n           <td class=\"px-2 border-e border-zinc-200 text-end py-1.5 border-b\" data-order=\"4.520886489157094\">\\n            5\\n           </td>\\n          </tr>\\n          <tr>\\n           <td class=\"px-2 border-e border-zinc-200 py-1.5 border-b text-start\">\\n            24\\n           </td>\\n           <td class=\"px-2 border-e border-zinc-200 py-1.5 border-b font-bold text-start\">\\n            Brazil\\n           </td>\\n           <td class=\"px-2 border-e border-zinc-200 text-end py-1.5 border-b font-bold\" data-order=\"212812405\">\\n            <a class=\"transition-all duration-200 text-lime-600 hover:text-lime-500\" data-country=\"brazil\" href=\"/world-population/brazil-population/\">\\n             212,812,405\\n            </a>\\n           </td>\\n           <td class=\"px-2 border-e border-zinc-200 text-end py-1.5 border-b\" data-order=\"8358140\">\\n            8,358,140\\n           </td>\\n           <td class=\"px-2 border-e border-zinc-200 text-end py-1.5 border-b\" data-order=\"25.461694228620242\">\\n            25\\n           </td>\\n          </tr>\\n          <tr>\\n           <td class=\"px-2 border-e border-zinc-200 py-1.5 border-b text-start\">\\n            25\\n           </td>\\n           <td class=\"px-2 border-e border-zinc-200 py-1.5 border-b font-bold text-start\">\\n            Brunei\\n           </td>\\n           <td class=\"px-2 border-e border-zinc-200 text-end py-1.5 border-b font-bold\" data-order=\"466330\">\\n            <a class=\"transition-all duration-200 text-lime-600 hover:text-lime-500\" data-country=\"brunei-darussalam\" href=\"/world-population/brunei-darussalam-population/\">\\n             466,330\\n            </a>\\n           </td>\\n           <td class=\"px-2 border-e border-zinc-200 text-end py-1.5 border-b\" data-order=\"5270\">\\n            5,270\\n           </td>\\n           <td class=\"px-2 border-e border-zinc-200 text-end py-1.5 border-b\" data-order=\"88.4876660341556\">\\n            88\\n           </td>\\n          </tr>\\n          <tr>\\n           <td class=\"px-2 border-e border-zinc-200 py-1.5 border-b text-start\">\\n            26\\n           </td>\\n           <td class=\"px-2 border-e border-zinc-200 py-1.5 border-b font-bold text-start\">\\n            Bulgaria\\n           </td>\\n           <td class=\"px-2 border-e border-zinc-200 text-end py-1.5 border-b font-bold\" data-order=\"6714560\">\\n            <a class=\"transition-all duration-200 text-lime-600 hover:text-lime-500\" data-country=\"bulgaria\" href=\"/world-population/bulgaria-population/\">\\n             6,714,560\\n            </a>\\n           </td>\\n           <td class=\"px-2 border-e border-zinc-200 text-end py-1.5 border-b\" data-order=\"108560\">\\n            108,560\\n           </td>\\n           <td class=\"px-2 border-e border-zinc-200 text-end py-1.5 border-b\" data-order=\"61.85114222549742\">\\n            62\\n           </td>\\n          </tr>\\n          <tr>\\n           <td class=\"px-2 border-e border-zinc-200 py-1.5 border-b text-start\">\\n            27\\n           </td>\\n           <td class=\"px-2 border-e border-zinc-200 py-1.5 border-b font-bold text-start\">\\n            Burkina Faso\\n           </td>\\n           <td class=\"px-2 border-e border-zinc-200 text-end py-1.5 border-b font-bold\" data-order=\"24074580\">\\n            <a class=\"transition-all duration-200 text-lime-600 hover:text-lime-500\" data-country=\"burkina-faso\" href=\"/world-population/burkina-faso-population/\">\\n             24,074,580\\n            </a>\\n           </td>\\n           <td class=\"px-2 border-e border-zinc-200 text-end py-1.5 border-b\" data-order=\"273600\">\\n            273,600\\n           </td>\\n           <td class=\"px-2 border-e border-zinc-200 text-end py-1.5 border-b\" data-order=\"87.99188596491229\">\\n            88\\n           </td>\\n          </tr>\\n          <tr>\\n           <td class=\"px-2 border-e border-zinc-200 py-1.5 border-b text-start\">\\n            28\\n           </td>\\n           <td class=\"px-2 border-e border-zinc-200 py-1.5 border-b font-bold text-start\">\\n            Burundi\\n           </td>\\n           <td class=\"px-2 border-e border-zinc-200 text-end py-1.5 border-b font-bold\" data-order=\"14390003\">\\n            <a class=\"transition-all duration-200 text-lime-600 hover:text-lime-500\" data-country=\"burundi\" href=\"/world-population/burundi-population/\">\\n             14,390,003\\n            </a>\\n           </td>\\n           <td class=\"px-2 border-e border-zinc-200 text-end py-1.5 border-b\" data-order=\"25680\">\\n            25,680\\n           </td>\\n           <td class=\"px-2 border-e border-zinc-200 text-end py-1.5 border-b\" data-order=\"560.3583722741433\">\\n            560\\n           </td>\\n          </tr>\\n          <tr>\\n           <td class=\"px-2 border-e border-zinc-200 py-1.5 border-b text-start\">\\n            29\\n           </td>\\n           <td class=\"px-2 border-e border-zinc-200 py-1.5 border-b font-bold text-start\">\\n            Cabo Verde\\n           </td>\\n           <td class=\"px-2 border-e border-zinc-200 text-end py-1.5 border-b font-bold\" data-order=\"527326\">\\n            <a class=\"transition-all duration-200 text-lime-600 hover:text-lime-500\" data-country=\"cabo-verde\" href=\"/world-population/cabo-verde-population/\">\\n             527,326\\n            </a>\\n           </td>\\n           <td class=\"px-2 border-e border-zinc-200 text-end py-1.5 border-b\" data-order=\"4030\">\\n            4,030\\n           </td>\\n           <td class=\"px-2 border-e border-zinc-200 text-end py-1.5 border-b\" data-order=\"130.8501240694789\">\\n            131\\n           </td>\\n          </tr>\\n          <tr>\\n           <td class=\"px-2 border-e border-zinc-200 py-1.5 border-b text-start\">\\n            30\\n           </td>\\n           <td class=\"px-2 border-e border-zinc-200 py-1.5 border-b font-bold text-start\">\\n            Cambodia\\n           </td>\\n           <td class=\"px-2 border-e border-zinc-200 text-end py-1.5 border-b font-bold\" data-order=\"17847982\">\\n            <a class=\"transition-all duration-200 text-lime-600 hover:text-lime-500\" data-country=\"cambodia\" href=\"/world-population/cambodia-population/\">\\n             17,847,982\\n            </a>\\n           </td>\\n           <td class=\"px-2 border-e border-zinc-200 text-end py-1.5 border-b\" data-order=\"176520\">\\n            176,520\\n           </td>\\n           <td class=\"px-2 border-e border-zinc-200 text-end py-1.5 border-b\" data-order=\"101.1102537956039\">\\n            101\\n           </td>\\n          </tr>\\n          <tr>\\n           <td class=\"px-2 border-e border-zinc-200 py-1.5 border-b text-start\">\\n            31\\n           </td>\\n           <td class=\"px-2 border-e border-zinc-200 py-1.5 border-b font-bold text-start\">\\n            Cameroon\\n           </td>\\n           <td class=\"px-2 border-e border-zinc-200 text-end py-1.5 border-b font-bold\" data-order=\"29879337\">\\n            <a class=\"transition-all duration-200 text-lime-600 hover:text-lime-500\" data-country=\"cameroon\" href=\"/world-population/cameroon-population/\">\\n             29,879,337\\n            </a>\\n           </td>\\n           <td class=\"px-2 border-e border-zinc-200 text-end py-1.5 border-b\" data-order=\"472710\">\\n            472,710\\n           </td>\\n           <td class=\"px-2 border-e border-zinc-200 text-end py-1.5 border-b\" data-order=\"63.20859935266866\">\\n            63\\n           </td>\\n          </tr>\\n          <tr>\\n           <td class=\"px-2 border-e border-zinc-200 py-1.5 border-b text-start\">\\n            32\\n           </td>\\n           <td class=\"px-2 border-e border-zinc-200 py-1.5 border-b font-bold text-start\">\\n            Canada\\n           </td>\\n           <td class=\"px-2 border-e border-zinc-200 text-end py-1.5 border-b font-bold\" data-order=\"40126723\">\\n            <a class=\"transition-all duration-200 text-lime-600 hover:text-lime-500\" data-country=\"canada\" href=\"/world-population/canada-population/\">\\n             40,126,723\\n            </a>\\n           </td>\\n           <td class=\"px-2 border-e border-zinc-200 text-end py-1.5 border-b\" data-order=\"9093510\">\\n            9,093,510\\n           </td>\\n           <td class=\"px-2 border-e border-zinc-200 text-end py-1.5 border-b\" data-order=\"4.412677063092249\">\\n            4\\n           </td>\\n          </tr>\\n          <tr>\\n           <td class=\"px-2 border-e border-zinc-200 py-1.5 border-b text-start\">\\n            33\\n           </td>\\n           <td class=\"px-2 border-e border-zinc-200 py-1.5 border-b font-bold text-start\">\\n            Central African Republic\\n           </td>\\n           <td class=\"px-2 border-e border-zinc-200 text-end py-1.5 border-b font-bold\" data-order=\"5513282\">\\n            <a class=\"transition-all duration-200 text-lime-600 hover:text-lime-500\" data-country=\"central-african-republic\" href=\"/world-population/central-african-republic-population/\">\\n             5,513,282\\n            </a>\\n           </td>\\n           <td class=\"px-2 border-e border-zinc-200 text-end py-1.5 border-b\" data-order=\"622980\">\\n            622,980\\n           </td>\\n           <td class=\"px-2 border-e border-zinc-200 text-end py-1.5 border-b\" data-order=\"8.849853927894957\">\\n            9\\n           </td>\\n          </tr>\\n          <tr>\\n           <td class=\"px-2 border-e border-zinc-200 py-1.5 border-b text-start\">\\n            34\\n           </td>\\n           <td class=\"px-2 border-e border-zinc-200 py-1.5 border-b font-bold text-start\">\\n            Chad\\n           </td>\\n           <td class=\"px-2 border-e border-zinc-200 text-end py-1.5 border-b font-bold\" data-order=\"21003705\">\\n            <a class=\"transition-all duration-200 text-lime-600 hover:text-lime-500\" data-country=\"chad\" href=\"/world-population/chad-population/\">\\n             21,003,705\\n            </a>\\n           </td>\\n           <td class=\"px-2 border-e border-zinc-200 text-end py-1.5 border-b\" data-order=\"1259200\">\\n            1,259,200\\n           </td>\\n           <td class=\"px-2 border-e border-zinc-200 text-end py-1.5 border-b\" data-order=\"16.680197744599745\">\\n            17\\n           </td>\\n          </tr>\\n          <tr>\\n           <td class=\"px-2 border-e border-zinc-200 py-1.5 border-b text-start\">\\n            35\\n           </td>\\n           <td class=\"px-2 border-e border-zinc-200 py-1.5 border-b font-bold text-start\">\\n            Chile\\n           </td>\\n           <td class=\"px-2 border-e border-zinc-200 text-end py-1.5 border-b font-bold\" data-order=\"19859921\">\\n            <a class=\"transition-all duration-200 text-lime-600 hover:text-lime-500\" data-country=\"chile\" href=\"/world-population/chile-population/\">\\n             19,859,921\\n            </a>\\n           </td>\\n           <td class=\"px-2 border-e border-zinc-200 text-end py-1.5 border-b\" data-order=\"743532\">\\n            743,532\\n           </td>\\n           <td class=\"px-2 border-e border-zinc-200 text-end py-1.5 border-b\" data-order=\"26.71024380927788\">\\n            27\\n           </td>\\n          </tr>\\n          <tr>\\n           <td class=\"px-2 border-e border-zinc-200 py-1.5 border-b text-start\">\\n            36\\n           </td>\\n           <td class=\"px-2 border-e border-zinc-200 py-1.5 border-b font-bold text-start\">\\n            China\\n           </td>\\n           <td class=\"px-2 border-e border-zinc-200 text-end py-1.5 border-b font-bold\" data-order=\"1416096094\">\\n            <a class=\"transition-all duration-200 text-lime-600 hover:text-lime-500\" data-country=\"china\" href=\"/world-population/china-population/\">\\n             1,416,096,094\\n            </a>\\n           </td>\\n           <td class=\"px-2 border-e border-zinc-200 text-end py-1.5 border-b\" data-order=\"9388211\">\\n            9,388,211\\n           </td>\\n           <td class=\"px-2 border-e border-zinc-200 text-end py-1.5 border-b\" data-order=\"150.8376935712246\">\\n            151\\n           </td>\\n          </tr>\\n          <tr>\\n           <td class=\"px-2 border-e border-zinc-200 py-1.5 border-b text-start\">\\n            37\\n           </td>\\n           <td class=\"px-2 border-e border-zinc-200 py-1.5 border-b font-bold text-start\">\\n            Colombia\\n           </td>\\n           <td class=\"px-2 border-e border-zinc-200 text-end py-1.5 border-b font-bold\" data-order=\"53425635\">\\n            <a class=\"transition-all duration-200 text-lime-600 hover:text-lime-500\" data-country=\"colombia\" href=\"/world-population/colombia-population/\">\\n             53,425,635\\n            </a>\\n           </td>\\n           <td class=\"px-2 border-e border-zinc-200 text-end py-1.5 border-b\" data-order=\"1109500\">\\n            1,109,500\\n           </td>\\n           <td class=\"px-2 border-e border-zinc-200 text-end py-1.5 border-b\" data-order=\"48.15289319513294\">\\n            48\\n           </td>\\n          </tr>\\n          <tr>\\n           <td class=\"px-2 border-e border-zinc-200 py-1.5 border-b text-start\">\\n            38\\n           </td>\\n           <td class=\"px-2 border-e border-zinc-200 py-1.5 border-b font-bold text-start\">\\n            Comoros\\n           </td>\\n           <td class=\"px-2 border-e border-zinc-200 text-end py-1.5 border-b font-bold\" data-order=\"882847\">\\n            <a class=\"transition-all duration-200 text-lime-600 hover:text-lime-500\" data-country=\"comoros\" href=\"/world-population/comoros-population/\">\\n             882,847\\n            </a>\\n           </td>\\n           <td class=\"px-2 border-e border-zinc-200 text-end py-1.5 border-b\" data-order=\"1861\">\\n            1,861\\n           </td>\\n           <td class=\"px-2 border-e border-zinc-200 text-end py-1.5 border-b\" data-order=\"474.3938742611499\">\\n            474\\n           </td>\\n          </tr>\\n          <tr>\\n           <td class=\"px-2 border-e border-zinc-200 py-1.5 border-b text-start\">\\n            39\\n           </td>\\n           <td class=\"px-2 border-e border-zinc-200 py-1.5 border-b font-bold text-start\">\\n            Congo (Congo-Brazzaville)\\n           </td>\\n           <td class=\"px-2 border-e border-zinc-200 text-end py-1.5 border-b font-bold\" data-order=\"6484437\">\\n            <a class=\"transition-all duration-200 text-lime-600 hover:text-lime-500\" data-country=\"congo\" href=\"/world-population/congo-population/\">\\n             6,484,437\\n            </a>\\n           </td>\\n           <td class=\"px-2 border-e border-zinc-200 text-end py-1.5 border-b\" data-order=\"341500\">\\n            341,500\\n           </td>\\n           <td class=\"px-2 border-e border-zinc-200 text-end py-1.5 border-b\" data-order=\"18.988102489019035\">\\n            19\\n           </td>\\n          </tr>\\n          <tr>\\n           <td class=\"px-2 border-e border-zinc-200 py-1.5 border-b text-start\">\\n            40\\n           </td>\\n           <td class=\"px-2 border-e border-zinc-200 py-1.5 border-b font-bold text-start\">\\n            Costa Rica\\n           </td>\\n           <td class=\"px-2 border-e border-zinc-200 text-end py-1.5 border-b font-bold\" data-order=\"5152950\">\\n            <a class=\"transition-all duration-200 text-lime-600 hover:text-lime-500\" data-country=\"costa-rica\" href=\"/world-population/costa-rica-population/\">\\n             5,152,950\\n            </a>\\n           </td>\\n           <td class=\"px-2 border-e border-zinc-200 text-end py-1.5 border-b\" data-order=\"51060\">\\n            51,060\\n           </td>\\n           <td class=\"px-2 border-e border-zinc-200 text-end py-1.5 border-b\" data-order=\"100.91950646298473\">\\n            101\\n           </td>\\n          </tr>\\n          <tr>\\n           <td class=\"px-2 border-e border-zinc-200 py-1.5 border-b text-start\">\\n            41\\n           </td>\\n           <td class=\"px-2 border-e border-zinc-200 py-1.5 border-b font-bold text-start\">\\n            Côte d\\'Ivoire\\n           </td>\\n           <td class=\"px-2 border-e border-zinc-200 text-end py-1.5 border-b font-bold\" data-order=\"32711547\">\\n            <a class=\"transition-all duration-200 text-lime-600 hover:text-lime-500\" data-country=\"cote-d-ivoire\" href=\"/world-population/cote-d-ivoire-population/\">\\n             32,711,547\\n            </a>\\n           </td>\\n           <td class=\"px-2 border-e border-zinc-200 text-end py-1.5 border-b\" data-order=\"318000\">\\n            318,000\\n           </td>\\n           <td class=\"px-2 border-e border-zinc-200 text-end py-1.5 border-b\" data-order=\"102.8665\">\\n            103\\n           </td>\\n          </tr>\\n          <tr>\\n           <td class=\"px-2 border-e border-zinc-200 py-1.5 border-b text-start\">\\n            42\\n           </td>\\n           <td class=\"px-2 border-e border-zinc-200 py-1.5 border-b font-bold text-start\">\\n            Croatia\\n           </td>\\n           <td class=\"px-2 border-e border-zinc-200 text-end py-1.5 border-b font-bold\" data-order=\"3848160\">\\n            <a class=\"transition-all duration-200 text-lime-600 hover:text-lime-500\" data-country=\"croatia\" href=\"/world-population/croatia-population/\">\\n             3,848,160\\n            </a>\\n           </td>\\n           <td class=\"px-2 border-e border-zinc-200 text-end py-1.5 border-b\" data-order=\"55960\">\\n            55,960\\n           </td>\\n           <td class=\"px-2 border-e border-zinc-200 text-end py-1.5 border-b\" data-order=\"68.7662616154396\">\\n            69\\n           </td>\\n          </tr>\\n          <tr>\\n           <td class=\"px-2 border-e border-zinc-200 py-1.5 border-b text-start\">\\n            43\\n           </td>\\n           <td class=\"px-2 border-e border-zinc-200 py-1.5 border-b font-bold text-start\">\\n            Cuba\\n           </td>\\n           <td class=\"px-2 border-e border-zinc-200 text-end py-1.5 border-b font-bold\" data-order=\"10937203\">\\n            <a class=\"transition-all duration-200 text-lime-600 hover:text-lime-500\" data-country=\"cuba\" href=\"/world-population/cuba-population/\">\\n             10,937,203\\n            </a>\\n           </td>\\n           <td class=\"px-2 border-e border-zinc-200 text-end py-1.5 border-b\" data-order=\"106440\">\\n            106,440\\n           </td>\\n           <td class=\"px-2 border-e border-zinc-200 text-end py-1.5 border-b\" data-order=\"102.75463171739948\">\\n            103\\n           </td>\\n          </tr>\\n          <tr>\\n           <td class=\"px-2 border-e border-zinc-200 py-1.5 border-b text-start\">\\n            44\\n           </td>\\n           <td class=\"px-2 border-e border-zinc-200 py-1.5 border-b font-bold text-start\">\\n            Cyprus\\n           </td>\\n           <td class=\"px-2 border-e border-zinc-200 text-end py-1.5 border-b font-bold\" data-order=\"1370754\">\\n            <a class=\"transition-all duration-200 text-lime-600 hover:text-lime-500\" data-country=\"cyprus\" href=\"/world-population/cyprus-population/\">\\n             1,370,754\\n            </a>\\n           </td>\\n           <td class=\"px-2 border-e border-zinc-200 text-end py-1.5 border-b\" data-order=\"9240\">\\n            9,240\\n           </td>\\n           <td class=\"px-2 border-e border-zinc-200 text-end py-1.5 border-b\" data-order=\"148.35\">\\n            148\\n           </td>\\n          </tr>\\n          <tr>\\n           <td class=\"px-2 border-e border-zinc-200 py-1.5 border-b text-start\">\\n            45\\n           </td>\\n           <td class=\"px-2 border-e border-zinc-200 py-1.5 border-b font-bold text-start\">\\n            Czechia (Czech Republic)\\n           </td>\\n           <td class=\"px-2 border-e border-zinc-200 text-end py-1.5 border-b font-bold\" data-order=\"10609239\">\\n            <a class=\"transition-all duration-200 text-lime-600 hover:text-lime-500\" data-country=\"czechia\" href=\"/world-population/czechia-population/\">\\n             10,609,239\\n            </a>\\n           </td>\\n           <td class=\"px-2 border-e border-zinc-200 text-end py-1.5 border-b\" data-order=\"77240\">\\n            77,240\\n           </td>\\n           <td class=\"px-2 border-e border-zinc-200 text-end py-1.5 border-b\" data-order=\"137.35420766442257\">\\n            137\\n           </td>\\n          </tr>\\n          <tr>\\n           <td class=\"px-2 border-e border-zinc-200 py-1.5 border-b text-start\">\\n            46\\n           </td>\\n           <td class=\"px-2 border-e border-zinc-200 py-1.5 border-b font-bold text-start\">\\n            Democratic Republic of the Congo\\n           </td>\\n           <td class=\"px-2 border-e border-zinc-200 text-end py-1.5 border-b font-bold\" data-order=\"112832473\">\\n            <a class=\"transition-all duration-200 text-lime-600 hover:text-lime-500\" data-country=\"democratic-republic-of-the-congo\" href=\"/world-population/democratic-republic-of-the-congo-population/\">\\n             112,832,473\\n            </a>\\n           </td>\\n           <td class=\"px-2 border-e border-zinc-200 text-end py-1.5 border-b\" data-order=\"2267050\">\\n            2,267,050\\n           </td>\\n           <td class=\"px-2 border-e border-zinc-200 text-end py-1.5 border-b\" data-order=\"49.77061511656117\">\\n            50\\n           </td>\\n          </tr>\\n          <tr>\\n           <td class=\"px-2 border-e border-zinc-200 py-1.5 border-b text-start\">\\n            47\\n           </td>\\n           <td class=\"px-2 border-e border-zinc-200 py-1.5 border-b font-bold text-start\">\\n            Denmark\\n           </td>\\n           <td class=\"px-2 border-e border-zinc-200 text-end py-1.5 border-b font-bold\" data-order=\"6002507\">\\n            <a class=\"transition-all duration-200 text-lime-600 hover:text-lime-500\" data-country=\"denmark\" href=\"/world-population/denmark-population/\">\\n             6,002,507\\n            </a>\\n           </td>\\n           <td class=\"px-2 border-e border-zinc-200 text-end py-1.5 border-b\" data-order=\"42430\">\\n            42,430\\n           </td>\\n           <td class=\"px-2 border-e border-zinc-200 text-end py-1.5 border-b\" data-order=\"141.46846570822532\">\\n            141\\n           </td>\\n          </tr>\\n          <tr>\\n           <td class=\"px-2 border-e border-zinc-200 py-1.5 border-b text-start\">\\n            48\\n           </td>\\n           <td class=\"px-2 border-e border-zinc-200 py-1.5 border-b font-bold text-start\">\\n            Djibouti\\n           </td>\\n           <td class=\"px-2 border-e border-zinc-200 text-end py-1.5 border-b font-bold\" data-order=\"1184076\">\\n            <a class=\"transition-all duration-200 text-lime-600 hover:text-lime-500\" data-country=\"djibouti\" href=\"/world-population/djibouti-population/\">\\n             1,184,076\\n            </a>\\n           </td>\\n           <td class=\"px-2 border-e border-zinc-200 text-end py-1.5 border-b\" data-order=\"23180\">\\n            23,180\\n           </td>\\n           <td class=\"px-2 border-e border-zinc-200 text-end py-1.5 border-b\" data-order=\"51.08179465056083\">\\n            51\\n           </td>\\n          </tr>\\n          <tr>\\n           <td class=\"px-2 border-e border-zinc-200 py-1.5 border-b text-start\">\\n            49\\n           </td>\\n           <td class=\"px-2 border-e border-zinc-200 py-1.5 border-b font-bold text-start\">\\n            Dominica\\n           </td>\\n           <td class=\"px-2 border-e border-zinc-200 text-end py-1.5 border-b font-bold\" data-order=\"65871\">\\n            <a class=\"transition-all duration-200 text-lime-600 hover:text-lime-500\" data-country=\"dominica\" href=\"/world-population/dominica-population/\">\\n             65,871\\n            </a>\\n           </td>\\n           <td class=\"px-2 border-e border-zinc-200 text-end py-1.5 border-b\" data-order=\"750\">\\n            750\\n           </td>\\n           <td class=\"px-2 border-e border-zinc-200 text-end py-1.5 border-b\" data-order=\"87.828\">\\n            88\\n           </td>\\n          </tr>\\n          <tr>\\n           <td class=\"px-2 border-e border-zinc-200 py-1.5 border-b text-start\">\\n            50\\n           </td>\\n           <td class=\"px-2 border-e border-zinc-200 py-1.5 border-b font-bold text-start\">\\n            Dominican Republic\\n           </td>\\n           <td class=\"px-2 border-e border-zinc-200 text-end py-1.5 border-b font-bold\" data-order=\"11520487\">\\n            <a class=\"transition-all duration-200 text-lime-600 hover:text-lime-500\" data-country=\"dominican-republic\" href=\"/world-population/dominican-republic-population/\">\\n             11,520,487\\n            </a>\\n           </td>\\n           <td class=\"px-2 border-e border-zinc-200 text-end py-1.5 border-b\" data-order=\"48320\">\\n            48,320\\n           </td>\\n           <td class=\"px-2 border-e border-zinc-200 text-end py-1.5 border-b\" data-order=\"238.42067466887417\">\\n            238\\n           </td>\\n          </tr>\\n          <tr>\\n           <td class=\"px-2 border-e border-zinc-200 py-1.5 border-b text-start\">\\n            51\\n           </td>\\n           <td class=\"px-2 border-e border-zinc-200 py-1.5 border-b font-bold text-start\">\\n            Ecuador\\n           </td>\\n           <td class=\"px-2 border-e border-zinc-200 text-end py-1.5 border-b font-bold\" data-order=\"18289896\">\\n            <a class=\"transition-all duration-200 text-lime-600 hover:text-lime-500\" data-country=\"ecuador\" href=\"/world-population/ecuador-population/\">\\n             18,289,896\\n            </a>\\n           </td>\\n           <td class=\"px-2 border-e border-zinc-200 text-end py-1.5 border-b\" data-order=\"248360\">\\n            248,360\\n           </td>\\n           <td class=\"px-2 border-e border-zinc-200 text-end py-1.5 border-b\" data-order=\"73.64267998067322\">\\n            74\\n           </td>\\n          </tr>\\n          <tr>\\n           <td class=\"px-2 border-e border-zinc-200 py-1.5 border-b text-start\">\\n            52\\n           </td>\\n           <td class=\"px-2 border-e border-zinc-200 py-1.5 border-b font-bold text-start\">\\n            Egypt\\n           </td>\\n           <td class=\"px-2 border-e border-zinc-200 text-end py-1.5 border-b font-bold\" data-order=\"118365995\">\\n            <a class=\"transition-all duration-200 text-lime-600 hover:text-lime-500\" data-country=\"egypt\" href=\"/world-population/egypt-population/\">\\n             118,365,995\\n            </a>\\n           </td>\\n           <td class=\"px-2 border-e border-zinc-200 text-end py-1.5 border-b\" data-order=\"995450\">\\n            995,450\\n           </td>\\n           <td class=\"px-2 border-e border-zinc-200 text-end py-1.5 border-b\" data-order=\"118.90702194987192\">\\n            119\\n           </td>\\n          </tr>\\n          <tr>\\n           <td class=\"px-2 border-e border-zinc-200 py-1.5 border-b text-start\">\\n            53\\n           </td>\\n           <td class=\"px-2 border-e border-zinc-200 py-1.5 border-b font-bold text-start\">\\n            El Salvador\\n           </td>\\n           <td class=\"px-2 border-e border-zinc-200 text-end py-1.5 border-b font-bold\" data-order=\"6365503\">\\n            <a class=\"transition-all duration-200 text-lime-600 hover:text-lime-500\" data-country=\"el-salvador\" href=\"/world-population/el-salvador-population/\">\\n             6,365,503\\n            </a>\\n           </td>\\n           <td class=\"px-2 border-e border-zinc-200 text-end py-1.5 border-b\" data-order=\"20720\">\\n            20,720\\n           </td>\\n           <td class=\"px-2 border-e border-zinc-200 text-end py-1.5 border-b\" data-order=\"307.21539575289574\">\\n            307\\n           </td>\\n          </tr>\\n          <tr>\\n           <td class=\"px-2 border-e border-zinc-200 py-1.5 border-b text-start\">\\n            54\\n           </td>\\n           <td class=\"px-2 border-e border-zinc-200 py-1.5 border-b font-bold text-start\">\\n            Equatorial Guinea\\n           </td>\\n           <td class=\"px-2 border-e border-zinc-200 text-end py-1.5 border-b font-bold\" data-order=\"1938431\">\\n            <a class=\"transition-all duration-200 text-lime-600 hover:text-lime-500\" data-country=\"equatorial-guinea\" href=\"/world-population/equatorial-guinea-population/\">\\n             1,938,431\\n            </a>\\n           </td>\\n           <td class=\"px-2 border-e border-zinc-200 text-end py-1.5 border-b\" data-order=\"28050\">\\n            28,050\\n           </td>\\n           <td class=\"px-2 border-e border-zinc-200 text-end py-1.5 border-b\" data-order=\"69.10627450980392\">\\n            69\\n           </td>\\n          </tr>\\n          <tr>\\n           <td class=\"px-2 border-e border-zinc-200 py-1.5 border-b text-start\">\\n            55\\n           </td>\\n           <td class=\"px-2 border-e border-zinc-200 py-1.5 border-b font-bold text-start\">\\n            Eritrea\\n           </td>\\n           <td class=\"px-2 border-e border-zinc-200 text-end py-1.5 border-b font-bold\" data-order=\"3607003\">\\n            <a class=\"transition-all duration-200 text-lime-600 hover:text-lime-500\" data-country=\"eritrea\" href=\"/world-population/eritrea-population/\">\\n             3,607,003\\n            </a>\\n           </td>\\n           <td class=\"px-2 border-e border-zinc-200 text-end py-1.5 border-b\" data-order=\"101000\">\\n            101,000\\n           </td>\\n           <td class=\"px-2 border-e border-zinc-200 text-end py-1.5 border-b\" data-order=\"35.71290099009901\">\\n            36\\n           </td>\\n          </tr>\\n          <tr>\\n           <td class=\"px-2 border-e border-zinc-200 py-1.5 border-b text-start\">\\n            56\\n           </td>\\n           <td class=\"px-2 border-e border-zinc-200 py-1.5 border-b font-bold text-start\">\\n            Estonia\\n           </td>\\n           <td class=\"px-2 border-e border-zinc-200 text-end py-1.5 border-b font-bold\" data-order=\"1344232\">\\n            <a class=\"transition-all duration-200 text-lime-600 hover:text-lime-500\" data-country=\"estonia\" href=\"/world-population/estonia-population/\">\\n             1,344,232\\n            </a>\\n           </td>\\n           <td class=\"px-2 border-e border-zinc-200 text-end py-1.5 border-b\" data-order=\"42390\">\\n            42,390\\n           </td>\\n           <td class=\"px-2 border-e border-zinc-200 text-end py-1.5 border-b\" data-order=\"31.71106393017221\">\\n            32\\n           </td>\\n          </tr>\\n          <tr>\\n           <td class=\"px-2 border-e border-zinc-200 py-1.5 border-b text-start\">\\n            57\\n           </td>\\n           <td class=\"px-2 border-e border-zinc-200 py-1.5 border-b font-bold text-start\">\\n            Eswatini (fmr. \"\"Swaziland\"\")\\n           </td>\\n           <td class=\"px-2 border-e border-zinc-200 text-end py-1.5 border-b font-bold\" data-order=\"1256174\">\\n            <a class=\"transition-all duration-200 text-lime-600 hover:text-lime-500\" data-country=\"swaziland\" href=\"/world-population/swaziland-population/\">\\n             1,256,174\\n            </a>\\n           </td>\\n           <td class=\"px-2 border-e border-zinc-200 text-end py-1.5 border-b\" data-order=\"17200\">\\n            17,200\\n           </td>\\n           <td class=\"px-2 border-e border-zinc-200 text-end py-1.5 border-b\" data-order=\"73.03337209302326\">\\n            73\\n           </td>\\n          </tr>\\n          <tr>\\n           <td class=\"px-2 border-e border-zinc-200 py-1.5 border-b text-start\">\\n            58\\n           </td>\\n           <td class=\"px-2 border-e border-zinc-200 py-1.5 border-b font-bold text-start\">\\n            Ethiopia\\n           </td>\\n           <td class=\"px-2 border-e border-zinc-200 text-end py-1.5 border-b font-bold\" data-order=\"135472051\">\\n            <a class=\"transition-all duration-200 text-lime-600 hover:text-lime-500\" data-country=\"ethiopia\" href=\"/world-population/ethiopia-population/\">\\n             135,472,051\\n            </a>\\n           </td>\\n           <td class=\"px-2 border-e border-zinc-200 text-end py-1.5 border-b\" data-order=\"1000000\">\\n            1,000,000\\n           </td>\\n           <td class=\"px-2 border-e border-zinc-200 text-end py-1.5 border-b\" data-order=\"135.472051\">\\n            135\\n           </td>\\n          </tr>\\n          <tr>\\n           <td class=\"px-2 border-e border-zinc-200 py-1.5 border-b text-start\">\\n            59\\n           </td>\\n           <td class=\"px-2 border-e border-zinc-200 py-1.5 border-b font-bold text-start\">\\n            Fiji\\n           </td>\\n           <td class=\"px-2 border-e border-zinc-200 text-end py-1.5 border-b font-bold\" data-order=\"933154\">\\n            <a class=\"transition-all duration-200 text-lime-600 hover:text-lime-500\" data-country=\"fiji\" href=\"/world-population/fiji-population/\">\\n             933,154\\n            </a>\\n           </td>\\n           <td class=\"px-2 border-e border-zinc-200 text-end py-1.5 border-b\" data-order=\"18270\">\\n            18,270\\n           </td>\\n           <td class=\"px-2 border-e border-zinc-200 text-end py-1.5 border-b\" data-order=\"51.07575259989053\">\\n            51\\n           </td>\\n          </tr>\\n          <tr>\\n           <td class=\"px-2 border-e border-zinc-200 py-1.5 border-b text-start\">\\n            60\\n           </td>\\n           <td class=\"px-2 border-e border-zinc-200 py-1.5 border-b font-bold text-start\">\\n            Finland\\n           </td>\\n           <td class=\"px-2 border-e border-zinc-200 text-end py-1.5 border-b font-bold\" data-order=\"5623329\">\\n            <a class=\"transition-all duration-200 text-lime-600 hover:text-lime-500\" data-country=\"finland\" href=\"/world-population/finland-population/\">\\n             5,623,329\\n            </a>\\n           </td>\\n           <td class=\"px-2 border-e border-zinc-200 text-end py-1.5 border-b\" data-order=\"303890\">\\n            303,890\\n           </td>\\n           <td class=\"px-2 border-e border-zinc-200 text-end py-1.5 border-b\" data-order=\"18.50448846622133\">\\n            19\\n           </td>\\n          </tr>\\n          <tr>\\n           <td class=\"px-2 border-e border-zinc-200 py-1.5 border-b text-start\">\\n            61\\n           </td>\\n           <td class=\"px-2 border-e border-zinc-200 py-1.5 border-b font-bold text-start\">\\n            France\\n           </td>\\n           <td class=\"px-2 border-e border-zinc-200 text-end py-1.5 border-b font-bold\" data-order=\"66650804\">\\n            <a class=\"transition-all duration-200 text-lime-600 hover:text-lime-500\" data-country=\"france\" href=\"/world-population/france-population/\">\\n             66,650,804\\n            </a>\\n           </td>\\n           <td class=\"px-2 border-e border-zinc-200 text-end py-1.5 border-b\" data-order=\"547557\">\\n            547,557\\n           </td>\\n           <td class=\"px-2 border-e border-zinc-200 text-end py-1.5 border-b\" data-order=\"121.72395567950004\">\\n            122\\n           </td>\\n          </tr>\\n          <tr>\\n           <td class=\"px-2 border-e border-zinc-200 py-1.5 border-b text-start\">\\n            62\\n           </td>\\n           <td class=\"px-2 border-e border-zinc-200 py-1.5 border-b font-bold text-start\">\\n            Gabon\\n           </td>\\n           <td class=\"px-2 border-e border-zinc-200 text-end py-1.5 border-b font-bold\" data-order=\"2593130\">\\n            <a class=\"transition-all duration-200 text-lime-600 hover:text-lime-500\" data-country=\"gabon\" href=\"/world-population/gabon-population/\">\\n             2,593,130\\n            </a>\\n           </td>\\n           <td class=\"px-2 border-e border-zinc-200 text-end py-1.5 border-b\" data-order=\"257670\">\\n            257,670\\n           </td>\\n           <td class=\"px-2 border-e border-zinc-200 text-end py-1.5 border-b\" data-order=\"10.063763728800403\">\\n            10\\n           </td>\\n          </tr>\\n          <tr>\\n           <td class=\"px-2 border-e border-zinc-200 py-1.5 border-b text-start\">\\n            63\\n           </td>\\n           <td class=\"px-2 border-e border-zinc-200 py-1.5 border-b font-bold text-start\">\\n            Gambia\\n           </td>\\n           <td class=\"px-2 border-e border-zinc-200 text-end py-1.5 border-b font-bold\" data-order=\"2822093\">\\n            <a class=\"transition-all duration-200 text-lime-600 hover:text-lime-500\" data-country=\"gambia\" href=\"/world-population/gambia-population/\">\\n             2,822,093\\n            </a>\\n           </td>\\n           <td class=\"px-2 border-e border-zinc-200 text-end py-1.5 border-b\" data-order=\"10120\">\\n            10,120\\n           </td>\\n           <td class=\"px-2 border-e border-zinc-200 text-end py-1.5 border-b\" data-order=\"278.8629446640316\">\\n            279\\n           </td>\\n          </tr>\\n          <tr>\\n           <td class=\"px-2 border-e border-zinc-200 py-1.5 border-b text-start\">\\n            64\\n           </td>\\n           <td class=\"px-2 border-e border-zinc-200 py-1.5 border-b font-bold text-start\">\\n            Georgia\\n           </td>\\n           <td class=\"px-2 border-e border-zinc-200 text-end py-1.5 border-b font-bold\" data-order=\"3806671\">\\n            <a class=\"transition-all duration-200 text-lime-600 hover:text-lime-500\" data-country=\"georgia\" href=\"/world-population/georgia-population/\">\\n             3,806,671\\n            </a>\\n           </td>\\n           <td class=\"px-2 border-e border-zinc-200 text-end py-1.5 border-b\" data-order=\"69490\">\\n            69,490\\n           </td>\\n           <td class=\"px-2 border-e border-zinc-200 text-end py-1.5 border-b\" data-order=\"54.78012663692618\">\\n            55\\n           </td>\\n          </tr>\\n          <tr>\\n           <td class=\"px-2 border-e border-zinc-200 py-1.5 border-b text-start\">\\n            65\\n           </td>\\n           <td class=\"px-2 border-e border-zinc-200 py-1.5 border-b font-bold text-start\">\\n            Germany\\n           </td>\\n           <td class=\"px-2 border-e border-zinc-200 text-end py-1.5 border-b font-bold\" data-order=\"84075075\">\\n            <a class=\"transition-all duration-200 text-lime-600 hover:text-lime-500\" data-country=\"germany\" href=\"/world-population/germany-population/\">\\n             84,075,075\\n            </a>\\n           </td>\\n           <td class=\"px-2 border-e border-zinc-200 text-end py-1.5 border-b\" data-order=\"348560\">\\n            348,560\\n           </td>\\n           <td class=\"px-2 border-e border-zinc-200 text-end py-1.5 border-b\" data-order=\"241.20689407849437\">\\n            241\\n           </td>\\n          </tr>\\n          <tr>\\n           <td class=\"px-2 border-e border-zinc-200 py-1.5 border-b text-start\">\\n            66\\n           </td>\\n           <td class=\"px-2 border-e border-zinc-200 py-1.5 border-b font-bold text-start\">\\n            Ghana\\n           </td>\\n           <td class=\"px-2 border-e border-zinc-200 text-end py-1.5 border-b font-bold\" data-order=\"35064272\">\\n            <a class=\"transition-all duration-200 text-lime-600 hover:text-lime-500\" data-country=\"ghana\" href=\"/world-population/ghana-population/\">\\n             35,064,272\\n            </a>\\n           </td>\\n           <td class=\"px-2 border-e border-zinc-200 text-end py-1.5 border-b\" data-order=\"227540\">\\n            227,540\\n           </td>\\n           <td class=\"px-2 border-e border-zinc-200 text-end py-1.5 border-b\" data-order=\"154.1015733497407\">\\n            154\\n           </td>\\n          </tr>\\n          <tr>\\n           <td class=\"px-2 border-e border-zinc-200 py-1.5 border-b text-start\">\\n            67\\n           </td>\\n           <td class=\"px-2 border-e border-zinc-200 py-1.5 border-b font-bold text-start\">\\n            Greece\\n           </td>\\n           <td class=\"px-2 border-e border-zinc-200 text-end py-1.5 border-b font-bold\" data-order=\"9938844\">\\n            <a class=\"transition-all duration-200 text-lime-600 hover:text-lime-500\" data-country=\"greece\" href=\"/world-population/greece-population/\">\\n             9,938,844\\n            </a>\\n           </td>\\n           <td class=\"px-2 border-e border-zinc-200 text-end py-1.5 border-b\" data-order=\"128900\">\\n            128,900\\n           </td>\\n           <td class=\"px-2 border-e border-zinc-200 text-end py-1.5 border-b\" data-order=\"77.10507370054306\">\\n            77\\n           </td>\\n          </tr>\\n          <tr>\\n           <td class=\"px-2 border-e border-zinc-200 py-1.5 border-b text-start\">\\n            68\\n           </td>\\n           <td class=\"px-2 border-e border-zinc-200 py-1.5 border-b font-bold text-start\">\\n            Grenada\\n           </td>\\n           <td class=\"px-2 border-e border-zinc-200 text-end py-1.5 border-b font-bold\" data-order=\"117303\">\\n            <a class=\"transition-all duration-200 text-lime-600 hover:text-lime-500\" data-country=\"grenada\" href=\"/world-population/grenada-population/\">\\n             117,303\\n            </a>\\n           </td>\\n           <td class=\"px-2 border-e border-zinc-200 text-end py-1.5 border-b\" data-order=\"340\">\\n            340\\n           </td>\\n           <td class=\"px-2 border-e border-zinc-200 text-end py-1.5 border-b\" data-order=\"345.00882352941176\">\\n            345\\n           </td>\\n          </tr>\\n          <tr>\\n           <td class=\"px-2 border-e border-zinc-200 py-1.5 border-b text-start\">\\n            69\\n           </td>\\n           <td class=\"px-2 border-e border-zinc-200 py-1.5 border-b font-bold text-start\">\\n            Guatemala\\n           </td>\\n           <td class=\"px-2 border-e border-zinc-200 text-end py-1.5 border-b font-bold\" data-order=\"18687881\">\\n            <a class=\"transition-all duration-200 text-lime-600 hover:text-lime-500\" data-country=\"guatemala\" href=\"/world-population/guatemala-population/\">\\n             18,687,881\\n            </a>\\n           </td>\\n           <td class=\"px-2 border-e border-zinc-200 text-end py-1.5 border-b\" data-order=\"107160\">\\n            107,160\\n           </td>\\n           <td class=\"px-2 border-e border-zinc-200 text-end py-1.5 border-b\" data-order=\"174.39231989548338\">\\n            174\\n           </td>\\n          </tr>\\n          <tr>\\n           <td class=\"px-2 border-e border-zinc-200 py-1.5 border-b text-start\">\\n            70\\n           </td>\\n           <td class=\"px-2 border-e border-zinc-200 py-1.5 border-b font-bold text-start\">\\n            Guinea\\n           </td>\\n           <td class=\"px-2 border-e border-zinc-200 text-end py-1.5 border-b font-bold\" data-order=\"15099727\">\\n            <a class=\"transition-all duration-200 text-lime-600 hover:text-lime-500\" data-country=\"guinea\" href=\"/world-population/guinea-population/\">\\n             15,099,727\\n            </a>\\n           </td>\\n           <td class=\"px-2 border-e border-zinc-200 text-end py-1.5 border-b\" data-order=\"245720\">\\n            245,720\\n           </td>\\n           <td class=\"px-2 border-e border-zinc-200 text-end py-1.5 border-b\" data-order=\"61.450948233762006\">\\n            61\\n           </td>\\n          </tr>\\n          <tr>\\n           <td class=\"px-2 border-e border-zinc-200 py-1.5 border-b text-start\">\\n            71\\n           </td>\\n           <td class=\"px-2 border-e border-zinc-200 py-1.5 border-b font-bold text-start\">\\n            Guinea-Bissau\\n           </td>\\n           <td class=\"px-2 border-e border-zinc-200 text-end py-1.5 border-b font-bold\" data-order=\"2249515\">\\n            <a class=\"transition-all duration-200 text-lime-600 hover:text-lime-500\" data-country=\"guinea-bissau\" href=\"/world-population/guinea-bissau-population/\">\\n             2,249,515\\n            </a>\\n           </td>\\n           <td class=\"px-2 border-e border-zinc-200 text-end py-1.5 border-b\" data-order=\"28120\">\\n            28,120\\n           </td>\\n           <td class=\"px-2 border-e border-zinc-200 text-end py-1.5 border-b\" data-order=\"79.9969772403983\">\\n            80\\n           </td>\\n          </tr>\\n          <tr>\\n           <td class=\"px-2 border-e border-zinc-200 py-1.5 border-b text-start\">\\n            72\\n           </td>\\n           <td class=\"px-2 border-e border-zinc-200 py-1.5 border-b font-bold text-start\">\\n            Guyana\\n           </td>\\n           <td class=\"px-2 border-e border-zinc-200 text-end py-1.5 border-b font-bold\" data-order=\"835986\">\\n            <a class=\"transition-all duration-200 text-lime-600 hover:text-lime-500\" data-country=\"guyana\" href=\"/world-population/guyana-population/\">\\n             835,986\\n            </a>\\n           </td>\\n           <td class=\"px-2 border-e border-zinc-200 text-end py-1.5 border-b\" data-order=\"196850\">\\n            196,850\\n           </td>\\n           <td class=\"px-2 border-e border-zinc-200 text-end py-1.5 border-b\" data-order=\"4.246817373634747\">\\n            4\\n           </td>\\n          </tr>\\n          <tr>\\n           <td class=\"px-2 border-e border-zinc-200 py-1.5 border-b text-start\">\\n            73\\n           </td>\\n           <td class=\"px-2 border-e border-zinc-200 py-1.5 border-b font-bold text-start\">\\n            Haiti\\n           </td>\\n           <td class=\"px-2 border-e border-zinc-200 text-end py-1.5 border-b font-bold\" data-order=\"11906095\">\\n            <a class=\"transition-all duration-200 text-lime-600 hover:text-lime-500\" data-country=\"haiti\" href=\"/world-population/haiti-population/\">\\n             11,906,095\\n            </a>\\n           </td>\\n           <td class=\"px-2 border-e border-zinc-200 text-end py-1.5 border-b\" data-order=\"27560\">\\n            27,560\\n           </td>\\n           <td class=\"px-2 border-e border-zinc-200 text-end py-1.5 border-b\" data-order=\"432.00634978229317\">\\n            432\\n           </td>\\n          </tr>\\n          <tr>\\n           <td class=\"px-2 border-e border-zinc-200 py-1.5 border-b text-start\">\\n            74\\n           </td>\\n           <td class=\"px-2 border-e border-zinc-200 py-1.5 border-b font-bold text-start\">\\n            Holy See\\n           </td>\\n           <td class=\"px-2 border-e border-zinc-200 text-end py-1.5 border-b font-bold\" data-order=\"501\">\\n            <a class=\"transition-all duration-200 text-lime-600 hover:text-lime-500\" data-country=\"holy-see\" href=\"/world-population/holy-see-population/\">\\n             501\\n            </a>\\n           </td>\\n           <td class=\"px-2 border-e border-zinc-200 text-end py-1.5 border-b\" data-order=\"0.4\">\\n            0\\n           </td>\\n           <td class=\"px-2 border-e border-zinc-200 text-end py-1.5 border-b\" data-order=\"1252.5\">\\n            1,253\\n           </td>\\n          </tr>\\n          <tr>\\n           <td class=\"px-2 border-e border-zinc-200 py-1.5 border-b text-start\">\\n            75\\n           </td>\\n           <td class=\"px-2 border-e border-zinc-200 py-1.5 border-b font-bold text-start\">\\n            Honduras\\n           </td>\\n           <td class=\"px-2 border-e border-zinc-200 text-end py-1.5 border-b font-bold\" data-order=\"11005850\">\\n            <a class=\"transition-all duration-200 text-lime-600 hover:text-lime-500\" data-country=\"honduras\" href=\"/world-population/honduras-population/\">\\n             11,005,850\\n            </a>\\n           </td>\\n           <td class=\"px-2 border-e border-zinc-200 text-end py-1.5 border-b\" data-order=\"111890\">\\n            111,890\\n           </td>\\n           <td class=\"px-2 border-e border-zinc-200 text-end py-1.5 border-b\" data-order=\"98.36312449727411\">\\n            98\\n           </td>\\n          </tr>\\n          <tr>\\n           <td class=\"px-2 border-e border-zinc-200 py-1.5 border-b text-start\">\\n            76\\n           </td>\\n           <td class=\"px-2 border-e border-zinc-200 py-1.5 border-b font-bold text-start\">\\n            Hungary\\n           </td>\\n           <td class=\"px-2 border-e border-zinc-200 text-end py-1.5 border-b font-bold\" data-order=\"9632287\">\\n            <a class=\"transition-all duration-200 text-lime-600 hover:text-lime-500\" data-country=\"hungary\" href=\"/world-population/hungary-population/\">\\n             9,632,287\\n            </a>\\n           </td>\\n           <td class=\"px-2 border-e border-zinc-200 text-end py-1.5 border-b\" data-order=\"90530\">\\n            90,530\\n           </td>\\n           <td class=\"px-2 border-e border-zinc-200 text-end py-1.5 border-b\" data-order=\"106.39884016348172\">\\n            106\\n           </td>\\n          </tr>\\n          <tr>\\n           <td class=\"px-2 border-e border-zinc-200 py-1.5 border-b text-start\">\\n            77\\n           </td>\\n           <td class=\"px-2 border-e border-zinc-200 py-1.5 border-b font-bold text-start\">\\n            Iceland\\n           </td>\\n           <td class=\"px-2 border-e border-zinc-200 text-end py-1.5 border-b font-bold\" data-order=\"398266\">\\n            <a class=\"transition-all duration-200 text-lime-600 hover:text-lime-500\" data-country=\"iceland\" href=\"/world-population/iceland-population/\">\\n             398,266\\n            </a>\\n           </td>\\n           <td class=\"px-2 border-e border-zinc-200 text-end py-1.5 border-b\" data-order=\"100250\">\\n            100,250\\n           </td>\\n           <td class=\"px-2 border-e border-zinc-200 text-end py-1.5 border-b\" data-order=\"3.972728179551122\">\\n            4\\n           </td>\\n          </tr>\\n          <tr>\\n           <td class=\"px-2 border-e border-zinc-200 py-1.5 border-b text-start\">\\n            78\\n           </td>\\n           <td class=\"px-2 border-e border-zinc-200 py-1.5 border-b font-bold text-start\">\\n            India\\n           </td>\\n           <td class=\"px-2 border-e border-zinc-200 text-end py-1.5 border-b font-bold\" data-order=\"1463865525\">\\n            <a class=\"transition-all duration-200 text-lime-600 hover:text-lime-500\" data-country=\"india\" href=\"/world-population/india-population/\">\\n             1,463,865,525\\n            </a>\\n           </td>\\n           <td class=\"px-2 border-e border-zinc-200 text-end py-1.5 border-b\" data-order=\"2973190\">\\n            2,973,190\\n           </td>\\n           <td class=\"px-2 border-e border-zinc-200 text-end py-1.5 border-b\" data-order=\"492.35518920755146\">\\n            492\\n           </td>\\n          </tr>\\n          <tr>\\n           <td class=\"px-2 border-e border-zinc-200 py-1.5 border-b text-start\">\\n            79\\n           </td>\\n           <td class=\"px-2 border-e border-zinc-200 py-1.5 border-b font-bold text-start\">\\n            Indonesia\\n           </td>\\n           <td class=\"px-2 border-e border-zinc-200 text-end py-1.5 border-b font-bold\" data-order=\"285721236\">\\n            <a class=\"transition-all duration-200 text-lime-600 hover:text-lime-500\" data-country=\"indonesia\" href=\"/world-population/indonesia-population/\">\\n             285,721,236\\n            </a>\\n           </td>\\n           <td class=\"px-2 border-e border-zinc-200 text-end py-1.5 border-b\" data-order=\"1811570\">\\n            1,811,570\\n           </td>\\n           <td class=\"px-2 border-e border-zinc-200 text-end py-1.5 border-b\" data-order=\"157.72022941426496\">\\n            158\\n           </td>\\n          </tr>\\n          <tr>\\n           <td class=\"px-2 border-e border-zinc-200 py-1.5 border-b text-start\">\\n            80\\n           </td>\\n           <td class=\"px-2 border-e border-zinc-200 py-1.5 border-b font-bold text-start\">\\n            Iran\\n           </td>\\n           <td class=\"px-2 border-e border-zinc-200 text-end py-1.5 border-b font-bold\" data-order=\"92417681\">\\n            <a class=\"transition-all duration-200 text-lime-600 hover:text-lime-500\" data-country=\"iran\" href=\"/world-population/iran-population/\">\\n             92,417,681\\n            </a>\\n           </td>\\n           <td class=\"px-2 border-e border-zinc-200 text-end py-1.5 border-b\" data-order=\"1628550\">\\n            1,628,550\\n           </td>\\n           <td class=\"px-2 border-e border-zinc-200 text-end py-1.5 border-b\" data-order=\"56.74844554972215\">\\n            57\\n           </td>\\n          </tr>\\n          <tr>\\n           <td class=\"px-2 border-e border-zinc-200 py-1.5 border-b text-start\">\\n            81\\n           </td>\\n           <td class=\"px-2 border-e border-zinc-200 py-1.5 border-b font-bold text-start\">\\n            Iraq\\n           </td>\\n           <td class=\"px-2 border-e border-zinc-200 text-end py-1.5 border-b font-bold\" data-order=\"47020774\">\\n            <a class=\"transition-all duration-200 text-lime-600 hover:text-lime-500\" data-country=\"iraq\" href=\"/world-population/iraq-population/\">\\n             47,020,774\\n            </a>\\n           </td>\\n           <td class=\"px-2 border-e border-zinc-200 text-end py-1.5 border-b\" data-order=\"434320\">\\n            434,320\\n           </td>\\n           <td class=\"px-2 border-e border-zinc-200 text-end py-1.5 border-b\" data-order=\"108.26297200221035\">\\n            108\\n           </td>\\n          </tr>\\n          <tr>\\n           <td class=\"px-2 border-e border-zinc-200 py-1.5 border-b text-start\">\\n            82\\n           </td>\\n           <td class=\"px-2 border-e border-zinc-200 py-1.5 border-b font-bold text-start\">\\n            Ireland\\n           </td>\\n           <td class=\"px-2 border-e border-zinc-200 text-end py-1.5 border-b font-bold\" data-order=\"5308039\">\\n            <a class=\"transition-all duration-200 text-lime-600 hover:text-lime-500\" data-country=\"ireland\" href=\"/world-population/ireland-population/\">\\n             5,308,039\\n            </a>\\n           </td>\\n           <td class=\"px-2 border-e border-zinc-200 text-end py-1.5 border-b\" data-order=\"68890\">\\n            68,890\\n           </td>\\n           <td class=\"px-2 border-e border-zinc-200 text-end py-1.5 border-b\" data-order=\"77.05093627522136\">\\n            77\\n           </td>\\n          </tr>\\n          <tr>\\n           <td class=\"px-2 border-e border-zinc-200 py-1.5 border-b text-start\">\\n            83\\n           </td>\\n           <td class=\"px-2 border-e border-zinc-200 py-1.5 border-b font-bold text-start\">\\n            Israel\\n           </td>\\n           <td class=\"px-2 border-e border-zinc-200 text-end py-1.5 border-b font-bold\" data-order=\"9517181\">\\n            <a class=\"transition-all duration-200 text-lime-600 hover:text-lime-500\" data-country=\"israel\" href=\"/world-population/israel-population/\">\\n             9,517,181\\n            </a>\\n           </td>\\n           <td class=\"px-2 border-e border-zinc-200 text-end py-1.5 border-b\" data-order=\"21640\">\\n            21,640\\n           </td>\\n           <td class=\"px-2 border-e border-zinc-200 text-end py-1.5 border-b\" data-order=\"439.79579482439925\">\\n            440\\n           </td>\\n          </tr>\\n          <tr>\\n           <td class=\"px-2 border-e border-zinc-200 py-1.5 border-b text-start\">\\n            84\\n           </td>\\n           <td class=\"px-2 border-e border-zinc-200 py-1.5 border-b font-bold text-start\">\\n            Italy\\n           </td>\\n           <td class=\"px-2 border-e border-zinc-200 text-end py-1.5 border-b font-bold\" data-order=\"59146260\">\\n            <a class=\"transition-all duration-200 text-lime-600 hover:text-lime-500\" data-country=\"italy\" href=\"/world-population/italy-population/\">\\n             59,146,260\\n            </a>\\n           </td>\\n           <td class=\"px-2 border-e border-zinc-200 text-end py-1.5 border-b\" data-order=\"294140\">\\n            294,140\\n           </td>\\n           <td class=\"px-2 border-e border-zinc-200 text-end py-1.5 border-b\" data-order=\"201.08200176786565\">\\n            201\\n           </td>\\n          </tr>\\n          <tr>\\n           <td class=\"px-2 border-e border-zinc-200 py-1.5 border-b text-start\">\\n            85\\n           </td>\\n           <td class=\"px-2 border-e border-zinc-200 py-1.5 border-b font-bold text-start\">\\n            Jamaica\\n           </td>\\n           <td class=\"px-2 border-e border-zinc-200 text-end py-1.5 border-b font-bold\" data-order=\"2837077\">\\n            <a class=\"transition-all duration-200 text-lime-600 hover:text-lime-500\" data-country=\"jamaica\" href=\"/world-population/jamaica-population/\">\\n             2,837,077\\n            </a>\\n           </td>\\n           <td class=\"px-2 border-e border-zinc-200 text-end py-1.5 border-b\" data-order=\"10830\">\\n            10,830\\n           </td>\\n           <td class=\"px-2 border-e border-zinc-200 text-end py-1.5 border-b\" data-order=\"261.9646352723915\">\\n            262\\n           </td>\\n          </tr>\\n          <tr>\\n           <td class=\"px-2 border-e border-zinc-200 py-1.5 border-b text-start\">\\n            86\\n           </td>\\n           <td class=\"px-2 border-e border-zinc-200 py-1.5 border-b font-bold text-start\">\\n            Japan\\n           </td>\\n           <td class=\"px-2 border-e border-zinc-200 text-end py-1.5 border-b font-bold\" data-order=\"123103479\">\\n            <a class=\"transition-all duration-200 text-lime-600 hover:text-lime-500\" data-country=\"japan\" href=\"/world-population/japan-population/\">\\n             123,103,479\\n            </a>\\n           </td>\\n           <td class=\"px-2 border-e border-zinc-200 text-end py-1.5 border-b\" data-order=\"364555\">\\n            364,555\\n           </td>\\n           <td class=\"px-2 border-e border-zinc-200 text-end py-1.5 border-b\" data-order=\"337.68149936223614\">\\n            338\\n           </td>\\n          </tr>\\n          <tr>\\n           <td class=\"px-2 border-e border-zinc-200 py-1.5 border-b text-start\">\\n            87\\n           </td>\\n           <td class=\"px-2 border-e border-zinc-200 py-1.5 border-b font-bold text-start\">\\n            Jordan\\n           </td>\\n           <td class=\"px-2 border-e border-zinc-200 text-end py-1.5 border-b font-bold\" data-order=\"11520684\">\\n            <a class=\"transition-all duration-200 text-lime-600 hover:text-lime-500\" data-country=\"jordan\" href=\"/world-population/jordan-population/\">\\n             11,520,684\\n            </a>\\n           </td>\\n           <td class=\"px-2 border-e border-zinc-200 text-end py-1.5 border-b\" data-order=\"88780\">\\n            88,780\\n           </td>\\n           <td class=\"px-2 border-e border-zinc-200 text-end py-1.5 border-b\" data-order=\"129.7666591574679\">\\n            130\\n           </td>\\n          </tr>\\n          <tr>\\n           <td class=\"px-2 border-e border-zinc-200 py-1.5 border-b text-start\">\\n            88\\n           </td>\\n           <td class=\"px-2 border-e border-zinc-200 py-1.5 border-b font-bold text-start\">\\n            Kazakhstan\\n           </td>\\n           <td class=\"px-2 border-e border-zinc-200 text-end py-1.5 border-b font-bold\" data-order=\"20843754\">\\n            <a class=\"transition-all duration-200 text-lime-600 hover:text-lime-500\" data-country=\"kazakhstan\" href=\"/world-population/kazakhstan-population/\">\\n             20,843,754\\n            </a>\\n           </td>\\n           <td class=\"px-2 border-e border-zinc-200 text-end py-1.5 border-b\" data-order=\"2699700\">\\n            2,699,700\\n           </td>\\n           <td class=\"px-2 border-e border-zinc-200 text-end py-1.5 border-b\" data-order=\"7.720766751861318\">\\n            8\\n           </td>\\n          </tr>\\n          <tr>\\n           <td class=\"px-2 border-e border-zinc-200 py-1.5 border-b text-start\">\\n            89\\n           </td>\\n           <td class=\"px-2 border-e border-zinc-200 py-1.5 border-b font-bold text-start\">\\n            Kenya\\n           </td>\\n           <td class=\"px-2 border-e border-zinc-200 text-end py-1.5 border-b font-bold\" data-order=\"57532493\">\\n            <a class=\"transition-all duration-200 text-lime-600 hover:text-lime-500\" data-country=\"kenya\" href=\"/world-population/kenya-population/\">\\n             57,532,493\\n            </a>\\n           </td>\\n           <td class=\"px-2 border-e border-zinc-200 text-end py-1.5 border-b\" data-order=\"569140\">\\n            569,140\\n           </td>\\n           <td class=\"px-2 border-e border-zinc-200 text-end py-1.5 border-b\" data-order=\"101.08671504375022\">\\n            101\\n           </td>\\n          </tr>\\n          <tr>\\n           <td class=\"px-2 border-e border-zinc-200 py-1.5 border-b text-start\">\\n            90\\n           </td>\\n           <td class=\"px-2 border-e border-zinc-200 py-1.5 border-b font-bold text-start\">\\n            Kiribati\\n           </td>\\n           <td class=\"px-2 border-e border-zinc-200 text-end py-1.5 border-b font-bold\" data-order=\"136488\">\\n            <a class=\"transition-all duration-200 text-lime-600 hover:text-lime-500\" data-country=\"kiribati\" href=\"/world-population/kiribati-population/\">\\n             136,488\\n            </a>\\n           </td>\\n           <td class=\"px-2 border-e border-zinc-200 text-end py-1.5 border-b\" data-order=\"810\">\\n            810\\n           </td>\\n           <td class=\"px-2 border-e border-zinc-200 text-end py-1.5 border-b\" data-order=\"168.5037037037037\">\\n            169\\n           </td>\\n          </tr>\\n          <tr>\\n           <td class=\"px-2 border-e border-zinc-200 py-1.5 border-b text-start\">\\n            91\\n           </td>\\n           <td class=\"px-2 border-e border-zinc-200 py-1.5 border-b font-bold text-start\">\\n            Kuwait\\n           </td>\\n           <td class=\"px-2 border-e border-zinc-200 text-end py-1.5 border-b font-bold\" data-order=\"5026078\">\\n            <a class=\"transition-all duration-200 text-lime-600 hover:text-lime-500\" data-country=\"kuwait\" href=\"/world-population/kuwait-population/\">\\n             5,026,078\\n            </a>\\n           </td>\\n           <td class=\"px-2 border-e border-zinc-200 text-end py-1.5 border-b\" data-order=\"17820\">\\n            17,820\\n           </td>\\n           <td class=\"px-2 border-e border-zinc-200 text-end py-1.5 border-b\" data-order=\"282.04702581369247\">\\n            282\\n           </td>\\n          </tr>\\n          <tr>\\n           <td class=\"px-2 border-e border-zinc-200 py-1.5 border-b text-start\">\\n            92\\n           </td>\\n           <td class=\"px-2 border-e border-zinc-200 py-1.5 border-b font-bold text-start\">\\n            Kyrgyzstan\\n           </td>\\n           <td class=\"px-2 border-e border-zinc-200 text-end py-1.5 border-b font-bold\" data-order=\"7295034\">\\n            <a class=\"transition-all duration-200 text-lime-600 hover:text-lime-500\" data-country=\"kyrgyzstan\" href=\"/world-population/kyrgyzstan-population/\">\\n             7,295,034\\n            </a>\\n           </td>\\n           <td class=\"px-2 border-e border-zinc-200 text-end py-1.5 border-b\" data-order=\"191800\">\\n            191,800\\n           </td>\\n           <td class=\"px-2 border-e border-zinc-200 text-end py-1.5 border-b\" data-order=\"38.03458811261731\">\\n            38\\n           </td>\\n          </tr>\\n          <tr>\\n           <td class=\"px-2 border-e border-zinc-200 py-1.5 border-b text-start\">\\n            93\\n           </td>\\n           <td class=\"px-2 border-e border-zinc-200 py-1.5 border-b font-bold text-start\">\\n            Laos\\n           </td>\\n           <td class=\"px-2 border-e border-zinc-200 text-end py-1.5 border-b font-bold\" data-order=\"7873046\">\\n            <a class=\"transition-all duration-200 text-lime-600 hover:text-lime-500\" data-country=\"laos\" href=\"/world-population/laos-population/\">\\n             7,873,046\\n            </a>\\n           </td>\\n           <td class=\"px-2 border-e border-zinc-200 text-end py-1.5 border-b\" data-order=\"230800\">\\n            230,800\\n           </td>\\n           <td class=\"px-2 border-e border-zinc-200 text-end py-1.5 border-b\" data-order=\"34.11198440207972\">\\n            34\\n           </td>\\n          </tr>\\n          <tr>\\n           <td class=\"px-2 border-e border-zinc-200 py-1.5 border-b text-start\">\\n            94\\n           </td>\\n           <td class=\"px-2 border-e border-zinc-200 py-1.5 border-b font-bold text-start\">\\n            Latvia\\n           </td>\\n           <td class=\"px-2 border-e border-zinc-200 text-end py-1.5 border-b font-bold\" data-order=\"1853559\">\\n            <a class=\"transition-all duration-200 text-lime-600 hover:text-lime-500\" data-country=\"latvia\" href=\"/world-population/latvia-population/\">\\n             1,853,559\\n            </a>\\n           </td>\\n           <td class=\"px-2 border-e border-zinc-200 text-end py-1.5 border-b\" data-order=\"62200\">\\n            62,200\\n           </td>\\n           <td class=\"px-2 border-e border-zinc-200 text-end py-1.5 border-b\" data-order=\"29.799983922829583\">\\n            30\\n           </td>\\n          </tr>\\n          <tr>\\n           <td class=\"px-2 border-e border-zinc-200 py-1.5 border-b text-start\">\\n            95\\n           </td>\\n           <td class=\"px-2 border-e border-zinc-200 py-1.5 border-b font-bold text-start\">\\n            Lebanon\\n           </td>\\n           <td class=\"px-2 border-e border-zinc-200 text-end py-1.5 border-b font-bold\" data-order=\"5849421\">\\n            <a class=\"transition-all duration-200 text-lime-600 hover:text-lime-500\" data-country=\"lebanon\" href=\"/world-population/lebanon-population/\">\\n             5,849,421\\n            </a>\\n           </td>\\n           <td class=\"px-2 border-e border-zinc-200 text-end py-1.5 border-b\" data-order=\"10230\">\\n            10,230\\n           </td>\\n           <td class=\"px-2 border-e border-zinc-200 text-end py-1.5 border-b\" data-order=\"571.790909090909\">\\n            572\\n           </td>\\n          </tr>\\n          <tr>\\n           <td class=\"px-2 border-e border-zinc-200 py-1.5 border-b text-start\">\\n            96\\n           </td>\\n           <td class=\"px-2 border-e border-zinc-200 py-1.5 border-b font-bold text-start\">\\n            Lesotho\\n           </td>\\n           <td class=\"px-2 border-e border-zinc-200 text-end py-1.5 border-b font-bold\" data-order=\"2363325\">\\n            <a class=\"transition-all duration-200 text-lime-600 hover:text-lime-500\" data-country=\"lesotho\" href=\"/world-population/lesotho-population/\">\\n             2,363,325\\n            </a>\\n           </td>\\n           <td class=\"px-2 border-e border-zinc-200 text-end py-1.5 border-b\" data-order=\"30360\">\\n            30,360\\n           </td>\\n           <td class=\"px-2 border-e border-zinc-200 text-end py-1.5 border-b\" data-order=\"77.84337944664031\">\\n            78\\n           </td>\\n          </tr>\\n          <tr>\\n           <td class=\"px-2 border-e border-zinc-200 py-1.5 border-b text-start\">\\n            97\\n           </td>\\n           <td class=\"px-2 border-e border-zinc-200 py-1.5 border-b font-bold text-start\">\\n            Liberia\\n           </td>\\n           <td class=\"px-2 border-e border-zinc-200 text-end py-1.5 border-b font-bold\" data-order=\"5731206\">\\n            <a class=\"transition-all duration-200 text-lime-600 hover:text-lime-500\" data-country=\"liberia\" href=\"/world-population/liberia-population/\">\\n             5,731,206\\n            </a>\\n           </td>\\n           <td class=\"px-2 border-e border-zinc-200 text-end py-1.5 border-b\" data-order=\"96320\">\\n            96,320\\n           </td>\\n           <td class=\"px-2 border-e border-zinc-200 text-end py-1.5 border-b\" data-order=\"59.50172342192691\">\\n            60\\n           </td>\\n          </tr>\\n          <tr>\\n           <td class=\"px-2 border-e border-zinc-200 py-1.5 border-b text-start\">\\n            98\\n           </td>\\n           <td class=\"px-2 border-e border-zinc-200 py-1.5 border-b font-bold text-start\">\\n            Libya\\n           </td>\\n           <td class=\"px-2 border-e border-zinc-200 text-end py-1.5 border-b font-bold\" data-order=\"7458555\">\\n            <a class=\"transition-all duration-200 text-lime-600 hover:text-lime-500\" data-country=\"libya\" href=\"/world-population/libya-population/\">\\n             7,458,555\\n            </a>\\n           </td>\\n           <td class=\"px-2 border-e border-zinc-200 text-end py-1.5 border-b\" data-order=\"1759540\">\\n            1,759,540\\n           </td>\\n           <td class=\"px-2 border-e border-zinc-200 text-end py-1.5 border-b\" data-order=\"4.238923241301704\">\\n            4\\n           </td>\\n          </tr>\\n          <tr>\\n           <td class=\"px-2 border-e border-zinc-200 py-1.5 border-b text-start\">\\n            99\\n           </td>\\n           <td class=\"px-2 border-e border-zinc-200 py-1.5 border-b font-bold text-start\">\\n            Liechtenstein\\n           </td>\\n           <td class=\"px-2 border-e border-zinc-200 text-end py-1.5 border-b font-bold\" data-order=\"40128\">\\n            <a class=\"transition-all duration-200 text-lime-600 hover:text-lime-500\" data-country=\"liechtenstein\" href=\"/world-population/liechtenstein-population/\">\\n             40,128\\n            </a>\\n           </td>\\n           <td class=\"px-2 border-e border-zinc-200 text-end py-1.5 border-b\" data-order=\"160\">\\n            160\\n           </td>\\n           <td class=\"px-2 border-e border-zinc-200 text-end py-1.5 border-b\" data-order=\"250.8\">\\n            251\\n           </td>\\n          </tr>\\n          <tr>\\n           <td class=\"px-2 border-e border-zinc-200 py-1.5 border-b text-start\">\\n            100\\n           </td>\\n           <td class=\"px-2 border-e border-zinc-200 py-1.5 border-b font-bold text-start\">\\n            Lithuania\\n           </td>\\n           <td class=\"px-2 border-e border-zinc-200 text-end py-1.5 border-b font-bold\" data-order=\"2830144\">\\n            <a class=\"transition-all duration-200 text-lime-600 hover:text-lime-500\" data-country=\"lithuania\" href=\"/world-population/lithuania-population/\">\\n             2,830,144\\n            </a>\\n           </td>\\n           <td class=\"px-2 border-e border-zinc-200 text-end py-1.5 border-b\" data-order=\"62674\">\\n            62,674\\n           </td>\\n           <td class=\"px-2 border-e border-zinc-200 text-end py-1.5 border-b\" data-order=\"45.15658805884418\">\\n            45\\n           </td>\\n          </tr>\\n          <tr>\\n           <td class=\"px-2 border-e border-zinc-200 py-1.5 border-b text-start\">\\n            101\\n           </td>\\n           <td class=\"px-2 border-e border-zinc-200 py-1.5 border-b font-bold text-start\">\\n            Luxembourg\\n           </td>\\n           <td class=\"px-2 border-e border-zinc-200 text-end py-1.5 border-b font-bold\" data-order=\"680453\">\\n            <a class=\"transition-all duration-200 text-lime-600 hover:text-lime-500\" data-country=\"luxembourg\" href=\"/world-population/luxembourg-population/\">\\n             680,453\\n            </a>\\n           </td>\\n           <td class=\"px-2 border-e border-zinc-200 text-end py-1.5 border-b\" data-order=\"2590\">\\n            2,590\\n           </td>\\n           <td class=\"px-2 border-e border-zinc-200 text-end py-1.5 border-b\" data-order=\"262.723166023166\">\\n            263\\n           </td>\\n          </tr>\\n          <tr>\\n           <td class=\"px-2 border-e border-zinc-200 py-1.5 border-b text-start\">\\n            102\\n           </td>\\n           <td class=\"px-2 border-e border-zinc-200 py-1.5 border-b font-bold text-start\">\\n            Madagascar\\n           </td>\\n           <td class=\"px-2 border-e border-zinc-200 text-end py-1.5 border-b font-bold\" data-order=\"32740678\">\\n            <a class=\"transition-all duration-200 text-lime-600 hover:text-lime-500\" data-country=\"madagascar\" href=\"/world-population/madagascar-population/\">\\n             32,740,678\\n            </a>\\n           </td>\\n           <td class=\"px-2 border-e border-zinc-200 text-end py-1.5 border-b\" data-order=\"581795\">\\n            581,795\\n           </td>\\n           <td class=\"px-2 border-e border-zinc-200 text-end py-1.5 border-b\" data-order=\"56.27528253078834\">\\n            56\\n           </td>\\n          </tr>\\n          <tr>\\n           <td class=\"px-2 border-e border-zinc-200 py-1.5 border-b text-start\">\\n            103\\n           </td>\\n           <td class=\"px-2 border-e border-zinc-200 py-1.5 border-b font-bold text-start\">\\n            Malawi\\n           </td>\\n           <td class=\"px-2 border-e border-zinc-200 text-end py-1.5 border-b font-bold\" data-order=\"22216120\">\\n            <a class=\"transition-all duration-200 text-lime-600 hover:text-lime-500\" data-country=\"malawi\" href=\"/world-population/malawi-population/\">\\n             22,216,120\\n            </a>\\n           </td>\\n           <td class=\"px-2 border-e border-zinc-200 text-end py-1.5 border-b\" data-order=\"94280\">\\n            94,280\\n           </td>\\n           <td class=\"px-2 border-e border-zinc-200 text-end py-1.5 border-b\" data-order=\"235.63979635129402\">\\n            236\\n           </td>\\n          </tr>\\n          <tr>\\n           <td class=\"px-2 border-e border-zinc-200 py-1.5 border-b text-start\">\\n            104\\n           </td>\\n           <td class=\"px-2 border-e border-zinc-200 py-1.5 border-b font-bold text-start\">\\n            Malaysia\\n           </td>\\n           <td class=\"px-2 border-e border-zinc-200 text-end py-1.5 border-b font-bold\" data-order=\"35977838\">\\n            <a class=\"transition-all duration-200 text-lime-600 hover:text-lime-500\" data-country=\"malaysia\" href=\"/world-population/malaysia-population/\">\\n             35,977,838\\n            </a>\\n           </td>\\n           <td class=\"px-2 border-e border-zinc-200 text-end py-1.5 border-b\" data-order=\"328550\">\\n            328,550\\n           </td>\\n           <td class=\"px-2 border-e border-zinc-200 text-end py-1.5 border-b\" data-order=\"109.50490945061634\">\\n            110\\n           </td>\\n          </tr>\\n          <tr>\\n           <td class=\"px-2 border-e border-zinc-200 py-1.5 border-b text-start\">\\n            105\\n           </td>\\n           <td class=\"px-2 border-e border-zinc-200 py-1.5 border-b font-bold text-start\">\\n            Maldives\\n           </td>\\n           <td class=\"px-2 border-e border-zinc-200 text-end py-1.5 border-b font-bold\" data-order=\"529676\">\\n            <a class=\"transition-all duration-200 text-lime-600 hover:text-lime-500\" data-country=\"maldives\" href=\"/world-population/maldives-population/\">\\n             529,676\\n            </a>\\n           </td>\\n           <td class=\"px-2 border-e border-zinc-200 text-end py-1.5 border-b\" data-order=\"300\">\\n            300\\n           </td>\\n           <td class=\"px-2 border-e border-zinc-200 text-end py-1.5 border-b\" data-order=\"1765.5866666666666\">\\n            1,766\\n           </td>\\n          </tr>\\n          <tr>\\n           <td class=\"px-2 border-e border-zinc-200 py-1.5 border-b text-start\">\\n            106\\n           </td>\\n           <td class=\"px-2 border-e border-zinc-200 py-1.5 border-b font-bold text-start\">\\n            Mali\\n           </td>\\n           <td class=\"px-2 border-e border-zinc-200 text-end py-1.5 border-b font-bold\" data-order=\"25198821\">\\n            <a class=\"transition-all duration-200 text-lime-600 hover:text-lime-500\" data-country=\"mali\" href=\"/world-population/mali-population/\">\\n             25,198,821\\n            </a>\\n           </td>\\n           <td class=\"px-2 border-e border-zinc-200 text-end py-1.5 border-b\" data-order=\"1220190\">\\n            1,220,190\\n           </td>\\n           <td class=\"px-2 border-e border-zinc-200 text-end py-1.5 border-b\" data-order=\"20.651555085683377\">\\n            21\\n           </td>\\n          </tr>\\n          <tr>\\n           <td class=\"px-2 border-e border-zinc-200 py-1.5 border-b text-start\">\\n            107\\n           </td>\\n           <td class=\"px-2 border-e border-zinc-200 py-1.5 border-b font-bold text-start\">\\n            Malta\\n           </td>\\n           <td class=\"px-2 border-e border-zinc-200 text-end py-1.5 border-b font-bold\" data-order=\"545405\">\\n            <a class=\"transition-all duration-200 text-lime-600 hover:text-lime-500\" data-country=\"malta\" href=\"/world-population/malta-population/\">\\n             545,405\\n            </a>\\n           </td>\\n           <td class=\"px-2 border-e border-zinc-200 text-end py-1.5 border-b\" data-order=\"320\">\\n            320\\n           </td>\\n           <td class=\"px-2 border-e border-zinc-200 text-end py-1.5 border-b\" data-order=\"1704.390625\">\\n            1,704\\n           </td>\\n          </tr>\\n          <tr>\\n           <td class=\"px-2 border-e border-zinc-200 py-1.5 border-b text-start\">\\n            108\\n           </td>\\n           <td class=\"px-2 border-e border-zinc-200 py-1.5 border-b font-bold text-start\">\\n            Marshall Islands\\n           </td>\\n           <td class=\"px-2 border-e border-zinc-200 text-end py-1.5 border-b font-bold\" data-order=\"36282\">\\n            <a class=\"transition-all duration-200 text-lime-600 hover:text-lime-500\" data-country=\"marshall-islands\" href=\"/world-population/marshall-islands-population/\">\\n             36,282\\n            </a>\\n           </td>\\n           <td class=\"px-2 border-e border-zinc-200 text-end py-1.5 border-b\" data-order=\"180\">\\n            180\\n           </td>\\n           <td class=\"px-2 border-e border-zinc-200 text-end py-1.5 border-b\" data-order=\"201.56666666666666\">\\n            202\\n           </td>\\n          </tr>\\n          <tr>\\n           <td class=\"px-2 border-e border-zinc-200 py-1.5 border-b text-start\">\\n            109\\n           </td>\\n           <td class=\"px-2 border-e border-zinc-200 py-1.5 border-b font-bold text-start\">\\n            Mauritania\\n           </td>\\n           <td class=\"px-2 border-e border-zinc-200 text-end py-1.5 border-b font-bold\" data-order=\"5315065\">\\n            <a class=\"transition-all duration-200 text-lime-600 hover:text-lime-500\" data-country=\"mauritania\" href=\"/world-population/mauritania-population/\">\\n             5,315,065\\n            </a>\\n           </td>\\n           <td class=\"px-2 border-e border-zinc-200 text-end py-1.5 border-b\" data-order=\"1030700\">\\n            1,030,700\\n           </td>\\n           <td class=\"px-2 border-e border-zinc-200 text-end py-1.5 border-b\" data-order=\"5.156752692345008\">\\n            5\\n           </td>\\n          </tr>\\n          <tr>\\n           <td class=\"px-2 border-e border-zinc-200 py-1.5 border-b text-start\">\\n            110\\n           </td>\\n           <td class=\"px-2 border-e border-zinc-200 py-1.5 border-b font-bold text-start\">\\n            Mauritius\\n           </td>\\n           <td class=\"px-2 border-e border-zinc-200 text-end py-1.5 border-b font-bold\" data-order=\"1268280\">\\n            <a class=\"transition-all duration-200 text-lime-600 hover:text-lime-500\" data-country=\"mauritius\" href=\"/world-population/mauritius-population/\">\\n             1,268,280\\n            </a>\\n           </td>\\n           <td class=\"px-2 border-e border-zinc-200 text-end py-1.5 border-b\" data-order=\"2030\">\\n            2,030\\n           </td>\\n           <td class=\"px-2 border-e border-zinc-200 text-end py-1.5 border-b\" data-order=\"624.768472906404\">\\n            625\\n           </td>\\n          </tr>\\n          <tr>\\n           <td class=\"px-2 border-e border-zinc-200 py-1.5 border-b text-start\">\\n            111\\n           </td>\\n           <td class=\"px-2 border-e border-zinc-200 py-1.5 border-b font-bold text-start\">\\n            Mexico\\n           </td>\\n           <td class=\"px-2 border-e border-zinc-200 text-end py-1.5 border-b font-bold\" data-order=\"131946900\">\\n            <a class=\"transition-all duration-200 text-lime-600 hover:text-lime-500\" data-country=\"mexico\" href=\"/world-population/mexico-population/\">\\n             131,946,900\\n            </a>\\n           </td>\\n           <td class=\"px-2 border-e border-zinc-200 text-end py-1.5 border-b\" data-order=\"1943950\">\\n            1,943,950\\n           </td>\\n           <td class=\"px-2 border-e border-zinc-200 text-end py-1.5 border-b\" data-order=\"67.87566552637671\">\\n            68\\n           </td>\\n          </tr>\\n          <tr>\\n           <td class=\"px-2 border-e border-zinc-200 py-1.5 border-b text-start\">\\n            112\\n           </td>\\n           <td class=\"px-2 border-e border-zinc-200 py-1.5 border-b font-bold text-start\">\\n            Micronesia\\n           </td>\\n           <td class=\"px-2 border-e border-zinc-200 text-end py-1.5 border-b font-bold\" data-order=\"113683\">\\n            <a class=\"transition-all duration-200 text-lime-600 hover:text-lime-500\" data-country=\"micronesia\" href=\"/world-population/micronesia-population/\">\\n             113,683\\n            </a>\\n           </td>\\n           <td class=\"px-2 border-e border-zinc-200 text-end py-1.5 border-b\" data-order=\"700\">\\n            700\\n           </td>\\n           <td class=\"px-2 border-e border-zinc-200 text-end py-1.5 border-b\" data-order=\"162.40428571428572\">\\n            162\\n           </td>\\n          </tr>\\n          <tr>\\n           <td class=\"px-2 border-e border-zinc-200 py-1.5 border-b text-start\">\\n            113\\n           </td>\\n           <td class=\"px-2 border-e border-zinc-200 py-1.5 border-b font-bold text-start\">\\n            Moldova\\n           </td>\\n           <td class=\"px-2 border-e border-zinc-200 text-end py-1.5 border-b font-bold\" data-order=\"2996106\">\\n            <a class=\"transition-all duration-200 text-lime-600 hover:text-lime-500\" data-country=\"moldova\" href=\"/world-population/moldova-population/\">\\n             2,996,106\\n            </a>\\n           </td>\\n           <td class=\"px-2 border-e border-zinc-200 text-end py-1.5 border-b\" data-order=\"32850\">\\n            32,850\\n           </td>\\n           <td class=\"px-2 border-e border-zinc-200 text-end py-1.5 border-b\" data-order=\"91.20566210045662\">\\n            91\\n           </td>\\n          </tr>\\n          <tr>\\n           <td class=\"px-2 border-e border-zinc-200 py-1.5 border-b text-start\">\\n            114\\n           </td>\\n           <td class=\"px-2 border-e border-zinc-200 py-1.5 border-b font-bold text-start\">\\n            Monaco\\n           </td>\\n           <td class=\"px-2 border-e border-zinc-200 text-end py-1.5 border-b font-bold\" data-order=\"38341\">\\n            <a class=\"transition-all duration-200 text-lime-600 hover:text-lime-500\" data-country=\"monaco\" href=\"/world-population/monaco-population/\">\\n             38,341\\n            </a>\\n           </td>\\n           <td class=\"px-2 border-e border-zinc-200 text-end py-1.5 border-b\" data-order=\"1.49\">\\n            1\\n           </td>\\n           <td class=\"px-2 border-e border-zinc-200 text-end py-1.5 border-b\" data-order=\"25732.21476510067\">\\n            25,732\\n           </td>\\n          </tr>\\n          <tr>\\n           <td class=\"px-2 border-e border-zinc-200 py-1.5 border-b text-start\">\\n            115\\n           </td>\\n           <td class=\"px-2 border-e border-zinc-200 py-1.5 border-b font-bold text-start\">\\n            Mongolia\\n           </td>\\n           <td class=\"px-2 border-e border-zinc-200 text-end py-1.5 border-b font-bold\" data-order=\"3517100\">\\n            <a class=\"transition-all duration-200 text-lime-600 hover:text-lime-500\" data-country=\"mongolia\" href=\"/world-population/mongolia-population/\">\\n             3,517,100\\n            </a>\\n           </td>\\n           <td class=\"px-2 border-e border-zinc-200 text-end py-1.5 border-b\" data-order=\"1553560\">\\n            1,553,560\\n           </td>\\n           <td class=\"px-2 border-e border-zinc-200 text-end py-1.5 border-b\" data-order=\"2.263897113725894\">\\n            2\\n           </td>\\n          </tr>\\n          <tr>\\n           <td class=\"px-2 border-e border-zinc-200 py-1.5 border-b text-start\">\\n            116\\n           </td>\\n           <td class=\"px-2 border-e border-zinc-200 py-1.5 border-b font-bold text-start\">\\n            Montenegro\\n           </td>\\n           <td class=\"px-2 border-e border-zinc-200 text-end py-1.5 border-b font-bold\" data-order=\"632729\">\\n            <a class=\"transition-all duration-200 text-lime-600 hover:text-lime-500\" data-country=\"montenegro\" href=\"/world-population/montenegro-population/\">\\n             632,729\\n            </a>\\n           </td>\\n           <td class=\"px-2 border-e border-zinc-200 text-end py-1.5 border-b\" data-order=\"13450\">\\n            13,450\\n           </td>\\n           <td class=\"px-2 border-e border-zinc-200 text-end py-1.5 border-b\" data-order=\"47.04304832713755\">\\n            47\\n           </td>\\n          </tr>\\n          <tr>\\n           <td class=\"px-2 border-e border-zinc-200 py-1.5 border-b text-start\">\\n            117\\n           </td>\\n           <td class=\"px-2 border-e border-zinc-200 py-1.5 border-b font-bold text-start\">\\n            Morocco\\n           </td>\\n           <td class=\"px-2 border-e border-zinc-200 text-end py-1.5 border-b font-bold\" data-order=\"38430770\">\\n            <a class=\"transition-all duration-200 text-lime-600 hover:text-lime-500\" data-country=\"morocco\" href=\"/world-population/morocco-population/\">\\n             38,430,770\\n            </a>\\n           </td>\\n           <td class=\"px-2 border-e border-zinc-200 text-end py-1.5 border-b\" data-order=\"446300\">\\n            446,300\\n           </td>\\n           <td class=\"px-2 border-e border-zinc-200 text-end py-1.5 border-b\" data-order=\"86.10972440062739\">\\n            86\\n           </td>\\n          </tr>\\n          <tr>\\n           <td class=\"px-2 border-e border-zinc-200 py-1.5 border-b text-start\">\\n            118\\n           </td>\\n           <td class=\"px-2 border-e border-zinc-200 py-1.5 border-b font-bold text-start\">\\n            Mozambique\\n           </td>\\n           <td class=\"px-2 border-e border-zinc-200 text-end py-1.5 border-b font-bold\" data-order=\"35631653\">\\n            <a class=\"transition-all duration-200 text-lime-600 hover:text-lime-500\" data-country=\"mozambique\" href=\"/world-population/mozambique-population/\">\\n             35,631,653\\n            </a>\\n           </td>\\n           <td class=\"px-2 border-e border-zinc-200 text-end py-1.5 border-b\" data-order=\"786380\">\\n            786,380\\n           </td>\\n           <td class=\"px-2 border-e border-zinc-200 text-end py-1.5 border-b\" data-order=\"45.31098578295481\">\\n            45\\n           </td>\\n          </tr>\\n          <tr>\\n           <td class=\"px-2 border-e border-zinc-200 py-1.5 border-b text-start\">\\n            119\\n           </td>\\n           <td class=\"px-2 border-e border-zinc-200 py-1.5 border-b font-bold text-start\">\\n            Myanmar (formerly Burma)\\n           </td>\\n           <td class=\"px-2 border-e border-zinc-200 text-end py-1.5 border-b font-bold\" data-order=\"54850648\">\\n            <a class=\"transition-all duration-200 text-lime-600 hover:text-lime-500\" data-country=\"myanmar\" href=\"/world-population/myanmar-population/\">\\n             54,850,648\\n            </a>\\n           </td>\\n           <td class=\"px-2 border-e border-zinc-200 text-end py-1.5 border-b\" data-order=\"653290\">\\n            653,290\\n           </td>\\n           <td class=\"px-2 border-e border-zinc-200 text-end py-1.5 border-b\" data-order=\"83.96064228749866\">\\n            84\\n           </td>\\n          </tr>\\n          <tr>\\n           <td class=\"px-2 border-e border-zinc-200 py-1.5 border-b text-start\">\\n            120\\n           </td>\\n           <td class=\"px-2 border-e border-zinc-200 py-1.5 border-b font-bold text-start\">\\n            Namibia\\n           </td>\\n           <td class=\"px-2 border-e border-zinc-200 text-end py-1.5 border-b font-bold\" data-order=\"3092816\">\\n            <a class=\"transition-all duration-200 text-lime-600 hover:text-lime-500\" data-country=\"namibia\" href=\"/world-population/namibia-population/\">\\n             3,092,816\\n            </a>\\n           </td>\\n           <td class=\"px-2 border-e border-zinc-200 text-end py-1.5 border-b\" data-order=\"823290\">\\n            823,290\\n           </td>\\n           <td class=\"px-2 border-e border-zinc-200 text-end py-1.5 border-b\" data-order=\"3.7566543988145127\">\\n            4\\n           </td>\\n          </tr>\\n          <tr>\\n           <td class=\"px-2 border-e border-zinc-200 py-1.5 border-b text-start\">\\n            121\\n           </td>\\n           <td class=\"px-2 border-e border-zinc-200 py-1.5 border-b font-bold text-start\">\\n            Nauru\\n           </td>\\n           <td class=\"px-2 border-e border-zinc-200 text-end py-1.5 border-b font-bold\" data-order=\"12025\">\\n            <a class=\"transition-all duration-200 text-lime-600 hover:text-lime-500\" data-country=\"nauru\" href=\"/world-population/nauru-population/\">\\n             12,025\\n            </a>\\n           </td>\\n           <td class=\"px-2 border-e border-zinc-200 text-end py-1.5 border-b\" data-order=\"20\">\\n            20\\n           </td>\\n           <td class=\"px-2 border-e border-zinc-200 text-end py-1.5 border-b\" data-order=\"601.25\">\\n            601\\n           </td>\\n          </tr>\\n          <tr>\\n           <td class=\"px-2 border-e border-zinc-200 py-1.5 border-b text-start\">\\n            122\\n           </td>\\n           <td class=\"px-2 border-e border-zinc-200 py-1.5 border-b font-bold text-start\">\\n            Nepal\\n           </td>\\n           <td class=\"px-2 border-e border-zinc-200 text-end py-1.5 border-b font-bold\" data-order=\"29618118\">\\n            <a class=\"transition-all duration-200 text-lime-600 hover:text-lime-500\" data-country=\"nepal\" href=\"/world-population/nepal-population/\">\\n             29,618,118\\n            </a>\\n           </td>\\n           <td class=\"px-2 border-e border-zinc-200 text-end py-1.5 border-b\" data-order=\"143350\">\\n            143,350\\n           </td>\\n           <td class=\"px-2 border-e border-zinc-200 text-end py-1.5 border-b\" data-order=\"206.61400767352634\">\\n            207\\n           </td>\\n          </tr>\\n          <tr>\\n           <td class=\"px-2 border-e border-zinc-200 py-1.5 border-b text-start\">\\n            123\\n           </td>\\n           <td class=\"px-2 border-e border-zinc-200 py-1.5 border-b font-bold text-start\">\\n            Netherlands\\n           </td>\\n           <td class=\"px-2 border-e border-zinc-200 text-end py-1.5 border-b font-bold\" data-order=\"18346819\">\\n            <a class=\"transition-all duration-200 text-lime-600 hover:text-lime-500\" data-country=\"netherlands\" href=\"/world-population/netherlands-population/\">\\n             18,346,819\\n            </a>\\n           </td>\\n           <td class=\"px-2 border-e border-zinc-200 text-end py-1.5 border-b\" data-order=\"33720\">\\n            33,720\\n           </td>\\n           <td class=\"px-2 border-e border-zinc-200 text-end py-1.5 border-b\" data-order=\"544.0930901542112\">\\n            544\\n           </td>\\n          </tr>\\n          <tr>\\n           <td class=\"px-2 border-e border-zinc-200 py-1.5 border-b text-start\">\\n            124\\n           </td>\\n           <td class=\"px-2 border-e border-zinc-200 py-1.5 border-b font-bold text-start\">\\n            New Zealand\\n           </td>\\n           <td class=\"px-2 border-e border-zinc-200 text-end py-1.5 border-b font-bold\" data-order=\"5251899\">\\n            <a class=\"transition-all duration-200 text-lime-600 hover:text-lime-500\" data-country=\"new-zealand\" href=\"/world-population/new-zealand-population/\">\\n             5,251,899\\n            </a>\\n           </td>\\n           <td class=\"px-2 border-e border-zinc-200 text-end py-1.5 border-b\" data-order=\"263310\">\\n            263,310\\n           </td>\\n           <td class=\"px-2 border-e border-zinc-200 text-end py-1.5 border-b\" data-order=\"19.945687592571495\">\\n            20\\n           </td>\\n          </tr>\\n          <tr>\\n           <td class=\"px-2 border-e border-zinc-200 py-1.5 border-b text-start\">\\n            125\\n           </td>\\n           <td class=\"px-2 border-e border-zinc-200 py-1.5 border-b font-bold text-start\">\\n            Nicaragua\\n           </td>\\n           <td class=\"px-2 border-e border-zinc-200 text-end py-1.5 border-b font-bold\" data-order=\"7007502\">\\n            <a class=\"transition-all duration-200 text-lime-600 hover:text-lime-500\" data-country=\"nicaragua\" href=\"/world-population/nicaragua-population/\">\\n             7,007,502\\n            </a>\\n           </td>\\n           <td class=\"px-2 border-e border-zinc-200 text-end py-1.5 border-b\" data-order=\"120340\">\\n            120,340\\n           </td>\\n           <td class=\"px-2 border-e border-zinc-200 text-end py-1.5 border-b\" data-order=\"58.230862556091076\">\\n            58\\n           </td>\\n          </tr>\\n          <tr>\\n           <td class=\"px-2 border-e border-zinc-200 py-1.5 border-b text-start\">\\n            126\\n           </td>\\n           <td class=\"px-2 border-e border-zinc-200 py-1.5 border-b font-bold text-start\">\\n            Niger\\n           </td>\\n           <td class=\"px-2 border-e border-zinc-200 text-end py-1.5 border-b font-bold\" data-order=\"27917831\">\\n            <a class=\"transition-all duration-200 text-lime-600 hover:text-lime-500\" data-country=\"niger\" href=\"/world-population/niger-population/\">\\n             27,917,831\\n            </a>\\n           </td>\\n           <td class=\"px-2 border-e border-zinc-200 text-end py-1.5 border-b\" data-order=\"1266700\">\\n            1,266,700\\n           </td>\\n           <td class=\"px-2 border-e border-zinc-200 text-end py-1.5 border-b\" data-order=\"22.039812899660536\">\\n            22\\n           </td>\\n          </tr>\\n          <tr>\\n           <td class=\"px-2 border-e border-zinc-200 py-1.5 border-b text-start\">\\n            127\\n           </td>\\n           <td class=\"px-2 border-e border-zinc-200 py-1.5 border-b font-bold text-start\">\\n            Nigeria\\n           </td>\\n           <td class=\"px-2 border-e border-zinc-200 text-end py-1.5 border-b font-bold\" data-order=\"237527782\">\\n            <a class=\"transition-all duration-200 text-lime-600 hover:text-lime-500\" data-country=\"nigeria\" href=\"/world-population/nigeria-population/\">\\n             237,527,782\\n            </a>\\n           </td>\\n           <td class=\"px-2 border-e border-zinc-200 text-end py-1.5 border-b\" data-order=\"910770\">\\n            910,770\\n           </td>\\n           <td class=\"px-2 border-e border-zinc-200 text-end py-1.5 border-b\" data-order=\"260.79886469690484\">\\n            261\\n           </td>\\n          </tr>\\n          <tr>\\n           <td class=\"px-2 border-e border-zinc-200 py-1.5 border-b text-start\">\\n            128\\n           </td>\\n           <td class=\"px-2 border-e border-zinc-200 py-1.5 border-b font-bold text-start\">\\n            North Korea\\n           </td>\\n           <td class=\"px-2 border-e border-zinc-200 text-end py-1.5 border-b font-bold\" data-order=\"26571036\">\\n            <a class=\"transition-all duration-200 text-lime-600 hover:text-lime-500\" data-country=\"north-korea\" href=\"/world-population/north-korea-population/\">\\n             26,571,036\\n            </a>\\n           </td>\\n           <td class=\"px-2 border-e border-zinc-200 text-end py-1.5 border-b\" data-order=\"120410\">\\n            120,410\\n           </td>\\n           <td class=\"px-2 border-e border-zinc-200 text-end py-1.5 border-b\" data-order=\"220.67133958973508\">\\n            221\\n           </td>\\n          </tr>\\n          <tr>\\n           <td class=\"px-2 border-e border-zinc-200 py-1.5 border-b text-start\">\\n            129\\n           </td>\\n           <td class=\"px-2 border-e border-zinc-200 py-1.5 border-b font-bold text-start\">\\n            North Macedonia\\n           </td>\\n           <td class=\"px-2 border-e border-zinc-200 text-end py-1.5 border-b font-bold\" data-order=\"1813791\">\\n            <a class=\"transition-all duration-200 text-lime-600 hover:text-lime-500\" data-country=\"north-macedonia\" href=\"/world-population/north-macedonia-population/\">\\n             1,813,791\\n            </a>\\n           </td>\\n           <td class=\"px-2 border-e border-zinc-200 text-end py-1.5 border-b\" data-order=\"25220\">\\n            25,220\\n           </td>\\n           <td class=\"px-2 border-e border-zinc-200 text-end py-1.5 border-b\" data-order=\"71.91875495638382\">\\n            72\\n           </td>\\n          </tr>\\n          <tr>\\n           <td class=\"px-2 border-e border-zinc-200 py-1.5 border-b text-start\">\\n            130\\n           </td>\\n           <td class=\"px-2 border-e border-zinc-200 py-1.5 border-b font-bold text-start\">\\n            Norway\\n           </td>\\n           <td class=\"px-2 border-e border-zinc-200 text-end py-1.5 border-b font-bold\" data-order=\"5623071\">\\n            <a class=\"transition-all duration-200 text-lime-600 hover:text-lime-500\" data-country=\"norway\" href=\"/world-population/norway-population/\">\\n             5,623,071\\n            </a>\\n           </td>\\n           <td class=\"px-2 border-e border-zinc-200 text-end py-1.5 border-b\" data-order=\"365268\">\\n            365,268\\n           </td>\\n           <td class=\"px-2 border-e border-zinc-200 text-end py-1.5 border-b\" data-order=\"15.394370708630376\">\\n            15\\n           </td>\\n          </tr>\\n          <tr>\\n           <td class=\"px-2 border-e border-zinc-200 py-1.5 border-b text-start\">\\n            131\\n           </td>\\n           <td class=\"px-2 border-e border-zinc-200 py-1.5 border-b font-bold text-start\">\\n            Oman\\n           </td>\\n           <td class=\"px-2 border-e border-zinc-200 text-end py-1.5 border-b font-bold\" data-order=\"5494691\">\\n            <a class=\"transition-all duration-200 text-lime-600 hover:text-lime-500\" data-country=\"oman\" href=\"/world-population/oman-population/\">\\n             5,494,691\\n            </a>\\n           </td>\\n           <td class=\"px-2 border-e border-zinc-200 text-end py-1.5 border-b\" data-order=\"309500\">\\n            309,500\\n           </td>\\n           <td class=\"px-2 border-e border-zinc-200 text-end py-1.5 border-b\" data-order=\"17.753444264943457\">\\n            18\\n           </td>\\n          </tr>\\n          <tr>\\n           <td class=\"px-2 border-e border-zinc-200 py-1.5 border-b text-start\">\\n            132\\n           </td>\\n           <td class=\"px-2 border-e border-zinc-200 py-1.5 border-b font-bold text-start\">\\n            Pakistan\\n           </td>\\n           <td class=\"px-2 border-e border-zinc-200 text-end py-1.5 border-b font-bold\" data-order=\"255219554\">\\n            <a class=\"transition-all duration-200 text-lime-600 hover:text-lime-500\" data-country=\"pakistan\" href=\"/world-population/pakistan-population/\">\\n             255,219,554\\n            </a>\\n           </td>\\n           <td class=\"px-2 border-e border-zinc-200 text-end py-1.5 border-b\" data-order=\"770880\">\\n            770,880\\n           </td>\\n           <td class=\"px-2 border-e border-zinc-200 text-end py-1.5 border-b\" data-order=\"331.07559412619344\">\\n            331\\n           </td>\\n          </tr>\\n          <tr>\\n           <td class=\"px-2 border-e border-zinc-200 py-1.5 border-b text-start\">\\n            133\\n           </td>\\n           <td class=\"px-2 border-e border-zinc-200 py-1.5 border-b font-bold text-start\">\\n            Palau\\n           </td>\\n           <td class=\"px-2 border-e border-zinc-200 text-end py-1.5 border-b font-bold\" data-order=\"17663\">\\n            <a class=\"transition-all duration-200 text-lime-600 hover:text-lime-500\" data-country=\"palau\" href=\"/world-population/palau-population/\">\\n             17,663\\n            </a>\\n           </td>\\n           <td class=\"px-2 border-e border-zinc-200 text-end py-1.5 border-b\" data-order=\"460\">\\n            460\\n           </td>\\n           <td class=\"px-2 border-e border-zinc-200 text-end py-1.5 border-b\" data-order=\"38.39782608695652\">\\n            38\\n           </td>\\n          </tr>\\n          <tr>\\n           <td class=\"px-2 border-e border-zinc-200 py-1.5 border-b text-start\">\\n            134\\n           </td>\\n           <td class=\"px-2 border-e border-zinc-200 py-1.5 border-b font-bold text-start\">\\n            Palestine State\\n           </td>\\n           <td class=\"px-2 border-e border-zinc-200 text-end py-1.5 border-b font-bold\" data-order=\"5589623\">\\n            <a class=\"transition-all duration-200 text-lime-600 hover:text-lime-500\" data-country=\"state-of-palestine\" href=\"/world-population/state-of-palestine-population/\">\\n             5,589,623\\n            </a>\\n           </td>\\n           <td class=\"px-2 border-e border-zinc-200 text-end py-1.5 border-b\" data-order=\"6020\">\\n            6,020\\n           </td>\\n           <td class=\"px-2 border-e border-zinc-200 text-end py-1.5 border-b\" data-order=\"928.508803986711\">\\n            929\\n           </td>\\n          </tr>\\n          <tr>\\n           <td class=\"px-2 border-e border-zinc-200 py-1.5 border-b text-start\">\\n            135\\n           </td>\\n           <td class=\"px-2 border-e border-zinc-200 py-1.5 border-b font-bold text-start\">\\n            Panama\\n           </td>\\n           <td class=\"px-2 border-e border-zinc-200 text-end py-1.5 border-b font-bold\" data-order=\"4571189\">\\n            <a class=\"transition-all duration-200 text-lime-600 hover:text-lime-500\" data-country=\"panama\" href=\"/world-population/panama-population/\">\\n             4,571,189\\n            </a>\\n           </td>\\n           <td class=\"px-2 border-e border-zinc-200 text-end py-1.5 border-b\" data-order=\"74340\">\\n            74,340\\n           </td>\\n           <td class=\"px-2 border-e border-zinc-200 text-end py-1.5 border-b\" data-order=\"61.49030131826742\">\\n            61\\n           </td>\\n          </tr>\\n          <tr>\\n           <td class=\"px-2 border-e border-zinc-200 py-1.5 border-b text-start\">\\n            136\\n           </td>\\n           <td class=\"px-2 border-e border-zinc-200 py-1.5 border-b font-bold text-start\">\\n            Papua New Guinea\\n           </td>\\n           <td class=\"px-2 border-e border-zinc-200 text-end py-1.5 border-b font-bold\" data-order=\"10762817\">\\n            <a class=\"transition-all duration-200 text-lime-600 hover:text-lime-500\" data-country=\"papua-new-guinea\" href=\"/world-population/papua-new-guinea-population/\">\\n             10,762,817\\n            </a>\\n           </td>\\n           <td class=\"px-2 border-e border-zinc-200 text-end py-1.5 border-b\" data-order=\"452860\">\\n            452,860\\n           </td>\\n           <td class=\"px-2 border-e border-zinc-200 text-end py-1.5 border-b\" data-order=\"23.76632292540741\">\\n            24\\n           </td>\\n          </tr>\\n          <tr>\\n           <td class=\"px-2 border-e border-zinc-200 py-1.5 border-b text-start\">\\n            137\\n           </td>\\n           <td class=\"px-2 border-e border-zinc-200 py-1.5 border-b font-bold text-start\">\\n            Paraguay\\n           </td>\\n           <td class=\"px-2 border-e border-zinc-200 text-end py-1.5 border-b font-bold\" data-order=\"7013078\">\\n            <a class=\"transition-all duration-200 text-lime-600 hover:text-lime-500\" data-country=\"paraguay\" href=\"/world-population/paraguay-population/\">\\n             7,013,078\\n            </a>\\n           </td>\\n           <td class=\"px-2 border-e border-zinc-200 text-end py-1.5 border-b\" data-order=\"397300\">\\n            397,300\\n           </td>\\n           <td class=\"px-2 border-e border-zinc-200 text-end py-1.5 border-b\" data-order=\"17.651844953435692\">\\n            18\\n           </td>\\n          </tr>\\n          <tr>\\n           <td class=\"px-2 border-e border-zinc-200 py-1.5 border-b text-start\">\\n            138\\n           </td>\\n           <td class=\"px-2 border-e border-zinc-200 py-1.5 border-b font-bold text-start\">\\n            Peru\\n           </td>\\n           <td class=\"px-2 border-e border-zinc-200 text-end py-1.5 border-b font-bold\" data-order=\"34576665\">\\n            <a class=\"transition-all duration-200 text-lime-600 hover:text-lime-500\" data-country=\"peru\" href=\"/world-population/peru-population/\">\\n             34,576,665\\n            </a>\\n           </td>\\n           <td class=\"px-2 border-e border-zinc-200 text-end py-1.5 border-b\" data-order=\"1280000\">\\n            1,280,000\\n           </td>\\n           <td class=\"px-2 border-e border-zinc-200 text-end py-1.5 border-b\" data-order=\"27.01301953125\">\\n            27\\n           </td>\\n          </tr>\\n          <tr>\\n           <td class=\"px-2 border-e border-zinc-200 py-1.5 border-b text-start\">\\n            139\\n           </td>\\n           <td class=\"px-2 border-e border-zinc-200 py-1.5 border-b font-bold text-start\">\\n            Philippines\\n           </td>\\n           <td class=\"px-2 border-e border-zinc-200 text-end py-1.5 border-b font-bold\" data-order=\"116786962\">\\n            <a class=\"transition-all duration-200 text-lime-600 hover:text-lime-500\" data-country=\"philippines\" href=\"/world-population/philippines-population/\">\\n             116,786,962\\n            </a>\\n           </td>\\n           <td class=\"px-2 border-e border-zinc-200 text-end py-1.5 border-b\" data-order=\"298170\">\\n            298,170\\n           </td>\\n           <td class=\"px-2 border-e border-zinc-200 text-end py-1.5 border-b\" data-order=\"391.6791159405708\">\\n            392\\n           </td>\\n          </tr>\\n          <tr>\\n           <td class=\"px-2 border-e border-zinc-200 py-1.5 border-b text-start\">\\n            140\\n           </td>\\n           <td class=\"px-2 border-e border-zinc-200 py-1.5 border-b font-bold text-start\">\\n            Poland\\n           </td>\\n           <td class=\"px-2 border-e border-zinc-200 text-end py-1.5 border-b font-bold\" data-order=\"38140910\">\\n            <a class=\"transition-all duration-200 text-lime-600 hover:text-lime-500\" data-country=\"poland\" href=\"/world-population/poland-population/\">\\n             38,140,910\\n            </a>\\n           </td>\\n           <td class=\"px-2 border-e border-zinc-200 text-end py-1.5 border-b\" data-order=\"306230\">\\n            306,230\\n           </td>\\n           <td class=\"px-2 border-e border-zinc-200 text-end py-1.5 border-b\" data-order=\"124.5498808085426\">\\n            125\\n           </td>\\n          </tr>\\n          <tr>\\n           <td class=\"px-2 border-e border-zinc-200 py-1.5 border-b text-start\">\\n            141\\n           </td>\\n           <td class=\"px-2 border-e border-zinc-200 py-1.5 border-b font-bold text-start\">\\n            Portugal\\n           </td>\\n           <td class=\"px-2 border-e border-zinc-200 text-end py-1.5 border-b font-bold\" data-order=\"10411834\">\\n            <a class=\"transition-all duration-200 text-lime-600 hover:text-lime-500\" data-country=\"portugal\" href=\"/world-population/portugal-population/\">\\n             10,411,834\\n            </a>\\n           </td>\\n           <td class=\"px-2 border-e border-zinc-200 text-end py-1.5 border-b\" data-order=\"91590\">\\n            91,590\\n           </td>\\n           <td class=\"px-2 border-e border-zinc-200 text-end py-1.5 border-b\" data-order=\"113.67872038432144\">\\n            114\\n           </td>\\n          </tr>\\n          <tr>\\n           <td class=\"px-2 border-e border-zinc-200 py-1.5 border-b text-start\">\\n            142\\n           </td>\\n           <td class=\"px-2 border-e border-zinc-200 py-1.5 border-b font-bold text-start\">\\n            Qatar\\n           </td>\\n           <td class=\"px-2 border-e border-zinc-200 text-end py-1.5 border-b font-bold\" data-order=\"3115889\">\\n            <a class=\"transition-all duration-200 text-lime-600 hover:text-lime-500\" data-country=\"qatar\" href=\"/world-population/qatar-population/\">\\n             3,115,889\\n            </a>\\n           </td>\\n           <td class=\"px-2 border-e border-zinc-200 text-end py-1.5 border-b\" data-order=\"11610\">\\n            11,610\\n           </td>\\n           <td class=\"px-2 border-e border-zinc-200 text-end py-1.5 border-b\" data-order=\"268.37975882859604\">\\n            268\\n           </td>\\n          </tr>\\n          <tr>\\n           <td class=\"px-2 border-e border-zinc-200 py-1.5 border-b text-start\">\\n            143\\n           </td>\\n           <td class=\"px-2 border-e border-zinc-200 py-1.5 border-b font-bold text-start\">\\n            Romania\\n           </td>\\n           <td class=\"px-2 border-e border-zinc-200 text-end py-1.5 border-b font-bold\" data-order=\"18908650\">\\n            <a class=\"transition-all duration-200 text-lime-600 hover:text-lime-500\" data-country=\"romania\" href=\"/world-population/romania-population/\">\\n             18,908,650\\n            </a>\\n           </td>\\n           <td class=\"px-2 border-e border-zinc-200 text-end py-1.5 border-b\" data-order=\"230170\">\\n            230,170\\n           </td>\\n           <td class=\"px-2 border-e border-zinc-200 text-end py-1.5 border-b\" data-order=\"82.15080158143981\">\\n            82\\n           </td>\\n          </tr>\\n          <tr>\\n           <td class=\"px-2 border-e border-zinc-200 py-1.5 border-b text-start\">\\n            144\\n           </td>\\n           <td class=\"px-2 border-e border-zinc-200 py-1.5 border-b font-bold text-start\">\\n            Russia\\n           </td>\\n           <td class=\"px-2 border-e border-zinc-200 text-end py-1.5 border-b font-bold\" data-order=\"143997393\">\\n            <a class=\"transition-all duration-200 text-lime-600 hover:text-lime-500\" data-country=\"russia\" href=\"/world-population/russia-population/\">\\n             143,997,393\\n            </a>\\n           </td>\\n           <td class=\"px-2 border-e border-zinc-200 text-end py-1.5 border-b\" data-order=\"16376870\">\\n            16,376,870\\n           </td>\\n           <td class=\"px-2 border-e border-zinc-200 text-end py-1.5 border-b\" data-order=\"8.792729807344138\">\\n            9\\n           </td>\\n          </tr>\\n          <tr>\\n           <td class=\"px-2 border-e border-zinc-200 py-1.5 border-b text-start\">\\n            145\\n           </td>\\n           <td class=\"px-2 border-e border-zinc-200 py-1.5 border-b font-bold text-start\">\\n            Rwanda\\n           </td>\\n           <td class=\"px-2 border-e border-zinc-200 text-end py-1.5 border-b font-bold\" data-order=\"14569341\">\\n            <a class=\"transition-all duration-200 text-lime-600 hover:text-lime-500\" data-country=\"rwanda\" href=\"/world-population/rwanda-population/\">\\n             14,569,341\\n            </a>\\n           </td>\\n           <td class=\"px-2 border-e border-zinc-200 text-end py-1.5 border-b\" data-order=\"24670\">\\n            24,670\\n           </td>\\n           <td class=\"px-2 border-e border-zinc-200 text-end py-1.5 border-b\" data-order=\"590.5691528171868\">\\n            591\\n           </td>\\n          </tr>\\n          <tr>\\n           <td class=\"px-2 border-e border-zinc-200 py-1.5 border-b text-start\">\\n            146\\n           </td>\\n           <td class=\"px-2 border-e border-zinc-200 py-1.5 border-b font-bold text-start\">\\n            Saint Kitts and Nevis\\n           </td>\\n           <td class=\"px-2 border-e border-zinc-200 text-end py-1.5 border-b font-bold\" data-order=\"46922\">\\n            <a class=\"transition-all duration-200 text-lime-600 hover:text-lime-500\" data-country=\"saint-kitts-and-nevis\" href=\"/world-population/saint-kitts-and-nevis-population/\">\\n             46,922\\n            </a>\\n           </td>\\n           <td class=\"px-2 border-e border-zinc-200 text-end py-1.5 border-b\" data-order=\"260\">\\n            260\\n           </td>\\n           <td class=\"px-2 border-e border-zinc-200 text-end py-1.5 border-b\" data-order=\"180.46923076923076\">\\n            180\\n           </td>\\n          </tr>\\n          <tr>\\n           <td class=\"px-2 border-e border-zinc-200 py-1.5 border-b text-start\">\\n            147\\n           </td>\\n           <td class=\"px-2 border-e border-zinc-200 py-1.5 border-b font-bold text-start\">\\n            Saint Lucia\\n           </td>\\n           <td class=\"px-2 border-e border-zinc-200 text-end py-1.5 border-b font-bold\" data-order=\"180149\">\\n            <a class=\"transition-all duration-200 text-lime-600 hover:text-lime-500\" data-country=\"saint-lucia\" href=\"/world-population/saint-lucia-population/\">\\n             180,149\\n            </a>\\n           </td>\\n           <td class=\"px-2 border-e border-zinc-200 text-end py-1.5 border-b\" data-order=\"610\">\\n            610\\n           </td>\\n           <td class=\"px-2 border-e border-zinc-200 text-end py-1.5 border-b\" data-order=\"295.3262295081967\">\\n            295\\n           </td>\\n          </tr>\\n          <tr>\\n           <td class=\"px-2 border-e border-zinc-200 py-1.5 border-b text-start\">\\n            148\\n           </td>\\n           <td class=\"px-2 border-e border-zinc-200 py-1.5 border-b font-bold text-start\">\\n            Saint Vincent and the Grenadines\\n           </td>\\n           <td class=\"px-2 border-e border-zinc-200 text-end py-1.5 border-b font-bold\" data-order=\"99924\">\\n            <a class=\"transition-all duration-200 text-lime-600 hover:text-lime-500\" data-country=\"saint-vincent-and-the-grenadines\" href=\"/world-population/saint-vincent-and-the-grenadines-population/\">\\n             99,924\\n            </a>\\n           </td>\\n           <td class=\"px-2 border-e border-zinc-200 text-end py-1.5 border-b\" data-order=\"390\">\\n            390\\n           </td>\\n           <td class=\"px-2 border-e border-zinc-200 text-end py-1.5 border-b\" data-order=\"256.2153846153846\">\\n            256\\n           </td>\\n          </tr>\\n          <tr>\\n           <td class=\"px-2 border-e border-zinc-200 py-1.5 border-b text-start\">\\n            149\\n           </td>\\n           <td class=\"px-2 border-e border-zinc-200 py-1.5 border-b font-bold text-start\">\\n            Samoa\\n           </td>\\n           <td class=\"px-2 border-e border-zinc-200 text-end py-1.5 border-b font-bold\" data-order=\"219306\">\\n            <a class=\"transition-all duration-200 text-lime-600 hover:text-lime-500\" data-country=\"samoa\" href=\"/world-population/samoa-population/\">\\n             219,306\\n            </a>\\n           </td>\\n           <td class=\"px-2 border-e border-zinc-200 text-end py-1.5 border-b\" data-order=\"2830\">\\n            2,830\\n           </td>\\n           <td class=\"px-2 border-e border-zinc-200 text-end py-1.5 border-b\" data-order=\"77.49328621908127\">\\n            77\\n           </td>\\n          </tr>\\n          <tr>\\n           <td class=\"px-2 border-e border-zinc-200 py-1.5 border-b text-start\">\\n            150\\n           </td>\\n           <td class=\"px-2 border-e border-zinc-200 py-1.5 border-b font-bold text-start\">\\n            San Marino\\n           </td>\\n           <td class=\"px-2 border-e border-zinc-200 text-end py-1.5 border-b font-bold\" data-order=\"33572\">\\n            <a class=\"transition-all duration-200 text-lime-600 hover:text-lime-500\" data-country=\"san-marino\" href=\"/world-population/san-marino-population/\">\\n             33,572\\n            </a>\\n           </td>\\n           <td class=\"px-2 border-e border-zinc-200 text-end py-1.5 border-b\" data-order=\"60\">\\n            60\\n           </td>\\n           <td class=\"px-2 border-e border-zinc-200 text-end py-1.5 border-b\" data-order=\"559.5333333333333\">\\n            560\\n           </td>\\n          </tr>\\n          <tr>\\n           <td class=\"px-2 border-e border-zinc-200 py-1.5 border-b text-start\">\\n            151\\n           </td>\\n           <td class=\"px-2 border-e border-zinc-200 py-1.5 border-b font-bold text-start\">\\n            Sao Tome and Principe\\n           </td>\\n           <td class=\"px-2 border-e border-zinc-200 text-end py-1.5 border-b font-bold\" data-order=\"240254\">\\n            <a class=\"transition-all duration-200 text-lime-600 hover:text-lime-500\" data-country=\"sao-tome-and-principe\" href=\"/world-population/sao-tome-and-principe-population/\">\\n             240,254\\n            </a>\\n           </td>\\n           <td class=\"px-2 border-e border-zinc-200 text-end py-1.5 border-b\" data-order=\"960\">\\n            960\\n           </td>\\n           <td class=\"px-2 border-e border-zinc-200 text-end py-1.5 border-b\" data-order=\"250.26458333333332\">\\n            250\\n           </td>\\n          </tr>\\n          <tr>\\n           <td class=\"px-2 border-e border-zinc-200 py-1.5 border-b text-start\">\\n            152\\n           </td>\\n           <td class=\"px-2 border-e border-zinc-200 py-1.5 border-b font-bold text-start\">\\n            Saudi Arabia\\n           </td>\\n           <td class=\"px-2 border-e border-zinc-200 text-end py-1.5 border-b font-bold\" data-order=\"34566328\">\\n            <a class=\"transition-all duration-200 text-lime-600 hover:text-lime-500\" data-country=\"saudi-arabia\" href=\"/world-population/saudi-arabia-population/\">\\n             34,566,328\\n            </a>\\n           </td>\\n           <td class=\"px-2 border-e border-zinc-200 text-end py-1.5 border-b\" data-order=\"2149690\">\\n            2,149,690\\n           </td>\\n           <td class=\"px-2 border-e border-zinc-200 text-end py-1.5 border-b\" data-order=\"16.079680326000492\">\\n            16\\n           </td>\\n          </tr>\\n          <tr>\\n           <td class=\"px-2 border-e border-zinc-200 py-1.5 border-b text-start\">\\n            153\\n           </td>\\n           <td class=\"px-2 border-e border-zinc-200 py-1.5 border-b font-bold text-start\">\\n            Senegal\\n           </td>\\n           <td class=\"px-2 border-e border-zinc-200 text-end py-1.5 border-b font-bold\" data-order=\"18931966\">\\n            <a class=\"transition-all duration-200 text-lime-600 hover:text-lime-500\" data-country=\"senegal\" href=\"/world-population/senegal-population/\">\\n             18,931,966\\n            </a>\\n           </td>\\n           <td class=\"px-2 border-e border-zinc-200 text-end py-1.5 border-b\" data-order=\"192530\">\\n            192,530\\n           </td>\\n           <td class=\"px-2 border-e border-zinc-200 text-end py-1.5 border-b\" data-order=\"98.33255077130836\">\\n            98\\n           </td>\\n          </tr>\\n          <tr>\\n           <td class=\"px-2 border-e border-zinc-200 py-1.5 border-b text-start\">\\n            154\\n           </td>\\n           <td class=\"px-2 border-e border-zinc-200 py-1.5 border-b font-bold text-start\">\\n            Serbia\\n           </td>\\n           <td class=\"px-2 border-e border-zinc-200 text-end py-1.5 border-b font-bold\" data-order=\"6689039\">\\n            <a class=\"transition-all duration-200 text-lime-600 hover:text-lime-500\" data-country=\"serbia\" href=\"/world-population/serbia-population/\">\\n             6,689,039\\n            </a>\\n           </td>\\n           <td class=\"px-2 border-e border-zinc-200 text-end py-1.5 border-b\" data-order=\"87460\">\\n            87,460\\n           </td>\\n           <td class=\"px-2 border-e border-zinc-200 text-end py-1.5 border-b\" data-order=\"76.48112279899382\">\\n            76\\n           </td>\\n          </tr>\\n          <tr>\\n           <td class=\"px-2 border-e border-zinc-200 py-1.5 border-b text-start\">\\n            155\\n           </td>\\n           <td class=\"px-2 border-e border-zinc-200 py-1.5 border-b font-bold text-start\">\\n            Seychelles\\n           </td>\\n           <td class=\"px-2 border-e border-zinc-200 text-end py-1.5 border-b font-bold\" data-order=\"132779\">\\n            <a class=\"transition-all duration-200 text-lime-600 hover:text-lime-500\" data-country=\"seychelles\" href=\"/world-population/seychelles-population/\">\\n             132,779\\n            </a>\\n           </td>\\n           <td class=\"px-2 border-e border-zinc-200 text-end py-1.5 border-b\" data-order=\"460\">\\n            460\\n           </td>\\n           <td class=\"px-2 border-e border-zinc-200 text-end py-1.5 border-b\" data-order=\"288.65\">\\n            289\\n           </td>\\n          </tr>\\n          <tr>\\n           <td class=\"px-2 border-e border-zinc-200 py-1.5 border-b text-start\">\\n            156\\n           </td>\\n           <td class=\"px-2 border-e border-zinc-200 py-1.5 border-b font-bold text-start\">\\n            Sierra Leone\\n           </td>\\n           <td class=\"px-2 border-e border-zinc-200 text-end py-1.5 border-b font-bold\" data-order=\"8819794\">\\n            <a class=\"transition-all duration-200 text-lime-600 hover:text-lime-500\" data-country=\"sierra-leone\" href=\"/world-population/sierra-leone-population/\">\\n             8,819,794\\n            </a>\\n           </td>\\n           <td class=\"px-2 border-e border-zinc-200 text-end py-1.5 border-b\" data-order=\"72180\">\\n            72,180\\n           </td>\\n           <td class=\"px-2 border-e border-zinc-200 text-end py-1.5 border-b\" data-order=\"122.19165973954004\">\\n            122\\n           </td>\\n          </tr>\\n          <tr>\\n           <td class=\"px-2 border-e border-zinc-200 py-1.5 border-b text-start\">\\n            157\\n           </td>\\n           <td class=\"px-2 border-e border-zinc-200 py-1.5 border-b font-bold text-start\">\\n            Singapore\\n           </td>\\n           <td class=\"px-2 border-e border-zinc-200 text-end py-1.5 border-b font-bold\" data-order=\"5870750\">\\n            <a class=\"transition-all duration-200 text-lime-600 hover:text-lime-500\" data-country=\"singapore\" href=\"/world-population/singapore-population/\">\\n             5,870,750\\n            </a>\\n           </td>\\n           <td class=\"px-2 border-e border-zinc-200 text-end py-1.5 border-b\" data-order=\"700\">\\n            700\\n           </td>\\n           <td class=\"px-2 border-e border-zinc-200 text-end py-1.5 border-b\" data-order=\"8386.785714285714\">\\n            8,387\\n           </td>\\n          </tr>\\n          <tr>\\n           <td class=\"px-2 border-e border-zinc-200 py-1.5 border-b text-start\">\\n            158\\n           </td>\\n           <td class=\"px-2 border-e border-zinc-200 py-1.5 border-b font-bold text-start\">\\n            Slovakia\\n           </td>\\n           <td class=\"px-2 border-e border-zinc-200 text-end py-1.5 border-b font-bold\" data-order=\"5474881\">\\n            <a class=\"transition-all duration-200 text-lime-600 hover:text-lime-500\" data-country=\"slovakia\" href=\"/world-population/slovakia-population/\">\\n             5,474,881\\n            </a>\\n           </td>\\n           <td class=\"px-2 border-e border-zinc-200 text-end py-1.5 border-b\" data-order=\"48088\">\\n            48,088\\n           </td>\\n           <td class=\"px-2 border-e border-zinc-200 text-end py-1.5 border-b\" data-order=\"113.85129346198636\">\\n            114\\n           </td>\\n          </tr>\\n          <tr>\\n           <td class=\"px-2 border-e border-zinc-200 py-1.5 border-b text-start\">\\n            159\\n           </td>\\n           <td class=\"px-2 border-e border-zinc-200 py-1.5 border-b font-bold text-start\">\\n            Slovenia\\n           </td>\\n           <td class=\"px-2 border-e border-zinc-200 text-end py-1.5 border-b font-bold\" data-order=\"2117072\">\\n            <a class=\"transition-all duration-200 text-lime-600 hover:text-lime-500\" data-country=\"slovenia\" href=\"/world-population/slovenia-population/\">\\n             2,117,072\\n            </a>\\n           </td>\\n           <td class=\"px-2 border-e border-zinc-200 text-end py-1.5 border-b\" data-order=\"20140\">\\n            20,140\\n           </td>\\n           <td class=\"px-2 border-e border-zinc-200 text-end py-1.5 border-b\" data-order=\"105.11777557100298\">\\n            105\\n           </td>\\n          </tr>\\n          <tr>\\n           <td class=\"px-2 border-e border-zinc-200 py-1.5 border-b text-start\">\\n            160\\n           </td>\\n           <td class=\"px-2 border-e border-zinc-200 py-1.5 border-b font-bold text-start\">\\n            Solomon Islands\\n           </td>\\n           <td class=\"px-2 border-e border-zinc-200 text-end py-1.5 border-b font-bold\" data-order=\"838645\">\\n            <a class=\"transition-all duration-200 text-lime-600 hover:text-lime-500\" data-country=\"solomon-islands\" href=\"/world-population/solomon-islands-population/\">\\n             838,645\\n            </a>\\n           </td>\\n           <td class=\"px-2 border-e border-zinc-200 text-end py-1.5 border-b\" data-order=\"27990\">\\n            27,990\\n           </td>\\n           <td class=\"px-2 border-e border-zinc-200 text-end py-1.5 border-b\" data-order=\"29.962307967131117\">\\n            30\\n           </td>\\n          </tr>\\n          <tr>\\n           <td class=\"px-2 border-e border-zinc-200 py-1.5 border-b text-start\">\\n            161\\n           </td>\\n           <td class=\"px-2 border-e border-zinc-200 py-1.5 border-b font-bold text-start\">\\n            Somalia\\n           </td>\\n           <td class=\"px-2 border-e border-zinc-200 text-end py-1.5 border-b font-bold\" data-order=\"19654739\">\\n            <a class=\"transition-all duration-200 text-lime-600 hover:text-lime-500\" data-country=\"somalia\" href=\"/world-population/somalia-population/\">\\n             19,654,739\\n            </a>\\n           </td>\\n           <td class=\"px-2 border-e border-zinc-200 text-end py-1.5 border-b\" data-order=\"627340\">\\n            627,340\\n           </td>\\n           <td class=\"px-2 border-e border-zinc-200 text-end py-1.5 border-b\" data-order=\"31.33028182484777\">\\n            31\\n           </td>\\n          </tr>\\n          <tr>\\n           <td class=\"px-2 border-e border-zinc-200 py-1.5 border-b text-start\">\\n            162\\n           </td>\\n           <td class=\"px-2 border-e border-zinc-200 py-1.5 border-b font-bold text-start\">\\n            South Africa\\n           </td>\\n           <td class=\"px-2 border-e border-zinc-200 text-end py-1.5 border-b font-bold\" data-order=\"64747319\">\\n            <a class=\"transition-all duration-200 text-lime-600 hover:text-lime-500\" data-country=\"south-africa\" href=\"/world-population/south-africa-population/\">\\n             64,747,319\\n            </a>\\n           </td>\\n           <td class=\"px-2 border-e border-zinc-200 text-end py-1.5 border-b\" data-order=\"1213090\">\\n            1,213,090\\n           </td>\\n           <td class=\"px-2 border-e border-zinc-200 text-end py-1.5 border-b\" data-order=\"53.373879102127624\">\\n            53\\n           </td>\\n          </tr>\\n          <tr>\\n           <td class=\"px-2 border-e border-zinc-200 py-1.5 border-b text-start\">\\n            163\\n           </td>\\n           <td class=\"px-2 border-e border-zinc-200 py-1.5 border-b font-bold text-start\">\\n            South Korea\\n           </td>\\n           <td class=\"px-2 border-e border-zinc-200 text-end py-1.5 border-b font-bold\" data-order=\"51667029\">\\n            <a class=\"transition-all duration-200 text-lime-600 hover:text-lime-500\" data-country=\"south-korea\" href=\"/world-population/south-korea-population/\">\\n             51,667,029\\n            </a>\\n           </td>\\n           <td class=\"px-2 border-e border-zinc-200 text-end py-1.5 border-b\" data-order=\"97230\">\\n            97,230\\n           </td>\\n           <td class=\"px-2 border-e border-zinc-200 text-end py-1.5 border-b\" data-order=\"531.389787102746\">\\n            531\\n           </td>\\n          </tr>\\n          <tr>\\n           <td class=\"px-2 border-e border-zinc-200 py-1.5 border-b text-start\">\\n            164\\n           </td>\\n           <td class=\"px-2 border-e border-zinc-200 py-1.5 border-b font-bold text-start\">\\n            South Sudan\\n           </td>\\n           <td class=\"px-2 border-e border-zinc-200 text-end py-1.5 border-b font-bold\" data-order=\"12188788\">\\n            <a class=\"transition-all duration-200 text-lime-600 hover:text-lime-500\" data-country=\"south-sudan\" href=\"/world-population/south-sudan-population/\">\\n             12,188,788\\n            </a>\\n           </td>\\n           <td class=\"px-2 border-e border-zinc-200 text-end py-1.5 border-b\" data-order=\"610952\">\\n            610,952\\n           </td>\\n           <td class=\"px-2 border-e border-zinc-200 text-end py-1.5 border-b\" data-order=\"19.950483835063967\">\\n            20\\n           </td>\\n          </tr>\\n          <tr>\\n           <td class=\"px-2 border-e border-zinc-200 py-1.5 border-b text-start\">\\n            165\\n           </td>\\n           <td class=\"px-2 border-e border-zinc-200 py-1.5 border-b font-bold text-start\">\\n            Spain\\n           </td>\\n           <td class=\"px-2 border-e border-zinc-200 text-end py-1.5 border-b font-bold\" data-order=\"47889958\">\\n            <a class=\"transition-all duration-200 text-lime-600 hover:text-lime-500\" data-country=\"spain\" href=\"/world-population/spain-population/\">\\n             47,889,958\\n            </a>\\n           </td>\\n           <td class=\"px-2 border-e border-zinc-200 text-end py-1.5 border-b\" data-order=\"498800\">\\n            498,800\\n           </td>\\n           <td class=\"px-2 border-e border-zinc-200 text-end py-1.5 border-b\" data-order=\"96.01034081796311\">\\n            96\\n           </td>\\n          </tr>\\n          <tr>\\n           <td class=\"px-2 border-e border-zinc-200 py-1.5 border-b text-start\">\\n            166\\n           </td>\\n           <td class=\"px-2 border-e border-zinc-200 py-1.5 border-b font-bold text-start\">\\n            Sri Lanka\\n           </td>\\n           <td class=\"px-2 border-e border-zinc-200 text-end py-1.5 border-b font-bold\" data-order=\"23229470\">\\n            <a class=\"transition-all duration-200 text-lime-600 hover:text-lime-500\" data-country=\"sri-lanka\" href=\"/world-population/sri-lanka-population/\">\\n             23,229,470\\n            </a>\\n           </td>\\n           <td class=\"px-2 border-e border-zinc-200 text-end py-1.5 border-b\" data-order=\"62710\">\\n            62,710\\n           </td>\\n           <td class=\"px-2 border-e border-zinc-200 text-end py-1.5 border-b\" data-order=\"370.42688566416837\">\\n            370\\n           </td>\\n          </tr>\\n          <tr>\\n           <td class=\"px-2 border-e border-zinc-200 py-1.5 border-b text-start\">\\n            167\\n           </td>\\n           <td class=\"px-2 border-e border-zinc-200 py-1.5 border-b font-bold text-start\">\\n            Sudan\\n           </td>\\n           <td class=\"px-2 border-e border-zinc-200 text-end py-1.5 border-b font-bold\" data-order=\"51662147\">\\n            <a class=\"transition-all duration-200 text-lime-600 hover:text-lime-500\" data-country=\"sudan\" href=\"/world-population/sudan-population/\">\\n             51,662,147\\n            </a>\\n           </td>\\n           <td class=\"px-2 border-e border-zinc-200 text-end py-1.5 border-b\" data-order=\"1765048\">\\n            1,765,048\\n           </td>\\n           <td class=\"px-2 border-e border-zinc-200 text-end py-1.5 border-b\" data-order=\"29.269542244743487\">\\n            29\\n           </td>\\n          </tr>\\n          <tr>\\n           <td class=\"px-2 border-e border-zinc-200 py-1.5 border-b text-start\">\\n            168\\n           </td>\\n           <td class=\"px-2 border-e border-zinc-200 py-1.5 border-b font-bold text-start\">\\n            Suriname\\n           </td>\\n           <td class=\"px-2 border-e border-zinc-200 text-end py-1.5 border-b font-bold\" data-order=\"639850\">\\n            <a class=\"transition-all duration-200 text-lime-600 hover:text-lime-500\" data-country=\"suriname\" href=\"/world-population/suriname-population/\">\\n             639,850\\n            </a>\\n           </td>\\n           <td class=\"px-2 border-e border-zinc-200 text-end py-1.5 border-b\" data-order=\"156000\">\\n            156,000\\n           </td>\\n           <td class=\"px-2 border-e border-zinc-200 text-end py-1.5 border-b\" data-order=\"4.101602564102564\">\\n            4\\n           </td>\\n          </tr>\\n          <tr>\\n           <td class=\"px-2 border-e border-zinc-200 py-1.5 border-b text-start\">\\n            169\\n           </td>\\n           <td class=\"px-2 border-e border-zinc-200 py-1.5 border-b font-bold text-start\">\\n            Sweden\\n           </td>\\n           <td class=\"px-2 border-e border-zinc-200 text-end py-1.5 border-b font-bold\" data-order=\"10656633\">\\n            <a class=\"transition-all duration-200 text-lime-600 hover:text-lime-500\" data-country=\"sweden\" href=\"/world-population/sweden-population/\">\\n             10,656,633\\n            </a>\\n           </td>\\n           <td class=\"px-2 border-e border-zinc-200 text-end py-1.5 border-b\" data-order=\"410340\">\\n            410,340\\n           </td>\\n           <td class=\"px-2 border-e border-zinc-200 text-end py-1.5 border-b\" data-order=\"25.97025149875713\">\\n            26\\n           </td>\\n          </tr>\\n          <tr>\\n           <td class=\"px-2 border-e border-zinc-200 py-1.5 border-b text-start\">\\n            170\\n           </td>\\n           <td class=\"px-2 border-e border-zinc-200 py-1.5 border-b font-bold text-start\">\\n            Switzerland\\n           </td>\\n           <td class=\"px-2 border-e border-zinc-200 text-end py-1.5 border-b font-bold\" data-order=\"8967407\">\\n            <a class=\"transition-all duration-200 text-lime-600 hover:text-lime-500\" data-country=\"switzerland\" href=\"/world-population/switzerland-population/\">\\n             8,967,407\\n            </a>\\n           </td>\\n           <td class=\"px-2 border-e border-zinc-200 text-end py-1.5 border-b\" data-order=\"39516\">\\n            39,516\\n           </td>\\n           <td class=\"px-2 border-e border-zinc-200 text-end py-1.5 border-b\" data-order=\"226.93104059115296\">\\n            227\\n           </td>\\n          </tr>\\n          <tr>\\n           <td class=\"px-2 border-e border-zinc-200 py-1.5 border-b text-start\">\\n            171\\n           </td>\\n           <td class=\"px-2 border-e border-zinc-200 py-1.5 border-b font-bold text-start\">\\n            Syria\\n           </td>\\n           <td class=\"px-2 border-e border-zinc-200 text-end py-1.5 border-b font-bold\" data-order=\"25620427\">\\n            <a class=\"transition-all duration-200 text-lime-600 hover:text-lime-500\" data-country=\"syria\" href=\"/world-population/syria-population/\">\\n             25,620,427\\n            </a>\\n           </td>\\n           <td class=\"px-2 border-e border-zinc-200 text-end py-1.5 border-b\" data-order=\"183630\">\\n            183,630\\n           </td>\\n           <td class=\"px-2 border-e border-zinc-200 text-end py-1.5 border-b\" data-order=\"139.52201165386919\">\\n            140\\n           </td>\\n          </tr>\\n          <tr>\\n           <td class=\"px-2 border-e border-zinc-200 py-1.5 border-b text-start\">\\n            172\\n           </td>\\n           <td class=\"px-2 border-e border-zinc-200 py-1.5 border-b font-bold text-start\">\\n            Tajikistan\\n           </td>\\n           <td class=\"px-2 border-e border-zinc-200 text-end py-1.5 border-b font-bold\" data-order=\"10786734\">\\n            <a class=\"transition-all duration-200 text-lime-600 hover:text-lime-500\" data-country=\"tajikistan\" href=\"/world-population/tajikistan-population/\">\\n             10,786,734\\n            </a>\\n           </td>\\n           <td class=\"px-2 border-e border-zinc-200 text-end py-1.5 border-b\" data-order=\"139960\">\\n            139,960\\n           </td>\\n           <td class=\"px-2 border-e border-zinc-200 text-end py-1.5 border-b\" data-order=\"77.07012003429551\">\\n            77\\n           </td>\\n          </tr>\\n          <tr>\\n           <td class=\"px-2 border-e border-zinc-200 py-1.5 border-b text-start\">\\n            173\\n           </td>\\n           <td class=\"px-2 border-e border-zinc-200 py-1.5 border-b font-bold text-start\">\\n            Tanzania\\n           </td>\\n           <td class=\"px-2 border-e border-zinc-200 text-end py-1.5 border-b font-bold\" data-order=\"70545865\">\\n            <a class=\"transition-all duration-200 text-lime-600 hover:text-lime-500\" data-country=\"tanzania\" href=\"/world-population/tanzania-population/\">\\n             70,545,865\\n            </a>\\n           </td>\\n           <td class=\"px-2 border-e border-zinc-200 text-end py-1.5 border-b\" data-order=\"885800\">\\n            885,800\\n           </td>\\n           <td class=\"px-2 border-e border-zinc-200 text-end py-1.5 border-b\" data-order=\"79.64085007902462\">\\n            80\\n           </td>\\n          </tr>\\n          <tr>\\n           <td class=\"px-2 border-e border-zinc-200 py-1.5 border-b text-start\">\\n            174\\n           </td>\\n           <td class=\"px-2 border-e border-zinc-200 py-1.5 border-b font-bold text-start\">\\n            Thailand\\n           </td>\\n           <td class=\"px-2 border-e border-zinc-200 text-end py-1.5 border-b font-bold\" data-order=\"71619863\">\\n            <a class=\"transition-all duration-200 text-lime-600 hover:text-lime-500\" data-country=\"thailand\" href=\"/world-population/thailand-population/\">\\n             71,619,863\\n            </a>\\n           </td>\\n           <td class=\"px-2 border-e border-zinc-200 text-end py-1.5 border-b\" data-order=\"510890\">\\n            510,890\\n           </td>\\n           <td class=\"px-2 border-e border-zinc-200 text-end py-1.5 border-b\" data-order=\"140.18646479672728\">\\n            140\\n           </td>\\n          </tr>\\n          <tr>\\n           <td class=\"px-2 border-e border-zinc-200 py-1.5 border-b text-start\">\\n            175\\n           </td>\\n           <td class=\"px-2 border-e border-zinc-200 py-1.5 border-b font-bold text-start\">\\n            Timor-Leste\\n           </td>\\n           <td class=\"px-2 border-e border-zinc-200 text-end py-1.5 border-b font-bold\" data-order=\"1418517\">\\n            <a class=\"transition-all duration-200 text-lime-600 hover:text-lime-500\" data-country=\"timor-leste\" href=\"/world-population/timor-leste-population/\">\\n             1,418,517\\n            </a>\\n           </td>\\n           <td class=\"px-2 border-e border-zinc-200 text-end py-1.5 border-b\" data-order=\"14870\">\\n            14,870\\n           </td>\\n           <td class=\"px-2 border-e border-zinc-200 text-end py-1.5 border-b\" data-order=\"95.39455279085406\">\\n            95\\n           </td>\\n          </tr>\\n          <tr>\\n           <td class=\"px-2 border-e border-zinc-200 py-1.5 border-b text-start\">\\n            176\\n           </td>\\n           <td class=\"px-2 border-e border-zinc-200 py-1.5 border-b font-bold text-start\">\\n            Togo\\n           </td>\\n           <td class=\"px-2 border-e border-zinc-200 text-end py-1.5 border-b font-bold\" data-order=\"9721608\">\\n            <a class=\"transition-all duration-200 text-lime-600 hover:text-lime-500\" data-country=\"togo\" href=\"/world-population/togo-population/\">\\n             9,721,608\\n            </a>\\n           </td>\\n           <td class=\"px-2 border-e border-zinc-200 text-end py-1.5 border-b\" data-order=\"54390\">\\n            54,390\\n           </td>\\n           <td class=\"px-2 border-e border-zinc-200 text-end py-1.5 border-b\" data-order=\"178.73888582460012\">\\n            179\\n           </td>\\n          </tr>\\n          <tr>\\n           <td class=\"px-2 border-e border-zinc-200 py-1.5 border-b text-start\">\\n            177\\n           </td>\\n           <td class=\"px-2 border-e border-zinc-200 py-1.5 border-b font-bold text-start\">\\n            Tonga\\n           </td>\\n           <td class=\"px-2 border-e border-zinc-200 text-end py-1.5 border-b font-bold\" data-order=\"103742\">\\n            <a class=\"transition-all duration-200 text-lime-600 hover:text-lime-500\" data-country=\"tonga\" href=\"/world-population/tonga-population/\">\\n             103,742\\n            </a>\\n           </td>\\n           <td class=\"px-2 border-e border-zinc-200 text-end py-1.5 border-b\" data-order=\"720\">\\n            720\\n           </td>\\n           <td class=\"px-2 border-e border-zinc-200 text-end py-1.5 border-b\" data-order=\"144.0861111111111\">\\n            144\\n           </td>\\n          </tr>\\n          <tr>\\n           <td class=\"px-2 border-e border-zinc-200 py-1.5 border-b text-start\">\\n            178\\n           </td>\\n           <td class=\"px-2 border-e border-zinc-200 py-1.5 border-b font-bold text-start\">\\n            Trinidad and Tobago\\n           </td>\\n           <td class=\"px-2 border-e border-zinc-200 text-end py-1.5 border-b font-bold\" data-order=\"1511155\">\\n            <a class=\"transition-all duration-200 text-lime-600 hover:text-lime-500\" data-country=\"trinidad-and-tobago\" href=\"/world-population/trinidad-and-tobago-population/\">\\n             1,511,155\\n            </a>\\n           </td>\\n           <td class=\"px-2 border-e border-zinc-200 text-end py-1.5 border-b\" data-order=\"5130\">\\n            5,130\\n           </td>\\n           <td class=\"px-2 border-e border-zinc-200 text-end py-1.5 border-b\" data-order=\"294.57212475633526\">\\n            295\\n           </td>\\n          </tr>\\n          <tr>\\n           <td class=\"px-2 border-e border-zinc-200 py-1.5 border-b text-start\">\\n            179\\n           </td>\\n           <td class=\"px-2 border-e border-zinc-200 py-1.5 border-b font-bold text-start\">\\n            Tunisia\\n           </td>\\n           <td class=\"px-2 border-e border-zinc-200 text-end py-1.5 border-b font-bold\" data-order=\"12348573\">\\n            <a class=\"transition-all duration-200 text-lime-600 hover:text-lime-500\" data-country=\"tunisia\" href=\"/world-population/tunisia-population/\">\\n             12,348,573\\n            </a>\\n           </td>\\n           <td class=\"px-2 border-e border-zinc-200 text-end py-1.5 border-b\" data-order=\"155360\">\\n            155,360\\n           </td>\\n           <td class=\"px-2 border-e border-zinc-200 text-end py-1.5 border-b\" data-order=\"79.48360581874357\">\\n            79\\n           </td>\\n          </tr>\\n          <tr>\\n           <td class=\"px-2 border-e border-zinc-200 py-1.5 border-b text-start\">\\n            180\\n           </td>\\n           <td class=\"px-2 border-e border-zinc-200 py-1.5 border-b font-bold text-start\">\\n            Turkey\\n           </td>\\n           <td class=\"px-2 border-e border-zinc-200 text-end py-1.5 border-b font-bold\" data-order=\"87685426\">\\n            <a class=\"transition-all duration-200 text-lime-600 hover:text-lime-500\" data-country=\"turkey\" href=\"/world-population/turkey-population/\">\\n             87,685,426\\n            </a>\\n           </td>\\n           <td class=\"px-2 border-e border-zinc-200 text-end py-1.5 border-b\" data-order=\"769630\">\\n            769,630\\n           </td>\\n           <td class=\"px-2 border-e border-zinc-200 text-end py-1.5 border-b\" data-order=\"113.93192313189455\">\\n            114\\n           </td>\\n          </tr>\\n          <tr>\\n           <td class=\"px-2 border-e border-zinc-200 py-1.5 border-b text-start\">\\n            181\\n           </td>\\n           <td class=\"px-2 border-e border-zinc-200 py-1.5 border-b font-bold text-start\">\\n            Turkmenistan\\n           </td>\\n           <td class=\"px-2 border-e border-zinc-200 text-end py-1.5 border-b font-bold\" data-order=\"7618847\">\\n            <a class=\"transition-all duration-200 text-lime-600 hover:text-lime-500\" data-country=\"turkmenistan\" href=\"/world-population/turkmenistan-population/\">\\n             7,618,847\\n            </a>\\n           </td>\\n           <td class=\"px-2 border-e border-zinc-200 text-end py-1.5 border-b\" data-order=\"469930\">\\n            469,930\\n           </td>\\n           <td class=\"px-2 border-e border-zinc-200 text-end py-1.5 border-b\" data-order=\"16.2127274274892\">\\n            16\\n           </td>\\n          </tr>\\n          <tr>\\n           <td class=\"px-2 border-e border-zinc-200 py-1.5 border-b text-start\">\\n            182\\n           </td>\\n           <td class=\"px-2 border-e border-zinc-200 py-1.5 border-b font-bold text-start\">\\n            Tuvalu\\n           </td>\\n           <td class=\"px-2 border-e border-zinc-200 text-end py-1.5 border-b font-bold\" data-order=\"9492\">\\n            <a class=\"transition-all duration-200 text-lime-600 hover:text-lime-500\" data-country=\"tuvalu\" href=\"/world-population/tuvalu-population/\">\\n             9,492\\n            </a>\\n           </td>\\n           <td class=\"px-2 border-e border-zinc-200 text-end py-1.5 border-b\" data-order=\"30\">\\n            30\\n           </td>\\n           <td class=\"px-2 border-e border-zinc-200 text-end py-1.5 border-b\" data-order=\"316.4\">\\n            316\\n           </td>\\n          </tr>\\n          <tr>\\n           <td class=\"px-2 border-e border-zinc-200 py-1.5 border-b text-start\">\\n            183\\n           </td>\\n           <td class=\"px-2 border-e border-zinc-200 py-1.5 border-b font-bold text-start\">\\n            Uganda\\n           </td>\\n           <td class=\"px-2 border-e border-zinc-200 text-end py-1.5 border-b font-bold\" data-order=\"51384894\">\\n            <a class=\"transition-all duration-200 text-lime-600 hover:text-lime-500\" data-country=\"uganda\" href=\"/world-population/uganda-population/\">\\n             51,384,894\\n            </a>\\n           </td>\\n           <td class=\"px-2 border-e border-zinc-200 text-end py-1.5 border-b\" data-order=\"199810\">\\n            199,810\\n           </td>\\n           <td class=\"px-2 border-e border-zinc-200 text-end py-1.5 border-b\" data-order=\"257.16878034132424\">\\n            257\\n           </td>\\n          </tr>\\n          <tr>\\n           <td class=\"px-2 border-e border-zinc-200 py-1.5 border-b text-start\">\\n            184\\n           </td>\\n           <td class=\"px-2 border-e border-zinc-200 py-1.5 border-b font-bold text-start\">\\n            Ukraine\\n           </td>\\n           <td class=\"px-2 border-e border-zinc-200 text-end py-1.5 border-b font-bold\" data-order=\"38980376\">\\n            <a class=\"transition-all duration-200 text-lime-600 hover:text-lime-500\" data-country=\"ukraine\" href=\"/world-population/ukraine-population/\">\\n             38,980,376\\n            </a>\\n           </td>\\n           <td class=\"px-2 border-e border-zinc-200 text-end py-1.5 border-b\" data-order=\"579320\">\\n            579,320\\n           </td>\\n           <td class=\"px-2 border-e border-zinc-200 text-end py-1.5 border-b\" data-order=\"67.28643236898432\">\\n            67\\n           </td>\\n          </tr>\\n          <tr>\\n           <td class=\"px-2 border-e border-zinc-200 py-1.5 border-b text-start\">\\n            185\\n           </td>\\n           <td class=\"px-2 border-e border-zinc-200 py-1.5 border-b font-bold text-start\">\\n            United Arab Emirates\\n           </td>\\n           <td class=\"px-2 border-e border-zinc-200 text-end py-1.5 border-b font-bold\" data-order=\"11346000\">\\n            <a class=\"transition-all duration-200 text-lime-600 hover:text-lime-500\" data-country=\"united-arab-emirates\" href=\"/world-population/united-arab-emirates-population/\">\\n             11,346,000\\n            </a>\\n           </td>\\n           <td class=\"px-2 border-e border-zinc-200 text-end py-1.5 border-b\" data-order=\"83600\">\\n            83,600\\n           </td>\\n           <td class=\"px-2 border-e border-zinc-200 text-end py-1.5 border-b\" data-order=\"135.7177033492823\">\\n            136\\n           </td>\\n          </tr>\\n          <tr>\\n           <td class=\"px-2 border-e border-zinc-200 py-1.5 border-b text-start\">\\n            186\\n           </td>\\n           <td class=\"px-2 border-e border-zinc-200 py-1.5 border-b font-bold text-start\">\\n            United Kingdom\\n           </td>\\n           <td class=\"px-2 border-e border-zinc-200 text-end py-1.5 border-b font-bold\" data-order=\"69551332\">\\n            <a class=\"transition-all duration-200 text-lime-600 hover:text-lime-500\" data-country=\"uk\" href=\"/world-population/uk-population/\">\\n             69,551,332\\n            </a>\\n           </td>\\n           <td class=\"px-2 border-e border-zinc-200 text-end py-1.5 border-b\" data-order=\"241930\">\\n            241,930\\n           </td>\\n           <td class=\"px-2 border-e border-zinc-200 text-end py-1.5 border-b\" data-order=\"287.48535526805273\">\\n            287\\n           </td>\\n          </tr>\\n          <tr>\\n           <td class=\"px-2 border-e border-zinc-200 py-1.5 border-b text-start\">\\n            187\\n           </td>\\n           <td class=\"px-2 border-e border-zinc-200 py-1.5 border-b font-bold text-start\">\\n            United States of America\\n           </td>\\n           <td class=\"px-2 border-e border-zinc-200 text-end py-1.5 border-b font-bold\" data-order=\"347275807\">\\n            <a class=\"transition-all duration-200 text-lime-600 hover:text-lime-500\" data-country=\"us\" href=\"/world-population/us-population/\">\\n             347,275,807\\n            </a>\\n           </td>\\n           <td class=\"px-2 border-e border-zinc-200 text-end py-1.5 border-b\" data-order=\"9147420\">\\n            9,147,420\\n           </td>\\n           <td class=\"px-2 border-e border-zinc-200 text-end py-1.5 border-b\" data-order=\"37.96434480979336\">\\n            38\\n           </td>\\n          </tr>\\n          <tr>\\n           <td class=\"px-2 border-e border-zinc-200 py-1.5 border-b text-start\">\\n            188\\n           </td>\\n           <td class=\"px-2 border-e border-zinc-200 py-1.5 border-b font-bold text-start\">\\n            Uruguay\\n           </td>\\n           <td class=\"px-2 border-e border-zinc-200 text-end py-1.5 border-b font-bold\" data-order=\"3384688\">\\n            <a class=\"transition-all duration-200 text-lime-600 hover:text-lime-500\" data-country=\"uruguay\" href=\"/world-population/uruguay-population/\">\\n             3,384,688\\n            </a>\\n           </td>\\n           <td class=\"px-2 border-e border-zinc-200 text-end py-1.5 border-b\" data-order=\"175020\">\\n            175,020\\n           </td>\\n           <td class=\"px-2 border-e border-zinc-200 text-end py-1.5 border-b\" data-order=\"19.338864129813736\">\\n            19\\n           </td>\\n          </tr>\\n          <tr>\\n           <td class=\"px-2 border-e border-zinc-200 py-1.5 border-b text-start\">\\n            189\\n           </td>\\n           <td class=\"px-2 border-e border-zinc-200 py-1.5 border-b font-bold text-start\">\\n            Uzbekistan\\n           </td>\\n           <td class=\"px-2 border-e border-zinc-200 text-end py-1.5 border-b font-bold\" data-order=\"37053428\">\\n            <a class=\"transition-all duration-200 text-lime-600 hover:text-lime-500\" data-country=\"uzbekistan\" href=\"/world-population/uzbekistan-population/\">\\n             37,053,428\\n            </a>\\n           </td>\\n           <td class=\"px-2 border-e border-zinc-200 text-end py-1.5 border-b\" data-order=\"425400\">\\n            425,400\\n           </td>\\n           <td class=\"px-2 border-e border-zinc-200 text-end py-1.5 border-b\" data-order=\"87.10255759285378\">\\n            87\\n           </td>\\n          </tr>\\n          <tr>\\n           <td class=\"px-2 border-e border-zinc-200 py-1.5 border-b text-start\">\\n            190\\n           </td>\\n           <td class=\"px-2 border-e border-zinc-200 py-1.5 border-b font-bold text-start\">\\n            Vanuatu\\n           </td>\\n           <td class=\"px-2 border-e border-zinc-200 text-end py-1.5 border-b font-bold\" data-order=\"335169\">\\n            <a class=\"transition-all duration-200 text-lime-600 hover:text-lime-500\" data-country=\"vanuatu\" href=\"/world-population/vanuatu-population/\">\\n             335,169\\n            </a>\\n           </td>\\n           <td class=\"px-2 border-e border-zinc-200 text-end py-1.5 border-b\" data-order=\"12190\">\\n            12,190\\n           </td>\\n           <td class=\"px-2 border-e border-zinc-200 text-end py-1.5 border-b\" data-order=\"27.49540607054963\">\\n            27\\n           </td>\\n          </tr>\\n          <tr>\\n           <td class=\"px-2 border-e border-zinc-200 py-1.5 border-b text-start\">\\n            191\\n           </td>\\n           <td class=\"px-2 border-e border-zinc-200 py-1.5 border-b font-bold text-start\">\\n            Venezuela\\n           </td>\\n           <td class=\"px-2 border-e border-zinc-200 text-end py-1.5 border-b font-bold\" data-order=\"28516896\">\\n            <a class=\"transition-all duration-200 text-lime-600 hover:text-lime-500\" data-country=\"venezuela\" href=\"/world-population/venezuela-population/\">\\n             28,516,896\\n            </a>\\n           </td>\\n           <td class=\"px-2 border-e border-zinc-200 text-end py-1.5 border-b\" data-order=\"882050\">\\n            882,050\\n           </td>\\n           <td class=\"px-2 border-e border-zinc-200 text-end py-1.5 border-b\" data-order=\"32.33024885210589\">\\n            32\\n           </td>\\n          </tr>\\n          <tr>\\n           <td class=\"px-2 border-e border-zinc-200 py-1.5 border-b text-start\">\\n            192\\n           </td>\\n           <td class=\"px-2 border-e border-zinc-200 py-1.5 border-b font-bold text-start\">\\n            Vietnam\\n           </td>\\n           <td class=\"px-2 border-e border-zinc-200 text-end py-1.5 border-b font-bold\" data-order=\"101598527\">\\n            <a class=\"transition-all duration-200 text-lime-600 hover:text-lime-500\" data-country=\"vietnam\" href=\"/world-population/vietnam-population/\">\\n             101,598,527\\n            </a>\\n           </td>\\n           <td class=\"px-2 border-e border-zinc-200 text-end py-1.5 border-b\" data-order=\"310070\">\\n            310,070\\n           </td>\\n           <td class=\"px-2 border-e border-zinc-200 text-end py-1.5 border-b\" data-order=\"327.6631954074886\">\\n            328\\n           </td>\\n          </tr>\\n          <tr>\\n           <td class=\"px-2 border-e border-zinc-200 py-1.5 border-b text-start\">\\n            193\\n           </td>\\n           <td class=\"px-2 border-e border-zinc-200 py-1.5 border-b font-bold text-start\">\\n            Yemen\\n           </td>\\n           <td class=\"px-2 border-e border-zinc-200 text-end py-1.5 border-b font-bold\" data-order=\"41773878\">\\n            <a class=\"transition-all duration-200 text-lime-600 hover:text-lime-500\" data-country=\"yemen\" href=\"/world-population/yemen-population/\">\\n             41,773,878\\n            </a>\\n           </td>\\n           <td class=\"px-2 border-e border-zinc-200 text-end py-1.5 border-b\" data-order=\"527970\">\\n            527,970\\n           </td>\\n           <td class=\"px-2 border-e border-zinc-200 text-end py-1.5 border-b\" data-order=\"79.12168873231434\">\\n            79\\n           </td>\\n          </tr>\\n          <tr>\\n           <td class=\"px-2 border-e border-zinc-200 py-1.5 border-b text-start\">\\n            194\\n           </td>\\n           <td class=\"px-2 border-e border-zinc-200 py-1.5 border-b font-bold text-start\">\\n            Zambia\\n           </td>\\n           <td class=\"px-2 border-e border-zinc-200 text-end py-1.5 border-b font-bold\" data-order=\"21913874\">\\n            <a class=\"transition-all duration-200 text-lime-600 hover:text-lime-500\" data-country=\"zambia\" href=\"/world-population/zambia-population/\">\\n             21,913,874\\n            </a>\\n           </td>\\n           <td class=\"px-2 border-e border-zinc-200 text-end py-1.5 border-b\" data-order=\"743390\">\\n            743,390\\n           </td>\\n           <td class=\"px-2 border-e border-zinc-200 text-end py-1.5 border-b\" data-order=\"29.47830075734137\">\\n            29\\n           </td>\\n          </tr>\\n          <tr>\\n           <td class=\"px-2 border-e border-zinc-200 py-1.5 border-b text-start\">\\n            195\\n           </td>\\n           <td class=\"px-2 border-e border-zinc-200 py-1.5 border-b font-bold text-start\">\\n            Zimbabwe\\n           </td>\\n           <td class=\"px-2 border-e border-zinc-200 text-end py-1.5 border-b font-bold\" data-order=\"16950795\">\\n            <a class=\"transition-all duration-200 text-lime-600 hover:text-lime-500\" data-country=\"zimbabwe\" href=\"/world-population/zimbabwe-population/\">\\n             16,950,795\\n            </a>\\n           </td>\\n           <td class=\"px-2 border-e border-zinc-200 text-end py-1.5 border-b\" data-order=\"386850\">\\n            386,850\\n           </td>\\n           <td class=\"px-2 border-e border-zinc-200 text-end py-1.5 border-b\" data-order=\"43.817487398216365\">\\n            44\\n           </td>\\n          </tr>\\n         </tbody>\\n        </table>\\n       </div>\\n       <script src=\"/_astro/datatable.astro_astro_type_script_index_0_lang.B3OqSQGu.js\" type=\"module\">\\n       </script>\\n      </div>\\n     </div>\\n     <div class=\"col-span-1 hidden lg:block\">\\n      <!-- Tag ID: worldometers_siderail_right -->\\n      <div data-freestar-ad=\"__300x600\" id=\"worldometers_siderail_right\">\\n       <script data-cfasync=\"false\" type=\"text/javascript\">\\n        freestar.config.enabled_slots.push({\\n            placementName: \"worldometers_siderail_right\",\\n            slotId: \"worldometers_siderail_right\",\\n        });\\n       </script>\\n      </div>\\n     </div>\\n    </div>\\n   </div>\\n   <div class=\"shrink-0 mt-10\" data-astro-transition-persist=\"astro-zcla4v4q-2\">\\n    <!-- Tag ID: worldometers_bottom -->\\n    <div data-freestar-ad=\"__336x280 __336x280\" id=\"worldometers_bottom\">\\n     <script data-cfasync=\"false\" type=\"text/javascript\">\\n      freestar.config.enabled_slots.push({\\n            placementName: \"worldometers_bottom\",\\n            slotId: \"worldometers_bottom\",\\n        });\\n     </script>\\n    </div>\\n    <footer class=\"text-sm\">\\n     <nav class=\"pt-12 pb-8 border-y flex flex-col items-center justify-center gap-4\">\\n      <a href=\"/\">\\n       <img alt=\"Worldometer Logo\" src=\"/img/worldometers-logo.gif\" title=\"Worldometer\" width=\"140\"/>\\n      </a>\\n      <div class=\"flex gap-4 text-zinc-200\">\\n       <p>\\n        <a class=\"transition-all duration-200 text-lime-600 hover:text-lime-500\" href=\"/about/\">\\n         about\\n        </a>\\n        |\\n        <a class=\"transition-all duration-200 text-lime-600 hover:text-lime-500\" href=\"/faq/\">\\n         faq\\n        </a>\\n        |\\n        <a class=\"transition-all duration-200 text-lime-600 hover:text-lime-500\" href=\"/languages/\">\\n         languages\\n        </a>\\n        |\\n        <a class=\"transition-all duration-200 text-lime-600 hover:text-lime-500\" href=\"/contact/\">\\n         contact\\n        </a>\\n       </p>\\n      </div>\\n     </nav>\\n     <div class=\"bg-muted bg-zinc-100 text-zinc-300 py-4 text-center text-xs\">\\n      <p>\\n       © Copyright Worldometers.info - All rights reserved -\\n       <a class=\"transition-all duration-200 text-zinc-400 hover:text-zinc-800\" href=\"/disclaimer/\">\\n        Disclaimer &amp; Privacy Policy\\n       </a>\\n      </p>\\n     </div>\\n    </footer>\\n   </div>\\n   <style>\\n    astro-island,astro-slot,astro-static-slot{display:contents}\\n   </style>\\n   <script>\\n    (()=>{var e=async t=>{await(await t())()};(self.Astro||(self.Astro={})).load=e;window.dispatchEvent(new Event(\"astro:load\"));})();;(()=>{var A=Object.defineProperty;var g=(i,o,a)=>o in i?A(i,o,{enumerable:!0,configurable:!0,writable:!0,value:a}):i[o]=a;var d=(i,o,a)=>g(i,typeof o!=\"symbol\"?o+\"\":o,a);{let i={0:t=>m(t),1:t=>a(t),2:t=>new RegExp(t),3:t=>new Date(t),4:t=>new Map(a(t)),5:t=>new Set(a(t)),6:t=>BigInt(t),7:t=>new URL(t),8:t=>new Uint8Array(t),9:t=>new Uint16Array(t),10:t=>new Uint32Array(t),11:t=>1/0*t},o=t=>{let[l,e]=t;return l in i?i[l](e):void 0},a=t=>t.map(o),m=t=>typeof t!=\"object\"||t===null?t:Object.fromEntries(Object.entries(t).map(([l,e])=>[l,o(e)]));class y extends HTMLElement{constructor(){super(...arguments);d(this,\"Component\");d(this,\"hydrator\");d(this,\"hydrate\",async()=>{var b;if(!this.hydrator||!this.isConnected)return;let e=(b=this.parentElement)==null?void 0:b.closest(\"astro-island[ssr]\");if(e){e.addEventListener(\"astro:hydrate\",this.hydrate,{once:!0});return}let c=this.querySelectorAll(\"astro-slot\"),n={},h=this.querySelectorAll(\"template[data-astro-template]\");for(let r of h){let s=r.closest(this.tagName);s!=null&&s.isSameNode(this)&&(n[r.getAttribute(\"data-astro-template\")||\"default\"]=r.innerHTML,r.remove())}for(let r of c){let s=r.closest(this.tagName);s!=null&&s.isSameNode(this)&&(n[r.getAttribute(\"name\")||\"default\"]=r.innerHTML)}let p;try{p=this.hasAttribute(\"props\")?m(JSON.parse(this.getAttribute(\"props\"))):{}}catch(r){let s=this.getAttribute(\"component-url\")||\"<unknown>\",v=this.getAttribute(\"component-export\");throw v&&(s+=` (export ${v})`),console.error(`[hydrate] Error parsing props for component ${s}`,this.getAttribute(\"props\"),r),r}let u;await this.hydrator(this)(this.Component,p,n,{client:this.getAttribute(\"client\")}),this.removeAttribute(\"ssr\"),this.dispatchEvent(new CustomEvent(\"astro:hydrate\"))});d(this,\"unmount\",()=>{this.isConnected||this.dispatchEvent(new CustomEvent(\"astro:unmount\"))})}disconnectedCallback(){document.removeEventListener(\"astro:after-swap\",this.unmount),document.addEventListener(\"astro:after-swap\",this.unmount,{once:!0})}connectedCallback(){if(!this.hasAttribute(\"await-children\")||document.readyState===\"interactive\"||document.readyState===\"complete\")this.childrenConnectedCallback();else{let e=()=>{document.removeEventListener(\"DOMContentLoaded\",e),c.disconnect(),this.childrenConnectedCallback()},c=new MutationObserver(()=>{var n;((n=this.lastChild)==null?void 0:n.nodeType)===Node.COMMENT_NODE&&this.lastChild.nodeValue===\"astro:end\"&&(this.lastChild.remove(),e())});c.observe(this,{childList:!0}),document.addEventListener(\"DOMContentLoaded\",e)}}async childrenConnectedCallback(){let e=this.getAttribute(\"before-hydration-url\");e&&await import(e),this.start()}async start(){let e=JSON.parse(this.getAttribute(\"opts\")),c=this.getAttribute(\"client\");if(Astro[c]===void 0){window.addEventListener(`astro:${c}`,()=>this.start(),{once:!0});return}try{await Astro[c](async()=>{let n=this.getAttribute(\"renderer-url\"),[h,{default:p}]=await Promise.all([import(this.getAttribute(\"component-url\")),n?import(n):()=>()=>{}]),u=this.getAttribute(\"component-export\")||\"default\";if(!u.includes(\".\"))this.Component=h[u];else{this.Component=h;for(let f of u.split(\".\"))this.Component=this.Component[f]}return this.hydrator=p,this.hydrate},e,this)}catch(n){console.error(`[astro-island] Error hydrating ${this.getAttribute(\"component-url\")}`,n)}}attributeChangedCallback(){this.hydrate()}}d(y,\"observedAttributes\",[\"props\"]),customElements.get(\"astro-island\")||customElements.define(\"astro-island\",y)}})();\\n   </script>\\n   <astro-island await-children=\"\" client=\"load\" component-export=\"Toaster\" component-url=\"/_astro/sonner.B8KZifjK.js\" opts=\\'{\"name\":\"Toaster\",\"value\":true}\\' prefix=\"r0\" props=\\'{\"richColors\":[0,true],\"position\":[0,\"top-right\"]}\\' renderer-url=\"/_astro/client.BeiVTAsC.js\" ssr=\"\" uid=\"Z1AAX8B\">\\n    <section aria-atomic=\"false\" aria-label=\"Notifications alt+T\" aria-live=\"polite\" aria-relevant=\"additions text\" tabindex=\"-1\">\\n    </section>\\n    <!--astro:end-->\\n   </astro-island>\\n  </div>\\n </body>\\n</html>\\n'"
      ]
     },
     "execution_count": 9,
     "metadata": {},
     "output_type": "execute_result"
    }
   ],
   "source": [
    "\n",
    "soup = bs4.BeautifulSoup(response.text)\n",
    "soup.prettify()\n"
   ]
  },
  {
   "cell_type": "code",
   "execution_count": 10,
   "id": "4dd4ace0",
   "metadata": {},
   "outputs": [
    {
     "data": {
      "text/plain": [
       "<table class=\"datatable w-full border border-zinc-200\" data-locale=\"en\" data-options='{\"searchable\":false,\"sortable\":false,\"pageSize\":false}' data-sort-col=\"-1\" data-sort-dir=\"asc\"> <thead> <tr> <th class=\"px-2 border-e border-zinc-200 font-semibold border-b-3 py-1\" data-sortable=\"false\"> <span>#</span> </th><th class=\"px-2 border-e border-zinc-200 font-semibold border-b-3 py-1\" data-sortable=\"false\"> <span>Country</span> </th><th class=\"px-2 border-e border-zinc-200 font-semibold border-b-3 py-1\" data-sortable=\"false\"> <span>Population<br/>(2025)</span> </th><th class=\"px-2 border-e border-zinc-200 font-semibold border-b-3 py-1\" data-sortable=\"false\" data-type=\"number\"> <span>Land Area<br/>(Km²)</span> </th><th class=\"px-2 border-e border-zinc-200 font-semibold border-b-3 py-1\" data-sortable=\"false\" data-type=\"number\"> <span>Density<br/>(P/Km²)</span> </th> </tr> </thead> <tbody> <tr> <td class=\"px-2 border-e border-zinc-200 py-1.5 border-b text-start\"> 1 </td><td class=\"px-2 border-e border-zinc-200 py-1.5 border-b font-bold text-start\"> Afghanistan </td><td class=\"px-2 border-e border-zinc-200 text-end py-1.5 border-b font-bold\" data-order=\"43844111\"> <a class=\"transition-all duration-200 text-lime-600 hover:text-lime-500\" data-country=\"afghanistan\" href=\"/world-population/afghanistan-population/\">43,844,111</a> </td><td class=\"px-2 border-e border-zinc-200 text-end py-1.5 border-b\" data-order=\"652860\"> 652,860 </td><td class=\"px-2 border-e border-zinc-200 text-end py-1.5 border-b\" data-order=\"67.15698771558986\"> 67 </td> </tr><tr> <td class=\"px-2 border-e border-zinc-200 py-1.5 border-b text-start\"> 2 </td><td class=\"px-2 border-e border-zinc-200 py-1.5 border-b font-bold text-start\"> Albania </td><td class=\"px-2 border-e border-zinc-200 text-end py-1.5 border-b font-bold\" data-order=\"2771508\"> <a class=\"transition-all duration-200 text-lime-600 hover:text-lime-500\" data-country=\"albania\" href=\"/world-population/albania-population/\">2,771,508</a> </td><td class=\"px-2 border-e border-zinc-200 text-end py-1.5 border-b\" data-order=\"27400\"> 27,400 </td><td class=\"px-2 border-e border-zinc-200 text-end py-1.5 border-b\" data-order=\"101.14992700729927\"> 101 </td> </tr><tr> <td class=\"px-2 border-e border-zinc-200 py-1.5 border-b text-start\"> 3 </td><td class=\"px-2 border-e border-zinc-200 py-1.5 border-b font-bold text-start\"> Algeria </td><td class=\"px-2 border-e border-zinc-200 text-end py-1.5 border-b font-bold\" data-order=\"47435312\"> <a class=\"transition-all duration-200 text-lime-600 hover:text-lime-500\" data-country=\"algeria\" href=\"/world-population/algeria-population/\">47,435,312</a> </td><td class=\"px-2 border-e border-zinc-200 text-end py-1.5 border-b\" data-order=\"2381740\"> 2,381,740 </td><td class=\"px-2 border-e border-zinc-200 text-end py-1.5 border-b\" data-order=\"19.916242746899325\"> 20 </td> </tr><tr> <td class=\"px-2 border-e border-zinc-200 py-1.5 border-b text-start\"> 4 </td><td class=\"px-2 border-e border-zinc-200 py-1.5 border-b font-bold text-start\"> Andorra </td><td class=\"px-2 border-e border-zinc-200 text-end py-1.5 border-b font-bold\" data-order=\"82904\"> <a class=\"transition-all duration-200 text-lime-600 hover:text-lime-500\" data-country=\"andorra\" href=\"/world-population/andorra-population/\">82,904</a> </td><td class=\"px-2 border-e border-zinc-200 text-end py-1.5 border-b\" data-order=\"470\"> 470 </td><td class=\"px-2 border-e border-zinc-200 text-end py-1.5 border-b\" data-order=\"176.39148936170213\"> 176 </td> </tr><tr> <td class=\"px-2 border-e border-zinc-200 py-1.5 border-b text-start\"> 5 </td><td class=\"px-2 border-e border-zinc-200 py-1.5 border-b font-bold text-start\"> Angola </td><td class=\"px-2 border-e border-zinc-200 text-end py-1.5 border-b font-bold\" data-order=\"39040039\"> <a class=\"transition-all duration-200 text-lime-600 hover:text-lime-500\" data-country=\"angola\" href=\"/world-population/angola-population/\">39,040,039</a> </td><td class=\"px-2 border-e border-zinc-200 text-end py-1.5 border-b\" data-order=\"1246700\"> 1,246,700 </td><td class=\"px-2 border-e border-zinc-200 text-end py-1.5 border-b\" data-order=\"31.314702013315152\"> 31 </td> </tr><tr> <td class=\"px-2 border-e border-zinc-200 py-1.5 border-b text-start\"> 6 </td><td class=\"px-2 border-e border-zinc-200 py-1.5 border-b font-bold text-start\"> Antigua and Barbuda </td><td class=\"px-2 border-e border-zinc-200 text-end py-1.5 border-b font-bold\" data-order=\"94209\"> <a class=\"transition-all duration-200 text-lime-600 hover:text-lime-500\" data-country=\"antigua-and-barbuda\" href=\"/world-population/antigua-and-barbuda-population/\">94,209</a> </td><td class=\"px-2 border-e border-zinc-200 text-end py-1.5 border-b\" data-order=\"440\"> 440 </td><td class=\"px-2 border-e border-zinc-200 text-end py-1.5 border-b\" data-order=\"214.11136363636365\"> 214 </td> </tr><tr> <td class=\"px-2 border-e border-zinc-200 py-1.5 border-b text-start\"> 7 </td><td class=\"px-2 border-e border-zinc-200 py-1.5 border-b font-bold text-start\"> Argentina </td><td class=\"px-2 border-e border-zinc-200 text-end py-1.5 border-b font-bold\" data-order=\"45851378\"> <a class=\"transition-all duration-200 text-lime-600 hover:text-lime-500\" data-country=\"argentina\" href=\"/world-population/argentina-population/\">45,851,378</a> </td><td class=\"px-2 border-e border-zinc-200 text-end py-1.5 border-b\" data-order=\"2736690\"> 2,736,690 </td><td class=\"px-2 border-e border-zinc-200 text-end py-1.5 border-b\" data-order=\"16.75431926889783\"> 17 </td> </tr><tr> <td class=\"px-2 border-e border-zinc-200 py-1.5 border-b text-start\"> 8 </td><td class=\"px-2 border-e border-zinc-200 py-1.5 border-b font-bold text-start\"> Armenia </td><td class=\"px-2 border-e border-zinc-200 text-end py-1.5 border-b font-bold\" data-order=\"2952365\"> <a class=\"transition-all duration-200 text-lime-600 hover:text-lime-500\" data-country=\"armenia\" href=\"/world-population/armenia-population/\">2,952,365</a> </td><td class=\"px-2 border-e border-zinc-200 text-end py-1.5 border-b\" data-order=\"28470\"> 28,470 </td><td class=\"px-2 border-e border-zinc-200 text-end py-1.5 border-b\" data-order=\"103.70091324200914\"> 104 </td> </tr><tr> <td class=\"px-2 border-e border-zinc-200 py-1.5 border-b text-start\"> 9 </td><td class=\"px-2 border-e border-zinc-200 py-1.5 border-b font-bold text-start\"> Australia </td><td class=\"px-2 border-e border-zinc-200 text-end py-1.5 border-b font-bold\" data-order=\"26974026\"> <a class=\"transition-all duration-200 text-lime-600 hover:text-lime-500\" data-country=\"australia\" href=\"/world-population/australia-population/\">26,974,026</a> </td><td class=\"px-2 border-e border-zinc-200 text-end py-1.5 border-b\" data-order=\"7682300\"> 7,682,300 </td><td class=\"px-2 border-e border-zinc-200 text-end py-1.5 border-b\" data-order=\"3.5111914400635227\"> 4 </td> </tr><tr> <td class=\"px-2 border-e border-zinc-200 py-1.5 border-b text-start\"> 10 </td><td class=\"px-2 border-e border-zinc-200 py-1.5 border-b font-bold text-start\"> Austria </td><td class=\"px-2 border-e border-zinc-200 text-end py-1.5 border-b font-bold\" data-order=\"9113574\"> <a class=\"transition-all duration-200 text-lime-600 hover:text-lime-500\" data-country=\"austria\" href=\"/world-population/austria-population/\">9,113,574</a> </td><td class=\"px-2 border-e border-zinc-200 text-end py-1.5 border-b\" data-order=\"82409\"> 82,409 </td><td class=\"px-2 border-e border-zinc-200 text-end py-1.5 border-b\" data-order=\"110.58954725818782\"> 111 </td> </tr><tr> <td class=\"px-2 border-e border-zinc-200 py-1.5 border-b text-start\"> 11 </td><td class=\"px-2 border-e border-zinc-200 py-1.5 border-b font-bold text-start\"> Azerbaijan </td><td class=\"px-2 border-e border-zinc-200 text-end py-1.5 border-b font-bold\" data-order=\"10397713\"> <a class=\"transition-all duration-200 text-lime-600 hover:text-lime-500\" data-country=\"azerbaijan\" href=\"/world-population/azerbaijan-population/\">10,397,713</a> </td><td class=\"px-2 border-e border-zinc-200 text-end py-1.5 border-b\" data-order=\"82658\"> 82,658 </td><td class=\"px-2 border-e border-zinc-200 text-end py-1.5 border-b\" data-order=\"125.79197415858114\"> 126 </td> </tr><tr> <td class=\"px-2 border-e border-zinc-200 py-1.5 border-b text-start\"> 12 </td><td class=\"px-2 border-e border-zinc-200 py-1.5 border-b font-bold text-start\"> Bahamas </td><td class=\"px-2 border-e border-zinc-200 text-end py-1.5 border-b font-bold\" data-order=\"403033\"> <a class=\"transition-all duration-200 text-lime-600 hover:text-lime-500\" data-country=\"bahamas\" href=\"/world-population/bahamas-population/\">403,033</a> </td><td class=\"px-2 border-e border-zinc-200 text-end py-1.5 border-b\" data-order=\"10010\"> 10,010 </td><td class=\"px-2 border-e border-zinc-200 text-end py-1.5 border-b\" data-order=\"40.26303696303696\"> 40 </td> </tr><tr> <td class=\"px-2 border-e border-zinc-200 py-1.5 border-b text-start\"> 13 </td><td class=\"px-2 border-e border-zinc-200 py-1.5 border-b font-bold text-start\"> Bahrain </td><td class=\"px-2 border-e border-zinc-200 text-end py-1.5 border-b font-bold\" data-order=\"1643332\"> <a class=\"transition-all duration-200 text-lime-600 hover:text-lime-500\" data-country=\"bahrain\" href=\"/world-population/bahrain-population/\">1,643,332</a> </td><td class=\"px-2 border-e border-zinc-200 text-end py-1.5 border-b\" data-order=\"760\"> 760 </td><td class=\"px-2 border-e border-zinc-200 text-end py-1.5 border-b\" data-order=\"2162.278947368421\"> 2,162 </td> </tr><tr> <td class=\"px-2 border-e border-zinc-200 py-1.5 border-b text-start\"> 14 </td><td class=\"px-2 border-e border-zinc-200 py-1.5 border-b font-bold text-start\"> Bangladesh </td><td class=\"px-2 border-e border-zinc-200 text-end py-1.5 border-b font-bold\" data-order=\"175686899\"> <a class=\"transition-all duration-200 text-lime-600 hover:text-lime-500\" data-country=\"bangladesh\" href=\"/world-population/bangladesh-population/\">175,686,899</a> </td><td class=\"px-2 border-e border-zinc-200 text-end py-1.5 border-b\" data-order=\"130170\"> 130,170 </td><td class=\"px-2 border-e border-zinc-200 text-end py-1.5 border-b\" data-order=\"1349.6727279711147\"> 1,350 </td> </tr><tr> <td class=\"px-2 border-e border-zinc-200 py-1.5 border-b text-start\"> 15 </td><td class=\"px-2 border-e border-zinc-200 py-1.5 border-b font-bold text-start\"> Barbados </td><td class=\"px-2 border-e border-zinc-200 text-end py-1.5 border-b font-bold\" data-order=\"282623\"> <a class=\"transition-all duration-200 text-lime-600 hover:text-lime-500\" data-country=\"barbados\" href=\"/world-population/barbados-population/\">282,623</a> </td><td class=\"px-2 border-e border-zinc-200 text-end py-1.5 border-b\" data-order=\"430\"> 430 </td><td class=\"px-2 border-e border-zinc-200 text-end py-1.5 border-b\" data-order=\"657.2627906976744\"> 657 </td> </tr><tr> <td class=\"px-2 border-e border-zinc-200 py-1.5 border-b text-start\"> 16 </td><td class=\"px-2 border-e border-zinc-200 py-1.5 border-b font-bold text-start\"> Belarus </td><td class=\"px-2 border-e border-zinc-200 text-end py-1.5 border-b font-bold\" data-order=\"8997603\"> <a class=\"transition-all duration-200 text-lime-600 hover:text-lime-500\" data-country=\"belarus\" href=\"/world-population/belarus-population/\">8,997,603</a> </td><td class=\"px-2 border-e border-zinc-200 text-end py-1.5 border-b\" data-order=\"202910\"> 202,910 </td><td class=\"px-2 border-e border-zinc-200 text-end py-1.5 border-b\" data-order=\"44.342826869055244\"> 44 </td> </tr><tr> <td class=\"px-2 border-e border-zinc-200 py-1.5 border-b text-start\"> 17 </td><td class=\"px-2 border-e border-zinc-200 py-1.5 border-b font-bold text-start\"> Belgium </td><td class=\"px-2 border-e border-zinc-200 text-end py-1.5 border-b font-bold\" data-order=\"11758603\"> <a class=\"transition-all duration-200 text-lime-600 hover:text-lime-500\" data-country=\"belgium\" href=\"/world-population/belgium-population/\">11,758,603</a> </td><td class=\"px-2 border-e border-zinc-200 text-end py-1.5 border-b\" data-order=\"30280\"> 30,280 </td><td class=\"px-2 border-e border-zinc-200 text-end py-1.5 border-b\" data-order=\"388.32902906208716\"> 388 </td> </tr><tr> <td class=\"px-2 border-e border-zinc-200 py-1.5 border-b text-start\"> 18 </td><td class=\"px-2 border-e border-zinc-200 py-1.5 border-b font-bold text-start\"> Belize </td><td class=\"px-2 border-e border-zinc-200 text-end py-1.5 border-b font-bold\" data-order=\"422924\"> <a class=\"transition-all duration-200 text-lime-600 hover:text-lime-500\" data-country=\"belize\" href=\"/world-population/belize-population/\">422,924</a> </td><td class=\"px-2 border-e border-zinc-200 text-end py-1.5 border-b\" data-order=\"22810\"> 22,810 </td><td class=\"px-2 border-e border-zinc-200 text-end py-1.5 border-b\" data-order=\"18.54116615519509\"> 19 </td> </tr><tr> <td class=\"px-2 border-e border-zinc-200 py-1.5 border-b text-start\"> 19 </td><td class=\"px-2 border-e border-zinc-200 py-1.5 border-b font-bold text-start\"> Benin </td><td class=\"px-2 border-e border-zinc-200 text-end py-1.5 border-b font-bold\" data-order=\"14814460\"> <a class=\"transition-all duration-200 text-lime-600 hover:text-lime-500\" data-country=\"benin\" href=\"/world-population/benin-population/\">14,814,460</a> </td><td class=\"px-2 border-e border-zinc-200 text-end py-1.5 border-b\" data-order=\"112760\"> 112,760 </td><td class=\"px-2 border-e border-zinc-200 text-end py-1.5 border-b\" data-order=\"131.380454061724\"> 131 </td> </tr><tr> <td class=\"px-2 border-e border-zinc-200 py-1.5 border-b text-start\"> 20 </td><td class=\"px-2 border-e border-zinc-200 py-1.5 border-b font-bold text-start\"> Bhutan </td><td class=\"px-2 border-e border-zinc-200 text-end py-1.5 border-b font-bold\" data-order=\"796682\"> <a class=\"transition-all duration-200 text-lime-600 hover:text-lime-500\" data-country=\"bhutan\" href=\"/world-population/bhutan-population/\">796,682</a> </td><td class=\"px-2 border-e border-zinc-200 text-end py-1.5 border-b\" data-order=\"38117\"> 38,117 </td><td class=\"px-2 border-e border-zinc-200 text-end py-1.5 border-b\" data-order=\"20.900962824986227\"> 21 </td> </tr><tr> <td class=\"px-2 border-e border-zinc-200 py-1.5 border-b text-start\"> 21 </td><td class=\"px-2 border-e border-zinc-200 py-1.5 border-b font-bold text-start\"> Bolivia </td><td class=\"px-2 border-e border-zinc-200 text-end py-1.5 border-b font-bold\" data-order=\"12581843\"> <a class=\"transition-all duration-200 text-lime-600 hover:text-lime-500\" data-country=\"bolivia\" href=\"/world-population/bolivia-population/\">12,581,843</a> </td><td class=\"px-2 border-e border-zinc-200 text-end py-1.5 border-b\" data-order=\"1083300\"> 1,083,300 </td><td class=\"px-2 border-e border-zinc-200 text-end py-1.5 border-b\" data-order=\"11.614366288193484\"> 12 </td> </tr><tr> <td class=\"px-2 border-e border-zinc-200 py-1.5 border-b text-start\"> 22 </td><td class=\"px-2 border-e border-zinc-200 py-1.5 border-b font-bold text-start\"> Bosnia and Herzegovina </td><td class=\"px-2 border-e border-zinc-200 text-end py-1.5 border-b font-bold\" data-order=\"3140095\"> <a class=\"transition-all duration-200 text-lime-600 hover:text-lime-500\" data-country=\"bosnia-and-herzegovina\" href=\"/world-population/bosnia-and-herzegovina-population/\">3,140,095</a> </td><td class=\"px-2 border-e border-zinc-200 text-end py-1.5 border-b\" data-order=\"51000\"> 51,000 </td><td class=\"px-2 border-e border-zinc-200 text-end py-1.5 border-b\" data-order=\"61.57049019607843\"> 62 </td> </tr><tr> <td class=\"px-2 border-e border-zinc-200 py-1.5 border-b text-start\"> 23 </td><td class=\"px-2 border-e border-zinc-200 py-1.5 border-b font-bold text-start\"> Botswana </td><td class=\"px-2 border-e border-zinc-200 text-end py-1.5 border-b font-bold\" data-order=\"2562122\"> <a class=\"transition-all duration-200 text-lime-600 hover:text-lime-500\" data-country=\"botswana\" href=\"/world-population/botswana-population/\">2,562,122</a> </td><td class=\"px-2 border-e border-zinc-200 text-end py-1.5 border-b\" data-order=\"566730\"> 566,730 </td><td class=\"px-2 border-e border-zinc-200 text-end py-1.5 border-b\" data-order=\"4.520886489157094\"> 5 </td> </tr><tr> <td class=\"px-2 border-e border-zinc-200 py-1.5 border-b text-start\"> 24 </td><td class=\"px-2 border-e border-zinc-200 py-1.5 border-b font-bold text-start\"> Brazil </td><td class=\"px-2 border-e border-zinc-200 text-end py-1.5 border-b font-bold\" data-order=\"212812405\"> <a class=\"transition-all duration-200 text-lime-600 hover:text-lime-500\" data-country=\"brazil\" href=\"/world-population/brazil-population/\">212,812,405</a> </td><td class=\"px-2 border-e border-zinc-200 text-end py-1.5 border-b\" data-order=\"8358140\"> 8,358,140 </td><td class=\"px-2 border-e border-zinc-200 text-end py-1.5 border-b\" data-order=\"25.461694228620242\"> 25 </td> </tr><tr> <td class=\"px-2 border-e border-zinc-200 py-1.5 border-b text-start\"> 25 </td><td class=\"px-2 border-e border-zinc-200 py-1.5 border-b font-bold text-start\"> Brunei  </td><td class=\"px-2 border-e border-zinc-200 text-end py-1.5 border-b font-bold\" data-order=\"466330\"> <a class=\"transition-all duration-200 text-lime-600 hover:text-lime-500\" data-country=\"brunei-darussalam\" href=\"/world-population/brunei-darussalam-population/\">466,330</a> </td><td class=\"px-2 border-e border-zinc-200 text-end py-1.5 border-b\" data-order=\"5270\"> 5,270 </td><td class=\"px-2 border-e border-zinc-200 text-end py-1.5 border-b\" data-order=\"88.4876660341556\"> 88 </td> </tr><tr> <td class=\"px-2 border-e border-zinc-200 py-1.5 border-b text-start\"> 26 </td><td class=\"px-2 border-e border-zinc-200 py-1.5 border-b font-bold text-start\"> Bulgaria </td><td class=\"px-2 border-e border-zinc-200 text-end py-1.5 border-b font-bold\" data-order=\"6714560\"> <a class=\"transition-all duration-200 text-lime-600 hover:text-lime-500\" data-country=\"bulgaria\" href=\"/world-population/bulgaria-population/\">6,714,560</a> </td><td class=\"px-2 border-e border-zinc-200 text-end py-1.5 border-b\" data-order=\"108560\"> 108,560 </td><td class=\"px-2 border-e border-zinc-200 text-end py-1.5 border-b\" data-order=\"61.85114222549742\"> 62 </td> </tr><tr> <td class=\"px-2 border-e border-zinc-200 py-1.5 border-b text-start\"> 27 </td><td class=\"px-2 border-e border-zinc-200 py-1.5 border-b font-bold text-start\"> Burkina Faso </td><td class=\"px-2 border-e border-zinc-200 text-end py-1.5 border-b font-bold\" data-order=\"24074580\"> <a class=\"transition-all duration-200 text-lime-600 hover:text-lime-500\" data-country=\"burkina-faso\" href=\"/world-population/burkina-faso-population/\">24,074,580</a> </td><td class=\"px-2 border-e border-zinc-200 text-end py-1.5 border-b\" data-order=\"273600\"> 273,600 </td><td class=\"px-2 border-e border-zinc-200 text-end py-1.5 border-b\" data-order=\"87.99188596491229\"> 88 </td> </tr><tr> <td class=\"px-2 border-e border-zinc-200 py-1.5 border-b text-start\"> 28 </td><td class=\"px-2 border-e border-zinc-200 py-1.5 border-b font-bold text-start\"> Burundi </td><td class=\"px-2 border-e border-zinc-200 text-end py-1.5 border-b font-bold\" data-order=\"14390003\"> <a class=\"transition-all duration-200 text-lime-600 hover:text-lime-500\" data-country=\"burundi\" href=\"/world-population/burundi-population/\">14,390,003</a> </td><td class=\"px-2 border-e border-zinc-200 text-end py-1.5 border-b\" data-order=\"25680\"> 25,680 </td><td class=\"px-2 border-e border-zinc-200 text-end py-1.5 border-b\" data-order=\"560.3583722741433\"> 560 </td> </tr><tr> <td class=\"px-2 border-e border-zinc-200 py-1.5 border-b text-start\"> 29 </td><td class=\"px-2 border-e border-zinc-200 py-1.5 border-b font-bold text-start\"> Cabo Verde </td><td class=\"px-2 border-e border-zinc-200 text-end py-1.5 border-b font-bold\" data-order=\"527326\"> <a class=\"transition-all duration-200 text-lime-600 hover:text-lime-500\" data-country=\"cabo-verde\" href=\"/world-population/cabo-verde-population/\">527,326</a> </td><td class=\"px-2 border-e border-zinc-200 text-end py-1.5 border-b\" data-order=\"4030\"> 4,030 </td><td class=\"px-2 border-e border-zinc-200 text-end py-1.5 border-b\" data-order=\"130.8501240694789\"> 131 </td> </tr><tr> <td class=\"px-2 border-e border-zinc-200 py-1.5 border-b text-start\"> 30 </td><td class=\"px-2 border-e border-zinc-200 py-1.5 border-b font-bold text-start\"> Cambodia </td><td class=\"px-2 border-e border-zinc-200 text-end py-1.5 border-b font-bold\" data-order=\"17847982\"> <a class=\"transition-all duration-200 text-lime-600 hover:text-lime-500\" data-country=\"cambodia\" href=\"/world-population/cambodia-population/\">17,847,982</a> </td><td class=\"px-2 border-e border-zinc-200 text-end py-1.5 border-b\" data-order=\"176520\"> 176,520 </td><td class=\"px-2 border-e border-zinc-200 text-end py-1.5 border-b\" data-order=\"101.1102537956039\"> 101 </td> </tr><tr> <td class=\"px-2 border-e border-zinc-200 py-1.5 border-b text-start\"> 31 </td><td class=\"px-2 border-e border-zinc-200 py-1.5 border-b font-bold text-start\"> Cameroon </td><td class=\"px-2 border-e border-zinc-200 text-end py-1.5 border-b font-bold\" data-order=\"29879337\"> <a class=\"transition-all duration-200 text-lime-600 hover:text-lime-500\" data-country=\"cameroon\" href=\"/world-population/cameroon-population/\">29,879,337</a> </td><td class=\"px-2 border-e border-zinc-200 text-end py-1.5 border-b\" data-order=\"472710\"> 472,710 </td><td class=\"px-2 border-e border-zinc-200 text-end py-1.5 border-b\" data-order=\"63.20859935266866\"> 63 </td> </tr><tr> <td class=\"px-2 border-e border-zinc-200 py-1.5 border-b text-start\"> 32 </td><td class=\"px-2 border-e border-zinc-200 py-1.5 border-b font-bold text-start\"> Canada </td><td class=\"px-2 border-e border-zinc-200 text-end py-1.5 border-b font-bold\" data-order=\"40126723\"> <a class=\"transition-all duration-200 text-lime-600 hover:text-lime-500\" data-country=\"canada\" href=\"/world-population/canada-population/\">40,126,723</a> </td><td class=\"px-2 border-e border-zinc-200 text-end py-1.5 border-b\" data-order=\"9093510\"> 9,093,510 </td><td class=\"px-2 border-e border-zinc-200 text-end py-1.5 border-b\" data-order=\"4.412677063092249\"> 4 </td> </tr><tr> <td class=\"px-2 border-e border-zinc-200 py-1.5 border-b text-start\"> 33 </td><td class=\"px-2 border-e border-zinc-200 py-1.5 border-b font-bold text-start\"> Central African Republic </td><td class=\"px-2 border-e border-zinc-200 text-end py-1.5 border-b font-bold\" data-order=\"5513282\"> <a class=\"transition-all duration-200 text-lime-600 hover:text-lime-500\" data-country=\"central-african-republic\" href=\"/world-population/central-african-republic-population/\">5,513,282</a> </td><td class=\"px-2 border-e border-zinc-200 text-end py-1.5 border-b\" data-order=\"622980\"> 622,980 </td><td class=\"px-2 border-e border-zinc-200 text-end py-1.5 border-b\" data-order=\"8.849853927894957\"> 9 </td> </tr><tr> <td class=\"px-2 border-e border-zinc-200 py-1.5 border-b text-start\"> 34 </td><td class=\"px-2 border-e border-zinc-200 py-1.5 border-b font-bold text-start\"> Chad </td><td class=\"px-2 border-e border-zinc-200 text-end py-1.5 border-b font-bold\" data-order=\"21003705\"> <a class=\"transition-all duration-200 text-lime-600 hover:text-lime-500\" data-country=\"chad\" href=\"/world-population/chad-population/\">21,003,705</a> </td><td class=\"px-2 border-e border-zinc-200 text-end py-1.5 border-b\" data-order=\"1259200\"> 1,259,200 </td><td class=\"px-2 border-e border-zinc-200 text-end py-1.5 border-b\" data-order=\"16.680197744599745\"> 17 </td> </tr><tr> <td class=\"px-2 border-e border-zinc-200 py-1.5 border-b text-start\"> 35 </td><td class=\"px-2 border-e border-zinc-200 py-1.5 border-b font-bold text-start\"> Chile </td><td class=\"px-2 border-e border-zinc-200 text-end py-1.5 border-b font-bold\" data-order=\"19859921\"> <a class=\"transition-all duration-200 text-lime-600 hover:text-lime-500\" data-country=\"chile\" href=\"/world-population/chile-population/\">19,859,921</a> </td><td class=\"px-2 border-e border-zinc-200 text-end py-1.5 border-b\" data-order=\"743532\"> 743,532 </td><td class=\"px-2 border-e border-zinc-200 text-end py-1.5 border-b\" data-order=\"26.71024380927788\"> 27 </td> </tr><tr> <td class=\"px-2 border-e border-zinc-200 py-1.5 border-b text-start\"> 36 </td><td class=\"px-2 border-e border-zinc-200 py-1.5 border-b font-bold text-start\"> China </td><td class=\"px-2 border-e border-zinc-200 text-end py-1.5 border-b font-bold\" data-order=\"1416096094\"> <a class=\"transition-all duration-200 text-lime-600 hover:text-lime-500\" data-country=\"china\" href=\"/world-population/china-population/\">1,416,096,094</a> </td><td class=\"px-2 border-e border-zinc-200 text-end py-1.5 border-b\" data-order=\"9388211\"> 9,388,211 </td><td class=\"px-2 border-e border-zinc-200 text-end py-1.5 border-b\" data-order=\"150.8376935712246\"> 151 </td> </tr><tr> <td class=\"px-2 border-e border-zinc-200 py-1.5 border-b text-start\"> 37 </td><td class=\"px-2 border-e border-zinc-200 py-1.5 border-b font-bold text-start\"> Colombia </td><td class=\"px-2 border-e border-zinc-200 text-end py-1.5 border-b font-bold\" data-order=\"53425635\"> <a class=\"transition-all duration-200 text-lime-600 hover:text-lime-500\" data-country=\"colombia\" href=\"/world-population/colombia-population/\">53,425,635</a> </td><td class=\"px-2 border-e border-zinc-200 text-end py-1.5 border-b\" data-order=\"1109500\"> 1,109,500 </td><td class=\"px-2 border-e border-zinc-200 text-end py-1.5 border-b\" data-order=\"48.15289319513294\"> 48 </td> </tr><tr> <td class=\"px-2 border-e border-zinc-200 py-1.5 border-b text-start\"> 38 </td><td class=\"px-2 border-e border-zinc-200 py-1.5 border-b font-bold text-start\"> Comoros </td><td class=\"px-2 border-e border-zinc-200 text-end py-1.5 border-b font-bold\" data-order=\"882847\"> <a class=\"transition-all duration-200 text-lime-600 hover:text-lime-500\" data-country=\"comoros\" href=\"/world-population/comoros-population/\">882,847</a> </td><td class=\"px-2 border-e border-zinc-200 text-end py-1.5 border-b\" data-order=\"1861\"> 1,861 </td><td class=\"px-2 border-e border-zinc-200 text-end py-1.5 border-b\" data-order=\"474.3938742611499\"> 474 </td> </tr><tr> <td class=\"px-2 border-e border-zinc-200 py-1.5 border-b text-start\"> 39 </td><td class=\"px-2 border-e border-zinc-200 py-1.5 border-b font-bold text-start\"> Congo (Congo-Brazzaville) </td><td class=\"px-2 border-e border-zinc-200 text-end py-1.5 border-b font-bold\" data-order=\"6484437\"> <a class=\"transition-all duration-200 text-lime-600 hover:text-lime-500\" data-country=\"congo\" href=\"/world-population/congo-population/\">6,484,437</a> </td><td class=\"px-2 border-e border-zinc-200 text-end py-1.5 border-b\" data-order=\"341500\"> 341,500 </td><td class=\"px-2 border-e border-zinc-200 text-end py-1.5 border-b\" data-order=\"18.988102489019035\"> 19 </td> </tr><tr> <td class=\"px-2 border-e border-zinc-200 py-1.5 border-b text-start\"> 40 </td><td class=\"px-2 border-e border-zinc-200 py-1.5 border-b font-bold text-start\"> Costa Rica </td><td class=\"px-2 border-e border-zinc-200 text-end py-1.5 border-b font-bold\" data-order=\"5152950\"> <a class=\"transition-all duration-200 text-lime-600 hover:text-lime-500\" data-country=\"costa-rica\" href=\"/world-population/costa-rica-population/\">5,152,950</a> </td><td class=\"px-2 border-e border-zinc-200 text-end py-1.5 border-b\" data-order=\"51060\"> 51,060 </td><td class=\"px-2 border-e border-zinc-200 text-end py-1.5 border-b\" data-order=\"100.91950646298473\"> 101 </td> </tr><tr> <td class=\"px-2 border-e border-zinc-200 py-1.5 border-b text-start\"> 41 </td><td class=\"px-2 border-e border-zinc-200 py-1.5 border-b font-bold text-start\"> Côte d'Ivoire </td><td class=\"px-2 border-e border-zinc-200 text-end py-1.5 border-b font-bold\" data-order=\"32711547\"> <a class=\"transition-all duration-200 text-lime-600 hover:text-lime-500\" data-country=\"cote-d-ivoire\" href=\"/world-population/cote-d-ivoire-population/\">32,711,547</a> </td><td class=\"px-2 border-e border-zinc-200 text-end py-1.5 border-b\" data-order=\"318000\"> 318,000 </td><td class=\"px-2 border-e border-zinc-200 text-end py-1.5 border-b\" data-order=\"102.8665\"> 103 </td> </tr><tr> <td class=\"px-2 border-e border-zinc-200 py-1.5 border-b text-start\"> 42 </td><td class=\"px-2 border-e border-zinc-200 py-1.5 border-b font-bold text-start\"> Croatia </td><td class=\"px-2 border-e border-zinc-200 text-end py-1.5 border-b font-bold\" data-order=\"3848160\"> <a class=\"transition-all duration-200 text-lime-600 hover:text-lime-500\" data-country=\"croatia\" href=\"/world-population/croatia-population/\">3,848,160</a> </td><td class=\"px-2 border-e border-zinc-200 text-end py-1.5 border-b\" data-order=\"55960\"> 55,960 </td><td class=\"px-2 border-e border-zinc-200 text-end py-1.5 border-b\" data-order=\"68.7662616154396\"> 69 </td> </tr><tr> <td class=\"px-2 border-e border-zinc-200 py-1.5 border-b text-start\"> 43 </td><td class=\"px-2 border-e border-zinc-200 py-1.5 border-b font-bold text-start\"> Cuba </td><td class=\"px-2 border-e border-zinc-200 text-end py-1.5 border-b font-bold\" data-order=\"10937203\"> <a class=\"transition-all duration-200 text-lime-600 hover:text-lime-500\" data-country=\"cuba\" href=\"/world-population/cuba-population/\">10,937,203</a> </td><td class=\"px-2 border-e border-zinc-200 text-end py-1.5 border-b\" data-order=\"106440\"> 106,440 </td><td class=\"px-2 border-e border-zinc-200 text-end py-1.5 border-b\" data-order=\"102.75463171739948\"> 103 </td> </tr><tr> <td class=\"px-2 border-e border-zinc-200 py-1.5 border-b text-start\"> 44 </td><td class=\"px-2 border-e border-zinc-200 py-1.5 border-b font-bold text-start\"> Cyprus </td><td class=\"px-2 border-e border-zinc-200 text-end py-1.5 border-b font-bold\" data-order=\"1370754\"> <a class=\"transition-all duration-200 text-lime-600 hover:text-lime-500\" data-country=\"cyprus\" href=\"/world-population/cyprus-population/\">1,370,754</a> </td><td class=\"px-2 border-e border-zinc-200 text-end py-1.5 border-b\" data-order=\"9240\"> 9,240 </td><td class=\"px-2 border-e border-zinc-200 text-end py-1.5 border-b\" data-order=\"148.35\"> 148 </td> </tr><tr> <td class=\"px-2 border-e border-zinc-200 py-1.5 border-b text-start\"> 45 </td><td class=\"px-2 border-e border-zinc-200 py-1.5 border-b font-bold text-start\"> Czechia (Czech Republic) </td><td class=\"px-2 border-e border-zinc-200 text-end py-1.5 border-b font-bold\" data-order=\"10609239\"> <a class=\"transition-all duration-200 text-lime-600 hover:text-lime-500\" data-country=\"czechia\" href=\"/world-population/czechia-population/\">10,609,239</a> </td><td class=\"px-2 border-e border-zinc-200 text-end py-1.5 border-b\" data-order=\"77240\"> 77,240 </td><td class=\"px-2 border-e border-zinc-200 text-end py-1.5 border-b\" data-order=\"137.35420766442257\"> 137 </td> </tr><tr> <td class=\"px-2 border-e border-zinc-200 py-1.5 border-b text-start\"> 46 </td><td class=\"px-2 border-e border-zinc-200 py-1.5 border-b font-bold text-start\"> Democratic Republic of the Congo </td><td class=\"px-2 border-e border-zinc-200 text-end py-1.5 border-b font-bold\" data-order=\"112832473\"> <a class=\"transition-all duration-200 text-lime-600 hover:text-lime-500\" data-country=\"democratic-republic-of-the-congo\" href=\"/world-population/democratic-republic-of-the-congo-population/\">112,832,473</a> </td><td class=\"px-2 border-e border-zinc-200 text-end py-1.5 border-b\" data-order=\"2267050\"> 2,267,050 </td><td class=\"px-2 border-e border-zinc-200 text-end py-1.5 border-b\" data-order=\"49.77061511656117\"> 50 </td> </tr><tr> <td class=\"px-2 border-e border-zinc-200 py-1.5 border-b text-start\"> 47 </td><td class=\"px-2 border-e border-zinc-200 py-1.5 border-b font-bold text-start\"> Denmark </td><td class=\"px-2 border-e border-zinc-200 text-end py-1.5 border-b font-bold\" data-order=\"6002507\"> <a class=\"transition-all duration-200 text-lime-600 hover:text-lime-500\" data-country=\"denmark\" href=\"/world-population/denmark-population/\">6,002,507</a> </td><td class=\"px-2 border-e border-zinc-200 text-end py-1.5 border-b\" data-order=\"42430\"> 42,430 </td><td class=\"px-2 border-e border-zinc-200 text-end py-1.5 border-b\" data-order=\"141.46846570822532\"> 141 </td> </tr><tr> <td class=\"px-2 border-e border-zinc-200 py-1.5 border-b text-start\"> 48 </td><td class=\"px-2 border-e border-zinc-200 py-1.5 border-b font-bold text-start\"> Djibouti </td><td class=\"px-2 border-e border-zinc-200 text-end py-1.5 border-b font-bold\" data-order=\"1184076\"> <a class=\"transition-all duration-200 text-lime-600 hover:text-lime-500\" data-country=\"djibouti\" href=\"/world-population/djibouti-population/\">1,184,076</a> </td><td class=\"px-2 border-e border-zinc-200 text-end py-1.5 border-b\" data-order=\"23180\"> 23,180 </td><td class=\"px-2 border-e border-zinc-200 text-end py-1.5 border-b\" data-order=\"51.08179465056083\"> 51 </td> </tr><tr> <td class=\"px-2 border-e border-zinc-200 py-1.5 border-b text-start\"> 49 </td><td class=\"px-2 border-e border-zinc-200 py-1.5 border-b font-bold text-start\"> Dominica </td><td class=\"px-2 border-e border-zinc-200 text-end py-1.5 border-b font-bold\" data-order=\"65871\"> <a class=\"transition-all duration-200 text-lime-600 hover:text-lime-500\" data-country=\"dominica\" href=\"/world-population/dominica-population/\">65,871</a> </td><td class=\"px-2 border-e border-zinc-200 text-end py-1.5 border-b\" data-order=\"750\"> 750 </td><td class=\"px-2 border-e border-zinc-200 text-end py-1.5 border-b\" data-order=\"87.828\"> 88 </td> </tr><tr> <td class=\"px-2 border-e border-zinc-200 py-1.5 border-b text-start\"> 50 </td><td class=\"px-2 border-e border-zinc-200 py-1.5 border-b font-bold text-start\"> Dominican Republic </td><td class=\"px-2 border-e border-zinc-200 text-end py-1.5 border-b font-bold\" data-order=\"11520487\"> <a class=\"transition-all duration-200 text-lime-600 hover:text-lime-500\" data-country=\"dominican-republic\" href=\"/world-population/dominican-republic-population/\">11,520,487</a> </td><td class=\"px-2 border-e border-zinc-200 text-end py-1.5 border-b\" data-order=\"48320\"> 48,320 </td><td class=\"px-2 border-e border-zinc-200 text-end py-1.5 border-b\" data-order=\"238.42067466887417\"> 238 </td> </tr><tr> <td class=\"px-2 border-e border-zinc-200 py-1.5 border-b text-start\"> 51 </td><td class=\"px-2 border-e border-zinc-200 py-1.5 border-b font-bold text-start\"> Ecuador </td><td class=\"px-2 border-e border-zinc-200 text-end py-1.5 border-b font-bold\" data-order=\"18289896\"> <a class=\"transition-all duration-200 text-lime-600 hover:text-lime-500\" data-country=\"ecuador\" href=\"/world-population/ecuador-population/\">18,289,896</a> </td><td class=\"px-2 border-e border-zinc-200 text-end py-1.5 border-b\" data-order=\"248360\"> 248,360 </td><td class=\"px-2 border-e border-zinc-200 text-end py-1.5 border-b\" data-order=\"73.64267998067322\"> 74 </td> </tr><tr> <td class=\"px-2 border-e border-zinc-200 py-1.5 border-b text-start\"> 52 </td><td class=\"px-2 border-e border-zinc-200 py-1.5 border-b font-bold text-start\"> Egypt </td><td class=\"px-2 border-e border-zinc-200 text-end py-1.5 border-b font-bold\" data-order=\"118365995\"> <a class=\"transition-all duration-200 text-lime-600 hover:text-lime-500\" data-country=\"egypt\" href=\"/world-population/egypt-population/\">118,365,995</a> </td><td class=\"px-2 border-e border-zinc-200 text-end py-1.5 border-b\" data-order=\"995450\"> 995,450 </td><td class=\"px-2 border-e border-zinc-200 text-end py-1.5 border-b\" data-order=\"118.90702194987192\"> 119 </td> </tr><tr> <td class=\"px-2 border-e border-zinc-200 py-1.5 border-b text-start\"> 53 </td><td class=\"px-2 border-e border-zinc-200 py-1.5 border-b font-bold text-start\"> El Salvador </td><td class=\"px-2 border-e border-zinc-200 text-end py-1.5 border-b font-bold\" data-order=\"6365503\"> <a class=\"transition-all duration-200 text-lime-600 hover:text-lime-500\" data-country=\"el-salvador\" href=\"/world-population/el-salvador-population/\">6,365,503</a> </td><td class=\"px-2 border-e border-zinc-200 text-end py-1.5 border-b\" data-order=\"20720\"> 20,720 </td><td class=\"px-2 border-e border-zinc-200 text-end py-1.5 border-b\" data-order=\"307.21539575289574\"> 307 </td> </tr><tr> <td class=\"px-2 border-e border-zinc-200 py-1.5 border-b text-start\"> 54 </td><td class=\"px-2 border-e border-zinc-200 py-1.5 border-b font-bold text-start\"> Equatorial Guinea </td><td class=\"px-2 border-e border-zinc-200 text-end py-1.5 border-b font-bold\" data-order=\"1938431\"> <a class=\"transition-all duration-200 text-lime-600 hover:text-lime-500\" data-country=\"equatorial-guinea\" href=\"/world-population/equatorial-guinea-population/\">1,938,431</a> </td><td class=\"px-2 border-e border-zinc-200 text-end py-1.5 border-b\" data-order=\"28050\"> 28,050 </td><td class=\"px-2 border-e border-zinc-200 text-end py-1.5 border-b\" data-order=\"69.10627450980392\"> 69 </td> </tr><tr> <td class=\"px-2 border-e border-zinc-200 py-1.5 border-b text-start\"> 55 </td><td class=\"px-2 border-e border-zinc-200 py-1.5 border-b font-bold text-start\"> Eritrea </td><td class=\"px-2 border-e border-zinc-200 text-end py-1.5 border-b font-bold\" data-order=\"3607003\"> <a class=\"transition-all duration-200 text-lime-600 hover:text-lime-500\" data-country=\"eritrea\" href=\"/world-population/eritrea-population/\">3,607,003</a> </td><td class=\"px-2 border-e border-zinc-200 text-end py-1.5 border-b\" data-order=\"101000\"> 101,000 </td><td class=\"px-2 border-e border-zinc-200 text-end py-1.5 border-b\" data-order=\"35.71290099009901\"> 36 </td> </tr><tr> <td class=\"px-2 border-e border-zinc-200 py-1.5 border-b text-start\"> 56 </td><td class=\"px-2 border-e border-zinc-200 py-1.5 border-b font-bold text-start\"> Estonia </td><td class=\"px-2 border-e border-zinc-200 text-end py-1.5 border-b font-bold\" data-order=\"1344232\"> <a class=\"transition-all duration-200 text-lime-600 hover:text-lime-500\" data-country=\"estonia\" href=\"/world-population/estonia-population/\">1,344,232</a> </td><td class=\"px-2 border-e border-zinc-200 text-end py-1.5 border-b\" data-order=\"42390\"> 42,390 </td><td class=\"px-2 border-e border-zinc-200 text-end py-1.5 border-b\" data-order=\"31.71106393017221\"> 32 </td> </tr><tr> <td class=\"px-2 border-e border-zinc-200 py-1.5 border-b text-start\"> 57 </td><td class=\"px-2 border-e border-zinc-200 py-1.5 border-b font-bold text-start\"> Eswatini (fmr. \"\"Swaziland\"\") </td><td class=\"px-2 border-e border-zinc-200 text-end py-1.5 border-b font-bold\" data-order=\"1256174\"> <a class=\"transition-all duration-200 text-lime-600 hover:text-lime-500\" data-country=\"swaziland\" href=\"/world-population/swaziland-population/\">1,256,174</a> </td><td class=\"px-2 border-e border-zinc-200 text-end py-1.5 border-b\" data-order=\"17200\"> 17,200 </td><td class=\"px-2 border-e border-zinc-200 text-end py-1.5 border-b\" data-order=\"73.03337209302326\"> 73 </td> </tr><tr> <td class=\"px-2 border-e border-zinc-200 py-1.5 border-b text-start\"> 58 </td><td class=\"px-2 border-e border-zinc-200 py-1.5 border-b font-bold text-start\"> Ethiopia </td><td class=\"px-2 border-e border-zinc-200 text-end py-1.5 border-b font-bold\" data-order=\"135472051\"> <a class=\"transition-all duration-200 text-lime-600 hover:text-lime-500\" data-country=\"ethiopia\" href=\"/world-population/ethiopia-population/\">135,472,051</a> </td><td class=\"px-2 border-e border-zinc-200 text-end py-1.5 border-b\" data-order=\"1000000\"> 1,000,000 </td><td class=\"px-2 border-e border-zinc-200 text-end py-1.5 border-b\" data-order=\"135.472051\"> 135 </td> </tr><tr> <td class=\"px-2 border-e border-zinc-200 py-1.5 border-b text-start\"> 59 </td><td class=\"px-2 border-e border-zinc-200 py-1.5 border-b font-bold text-start\"> Fiji </td><td class=\"px-2 border-e border-zinc-200 text-end py-1.5 border-b font-bold\" data-order=\"933154\"> <a class=\"transition-all duration-200 text-lime-600 hover:text-lime-500\" data-country=\"fiji\" href=\"/world-population/fiji-population/\">933,154</a> </td><td class=\"px-2 border-e border-zinc-200 text-end py-1.5 border-b\" data-order=\"18270\"> 18,270 </td><td class=\"px-2 border-e border-zinc-200 text-end py-1.5 border-b\" data-order=\"51.07575259989053\"> 51 </td> </tr><tr> <td class=\"px-2 border-e border-zinc-200 py-1.5 border-b text-start\"> 60 </td><td class=\"px-2 border-e border-zinc-200 py-1.5 border-b font-bold text-start\"> Finland </td><td class=\"px-2 border-e border-zinc-200 text-end py-1.5 border-b font-bold\" data-order=\"5623329\"> <a class=\"transition-all duration-200 text-lime-600 hover:text-lime-500\" data-country=\"finland\" href=\"/world-population/finland-population/\">5,623,329</a> </td><td class=\"px-2 border-e border-zinc-200 text-end py-1.5 border-b\" data-order=\"303890\"> 303,890 </td><td class=\"px-2 border-e border-zinc-200 text-end py-1.5 border-b\" data-order=\"18.50448846622133\"> 19 </td> </tr><tr> <td class=\"px-2 border-e border-zinc-200 py-1.5 border-b text-start\"> 61 </td><td class=\"px-2 border-e border-zinc-200 py-1.5 border-b font-bold text-start\"> France </td><td class=\"px-2 border-e border-zinc-200 text-end py-1.5 border-b font-bold\" data-order=\"66650804\"> <a class=\"transition-all duration-200 text-lime-600 hover:text-lime-500\" data-country=\"france\" href=\"/world-population/france-population/\">66,650,804</a> </td><td class=\"px-2 border-e border-zinc-200 text-end py-1.5 border-b\" data-order=\"547557\"> 547,557 </td><td class=\"px-2 border-e border-zinc-200 text-end py-1.5 border-b\" data-order=\"121.72395567950004\"> 122 </td> </tr><tr> <td class=\"px-2 border-e border-zinc-200 py-1.5 border-b text-start\"> 62 </td><td class=\"px-2 border-e border-zinc-200 py-1.5 border-b font-bold text-start\"> Gabon </td><td class=\"px-2 border-e border-zinc-200 text-end py-1.5 border-b font-bold\" data-order=\"2593130\"> <a class=\"transition-all duration-200 text-lime-600 hover:text-lime-500\" data-country=\"gabon\" href=\"/world-population/gabon-population/\">2,593,130</a> </td><td class=\"px-2 border-e border-zinc-200 text-end py-1.5 border-b\" data-order=\"257670\"> 257,670 </td><td class=\"px-2 border-e border-zinc-200 text-end py-1.5 border-b\" data-order=\"10.063763728800403\"> 10 </td> </tr><tr> <td class=\"px-2 border-e border-zinc-200 py-1.5 border-b text-start\"> 63 </td><td class=\"px-2 border-e border-zinc-200 py-1.5 border-b font-bold text-start\"> Gambia </td><td class=\"px-2 border-e border-zinc-200 text-end py-1.5 border-b font-bold\" data-order=\"2822093\"> <a class=\"transition-all duration-200 text-lime-600 hover:text-lime-500\" data-country=\"gambia\" href=\"/world-population/gambia-population/\">2,822,093</a> </td><td class=\"px-2 border-e border-zinc-200 text-end py-1.5 border-b\" data-order=\"10120\"> 10,120 </td><td class=\"px-2 border-e border-zinc-200 text-end py-1.5 border-b\" data-order=\"278.8629446640316\"> 279 </td> </tr><tr> <td class=\"px-2 border-e border-zinc-200 py-1.5 border-b text-start\"> 64 </td><td class=\"px-2 border-e border-zinc-200 py-1.5 border-b font-bold text-start\"> Georgia </td><td class=\"px-2 border-e border-zinc-200 text-end py-1.5 border-b font-bold\" data-order=\"3806671\"> <a class=\"transition-all duration-200 text-lime-600 hover:text-lime-500\" data-country=\"georgia\" href=\"/world-population/georgia-population/\">3,806,671</a> </td><td class=\"px-2 border-e border-zinc-200 text-end py-1.5 border-b\" data-order=\"69490\"> 69,490 </td><td class=\"px-2 border-e border-zinc-200 text-end py-1.5 border-b\" data-order=\"54.78012663692618\"> 55 </td> </tr><tr> <td class=\"px-2 border-e border-zinc-200 py-1.5 border-b text-start\"> 65 </td><td class=\"px-2 border-e border-zinc-200 py-1.5 border-b font-bold text-start\"> Germany </td><td class=\"px-2 border-e border-zinc-200 text-end py-1.5 border-b font-bold\" data-order=\"84075075\"> <a class=\"transition-all duration-200 text-lime-600 hover:text-lime-500\" data-country=\"germany\" href=\"/world-population/germany-population/\">84,075,075</a> </td><td class=\"px-2 border-e border-zinc-200 text-end py-1.5 border-b\" data-order=\"348560\"> 348,560 </td><td class=\"px-2 border-e border-zinc-200 text-end py-1.5 border-b\" data-order=\"241.20689407849437\"> 241 </td> </tr><tr> <td class=\"px-2 border-e border-zinc-200 py-1.5 border-b text-start\"> 66 </td><td class=\"px-2 border-e border-zinc-200 py-1.5 border-b font-bold text-start\"> Ghana </td><td class=\"px-2 border-e border-zinc-200 text-end py-1.5 border-b font-bold\" data-order=\"35064272\"> <a class=\"transition-all duration-200 text-lime-600 hover:text-lime-500\" data-country=\"ghana\" href=\"/world-population/ghana-population/\">35,064,272</a> </td><td class=\"px-2 border-e border-zinc-200 text-end py-1.5 border-b\" data-order=\"227540\"> 227,540 </td><td class=\"px-2 border-e border-zinc-200 text-end py-1.5 border-b\" data-order=\"154.1015733497407\"> 154 </td> </tr><tr> <td class=\"px-2 border-e border-zinc-200 py-1.5 border-b text-start\"> 67 </td><td class=\"px-2 border-e border-zinc-200 py-1.5 border-b font-bold text-start\"> Greece </td><td class=\"px-2 border-e border-zinc-200 text-end py-1.5 border-b font-bold\" data-order=\"9938844\"> <a class=\"transition-all duration-200 text-lime-600 hover:text-lime-500\" data-country=\"greece\" href=\"/world-population/greece-population/\">9,938,844</a> </td><td class=\"px-2 border-e border-zinc-200 text-end py-1.5 border-b\" data-order=\"128900\"> 128,900 </td><td class=\"px-2 border-e border-zinc-200 text-end py-1.5 border-b\" data-order=\"77.10507370054306\"> 77 </td> </tr><tr> <td class=\"px-2 border-e border-zinc-200 py-1.5 border-b text-start\"> 68 </td><td class=\"px-2 border-e border-zinc-200 py-1.5 border-b font-bold text-start\"> Grenada </td><td class=\"px-2 border-e border-zinc-200 text-end py-1.5 border-b font-bold\" data-order=\"117303\"> <a class=\"transition-all duration-200 text-lime-600 hover:text-lime-500\" data-country=\"grenada\" href=\"/world-population/grenada-population/\">117,303</a> </td><td class=\"px-2 border-e border-zinc-200 text-end py-1.5 border-b\" data-order=\"340\"> 340 </td><td class=\"px-2 border-e border-zinc-200 text-end py-1.5 border-b\" data-order=\"345.00882352941176\"> 345 </td> </tr><tr> <td class=\"px-2 border-e border-zinc-200 py-1.5 border-b text-start\"> 69 </td><td class=\"px-2 border-e border-zinc-200 py-1.5 border-b font-bold text-start\"> Guatemala </td><td class=\"px-2 border-e border-zinc-200 text-end py-1.5 border-b font-bold\" data-order=\"18687881\"> <a class=\"transition-all duration-200 text-lime-600 hover:text-lime-500\" data-country=\"guatemala\" href=\"/world-population/guatemala-population/\">18,687,881</a> </td><td class=\"px-2 border-e border-zinc-200 text-end py-1.5 border-b\" data-order=\"107160\"> 107,160 </td><td class=\"px-2 border-e border-zinc-200 text-end py-1.5 border-b\" data-order=\"174.39231989548338\"> 174 </td> </tr><tr> <td class=\"px-2 border-e border-zinc-200 py-1.5 border-b text-start\"> 70 </td><td class=\"px-2 border-e border-zinc-200 py-1.5 border-b font-bold text-start\"> Guinea </td><td class=\"px-2 border-e border-zinc-200 text-end py-1.5 border-b font-bold\" data-order=\"15099727\"> <a class=\"transition-all duration-200 text-lime-600 hover:text-lime-500\" data-country=\"guinea\" href=\"/world-population/guinea-population/\">15,099,727</a> </td><td class=\"px-2 border-e border-zinc-200 text-end py-1.5 border-b\" data-order=\"245720\"> 245,720 </td><td class=\"px-2 border-e border-zinc-200 text-end py-1.5 border-b\" data-order=\"61.450948233762006\"> 61 </td> </tr><tr> <td class=\"px-2 border-e border-zinc-200 py-1.5 border-b text-start\"> 71 </td><td class=\"px-2 border-e border-zinc-200 py-1.5 border-b font-bold text-start\"> Guinea-Bissau </td><td class=\"px-2 border-e border-zinc-200 text-end py-1.5 border-b font-bold\" data-order=\"2249515\"> <a class=\"transition-all duration-200 text-lime-600 hover:text-lime-500\" data-country=\"guinea-bissau\" href=\"/world-population/guinea-bissau-population/\">2,249,515</a> </td><td class=\"px-2 border-e border-zinc-200 text-end py-1.5 border-b\" data-order=\"28120\"> 28,120 </td><td class=\"px-2 border-e border-zinc-200 text-end py-1.5 border-b\" data-order=\"79.9969772403983\"> 80 </td> </tr><tr> <td class=\"px-2 border-e border-zinc-200 py-1.5 border-b text-start\"> 72 </td><td class=\"px-2 border-e border-zinc-200 py-1.5 border-b font-bold text-start\"> Guyana </td><td class=\"px-2 border-e border-zinc-200 text-end py-1.5 border-b font-bold\" data-order=\"835986\"> <a class=\"transition-all duration-200 text-lime-600 hover:text-lime-500\" data-country=\"guyana\" href=\"/world-population/guyana-population/\">835,986</a> </td><td class=\"px-2 border-e border-zinc-200 text-end py-1.5 border-b\" data-order=\"196850\"> 196,850 </td><td class=\"px-2 border-e border-zinc-200 text-end py-1.5 border-b\" data-order=\"4.246817373634747\"> 4 </td> </tr><tr> <td class=\"px-2 border-e border-zinc-200 py-1.5 border-b text-start\"> 73 </td><td class=\"px-2 border-e border-zinc-200 py-1.5 border-b font-bold text-start\"> Haiti </td><td class=\"px-2 border-e border-zinc-200 text-end py-1.5 border-b font-bold\" data-order=\"11906095\"> <a class=\"transition-all duration-200 text-lime-600 hover:text-lime-500\" data-country=\"haiti\" href=\"/world-population/haiti-population/\">11,906,095</a> </td><td class=\"px-2 border-e border-zinc-200 text-end py-1.5 border-b\" data-order=\"27560\"> 27,560 </td><td class=\"px-2 border-e border-zinc-200 text-end py-1.5 border-b\" data-order=\"432.00634978229317\"> 432 </td> </tr><tr> <td class=\"px-2 border-e border-zinc-200 py-1.5 border-b text-start\"> 74 </td><td class=\"px-2 border-e border-zinc-200 py-1.5 border-b font-bold text-start\"> Holy See </td><td class=\"px-2 border-e border-zinc-200 text-end py-1.5 border-b font-bold\" data-order=\"501\"> <a class=\"transition-all duration-200 text-lime-600 hover:text-lime-500\" data-country=\"holy-see\" href=\"/world-population/holy-see-population/\">501</a> </td><td class=\"px-2 border-e border-zinc-200 text-end py-1.5 border-b\" data-order=\"0.4\"> 0 </td><td class=\"px-2 border-e border-zinc-200 text-end py-1.5 border-b\" data-order=\"1252.5\"> 1,253 </td> </tr><tr> <td class=\"px-2 border-e border-zinc-200 py-1.5 border-b text-start\"> 75 </td><td class=\"px-2 border-e border-zinc-200 py-1.5 border-b font-bold text-start\"> Honduras </td><td class=\"px-2 border-e border-zinc-200 text-end py-1.5 border-b font-bold\" data-order=\"11005850\"> <a class=\"transition-all duration-200 text-lime-600 hover:text-lime-500\" data-country=\"honduras\" href=\"/world-population/honduras-population/\">11,005,850</a> </td><td class=\"px-2 border-e border-zinc-200 text-end py-1.5 border-b\" data-order=\"111890\"> 111,890 </td><td class=\"px-2 border-e border-zinc-200 text-end py-1.5 border-b\" data-order=\"98.36312449727411\"> 98 </td> </tr><tr> <td class=\"px-2 border-e border-zinc-200 py-1.5 border-b text-start\"> 76 </td><td class=\"px-2 border-e border-zinc-200 py-1.5 border-b font-bold text-start\"> Hungary </td><td class=\"px-2 border-e border-zinc-200 text-end py-1.5 border-b font-bold\" data-order=\"9632287\"> <a class=\"transition-all duration-200 text-lime-600 hover:text-lime-500\" data-country=\"hungary\" href=\"/world-population/hungary-population/\">9,632,287</a> </td><td class=\"px-2 border-e border-zinc-200 text-end py-1.5 border-b\" data-order=\"90530\"> 90,530 </td><td class=\"px-2 border-e border-zinc-200 text-end py-1.5 border-b\" data-order=\"106.39884016348172\"> 106 </td> </tr><tr> <td class=\"px-2 border-e border-zinc-200 py-1.5 border-b text-start\"> 77 </td><td class=\"px-2 border-e border-zinc-200 py-1.5 border-b font-bold text-start\"> Iceland </td><td class=\"px-2 border-e border-zinc-200 text-end py-1.5 border-b font-bold\" data-order=\"398266\"> <a class=\"transition-all duration-200 text-lime-600 hover:text-lime-500\" data-country=\"iceland\" href=\"/world-population/iceland-population/\">398,266</a> </td><td class=\"px-2 border-e border-zinc-200 text-end py-1.5 border-b\" data-order=\"100250\"> 100,250 </td><td class=\"px-2 border-e border-zinc-200 text-end py-1.5 border-b\" data-order=\"3.972728179551122\"> 4 </td> </tr><tr> <td class=\"px-2 border-e border-zinc-200 py-1.5 border-b text-start\"> 78 </td><td class=\"px-2 border-e border-zinc-200 py-1.5 border-b font-bold text-start\"> India </td><td class=\"px-2 border-e border-zinc-200 text-end py-1.5 border-b font-bold\" data-order=\"1463865525\"> <a class=\"transition-all duration-200 text-lime-600 hover:text-lime-500\" data-country=\"india\" href=\"/world-population/india-population/\">1,463,865,525</a> </td><td class=\"px-2 border-e border-zinc-200 text-end py-1.5 border-b\" data-order=\"2973190\"> 2,973,190 </td><td class=\"px-2 border-e border-zinc-200 text-end py-1.5 border-b\" data-order=\"492.35518920755146\"> 492 </td> </tr><tr> <td class=\"px-2 border-e border-zinc-200 py-1.5 border-b text-start\"> 79 </td><td class=\"px-2 border-e border-zinc-200 py-1.5 border-b font-bold text-start\"> Indonesia </td><td class=\"px-2 border-e border-zinc-200 text-end py-1.5 border-b font-bold\" data-order=\"285721236\"> <a class=\"transition-all duration-200 text-lime-600 hover:text-lime-500\" data-country=\"indonesia\" href=\"/world-population/indonesia-population/\">285,721,236</a> </td><td class=\"px-2 border-e border-zinc-200 text-end py-1.5 border-b\" data-order=\"1811570\"> 1,811,570 </td><td class=\"px-2 border-e border-zinc-200 text-end py-1.5 border-b\" data-order=\"157.72022941426496\"> 158 </td> </tr><tr> <td class=\"px-2 border-e border-zinc-200 py-1.5 border-b text-start\"> 80 </td><td class=\"px-2 border-e border-zinc-200 py-1.5 border-b font-bold text-start\"> Iran </td><td class=\"px-2 border-e border-zinc-200 text-end py-1.5 border-b font-bold\" data-order=\"92417681\"> <a class=\"transition-all duration-200 text-lime-600 hover:text-lime-500\" data-country=\"iran\" href=\"/world-population/iran-population/\">92,417,681</a> </td><td class=\"px-2 border-e border-zinc-200 text-end py-1.5 border-b\" data-order=\"1628550\"> 1,628,550 </td><td class=\"px-2 border-e border-zinc-200 text-end py-1.5 border-b\" data-order=\"56.74844554972215\"> 57 </td> </tr><tr> <td class=\"px-2 border-e border-zinc-200 py-1.5 border-b text-start\"> 81 </td><td class=\"px-2 border-e border-zinc-200 py-1.5 border-b font-bold text-start\"> Iraq </td><td class=\"px-2 border-e border-zinc-200 text-end py-1.5 border-b font-bold\" data-order=\"47020774\"> <a class=\"transition-all duration-200 text-lime-600 hover:text-lime-500\" data-country=\"iraq\" href=\"/world-population/iraq-population/\">47,020,774</a> </td><td class=\"px-2 border-e border-zinc-200 text-end py-1.5 border-b\" data-order=\"434320\"> 434,320 </td><td class=\"px-2 border-e border-zinc-200 text-end py-1.5 border-b\" data-order=\"108.26297200221035\"> 108 </td> </tr><tr> <td class=\"px-2 border-e border-zinc-200 py-1.5 border-b text-start\"> 82 </td><td class=\"px-2 border-e border-zinc-200 py-1.5 border-b font-bold text-start\"> Ireland </td><td class=\"px-2 border-e border-zinc-200 text-end py-1.5 border-b font-bold\" data-order=\"5308039\"> <a class=\"transition-all duration-200 text-lime-600 hover:text-lime-500\" data-country=\"ireland\" href=\"/world-population/ireland-population/\">5,308,039</a> </td><td class=\"px-2 border-e border-zinc-200 text-end py-1.5 border-b\" data-order=\"68890\"> 68,890 </td><td class=\"px-2 border-e border-zinc-200 text-end py-1.5 border-b\" data-order=\"77.05093627522136\"> 77 </td> </tr><tr> <td class=\"px-2 border-e border-zinc-200 py-1.5 border-b text-start\"> 83 </td><td class=\"px-2 border-e border-zinc-200 py-1.5 border-b font-bold text-start\"> Israel </td><td class=\"px-2 border-e border-zinc-200 text-end py-1.5 border-b font-bold\" data-order=\"9517181\"> <a class=\"transition-all duration-200 text-lime-600 hover:text-lime-500\" data-country=\"israel\" href=\"/world-population/israel-population/\">9,517,181</a> </td><td class=\"px-2 border-e border-zinc-200 text-end py-1.5 border-b\" data-order=\"21640\"> 21,640 </td><td class=\"px-2 border-e border-zinc-200 text-end py-1.5 border-b\" data-order=\"439.79579482439925\"> 440 </td> </tr><tr> <td class=\"px-2 border-e border-zinc-200 py-1.5 border-b text-start\"> 84 </td><td class=\"px-2 border-e border-zinc-200 py-1.5 border-b font-bold text-start\"> Italy </td><td class=\"px-2 border-e border-zinc-200 text-end py-1.5 border-b font-bold\" data-order=\"59146260\"> <a class=\"transition-all duration-200 text-lime-600 hover:text-lime-500\" data-country=\"italy\" href=\"/world-population/italy-population/\">59,146,260</a> </td><td class=\"px-2 border-e border-zinc-200 text-end py-1.5 border-b\" data-order=\"294140\"> 294,140 </td><td class=\"px-2 border-e border-zinc-200 text-end py-1.5 border-b\" data-order=\"201.08200176786565\"> 201 </td> </tr><tr> <td class=\"px-2 border-e border-zinc-200 py-1.5 border-b text-start\"> 85 </td><td class=\"px-2 border-e border-zinc-200 py-1.5 border-b font-bold text-start\"> Jamaica </td><td class=\"px-2 border-e border-zinc-200 text-end py-1.5 border-b font-bold\" data-order=\"2837077\"> <a class=\"transition-all duration-200 text-lime-600 hover:text-lime-500\" data-country=\"jamaica\" href=\"/world-population/jamaica-population/\">2,837,077</a> </td><td class=\"px-2 border-e border-zinc-200 text-end py-1.5 border-b\" data-order=\"10830\"> 10,830 </td><td class=\"px-2 border-e border-zinc-200 text-end py-1.5 border-b\" data-order=\"261.9646352723915\"> 262 </td> </tr><tr> <td class=\"px-2 border-e border-zinc-200 py-1.5 border-b text-start\"> 86 </td><td class=\"px-2 border-e border-zinc-200 py-1.5 border-b font-bold text-start\"> Japan </td><td class=\"px-2 border-e border-zinc-200 text-end py-1.5 border-b font-bold\" data-order=\"123103479\"> <a class=\"transition-all duration-200 text-lime-600 hover:text-lime-500\" data-country=\"japan\" href=\"/world-population/japan-population/\">123,103,479</a> </td><td class=\"px-2 border-e border-zinc-200 text-end py-1.5 border-b\" data-order=\"364555\"> 364,555 </td><td class=\"px-2 border-e border-zinc-200 text-end py-1.5 border-b\" data-order=\"337.68149936223614\"> 338 </td> </tr><tr> <td class=\"px-2 border-e border-zinc-200 py-1.5 border-b text-start\"> 87 </td><td class=\"px-2 border-e border-zinc-200 py-1.5 border-b font-bold text-start\"> Jordan </td><td class=\"px-2 border-e border-zinc-200 text-end py-1.5 border-b font-bold\" data-order=\"11520684\"> <a class=\"transition-all duration-200 text-lime-600 hover:text-lime-500\" data-country=\"jordan\" href=\"/world-population/jordan-population/\">11,520,684</a> </td><td class=\"px-2 border-e border-zinc-200 text-end py-1.5 border-b\" data-order=\"88780\"> 88,780 </td><td class=\"px-2 border-e border-zinc-200 text-end py-1.5 border-b\" data-order=\"129.7666591574679\"> 130 </td> </tr><tr> <td class=\"px-2 border-e border-zinc-200 py-1.5 border-b text-start\"> 88 </td><td class=\"px-2 border-e border-zinc-200 py-1.5 border-b font-bold text-start\"> Kazakhstan </td><td class=\"px-2 border-e border-zinc-200 text-end py-1.5 border-b font-bold\" data-order=\"20843754\"> <a class=\"transition-all duration-200 text-lime-600 hover:text-lime-500\" data-country=\"kazakhstan\" href=\"/world-population/kazakhstan-population/\">20,843,754</a> </td><td class=\"px-2 border-e border-zinc-200 text-end py-1.5 border-b\" data-order=\"2699700\"> 2,699,700 </td><td class=\"px-2 border-e border-zinc-200 text-end py-1.5 border-b\" data-order=\"7.720766751861318\"> 8 </td> </tr><tr> <td class=\"px-2 border-e border-zinc-200 py-1.5 border-b text-start\"> 89 </td><td class=\"px-2 border-e border-zinc-200 py-1.5 border-b font-bold text-start\"> Kenya </td><td class=\"px-2 border-e border-zinc-200 text-end py-1.5 border-b font-bold\" data-order=\"57532493\"> <a class=\"transition-all duration-200 text-lime-600 hover:text-lime-500\" data-country=\"kenya\" href=\"/world-population/kenya-population/\">57,532,493</a> </td><td class=\"px-2 border-e border-zinc-200 text-end py-1.5 border-b\" data-order=\"569140\"> 569,140 </td><td class=\"px-2 border-e border-zinc-200 text-end py-1.5 border-b\" data-order=\"101.08671504375022\"> 101 </td> </tr><tr> <td class=\"px-2 border-e border-zinc-200 py-1.5 border-b text-start\"> 90 </td><td class=\"px-2 border-e border-zinc-200 py-1.5 border-b font-bold text-start\"> Kiribati </td><td class=\"px-2 border-e border-zinc-200 text-end py-1.5 border-b font-bold\" data-order=\"136488\"> <a class=\"transition-all duration-200 text-lime-600 hover:text-lime-500\" data-country=\"kiribati\" href=\"/world-population/kiribati-population/\">136,488</a> </td><td class=\"px-2 border-e border-zinc-200 text-end py-1.5 border-b\" data-order=\"810\"> 810 </td><td class=\"px-2 border-e border-zinc-200 text-end py-1.5 border-b\" data-order=\"168.5037037037037\"> 169 </td> </tr><tr> <td class=\"px-2 border-e border-zinc-200 py-1.5 border-b text-start\"> 91 </td><td class=\"px-2 border-e border-zinc-200 py-1.5 border-b font-bold text-start\"> Kuwait </td><td class=\"px-2 border-e border-zinc-200 text-end py-1.5 border-b font-bold\" data-order=\"5026078\"> <a class=\"transition-all duration-200 text-lime-600 hover:text-lime-500\" data-country=\"kuwait\" href=\"/world-population/kuwait-population/\">5,026,078</a> </td><td class=\"px-2 border-e border-zinc-200 text-end py-1.5 border-b\" data-order=\"17820\"> 17,820 </td><td class=\"px-2 border-e border-zinc-200 text-end py-1.5 border-b\" data-order=\"282.04702581369247\"> 282 </td> </tr><tr> <td class=\"px-2 border-e border-zinc-200 py-1.5 border-b text-start\"> 92 </td><td class=\"px-2 border-e border-zinc-200 py-1.5 border-b font-bold text-start\"> Kyrgyzstan </td><td class=\"px-2 border-e border-zinc-200 text-end py-1.5 border-b font-bold\" data-order=\"7295034\"> <a class=\"transition-all duration-200 text-lime-600 hover:text-lime-500\" data-country=\"kyrgyzstan\" href=\"/world-population/kyrgyzstan-population/\">7,295,034</a> </td><td class=\"px-2 border-e border-zinc-200 text-end py-1.5 border-b\" data-order=\"191800\"> 191,800 </td><td class=\"px-2 border-e border-zinc-200 text-end py-1.5 border-b\" data-order=\"38.03458811261731\"> 38 </td> </tr><tr> <td class=\"px-2 border-e border-zinc-200 py-1.5 border-b text-start\"> 93 </td><td class=\"px-2 border-e border-zinc-200 py-1.5 border-b font-bold text-start\"> Laos </td><td class=\"px-2 border-e border-zinc-200 text-end py-1.5 border-b font-bold\" data-order=\"7873046\"> <a class=\"transition-all duration-200 text-lime-600 hover:text-lime-500\" data-country=\"laos\" href=\"/world-population/laos-population/\">7,873,046</a> </td><td class=\"px-2 border-e border-zinc-200 text-end py-1.5 border-b\" data-order=\"230800\"> 230,800 </td><td class=\"px-2 border-e border-zinc-200 text-end py-1.5 border-b\" data-order=\"34.11198440207972\"> 34 </td> </tr><tr> <td class=\"px-2 border-e border-zinc-200 py-1.5 border-b text-start\"> 94 </td><td class=\"px-2 border-e border-zinc-200 py-1.5 border-b font-bold text-start\"> Latvia </td><td class=\"px-2 border-e border-zinc-200 text-end py-1.5 border-b font-bold\" data-order=\"1853559\"> <a class=\"transition-all duration-200 text-lime-600 hover:text-lime-500\" data-country=\"latvia\" href=\"/world-population/latvia-population/\">1,853,559</a> </td><td class=\"px-2 border-e border-zinc-200 text-end py-1.5 border-b\" data-order=\"62200\"> 62,200 </td><td class=\"px-2 border-e border-zinc-200 text-end py-1.5 border-b\" data-order=\"29.799983922829583\"> 30 </td> </tr><tr> <td class=\"px-2 border-e border-zinc-200 py-1.5 border-b text-start\"> 95 </td><td class=\"px-2 border-e border-zinc-200 py-1.5 border-b font-bold text-start\"> Lebanon </td><td class=\"px-2 border-e border-zinc-200 text-end py-1.5 border-b font-bold\" data-order=\"5849421\"> <a class=\"transition-all duration-200 text-lime-600 hover:text-lime-500\" data-country=\"lebanon\" href=\"/world-population/lebanon-population/\">5,849,421</a> </td><td class=\"px-2 border-e border-zinc-200 text-end py-1.5 border-b\" data-order=\"10230\"> 10,230 </td><td class=\"px-2 border-e border-zinc-200 text-end py-1.5 border-b\" data-order=\"571.790909090909\"> 572 </td> </tr><tr> <td class=\"px-2 border-e border-zinc-200 py-1.5 border-b text-start\"> 96 </td><td class=\"px-2 border-e border-zinc-200 py-1.5 border-b font-bold text-start\"> Lesotho </td><td class=\"px-2 border-e border-zinc-200 text-end py-1.5 border-b font-bold\" data-order=\"2363325\"> <a class=\"transition-all duration-200 text-lime-600 hover:text-lime-500\" data-country=\"lesotho\" href=\"/world-population/lesotho-population/\">2,363,325</a> </td><td class=\"px-2 border-e border-zinc-200 text-end py-1.5 border-b\" data-order=\"30360\"> 30,360 </td><td class=\"px-2 border-e border-zinc-200 text-end py-1.5 border-b\" data-order=\"77.84337944664031\"> 78 </td> </tr><tr> <td class=\"px-2 border-e border-zinc-200 py-1.5 border-b text-start\"> 97 </td><td class=\"px-2 border-e border-zinc-200 py-1.5 border-b font-bold text-start\"> Liberia </td><td class=\"px-2 border-e border-zinc-200 text-end py-1.5 border-b font-bold\" data-order=\"5731206\"> <a class=\"transition-all duration-200 text-lime-600 hover:text-lime-500\" data-country=\"liberia\" href=\"/world-population/liberia-population/\">5,731,206</a> </td><td class=\"px-2 border-e border-zinc-200 text-end py-1.5 border-b\" data-order=\"96320\"> 96,320 </td><td class=\"px-2 border-e border-zinc-200 text-end py-1.5 border-b\" data-order=\"59.50172342192691\"> 60 </td> </tr><tr> <td class=\"px-2 border-e border-zinc-200 py-1.5 border-b text-start\"> 98 </td><td class=\"px-2 border-e border-zinc-200 py-1.5 border-b font-bold text-start\"> Libya </td><td class=\"px-2 border-e border-zinc-200 text-end py-1.5 border-b font-bold\" data-order=\"7458555\"> <a class=\"transition-all duration-200 text-lime-600 hover:text-lime-500\" data-country=\"libya\" href=\"/world-population/libya-population/\">7,458,555</a> </td><td class=\"px-2 border-e border-zinc-200 text-end py-1.5 border-b\" data-order=\"1759540\"> 1,759,540 </td><td class=\"px-2 border-e border-zinc-200 text-end py-1.5 border-b\" data-order=\"4.238923241301704\"> 4 </td> </tr><tr> <td class=\"px-2 border-e border-zinc-200 py-1.5 border-b text-start\"> 99 </td><td class=\"px-2 border-e border-zinc-200 py-1.5 border-b font-bold text-start\"> Liechtenstein </td><td class=\"px-2 border-e border-zinc-200 text-end py-1.5 border-b font-bold\" data-order=\"40128\"> <a class=\"transition-all duration-200 text-lime-600 hover:text-lime-500\" data-country=\"liechtenstein\" href=\"/world-population/liechtenstein-population/\">40,128</a> </td><td class=\"px-2 border-e border-zinc-200 text-end py-1.5 border-b\" data-order=\"160\"> 160 </td><td class=\"px-2 border-e border-zinc-200 text-end py-1.5 border-b\" data-order=\"250.8\"> 251 </td> </tr><tr> <td class=\"px-2 border-e border-zinc-200 py-1.5 border-b text-start\"> 100 </td><td class=\"px-2 border-e border-zinc-200 py-1.5 border-b font-bold text-start\"> Lithuania </td><td class=\"px-2 border-e border-zinc-200 text-end py-1.5 border-b font-bold\" data-order=\"2830144\"> <a class=\"transition-all duration-200 text-lime-600 hover:text-lime-500\" data-country=\"lithuania\" href=\"/world-population/lithuania-population/\">2,830,144</a> </td><td class=\"px-2 border-e border-zinc-200 text-end py-1.5 border-b\" data-order=\"62674\"> 62,674 </td><td class=\"px-2 border-e border-zinc-200 text-end py-1.5 border-b\" data-order=\"45.15658805884418\"> 45 </td> </tr><tr> <td class=\"px-2 border-e border-zinc-200 py-1.5 border-b text-start\"> 101 </td><td class=\"px-2 border-e border-zinc-200 py-1.5 border-b font-bold text-start\"> Luxembourg </td><td class=\"px-2 border-e border-zinc-200 text-end py-1.5 border-b font-bold\" data-order=\"680453\"> <a class=\"transition-all duration-200 text-lime-600 hover:text-lime-500\" data-country=\"luxembourg\" href=\"/world-population/luxembourg-population/\">680,453</a> </td><td class=\"px-2 border-e border-zinc-200 text-end py-1.5 border-b\" data-order=\"2590\"> 2,590 </td><td class=\"px-2 border-e border-zinc-200 text-end py-1.5 border-b\" data-order=\"262.723166023166\"> 263 </td> </tr><tr> <td class=\"px-2 border-e border-zinc-200 py-1.5 border-b text-start\"> 102 </td><td class=\"px-2 border-e border-zinc-200 py-1.5 border-b font-bold text-start\"> Madagascar </td><td class=\"px-2 border-e border-zinc-200 text-end py-1.5 border-b font-bold\" data-order=\"32740678\"> <a class=\"transition-all duration-200 text-lime-600 hover:text-lime-500\" data-country=\"madagascar\" href=\"/world-population/madagascar-population/\">32,740,678</a> </td><td class=\"px-2 border-e border-zinc-200 text-end py-1.5 border-b\" data-order=\"581795\"> 581,795 </td><td class=\"px-2 border-e border-zinc-200 text-end py-1.5 border-b\" data-order=\"56.27528253078834\"> 56 </td> </tr><tr> <td class=\"px-2 border-e border-zinc-200 py-1.5 border-b text-start\"> 103 </td><td class=\"px-2 border-e border-zinc-200 py-1.5 border-b font-bold text-start\"> Malawi </td><td class=\"px-2 border-e border-zinc-200 text-end py-1.5 border-b font-bold\" data-order=\"22216120\"> <a class=\"transition-all duration-200 text-lime-600 hover:text-lime-500\" data-country=\"malawi\" href=\"/world-population/malawi-population/\">22,216,120</a> </td><td class=\"px-2 border-e border-zinc-200 text-end py-1.5 border-b\" data-order=\"94280\"> 94,280 </td><td class=\"px-2 border-e border-zinc-200 text-end py-1.5 border-b\" data-order=\"235.63979635129402\"> 236 </td> </tr><tr> <td class=\"px-2 border-e border-zinc-200 py-1.5 border-b text-start\"> 104 </td><td class=\"px-2 border-e border-zinc-200 py-1.5 border-b font-bold text-start\"> Malaysia </td><td class=\"px-2 border-e border-zinc-200 text-end py-1.5 border-b font-bold\" data-order=\"35977838\"> <a class=\"transition-all duration-200 text-lime-600 hover:text-lime-500\" data-country=\"malaysia\" href=\"/world-population/malaysia-population/\">35,977,838</a> </td><td class=\"px-2 border-e border-zinc-200 text-end py-1.5 border-b\" data-order=\"328550\"> 328,550 </td><td class=\"px-2 border-e border-zinc-200 text-end py-1.5 border-b\" data-order=\"109.50490945061634\"> 110 </td> </tr><tr> <td class=\"px-2 border-e border-zinc-200 py-1.5 border-b text-start\"> 105 </td><td class=\"px-2 border-e border-zinc-200 py-1.5 border-b font-bold text-start\"> Maldives </td><td class=\"px-2 border-e border-zinc-200 text-end py-1.5 border-b font-bold\" data-order=\"529676\"> <a class=\"transition-all duration-200 text-lime-600 hover:text-lime-500\" data-country=\"maldives\" href=\"/world-population/maldives-population/\">529,676</a> </td><td class=\"px-2 border-e border-zinc-200 text-end py-1.5 border-b\" data-order=\"300\"> 300 </td><td class=\"px-2 border-e border-zinc-200 text-end py-1.5 border-b\" data-order=\"1765.5866666666666\"> 1,766 </td> </tr><tr> <td class=\"px-2 border-e border-zinc-200 py-1.5 border-b text-start\"> 106 </td><td class=\"px-2 border-e border-zinc-200 py-1.5 border-b font-bold text-start\"> Mali </td><td class=\"px-2 border-e border-zinc-200 text-end py-1.5 border-b font-bold\" data-order=\"25198821\"> <a class=\"transition-all duration-200 text-lime-600 hover:text-lime-500\" data-country=\"mali\" href=\"/world-population/mali-population/\">25,198,821</a> </td><td class=\"px-2 border-e border-zinc-200 text-end py-1.5 border-b\" data-order=\"1220190\"> 1,220,190 </td><td class=\"px-2 border-e border-zinc-200 text-end py-1.5 border-b\" data-order=\"20.651555085683377\"> 21 </td> </tr><tr> <td class=\"px-2 border-e border-zinc-200 py-1.5 border-b text-start\"> 107 </td><td class=\"px-2 border-e border-zinc-200 py-1.5 border-b font-bold text-start\"> Malta </td><td class=\"px-2 border-e border-zinc-200 text-end py-1.5 border-b font-bold\" data-order=\"545405\"> <a class=\"transition-all duration-200 text-lime-600 hover:text-lime-500\" data-country=\"malta\" href=\"/world-population/malta-population/\">545,405</a> </td><td class=\"px-2 border-e border-zinc-200 text-end py-1.5 border-b\" data-order=\"320\"> 320 </td><td class=\"px-2 border-e border-zinc-200 text-end py-1.5 border-b\" data-order=\"1704.390625\"> 1,704 </td> </tr><tr> <td class=\"px-2 border-e border-zinc-200 py-1.5 border-b text-start\"> 108 </td><td class=\"px-2 border-e border-zinc-200 py-1.5 border-b font-bold text-start\"> Marshall Islands </td><td class=\"px-2 border-e border-zinc-200 text-end py-1.5 border-b font-bold\" data-order=\"36282\"> <a class=\"transition-all duration-200 text-lime-600 hover:text-lime-500\" data-country=\"marshall-islands\" href=\"/world-population/marshall-islands-population/\">36,282</a> </td><td class=\"px-2 border-e border-zinc-200 text-end py-1.5 border-b\" data-order=\"180\"> 180 </td><td class=\"px-2 border-e border-zinc-200 text-end py-1.5 border-b\" data-order=\"201.56666666666666\"> 202 </td> </tr><tr> <td class=\"px-2 border-e border-zinc-200 py-1.5 border-b text-start\"> 109 </td><td class=\"px-2 border-e border-zinc-200 py-1.5 border-b font-bold text-start\"> Mauritania </td><td class=\"px-2 border-e border-zinc-200 text-end py-1.5 border-b font-bold\" data-order=\"5315065\"> <a class=\"transition-all duration-200 text-lime-600 hover:text-lime-500\" data-country=\"mauritania\" href=\"/world-population/mauritania-population/\">5,315,065</a> </td><td class=\"px-2 border-e border-zinc-200 text-end py-1.5 border-b\" data-order=\"1030700\"> 1,030,700 </td><td class=\"px-2 border-e border-zinc-200 text-end py-1.5 border-b\" data-order=\"5.156752692345008\"> 5 </td> </tr><tr> <td class=\"px-2 border-e border-zinc-200 py-1.5 border-b text-start\"> 110 </td><td class=\"px-2 border-e border-zinc-200 py-1.5 border-b font-bold text-start\"> Mauritius </td><td class=\"px-2 border-e border-zinc-200 text-end py-1.5 border-b font-bold\" data-order=\"1268280\"> <a class=\"transition-all duration-200 text-lime-600 hover:text-lime-500\" data-country=\"mauritius\" href=\"/world-population/mauritius-population/\">1,268,280</a> </td><td class=\"px-2 border-e border-zinc-200 text-end py-1.5 border-b\" data-order=\"2030\"> 2,030 </td><td class=\"px-2 border-e border-zinc-200 text-end py-1.5 border-b\" data-order=\"624.768472906404\"> 625 </td> </tr><tr> <td class=\"px-2 border-e border-zinc-200 py-1.5 border-b text-start\"> 111 </td><td class=\"px-2 border-e border-zinc-200 py-1.5 border-b font-bold text-start\"> Mexico </td><td class=\"px-2 border-e border-zinc-200 text-end py-1.5 border-b font-bold\" data-order=\"131946900\"> <a class=\"transition-all duration-200 text-lime-600 hover:text-lime-500\" data-country=\"mexico\" href=\"/world-population/mexico-population/\">131,946,900</a> </td><td class=\"px-2 border-e border-zinc-200 text-end py-1.5 border-b\" data-order=\"1943950\"> 1,943,950 </td><td class=\"px-2 border-e border-zinc-200 text-end py-1.5 border-b\" data-order=\"67.87566552637671\"> 68 </td> </tr><tr> <td class=\"px-2 border-e border-zinc-200 py-1.5 border-b text-start\"> 112 </td><td class=\"px-2 border-e border-zinc-200 py-1.5 border-b font-bold text-start\"> Micronesia </td><td class=\"px-2 border-e border-zinc-200 text-end py-1.5 border-b font-bold\" data-order=\"113683\"> <a class=\"transition-all duration-200 text-lime-600 hover:text-lime-500\" data-country=\"micronesia\" href=\"/world-population/micronesia-population/\">113,683</a> </td><td class=\"px-2 border-e border-zinc-200 text-end py-1.5 border-b\" data-order=\"700\"> 700 </td><td class=\"px-2 border-e border-zinc-200 text-end py-1.5 border-b\" data-order=\"162.40428571428572\"> 162 </td> </tr><tr> <td class=\"px-2 border-e border-zinc-200 py-1.5 border-b text-start\"> 113 </td><td class=\"px-2 border-e border-zinc-200 py-1.5 border-b font-bold text-start\"> Moldova </td><td class=\"px-2 border-e border-zinc-200 text-end py-1.5 border-b font-bold\" data-order=\"2996106\"> <a class=\"transition-all duration-200 text-lime-600 hover:text-lime-500\" data-country=\"moldova\" href=\"/world-population/moldova-population/\">2,996,106</a> </td><td class=\"px-2 border-e border-zinc-200 text-end py-1.5 border-b\" data-order=\"32850\"> 32,850 </td><td class=\"px-2 border-e border-zinc-200 text-end py-1.5 border-b\" data-order=\"91.20566210045662\"> 91 </td> </tr><tr> <td class=\"px-2 border-e border-zinc-200 py-1.5 border-b text-start\"> 114 </td><td class=\"px-2 border-e border-zinc-200 py-1.5 border-b font-bold text-start\"> Monaco </td><td class=\"px-2 border-e border-zinc-200 text-end py-1.5 border-b font-bold\" data-order=\"38341\"> <a class=\"transition-all duration-200 text-lime-600 hover:text-lime-500\" data-country=\"monaco\" href=\"/world-population/monaco-population/\">38,341</a> </td><td class=\"px-2 border-e border-zinc-200 text-end py-1.5 border-b\" data-order=\"1.49\"> 1 </td><td class=\"px-2 border-e border-zinc-200 text-end py-1.5 border-b\" data-order=\"25732.21476510067\"> 25,732 </td> </tr><tr> <td class=\"px-2 border-e border-zinc-200 py-1.5 border-b text-start\"> 115 </td><td class=\"px-2 border-e border-zinc-200 py-1.5 border-b font-bold text-start\"> Mongolia </td><td class=\"px-2 border-e border-zinc-200 text-end py-1.5 border-b font-bold\" data-order=\"3517100\"> <a class=\"transition-all duration-200 text-lime-600 hover:text-lime-500\" data-country=\"mongolia\" href=\"/world-population/mongolia-population/\">3,517,100</a> </td><td class=\"px-2 border-e border-zinc-200 text-end py-1.5 border-b\" data-order=\"1553560\"> 1,553,560 </td><td class=\"px-2 border-e border-zinc-200 text-end py-1.5 border-b\" data-order=\"2.263897113725894\"> 2 </td> </tr><tr> <td class=\"px-2 border-e border-zinc-200 py-1.5 border-b text-start\"> 116 </td><td class=\"px-2 border-e border-zinc-200 py-1.5 border-b font-bold text-start\"> Montenegro </td><td class=\"px-2 border-e border-zinc-200 text-end py-1.5 border-b font-bold\" data-order=\"632729\"> <a class=\"transition-all duration-200 text-lime-600 hover:text-lime-500\" data-country=\"montenegro\" href=\"/world-population/montenegro-population/\">632,729</a> </td><td class=\"px-2 border-e border-zinc-200 text-end py-1.5 border-b\" data-order=\"13450\"> 13,450 </td><td class=\"px-2 border-e border-zinc-200 text-end py-1.5 border-b\" data-order=\"47.04304832713755\"> 47 </td> </tr><tr> <td class=\"px-2 border-e border-zinc-200 py-1.5 border-b text-start\"> 117 </td><td class=\"px-2 border-e border-zinc-200 py-1.5 border-b font-bold text-start\"> Morocco </td><td class=\"px-2 border-e border-zinc-200 text-end py-1.5 border-b font-bold\" data-order=\"38430770\"> <a class=\"transition-all duration-200 text-lime-600 hover:text-lime-500\" data-country=\"morocco\" href=\"/world-population/morocco-population/\">38,430,770</a> </td><td class=\"px-2 border-e border-zinc-200 text-end py-1.5 border-b\" data-order=\"446300\"> 446,300 </td><td class=\"px-2 border-e border-zinc-200 text-end py-1.5 border-b\" data-order=\"86.10972440062739\"> 86 </td> </tr><tr> <td class=\"px-2 border-e border-zinc-200 py-1.5 border-b text-start\"> 118 </td><td class=\"px-2 border-e border-zinc-200 py-1.5 border-b font-bold text-start\"> Mozambique </td><td class=\"px-2 border-e border-zinc-200 text-end py-1.5 border-b font-bold\" data-order=\"35631653\"> <a class=\"transition-all duration-200 text-lime-600 hover:text-lime-500\" data-country=\"mozambique\" href=\"/world-population/mozambique-population/\">35,631,653</a> </td><td class=\"px-2 border-e border-zinc-200 text-end py-1.5 border-b\" data-order=\"786380\"> 786,380 </td><td class=\"px-2 border-e border-zinc-200 text-end py-1.5 border-b\" data-order=\"45.31098578295481\"> 45 </td> </tr><tr> <td class=\"px-2 border-e border-zinc-200 py-1.5 border-b text-start\"> 119 </td><td class=\"px-2 border-e border-zinc-200 py-1.5 border-b font-bold text-start\"> Myanmar (formerly Burma) </td><td class=\"px-2 border-e border-zinc-200 text-end py-1.5 border-b font-bold\" data-order=\"54850648\"> <a class=\"transition-all duration-200 text-lime-600 hover:text-lime-500\" data-country=\"myanmar\" href=\"/world-population/myanmar-population/\">54,850,648</a> </td><td class=\"px-2 border-e border-zinc-200 text-end py-1.5 border-b\" data-order=\"653290\"> 653,290 </td><td class=\"px-2 border-e border-zinc-200 text-end py-1.5 border-b\" data-order=\"83.96064228749866\"> 84 </td> </tr><tr> <td class=\"px-2 border-e border-zinc-200 py-1.5 border-b text-start\"> 120 </td><td class=\"px-2 border-e border-zinc-200 py-1.5 border-b font-bold text-start\"> Namibia </td><td class=\"px-2 border-e border-zinc-200 text-end py-1.5 border-b font-bold\" data-order=\"3092816\"> <a class=\"transition-all duration-200 text-lime-600 hover:text-lime-500\" data-country=\"namibia\" href=\"/world-population/namibia-population/\">3,092,816</a> </td><td class=\"px-2 border-e border-zinc-200 text-end py-1.5 border-b\" data-order=\"823290\"> 823,290 </td><td class=\"px-2 border-e border-zinc-200 text-end py-1.5 border-b\" data-order=\"3.7566543988145127\"> 4 </td> </tr><tr> <td class=\"px-2 border-e border-zinc-200 py-1.5 border-b text-start\"> 121 </td><td class=\"px-2 border-e border-zinc-200 py-1.5 border-b font-bold text-start\"> Nauru </td><td class=\"px-2 border-e border-zinc-200 text-end py-1.5 border-b font-bold\" data-order=\"12025\"> <a class=\"transition-all duration-200 text-lime-600 hover:text-lime-500\" data-country=\"nauru\" href=\"/world-population/nauru-population/\">12,025</a> </td><td class=\"px-2 border-e border-zinc-200 text-end py-1.5 border-b\" data-order=\"20\"> 20 </td><td class=\"px-2 border-e border-zinc-200 text-end py-1.5 border-b\" data-order=\"601.25\"> 601 </td> </tr><tr> <td class=\"px-2 border-e border-zinc-200 py-1.5 border-b text-start\"> 122 </td><td class=\"px-2 border-e border-zinc-200 py-1.5 border-b font-bold text-start\"> Nepal </td><td class=\"px-2 border-e border-zinc-200 text-end py-1.5 border-b font-bold\" data-order=\"29618118\"> <a class=\"transition-all duration-200 text-lime-600 hover:text-lime-500\" data-country=\"nepal\" href=\"/world-population/nepal-population/\">29,618,118</a> </td><td class=\"px-2 border-e border-zinc-200 text-end py-1.5 border-b\" data-order=\"143350\"> 143,350 </td><td class=\"px-2 border-e border-zinc-200 text-end py-1.5 border-b\" data-order=\"206.61400767352634\"> 207 </td> </tr><tr> <td class=\"px-2 border-e border-zinc-200 py-1.5 border-b text-start\"> 123 </td><td class=\"px-2 border-e border-zinc-200 py-1.5 border-b font-bold text-start\"> Netherlands </td><td class=\"px-2 border-e border-zinc-200 text-end py-1.5 border-b font-bold\" data-order=\"18346819\"> <a class=\"transition-all duration-200 text-lime-600 hover:text-lime-500\" data-country=\"netherlands\" href=\"/world-population/netherlands-population/\">18,346,819</a> </td><td class=\"px-2 border-e border-zinc-200 text-end py-1.5 border-b\" data-order=\"33720\"> 33,720 </td><td class=\"px-2 border-e border-zinc-200 text-end py-1.5 border-b\" data-order=\"544.0930901542112\"> 544 </td> </tr><tr> <td class=\"px-2 border-e border-zinc-200 py-1.5 border-b text-start\"> 124 </td><td class=\"px-2 border-e border-zinc-200 py-1.5 border-b font-bold text-start\"> New Zealand </td><td class=\"px-2 border-e border-zinc-200 text-end py-1.5 border-b font-bold\" data-order=\"5251899\"> <a class=\"transition-all duration-200 text-lime-600 hover:text-lime-500\" data-country=\"new-zealand\" href=\"/world-population/new-zealand-population/\">5,251,899</a> </td><td class=\"px-2 border-e border-zinc-200 text-end py-1.5 border-b\" data-order=\"263310\"> 263,310 </td><td class=\"px-2 border-e border-zinc-200 text-end py-1.5 border-b\" data-order=\"19.945687592571495\"> 20 </td> </tr><tr> <td class=\"px-2 border-e border-zinc-200 py-1.5 border-b text-start\"> 125 </td><td class=\"px-2 border-e border-zinc-200 py-1.5 border-b font-bold text-start\"> Nicaragua </td><td class=\"px-2 border-e border-zinc-200 text-end py-1.5 border-b font-bold\" data-order=\"7007502\"> <a class=\"transition-all duration-200 text-lime-600 hover:text-lime-500\" data-country=\"nicaragua\" href=\"/world-population/nicaragua-population/\">7,007,502</a> </td><td class=\"px-2 border-e border-zinc-200 text-end py-1.5 border-b\" data-order=\"120340\"> 120,340 </td><td class=\"px-2 border-e border-zinc-200 text-end py-1.5 border-b\" data-order=\"58.230862556091076\"> 58 </td> </tr><tr> <td class=\"px-2 border-e border-zinc-200 py-1.5 border-b text-start\"> 126 </td><td class=\"px-2 border-e border-zinc-200 py-1.5 border-b font-bold text-start\"> Niger </td><td class=\"px-2 border-e border-zinc-200 text-end py-1.5 border-b font-bold\" data-order=\"27917831\"> <a class=\"transition-all duration-200 text-lime-600 hover:text-lime-500\" data-country=\"niger\" href=\"/world-population/niger-population/\">27,917,831</a> </td><td class=\"px-2 border-e border-zinc-200 text-end py-1.5 border-b\" data-order=\"1266700\"> 1,266,700 </td><td class=\"px-2 border-e border-zinc-200 text-end py-1.5 border-b\" data-order=\"22.039812899660536\"> 22 </td> </tr><tr> <td class=\"px-2 border-e border-zinc-200 py-1.5 border-b text-start\"> 127 </td><td class=\"px-2 border-e border-zinc-200 py-1.5 border-b font-bold text-start\"> Nigeria </td><td class=\"px-2 border-e border-zinc-200 text-end py-1.5 border-b font-bold\" data-order=\"237527782\"> <a class=\"transition-all duration-200 text-lime-600 hover:text-lime-500\" data-country=\"nigeria\" href=\"/world-population/nigeria-population/\">237,527,782</a> </td><td class=\"px-2 border-e border-zinc-200 text-end py-1.5 border-b\" data-order=\"910770\"> 910,770 </td><td class=\"px-2 border-e border-zinc-200 text-end py-1.5 border-b\" data-order=\"260.79886469690484\"> 261 </td> </tr><tr> <td class=\"px-2 border-e border-zinc-200 py-1.5 border-b text-start\"> 128 </td><td class=\"px-2 border-e border-zinc-200 py-1.5 border-b font-bold text-start\"> North Korea </td><td class=\"px-2 border-e border-zinc-200 text-end py-1.5 border-b font-bold\" data-order=\"26571036\"> <a class=\"transition-all duration-200 text-lime-600 hover:text-lime-500\" data-country=\"north-korea\" href=\"/world-population/north-korea-population/\">26,571,036</a> </td><td class=\"px-2 border-e border-zinc-200 text-end py-1.5 border-b\" data-order=\"120410\"> 120,410 </td><td class=\"px-2 border-e border-zinc-200 text-end py-1.5 border-b\" data-order=\"220.67133958973508\"> 221 </td> </tr><tr> <td class=\"px-2 border-e border-zinc-200 py-1.5 border-b text-start\"> 129 </td><td class=\"px-2 border-e border-zinc-200 py-1.5 border-b font-bold text-start\"> North Macedonia </td><td class=\"px-2 border-e border-zinc-200 text-end py-1.5 border-b font-bold\" data-order=\"1813791\"> <a class=\"transition-all duration-200 text-lime-600 hover:text-lime-500\" data-country=\"north-macedonia\" href=\"/world-population/north-macedonia-population/\">1,813,791</a> </td><td class=\"px-2 border-e border-zinc-200 text-end py-1.5 border-b\" data-order=\"25220\"> 25,220 </td><td class=\"px-2 border-e border-zinc-200 text-end py-1.5 border-b\" data-order=\"71.91875495638382\"> 72 </td> </tr><tr> <td class=\"px-2 border-e border-zinc-200 py-1.5 border-b text-start\"> 130 </td><td class=\"px-2 border-e border-zinc-200 py-1.5 border-b font-bold text-start\"> Norway </td><td class=\"px-2 border-e border-zinc-200 text-end py-1.5 border-b font-bold\" data-order=\"5623071\"> <a class=\"transition-all duration-200 text-lime-600 hover:text-lime-500\" data-country=\"norway\" href=\"/world-population/norway-population/\">5,623,071</a> </td><td class=\"px-2 border-e border-zinc-200 text-end py-1.5 border-b\" data-order=\"365268\"> 365,268 </td><td class=\"px-2 border-e border-zinc-200 text-end py-1.5 border-b\" data-order=\"15.394370708630376\"> 15 </td> </tr><tr> <td class=\"px-2 border-e border-zinc-200 py-1.5 border-b text-start\"> 131 </td><td class=\"px-2 border-e border-zinc-200 py-1.5 border-b font-bold text-start\"> Oman </td><td class=\"px-2 border-e border-zinc-200 text-end py-1.5 border-b font-bold\" data-order=\"5494691\"> <a class=\"transition-all duration-200 text-lime-600 hover:text-lime-500\" data-country=\"oman\" href=\"/world-population/oman-population/\">5,494,691</a> </td><td class=\"px-2 border-e border-zinc-200 text-end py-1.5 border-b\" data-order=\"309500\"> 309,500 </td><td class=\"px-2 border-e border-zinc-200 text-end py-1.5 border-b\" data-order=\"17.753444264943457\"> 18 </td> </tr><tr> <td class=\"px-2 border-e border-zinc-200 py-1.5 border-b text-start\"> 132 </td><td class=\"px-2 border-e border-zinc-200 py-1.5 border-b font-bold text-start\"> Pakistan </td><td class=\"px-2 border-e border-zinc-200 text-end py-1.5 border-b font-bold\" data-order=\"255219554\"> <a class=\"transition-all duration-200 text-lime-600 hover:text-lime-500\" data-country=\"pakistan\" href=\"/world-population/pakistan-population/\">255,219,554</a> </td><td class=\"px-2 border-e border-zinc-200 text-end py-1.5 border-b\" data-order=\"770880\"> 770,880 </td><td class=\"px-2 border-e border-zinc-200 text-end py-1.5 border-b\" data-order=\"331.07559412619344\"> 331 </td> </tr><tr> <td class=\"px-2 border-e border-zinc-200 py-1.5 border-b text-start\"> 133 </td><td class=\"px-2 border-e border-zinc-200 py-1.5 border-b font-bold text-start\"> Palau </td><td class=\"px-2 border-e border-zinc-200 text-end py-1.5 border-b font-bold\" data-order=\"17663\"> <a class=\"transition-all duration-200 text-lime-600 hover:text-lime-500\" data-country=\"palau\" href=\"/world-population/palau-population/\">17,663</a> </td><td class=\"px-2 border-e border-zinc-200 text-end py-1.5 border-b\" data-order=\"460\"> 460 </td><td class=\"px-2 border-e border-zinc-200 text-end py-1.5 border-b\" data-order=\"38.39782608695652\"> 38 </td> </tr><tr> <td class=\"px-2 border-e border-zinc-200 py-1.5 border-b text-start\"> 134 </td><td class=\"px-2 border-e border-zinc-200 py-1.5 border-b font-bold text-start\"> Palestine State </td><td class=\"px-2 border-e border-zinc-200 text-end py-1.5 border-b font-bold\" data-order=\"5589623\"> <a class=\"transition-all duration-200 text-lime-600 hover:text-lime-500\" data-country=\"state-of-palestine\" href=\"/world-population/state-of-palestine-population/\">5,589,623</a> </td><td class=\"px-2 border-e border-zinc-200 text-end py-1.5 border-b\" data-order=\"6020\"> 6,020 </td><td class=\"px-2 border-e border-zinc-200 text-end py-1.5 border-b\" data-order=\"928.508803986711\"> 929 </td> </tr><tr> <td class=\"px-2 border-e border-zinc-200 py-1.5 border-b text-start\"> 135 </td><td class=\"px-2 border-e border-zinc-200 py-1.5 border-b font-bold text-start\"> Panama </td><td class=\"px-2 border-e border-zinc-200 text-end py-1.5 border-b font-bold\" data-order=\"4571189\"> <a class=\"transition-all duration-200 text-lime-600 hover:text-lime-500\" data-country=\"panama\" href=\"/world-population/panama-population/\">4,571,189</a> </td><td class=\"px-2 border-e border-zinc-200 text-end py-1.5 border-b\" data-order=\"74340\"> 74,340 </td><td class=\"px-2 border-e border-zinc-200 text-end py-1.5 border-b\" data-order=\"61.49030131826742\"> 61 </td> </tr><tr> <td class=\"px-2 border-e border-zinc-200 py-1.5 border-b text-start\"> 136 </td><td class=\"px-2 border-e border-zinc-200 py-1.5 border-b font-bold text-start\"> Papua New Guinea </td><td class=\"px-2 border-e border-zinc-200 text-end py-1.5 border-b font-bold\" data-order=\"10762817\"> <a class=\"transition-all duration-200 text-lime-600 hover:text-lime-500\" data-country=\"papua-new-guinea\" href=\"/world-population/papua-new-guinea-population/\">10,762,817</a> </td><td class=\"px-2 border-e border-zinc-200 text-end py-1.5 border-b\" data-order=\"452860\"> 452,860 </td><td class=\"px-2 border-e border-zinc-200 text-end py-1.5 border-b\" data-order=\"23.76632292540741\"> 24 </td> </tr><tr> <td class=\"px-2 border-e border-zinc-200 py-1.5 border-b text-start\"> 137 </td><td class=\"px-2 border-e border-zinc-200 py-1.5 border-b font-bold text-start\"> Paraguay </td><td class=\"px-2 border-e border-zinc-200 text-end py-1.5 border-b font-bold\" data-order=\"7013078\"> <a class=\"transition-all duration-200 text-lime-600 hover:text-lime-500\" data-country=\"paraguay\" href=\"/world-population/paraguay-population/\">7,013,078</a> </td><td class=\"px-2 border-e border-zinc-200 text-end py-1.5 border-b\" data-order=\"397300\"> 397,300 </td><td class=\"px-2 border-e border-zinc-200 text-end py-1.5 border-b\" data-order=\"17.651844953435692\"> 18 </td> </tr><tr> <td class=\"px-2 border-e border-zinc-200 py-1.5 border-b text-start\"> 138 </td><td class=\"px-2 border-e border-zinc-200 py-1.5 border-b font-bold text-start\"> Peru </td><td class=\"px-2 border-e border-zinc-200 text-end py-1.5 border-b font-bold\" data-order=\"34576665\"> <a class=\"transition-all duration-200 text-lime-600 hover:text-lime-500\" data-country=\"peru\" href=\"/world-population/peru-population/\">34,576,665</a> </td><td class=\"px-2 border-e border-zinc-200 text-end py-1.5 border-b\" data-order=\"1280000\"> 1,280,000 </td><td class=\"px-2 border-e border-zinc-200 text-end py-1.5 border-b\" data-order=\"27.01301953125\"> 27 </td> </tr><tr> <td class=\"px-2 border-e border-zinc-200 py-1.5 border-b text-start\"> 139 </td><td class=\"px-2 border-e border-zinc-200 py-1.5 border-b font-bold text-start\"> Philippines </td><td class=\"px-2 border-e border-zinc-200 text-end py-1.5 border-b font-bold\" data-order=\"116786962\"> <a class=\"transition-all duration-200 text-lime-600 hover:text-lime-500\" data-country=\"philippines\" href=\"/world-population/philippines-population/\">116,786,962</a> </td><td class=\"px-2 border-e border-zinc-200 text-end py-1.5 border-b\" data-order=\"298170\"> 298,170 </td><td class=\"px-2 border-e border-zinc-200 text-end py-1.5 border-b\" data-order=\"391.6791159405708\"> 392 </td> </tr><tr> <td class=\"px-2 border-e border-zinc-200 py-1.5 border-b text-start\"> 140 </td><td class=\"px-2 border-e border-zinc-200 py-1.5 border-b font-bold text-start\"> Poland </td><td class=\"px-2 border-e border-zinc-200 text-end py-1.5 border-b font-bold\" data-order=\"38140910\"> <a class=\"transition-all duration-200 text-lime-600 hover:text-lime-500\" data-country=\"poland\" href=\"/world-population/poland-population/\">38,140,910</a> </td><td class=\"px-2 border-e border-zinc-200 text-end py-1.5 border-b\" data-order=\"306230\"> 306,230 </td><td class=\"px-2 border-e border-zinc-200 text-end py-1.5 border-b\" data-order=\"124.5498808085426\"> 125 </td> </tr><tr> <td class=\"px-2 border-e border-zinc-200 py-1.5 border-b text-start\"> 141 </td><td class=\"px-2 border-e border-zinc-200 py-1.5 border-b font-bold text-start\"> Portugal </td><td class=\"px-2 border-e border-zinc-200 text-end py-1.5 border-b font-bold\" data-order=\"10411834\"> <a class=\"transition-all duration-200 text-lime-600 hover:text-lime-500\" data-country=\"portugal\" href=\"/world-population/portugal-population/\">10,411,834</a> </td><td class=\"px-2 border-e border-zinc-200 text-end py-1.5 border-b\" data-order=\"91590\"> 91,590 </td><td class=\"px-2 border-e border-zinc-200 text-end py-1.5 border-b\" data-order=\"113.67872038432144\"> 114 </td> </tr><tr> <td class=\"px-2 border-e border-zinc-200 py-1.5 border-b text-start\"> 142 </td><td class=\"px-2 border-e border-zinc-200 py-1.5 border-b font-bold text-start\"> Qatar </td><td class=\"px-2 border-e border-zinc-200 text-end py-1.5 border-b font-bold\" data-order=\"3115889\"> <a class=\"transition-all duration-200 text-lime-600 hover:text-lime-500\" data-country=\"qatar\" href=\"/world-population/qatar-population/\">3,115,889</a> </td><td class=\"px-2 border-e border-zinc-200 text-end py-1.5 border-b\" data-order=\"11610\"> 11,610 </td><td class=\"px-2 border-e border-zinc-200 text-end py-1.5 border-b\" data-order=\"268.37975882859604\"> 268 </td> </tr><tr> <td class=\"px-2 border-e border-zinc-200 py-1.5 border-b text-start\"> 143 </td><td class=\"px-2 border-e border-zinc-200 py-1.5 border-b font-bold text-start\"> Romania </td><td class=\"px-2 border-e border-zinc-200 text-end py-1.5 border-b font-bold\" data-order=\"18908650\"> <a class=\"transition-all duration-200 text-lime-600 hover:text-lime-500\" data-country=\"romania\" href=\"/world-population/romania-population/\">18,908,650</a> </td><td class=\"px-2 border-e border-zinc-200 text-end py-1.5 border-b\" data-order=\"230170\"> 230,170 </td><td class=\"px-2 border-e border-zinc-200 text-end py-1.5 border-b\" data-order=\"82.15080158143981\"> 82 </td> </tr><tr> <td class=\"px-2 border-e border-zinc-200 py-1.5 border-b text-start\"> 144 </td><td class=\"px-2 border-e border-zinc-200 py-1.5 border-b font-bold text-start\"> Russia </td><td class=\"px-2 border-e border-zinc-200 text-end py-1.5 border-b font-bold\" data-order=\"143997393\"> <a class=\"transition-all duration-200 text-lime-600 hover:text-lime-500\" data-country=\"russia\" href=\"/world-population/russia-population/\">143,997,393</a> </td><td class=\"px-2 border-e border-zinc-200 text-end py-1.5 border-b\" data-order=\"16376870\"> 16,376,870 </td><td class=\"px-2 border-e border-zinc-200 text-end py-1.5 border-b\" data-order=\"8.792729807344138\"> 9 </td> </tr><tr> <td class=\"px-2 border-e border-zinc-200 py-1.5 border-b text-start\"> 145 </td><td class=\"px-2 border-e border-zinc-200 py-1.5 border-b font-bold text-start\"> Rwanda </td><td class=\"px-2 border-e border-zinc-200 text-end py-1.5 border-b font-bold\" data-order=\"14569341\"> <a class=\"transition-all duration-200 text-lime-600 hover:text-lime-500\" data-country=\"rwanda\" href=\"/world-population/rwanda-population/\">14,569,341</a> </td><td class=\"px-2 border-e border-zinc-200 text-end py-1.5 border-b\" data-order=\"24670\"> 24,670 </td><td class=\"px-2 border-e border-zinc-200 text-end py-1.5 border-b\" data-order=\"590.5691528171868\"> 591 </td> </tr><tr> <td class=\"px-2 border-e border-zinc-200 py-1.5 border-b text-start\"> 146 </td><td class=\"px-2 border-e border-zinc-200 py-1.5 border-b font-bold text-start\"> Saint Kitts and Nevis </td><td class=\"px-2 border-e border-zinc-200 text-end py-1.5 border-b font-bold\" data-order=\"46922\"> <a class=\"transition-all duration-200 text-lime-600 hover:text-lime-500\" data-country=\"saint-kitts-and-nevis\" href=\"/world-population/saint-kitts-and-nevis-population/\">46,922</a> </td><td class=\"px-2 border-e border-zinc-200 text-end py-1.5 border-b\" data-order=\"260\"> 260 </td><td class=\"px-2 border-e border-zinc-200 text-end py-1.5 border-b\" data-order=\"180.46923076923076\"> 180 </td> </tr><tr> <td class=\"px-2 border-e border-zinc-200 py-1.5 border-b text-start\"> 147 </td><td class=\"px-2 border-e border-zinc-200 py-1.5 border-b font-bold text-start\"> Saint Lucia </td><td class=\"px-2 border-e border-zinc-200 text-end py-1.5 border-b font-bold\" data-order=\"180149\"> <a class=\"transition-all duration-200 text-lime-600 hover:text-lime-500\" data-country=\"saint-lucia\" href=\"/world-population/saint-lucia-population/\">180,149</a> </td><td class=\"px-2 border-e border-zinc-200 text-end py-1.5 border-b\" data-order=\"610\"> 610 </td><td class=\"px-2 border-e border-zinc-200 text-end py-1.5 border-b\" data-order=\"295.3262295081967\"> 295 </td> </tr><tr> <td class=\"px-2 border-e border-zinc-200 py-1.5 border-b text-start\"> 148 </td><td class=\"px-2 border-e border-zinc-200 py-1.5 border-b font-bold text-start\"> Saint Vincent and the Grenadines </td><td class=\"px-2 border-e border-zinc-200 text-end py-1.5 border-b font-bold\" data-order=\"99924\"> <a class=\"transition-all duration-200 text-lime-600 hover:text-lime-500\" data-country=\"saint-vincent-and-the-grenadines\" href=\"/world-population/saint-vincent-and-the-grenadines-population/\">99,924</a> </td><td class=\"px-2 border-e border-zinc-200 text-end py-1.5 border-b\" data-order=\"390\"> 390 </td><td class=\"px-2 border-e border-zinc-200 text-end py-1.5 border-b\" data-order=\"256.2153846153846\"> 256 </td> </tr><tr> <td class=\"px-2 border-e border-zinc-200 py-1.5 border-b text-start\"> 149 </td><td class=\"px-2 border-e border-zinc-200 py-1.5 border-b font-bold text-start\"> Samoa </td><td class=\"px-2 border-e border-zinc-200 text-end py-1.5 border-b font-bold\" data-order=\"219306\"> <a class=\"transition-all duration-200 text-lime-600 hover:text-lime-500\" data-country=\"samoa\" href=\"/world-population/samoa-population/\">219,306</a> </td><td class=\"px-2 border-e border-zinc-200 text-end py-1.5 border-b\" data-order=\"2830\"> 2,830 </td><td class=\"px-2 border-e border-zinc-200 text-end py-1.5 border-b\" data-order=\"77.49328621908127\"> 77 </td> </tr><tr> <td class=\"px-2 border-e border-zinc-200 py-1.5 border-b text-start\"> 150 </td><td class=\"px-2 border-e border-zinc-200 py-1.5 border-b font-bold text-start\"> San Marino </td><td class=\"px-2 border-e border-zinc-200 text-end py-1.5 border-b font-bold\" data-order=\"33572\"> <a class=\"transition-all duration-200 text-lime-600 hover:text-lime-500\" data-country=\"san-marino\" href=\"/world-population/san-marino-population/\">33,572</a> </td><td class=\"px-2 border-e border-zinc-200 text-end py-1.5 border-b\" data-order=\"60\"> 60 </td><td class=\"px-2 border-e border-zinc-200 text-end py-1.5 border-b\" data-order=\"559.5333333333333\"> 560 </td> </tr><tr> <td class=\"px-2 border-e border-zinc-200 py-1.5 border-b text-start\"> 151 </td><td class=\"px-2 border-e border-zinc-200 py-1.5 border-b font-bold text-start\"> Sao Tome and Principe </td><td class=\"px-2 border-e border-zinc-200 text-end py-1.5 border-b font-bold\" data-order=\"240254\"> <a class=\"transition-all duration-200 text-lime-600 hover:text-lime-500\" data-country=\"sao-tome-and-principe\" href=\"/world-population/sao-tome-and-principe-population/\">240,254</a> </td><td class=\"px-2 border-e border-zinc-200 text-end py-1.5 border-b\" data-order=\"960\"> 960 </td><td class=\"px-2 border-e border-zinc-200 text-end py-1.5 border-b\" data-order=\"250.26458333333332\"> 250 </td> </tr><tr> <td class=\"px-2 border-e border-zinc-200 py-1.5 border-b text-start\"> 152 </td><td class=\"px-2 border-e border-zinc-200 py-1.5 border-b font-bold text-start\"> Saudi Arabia </td><td class=\"px-2 border-e border-zinc-200 text-end py-1.5 border-b font-bold\" data-order=\"34566328\"> <a class=\"transition-all duration-200 text-lime-600 hover:text-lime-500\" data-country=\"saudi-arabia\" href=\"/world-population/saudi-arabia-population/\">34,566,328</a> </td><td class=\"px-2 border-e border-zinc-200 text-end py-1.5 border-b\" data-order=\"2149690\"> 2,149,690 </td><td class=\"px-2 border-e border-zinc-200 text-end py-1.5 border-b\" data-order=\"16.079680326000492\"> 16 </td> </tr><tr> <td class=\"px-2 border-e border-zinc-200 py-1.5 border-b text-start\"> 153 </td><td class=\"px-2 border-e border-zinc-200 py-1.5 border-b font-bold text-start\"> Senegal </td><td class=\"px-2 border-e border-zinc-200 text-end py-1.5 border-b font-bold\" data-order=\"18931966\"> <a class=\"transition-all duration-200 text-lime-600 hover:text-lime-500\" data-country=\"senegal\" href=\"/world-population/senegal-population/\">18,931,966</a> </td><td class=\"px-2 border-e border-zinc-200 text-end py-1.5 border-b\" data-order=\"192530\"> 192,530 </td><td class=\"px-2 border-e border-zinc-200 text-end py-1.5 border-b\" data-order=\"98.33255077130836\"> 98 </td> </tr><tr> <td class=\"px-2 border-e border-zinc-200 py-1.5 border-b text-start\"> 154 </td><td class=\"px-2 border-e border-zinc-200 py-1.5 border-b font-bold text-start\"> Serbia </td><td class=\"px-2 border-e border-zinc-200 text-end py-1.5 border-b font-bold\" data-order=\"6689039\"> <a class=\"transition-all duration-200 text-lime-600 hover:text-lime-500\" data-country=\"serbia\" href=\"/world-population/serbia-population/\">6,689,039</a> </td><td class=\"px-2 border-e border-zinc-200 text-end py-1.5 border-b\" data-order=\"87460\"> 87,460 </td><td class=\"px-2 border-e border-zinc-200 text-end py-1.5 border-b\" data-order=\"76.48112279899382\"> 76 </td> </tr><tr> <td class=\"px-2 border-e border-zinc-200 py-1.5 border-b text-start\"> 155 </td><td class=\"px-2 border-e border-zinc-200 py-1.5 border-b font-bold text-start\"> Seychelles </td><td class=\"px-2 border-e border-zinc-200 text-end py-1.5 border-b font-bold\" data-order=\"132779\"> <a class=\"transition-all duration-200 text-lime-600 hover:text-lime-500\" data-country=\"seychelles\" href=\"/world-population/seychelles-population/\">132,779</a> </td><td class=\"px-2 border-e border-zinc-200 text-end py-1.5 border-b\" data-order=\"460\"> 460 </td><td class=\"px-2 border-e border-zinc-200 text-end py-1.5 border-b\" data-order=\"288.65\"> 289 </td> </tr><tr> <td class=\"px-2 border-e border-zinc-200 py-1.5 border-b text-start\"> 156 </td><td class=\"px-2 border-e border-zinc-200 py-1.5 border-b font-bold text-start\"> Sierra Leone </td><td class=\"px-2 border-e border-zinc-200 text-end py-1.5 border-b font-bold\" data-order=\"8819794\"> <a class=\"transition-all duration-200 text-lime-600 hover:text-lime-500\" data-country=\"sierra-leone\" href=\"/world-population/sierra-leone-population/\">8,819,794</a> </td><td class=\"px-2 border-e border-zinc-200 text-end py-1.5 border-b\" data-order=\"72180\"> 72,180 </td><td class=\"px-2 border-e border-zinc-200 text-end py-1.5 border-b\" data-order=\"122.19165973954004\"> 122 </td> </tr><tr> <td class=\"px-2 border-e border-zinc-200 py-1.5 border-b text-start\"> 157 </td><td class=\"px-2 border-e border-zinc-200 py-1.5 border-b font-bold text-start\"> Singapore </td><td class=\"px-2 border-e border-zinc-200 text-end py-1.5 border-b font-bold\" data-order=\"5870750\"> <a class=\"transition-all duration-200 text-lime-600 hover:text-lime-500\" data-country=\"singapore\" href=\"/world-population/singapore-population/\">5,870,750</a> </td><td class=\"px-2 border-e border-zinc-200 text-end py-1.5 border-b\" data-order=\"700\"> 700 </td><td class=\"px-2 border-e border-zinc-200 text-end py-1.5 border-b\" data-order=\"8386.785714285714\"> 8,387 </td> </tr><tr> <td class=\"px-2 border-e border-zinc-200 py-1.5 border-b text-start\"> 158 </td><td class=\"px-2 border-e border-zinc-200 py-1.5 border-b font-bold text-start\"> Slovakia </td><td class=\"px-2 border-e border-zinc-200 text-end py-1.5 border-b font-bold\" data-order=\"5474881\"> <a class=\"transition-all duration-200 text-lime-600 hover:text-lime-500\" data-country=\"slovakia\" href=\"/world-population/slovakia-population/\">5,474,881</a> </td><td class=\"px-2 border-e border-zinc-200 text-end py-1.5 border-b\" data-order=\"48088\"> 48,088 </td><td class=\"px-2 border-e border-zinc-200 text-end py-1.5 border-b\" data-order=\"113.85129346198636\"> 114 </td> </tr><tr> <td class=\"px-2 border-e border-zinc-200 py-1.5 border-b text-start\"> 159 </td><td class=\"px-2 border-e border-zinc-200 py-1.5 border-b font-bold text-start\"> Slovenia </td><td class=\"px-2 border-e border-zinc-200 text-end py-1.5 border-b font-bold\" data-order=\"2117072\"> <a class=\"transition-all duration-200 text-lime-600 hover:text-lime-500\" data-country=\"slovenia\" href=\"/world-population/slovenia-population/\">2,117,072</a> </td><td class=\"px-2 border-e border-zinc-200 text-end py-1.5 border-b\" data-order=\"20140\"> 20,140 </td><td class=\"px-2 border-e border-zinc-200 text-end py-1.5 border-b\" data-order=\"105.11777557100298\"> 105 </td> </tr><tr> <td class=\"px-2 border-e border-zinc-200 py-1.5 border-b text-start\"> 160 </td><td class=\"px-2 border-e border-zinc-200 py-1.5 border-b font-bold text-start\"> Solomon Islands </td><td class=\"px-2 border-e border-zinc-200 text-end py-1.5 border-b font-bold\" data-order=\"838645\"> <a class=\"transition-all duration-200 text-lime-600 hover:text-lime-500\" data-country=\"solomon-islands\" href=\"/world-population/solomon-islands-population/\">838,645</a> </td><td class=\"px-2 border-e border-zinc-200 text-end py-1.5 border-b\" data-order=\"27990\"> 27,990 </td><td class=\"px-2 border-e border-zinc-200 text-end py-1.5 border-b\" data-order=\"29.962307967131117\"> 30 </td> </tr><tr> <td class=\"px-2 border-e border-zinc-200 py-1.5 border-b text-start\"> 161 </td><td class=\"px-2 border-e border-zinc-200 py-1.5 border-b font-bold text-start\"> Somalia </td><td class=\"px-2 border-e border-zinc-200 text-end py-1.5 border-b font-bold\" data-order=\"19654739\"> <a class=\"transition-all duration-200 text-lime-600 hover:text-lime-500\" data-country=\"somalia\" href=\"/world-population/somalia-population/\">19,654,739</a> </td><td class=\"px-2 border-e border-zinc-200 text-end py-1.5 border-b\" data-order=\"627340\"> 627,340 </td><td class=\"px-2 border-e border-zinc-200 text-end py-1.5 border-b\" data-order=\"31.33028182484777\"> 31 </td> </tr><tr> <td class=\"px-2 border-e border-zinc-200 py-1.5 border-b text-start\"> 162 </td><td class=\"px-2 border-e border-zinc-200 py-1.5 border-b font-bold text-start\"> South Africa </td><td class=\"px-2 border-e border-zinc-200 text-end py-1.5 border-b font-bold\" data-order=\"64747319\"> <a class=\"transition-all duration-200 text-lime-600 hover:text-lime-500\" data-country=\"south-africa\" href=\"/world-population/south-africa-population/\">64,747,319</a> </td><td class=\"px-2 border-e border-zinc-200 text-end py-1.5 border-b\" data-order=\"1213090\"> 1,213,090 </td><td class=\"px-2 border-e border-zinc-200 text-end py-1.5 border-b\" data-order=\"53.373879102127624\"> 53 </td> </tr><tr> <td class=\"px-2 border-e border-zinc-200 py-1.5 border-b text-start\"> 163 </td><td class=\"px-2 border-e border-zinc-200 py-1.5 border-b font-bold text-start\"> South Korea </td><td class=\"px-2 border-e border-zinc-200 text-end py-1.5 border-b font-bold\" data-order=\"51667029\"> <a class=\"transition-all duration-200 text-lime-600 hover:text-lime-500\" data-country=\"south-korea\" href=\"/world-population/south-korea-population/\">51,667,029</a> </td><td class=\"px-2 border-e border-zinc-200 text-end py-1.5 border-b\" data-order=\"97230\"> 97,230 </td><td class=\"px-2 border-e border-zinc-200 text-end py-1.5 border-b\" data-order=\"531.389787102746\"> 531 </td> </tr><tr> <td class=\"px-2 border-e border-zinc-200 py-1.5 border-b text-start\"> 164 </td><td class=\"px-2 border-e border-zinc-200 py-1.5 border-b font-bold text-start\"> South Sudan </td><td class=\"px-2 border-e border-zinc-200 text-end py-1.5 border-b font-bold\" data-order=\"12188788\"> <a class=\"transition-all duration-200 text-lime-600 hover:text-lime-500\" data-country=\"south-sudan\" href=\"/world-population/south-sudan-population/\">12,188,788</a> </td><td class=\"px-2 border-e border-zinc-200 text-end py-1.5 border-b\" data-order=\"610952\"> 610,952 </td><td class=\"px-2 border-e border-zinc-200 text-end py-1.5 border-b\" data-order=\"19.950483835063967\"> 20 </td> </tr><tr> <td class=\"px-2 border-e border-zinc-200 py-1.5 border-b text-start\"> 165 </td><td class=\"px-2 border-e border-zinc-200 py-1.5 border-b font-bold text-start\"> Spain </td><td class=\"px-2 border-e border-zinc-200 text-end py-1.5 border-b font-bold\" data-order=\"47889958\"> <a class=\"transition-all duration-200 text-lime-600 hover:text-lime-500\" data-country=\"spain\" href=\"/world-population/spain-population/\">47,889,958</a> </td><td class=\"px-2 border-e border-zinc-200 text-end py-1.5 border-b\" data-order=\"498800\"> 498,800 </td><td class=\"px-2 border-e border-zinc-200 text-end py-1.5 border-b\" data-order=\"96.01034081796311\"> 96 </td> </tr><tr> <td class=\"px-2 border-e border-zinc-200 py-1.5 border-b text-start\"> 166 </td><td class=\"px-2 border-e border-zinc-200 py-1.5 border-b font-bold text-start\"> Sri Lanka </td><td class=\"px-2 border-e border-zinc-200 text-end py-1.5 border-b font-bold\" data-order=\"23229470\"> <a class=\"transition-all duration-200 text-lime-600 hover:text-lime-500\" data-country=\"sri-lanka\" href=\"/world-population/sri-lanka-population/\">23,229,470</a> </td><td class=\"px-2 border-e border-zinc-200 text-end py-1.5 border-b\" data-order=\"62710\"> 62,710 </td><td class=\"px-2 border-e border-zinc-200 text-end py-1.5 border-b\" data-order=\"370.42688566416837\"> 370 </td> </tr><tr> <td class=\"px-2 border-e border-zinc-200 py-1.5 border-b text-start\"> 167 </td><td class=\"px-2 border-e border-zinc-200 py-1.5 border-b font-bold text-start\"> Sudan </td><td class=\"px-2 border-e border-zinc-200 text-end py-1.5 border-b font-bold\" data-order=\"51662147\"> <a class=\"transition-all duration-200 text-lime-600 hover:text-lime-500\" data-country=\"sudan\" href=\"/world-population/sudan-population/\">51,662,147</a> </td><td class=\"px-2 border-e border-zinc-200 text-end py-1.5 border-b\" data-order=\"1765048\"> 1,765,048 </td><td class=\"px-2 border-e border-zinc-200 text-end py-1.5 border-b\" data-order=\"29.269542244743487\"> 29 </td> </tr><tr> <td class=\"px-2 border-e border-zinc-200 py-1.5 border-b text-start\"> 168 </td><td class=\"px-2 border-e border-zinc-200 py-1.5 border-b font-bold text-start\"> Suriname </td><td class=\"px-2 border-e border-zinc-200 text-end py-1.5 border-b font-bold\" data-order=\"639850\"> <a class=\"transition-all duration-200 text-lime-600 hover:text-lime-500\" data-country=\"suriname\" href=\"/world-population/suriname-population/\">639,850</a> </td><td class=\"px-2 border-e border-zinc-200 text-end py-1.5 border-b\" data-order=\"156000\"> 156,000 </td><td class=\"px-2 border-e border-zinc-200 text-end py-1.5 border-b\" data-order=\"4.101602564102564\"> 4 </td> </tr><tr> <td class=\"px-2 border-e border-zinc-200 py-1.5 border-b text-start\"> 169 </td><td class=\"px-2 border-e border-zinc-200 py-1.5 border-b font-bold text-start\"> Sweden </td><td class=\"px-2 border-e border-zinc-200 text-end py-1.5 border-b font-bold\" data-order=\"10656633\"> <a class=\"transition-all duration-200 text-lime-600 hover:text-lime-500\" data-country=\"sweden\" href=\"/world-population/sweden-population/\">10,656,633</a> </td><td class=\"px-2 border-e border-zinc-200 text-end py-1.5 border-b\" data-order=\"410340\"> 410,340 </td><td class=\"px-2 border-e border-zinc-200 text-end py-1.5 border-b\" data-order=\"25.97025149875713\"> 26 </td> </tr><tr> <td class=\"px-2 border-e border-zinc-200 py-1.5 border-b text-start\"> 170 </td><td class=\"px-2 border-e border-zinc-200 py-1.5 border-b font-bold text-start\"> Switzerland </td><td class=\"px-2 border-e border-zinc-200 text-end py-1.5 border-b font-bold\" data-order=\"8967407\"> <a class=\"transition-all duration-200 text-lime-600 hover:text-lime-500\" data-country=\"switzerland\" href=\"/world-population/switzerland-population/\">8,967,407</a> </td><td class=\"px-2 border-e border-zinc-200 text-end py-1.5 border-b\" data-order=\"39516\"> 39,516 </td><td class=\"px-2 border-e border-zinc-200 text-end py-1.5 border-b\" data-order=\"226.93104059115296\"> 227 </td> </tr><tr> <td class=\"px-2 border-e border-zinc-200 py-1.5 border-b text-start\"> 171 </td><td class=\"px-2 border-e border-zinc-200 py-1.5 border-b font-bold text-start\"> Syria </td><td class=\"px-2 border-e border-zinc-200 text-end py-1.5 border-b font-bold\" data-order=\"25620427\"> <a class=\"transition-all duration-200 text-lime-600 hover:text-lime-500\" data-country=\"syria\" href=\"/world-population/syria-population/\">25,620,427</a> </td><td class=\"px-2 border-e border-zinc-200 text-end py-1.5 border-b\" data-order=\"183630\"> 183,630 </td><td class=\"px-2 border-e border-zinc-200 text-end py-1.5 border-b\" data-order=\"139.52201165386919\"> 140 </td> </tr><tr> <td class=\"px-2 border-e border-zinc-200 py-1.5 border-b text-start\"> 172 </td><td class=\"px-2 border-e border-zinc-200 py-1.5 border-b font-bold text-start\"> Tajikistan </td><td class=\"px-2 border-e border-zinc-200 text-end py-1.5 border-b font-bold\" data-order=\"10786734\"> <a class=\"transition-all duration-200 text-lime-600 hover:text-lime-500\" data-country=\"tajikistan\" href=\"/world-population/tajikistan-population/\">10,786,734</a> </td><td class=\"px-2 border-e border-zinc-200 text-end py-1.5 border-b\" data-order=\"139960\"> 139,960 </td><td class=\"px-2 border-e border-zinc-200 text-end py-1.5 border-b\" data-order=\"77.07012003429551\"> 77 </td> </tr><tr> <td class=\"px-2 border-e border-zinc-200 py-1.5 border-b text-start\"> 173 </td><td class=\"px-2 border-e border-zinc-200 py-1.5 border-b font-bold text-start\"> Tanzania </td><td class=\"px-2 border-e border-zinc-200 text-end py-1.5 border-b font-bold\" data-order=\"70545865\"> <a class=\"transition-all duration-200 text-lime-600 hover:text-lime-500\" data-country=\"tanzania\" href=\"/world-population/tanzania-population/\">70,545,865</a> </td><td class=\"px-2 border-e border-zinc-200 text-end py-1.5 border-b\" data-order=\"885800\"> 885,800 </td><td class=\"px-2 border-e border-zinc-200 text-end py-1.5 border-b\" data-order=\"79.64085007902462\"> 80 </td> </tr><tr> <td class=\"px-2 border-e border-zinc-200 py-1.5 border-b text-start\"> 174 </td><td class=\"px-2 border-e border-zinc-200 py-1.5 border-b font-bold text-start\"> Thailand </td><td class=\"px-2 border-e border-zinc-200 text-end py-1.5 border-b font-bold\" data-order=\"71619863\"> <a class=\"transition-all duration-200 text-lime-600 hover:text-lime-500\" data-country=\"thailand\" href=\"/world-population/thailand-population/\">71,619,863</a> </td><td class=\"px-2 border-e border-zinc-200 text-end py-1.5 border-b\" data-order=\"510890\"> 510,890 </td><td class=\"px-2 border-e border-zinc-200 text-end py-1.5 border-b\" data-order=\"140.18646479672728\"> 140 </td> </tr><tr> <td class=\"px-2 border-e border-zinc-200 py-1.5 border-b text-start\"> 175 </td><td class=\"px-2 border-e border-zinc-200 py-1.5 border-b font-bold text-start\"> Timor-Leste </td><td class=\"px-2 border-e border-zinc-200 text-end py-1.5 border-b font-bold\" data-order=\"1418517\"> <a class=\"transition-all duration-200 text-lime-600 hover:text-lime-500\" data-country=\"timor-leste\" href=\"/world-population/timor-leste-population/\">1,418,517</a> </td><td class=\"px-2 border-e border-zinc-200 text-end py-1.5 border-b\" data-order=\"14870\"> 14,870 </td><td class=\"px-2 border-e border-zinc-200 text-end py-1.5 border-b\" data-order=\"95.39455279085406\"> 95 </td> </tr><tr> <td class=\"px-2 border-e border-zinc-200 py-1.5 border-b text-start\"> 176 </td><td class=\"px-2 border-e border-zinc-200 py-1.5 border-b font-bold text-start\"> Togo </td><td class=\"px-2 border-e border-zinc-200 text-end py-1.5 border-b font-bold\" data-order=\"9721608\"> <a class=\"transition-all duration-200 text-lime-600 hover:text-lime-500\" data-country=\"togo\" href=\"/world-population/togo-population/\">9,721,608</a> </td><td class=\"px-2 border-e border-zinc-200 text-end py-1.5 border-b\" data-order=\"54390\"> 54,390 </td><td class=\"px-2 border-e border-zinc-200 text-end py-1.5 border-b\" data-order=\"178.73888582460012\"> 179 </td> </tr><tr> <td class=\"px-2 border-e border-zinc-200 py-1.5 border-b text-start\"> 177 </td><td class=\"px-2 border-e border-zinc-200 py-1.5 border-b font-bold text-start\"> Tonga </td><td class=\"px-2 border-e border-zinc-200 text-end py-1.5 border-b font-bold\" data-order=\"103742\"> <a class=\"transition-all duration-200 text-lime-600 hover:text-lime-500\" data-country=\"tonga\" href=\"/world-population/tonga-population/\">103,742</a> </td><td class=\"px-2 border-e border-zinc-200 text-end py-1.5 border-b\" data-order=\"720\"> 720 </td><td class=\"px-2 border-e border-zinc-200 text-end py-1.5 border-b\" data-order=\"144.0861111111111\"> 144 </td> </tr><tr> <td class=\"px-2 border-e border-zinc-200 py-1.5 border-b text-start\"> 178 </td><td class=\"px-2 border-e border-zinc-200 py-1.5 border-b font-bold text-start\"> Trinidad and Tobago </td><td class=\"px-2 border-e border-zinc-200 text-end py-1.5 border-b font-bold\" data-order=\"1511155\"> <a class=\"transition-all duration-200 text-lime-600 hover:text-lime-500\" data-country=\"trinidad-and-tobago\" href=\"/world-population/trinidad-and-tobago-population/\">1,511,155</a> </td><td class=\"px-2 border-e border-zinc-200 text-end py-1.5 border-b\" data-order=\"5130\"> 5,130 </td><td class=\"px-2 border-e border-zinc-200 text-end py-1.5 border-b\" data-order=\"294.57212475633526\"> 295 </td> </tr><tr> <td class=\"px-2 border-e border-zinc-200 py-1.5 border-b text-start\"> 179 </td><td class=\"px-2 border-e border-zinc-200 py-1.5 border-b font-bold text-start\"> Tunisia </td><td class=\"px-2 border-e border-zinc-200 text-end py-1.5 border-b font-bold\" data-order=\"12348573\"> <a class=\"transition-all duration-200 text-lime-600 hover:text-lime-500\" data-country=\"tunisia\" href=\"/world-population/tunisia-population/\">12,348,573</a> </td><td class=\"px-2 border-e border-zinc-200 text-end py-1.5 border-b\" data-order=\"155360\"> 155,360 </td><td class=\"px-2 border-e border-zinc-200 text-end py-1.5 border-b\" data-order=\"79.48360581874357\"> 79 </td> </tr><tr> <td class=\"px-2 border-e border-zinc-200 py-1.5 border-b text-start\"> 180 </td><td class=\"px-2 border-e border-zinc-200 py-1.5 border-b font-bold text-start\"> Turkey </td><td class=\"px-2 border-e border-zinc-200 text-end py-1.5 border-b font-bold\" data-order=\"87685426\"> <a class=\"transition-all duration-200 text-lime-600 hover:text-lime-500\" data-country=\"turkey\" href=\"/world-population/turkey-population/\">87,685,426</a> </td><td class=\"px-2 border-e border-zinc-200 text-end py-1.5 border-b\" data-order=\"769630\"> 769,630 </td><td class=\"px-2 border-e border-zinc-200 text-end py-1.5 border-b\" data-order=\"113.93192313189455\"> 114 </td> </tr><tr> <td class=\"px-2 border-e border-zinc-200 py-1.5 border-b text-start\"> 181 </td><td class=\"px-2 border-e border-zinc-200 py-1.5 border-b font-bold text-start\"> Turkmenistan </td><td class=\"px-2 border-e border-zinc-200 text-end py-1.5 border-b font-bold\" data-order=\"7618847\"> <a class=\"transition-all duration-200 text-lime-600 hover:text-lime-500\" data-country=\"turkmenistan\" href=\"/world-population/turkmenistan-population/\">7,618,847</a> </td><td class=\"px-2 border-e border-zinc-200 text-end py-1.5 border-b\" data-order=\"469930\"> 469,930 </td><td class=\"px-2 border-e border-zinc-200 text-end py-1.5 border-b\" data-order=\"16.2127274274892\"> 16 </td> </tr><tr> <td class=\"px-2 border-e border-zinc-200 py-1.5 border-b text-start\"> 182 </td><td class=\"px-2 border-e border-zinc-200 py-1.5 border-b font-bold text-start\"> Tuvalu </td><td class=\"px-2 border-e border-zinc-200 text-end py-1.5 border-b font-bold\" data-order=\"9492\"> <a class=\"transition-all duration-200 text-lime-600 hover:text-lime-500\" data-country=\"tuvalu\" href=\"/world-population/tuvalu-population/\">9,492</a> </td><td class=\"px-2 border-e border-zinc-200 text-end py-1.5 border-b\" data-order=\"30\"> 30 </td><td class=\"px-2 border-e border-zinc-200 text-end py-1.5 border-b\" data-order=\"316.4\"> 316 </td> </tr><tr> <td class=\"px-2 border-e border-zinc-200 py-1.5 border-b text-start\"> 183 </td><td class=\"px-2 border-e border-zinc-200 py-1.5 border-b font-bold text-start\"> Uganda </td><td class=\"px-2 border-e border-zinc-200 text-end py-1.5 border-b font-bold\" data-order=\"51384894\"> <a class=\"transition-all duration-200 text-lime-600 hover:text-lime-500\" data-country=\"uganda\" href=\"/world-population/uganda-population/\">51,384,894</a> </td><td class=\"px-2 border-e border-zinc-200 text-end py-1.5 border-b\" data-order=\"199810\"> 199,810 </td><td class=\"px-2 border-e border-zinc-200 text-end py-1.5 border-b\" data-order=\"257.16878034132424\"> 257 </td> </tr><tr> <td class=\"px-2 border-e border-zinc-200 py-1.5 border-b text-start\"> 184 </td><td class=\"px-2 border-e border-zinc-200 py-1.5 border-b font-bold text-start\"> Ukraine </td><td class=\"px-2 border-e border-zinc-200 text-end py-1.5 border-b font-bold\" data-order=\"38980376\"> <a class=\"transition-all duration-200 text-lime-600 hover:text-lime-500\" data-country=\"ukraine\" href=\"/world-population/ukraine-population/\">38,980,376</a> </td><td class=\"px-2 border-e border-zinc-200 text-end py-1.5 border-b\" data-order=\"579320\"> 579,320 </td><td class=\"px-2 border-e border-zinc-200 text-end py-1.5 border-b\" data-order=\"67.28643236898432\"> 67 </td> </tr><tr> <td class=\"px-2 border-e border-zinc-200 py-1.5 border-b text-start\"> 185 </td><td class=\"px-2 border-e border-zinc-200 py-1.5 border-b font-bold text-start\"> United Arab Emirates </td><td class=\"px-2 border-e border-zinc-200 text-end py-1.5 border-b font-bold\" data-order=\"11346000\"> <a class=\"transition-all duration-200 text-lime-600 hover:text-lime-500\" data-country=\"united-arab-emirates\" href=\"/world-population/united-arab-emirates-population/\">11,346,000</a> </td><td class=\"px-2 border-e border-zinc-200 text-end py-1.5 border-b\" data-order=\"83600\"> 83,600 </td><td class=\"px-2 border-e border-zinc-200 text-end py-1.5 border-b\" data-order=\"135.7177033492823\"> 136 </td> </tr><tr> <td class=\"px-2 border-e border-zinc-200 py-1.5 border-b text-start\"> 186 </td><td class=\"px-2 border-e border-zinc-200 py-1.5 border-b font-bold text-start\"> United Kingdom </td><td class=\"px-2 border-e border-zinc-200 text-end py-1.5 border-b font-bold\" data-order=\"69551332\"> <a class=\"transition-all duration-200 text-lime-600 hover:text-lime-500\" data-country=\"uk\" href=\"/world-population/uk-population/\">69,551,332</a> </td><td class=\"px-2 border-e border-zinc-200 text-end py-1.5 border-b\" data-order=\"241930\"> 241,930 </td><td class=\"px-2 border-e border-zinc-200 text-end py-1.5 border-b\" data-order=\"287.48535526805273\"> 287 </td> </tr><tr> <td class=\"px-2 border-e border-zinc-200 py-1.5 border-b text-start\"> 187 </td><td class=\"px-2 border-e border-zinc-200 py-1.5 border-b font-bold text-start\"> United States of America </td><td class=\"px-2 border-e border-zinc-200 text-end py-1.5 border-b font-bold\" data-order=\"347275807\"> <a class=\"transition-all duration-200 text-lime-600 hover:text-lime-500\" data-country=\"us\" href=\"/world-population/us-population/\">347,275,807</a> </td><td class=\"px-2 border-e border-zinc-200 text-end py-1.5 border-b\" data-order=\"9147420\"> 9,147,420 </td><td class=\"px-2 border-e border-zinc-200 text-end py-1.5 border-b\" data-order=\"37.96434480979336\"> 38 </td> </tr><tr> <td class=\"px-2 border-e border-zinc-200 py-1.5 border-b text-start\"> 188 </td><td class=\"px-2 border-e border-zinc-200 py-1.5 border-b font-bold text-start\"> Uruguay </td><td class=\"px-2 border-e border-zinc-200 text-end py-1.5 border-b font-bold\" data-order=\"3384688\"> <a class=\"transition-all duration-200 text-lime-600 hover:text-lime-500\" data-country=\"uruguay\" href=\"/world-population/uruguay-population/\">3,384,688</a> </td><td class=\"px-2 border-e border-zinc-200 text-end py-1.5 border-b\" data-order=\"175020\"> 175,020 </td><td class=\"px-2 border-e border-zinc-200 text-end py-1.5 border-b\" data-order=\"19.338864129813736\"> 19 </td> </tr><tr> <td class=\"px-2 border-e border-zinc-200 py-1.5 border-b text-start\"> 189 </td><td class=\"px-2 border-e border-zinc-200 py-1.5 border-b font-bold text-start\"> Uzbekistan </td><td class=\"px-2 border-e border-zinc-200 text-end py-1.5 border-b font-bold\" data-order=\"37053428\"> <a class=\"transition-all duration-200 text-lime-600 hover:text-lime-500\" data-country=\"uzbekistan\" href=\"/world-population/uzbekistan-population/\">37,053,428</a> </td><td class=\"px-2 border-e border-zinc-200 text-end py-1.5 border-b\" data-order=\"425400\"> 425,400 </td><td class=\"px-2 border-e border-zinc-200 text-end py-1.5 border-b\" data-order=\"87.10255759285378\"> 87 </td> </tr><tr> <td class=\"px-2 border-e border-zinc-200 py-1.5 border-b text-start\"> 190 </td><td class=\"px-2 border-e border-zinc-200 py-1.5 border-b font-bold text-start\"> Vanuatu </td><td class=\"px-2 border-e border-zinc-200 text-end py-1.5 border-b font-bold\" data-order=\"335169\"> <a class=\"transition-all duration-200 text-lime-600 hover:text-lime-500\" data-country=\"vanuatu\" href=\"/world-population/vanuatu-population/\">335,169</a> </td><td class=\"px-2 border-e border-zinc-200 text-end py-1.5 border-b\" data-order=\"12190\"> 12,190 </td><td class=\"px-2 border-e border-zinc-200 text-end py-1.5 border-b\" data-order=\"27.49540607054963\"> 27 </td> </tr><tr> <td class=\"px-2 border-e border-zinc-200 py-1.5 border-b text-start\"> 191 </td><td class=\"px-2 border-e border-zinc-200 py-1.5 border-b font-bold text-start\"> Venezuela </td><td class=\"px-2 border-e border-zinc-200 text-end py-1.5 border-b font-bold\" data-order=\"28516896\"> <a class=\"transition-all duration-200 text-lime-600 hover:text-lime-500\" data-country=\"venezuela\" href=\"/world-population/venezuela-population/\">28,516,896</a> </td><td class=\"px-2 border-e border-zinc-200 text-end py-1.5 border-b\" data-order=\"882050\"> 882,050 </td><td class=\"px-2 border-e border-zinc-200 text-end py-1.5 border-b\" data-order=\"32.33024885210589\"> 32 </td> </tr><tr> <td class=\"px-2 border-e border-zinc-200 py-1.5 border-b text-start\"> 192 </td><td class=\"px-2 border-e border-zinc-200 py-1.5 border-b font-bold text-start\"> Vietnam </td><td class=\"px-2 border-e border-zinc-200 text-end py-1.5 border-b font-bold\" data-order=\"101598527\"> <a class=\"transition-all duration-200 text-lime-600 hover:text-lime-500\" data-country=\"vietnam\" href=\"/world-population/vietnam-population/\">101,598,527</a> </td><td class=\"px-2 border-e border-zinc-200 text-end py-1.5 border-b\" data-order=\"310070\"> 310,070 </td><td class=\"px-2 border-e border-zinc-200 text-end py-1.5 border-b\" data-order=\"327.6631954074886\"> 328 </td> </tr><tr> <td class=\"px-2 border-e border-zinc-200 py-1.5 border-b text-start\"> 193 </td><td class=\"px-2 border-e border-zinc-200 py-1.5 border-b font-bold text-start\"> Yemen </td><td class=\"px-2 border-e border-zinc-200 text-end py-1.5 border-b font-bold\" data-order=\"41773878\"> <a class=\"transition-all duration-200 text-lime-600 hover:text-lime-500\" data-country=\"yemen\" href=\"/world-population/yemen-population/\">41,773,878</a> </td><td class=\"px-2 border-e border-zinc-200 text-end py-1.5 border-b\" data-order=\"527970\"> 527,970 </td><td class=\"px-2 border-e border-zinc-200 text-end py-1.5 border-b\" data-order=\"79.12168873231434\"> 79 </td> </tr><tr> <td class=\"px-2 border-e border-zinc-200 py-1.5 border-b text-start\"> 194 </td><td class=\"px-2 border-e border-zinc-200 py-1.5 border-b font-bold text-start\"> Zambia </td><td class=\"px-2 border-e border-zinc-200 text-end py-1.5 border-b font-bold\" data-order=\"21913874\"> <a class=\"transition-all duration-200 text-lime-600 hover:text-lime-500\" data-country=\"zambia\" href=\"/world-population/zambia-population/\">21,913,874</a> </td><td class=\"px-2 border-e border-zinc-200 text-end py-1.5 border-b\" data-order=\"743390\"> 743,390 </td><td class=\"px-2 border-e border-zinc-200 text-end py-1.5 border-b\" data-order=\"29.47830075734137\"> 29 </td> </tr><tr> <td class=\"px-2 border-e border-zinc-200 py-1.5 border-b text-start\"> 195 </td><td class=\"px-2 border-e border-zinc-200 py-1.5 border-b font-bold text-start\"> Zimbabwe </td><td class=\"px-2 border-e border-zinc-200 text-end py-1.5 border-b font-bold\" data-order=\"16950795\"> <a class=\"transition-all duration-200 text-lime-600 hover:text-lime-500\" data-country=\"zimbabwe\" href=\"/world-population/zimbabwe-population/\">16,950,795</a> </td><td class=\"px-2 border-e border-zinc-200 text-end py-1.5 border-b\" data-order=\"386850\"> 386,850 </td><td class=\"px-2 border-e border-zinc-200 text-end py-1.5 border-b\" data-order=\"43.817487398216365\"> 44 </td> </tr> </tbody> </table>"
      ]
     },
     "execution_count": 10,
     "metadata": {},
     "output_type": "execute_result"
    }
   ],
   "source": [
    "table_tag=soup.find('table')\n",
    "table_tag"
   ]
  },
  {
   "cell_type": "code",
   "execution_count": 11,
   "id": "adf73bb9",
   "metadata": {},
   "outputs": [
    {
     "data": {
      "text/plain": [
       "[[' # ',\n",
       "  ' Country ',\n",
       "  ' Population(2025) ',\n",
       "  ' Land Area(Km²) ',\n",
       "  ' Density(P/Km²) '],\n",
       " [' 1 ', ' Afghanistan ', ' 43,844,111 ', ' 652,860 ', ' 67 '],\n",
       " [' 2 ', ' Albania ', ' 2,771,508 ', ' 27,400 ', ' 101 '],\n",
       " [' 3 ', ' Algeria ', ' 47,435,312 ', ' 2,381,740 ', ' 20 '],\n",
       " [' 4 ', ' Andorra ', ' 82,904 ', ' 470 ', ' 176 '],\n",
       " [' 5 ', ' Angola ', ' 39,040,039 ', ' 1,246,700 ', ' 31 '],\n",
       " [' 6 ', ' Antigua and Barbuda ', ' 94,209 ', ' 440 ', ' 214 '],\n",
       " [' 7 ', ' Argentina ', ' 45,851,378 ', ' 2,736,690 ', ' 17 '],\n",
       " [' 8 ', ' Armenia ', ' 2,952,365 ', ' 28,470 ', ' 104 '],\n",
       " [' 9 ', ' Australia ', ' 26,974,026 ', ' 7,682,300 ', ' 4 '],\n",
       " [' 10 ', ' Austria ', ' 9,113,574 ', ' 82,409 ', ' 111 '],\n",
       " [' 11 ', ' Azerbaijan ', ' 10,397,713 ', ' 82,658 ', ' 126 '],\n",
       " [' 12 ', ' Bahamas ', ' 403,033 ', ' 10,010 ', ' 40 '],\n",
       " [' 13 ', ' Bahrain ', ' 1,643,332 ', ' 760 ', ' 2,162 '],\n",
       " [' 14 ', ' Bangladesh ', ' 175,686,899 ', ' 130,170 ', ' 1,350 '],\n",
       " [' 15 ', ' Barbados ', ' 282,623 ', ' 430 ', ' 657 '],\n",
       " [' 16 ', ' Belarus ', ' 8,997,603 ', ' 202,910 ', ' 44 '],\n",
       " [' 17 ', ' Belgium ', ' 11,758,603 ', ' 30,280 ', ' 388 '],\n",
       " [' 18 ', ' Belize ', ' 422,924 ', ' 22,810 ', ' 19 '],\n",
       " [' 19 ', ' Benin ', ' 14,814,460 ', ' 112,760 ', ' 131 '],\n",
       " [' 20 ', ' Bhutan ', ' 796,682 ', ' 38,117 ', ' 21 '],\n",
       " [' 21 ', ' Bolivia ', ' 12,581,843 ', ' 1,083,300 ', ' 12 '],\n",
       " [' 22 ', ' Bosnia and Herzegovina ', ' 3,140,095 ', ' 51,000 ', ' 62 '],\n",
       " [' 23 ', ' Botswana ', ' 2,562,122 ', ' 566,730 ', ' 5 '],\n",
       " [' 24 ', ' Brazil ', ' 212,812,405 ', ' 8,358,140 ', ' 25 '],\n",
       " [' 25 ', ' Brunei  ', ' 466,330 ', ' 5,270 ', ' 88 '],\n",
       " [' 26 ', ' Bulgaria ', ' 6,714,560 ', ' 108,560 ', ' 62 '],\n",
       " [' 27 ', ' Burkina Faso ', ' 24,074,580 ', ' 273,600 ', ' 88 '],\n",
       " [' 28 ', ' Burundi ', ' 14,390,003 ', ' 25,680 ', ' 560 '],\n",
       " [' 29 ', ' Cabo Verde ', ' 527,326 ', ' 4,030 ', ' 131 '],\n",
       " [' 30 ', ' Cambodia ', ' 17,847,982 ', ' 176,520 ', ' 101 '],\n",
       " [' 31 ', ' Cameroon ', ' 29,879,337 ', ' 472,710 ', ' 63 '],\n",
       " [' 32 ', ' Canada ', ' 40,126,723 ', ' 9,093,510 ', ' 4 '],\n",
       " [' 33 ', ' Central African Republic ', ' 5,513,282 ', ' 622,980 ', ' 9 '],\n",
       " [' 34 ', ' Chad ', ' 21,003,705 ', ' 1,259,200 ', ' 17 '],\n",
       " [' 35 ', ' Chile ', ' 19,859,921 ', ' 743,532 ', ' 27 '],\n",
       " [' 36 ', ' China ', ' 1,416,096,094 ', ' 9,388,211 ', ' 151 '],\n",
       " [' 37 ', ' Colombia ', ' 53,425,635 ', ' 1,109,500 ', ' 48 '],\n",
       " [' 38 ', ' Comoros ', ' 882,847 ', ' 1,861 ', ' 474 '],\n",
       " [' 39 ', ' Congo (Congo-Brazzaville) ', ' 6,484,437 ', ' 341,500 ', ' 19 '],\n",
       " [' 40 ', ' Costa Rica ', ' 5,152,950 ', ' 51,060 ', ' 101 '],\n",
       " [' 41 ', \" Côte d'Ivoire \", ' 32,711,547 ', ' 318,000 ', ' 103 '],\n",
       " [' 42 ', ' Croatia ', ' 3,848,160 ', ' 55,960 ', ' 69 '],\n",
       " [' 43 ', ' Cuba ', ' 10,937,203 ', ' 106,440 ', ' 103 '],\n",
       " [' 44 ', ' Cyprus ', ' 1,370,754 ', ' 9,240 ', ' 148 '],\n",
       " [' 45 ', ' Czechia (Czech Republic) ', ' 10,609,239 ', ' 77,240 ', ' 137 '],\n",
       " [' 46 ',\n",
       "  ' Democratic Republic of the Congo ',\n",
       "  ' 112,832,473 ',\n",
       "  ' 2,267,050 ',\n",
       "  ' 50 '],\n",
       " [' 47 ', ' Denmark ', ' 6,002,507 ', ' 42,430 ', ' 141 '],\n",
       " [' 48 ', ' Djibouti ', ' 1,184,076 ', ' 23,180 ', ' 51 '],\n",
       " [' 49 ', ' Dominica ', ' 65,871 ', ' 750 ', ' 88 '],\n",
       " [' 50 ', ' Dominican Republic ', ' 11,520,487 ', ' 48,320 ', ' 238 '],\n",
       " [' 51 ', ' Ecuador ', ' 18,289,896 ', ' 248,360 ', ' 74 '],\n",
       " [' 52 ', ' Egypt ', ' 118,365,995 ', ' 995,450 ', ' 119 '],\n",
       " [' 53 ', ' El Salvador ', ' 6,365,503 ', ' 20,720 ', ' 307 '],\n",
       " [' 54 ', ' Equatorial Guinea ', ' 1,938,431 ', ' 28,050 ', ' 69 '],\n",
       " [' 55 ', ' Eritrea ', ' 3,607,003 ', ' 101,000 ', ' 36 '],\n",
       " [' 56 ', ' Estonia ', ' 1,344,232 ', ' 42,390 ', ' 32 '],\n",
       " [' 57 ',\n",
       "  ' Eswatini (fmr. \"\"Swaziland\"\") ',\n",
       "  ' 1,256,174 ',\n",
       "  ' 17,200 ',\n",
       "  ' 73 '],\n",
       " [' 58 ', ' Ethiopia ', ' 135,472,051 ', ' 1,000,000 ', ' 135 '],\n",
       " [' 59 ', ' Fiji ', ' 933,154 ', ' 18,270 ', ' 51 '],\n",
       " [' 60 ', ' Finland ', ' 5,623,329 ', ' 303,890 ', ' 19 '],\n",
       " [' 61 ', ' France ', ' 66,650,804 ', ' 547,557 ', ' 122 '],\n",
       " [' 62 ', ' Gabon ', ' 2,593,130 ', ' 257,670 ', ' 10 '],\n",
       " [' 63 ', ' Gambia ', ' 2,822,093 ', ' 10,120 ', ' 279 '],\n",
       " [' 64 ', ' Georgia ', ' 3,806,671 ', ' 69,490 ', ' 55 '],\n",
       " [' 65 ', ' Germany ', ' 84,075,075 ', ' 348,560 ', ' 241 '],\n",
       " [' 66 ', ' Ghana ', ' 35,064,272 ', ' 227,540 ', ' 154 '],\n",
       " [' 67 ', ' Greece ', ' 9,938,844 ', ' 128,900 ', ' 77 '],\n",
       " [' 68 ', ' Grenada ', ' 117,303 ', ' 340 ', ' 345 '],\n",
       " [' 69 ', ' Guatemala ', ' 18,687,881 ', ' 107,160 ', ' 174 '],\n",
       " [' 70 ', ' Guinea ', ' 15,099,727 ', ' 245,720 ', ' 61 '],\n",
       " [' 71 ', ' Guinea-Bissau ', ' 2,249,515 ', ' 28,120 ', ' 80 '],\n",
       " [' 72 ', ' Guyana ', ' 835,986 ', ' 196,850 ', ' 4 '],\n",
       " [' 73 ', ' Haiti ', ' 11,906,095 ', ' 27,560 ', ' 432 '],\n",
       " [' 74 ', ' Holy See ', ' 501 ', ' 0 ', ' 1,253 '],\n",
       " [' 75 ', ' Honduras ', ' 11,005,850 ', ' 111,890 ', ' 98 '],\n",
       " [' 76 ', ' Hungary ', ' 9,632,287 ', ' 90,530 ', ' 106 '],\n",
       " [' 77 ', ' Iceland ', ' 398,266 ', ' 100,250 ', ' 4 '],\n",
       " [' 78 ', ' India ', ' 1,463,865,525 ', ' 2,973,190 ', ' 492 '],\n",
       " [' 79 ', ' Indonesia ', ' 285,721,236 ', ' 1,811,570 ', ' 158 '],\n",
       " [' 80 ', ' Iran ', ' 92,417,681 ', ' 1,628,550 ', ' 57 '],\n",
       " [' 81 ', ' Iraq ', ' 47,020,774 ', ' 434,320 ', ' 108 '],\n",
       " [' 82 ', ' Ireland ', ' 5,308,039 ', ' 68,890 ', ' 77 '],\n",
       " [' 83 ', ' Israel ', ' 9,517,181 ', ' 21,640 ', ' 440 '],\n",
       " [' 84 ', ' Italy ', ' 59,146,260 ', ' 294,140 ', ' 201 '],\n",
       " [' 85 ', ' Jamaica ', ' 2,837,077 ', ' 10,830 ', ' 262 '],\n",
       " [' 86 ', ' Japan ', ' 123,103,479 ', ' 364,555 ', ' 338 '],\n",
       " [' 87 ', ' Jordan ', ' 11,520,684 ', ' 88,780 ', ' 130 '],\n",
       " [' 88 ', ' Kazakhstan ', ' 20,843,754 ', ' 2,699,700 ', ' 8 '],\n",
       " [' 89 ', ' Kenya ', ' 57,532,493 ', ' 569,140 ', ' 101 '],\n",
       " [' 90 ', ' Kiribati ', ' 136,488 ', ' 810 ', ' 169 '],\n",
       " [' 91 ', ' Kuwait ', ' 5,026,078 ', ' 17,820 ', ' 282 '],\n",
       " [' 92 ', ' Kyrgyzstan ', ' 7,295,034 ', ' 191,800 ', ' 38 '],\n",
       " [' 93 ', ' Laos ', ' 7,873,046 ', ' 230,800 ', ' 34 '],\n",
       " [' 94 ', ' Latvia ', ' 1,853,559 ', ' 62,200 ', ' 30 '],\n",
       " [' 95 ', ' Lebanon ', ' 5,849,421 ', ' 10,230 ', ' 572 '],\n",
       " [' 96 ', ' Lesotho ', ' 2,363,325 ', ' 30,360 ', ' 78 '],\n",
       " [' 97 ', ' Liberia ', ' 5,731,206 ', ' 96,320 ', ' 60 '],\n",
       " [' 98 ', ' Libya ', ' 7,458,555 ', ' 1,759,540 ', ' 4 '],\n",
       " [' 99 ', ' Liechtenstein ', ' 40,128 ', ' 160 ', ' 251 '],\n",
       " [' 100 ', ' Lithuania ', ' 2,830,144 ', ' 62,674 ', ' 45 '],\n",
       " [' 101 ', ' Luxembourg ', ' 680,453 ', ' 2,590 ', ' 263 '],\n",
       " [' 102 ', ' Madagascar ', ' 32,740,678 ', ' 581,795 ', ' 56 '],\n",
       " [' 103 ', ' Malawi ', ' 22,216,120 ', ' 94,280 ', ' 236 '],\n",
       " [' 104 ', ' Malaysia ', ' 35,977,838 ', ' 328,550 ', ' 110 '],\n",
       " [' 105 ', ' Maldives ', ' 529,676 ', ' 300 ', ' 1,766 '],\n",
       " [' 106 ', ' Mali ', ' 25,198,821 ', ' 1,220,190 ', ' 21 '],\n",
       " [' 107 ', ' Malta ', ' 545,405 ', ' 320 ', ' 1,704 '],\n",
       " [' 108 ', ' Marshall Islands ', ' 36,282 ', ' 180 ', ' 202 '],\n",
       " [' 109 ', ' Mauritania ', ' 5,315,065 ', ' 1,030,700 ', ' 5 '],\n",
       " [' 110 ', ' Mauritius ', ' 1,268,280 ', ' 2,030 ', ' 625 '],\n",
       " [' 111 ', ' Mexico ', ' 131,946,900 ', ' 1,943,950 ', ' 68 '],\n",
       " [' 112 ', ' Micronesia ', ' 113,683 ', ' 700 ', ' 162 '],\n",
       " [' 113 ', ' Moldova ', ' 2,996,106 ', ' 32,850 ', ' 91 '],\n",
       " [' 114 ', ' Monaco ', ' 38,341 ', ' 1 ', ' 25,732 '],\n",
       " [' 115 ', ' Mongolia ', ' 3,517,100 ', ' 1,553,560 ', ' 2 '],\n",
       " [' 116 ', ' Montenegro ', ' 632,729 ', ' 13,450 ', ' 47 '],\n",
       " [' 117 ', ' Morocco ', ' 38,430,770 ', ' 446,300 ', ' 86 '],\n",
       " [' 118 ', ' Mozambique ', ' 35,631,653 ', ' 786,380 ', ' 45 '],\n",
       " [' 119 ', ' Myanmar (formerly Burma) ', ' 54,850,648 ', ' 653,290 ', ' 84 '],\n",
       " [' 120 ', ' Namibia ', ' 3,092,816 ', ' 823,290 ', ' 4 '],\n",
       " [' 121 ', ' Nauru ', ' 12,025 ', ' 20 ', ' 601 '],\n",
       " [' 122 ', ' Nepal ', ' 29,618,118 ', ' 143,350 ', ' 207 '],\n",
       " [' 123 ', ' Netherlands ', ' 18,346,819 ', ' 33,720 ', ' 544 '],\n",
       " [' 124 ', ' New Zealand ', ' 5,251,899 ', ' 263,310 ', ' 20 '],\n",
       " [' 125 ', ' Nicaragua ', ' 7,007,502 ', ' 120,340 ', ' 58 '],\n",
       " [' 126 ', ' Niger ', ' 27,917,831 ', ' 1,266,700 ', ' 22 '],\n",
       " [' 127 ', ' Nigeria ', ' 237,527,782 ', ' 910,770 ', ' 261 '],\n",
       " [' 128 ', ' North Korea ', ' 26,571,036 ', ' 120,410 ', ' 221 '],\n",
       " [' 129 ', ' North Macedonia ', ' 1,813,791 ', ' 25,220 ', ' 72 '],\n",
       " [' 130 ', ' Norway ', ' 5,623,071 ', ' 365,268 ', ' 15 '],\n",
       " [' 131 ', ' Oman ', ' 5,494,691 ', ' 309,500 ', ' 18 '],\n",
       " [' 132 ', ' Pakistan ', ' 255,219,554 ', ' 770,880 ', ' 331 '],\n",
       " [' 133 ', ' Palau ', ' 17,663 ', ' 460 ', ' 38 '],\n",
       " [' 134 ', ' Palestine State ', ' 5,589,623 ', ' 6,020 ', ' 929 '],\n",
       " [' 135 ', ' Panama ', ' 4,571,189 ', ' 74,340 ', ' 61 '],\n",
       " [' 136 ', ' Papua New Guinea ', ' 10,762,817 ', ' 452,860 ', ' 24 '],\n",
       " [' 137 ', ' Paraguay ', ' 7,013,078 ', ' 397,300 ', ' 18 '],\n",
       " [' 138 ', ' Peru ', ' 34,576,665 ', ' 1,280,000 ', ' 27 '],\n",
       " [' 139 ', ' Philippines ', ' 116,786,962 ', ' 298,170 ', ' 392 '],\n",
       " [' 140 ', ' Poland ', ' 38,140,910 ', ' 306,230 ', ' 125 '],\n",
       " [' 141 ', ' Portugal ', ' 10,411,834 ', ' 91,590 ', ' 114 '],\n",
       " [' 142 ', ' Qatar ', ' 3,115,889 ', ' 11,610 ', ' 268 '],\n",
       " [' 143 ', ' Romania ', ' 18,908,650 ', ' 230,170 ', ' 82 '],\n",
       " [' 144 ', ' Russia ', ' 143,997,393 ', ' 16,376,870 ', ' 9 '],\n",
       " [' 145 ', ' Rwanda ', ' 14,569,341 ', ' 24,670 ', ' 591 '],\n",
       " [' 146 ', ' Saint Kitts and Nevis ', ' 46,922 ', ' 260 ', ' 180 '],\n",
       " [' 147 ', ' Saint Lucia ', ' 180,149 ', ' 610 ', ' 295 '],\n",
       " [' 148 ', ' Saint Vincent and the Grenadines ', ' 99,924 ', ' 390 ', ' 256 '],\n",
       " [' 149 ', ' Samoa ', ' 219,306 ', ' 2,830 ', ' 77 '],\n",
       " [' 150 ', ' San Marino ', ' 33,572 ', ' 60 ', ' 560 '],\n",
       " [' 151 ', ' Sao Tome and Principe ', ' 240,254 ', ' 960 ', ' 250 '],\n",
       " [' 152 ', ' Saudi Arabia ', ' 34,566,328 ', ' 2,149,690 ', ' 16 '],\n",
       " [' 153 ', ' Senegal ', ' 18,931,966 ', ' 192,530 ', ' 98 '],\n",
       " [' 154 ', ' Serbia ', ' 6,689,039 ', ' 87,460 ', ' 76 '],\n",
       " [' 155 ', ' Seychelles ', ' 132,779 ', ' 460 ', ' 289 '],\n",
       " [' 156 ', ' Sierra Leone ', ' 8,819,794 ', ' 72,180 ', ' 122 '],\n",
       " [' 157 ', ' Singapore ', ' 5,870,750 ', ' 700 ', ' 8,387 '],\n",
       " [' 158 ', ' Slovakia ', ' 5,474,881 ', ' 48,088 ', ' 114 '],\n",
       " [' 159 ', ' Slovenia ', ' 2,117,072 ', ' 20,140 ', ' 105 '],\n",
       " [' 160 ', ' Solomon Islands ', ' 838,645 ', ' 27,990 ', ' 30 '],\n",
       " [' 161 ', ' Somalia ', ' 19,654,739 ', ' 627,340 ', ' 31 '],\n",
       " [' 162 ', ' South Africa ', ' 64,747,319 ', ' 1,213,090 ', ' 53 '],\n",
       " [' 163 ', ' South Korea ', ' 51,667,029 ', ' 97,230 ', ' 531 '],\n",
       " [' 164 ', ' South Sudan ', ' 12,188,788 ', ' 610,952 ', ' 20 '],\n",
       " [' 165 ', ' Spain ', ' 47,889,958 ', ' 498,800 ', ' 96 '],\n",
       " [' 166 ', ' Sri Lanka ', ' 23,229,470 ', ' 62,710 ', ' 370 '],\n",
       " [' 167 ', ' Sudan ', ' 51,662,147 ', ' 1,765,048 ', ' 29 '],\n",
       " [' 168 ', ' Suriname ', ' 639,850 ', ' 156,000 ', ' 4 '],\n",
       " [' 169 ', ' Sweden ', ' 10,656,633 ', ' 410,340 ', ' 26 '],\n",
       " [' 170 ', ' Switzerland ', ' 8,967,407 ', ' 39,516 ', ' 227 '],\n",
       " [' 171 ', ' Syria ', ' 25,620,427 ', ' 183,630 ', ' 140 '],\n",
       " [' 172 ', ' Tajikistan ', ' 10,786,734 ', ' 139,960 ', ' 77 '],\n",
       " [' 173 ', ' Tanzania ', ' 70,545,865 ', ' 885,800 ', ' 80 '],\n",
       " [' 174 ', ' Thailand ', ' 71,619,863 ', ' 510,890 ', ' 140 '],\n",
       " [' 175 ', ' Timor-Leste ', ' 1,418,517 ', ' 14,870 ', ' 95 '],\n",
       " [' 176 ', ' Togo ', ' 9,721,608 ', ' 54,390 ', ' 179 '],\n",
       " [' 177 ', ' Tonga ', ' 103,742 ', ' 720 ', ' 144 '],\n",
       " [' 178 ', ' Trinidad and Tobago ', ' 1,511,155 ', ' 5,130 ', ' 295 '],\n",
       " [' 179 ', ' Tunisia ', ' 12,348,573 ', ' 155,360 ', ' 79 '],\n",
       " [' 180 ', ' Turkey ', ' 87,685,426 ', ' 769,630 ', ' 114 '],\n",
       " [' 181 ', ' Turkmenistan ', ' 7,618,847 ', ' 469,930 ', ' 16 '],\n",
       " [' 182 ', ' Tuvalu ', ' 9,492 ', ' 30 ', ' 316 '],\n",
       " [' 183 ', ' Uganda ', ' 51,384,894 ', ' 199,810 ', ' 257 '],\n",
       " [' 184 ', ' Ukraine ', ' 38,980,376 ', ' 579,320 ', ' 67 '],\n",
       " [' 185 ', ' United Arab Emirates ', ' 11,346,000 ', ' 83,600 ', ' 136 '],\n",
       " [' 186 ', ' United Kingdom ', ' 69,551,332 ', ' 241,930 ', ' 287 '],\n",
       " [' 187 ',\n",
       "  ' United States of America ',\n",
       "  ' 347,275,807 ',\n",
       "  ' 9,147,420 ',\n",
       "  ' 38 '],\n",
       " [' 188 ', ' Uruguay ', ' 3,384,688 ', ' 175,020 ', ' 19 '],\n",
       " [' 189 ', ' Uzbekistan ', ' 37,053,428 ', ' 425,400 ', ' 87 '],\n",
       " [' 190 ', ' Vanuatu ', ' 335,169 ', ' 12,190 ', ' 27 '],\n",
       " [' 191 ', ' Venezuela ', ' 28,516,896 ', ' 882,050 ', ' 32 '],\n",
       " [' 192 ', ' Vietnam ', ' 101,598,527 ', ' 310,070 ', ' 328 '],\n",
       " [' 193 ', ' Yemen ', ' 41,773,878 ', ' 527,970 ', ' 79 '],\n",
       " [' 194 ', ' Zambia ', ' 21,913,874 ', ' 743,390 ', ' 29 '],\n",
       " [' 195 ', ' Zimbabwe ', ' 16,950,795 ', ' 386,850 ', ' 44 ']]"
      ]
     },
     "execution_count": 11,
     "metadata": {},
     "output_type": "execute_result"
    }
   ],
   "source": [
    "table_data = []\n",
    "table=[]\n",
    "thead=table_tag.thead\n",
    "tbody = table_tag.tbody\n",
    "\n",
    "for tr in thead.find_all('tr'):\n",
    "    row_data=[]\n",
    "    for th in tr.find_all('th'):\n",
    "        row_data.append(th.text)\n",
    "    table.append(row_data)\n",
    "\n",
    "for tr in tbody.find_all('tr'):\n",
    "        row_data = []\n",
    "        for td in tr.find_all('td'):\n",
    "            row_data.append(td.text)\n",
    "        table.append(row_data)  \n",
    "table_data.extend(table)    \n",
    "table_data\n",
    "\n",
    "\n"
   ]
  },
  {
   "cell_type": "code",
   "execution_count": 12,
   "id": "eb0c72b3",
   "metadata": {},
   "outputs": [
    {
     "name": "stdout",
     "output_type": "stream",
     "text": [
      "Data saved using pandas.\n"
     ]
    },
    {
     "data": {
      "application/vnd.microsoft.datawrangler.viewer.v0+json": {
       "columns": [
        {
         "name": "index",
         "rawType": "int64",
         "type": "integer"
        },
        {
         "name": " # ",
         "rawType": "object",
         "type": "string"
        },
        {
         "name": " Country ",
         "rawType": "object",
         "type": "string"
        },
        {
         "name": " Population(2025) ",
         "rawType": "object",
         "type": "string"
        },
        {
         "name": " Land Area(Km²) ",
         "rawType": "object",
         "type": "string"
        },
        {
         "name": " Density(P/Km²) ",
         "rawType": "object",
         "type": "string"
        }
       ],
       "ref": "83a6350b-5cd8-4813-9851-0556acf710d6",
       "rows": [
        [
         "0",
         " 1 ",
         " Afghanistan ",
         " 43,844,111 ",
         " 652,860 ",
         " 67 "
        ],
        [
         "1",
         " 2 ",
         " Albania ",
         " 2,771,508 ",
         " 27,400 ",
         " 101 "
        ],
        [
         "2",
         " 3 ",
         " Algeria ",
         " 47,435,312 ",
         " 2,381,740 ",
         " 20 "
        ],
        [
         "3",
         " 4 ",
         " Andorra ",
         " 82,904 ",
         " 470 ",
         " 176 "
        ],
        [
         "4",
         " 5 ",
         " Angola ",
         " 39,040,039 ",
         " 1,246,700 ",
         " 31 "
        ],
        [
         "5",
         " 6 ",
         " Antigua and Barbuda ",
         " 94,209 ",
         " 440 ",
         " 214 "
        ],
        [
         "6",
         " 7 ",
         " Argentina ",
         " 45,851,378 ",
         " 2,736,690 ",
         " 17 "
        ],
        [
         "7",
         " 8 ",
         " Armenia ",
         " 2,952,365 ",
         " 28,470 ",
         " 104 "
        ],
        [
         "8",
         " 9 ",
         " Australia ",
         " 26,974,026 ",
         " 7,682,300 ",
         " 4 "
        ],
        [
         "9",
         " 10 ",
         " Austria ",
         " 9,113,574 ",
         " 82,409 ",
         " 111 "
        ],
        [
         "10",
         " 11 ",
         " Azerbaijan ",
         " 10,397,713 ",
         " 82,658 ",
         " 126 "
        ],
        [
         "11",
         " 12 ",
         " Bahamas ",
         " 403,033 ",
         " 10,010 ",
         " 40 "
        ],
        [
         "12",
         " 13 ",
         " Bahrain ",
         " 1,643,332 ",
         " 760 ",
         " 2,162 "
        ],
        [
         "13",
         " 14 ",
         " Bangladesh ",
         " 175,686,899 ",
         " 130,170 ",
         " 1,350 "
        ],
        [
         "14",
         " 15 ",
         " Barbados ",
         " 282,623 ",
         " 430 ",
         " 657 "
        ],
        [
         "15",
         " 16 ",
         " Belarus ",
         " 8,997,603 ",
         " 202,910 ",
         " 44 "
        ],
        [
         "16",
         " 17 ",
         " Belgium ",
         " 11,758,603 ",
         " 30,280 ",
         " 388 "
        ],
        [
         "17",
         " 18 ",
         " Belize ",
         " 422,924 ",
         " 22,810 ",
         " 19 "
        ],
        [
         "18",
         " 19 ",
         " Benin ",
         " 14,814,460 ",
         " 112,760 ",
         " 131 "
        ],
        [
         "19",
         " 20 ",
         " Bhutan ",
         " 796,682 ",
         " 38,117 ",
         " 21 "
        ],
        [
         "20",
         " 21 ",
         " Bolivia ",
         " 12,581,843 ",
         " 1,083,300 ",
         " 12 "
        ],
        [
         "21",
         " 22 ",
         " Bosnia and Herzegovina ",
         " 3,140,095 ",
         " 51,000 ",
         " 62 "
        ],
        [
         "22",
         " 23 ",
         " Botswana ",
         " 2,562,122 ",
         " 566,730 ",
         " 5 "
        ],
        [
         "23",
         " 24 ",
         " Brazil ",
         " 212,812,405 ",
         " 8,358,140 ",
         " 25 "
        ],
        [
         "24",
         " 25 ",
         " Brunei  ",
         " 466,330 ",
         " 5,270 ",
         " 88 "
        ],
        [
         "25",
         " 26 ",
         " Bulgaria ",
         " 6,714,560 ",
         " 108,560 ",
         " 62 "
        ],
        [
         "26",
         " 27 ",
         " Burkina Faso ",
         " 24,074,580 ",
         " 273,600 ",
         " 88 "
        ],
        [
         "27",
         " 28 ",
         " Burundi ",
         " 14,390,003 ",
         " 25,680 ",
         " 560 "
        ],
        [
         "28",
         " 29 ",
         " Cabo Verde ",
         " 527,326 ",
         " 4,030 ",
         " 131 "
        ],
        [
         "29",
         " 30 ",
         " Cambodia ",
         " 17,847,982 ",
         " 176,520 ",
         " 101 "
        ],
        [
         "30",
         " 31 ",
         " Cameroon ",
         " 29,879,337 ",
         " 472,710 ",
         " 63 "
        ],
        [
         "31",
         " 32 ",
         " Canada ",
         " 40,126,723 ",
         " 9,093,510 ",
         " 4 "
        ],
        [
         "32",
         " 33 ",
         " Central African Republic ",
         " 5,513,282 ",
         " 622,980 ",
         " 9 "
        ],
        [
         "33",
         " 34 ",
         " Chad ",
         " 21,003,705 ",
         " 1,259,200 ",
         " 17 "
        ],
        [
         "34",
         " 35 ",
         " Chile ",
         " 19,859,921 ",
         " 743,532 ",
         " 27 "
        ],
        [
         "35",
         " 36 ",
         " China ",
         " 1,416,096,094 ",
         " 9,388,211 ",
         " 151 "
        ],
        [
         "36",
         " 37 ",
         " Colombia ",
         " 53,425,635 ",
         " 1,109,500 ",
         " 48 "
        ],
        [
         "37",
         " 38 ",
         " Comoros ",
         " 882,847 ",
         " 1,861 ",
         " 474 "
        ],
        [
         "38",
         " 39 ",
         " Congo (Congo-Brazzaville) ",
         " 6,484,437 ",
         " 341,500 ",
         " 19 "
        ],
        [
         "39",
         " 40 ",
         " Costa Rica ",
         " 5,152,950 ",
         " 51,060 ",
         " 101 "
        ],
        [
         "40",
         " 41 ",
         " Côte d'Ivoire ",
         " 32,711,547 ",
         " 318,000 ",
         " 103 "
        ],
        [
         "41",
         " 42 ",
         " Croatia ",
         " 3,848,160 ",
         " 55,960 ",
         " 69 "
        ],
        [
         "42",
         " 43 ",
         " Cuba ",
         " 10,937,203 ",
         " 106,440 ",
         " 103 "
        ],
        [
         "43",
         " 44 ",
         " Cyprus ",
         " 1,370,754 ",
         " 9,240 ",
         " 148 "
        ],
        [
         "44",
         " 45 ",
         " Czechia (Czech Republic) ",
         " 10,609,239 ",
         " 77,240 ",
         " 137 "
        ],
        [
         "45",
         " 46 ",
         " Democratic Republic of the Congo ",
         " 112,832,473 ",
         " 2,267,050 ",
         " 50 "
        ],
        [
         "46",
         " 47 ",
         " Denmark ",
         " 6,002,507 ",
         " 42,430 ",
         " 141 "
        ],
        [
         "47",
         " 48 ",
         " Djibouti ",
         " 1,184,076 ",
         " 23,180 ",
         " 51 "
        ],
        [
         "48",
         " 49 ",
         " Dominica ",
         " 65,871 ",
         " 750 ",
         " 88 "
        ],
        [
         "49",
         " 50 ",
         " Dominican Republic ",
         " 11,520,487 ",
         " 48,320 ",
         " 238 "
        ]
       ],
       "shape": {
        "columns": 5,
        "rows": 195
       }
      },
      "text/html": [
       "<div>\n",
       "<style scoped>\n",
       "    .dataframe tbody tr th:only-of-type {\n",
       "        vertical-align: middle;\n",
       "    }\n",
       "\n",
       "    .dataframe tbody tr th {\n",
       "        vertical-align: top;\n",
       "    }\n",
       "\n",
       "    .dataframe thead th {\n",
       "        text-align: right;\n",
       "    }\n",
       "</style>\n",
       "<table border=\"1\" class=\"dataframe\">\n",
       "  <thead>\n",
       "    <tr style=\"text-align: right;\">\n",
       "      <th></th>\n",
       "      <th>#</th>\n",
       "      <th>Country</th>\n",
       "      <th>Population(2025)</th>\n",
       "      <th>Land Area(Km²)</th>\n",
       "      <th>Density(P/Km²)</th>\n",
       "    </tr>\n",
       "  </thead>\n",
       "  <tbody>\n",
       "    <tr>\n",
       "      <th>0</th>\n",
       "      <td>1</td>\n",
       "      <td>Afghanistan</td>\n",
       "      <td>43,844,111</td>\n",
       "      <td>652,860</td>\n",
       "      <td>67</td>\n",
       "    </tr>\n",
       "    <tr>\n",
       "      <th>1</th>\n",
       "      <td>2</td>\n",
       "      <td>Albania</td>\n",
       "      <td>2,771,508</td>\n",
       "      <td>27,400</td>\n",
       "      <td>101</td>\n",
       "    </tr>\n",
       "    <tr>\n",
       "      <th>2</th>\n",
       "      <td>3</td>\n",
       "      <td>Algeria</td>\n",
       "      <td>47,435,312</td>\n",
       "      <td>2,381,740</td>\n",
       "      <td>20</td>\n",
       "    </tr>\n",
       "    <tr>\n",
       "      <th>3</th>\n",
       "      <td>4</td>\n",
       "      <td>Andorra</td>\n",
       "      <td>82,904</td>\n",
       "      <td>470</td>\n",
       "      <td>176</td>\n",
       "    </tr>\n",
       "    <tr>\n",
       "      <th>4</th>\n",
       "      <td>5</td>\n",
       "      <td>Angola</td>\n",
       "      <td>39,040,039</td>\n",
       "      <td>1,246,700</td>\n",
       "      <td>31</td>\n",
       "    </tr>\n",
       "    <tr>\n",
       "      <th>...</th>\n",
       "      <td>...</td>\n",
       "      <td>...</td>\n",
       "      <td>...</td>\n",
       "      <td>...</td>\n",
       "      <td>...</td>\n",
       "    </tr>\n",
       "    <tr>\n",
       "      <th>190</th>\n",
       "      <td>191</td>\n",
       "      <td>Venezuela</td>\n",
       "      <td>28,516,896</td>\n",
       "      <td>882,050</td>\n",
       "      <td>32</td>\n",
       "    </tr>\n",
       "    <tr>\n",
       "      <th>191</th>\n",
       "      <td>192</td>\n",
       "      <td>Vietnam</td>\n",
       "      <td>101,598,527</td>\n",
       "      <td>310,070</td>\n",
       "      <td>328</td>\n",
       "    </tr>\n",
       "    <tr>\n",
       "      <th>192</th>\n",
       "      <td>193</td>\n",
       "      <td>Yemen</td>\n",
       "      <td>41,773,878</td>\n",
       "      <td>527,970</td>\n",
       "      <td>79</td>\n",
       "    </tr>\n",
       "    <tr>\n",
       "      <th>193</th>\n",
       "      <td>194</td>\n",
       "      <td>Zambia</td>\n",
       "      <td>21,913,874</td>\n",
       "      <td>743,390</td>\n",
       "      <td>29</td>\n",
       "    </tr>\n",
       "    <tr>\n",
       "      <th>194</th>\n",
       "      <td>195</td>\n",
       "      <td>Zimbabwe</td>\n",
       "      <td>16,950,795</td>\n",
       "      <td>386,850</td>\n",
       "      <td>44</td>\n",
       "    </tr>\n",
       "  </tbody>\n",
       "</table>\n",
       "<p>195 rows × 5 columns</p>\n",
       "</div>"
      ],
      "text/plain": [
       "        #        Country  Population(2025)  Land Area(Km²)  Density(P/Km²) \n",
       "0       1    Afghanistan        43,844,111         652,860              67 \n",
       "1       2        Albania         2,771,508          27,400             101 \n",
       "2       3        Algeria        47,435,312       2,381,740              20 \n",
       "3       4        Andorra            82,904             470             176 \n",
       "4       5         Angola        39,040,039       1,246,700              31 \n",
       "..     ...            ...               ...             ...             ...\n",
       "190   191      Venezuela        28,516,896         882,050              32 \n",
       "191   192        Vietnam       101,598,527         310,070             328 \n",
       "192   193          Yemen        41,773,878         527,970              79 \n",
       "193   194         Zambia        21,913,874         743,390              29 \n",
       "194   195       Zimbabwe        16,950,795         386,850              44 \n",
       "\n",
       "[195 rows x 5 columns]"
      ]
     },
     "execution_count": 12,
     "metadata": {},
     "output_type": "execute_result"
    }
   ],
   "source": [
    "import pandas as pd\n",
    "\n",
    "# Convert to DataFrame and save\n",
    "df = pd.DataFrame(table_data[1:], columns=table_data[0])  # assuming first row is header\n",
    "df.to_csv('CountryData.csv', index=False, encoding='utf-8')\n",
    "\n",
    "print(\"Data saved using pandas.\")\n",
    "\n",
    "df\n"
   ]
  },
  {
   "cell_type": "code",
   "execution_count": 13,
   "id": "c64d175e",
   "metadata": {},
   "outputs": [
    {
     "name": "stdout",
     "output_type": "stream",
     "text": [
      "['#', 'Country', 'Population(2025)', 'Land Area(Km²)', 'Density(P/Km²)']\n"
     ]
    }
   ],
   "source": [
    "import pandas as pd\n",
    "\n",
    "# Load CSV and strip unnecessary spaces\n",
    "df = pd.read_csv(\"CountryData.csv\", skipinitialspace=True)\n",
    "\n",
    "# Clean column names (remove leading/trailing spaces and newlines)\n",
    "df.columns = df.columns.str.strip()\n",
    "\n",
    "# Check column names\n",
    "print(df.columns.tolist())\n"
   ]
  },
  {
   "cell_type": "code",
   "execution_count": 14,
   "id": "dd9a0c37",
   "metadata": {},
   "outputs": [],
   "source": [
    "# Remove quotes and commas, then convert to numeric\n",
    "df[\"Density(P/Km²)\"] = (\n",
    "    df[\"Density(P/Km²)\"]\n",
    "    .astype(str)\n",
    "    .str.replace('\"', '', regex=False)\n",
    "    .str.replace(',', '', regex=False)\n",
    "    .str.strip()\n",
    "    .replace('', '0')  # Replace empty strings with 0\n",
    "    .astype(int)\n",
    ")\n"
   ]
  },
  {
   "cell_type": "code",
   "execution_count": 15,
   "id": "a24bee96",
   "metadata": {},
   "outputs": [],
   "source": [
    "df = df.sort_values(by=\"Density(P/Km²)\", ascending=False)\n",
    "df.to_csv(\"Sorted_CountryData.csv\", index=False)\n",
    "\n"
   ]
  },
  {
   "cell_type": "code",
   "execution_count": 16,
   "id": "5f380a21",
   "metadata": {},
   "outputs": [
    {
     "data": {
      "application/vnd.microsoft.datawrangler.viewer.v0+json": {
       "columns": [
        {
         "name": "index",
         "rawType": "int64",
         "type": "integer"
        },
        {
         "name": "#",
         "rawType": "int64",
         "type": "integer"
        },
        {
         "name": "Country",
         "rawType": "object",
         "type": "string"
        },
        {
         "name": "Population(2025)",
         "rawType": "object",
         "type": "string"
        },
        {
         "name": "Land Area(Km²)",
         "rawType": "object",
         "type": "string"
        },
        {
         "name": "Density(P/Km²)",
         "rawType": "int64",
         "type": "integer"
        }
       ],
       "ref": "79227696-bf5b-4a5a-8e66-8babbab7c5b9",
       "rows": [
        [
         "150",
         "151",
         "Sao Tome and Principe ",
         " 240,254 ",
         "960 ",
         "250"
        ],
        [
         "89",
         "90",
         "Kiribati ",
         " 136,488 ",
         "810 ",
         "169"
        ],
        [
         "12",
         "13",
         "Bahrain ",
         " 1,643,332 ",
         "760 ",
         "2162"
        ],
        [
         "48",
         "49",
         "Dominica ",
         " 65,871 ",
         "750 ",
         "88"
        ],
        [
         "176",
         "177",
         "Tonga ",
         " 103,742 ",
         "720 ",
         "144"
        ],
        [
         "156",
         "157",
         "Singapore ",
         " 5,870,750 ",
         "700 ",
         "8387"
        ],
        [
         "111",
         "112",
         "Micronesia ",
         " 113,683 ",
         "700 ",
         "162"
        ],
        [
         "146",
         "147",
         "Saint Lucia ",
         " 180,149 ",
         "610 ",
         "295"
        ],
        [
         "149",
         "150",
         "San Marino ",
         " 33,572 ",
         "60 ",
         "560"
        ],
        [
         "3",
         "4",
         "Andorra ",
         " 82,904 ",
         "470 ",
         "176"
        ],
        [
         "154",
         "155",
         "Seychelles ",
         " 132,779 ",
         "460 ",
         "289"
        ],
        [
         "132",
         "133",
         "Palau ",
         " 17,663 ",
         "460 ",
         "38"
        ],
        [
         "5",
         "6",
         "Antigua and Barbuda ",
         " 94,209 ",
         "440 ",
         "214"
        ],
        [
         "14",
         "15",
         "Barbados ",
         " 282,623 ",
         "430 ",
         "657"
        ],
        [
         "147",
         "148",
         "Saint Vincent and the Grenadines ",
         " 99,924 ",
         "390 ",
         "256"
        ],
        [
         "67",
         "68",
         "Grenada ",
         " 117,303 ",
         "340 ",
         "345"
        ],
        [
         "106",
         "107",
         "Malta ",
         " 545,405 ",
         "320 ",
         "1704"
        ],
        [
         "104",
         "105",
         "Maldives ",
         " 529,676 ",
         "300 ",
         "1766"
        ],
        [
         "181",
         "182",
         "Tuvalu ",
         " 9,492 ",
         "30 ",
         "316"
        ],
        [
         "145",
         "146",
         "Saint Kitts and Nevis ",
         " 46,922 ",
         "260 ",
         "180"
        ],
        [
         "120",
         "121",
         "Nauru ",
         " 12,025 ",
         "20 ",
         "601"
        ],
        [
         "107",
         "108",
         "Marshall Islands ",
         " 36,282 ",
         "180 ",
         "202"
        ],
        [
         "98",
         "99",
         "Liechtenstein ",
         " 40,128 ",
         "160 ",
         "251"
        ],
        [
         "113",
         "114",
         "Monaco ",
         " 38,341 ",
         "1 ",
         "25732"
        ],
        [
         "73",
         "74",
         "Holy See ",
         "501 ",
         "0 ",
         "1253"
        ],
        [
         "51",
         "52",
         "Egypt ",
         " 118,365,995 ",
         " 995,450 ",
         "119"
        ],
        [
         "162",
         "163",
         "South Korea ",
         " 51,667,029 ",
         " 97,230 ",
         "531"
        ],
        [
         "96",
         "97",
         "Liberia ",
         " 5,731,206 ",
         " 96,320 ",
         "60"
        ],
        [
         "102",
         "103",
         "Malawi ",
         " 22,216,120 ",
         " 94,280 ",
         "236"
        ],
        [
         "126",
         "127",
         "Nigeria ",
         " 237,527,782 ",
         " 910,770 ",
         "261"
        ],
        [
         "140",
         "141",
         "Portugal ",
         " 10,411,834 ",
         " 91,590 ",
         "114"
        ],
        [
         "75",
         "76",
         "Hungary ",
         " 9,632,287 ",
         " 90,530 ",
         "106"
        ],
        [
         "35",
         "36",
         "China ",
         " 1,416,096,094 ",
         " 9,388,211 ",
         "151"
        ],
        [
         "43",
         "44",
         "Cyprus ",
         " 1,370,754 ",
         " 9,240 ",
         "148"
        ],
        [
         "186",
         "187",
         "United States of America ",
         " 347,275,807 ",
         " 9,147,420 ",
         "38"
        ],
        [
         "31",
         "32",
         "Canada ",
         " 40,126,723 ",
         " 9,093,510 ",
         "4"
        ],
        [
         "172",
         "173",
         "Tanzania ",
         " 70,545,865 ",
         " 885,800 ",
         "80"
        ],
        [
         "190",
         "191",
         "Venezuela ",
         " 28,516,896 ",
         " 882,050 ",
         "32"
        ],
        [
         "86",
         "87",
         "Jordan ",
         " 11,520,684 ",
         " 88,780 ",
         "130"
        ],
        [
         "153",
         "154",
         "Serbia ",
         " 6,689,039 ",
         " 87,460 ",
         "76"
        ],
        [
         "184",
         "185",
         "United Arab Emirates ",
         " 11,346,000 ",
         " 83,600 ",
         "136"
        ],
        [
         "119",
         "120",
         "Namibia ",
         " 3,092,816 ",
         " 823,290 ",
         "4"
        ],
        [
         "10",
         "11",
         "Azerbaijan ",
         " 10,397,713 ",
         " 82,658 ",
         "126"
        ],
        [
         "9",
         "10",
         "Austria ",
         " 9,113,574 ",
         " 82,409 ",
         "111"
        ],
        [
         "23",
         "24",
         "Brazil ",
         " 212,812,405 ",
         " 8,358,140 ",
         "25"
        ],
        [
         "117",
         "118",
         "Mozambique ",
         " 35,631,653 ",
         " 786,380 ",
         "45"
        ],
        [
         "131",
         "132",
         "Pakistan ",
         " 255,219,554 ",
         " 770,880 ",
         "331"
        ],
        [
         "44",
         "45",
         "Czechia (Czech Republic) ",
         " 10,609,239 ",
         " 77,240 ",
         "137"
        ],
        [
         "179",
         "180",
         "Turkey ",
         " 87,685,426 ",
         " 769,630 ",
         "114"
        ],
        [
         "34",
         "35",
         "Chile ",
         " 19,859,921 ",
         " 743,532 ",
         "27"
        ]
       ],
       "shape": {
        "columns": 5,
        "rows": 195
       }
      },
      "text/html": [
       "<div>\n",
       "<style scoped>\n",
       "    .dataframe tbody tr th:only-of-type {\n",
       "        vertical-align: middle;\n",
       "    }\n",
       "\n",
       "    .dataframe tbody tr th {\n",
       "        vertical-align: top;\n",
       "    }\n",
       "\n",
       "    .dataframe thead th {\n",
       "        text-align: right;\n",
       "    }\n",
       "</style>\n",
       "<table border=\"1\" class=\"dataframe\">\n",
       "  <thead>\n",
       "    <tr style=\"text-align: right;\">\n",
       "      <th></th>\n",
       "      <th>#</th>\n",
       "      <th>Country</th>\n",
       "      <th>Population(2025)</th>\n",
       "      <th>Land Area(Km²)</th>\n",
       "      <th>Density(P/Km²)</th>\n",
       "    </tr>\n",
       "  </thead>\n",
       "  <tbody>\n",
       "    <tr>\n",
       "      <th>150</th>\n",
       "      <td>151</td>\n",
       "      <td>Sao Tome and Principe</td>\n",
       "      <td>240,254</td>\n",
       "      <td>960</td>\n",
       "      <td>250</td>\n",
       "    </tr>\n",
       "    <tr>\n",
       "      <th>89</th>\n",
       "      <td>90</td>\n",
       "      <td>Kiribati</td>\n",
       "      <td>136,488</td>\n",
       "      <td>810</td>\n",
       "      <td>169</td>\n",
       "    </tr>\n",
       "    <tr>\n",
       "      <th>12</th>\n",
       "      <td>13</td>\n",
       "      <td>Bahrain</td>\n",
       "      <td>1,643,332</td>\n",
       "      <td>760</td>\n",
       "      <td>2162</td>\n",
       "    </tr>\n",
       "    <tr>\n",
       "      <th>48</th>\n",
       "      <td>49</td>\n",
       "      <td>Dominica</td>\n",
       "      <td>65,871</td>\n",
       "      <td>750</td>\n",
       "      <td>88</td>\n",
       "    </tr>\n",
       "    <tr>\n",
       "      <th>176</th>\n",
       "      <td>177</td>\n",
       "      <td>Tonga</td>\n",
       "      <td>103,742</td>\n",
       "      <td>720</td>\n",
       "      <td>144</td>\n",
       "    </tr>\n",
       "    <tr>\n",
       "      <th>...</th>\n",
       "      <td>...</td>\n",
       "      <td>...</td>\n",
       "      <td>...</td>\n",
       "      <td>...</td>\n",
       "      <td>...</td>\n",
       "    </tr>\n",
       "    <tr>\n",
       "      <th>161</th>\n",
       "      <td>162</td>\n",
       "      <td>South Africa</td>\n",
       "      <td>64,747,319</td>\n",
       "      <td>1,213,090</td>\n",
       "      <td>53</td>\n",
       "    </tr>\n",
       "    <tr>\n",
       "      <th>36</th>\n",
       "      <td>37</td>\n",
       "      <td>Colombia</td>\n",
       "      <td>53,425,635</td>\n",
       "      <td>1,109,500</td>\n",
       "      <td>48</td>\n",
       "    </tr>\n",
       "    <tr>\n",
       "      <th>20</th>\n",
       "      <td>21</td>\n",
       "      <td>Bolivia</td>\n",
       "      <td>12,581,843</td>\n",
       "      <td>1,083,300</td>\n",
       "      <td>12</td>\n",
       "    </tr>\n",
       "    <tr>\n",
       "      <th>108</th>\n",
       "      <td>109</td>\n",
       "      <td>Mauritania</td>\n",
       "      <td>5,315,065</td>\n",
       "      <td>1,030,700</td>\n",
       "      <td>5</td>\n",
       "    </tr>\n",
       "    <tr>\n",
       "      <th>57</th>\n",
       "      <td>58</td>\n",
       "      <td>Ethiopia</td>\n",
       "      <td>135,472,051</td>\n",
       "      <td>1,000,000</td>\n",
       "      <td>135</td>\n",
       "    </tr>\n",
       "  </tbody>\n",
       "</table>\n",
       "<p>195 rows × 5 columns</p>\n",
       "</div>"
      ],
      "text/plain": [
       "       #                 Country Population(2025) Land Area(Km²)  \\\n",
       "150  151  Sao Tome and Principe          240,254            960    \n",
       "89    90               Kiribati          136,488            810    \n",
       "12    13                Bahrain        1,643,332            760    \n",
       "48    49               Dominica           65,871            750    \n",
       "176  177                  Tonga          103,742            720    \n",
       "..   ...                     ...              ...            ...   \n",
       "161  162           South Africa       64,747,319      1,213,090    \n",
       "36    37               Colombia       53,425,635      1,109,500    \n",
       "20    21                Bolivia       12,581,843      1,083,300    \n",
       "108  109             Mauritania        5,315,065      1,030,700    \n",
       "57    58               Ethiopia      135,472,051      1,000,000    \n",
       "\n",
       "     Density(P/Km²)  \n",
       "150             250  \n",
       "89              169  \n",
       "12             2162  \n",
       "48               88  \n",
       "176             144  \n",
       "..              ...  \n",
       "161              53  \n",
       "36               48  \n",
       "20               12  \n",
       "108               5  \n",
       "57              135  \n",
       "\n",
       "[195 rows x 5 columns]"
      ]
     },
     "execution_count": 16,
     "metadata": {},
     "output_type": "execute_result"
    }
   ],
   "source": [
    "df = df.sort_values(by=\"Land Area(Km²)\", ascending=False)\n",
    "df.to_csv(\"Population_Sorted_CountryData.csv\", index=False)\n",
    "df"
   ]
  },
  {
   "cell_type": "code",
   "execution_count": 17,
   "id": "3603808f",
   "metadata": {},
   "outputs": [
    {
     "data": {
      "application/vnd.microsoft.datawrangler.viewer.v0+json": {
       "columns": [
        {
         "name": "index",
         "rawType": "int64",
         "type": "integer"
        },
        {
         "name": "#",
         "rawType": "int64",
         "type": "integer"
        },
        {
         "name": "Country",
         "rawType": "object",
         "type": "string"
        },
        {
         "name": "Population(2025)",
         "rawType": "object",
         "type": "string"
        },
        {
         "name": "Land Area(Km²)",
         "rawType": "object",
         "type": "string"
        },
        {
         "name": "Density(P/Km²)",
         "rawType": "int64",
         "type": "integer"
        }
       ],
       "ref": "38f905c8-5087-405b-b9d8-4609ce5d4f80",
       "rows": [
        [
         "73",
         "74",
         "Holy See ",
         "501 ",
         "0 ",
         "1253"
        ],
        [
         "147",
         "148",
         "Saint Vincent and the Grenadines ",
         " 99,924 ",
         "390 ",
         "256"
        ],
        [
         "5",
         "6",
         "Antigua and Barbuda ",
         " 94,209 ",
         "440 ",
         "214"
        ],
        [
         "58",
         "59",
         "Fiji ",
         " 933,154 ",
         " 18,270 ",
         "51"
        ],
        [
         "79",
         "80",
         "Iran ",
         " 92,417,681 ",
         " 1,628,550 ",
         "57"
        ],
        [
         "66",
         "67",
         "Greece ",
         " 9,938,844 ",
         " 128,900 ",
         "77"
        ],
        [
         "175",
         "176",
         "Togo ",
         " 9,721,608 ",
         " 54,390 ",
         "179"
        ],
        [
         "75",
         "76",
         "Hungary ",
         " 9,632,287 ",
         " 90,530 ",
         "106"
        ],
        [
         "82",
         "83",
         "Israel ",
         " 9,517,181 ",
         " 21,640 ",
         "440"
        ],
        [
         "181",
         "182",
         "Tuvalu ",
         " 9,492 ",
         "30 ",
         "316"
        ],
        [
         "9",
         "10",
         "Austria ",
         " 9,113,574 ",
         " 82,409 ",
         "111"
        ],
        [
         "37",
         "38",
         "Comoros ",
         " 882,847 ",
         " 1,861 ",
         "474"
        ],
        [
         "179",
         "180",
         "Turkey ",
         " 87,685,426 ",
         " 769,630 ",
         "114"
        ],
        [
         "64",
         "65",
         "Germany ",
         " 84,075,075 ",
         " 348,560 ",
         "241"
        ],
        [
         "159",
         "160",
         "Solomon Islands ",
         " 838,645 ",
         " 27,990 ",
         "30"
        ],
        [
         "71",
         "72",
         "Guyana ",
         " 835,986 ",
         " 196,850 ",
         "4"
        ],
        [
         "3",
         "4",
         "Andorra ",
         " 82,904 ",
         "470 ",
         "176"
        ],
        [
         "15",
         "16",
         "Belarus ",
         " 8,997,603 ",
         " 202,910 ",
         "44"
        ],
        [
         "169",
         "170",
         "Switzerland ",
         " 8,967,407 ",
         " 39,516 ",
         "227"
        ],
        [
         "155",
         "156",
         "Sierra Leone ",
         " 8,819,794 ",
         " 72,180 ",
         "122"
        ],
        [
         "19",
         "20",
         "Bhutan ",
         " 796,682 ",
         " 38,117 ",
         "21"
        ],
        [
         "173",
         "174",
         "Thailand ",
         " 71,619,863 ",
         " 510,890 ",
         "140"
        ],
        [
         "172",
         "173",
         "Tanzania ",
         " 70,545,865 ",
         " 885,800 ",
         "80"
        ],
        [
         "92",
         "93",
         "Laos ",
         " 7,873,046 ",
         " 230,800 ",
         "34"
        ],
        [
         "180",
         "181",
         "Turkmenistan ",
         " 7,618,847 ",
         " 469,930 ",
         "16"
        ],
        [
         "97",
         "98",
         "Libya ",
         " 7,458,555 ",
         " 1,759,540 ",
         "4"
        ],
        [
         "91",
         "92",
         "Kyrgyzstan ",
         " 7,295,034 ",
         " 191,800 ",
         "38"
        ],
        [
         "136",
         "137",
         "Paraguay ",
         " 7,013,078 ",
         " 397,300 ",
         "18"
        ],
        [
         "124",
         "125",
         "Nicaragua ",
         " 7,007,502 ",
         " 120,340 ",
         "58"
        ],
        [
         "185",
         "186",
         "United Kingdom ",
         " 69,551,332 ",
         " 241,930 ",
         "287"
        ],
        [
         "100",
         "101",
         "Luxembourg ",
         " 680,453 ",
         " 2,590 ",
         "263"
        ],
        [
         "60",
         "61",
         "France ",
         " 66,650,804 ",
         " 547,557 ",
         "122"
        ],
        [
         "48",
         "49",
         "Dominica ",
         " 65,871 ",
         "750 ",
         "88"
        ],
        [
         "161",
         "162",
         "South Africa ",
         " 64,747,319 ",
         " 1,213,090 ",
         "53"
        ],
        [
         "167",
         "168",
         "Suriname ",
         " 639,850 ",
         " 156,000 ",
         "4"
        ],
        [
         "115",
         "116",
         "Montenegro ",
         " 632,729 ",
         " 13,450 ",
         "47"
        ],
        [
         "25",
         "26",
         "Bulgaria ",
         " 6,714,560 ",
         " 108,560 ",
         "62"
        ],
        [
         "153",
         "154",
         "Serbia ",
         " 6,689,039 ",
         " 87,460 ",
         "76"
        ],
        [
         "38",
         "39",
         "Congo (Congo-Brazzaville) ",
         " 6,484,437 ",
         " 341,500 ",
         "19"
        ],
        [
         "52",
         "53",
         "El Salvador ",
         " 6,365,503 ",
         " 20,720 ",
         "307"
        ],
        [
         "46",
         "47",
         "Denmark ",
         " 6,002,507 ",
         " 42,430 ",
         "141"
        ],
        [
         "83",
         "84",
         "Italy ",
         " 59,146,260 ",
         " 294,140 ",
         "201"
        ],
        [
         "88",
         "89",
         "Kenya ",
         " 57,532,493 ",
         " 569,140 ",
         "101"
        ],
        [
         "106",
         "107",
         "Malta ",
         " 545,405 ",
         "320 ",
         "1704"
        ],
        [
         "118",
         "119",
         "Myanmar (formerly Burma) ",
         " 54,850,648 ",
         " 653,290 ",
         "84"
        ],
        [
         "36",
         "37",
         "Colombia ",
         " 53,425,635 ",
         " 1,109,500 ",
         "48"
        ],
        [
         "104",
         "105",
         "Maldives ",
         " 529,676 ",
         "300 ",
         "1766"
        ],
        [
         "28",
         "29",
         "Cabo Verde ",
         " 527,326 ",
         " 4,030 ",
         "131"
        ],
        [
         "162",
         "163",
         "South Korea ",
         " 51,667,029 ",
         " 97,230 ",
         "531"
        ],
        [
         "166",
         "167",
         "Sudan ",
         " 51,662,147 ",
         " 1,765,048 ",
         "29"
        ]
       ],
       "shape": {
        "columns": 5,
        "rows": 195
       }
      },
      "text/html": [
       "<div>\n",
       "<style scoped>\n",
       "    .dataframe tbody tr th:only-of-type {\n",
       "        vertical-align: middle;\n",
       "    }\n",
       "\n",
       "    .dataframe tbody tr th {\n",
       "        vertical-align: top;\n",
       "    }\n",
       "\n",
       "    .dataframe thead th {\n",
       "        text-align: right;\n",
       "    }\n",
       "</style>\n",
       "<table border=\"1\" class=\"dataframe\">\n",
       "  <thead>\n",
       "    <tr style=\"text-align: right;\">\n",
       "      <th></th>\n",
       "      <th>#</th>\n",
       "      <th>Country</th>\n",
       "      <th>Population(2025)</th>\n",
       "      <th>Land Area(Km²)</th>\n",
       "      <th>Density(P/Km²)</th>\n",
       "    </tr>\n",
       "  </thead>\n",
       "  <tbody>\n",
       "    <tr>\n",
       "      <th>73</th>\n",
       "      <td>74</td>\n",
       "      <td>Holy See</td>\n",
       "      <td>501</td>\n",
       "      <td>0</td>\n",
       "      <td>1253</td>\n",
       "    </tr>\n",
       "    <tr>\n",
       "      <th>147</th>\n",
       "      <td>148</td>\n",
       "      <td>Saint Vincent and the Grenadines</td>\n",
       "      <td>99,924</td>\n",
       "      <td>390</td>\n",
       "      <td>256</td>\n",
       "    </tr>\n",
       "    <tr>\n",
       "      <th>5</th>\n",
       "      <td>6</td>\n",
       "      <td>Antigua and Barbuda</td>\n",
       "      <td>94,209</td>\n",
       "      <td>440</td>\n",
       "      <td>214</td>\n",
       "    </tr>\n",
       "    <tr>\n",
       "      <th>58</th>\n",
       "      <td>59</td>\n",
       "      <td>Fiji</td>\n",
       "      <td>933,154</td>\n",
       "      <td>18,270</td>\n",
       "      <td>51</td>\n",
       "    </tr>\n",
       "    <tr>\n",
       "      <th>79</th>\n",
       "      <td>80</td>\n",
       "      <td>Iran</td>\n",
       "      <td>92,417,681</td>\n",
       "      <td>1,628,550</td>\n",
       "      <td>57</td>\n",
       "    </tr>\n",
       "    <tr>\n",
       "      <th>...</th>\n",
       "      <td>...</td>\n",
       "      <td>...</td>\n",
       "      <td>...</td>\n",
       "      <td>...</td>\n",
       "      <td>...</td>\n",
       "    </tr>\n",
       "    <tr>\n",
       "      <th>43</th>\n",
       "      <td>44</td>\n",
       "      <td>Cyprus</td>\n",
       "      <td>1,370,754</td>\n",
       "      <td>9,240</td>\n",
       "      <td>148</td>\n",
       "    </tr>\n",
       "    <tr>\n",
       "      <th>55</th>\n",
       "      <td>56</td>\n",
       "      <td>Estonia</td>\n",
       "      <td>1,344,232</td>\n",
       "      <td>42,390</td>\n",
       "      <td>32</td>\n",
       "    </tr>\n",
       "    <tr>\n",
       "      <th>109</th>\n",
       "      <td>110</td>\n",
       "      <td>Mauritius</td>\n",
       "      <td>1,268,280</td>\n",
       "      <td>2,030</td>\n",
       "      <td>625</td>\n",
       "    </tr>\n",
       "    <tr>\n",
       "      <th>56</th>\n",
       "      <td>57</td>\n",
       "      <td>Eswatini (fmr. \"\"Swaziland\"\")</td>\n",
       "      <td>1,256,174</td>\n",
       "      <td>17,200</td>\n",
       "      <td>73</td>\n",
       "    </tr>\n",
       "    <tr>\n",
       "      <th>47</th>\n",
       "      <td>48</td>\n",
       "      <td>Djibouti</td>\n",
       "      <td>1,184,076</td>\n",
       "      <td>23,180</td>\n",
       "      <td>51</td>\n",
       "    </tr>\n",
       "  </tbody>\n",
       "</table>\n",
       "<p>195 rows × 5 columns</p>\n",
       "</div>"
      ],
      "text/plain": [
       "       #                            Country Population(2025) Land Area(Km²)  \\\n",
       "73    74                          Holy See              501              0    \n",
       "147  148  Saint Vincent and the Grenadines           99,924            390    \n",
       "5      6               Antigua and Barbuda           94,209            440    \n",
       "58    59                              Fiji          933,154         18,270    \n",
       "79    80                              Iran       92,417,681      1,628,550    \n",
       "..   ...                                ...              ...            ...   \n",
       "43    44                            Cyprus        1,370,754          9,240    \n",
       "55    56                           Estonia        1,344,232         42,390    \n",
       "109  110                         Mauritius        1,268,280          2,030    \n",
       "56    57     Eswatini (fmr. \"\"Swaziland\"\")        1,256,174         17,200    \n",
       "47    48                          Djibouti        1,184,076         23,180    \n",
       "\n",
       "     Density(P/Km²)  \n",
       "73             1253  \n",
       "147             256  \n",
       "5               214  \n",
       "58               51  \n",
       "79               57  \n",
       "..              ...  \n",
       "43              148  \n",
       "55               32  \n",
       "109             625  \n",
       "56               73  \n",
       "47               51  \n",
       "\n",
       "[195 rows x 5 columns]"
      ]
     },
     "execution_count": 17,
     "metadata": {},
     "output_type": "execute_result"
    }
   ],
   "source": [
    "df = df.sort_values(by=\"Population(2025)\", ascending=False)\n",
    "df.to_csv(\"Population_Sorted_CountryData.csv\", index=False)\n",
    "df"
   ]
  },
  {
   "cell_type": "code",
   "execution_count": null,
   "id": "f8971609",
   "metadata": {},
   "outputs": [],
   "source": []
  }
 ],
 "metadata": {
  "kernelspec": {
   "display_name": ".venv",
   "language": "python",
   "name": "python3"
  },
  "language_info": {
   "codemirror_mode": {
    "name": "ipython",
    "version": 3
   },
   "file_extension": ".py",
   "mimetype": "text/x-python",
   "name": "python",
   "nbconvert_exporter": "python",
   "pygments_lexer": "ipython3",
   "version": "3.13.1"
  }
 },
 "nbformat": 4,
 "nbformat_minor": 5
}
