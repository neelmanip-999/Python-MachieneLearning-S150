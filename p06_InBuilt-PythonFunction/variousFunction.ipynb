{
 "cells": [
  {
   "cell_type": "markdown",
   "id": "cedd5533",
   "metadata": {},
   "source": [
    "Here's a quick explanation and examples of the various built-in Python functions you've listed:\n",
    "\n",
    "✅ abs(x)\n",
    "Returns the absolute value of a number.\n",
    "\n",
    "abs(-7)      # 7\n",
    "abs(3.2)     # 3.2\n",
    "\n",
    "\n",
    "✅ all(iterable)\n",
    "Returns True if all elements are true (or if iterable is empty).\n",
    "\n",
    "all([1, 2, 3])        # True\n",
    "all([1, 0, 3])        # False\n",
    "\n",
    "\n",
    "✅ any(iterable)\n",
    "Returns True if any element is true.\n",
    "\n",
    "any([0, False, 5])    # True\n",
    "any([0, False, None]) # False\n",
    "\n",
    "\n",
    "✅ dir([object])\n",
    "Returns all attributes and methods of the object (including magic methods).\n",
    "\n",
    "dir([])      # Shows list methods like append, pop, etc.\n",
    "\n",
    "✅ divmod(a, b)\n",
    "Returns a tuple (a // b, a % b)\n",
    "\n",
    "divmod(10, 3)     # (3, 1)\n",
    "\n",
    "\n",
    "✅ enumerate(iterable, start=0)\n",
    "Returns an enumerate object with index and value pairs.\n",
    "\n",
    "lst = ['a', 'b', 'c']\n",
    "for index, value in enumerate(lst, start=1):\n",
    "    print(index, value)\n",
    "# 1 a\n",
    "# 2 b\n",
    "# 3 c\n",
    "\n",
    "\n",
    "✅ filter(function, iterable)\n",
    "Filters items for which the function returns True.\n",
    "\n",
    "def is_even(x):\n",
    "    return x % 2 == 0\n",
    "\n",
    "list(filter(is_even, [1, 2, 3, 4]))   # [2, 4]\n",
    "✅ isinstance(object, class)\n",
    "Checks if an object is an instance of a class or tuple of classes.\n",
    "\n",
    "isinstance(5, int)            # True\n",
    "isinstance(\"hello\", (int, str))  # True\n",
    "\n",
    "✅ map(function, iterable)\n",
    "Applies a function to every item in an iterable.\n",
    "\n",
    "def square(x):\n",
    "    return x * x\n",
    "\n",
    "list(map(square, [1, 2, 3]))     # [1, 4, 9]\n",
    "\n",
    "\n",
    "✅ reduce(function, iterable)\n",
    "(Needs to be imported from functools in Python 3)\n",
    "\n",
    "Applies a function cumulatively to the items (like folding or accumulating).\n",
    "\n",
    "from functools import reduce\n",
    "\n",
    "def multiply(x, y):\n",
    "    return x * y\n",
    "\n",
    "reduce(multiply, [1, 2, 3, 4])   # 24\n",
    "\n",
    "\n",
    "✅ sorted(iterable, key=None, reverse=False)\n",
    "Returns a new sorted list.\n",
    "\n",
    "sorted([3, 1, 4])             # [1, 3, 4]\n",
    "sorted([\"apple\", \"banana\", \"pear\"], key=len)  # ['pear', 'apple', 'banana']\n",
    "sorted([3, 1, 4], reverse=True)  # [4, 3, 1]\n",
    "\n",
    "\n",
    "isinstance(\"hello\", (int, str))\n",
    "You're asking: \"Why is this not only str?\"\n",
    "In other words — why use a tuple like (int, str) instead of just writing:\n",
    "\n",
    "isinstance(\"hello\", str)\n",
    "✅ Reason:\n",
    "Using a tuple allows you to check if the object is an instance of any of the types listed.\n",
    "\n",
    "So:\n",
    "\n",
    "isinstance(\"hello\", (int, str))\n",
    "means:\n",
    "\"Check if 'hello' is an instance of either int or str.\"\n",
    "\n",
    "This returns True because \"hello\" is a str.\n",
    "\n",
    "✅ Without tuple:\n",
    "\n",
    "isinstance(\"hello\", str)         # ✅ Valid – returns True\n",
    "isinstance(\"hello\", int)         # ❌ Returns False\n",
    "isinstance(\"hello\", (int, str))  # ✅ True (because str is in the tuple)\n",
    "⚠️ Invalid use (if you don’t use a tuple):\n",
    "\n",
    "isinstance(\"hello\", int, str)    # ❌ ERROR: too many arguments\n",
    "So if you're checking against multiple types, you must use a tuple.\n",
    "\n",
    "✅ Real-world Example:\n",
    "python\n",
    "Copy\n",
    "Edit\n",
    "x = 42\n",
    "\n",
    "if isinstance(x, (int, float)):\n",
    "    print(\"It's a number!\")\n",
    "Let me know if you want to see how this works with custom classes or inheritance too.\n",
    "\n",
    "\n",
    "\n",
    "✅ Lambda Function in Python\n",
    "A lambda function is a small anonymous function — meaning it has no name.\n",
    "\n",
    " lambda arguments: expression\n",
    "It can take any number of arguments, but only one expression (no return, if, or for blocks inside).\n",
    "\n",
    "🔸 Basic Example:\n",
    "\n",
    "add = lambda a, b: a + b\n",
    "print(add(3, 5))   # 8\n",
    "This is the same as:\n",
    "\n",
    "def add(a, b):\n",
    "    return a + b\n",
    "🔸 With map(), filter(), and reduce():\n",
    "🔹 map() with lambda:\n",
    "\n",
    "nums = [1, 2, 3, 4]\n",
    "squared = list(map(lambda x: x**2, nums))\n",
    "print(squared)  # [1, 4, 9, 16]\n",
    "🔹 filter() with lambda:\n",
    "\n",
    "nums = [1, 2, 3, 4, 5]\n",
    "evens = list(filter(lambda x: x % 2 == 0, nums))\n",
    "print(evens)  # [2, 4]\n",
    "🔹 reduce() with lambda:\n",
    "\n",
    "from functools import reduce\n",
    "nums = [1, 2, 3, 4]\n",
    "product = reduce(lambda x, y: x * y, nums)\n",
    "print(product)  # 24\n",
    "🔸 With sorted() and key:\n",
    "\n",
    "words = ['apple', 'banana', 'cherry', 'fig']\n",
    "sorted_by_length = sorted(words, key=lambda word: len(word))\n",
    "print(sorted_by_length)\n",
    "# ['fig', 'apple', 'banana', 'cherry']\n",
    "✅ When to Use:\n",
    "Small, one-line functions.\n",
    "\n",
    "Temporary use (often passed as arguments).\n",
    "\n",
    "When you don’t want to define a full def function."
   ]
  },
  {
   "cell_type": "code",
   "execution_count": 1,
   "id": "c7b8d6dd",
   "metadata": {},
   "outputs": [
    {
     "data": {
      "text/plain": [
       "1.2"
      ]
     },
     "execution_count": 1,
     "metadata": {},
     "output_type": "execute_result"
    }
   ],
   "source": [
    "abs(-1.2)"
   ]
  },
  {
   "cell_type": "code",
   "execution_count": 2,
   "id": "3649b0a7",
   "metadata": {},
   "outputs": [
    {
     "data": {
      "text/plain": [
       "1.2"
      ]
     },
     "execution_count": 2,
     "metadata": {},
     "output_type": "execute_result"
    }
   ],
   "source": [
    "abs(1.2)"
   ]
  },
  {
   "cell_type": "code",
   "execution_count": 3,
   "id": "3d3164d1",
   "metadata": {},
   "outputs": [
    {
     "data": {
      "text/plain": [
       "True"
      ]
     },
     "execution_count": 3,
     "metadata": {},
     "output_type": "execute_result"
    }
   ],
   "source": [
    "all([1,2,3,4,5])"
   ]
  },
  {
   "cell_type": "code",
   "execution_count": 4,
   "id": "c9c2619a",
   "metadata": {},
   "outputs": [
    {
     "data": {
      "text/plain": [
       "False"
      ]
     },
     "execution_count": 4,
     "metadata": {},
     "output_type": "execute_result"
    }
   ],
   "source": [
    "all([1,2,3,4,5,0])"
   ]
  },
  {
   "cell_type": "code",
   "execution_count": 5,
   "id": "e464067a",
   "metadata": {},
   "outputs": [
    {
     "data": {
      "text/plain": [
       "True"
      ]
     },
     "execution_count": 5,
     "metadata": {},
     "output_type": "execute_result"
    }
   ],
   "source": [
    "any([0,000,1])"
   ]
  },
  {
   "cell_type": "code",
   "execution_count": 6,
   "id": "f680505e",
   "metadata": {},
   "outputs": [
    {
     "data": {
      "text/plain": [
       "['__add__',\n",
       " '__class__',\n",
       " '__class_getitem__',\n",
       " '__contains__',\n",
       " '__delattr__',\n",
       " '__delitem__',\n",
       " '__dir__',\n",
       " '__doc__',\n",
       " '__eq__',\n",
       " '__format__',\n",
       " '__ge__',\n",
       " '__getattribute__',\n",
       " '__getitem__',\n",
       " '__getstate__',\n",
       " '__gt__',\n",
       " '__hash__',\n",
       " '__iadd__',\n",
       " '__imul__',\n",
       " '__init__',\n",
       " '__init_subclass__',\n",
       " '__iter__',\n",
       " '__le__',\n",
       " '__len__',\n",
       " '__lt__',\n",
       " '__mul__',\n",
       " '__ne__',\n",
       " '__new__',\n",
       " '__reduce__',\n",
       " '__reduce_ex__',\n",
       " '__repr__',\n",
       " '__reversed__',\n",
       " '__rmul__',\n",
       " '__setattr__',\n",
       " '__setitem__',\n",
       " '__sizeof__',\n",
       " '__str__',\n",
       " '__subclasshook__',\n",
       " 'append',\n",
       " 'clear',\n",
       " 'copy',\n",
       " 'count',\n",
       " 'extend',\n",
       " 'index',\n",
       " 'insert',\n",
       " 'pop',\n",
       " 'remove',\n",
       " 'reverse',\n",
       " 'sort']"
      ]
     },
     "execution_count": 6,
     "metadata": {},
     "output_type": "execute_result"
    }
   ],
   "source": [
    "dir([])"
   ]
  },
  {
   "cell_type": "code",
   "execution_count": 7,
   "id": "cbeaee67",
   "metadata": {},
   "outputs": [
    {
     "data": {
      "text/plain": [
       "['__abs__',\n",
       " '__add__',\n",
       " '__and__',\n",
       " '__bool__',\n",
       " '__ceil__',\n",
       " '__class__',\n",
       " '__delattr__',\n",
       " '__dir__',\n",
       " '__divmod__',\n",
       " '__doc__',\n",
       " '__eq__',\n",
       " '__float__',\n",
       " '__floor__',\n",
       " '__floordiv__',\n",
       " '__format__',\n",
       " '__ge__',\n",
       " '__getattribute__',\n",
       " '__getnewargs__',\n",
       " '__getstate__',\n",
       " '__gt__',\n",
       " '__hash__',\n",
       " '__index__',\n",
       " '__init__',\n",
       " '__init_subclass__',\n",
       " '__int__',\n",
       " '__invert__',\n",
       " '__le__',\n",
       " '__lshift__',\n",
       " '__lt__',\n",
       " '__mod__',\n",
       " '__mul__',\n",
       " '__ne__',\n",
       " '__neg__',\n",
       " '__new__',\n",
       " '__or__',\n",
       " '__pos__',\n",
       " '__pow__',\n",
       " '__radd__',\n",
       " '__rand__',\n",
       " '__rdivmod__',\n",
       " '__reduce__',\n",
       " '__reduce_ex__',\n",
       " '__repr__',\n",
       " '__rfloordiv__',\n",
       " '__rlshift__',\n",
       " '__rmod__',\n",
       " '__rmul__',\n",
       " '__ror__',\n",
       " '__round__',\n",
       " '__rpow__',\n",
       " '__rrshift__',\n",
       " '__rshift__',\n",
       " '__rsub__',\n",
       " '__rtruediv__',\n",
       " '__rxor__',\n",
       " '__setattr__',\n",
       " '__sizeof__',\n",
       " '__str__',\n",
       " '__sub__',\n",
       " '__subclasshook__',\n",
       " '__truediv__',\n",
       " '__trunc__',\n",
       " '__xor__',\n",
       " 'as_integer_ratio',\n",
       " 'bit_count',\n",
       " 'bit_length',\n",
       " 'conjugate',\n",
       " 'denominator',\n",
       " 'from_bytes',\n",
       " 'imag',\n",
       " 'is_integer',\n",
       " 'numerator',\n",
       " 'real',\n",
       " 'to_bytes']"
      ]
     },
     "execution_count": 7,
     "metadata": {},
     "output_type": "execute_result"
    }
   ],
   "source": [
    "dir(int)"
   ]
  },
  {
   "cell_type": "code",
   "execution_count": 8,
   "id": "c598cc06",
   "metadata": {},
   "outputs": [
    {
     "data": {
      "text/plain": [
       "(3, 1)"
      ]
     },
     "execution_count": 8,
     "metadata": {},
     "output_type": "execute_result"
    }
   ],
   "source": [
    "divmod(10,3)"
   ]
  },
  {
   "cell_type": "code",
   "execution_count": 9,
   "id": "cdd2e630",
   "metadata": {},
   "outputs": [
    {
     "name": "stdout",
     "output_type": "stream",
     "text": [
      "0 --> 10\n",
      "1 --> 20\n",
      "2 --> 30\n",
      "3 --> 40\n",
      "4 --> 50\n"
     ]
    }
   ],
   "source": [
    "l = [10,20,30,40,50]\n",
    "\n",
    "for idx,val in enumerate(l,start = 0):\n",
    "    print(idx,\"-->\",val)"
   ]
  },
  {
   "cell_type": "code",
   "execution_count": 10,
   "id": "3741e1e7",
   "metadata": {},
   "outputs": [],
   "source": [
    "l = [i for i in range(1,101)]\n"
   ]
  },
  {
   "cell_type": "code",
   "execution_count": 11,
   "id": "b0cc7f13",
   "metadata": {},
   "outputs": [
    {
     "name": "stdout",
     "output_type": "stream",
     "text": [
      "1\n",
      "4\n",
      "9\n",
      "16\n",
      "25\n",
      "36\n",
      "49\n",
      "64\n",
      "81\n",
      "100\n"
     ]
    }
   ],
   "source": [
    "def fn(x):\n",
    "    return x%2 == 0\n",
    "for ele in filter(lambda x:int(x**0.5) == x**0.5,l):\n",
    "    print(ele)"
   ]
  },
  {
   "cell_type": "code",
   "execution_count": 12,
   "id": "f4cb671d",
   "metadata": {},
   "outputs": [
    {
     "name": "stdout",
     "output_type": "stream",
     "text": [
      "102\n",
      "104\n",
      "106\n",
      "108\n",
      "110\n",
      "112\n",
      "114\n",
      "116\n",
      "118\n",
      "120\n",
      "122\n",
      "124\n",
      "126\n",
      "128\n",
      "130\n",
      "132\n",
      "134\n",
      "136\n",
      "138\n",
      "140\n",
      "142\n",
      "144\n",
      "146\n",
      "148\n",
      "150\n",
      "152\n",
      "154\n",
      "156\n",
      "158\n",
      "160\n",
      "162\n",
      "164\n",
      "166\n",
      "168\n",
      "170\n",
      "172\n",
      "174\n",
      "176\n",
      "178\n",
      "180\n",
      "182\n",
      "184\n",
      "186\n",
      "188\n",
      "190\n",
      "192\n",
      "194\n",
      "196\n",
      "198\n",
      "200\n",
      "202\n",
      "204\n",
      "206\n",
      "208\n",
      "210\n",
      "212\n",
      "214\n",
      "216\n",
      "218\n",
      "220\n",
      "222\n",
      "224\n",
      "226\n",
      "228\n",
      "230\n",
      "232\n",
      "234\n",
      "236\n",
      "238\n",
      "240\n",
      "242\n",
      "244\n",
      "246\n",
      "248\n",
      "250\n",
      "252\n",
      "254\n",
      "256\n",
      "258\n",
      "260\n",
      "262\n",
      "264\n",
      "266\n",
      "268\n",
      "270\n",
      "272\n",
      "274\n",
      "276\n",
      "278\n",
      "280\n",
      "282\n",
      "284\n",
      "286\n",
      "288\n",
      "290\n",
      "292\n",
      "294\n",
      "296\n",
      "298\n",
      "300\n"
     ]
    }
   ],
   "source": [
    "for ele in map(lambda x,y:x+y,l,range(101,201)):\n",
    "    print(ele)"
   ]
  },
  {
   "cell_type": "code",
   "execution_count": 13,
   "id": "b35784f6",
   "metadata": {},
   "outputs": [
    {
     "name": "stdout",
     "output_type": "stream",
     "text": [
      "21\n",
      "22\n",
      "23\n",
      "24\n",
      "25\n",
      "26\n",
      "27\n",
      "28\n",
      "29\n",
      "30\n",
      "31\n",
      "32\n",
      "33\n",
      "34\n",
      "35\n",
      "36\n",
      "37\n",
      "38\n",
      "39\n",
      "40\n",
      "41\n",
      "42\n",
      "43\n",
      "44\n",
      "45\n",
      "46\n",
      "47\n",
      "48\n",
      "49\n",
      "50\n",
      "51\n",
      "52\n",
      "53\n",
      "54\n",
      "55\n",
      "56\n",
      "57\n",
      "58\n",
      "59\n",
      "60\n",
      "61\n",
      "62\n",
      "63\n",
      "64\n",
      "65\n",
      "66\n",
      "67\n",
      "68\n",
      "69\n",
      "70\n",
      "71\n",
      "72\n",
      "73\n",
      "74\n",
      "75\n",
      "76\n",
      "77\n",
      "78\n",
      "79\n",
      "80\n",
      "81\n",
      "82\n",
      "83\n",
      "84\n",
      "85\n",
      "86\n",
      "87\n",
      "88\n",
      "89\n",
      "90\n",
      "91\n",
      "92\n",
      "93\n",
      "94\n",
      "95\n",
      "96\n",
      "97\n",
      "98\n",
      "99\n",
      "100\n",
      "101\n",
      "102\n",
      "103\n",
      "104\n",
      "105\n",
      "106\n",
      "107\n",
      "108\n",
      "109\n",
      "110\n",
      "111\n",
      "112\n",
      "113\n",
      "114\n",
      "115\n",
      "116\n",
      "117\n",
      "118\n",
      "119\n",
      "120\n"
     ]
    }
   ],
   "source": [
    "for ele in map(lambda x:x+20,l):\n",
    "    print(ele)"
   ]
  },
  {
   "cell_type": "code",
   "execution_count": 14,
   "id": "9fc67d7e",
   "metadata": {},
   "outputs": [],
   "source": [
    "from functools import reduce"
   ]
  },
  {
   "cell_type": "code",
   "execution_count": 15,
   "id": "694b264e",
   "metadata": {},
   "outputs": [
    {
     "data": {
      "text/plain": [
       "1"
      ]
     },
     "execution_count": 15,
     "metadata": {},
     "output_type": "execute_result"
    }
   ],
   "source": [
    "reduce(lambda a,b:min(a,b),l[:5])"
   ]
  },
  {
   "cell_type": "code",
   "execution_count": 16,
   "id": "29703986",
   "metadata": {},
   "outputs": [],
   "source": [
    "import random\n",
    "\n",
    "random.shuffle(l)"
   ]
  },
  {
   "cell_type": "code",
   "execution_count": 17,
   "id": "c889f827",
   "metadata": {},
   "outputs": [
    {
     "data": {
      "text/plain": [
       "[25,\n",
       " 23,\n",
       " 9,\n",
       " 76,\n",
       " 89,\n",
       " 50,\n",
       " 60,\n",
       " 98,\n",
       " 77,\n",
       " 49,\n",
       " 62,\n",
       " 48,\n",
       " 28,\n",
       " 52,\n",
       " 36,\n",
       " 4,\n",
       " 63,\n",
       " 30,\n",
       " 2,\n",
       " 85,\n",
       " 72,\n",
       " 61,\n",
       " 81,\n",
       " 99,\n",
       " 12,\n",
       " 75,\n",
       " 17,\n",
       " 46,\n",
       " 6,\n",
       " 79,\n",
       " 73,\n",
       " 19,\n",
       " 22,\n",
       " 57,\n",
       " 43,\n",
       " 11,\n",
       " 90,\n",
       " 45,\n",
       " 83,\n",
       " 96,\n",
       " 13,\n",
       " 65,\n",
       " 18,\n",
       " 42,\n",
       " 15,\n",
       " 100,\n",
       " 41,\n",
       " 53,\n",
       " 26,\n",
       " 67,\n",
       " 3,\n",
       " 69,\n",
       " 33,\n",
       " 34,\n",
       " 16,\n",
       " 68,\n",
       " 66,\n",
       " 7,\n",
       " 84,\n",
       " 64,\n",
       " 92,\n",
       " 35,\n",
       " 21,\n",
       " 24,\n",
       " 44,\n",
       " 32,\n",
       " 31,\n",
       " 97,\n",
       " 55,\n",
       " 94,\n",
       " 87,\n",
       " 71,\n",
       " 59,\n",
       " 56,\n",
       " 88,\n",
       " 82,\n",
       " 10,\n",
       " 40,\n",
       " 27,\n",
       " 47,\n",
       " 78,\n",
       " 80,\n",
       " 91,\n",
       " 54,\n",
       " 70,\n",
       " 51,\n",
       " 93,\n",
       " 5,\n",
       " 1,\n",
       " 86,\n",
       " 20,\n",
       " 74,\n",
       " 29,\n",
       " 38,\n",
       " 95,\n",
       " 8,\n",
       " 37,\n",
       " 39,\n",
       " 14,\n",
       " 58]"
      ]
     },
     "execution_count": 17,
     "metadata": {},
     "output_type": "execute_result"
    }
   ],
   "source": [
    "l"
   ]
  },
  {
   "cell_type": "code",
   "execution_count": 18,
   "id": "ef094ebb",
   "metadata": {},
   "outputs": [
    {
     "name": "stdout",
     "output_type": "stream",
     "text": [
      "[25, 23, 9, 76, 89, 50, 60, 98, 77, 49, 62, 48, 28, 52, 36, 4, 63, 30, 2, 85, 72, 61, 81, 99, 12, 75, 17, 46, 6, 79, 73, 19, 22, 57, 43, 11, 90, 45, 83, 96, 13, 65, 18, 42, 15, 100, 41, 53, 26, 67, 3, 69, 33, 34, 16, 68, 66, 7, 84, 64, 92, 35, 21, 24, 44, 32, 31, 97, 55, 94, 87, 71, 59, 56, 88, 82, 10, 40, 27, 47, 78, 80, 91, 54, 70, 51, 93, 5, 1, 86, 20, 74, 29, 38, 95, 8, 37, 39, 14, 58]\n"
     ]
    }
   ],
   "source": [
    "l1 = sorted(l)\n",
    "print(l)"
   ]
  },
  {
   "cell_type": "code",
   "execution_count": 19,
   "id": "d20c586d",
   "metadata": {},
   "outputs": [
    {
     "name": "stdout",
     "output_type": "stream",
     "text": [
      "[1, 2, 3, 4, 5, 6, 7, 8, 9, 10, 11, 12, 13, 14, 15, 16, 17, 18, 19, 20, 21, 22, 23, 24, 25, 26, 27, 28, 29, 30, 31, 32, 33, 34, 35, 36, 37, 38, 39, 40, 41, 42, 43, 44, 45, 46, 47, 48, 49, 50, 51, 52, 53, 54, 55, 56, 57, 58, 59, 60, 61, 62, 63, 64, 65, 66, 67, 68, 69, 70, 71, 72, 73, 74, 75, 76, 77, 78, 79, 80, 81, 82, 83, 84, 85, 86, 87, 88, 89, 90, 91, 92, 93, 94, 95, 96, 97, 98, 99, 100]\n"
     ]
    }
   ],
   "source": [
    "print(l1)"
   ]
  },
  {
   "cell_type": "code",
   "execution_count": 20,
   "id": "f0f4587a",
   "metadata": {},
   "outputs": [
    {
     "data": {
      "text/plain": [
       "[(20, 10), (10, 15), (10, 20), (30, 25), (15, 30)]"
      ]
     },
     "execution_count": 20,
     "metadata": {},
     "output_type": "execute_result"
    }
   ],
   "source": [
    "l = [(10,20),(20,10),(15,30),(30,25),(10,15)]\n",
    "sorted(l,key=lambda x:x[1])\n"
   ]
  },
  {
   "cell_type": "code",
   "execution_count": 21,
   "metadata": {},
   "outputs": [],
   "source": [
    "class Car:\n",
    "    def __init__(self,model,speed,milage):\n",
    "        self.model = model\n",
    "        self.speed = speed\n",
    "        self.milage = milage\n",
    "    "
   ]
  },
  {
   "cell_type": "code",
   "execution_count": 22,
   "id": "0550e475",
   "metadata": {},
   "outputs": [],
   "source": [
    "car1 = Car(\"Toyota\", 100, 10000)\n",
    "car2 = Car(\"Honda\", 120, 15000)\n",
    "car3 = Car(\"Ford\", 130, 18000)\n",
    "cars = [car1, car2, car3]"
   ]
  },
  {
   "cell_type": "code",
   "execution_count": 23,
   "metadata": {},
   "outputs": [
    {
     "name": "stdout",
     "output_type": "stream",
     "text": [
      "Ford\n",
      "Honda\n",
      "Toyota\n"
     ]
    }
   ],
   "source": [
    "for car in sorted(cars,key = lambda car:-car.speed):\n",
    "    print(car.model)"
   ]
  },
  {
   "cell_type": "code",
   "execution_count": null,
   "id": "abe034b6",
   "metadata": {},
   "outputs": [],
   "source": []
  },
  {
   "cell_type": "code",
   "execution_count": null,
   "metadata": {},
   "outputs": [],
   "source": []
  },
  {
   "cell_type": "code",
   "execution_count": null,
   "id": "b106e271",
   "metadata": {},
   "outputs": [],
   "source": []
  },
  {
   "cell_type": "code",
   "execution_count": null,
   "id": "93b3a9bd",
   "metadata": {},
   "outputs": [],
   "source": []
  }
 ],
 "metadata": {
  "kernelspec": {
   "display_name": ".venv",
   "language": "python",
   "name": "python3"
  },
  "language_info": {
   "codemirror_mode": {
    "name": "ipython",
    "version": 3
   },
   "file_extension": ".py",
   "mimetype": "text/x-python",
   "name": "python",
   "nbconvert_exporter": "python",
   "pygments_lexer": "ipython3",
   "version": "3.13.1"
  }
 },
 "nbformat": 4,
 "nbformat_minor": 5
}
