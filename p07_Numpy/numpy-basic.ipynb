{
 "cells": [
  {
   "cell_type": "markdown",
   "id": "29a3e57c",
   "metadata": {},
   "source": [
    "✅ 1. Installation\n",
    "pip install numpy\n",
    "\n",
    "\n",
    "✅ 2. Mathematical Calculations\n",
    "python\n",
    "Copy code\n",
    "import numpy as np\n",
    "arr = np.array([1, 2, 3])\n",
    "print(arr + 1)        # [2 3 4]\n",
    "print(arr * 2)        # [2 4 6]\n",
    "print(np.sin(arr))    # [0.841 0.909 0.141]\n",
    "\n",
    "\n",
    "✅ 3. NumPy Array Creation\n",
    "python\n",
    "Copy code\n",
    "np.array([1, 2, 3])\n",
    "np.zeros((2, 3))\n",
    "np.ones((3, 3))\n",
    "np.eye(3)          # Identity matrix\n",
    "np.full((2,2), 5)  # Filled with 5\n",
    "\n",
    "\n",
    "✅ 4. Shape\n",
    "python\n",
    "Copy code\n",
    "a = np.array([[1, 2, 3], [4, 5, 6]])\n",
    "print(a.shape)  # (2, 3)\n",
    "\n",
    "\n",
    "✅ 5. Indexing\n",
    "python\n",
    "Copy code\n",
    "a = np.array([10, 20, 30])\n",
    "print(a[1])  # 20\n",
    "\n",
    "\n",
    "✅ 6. Data Types (Reference)\n",
    "Code\tMeaning\n",
    "b\tboolean\n",
    "i\tinteger\n",
    "u\tunsigned integer\n",
    "f\tfloating point\n",
    "c\tcomplex floating point\n",
    "m\ttimedelta\n",
    "M\tdatetime\n",
    "O\tobject\n",
    "S\tstring\n",
    "U\tunicode string\n",
    "V\traw data (void)\n",
    "a = np.array([1, 2, 3], dtype='f')  # float32\n",
    "\n",
    "\n",
    "✅ 7. More Creation Methods\n",
    "python\n",
    "Copy code\n",
    "np.arange(1, 10, 2)          # [1 3 5 7 9]\n",
    "np.linspace(0, 1, 5)         # [0.  0.25 0.5 0.75 1.]\n",
    "np.diag([1, 2, 3])           # Diagonal matrix\n",
    "\n",
    "\n",
    "✅ 8. Random Numbers (np.random)\n",
    "python\n",
    "Copy code\n",
    "np.random.rand(2, 3)         # Uniform dist [0,1)\n",
    "np.random.randn(3)           # Standard normal\n",
    "np.random.randint(1, 10, 5)  # Random ints from 1 to 9\n",
    "np.random.random((2, 2))     # Same as rand\n",
    "np.random.choice([1, 2, 3])  # Randomly pick one\n",
    "arr = np.array([1, 2, 3])\n",
    "np.random.shuffle(arr)       # Shuffle inplace\n",
    "np.random.seed(42)           # Reproducibility\n",
    "\n",
    "\n",
    "✅ 9. Reshape\n",
    "python\n",
    "Copy code\n",
    "a = np.arange(6).reshape(2, 3)\n",
    "b = np.arange(8).reshape(2, -1)  # Let NumPy decide column count\n",
    "\n",
    "\n",
    "✅ 10. Slicing and Assignment\n",
    "python\n",
    "Copy code\n",
    "a = np.array([10, 20, 30, 40])\n",
    "print(a[1:3])       # [20 30]\n",
    "a[1:3] = [99, 88]\n",
    "\n",
    "\n",
    "✅ 11. Copy vs View\n",
    "python\n",
    "Copy code\n",
    "a = np.array([1, 2, 3])\n",
    "b = a.view()  # Shared memory\n",
    "c = a.copy()  # Independent copy\n",
    "a[0] = 10\n",
    "print(b[0])  # 10\n",
    "print(c[0])  # 1\n",
    "\n",
    "\n",
    "✅ 12. Operators (Element-wise)\n",
    "python\n",
    "Copy code\n",
    "a = np.array([True, False])\n",
    "b = np.array([False, True])\n",
    "print(a & b)  # [False False]\n",
    "print(a | b)  # [True True]\n",
    "print(~a)     # [False  True]\n",
    "\n",
    "\n",
    "✅ 13. Shape Mismatch\n",
    "python\n",
    "Copy code\n",
    "a = np.array([1, 2])\n",
    "b = np.array([1, 2, 3])\n",
    "# print(a + b)  # ❌ Error: shape mismatch\n",
    "\n",
    "\n",
    "✅ 14. Fancy Indexing (Filtering)\n",
    "python\n",
    "Copy code\n",
    "a = np.array([10, 20, 30, 40])\n",
    "print(a[[0, 2]])  # [10 30]\n",
    "\n",
    "# Filtering\n",
    "print(a[a > 20])  # [30 40]\n",
    "\n",
    "\n",
    "✅ 15. Search (np.where)\n",
    "python\n",
    "Copy code\n",
    "a = np.array([10, 20, 30])\n",
    "print(np.where(a > 15))  # (array([1, 2]),)\n",
    "\n",
    "\n",
    "✅ 16. Basic Reductions\n",
    "python\n",
    "Copy code\n",
    "a = np.array([1, 2, 3, 4])\n",
    "print(np.sum(a))       # 10\n",
    "print(np.min(a))       # 1\n",
    "print(np.max(a))       # 4\n",
    "print(np.any(a > 3))   # True\n",
    "print(np.all(a > 0))   # True\n",
    "print(np.argmax(a))    # 3\n",
    "print(np.argmin(a))    # 0\n",
    "\n",
    "\n",
    "✅ 17. Statistics\n",
    "python\n",
    "Copy code\n",
    "a = np.array([1, 2, 3, 4])\n",
    "print(np.mean(a))      # 2.5\n",
    "print(np.median(a))    # 2.5\n",
    "print(np.average(a))   # 2.5\n",
    "print(np.var(a))       # 1.25\n",
    "print(np.std(a))       # 1.118\n",
    "\n",
    "\n",
    "✅ 18. Iteration\n",
    "python\n",
    "Copy code\n",
    "a = np.array([[1, 2], [3, 4]])\n",
    "for x in np.nditer(a):\n",
    "    print(x, end=' ')  # 1 2 3 4\n",
    "\n",
    "for idx, val in np.ndenumerate(a):\n",
    "    print(idx, val)\n",
    "\n",
    "\n",
    "✅ 19. Join Arrays\n",
    "python\n",
    "Copy code\n",
    "a = np.array([[1, 2]])\n",
    "b = np.array([[3, 4]])\n",
    "\n",
    "print(np.concatenate((a, b), axis=0))\n",
    "print(np.vstack((a, b)))\n",
    "print(np.hstack((a, b.T)))\n",
    "\n",
    "\n",
    "✅ 20. Split Arrays\n",
    "python\n",
    "Copy code\n",
    "a = np.array([1, 2, 3, 4, 5, 6])\n",
    "print(np.array_split(a, 3))  # 3 chunks\n",
    "\n",
    "\n",
    "✅ 21. Sort\n",
    "python\n",
    "Copy code\n",
    "a = np.array([3, 1, 2])\n",
    "print(np.sort(a))  # [1 2 3]\n",
    "\n",
    "\n",
    "✅ 22. Broadcasting\n",
    "a = np.array([[1], [2], [3]])\n",
    "b = np.array([10, 20, 30])\n",
    "print(a + b)\n",
    "# [[11 21 31]\n",
    "#  [12 22 32]\n",
    "#  [13 23 33]]\n",
    "\n",
    "\n",
    "✅ 23. Input from Text File\n",
    "# Sample: data.txt contains:\n",
    "# 1,2,3\n",
    "# 4,5,6\n",
    "data = np.loadtxt('data.txt', delimiter=',')"
   ]
  },
  {
   "cell_type": "code",
   "execution_count": 1,
   "id": "827c8380",
   "metadata": {},
   "outputs": [],
   "source": [
    "import numpy as np"
   ]
  },
  {
   "cell_type": "code",
   "execution_count": 2,
   "id": "4951f287",
   "metadata": {},
   "outputs": [],
   "source": [
    "l1=[1,2,3,4,5]\n",
    "l2=[[1,2,3],[4,5,6]]\n",
    "l3=[[[1,2,3],[4,5,6]],[[7,8,9],[10,11,12]],[[13,14,15],[16,17,18]]]"
   ]
  },
  {
   "cell_type": "code",
   "execution_count": 3,
   "id": "a3846348",
   "metadata": {},
   "outputs": [
    {
     "data": {
      "text/plain": [
       "[[[1, 2, 3], [4, 5, 6]],\n",
       " [[7, 8, 9], [10, 11, 12]],\n",
       " [[13, 14, 15], [16, 17, 18]]]"
      ]
     },
     "execution_count": 3,
     "metadata": {},
     "output_type": "execute_result"
    }
   ],
   "source": [
    "l3"
   ]
  },
  {
   "cell_type": "code",
   "execution_count": 5,
   "id": "112802cd",
   "metadata": {},
   "outputs": [],
   "source": [
    "n1=np.array(l1)\n",
    "n2=np.array(l2)\n",
    "n3=np.array(l3)"
   ]
  },
  {
   "cell_type": "code",
   "execution_count": 10,
   "id": "a1a99c67",
   "metadata": {},
   "outputs": [
    {
     "name": "stdout",
     "output_type": "stream",
     "text": [
      "[1 2 3 4 5] <class 'numpy.ndarray'>\n",
      "[[1 2 3]\n",
      " [4 5 6]] <class 'numpy.ndarray'>\n",
      "[[[ 1  2  3]\n",
      "  [ 4  5  6]]\n",
      "\n",
      " [[ 7  8  9]\n",
      "  [10 11 12]]\n",
      "\n",
      " [[13 14 15]\n",
      "  [16 17 18]]] <class 'numpy.ndarray'>\n"
     ]
    }
   ],
   "source": [
    "print(n1,type(n1))\n",
    "print(n2,type(n2))\n",
    "print(n3,type(n3))"
   ]
  },
  {
   "cell_type": "code",
   "execution_count": 11,
   "id": "e34cabbd",
   "metadata": {},
   "outputs": [
    {
     "data": {
      "text/plain": [
       "array([[[ 1,  2,  3],\n",
       "        [ 4,  5,  6]],\n",
       "\n",
       "       [[ 7,  8,  9],\n",
       "        [10, 11, 12]],\n",
       "\n",
       "       [[13, 14, 15],\n",
       "        [16, 17, 18]]])"
      ]
     },
     "execution_count": 11,
     "metadata": {},
     "output_type": "execute_result"
    }
   ],
   "source": [
    "n3"
   ]
  },
  {
   "cell_type": "code",
   "execution_count": 12,
   "id": "39152118",
   "metadata": {},
   "outputs": [
    {
     "data": {
      "text/plain": [
       "6"
      ]
     },
     "execution_count": 12,
     "metadata": {},
     "output_type": "execute_result"
    }
   ],
   "source": [
    "l3[0][1][2]"
   ]
  },
  {
   "cell_type": "code",
   "execution_count": 13,
   "id": "5f1093cb",
   "metadata": {},
   "outputs": [
    {
     "data": {
      "text/plain": [
       "array([4, 5, 6])"
      ]
     },
     "execution_count": 13,
     "metadata": {},
     "output_type": "execute_result"
    }
   ],
   "source": [
    "n3[0,1]"
   ]
  },
  {
   "cell_type": "code",
   "execution_count": 14,
   "id": "c83f1612",
   "metadata": {},
   "outputs": [
    {
     "data": {
      "text/plain": [
       "(3, 2, 3)"
      ]
     },
     "execution_count": 14,
     "metadata": {},
     "output_type": "execute_result"
    }
   ],
   "source": [
    "n3.shape"
   ]
  },
  {
   "cell_type": "code",
   "execution_count": 15,
   "id": "dd1b1865",
   "metadata": {},
   "outputs": [
    {
     "data": {
      "text/plain": [
       "(5,)"
      ]
     },
     "execution_count": 15,
     "metadata": {},
     "output_type": "execute_result"
    }
   ],
   "source": [
    "\n",
    "n1.shape"
   ]
  },
  {
   "cell_type": "code",
   "execution_count": 16,
   "id": "e918fa1b",
   "metadata": {},
   "outputs": [
    {
     "data": {
      "text/plain": [
       "(2, 3)"
      ]
     },
     "execution_count": 16,
     "metadata": {},
     "output_type": "execute_result"
    }
   ],
   "source": [
    "n2.shape"
   ]
  },
  {
   "cell_type": "code",
   "execution_count": null,
   "id": "0f03639c",
   "metadata": {},
   "outputs": [
    {
     "data": {
      "text/plain": [
       "3"
      ]
     },
     "execution_count": 17,
     "metadata": {},
     "output_type": "execute_result"
    }
   ],
   "source": [
    "n3.ndim\n",
    "\n",
    "# In NumPy, .ndim is an attribute used to find the number\n",
    "#  of dimensions (axes) of a NumPy array.\n",
    "\n"
   ]
  },
  {
   "cell_type": "code",
   "execution_count": 18,
   "id": "86bb62d5",
   "metadata": {},
   "outputs": [
    {
     "data": {
      "text/plain": [
       "[[7, 8, 9], [10, 11, 12]]"
      ]
     },
     "execution_count": 18,
     "metadata": {},
     "output_type": "execute_result"
    }
   ],
   "source": [
    "l3[1]"
   ]
  },
  {
   "cell_type": "code",
   "execution_count": 21,
   "id": "cb82aa35",
   "metadata": {},
   "outputs": [
    {
     "data": {
      "text/plain": [
       "np.int64(5)"
      ]
     },
     "execution_count": 21,
     "metadata": {},
     "output_type": "execute_result"
    }
   ],
   "source": [
    "n3[0,1,1]"
   ]
  },
  {
   "cell_type": "code",
   "execution_count": 22,
   "id": "a4ccfb98",
   "metadata": {},
   "outputs": [
    {
     "data": {
      "text/plain": [
       "array([[13, 14, 15],\n",
       "       [16, 17, 18]])"
      ]
     },
     "execution_count": 22,
     "metadata": {},
     "output_type": "execute_result"
    }
   ],
   "source": [
    "n3[-1]"
   ]
  },
  {
   "cell_type": "code",
   "execution_count": 23,
   "id": "0491aafb",
   "metadata": {},
   "outputs": [
    {
     "data": {
      "text/plain": [
       "dtype('int64')"
      ]
     },
     "execution_count": 23,
     "metadata": {},
     "output_type": "execute_result"
    }
   ],
   "source": [
    "n3.dtype"
   ]
  },
  {
   "cell_type": "code",
   "execution_count": 24,
   "id": "1c3f5b89",
   "metadata": {},
   "outputs": [
    {
     "data": {
      "text/plain": [
       "array([[[ 1,  2,  3],\n",
       "        [ 4,  5,  6]],\n",
       "\n",
       "       [[ 7,  8,  9],\n",
       "        [10, 11, 12]],\n",
       "\n",
       "       [[13, 14, 15],\n",
       "        [16, 17, 18]]])"
      ]
     },
     "execution_count": 24,
     "metadata": {},
     "output_type": "execute_result"
    }
   ],
   "source": [
    "# n3 = np.array(l3,dtype='float32')\n",
    "# n3 = np.array(l3,dtype = 'f8')\n",
    "n3 = np.array(l3,dtype = 'i8')\n",
    "n3\n"
   ]
  },
  {
   "cell_type": "code",
   "execution_count": 25,
   "id": "71a1ee5b",
   "metadata": {},
   "outputs": [
    {
     "name": "stdout",
     "output_type": "stream",
     "text": [
      "[[1 2 3]\n",
      " [4 5 6]] <class 'numpy.ndarray'>\n"
     ]
    }
   ],
   "source": [
    "print(n3[0],type(n3[0]))"
   ]
  },
  {
   "cell_type": "code",
   "execution_count": 26,
   "id": "80eb7870",
   "metadata": {},
   "outputs": [
    {
     "data": {
      "text/plain": [
       "dtype('int64')"
      ]
     },
     "execution_count": 26,
     "metadata": {},
     "output_type": "execute_result"
    }
   ],
   "source": [
    "n3.dtype"
   ]
  },
  {
   "cell_type": "code",
   "execution_count": 27,
   "id": "ad96e79a",
   "metadata": {},
   "outputs": [
    {
     "data": {
      "text/plain": [
       "array([list([1, 2, 3]), list([4, 5])], dtype=object)"
      ]
     },
     "execution_count": 27,
     "metadata": {},
     "output_type": "execute_result"
    }
   ],
   "source": [
    "l = [[1,2,3],[4,5]]\n",
    "a = np.array(l,dtype='object')\n",
    "a"
   ]
  },
  {
   "cell_type": "code",
   "execution_count": 28,
   "id": "5687a766",
   "metadata": {},
   "outputs": [
    {
     "ename": "ValueError",
     "evalue": "setting an array element with a sequence. The requested array has an inhomogeneous shape after 1 dimensions. The detected shape was (2,) + inhomogeneous part.",
     "output_type": "error",
     "traceback": [
      "\u001b[31m---------------------------------------------------------------------------\u001b[39m",
      "\u001b[31mValueError\u001b[39m                                Traceback (most recent call last)",
      "\u001b[36mCell\u001b[39m\u001b[36m \u001b[39m\u001b[32mIn[28]\u001b[39m\u001b[32m, line 2\u001b[39m\n\u001b[32m      1\u001b[39m l = [[\u001b[32m1\u001b[39m,\u001b[32m2\u001b[39m,\u001b[32m3\u001b[39m],[\u001b[32m4\u001b[39m,\u001b[32m5\u001b[39m]]\n\u001b[32m----> \u001b[39m\u001b[32m2\u001b[39m a = \u001b[43mnp\u001b[49m\u001b[43m.\u001b[49m\u001b[43marray\u001b[49m\u001b[43m(\u001b[49m\u001b[43ml\u001b[49m\u001b[43m)\u001b[49m\n\u001b[32m      3\u001b[39m a\n",
      "\u001b[31mValueError\u001b[39m: setting an array element with a sequence. The requested array has an inhomogeneous shape after 1 dimensions. The detected shape was (2,) + inhomogeneous part."
     ]
    }
   ],
   "source": [
    "l = [[1,2,3],[4,5]]\n",
    "a = np.array(l)\n",
    "a"
   ]
  },
  {
   "cell_type": "code",
   "execution_count": 29,
   "id": "131bbf82",
   "metadata": {},
   "outputs": [
    {
     "data": {
      "text/plain": [
       "(2,)"
      ]
     },
     "execution_count": 29,
     "metadata": {},
     "output_type": "execute_result"
    }
   ],
   "source": [
    "a.shape"
   ]
  },
  {
   "cell_type": "code",
   "execution_count": 30,
   "id": "8863ac58",
   "metadata": {},
   "outputs": [
    {
     "name": "stdout",
     "output_type": "stream",
     "text": [
      "[1, 2, 3] <class 'list'>\n"
     ]
    }
   ],
   "source": [
    "print(a[0],type(a[0]))\n",
    "a[0] = 100"
   ]
  },
  {
   "cell_type": "code",
   "execution_count": 31,
   "id": "d0ea6d8a",
   "metadata": {},
   "outputs": [
    {
     "data": {
      "text/plain": [
       "array([100, list([4, 5])], dtype=object)"
      ]
     },
     "execution_count": 31,
     "metadata": {},
     "output_type": "execute_result"
    }
   ],
   "source": [
    "a"
   ]
  },
  {
   "cell_type": "code",
   "execution_count": 32,
   "id": "e26b5a49",
   "metadata": {},
   "outputs": [],
   "source": [
    "n1 = np.arange(1,11,3,dtype='f4')"
   ]
  },
  {
   "cell_type": "code",
   "execution_count": 33,
   "id": "1bc5f169",
   "metadata": {},
   "outputs": [
    {
     "data": {
      "text/plain": [
       "array([ 1.,  4.,  7., 10.], dtype=float32)"
      ]
     },
     "execution_count": 33,
     "metadata": {},
     "output_type": "execute_result"
    }
   ],
   "source": [
    "n1"
   ]
  },
  {
   "cell_type": "code",
   "execution_count": 34,
   "id": "c0285181",
   "metadata": {},
   "outputs": [
    {
     "data": {
      "text/plain": [
       "array([1.        , 1.33333333, 1.66666667, 2.        , 2.33333333,\n",
       "       2.66666667, 3.        ])"
      ]
     },
     "execution_count": 34,
     "metadata": {},
     "output_type": "execute_result"
    }
   ],
   "source": [
    "np.linspace(1,3,7)"
   ]
  },
  {
   "cell_type": "code",
   "execution_count": 35,
   "id": "c70907a3",
   "metadata": {},
   "outputs": [
    {
     "data": {
      "text/plain": [
       "array([[[1, 1, 1],\n",
       "        [1, 1, 1],\n",
       "        [1, 1, 1]],\n",
       "\n",
       "       [[1, 1, 1],\n",
       "        [1, 1, 1],\n",
       "        [1, 1, 1]]])"
      ]
     },
     "execution_count": 35,
     "metadata": {},
     "output_type": "execute_result"
    }
   ],
   "source": [
    "shape = [2,3,3]\n",
    "np.ones(shape,dtype='i8')"
   ]
  },
  {
   "cell_type": "code",
   "execution_count": 37,
   "id": "ac8d1f9e",
   "metadata": {},
   "outputs": [
    {
     "data": {
      "text/plain": [
       "array([[[0, 0, 0],\n",
       "        [0, 0, 0]],\n",
       "\n",
       "       [[0, 0, 0],\n",
       "        [0, 0, 0]],\n",
       "\n",
       "       [[0, 0, 0],\n",
       "        [0, 0, 0]]])"
      ]
     },
     "execution_count": 37,
     "metadata": {},
     "output_type": "execute_result"
    }
   ],
   "source": [
    "np.zeros((3,2,3),dtype='int')"
   ]
  },
  {
   "cell_type": "code",
   "execution_count": 38,
   "id": "2ac0f468",
   "metadata": {},
   "outputs": [
    {
     "data": {
      "text/plain": [
       "array([[[0., 0., 0.],\n",
       "        [0., 0., 0.]],\n",
       "\n",
       "       [[0., 0., 0.],\n",
       "        [0., 0., 0.]],\n",
       "\n",
       "       [[0., 0., 0.],\n",
       "        [0., 0., 0.]]])"
      ]
     },
     "execution_count": 38,
     "metadata": {},
     "output_type": "execute_result"
    }
   ],
   "source": [
    "np.zeros((3,2,3))"
   ]
  },
  {
   "cell_type": "code",
   "execution_count": 39,
   "id": "bac29e36",
   "metadata": {},
   "outputs": [
    {
     "data": {
      "text/plain": [
       "array([[1., 0., 0., 0., 0., 0.],\n",
       "       [0., 1., 0., 0., 0., 0.],\n",
       "       [0., 0., 1., 0., 0., 0.],\n",
       "       [0., 0., 0., 1., 0., 0.],\n",
       "       [0., 0., 0., 0., 1., 0.]])"
      ]
     },
     "execution_count": 39,
     "metadata": {},
     "output_type": "execute_result"
    }
   ],
   "source": [
    "np.eye(5,6)"
   ]
  },
  {
   "cell_type": "code",
   "execution_count": 40,
   "id": "ba1533b4",
   "metadata": {},
   "outputs": [
    {
     "data": {
      "text/plain": [
       "array([[1, 0, 0, 0],\n",
       "       [0, 2, 0, 0],\n",
       "       [0, 0, 3, 0],\n",
       "       [0, 0, 0, 4]])"
      ]
     },
     "execution_count": 40,
     "metadata": {},
     "output_type": "execute_result"
    }
   ],
   "source": [
    "np.diag([1,2,3,4])"
   ]
  },
  {
   "cell_type": "markdown",
   "id": "b91c671d",
   "metadata": {},
   "source": [
    "random numbers: Numpy Random Module\n",
    "rand: Random values in given shape\n",
    "randn: Return samples from the Standard normal distribution\n",
    "randint: Return random integer from low(inclusive) to high(exclusive)\n",
    "random: Return random floats in [0.0,1.0)\n",
    "choice: Generates a random sample from given 1D array\n",
    "Shuffle: Shuffle the contents of the sequence. Discuss np.random.seed()\n"
   ]
  },
  {
   "cell_type": "code",
   "execution_count": null,
   "id": "f880c8a2",
   "metadata": {},
   "outputs": [
    {
     "data": {
      "text/plain": [
       "array([[13.93045819, 18.38985081, 15.50383184, 28.89935638, 10.72876533],\n",
       "       [29.68110231, 16.16150651, 12.3594235 , 27.53815971, 13.64243594],\n",
       "       [29.19334806, 27.27750655, 28.76422652, 14.34678179, 14.51376235],\n",
       "       [10.68921407, 12.24249825, 25.61507258, 25.66237468, 12.19827969]])"
      ]
     },
     "execution_count": 41,
     "metadata": {},
     "output_type": "execute_result"
    }
   ],
   "source": [
    "(30-10)*np.random.rand(4,5)+10\n",
    "# np.random.rand(4, 5) generates a 4x5 array of random \n",
    "# floats in the range [0.0, 1.0)."
   ]
  },
  {
   "cell_type": "code",
   "execution_count": null,
   "id": "b26b1746",
   "metadata": {},
   "outputs": [
    {
     "data": {
      "text/plain": [
       "array([[0.49483194, 0.64147439, 0.43823976],\n",
       "       [0.67155374, 0.47733705, 0.41898927]])"
      ]
     },
     "execution_count": 42,
     "metadata": {},
     "output_type": "execute_result"
    }
   ],
   "source": [
    "np.random.random(size = (2,3))\n",
    "# generates a 2×3 NumPy array filled with random float\n",
    "#  numbers in the range [0.0, 1.0).\n",
    "\n"
   ]
  },
  {
   "cell_type": "code",
   "execution_count": null,
   "id": "a6ac887f",
   "metadata": {},
   "outputs": [
    {
     "data": {
      "text/plain": [
       "array([[[-1.63103513, -0.40737521,  1.79624423],\n",
       "        [-0.15569203, -1.08627018, -0.05096451]],\n",
       "\n",
       "       [[ 0.59192231,  0.40533423,  0.5009361 ],\n",
       "        [ 1.51602845,  0.78159409, -1.00942522]],\n",
       "\n",
       "       [[-1.20519937, -1.68356127, -1.16991589],\n",
       "        [ 0.96630643,  0.08554453,  0.06049275]]])"
      ]
     },
     "execution_count": 43,
     "metadata": {},
     "output_type": "execute_result"
    }
   ],
   "source": [
    "np.random.randn(3,2,3)\n",
    "\n",
    "# generates a 3-dimensional NumPy array with shape (3, 2, 3), filled with random numbers drawn from the standard normal distribution.\n",
    "\n",
    "# ✅ What is randn?\n",
    "# np.random.randn(...) returns samples from a standard normal distribution:\n",
    "\n",
    "# Mean = 0\n",
    "\n",
    "# Standard Deviation = 1\n",
    "\n",
    "# Shape = (3, 2, 3) → 3 \"blocks\", each of shape (2, 3)\n",
    "\n"
   ]
  },
  {
   "cell_type": "code",
   "execution_count": null,
   "id": "7e5355f0",
   "metadata": {},
   "outputs": [
    {
     "data": {
      "text/plain": [
       "array([[19, 11, 19],\n",
       "       [18, 15, 13]], dtype=int32)"
      ]
     },
     "execution_count": 44,
     "metadata": {},
     "output_type": "execute_result"
    }
   ],
   "source": [
    "np.random.randint(10,20,size=(2,3))\n",
    "# generates a 2×3 NumPy array filled with random integers\n",
    "#  in the range [10, 20) — meaning 10 is included, but 20 is\n",
    "#  excluded.\n",
    "\n"
   ]
  },
  {
   "cell_type": "code",
   "execution_count": null,
   "id": "4f6c6bdd",
   "metadata": {},
   "outputs": [
    {
     "data": {
      "text/plain": [
       "array([[11, 10],\n",
       "       [10, 17],\n",
       "       [11, 10]])"
      ]
     },
     "execution_count": 45,
     "metadata": {},
     "output_type": "execute_result"
    }
   ],
   "source": [
    "np.random.choice(np.arange(10,21),size=(3,2),p = [0.5,0.1,0,0,0,0,0.2,0.2,0,0,0])\n",
    "\n",
    "# ✅ Explanation:\n",
    "# 🔹 np.arange(10, 21)\n",
    "# This creates the array:\n",
    "\n",
    "# csharp\n",
    "# Copy code\n",
    "# [10, 11, 12, 13, 14, 15, 16, 17, 18, 19, 20]\n",
    "# 👉 Length = 11 elements\n",
    "\n",
    "# 🔹 size=(3, 2)\n",
    "# You want to generate a 3x2 array of random values selected from [10, 11, ..., 20]\n",
    "\n",
    "# 🔹 p = [...]\n",
    "# This is a probability distribution corresponding to each element in [10, 11, ..., 20].\n",
    "\n",
    "# text\n",
    "\n",
    "# Values:       [10, 11, 12, 13, 14, 15, 16, 17, 18, 19, 20]\n",
    "# Probabilities: [0.5, 0.1,  0,   0,   0,   0, 0.2, 0.2,  0,  0,  0]\n",
    "# Only 10, 11, 16, and 17 have non-zero probability\n",
    "\n",
    "# So only these values can appear in the result\n",
    "\n",
    "# Probabilities must sum to 1.0 ✅ (and they do here: 0.5+0.1+0.2+0.2 = 1.0)\n",
    "\n"
   ]
  },
  {
   "cell_type": "code",
   "execution_count": 46,
   "id": "58fa8e79",
   "metadata": {},
   "outputs": [
    {
     "data": {
      "text/plain": [
       "array([10, 11, 12, 13, 14, 15, 16, 17, 18, 19, 20])"
      ]
     },
     "execution_count": 46,
     "metadata": {},
     "output_type": "execute_result"
    }
   ],
   "source": [
    "a = np.arange(10,21)\n",
    "a"
   ]
  },
  {
   "cell_type": "code",
   "execution_count": null,
   "id": "42107a64",
   "metadata": {},
   "outputs": [
    {
     "data": {
      "text/plain": [
       "array([12, 13, 14, 19, 11, 16, 10, 17, 20, 18, 15])"
      ]
     },
     "execution_count": 47,
     "metadata": {},
     "output_type": "execute_result"
    }
   ],
   "source": [
    "np.random.seed(1)\n",
    "np.random.shuffle(a)\n",
    "a\n",
    "\n",
    "# ✅ What it does:\n",
    "# 1. np.random.seed(1)\n",
    "# Sets the random seed to ensure reproducibility.\n",
    "# This means every time you run this code with the same seed and input, you'll get the same shuffled result.\n",
    "\n",
    "# 2. np.random.shuffle(a)\n",
    "# Shuffles the array in-place (modifies the original array a).\n",
    "\n",
    "# If a is a 1D array, elements are shuffled.\n",
    "\n",
    "# If a is a 2D array, only the rows are shuffled (not columns)."
   ]
  },
  {
   "cell_type": "code",
   "execution_count": 48,
   "id": "60f7c3fc",
   "metadata": {},
   "outputs": [
    {
     "data": {
      "text/plain": [
       "(12,)"
      ]
     },
     "execution_count": 48,
     "metadata": {},
     "output_type": "execute_result"
    }
   ],
   "source": [
    "a = np.arange(10,22)\n",
    "a.shape\n"
   ]
  },
  {
   "cell_type": "code",
   "execution_count": null,
   "id": "41fcf0a3",
   "metadata": {},
   "outputs": [],
   "source": [
    "b = a.reshape((2,-1,2))\n",
    "\n",
    "# ✅ Syntax: reshape((2, -1, 2))\n",
    "# 2: First dimension → split into 2 groups\n",
    "\n",
    "# -1: Let NumPy automatically calculate this dimension\n",
    "\n",
    "# 2: Last dimension → each sub-array will have 2 elements\n",
    "\n"
   ]
  },
  {
   "cell_type": "code",
   "execution_count": 50,
   "id": "bbf6afcd",
   "metadata": {},
   "outputs": [
    {
     "data": {
      "text/plain": [
       "array([[[10, 11],\n",
       "        [12, 13],\n",
       "        [14, 15]],\n",
       "\n",
       "       [[16, 17],\n",
       "        [18, 19],\n",
       "        [20, 21]]])"
      ]
     },
     "execution_count": 50,
     "metadata": {},
     "output_type": "execute_result"
    }
   ],
   "source": [
    "b"
   ]
  },
  {
   "cell_type": "code",
   "execution_count": null,
   "id": "38747cd7",
   "metadata": {},
   "outputs": [
    {
     "data": {
      "text/plain": [
       "array([10, 11, 12, 13, 14, 15, 16, 17, 18, 19, 20, 21])"
      ]
     },
     "execution_count": 51,
     "metadata": {},
     "output_type": "execute_result"
    }
   ],
   "source": [
    "b.reshape(-1)\n",
    "\n",
    "# ✅ What does reshape(-1) mean?\n",
    "# -1 tells NumPy to infer the dimension automatically.\n",
    "\n",
    "# When used alone, it reshapes the array into a flat (1D) array containing all the elements.\n",
    "\n",
    "\n"
   ]
  },
  {
   "cell_type": "code",
   "execution_count": 52,
   "id": "dce060a1",
   "metadata": {},
   "outputs": [],
   "source": [
    "a = np.arange(100).reshape((10,10))\n"
   ]
  },
  {
   "cell_type": "code",
   "execution_count": 53,
   "id": "a2fdf5bd",
   "metadata": {},
   "outputs": [
    {
     "data": {
      "text/plain": [
       "array([[ 0,  1,  2,  3,  4,  5,  6,  7,  8,  9],\n",
       "       [10, 11, 12, 13, 14, 15, 16, 17, 18, 19],\n",
       "       [20, 21, 22, 23, 24, 25, 26, 27, 28, 29],\n",
       "       [30, 31, 32, 33, 34, 35, 36, 37, 38, 39],\n",
       "       [40, 41, 42, 43, 44, 45, 46, 47, 48, 49],\n",
       "       [50, 51, 52, 53, 54, 55, 56, 57, 58, 59],\n",
       "       [60, 61, 62, 63, 64, 65, 66, 67, 68, 69],\n",
       "       [70, 71, 72, 73, 74, 75, 76, 77, 78, 79],\n",
       "       [80, 81, 82, 83, 84, 85, 86, 87, 88, 89],\n",
       "       [90, 91, 92, 93, 94, 95, 96, 97, 98, 99]])"
      ]
     },
     "execution_count": 53,
     "metadata": {},
     "output_type": "execute_result"
    }
   ],
   "source": [
    "a"
   ]
  },
  {
   "cell_type": "code",
   "execution_count": null,
   "id": "cd43b862",
   "metadata": {},
   "outputs": [
    {
     "data": {
      "text/plain": [
       "array([[23, 24, 25, 26],\n",
       "       [33, 34, 35, 36],\n",
       "       [43, 44, 45, 46],\n",
       "       [53, 54, 55, 56],\n",
       "       [63, 64, 65, 66]])"
      ]
     },
     "execution_count": 54,
     "metadata": {},
     "output_type": "execute_result"
    }
   ],
   "source": [
    "a[2:7,3:7]\n",
    "# ✅ General Syntax for 2D slicing:\n",
    "# array[row_start:row_end, col_start:col_end]\n",
    "# This selects:\n",
    "\n",
    "# Rows from index 2 to 6 (because 7 is exclusive)\n",
    "\n",
    "# Columns from index 3 to 6 (again, 7 is exclusive)\n"
   ]
  },
  {
   "cell_type": "code",
   "execution_count": 55,
   "id": "abd67949",
   "metadata": {},
   "outputs": [
    {
     "data": {
      "text/plain": [
       "array([[59, 58, 57, 56, 55, 54, 53, 52, 51, 50],\n",
       "       [69, 68, 67, 66, 65, 64, 63, 62, 61, 60],\n",
       "       [79, 78, 77, 76, 75, 74, 73, 72, 71, 70]])"
      ]
     },
     "execution_count": 55,
     "metadata": {},
     "output_type": "execute_result"
    }
   ],
   "source": [
    "a[5:8,::-1]"
   ]
  },
  {
   "cell_type": "code",
   "execution_count": 56,
   "id": "d3ab1d26",
   "metadata": {},
   "outputs": [
    {
     "data": {
      "text/plain": [
       "array([[30, 31, 32, 33, 34, 35, 36, 37, 38, 39],\n",
       "       [40, 41, 42, 43, 44, 45, 46, 47, 48, 49],\n",
       "       [50, 51, 52, 53, 54, 55, 56, 57, 58, 59],\n",
       "       [60, 61, 62, 63, 64, 65, 66, 67, 68, 69]])"
      ]
     },
     "execution_count": 56,
     "metadata": {},
     "output_type": "execute_result"
    }
   ],
   "source": [
    "b = a[3:7]\n",
    "b"
   ]
  },
  {
   "cell_type": "code",
   "execution_count": null,
   "id": "4b6704e3",
   "metadata": {},
   "outputs": [
    {
     "data": {
      "text/plain": [
       "array([[1000, 1001, 1002, 1003, 1004, 1005, 1006, 1007, 1008, 1009],\n",
       "       [  40,   41,   42,   43,   44,   45,   46,   47,   48,   49],\n",
       "       [  50,   51,   52,   53,   54,   55,   56,   57,   58,   59],\n",
       "       [  60,   61,   62,   63,   64,   65,   66,   67,   68,   69]])"
      ]
     },
     "execution_count": 57,
     "metadata": {},
     "output_type": "execute_result"
    }
   ],
   "source": [
    "b[0] = np.arange(1000,1010)\n",
    "b\n",
    "\n",
    "# You're assigning a 1D array (np.arange(1000, 1010)) to\n",
    "#  part of a possibly multi-dimensional array b"
   ]
  },
  {
   "cell_type": "code",
   "execution_count": 58,
   "id": "38ff768e",
   "metadata": {},
   "outputs": [
    {
     "data": {
      "text/plain": [
       "array([[   0,    1,    2,    3,    4,    5,    6,    7,    8,    9],\n",
       "       [  10,   11,   12,   13,   14,   15,   16,   17,   18,   19],\n",
       "       [  20,   21,   22,   23,   24,   25,   26,   27,   28,   29],\n",
       "       [1000, 1001, 1002, 1003, 1004, 1005, 1006, 1007, 1008, 1009],\n",
       "       [  40,   41,   42,   43,   44,   45,   46,   47,   48,   49],\n",
       "       [  50,   51,   52,   53,   54,   55,   56,   57,   58,   59],\n",
       "       [  60,   61,   62,   63,   64,   65,   66,   67,   68,   69],\n",
       "       [  70,   71,   72,   73,   74,   75,   76,   77,   78,   79],\n",
       "       [  80,   81,   82,   83,   84,   85,   86,   87,   88,   89],\n",
       "       [  90,   91,   92,   93,   94,   95,   96,   97,   98,   99]])"
      ]
     },
     "execution_count": 58,
     "metadata": {},
     "output_type": "execute_result"
    }
   ],
   "source": [
    "a"
   ]
  },
  {
   "cell_type": "code",
   "execution_count": null,
   "id": "ef4211e8",
   "metadata": {},
   "outputs": [
    {
     "data": {
      "text/plain": [
       "True"
      ]
     },
     "execution_count": 59,
     "metadata": {},
     "output_type": "execute_result"
    }
   ],
   "source": [
    "np.shares_memory(a,b)\n",
    "# Checks whether two NumPy arrays share the same memory\n",
    "#  (i.e., changes in one may affect the other).\n",
    "\n"
   ]
  },
  {
   "cell_type": "code",
   "execution_count": 60,
   "id": "7353930e",
   "metadata": {},
   "outputs": [],
   "source": [
    "\n",
    "c = a[3:7].copy()"
   ]
  },
  {
   "cell_type": "code",
   "execution_count": 61,
   "id": "915afc67",
   "metadata": {},
   "outputs": [
    {
     "data": {
      "text/plain": [
       "array([[100, 101, 102, 103, 104, 105, 106, 107, 108, 109],\n",
       "       [ 40,  41,  42,  43,  44,  45,  46,  47,  48,  49],\n",
       "       [ 50,  51,  52,  53,  54,  55,  56,  57,  58,  59],\n",
       "       [ 60,  61,  62,  63,  64,  65,  66,  67,  68,  69]])"
      ]
     },
     "execution_count": 61,
     "metadata": {},
     "output_type": "execute_result"
    }
   ],
   "source": [
    "c[0] = np.arange(100,110)\n",
    "c"
   ]
  },
  {
   "cell_type": "code",
   "execution_count": 62,
   "id": "f8317668",
   "metadata": {},
   "outputs": [
    {
     "data": {
      "text/plain": [
       "array([[   0,    1,    2,    3,    4,    5,    6,    7,    8,    9],\n",
       "       [  10,   11,   12,   13,   14,   15,   16,   17,   18,   19],\n",
       "       [  20,   21,   22,   23,   24,   25,   26,   27,   28,   29],\n",
       "       [1000, 1001, 1002, 1003, 1004, 1005, 1006, 1007, 1008, 1009],\n",
       "       [  40,   41,   42,   43,   44,   45,   46,   47,   48,   49],\n",
       "       [  50,   51,   52,   53,   54,   55,   56,   57,   58,   59],\n",
       "       [  60,   61,   62,   63,   64,   65,   66,   67,   68,   69],\n",
       "       [  70,   71,   72,   73,   74,   75,   76,   77,   78,   79],\n",
       "       [  80,   81,   82,   83,   84,   85,   86,   87,   88,   89],\n",
       "       [  90,   91,   92,   93,   94,   95,   96,   97,   98,   99]])"
      ]
     },
     "execution_count": 62,
     "metadata": {},
     "output_type": "execute_result"
    }
   ],
   "source": [
    "a"
   ]
  },
  {
   "cell_type": "code",
   "execution_count": 63,
   "id": "85370b66",
   "metadata": {},
   "outputs": [
    {
     "data": {
      "text/plain": [
       "False"
      ]
     },
     "execution_count": 63,
     "metadata": {},
     "output_type": "execute_result"
    }
   ],
   "source": [
    "np.shares_memory(a,c)\n"
   ]
  },
  {
   "cell_type": "code",
   "execution_count": null,
   "id": "f16d7c92",
   "metadata": {},
   "outputs": [
    {
     "data": {
      "text/plain": [
       "array([[   0,    1,    2,    3,    4,    5,    6,    7,    8,    9],\n",
       "       [  10,   11,   12,   13,   14,   15,   16,   17,   18,   19],\n",
       "       [  20,   21,   22,   23,   24,   25,   26,   27,   28,   29],\n",
       "       [1000, 1001,  200,  201, 1004, 1005, 1006, 1007, 1008, 1009],\n",
       "       [  40,   41,  202,  203,   44,   45,   46,   47,   48,   49],\n",
       "       [  50,   51,  204,  205,   54,   55,   56,   57,   58,   59],\n",
       "       [  60,   61,   62,   63,   64,   65,   66,   67,   68,   69],\n",
       "       [  70,   71,   72,   73,   74,   75,   76,   77,   78,   79],\n",
       "       [  80,   81,   82,   83,   84,   85,   86,   87,   88,   89],\n",
       "       [  90,   91,   92,   93,   94,   95,   96,   97,   98,   99]])"
      ]
     },
     "execution_count": 65,
     "metadata": {},
     "output_type": "execute_result"
    }
   ],
   "source": [
    "a[3:6,2:4] = np.arange(200,206).reshape((3,2))\n",
    "a\n",
    "\n",
    "# ✅ Step-by-step Explanation\n",
    "# 🧩 a[3:6, 2:4]\n",
    "# Selects a submatrix of array a\n",
    "\n",
    "# Rows from index 3 to 5 (3:6) → 3 rows\n",
    "\n",
    "# Columns from index 2 to 3 (2:4) → 2 columns\n",
    "\n",
    "# Resulting shape: (3, 2)\n",
    "\n",
    "# 🎯 np.arange(200, 206)\n",
    "# Creates a 1D array: [200, 201, 202, 203, 204, 205] → shape (6,)\n",
    "\n",
    "# 🔄 .reshape((3, 2))"
   ]
  },
  {
   "cell_type": "markdown",
   "id": "2eaf8549",
   "metadata": {},
   "source": [
    "operators(Element wise operations)\n",
    "and: &, or: |, not: ~\n",
    "shape mismatch\n",
    "fancy indexing also know as filter\n",
    "search: where uses fancy indexing\n",
    "Basic reductions: sum, min, max, any, all,argmax, argmin\n",
    "Some More Numpy Functions - Statistics: mean, median, average, variance, standard deviation\n",
    "iteration: nditer, ndenumerate\n",
    "Join: concatenate, stack, hstack, vstack. Note: make a tuple of arays you want to join\n",
    "split: array_split, hsplit\n",
    "sort: np.sort\n",
    "Broadcasting\n",
    "Input from Text File\n",
    "Questions"
   ]
  },
  {
   "cell_type": "code",
   "execution_count": 66,
   "id": "977e6f46",
   "metadata": {},
   "outputs": [
    {
     "data": {
      "text/plain": [
       "array([ 0,  1,  2,  3,  4,  5,  6,  7,  8,  9, 10])"
      ]
     },
     "execution_count": 66,
     "metadata": {},
     "output_type": "execute_result"
    }
   ],
   "source": [
    "import numpy as np\n",
    "a = np.arange(11)\n",
    "a"
   ]
  },
  {
   "cell_type": "code",
   "execution_count": 67,
   "id": "d126f3ed",
   "metadata": {},
   "outputs": [
    {
     "data": {
      "text/plain": [
       "array([ 5,  6,  7,  8,  9, 10, 11, 12, 13, 14, 15])"
      ]
     },
     "execution_count": 67,
     "metadata": {},
     "output_type": "execute_result"
    }
   ],
   "source": [
    "a + 5"
   ]
  },
  {
   "cell_type": "code",
   "execution_count": 68,
   "id": "e41bfee0",
   "metadata": {},
   "outputs": [
    {
     "data": {
      "text/plain": [
       "array([-5, -4, -3, -2, -1,  0,  1,  2,  3,  4,  5])"
      ]
     },
     "execution_count": 68,
     "metadata": {},
     "output_type": "execute_result"
    }
   ],
   "source": [
    "a - 5"
   ]
  },
  {
   "cell_type": "code",
   "execution_count": 69,
   "id": "4cf8359e",
   "metadata": {},
   "outputs": [
    {
     "data": {
      "text/plain": [
       "array([ 0,  5, 10, 15, 20, 25, 30, 35, 40, 45, 50])"
      ]
     },
     "execution_count": 69,
     "metadata": {},
     "output_type": "execute_result"
    }
   ],
   "source": [
    "a*5"
   ]
  },
  {
   "cell_type": "code",
   "execution_count": 70,
   "id": "977506d8",
   "metadata": {},
   "outputs": [
    {
     "data": {
      "text/plain": [
       "array([0. , 0.2, 0.4, 0.6, 0.8, 1. , 1.2, 1.4, 1.6, 1.8, 2. ])"
      ]
     },
     "execution_count": 70,
     "metadata": {},
     "output_type": "execute_result"
    }
   ],
   "source": [
    "a/5"
   ]
  },
  {
   "cell_type": "code",
   "execution_count": 71,
   "id": "898465da",
   "metadata": {},
   "outputs": [
    {
     "data": {
      "text/plain": [
       "array([0, 0, 0, 0, 0, 1, 1, 1, 1, 1, 2])"
      ]
     },
     "execution_count": 71,
     "metadata": {},
     "output_type": "execute_result"
    }
   ],
   "source": [
    "a // 5"
   ]
  },
  {
   "cell_type": "code",
   "execution_count": 72,
   "id": "ec2f8339",
   "metadata": {},
   "outputs": [
    {
     "data": {
      "text/plain": [
       "array([0, 1, 2, 3, 4, 0, 1, 2, 3, 4, 0])"
      ]
     },
     "execution_count": 72,
     "metadata": {},
     "output_type": "execute_result"
    }
   ],
   "source": [
    "a % 5"
   ]
  },
  {
   "cell_type": "code",
   "execution_count": 73,
   "id": "979dfa17",
   "metadata": {},
   "outputs": [
    {
     "data": {
      "text/plain": [
       "array([     0,      1,     32,    243,   1024,   3125,   7776,  16807,\n",
       "        32768,  59049, 100000])"
      ]
     },
     "execution_count": 73,
     "metadata": {},
     "output_type": "execute_result"
    }
   ],
   "source": [
    "a ** 5"
   ]
  },
  {
   "cell_type": "code",
   "execution_count": 74,
   "id": "0d0e354d",
   "metadata": {},
   "outputs": [
    {
     "data": {
      "text/plain": [
       "array([False, False,  True,  True, False,  True, False,  True, False])"
      ]
     },
     "execution_count": 74,
     "metadata": {},
     "output_type": "execute_result"
    }
   ],
   "source": [
    "b = np.array([3,2,7,6,1,7,4,8,3])\n",
    "b >= 5"
   ]
  },
  {
   "cell_type": "code",
   "execution_count": 76,
   "id": "8926d77a",
   "metadata": {},
   "outputs": [
    {
     "data": {
      "text/plain": [
       "array([10, 11, 12, 13, 14, 15, 16, 17, 18, 19, 20])"
      ]
     },
     "execution_count": 76,
     "metadata": {},
     "output_type": "execute_result"
    }
   ],
   "source": [
    "a += 5\n",
    "a"
   ]
  },
  {
   "cell_type": "code",
   "execution_count": 77,
   "id": "06bbc28e",
   "metadata": {},
   "outputs": [
    {
     "data": {
      "text/plain": [
       "array([20, 21, 22, 23, 24, 25, 26, 27, 28, 29, 30, 31, 32, 33, 34, 35, 36,\n",
       "       37, 38, 39])"
      ]
     },
     "execution_count": 77,
     "metadata": {},
     "output_type": "execute_result"
    }
   ],
   "source": [
    "a = np.arange(10)\n",
    "b = np.arange(10,20)\n",
    "c = np.arange(20,40)\n",
    "c"
   ]
  },
  {
   "cell_type": "code",
   "execution_count": 78,
   "id": "9b4810b8",
   "metadata": {},
   "outputs": [
    {
     "ename": "ValueError",
     "evalue": "operands could not be broadcast together with shapes (10,) (20,) ",
     "output_type": "error",
     "traceback": [
      "\u001b[31m---------------------------------------------------------------------------\u001b[39m",
      "\u001b[31mValueError\u001b[39m                                Traceback (most recent call last)",
      "\u001b[36mCell\u001b[39m\u001b[36m \u001b[39m\u001b[32mIn[78]\u001b[39m\u001b[32m, line 1\u001b[39m\n\u001b[32m----> \u001b[39m\u001b[32m1\u001b[39m \u001b[43ma\u001b[49m\u001b[43m+\u001b[49m\u001b[43mc\u001b[49m\n",
      "\u001b[31mValueError\u001b[39m: operands could not be broadcast together with shapes (10,) (20,) "
     ]
    }
   ],
   "source": [
    "a+c"
   ]
  },
  {
   "cell_type": "code",
   "execution_count": 79,
   "id": "8d30cba7",
   "metadata": {},
   "outputs": [
    {
     "data": {
      "text/plain": [
       "array([10, 12, 14, 16, 18, 20, 22, 24, 26, 28])"
      ]
     },
     "execution_count": 79,
     "metadata": {},
     "output_type": "execute_result"
    }
   ],
   "source": [
    "a+b"
   ]
  },
  {
   "cell_type": "code",
   "execution_count": 80,
   "id": "46daaf54",
   "metadata": {},
   "outputs": [
    {
     "data": {
      "text/plain": [
       "array([0.        , 0.09090909, 0.16666667, 0.23076923, 0.28571429,\n",
       "       0.33333333, 0.375     , 0.41176471, 0.44444444, 0.47368421])"
      ]
     },
     "execution_count": 80,
     "metadata": {},
     "output_type": "execute_result"
    }
   ],
   "source": [
    "a/b"
   ]
  },
  {
   "cell_type": "code",
   "execution_count": 81,
   "id": "7fd91b87",
   "metadata": {},
   "outputs": [
    {
     "data": {
      "text/plain": [
       "array([ True,  True,  True,  True,  True,  True,  True,  True,  True,\n",
       "        True])"
      ]
     },
     "execution_count": 81,
     "metadata": {},
     "output_type": "execute_result"
    }
   ],
   "source": [
    "a <= b"
   ]
  },
  {
   "cell_type": "code",
   "execution_count": 82,
   "id": "47ecbeca",
   "metadata": {},
   "outputs": [],
   "source": [
    "a = np.arange(0,10).reshape((5,2))\n",
    "b = np.arange(0,10).reshape((5,2))"
   ]
  },
  {
   "cell_type": "code",
   "execution_count": 83,
   "id": "14b48707",
   "metadata": {},
   "outputs": [
    {
     "data": {
      "text/plain": [
       "array([[0, 1],\n",
       "       [2, 3],\n",
       "       [4, 5],\n",
       "       [6, 7],\n",
       "       [8, 9]])"
      ]
     },
     "execution_count": 83,
     "metadata": {},
     "output_type": "execute_result"
    }
   ],
   "source": [
    "a\n",
    "b"
   ]
  },
  {
   "cell_type": "code",
   "execution_count": 84,
   "id": "5e00013b",
   "metadata": {},
   "outputs": [
    {
     "data": {
      "text/plain": [
       "array([[ 0,  2],\n",
       "       [ 4,  6],\n",
       "       [ 8, 10],\n",
       "       [12, 14],\n",
       "       [16, 18]])"
      ]
     },
     "execution_count": 84,
     "metadata": {},
     "output_type": "execute_result"
    }
   ],
   "source": [
    "a+b"
   ]
  },
  {
   "cell_type": "code",
   "execution_count": 85,
   "id": "3097ad89",
   "metadata": {},
   "outputs": [
    {
     "data": {
      "text/plain": [
       "array([[False,  True],\n",
       "       [ True,  True],\n",
       "       [ True,  True],\n",
       "       [ True,  True],\n",
       "       [ True,  True]])"
      ]
     },
     "execution_count": 85,
     "metadata": {},
     "output_type": "execute_result"
    }
   ],
   "source": [
    "np.logical_and(a,b)\n"
   ]
  },
  {
   "cell_type": "code",
   "execution_count": 86,
   "id": "9b47de3c",
   "metadata": {},
   "outputs": [
    {
     "data": {
      "text/plain": [
       "array([[ True,  True],\n",
       "       [ True,  True],\n",
       "       [ True,  True],\n",
       "       [ True,  True],\n",
       "       [ True,  True]])"
      ]
     },
     "execution_count": 86,
     "metadata": {},
     "output_type": "execute_result"
    }
   ],
   "source": [
    "(a >= b) | (b > 5)\n"
   ]
  },
  {
   "cell_type": "code",
   "execution_count": 87,
   "id": "aa556444",
   "metadata": {},
   "outputs": [
    {
     "data": {
      "text/plain": [
       "array([[ 0,  2],\n",
       "       [ 4,  6],\n",
       "       [ 8, 10],\n",
       "       [12, 14],\n",
       "       [16, 18]])"
      ]
     },
     "execution_count": 87,
     "metadata": {},
     "output_type": "execute_result"
    }
   ],
   "source": [
    "np.add(a,b)"
   ]
  },
  {
   "cell_type": "code",
   "execution_count": 88,
   "id": "a57fc461",
   "metadata": {},
   "outputs": [
    {
     "data": {
      "text/plain": [
       "array([[0, 0],\n",
       "       [0, 0],\n",
       "       [0, 0],\n",
       "       [0, 0],\n",
       "       [0, 0]])"
      ]
     },
     "execution_count": 88,
     "metadata": {},
     "output_type": "execute_result"
    }
   ],
   "source": [
    "np.subtract(a,b)"
   ]
  },
  {
   "cell_type": "code",
   "execution_count": 89,
   "id": "dfc8fa4e",
   "metadata": {},
   "outputs": [
    {
     "data": {
      "text/plain": [
       "array([[ 0,  1],\n",
       "       [ 4,  9],\n",
       "       [16, 25],\n",
       "       [36, 49],\n",
       "       [64, 81]])"
      ]
     },
     "execution_count": 89,
     "metadata": {},
     "output_type": "execute_result"
    }
   ],
   "source": [
    "np.multiply(a,b)"
   ]
  },
  {
   "cell_type": "code",
   "execution_count": 90,
   "id": "b17932de",
   "metadata": {},
   "outputs": [
    {
     "data": {
      "text/plain": [
       "array([[ 0,  1],\n",
       "       [ 4,  9],\n",
       "       [16, 25],\n",
       "       [36, 49],\n",
       "       [64, 81]])"
      ]
     },
     "execution_count": 90,
     "metadata": {},
     "output_type": "execute_result"
    }
   ],
   "source": [
    "np.multiply(a,b)"
   ]
  },
  {
   "cell_type": "code",
   "execution_count": 91,
   "id": "07d51230",
   "metadata": {},
   "outputs": [
    {
     "name": "stderr",
     "output_type": "stream",
     "text": [
      "C:\\Users\\asus\\AppData\\Local\\Temp\\ipykernel_8232\\3434828917.py:1: RuntimeWarning: divide by zero encountered in divmod\n",
      "  np.divmod(a,b)\n"
     ]
    },
    {
     "data": {
      "text/plain": [
       "(array([[0, 1],\n",
       "        [1, 1],\n",
       "        [1, 1],\n",
       "        [1, 1],\n",
       "        [1, 1]]),\n",
       " array([[0, 0],\n",
       "        [0, 0],\n",
       "        [0, 0],\n",
       "        [0, 0],\n",
       "        [0, 0]]))"
      ]
     },
     "execution_count": 91,
     "metadata": {},
     "output_type": "execute_result"
    }
   ],
   "source": [
    "np.divmod(a,b)"
   ]
  },
  {
   "cell_type": "code",
   "execution_count": 92,
   "id": "d4e9a7aa",
   "metadata": {},
   "outputs": [
    {
     "name": "stdout",
     "output_type": "stream",
     "text": [
      "[ 5  7  9 11 13 15 17]\n"
     ]
    }
   ],
   "source": [
    "x = np.array([1,2,3,4,5,6,7])\n",
    "m = 2\n",
    "c = 3\n",
    "y = m*x+c\n",
    "print(y)"
   ]
  },
  {
   "cell_type": "code",
   "execution_count": 93,
   "id": "cf8e3713",
   "metadata": {},
   "outputs": [],
   "source": [
    "a = np.arange(10,20)\n",
    "b = np.arange(10,21)"
   ]
  },
  {
   "cell_type": "code",
   "execution_count": 94,
   "id": "66a2d01b",
   "metadata": {},
   "outputs": [
    {
     "data": {
      "text/plain": [
       "array([10, 13, 19, 19])"
      ]
     },
     "execution_count": 94,
     "metadata": {},
     "output_type": "execute_result"
    }
   ],
   "source": [
    "a[[0,3,9,9]]"
   ]
  },
  {
   "cell_type": "code",
   "execution_count": 95,
   "id": "711556b1",
   "metadata": {},
   "outputs": [
    {
     "data": {
      "text/plain": [
       "array([[ 0,  1,  2,  3,  4,  5,  6,  7,  8,  9],\n",
       "       [10, 11, 12, 13, 14, 15, 16, 17, 18, 19],\n",
       "       [20, 21, 22, 23, 24, 25, 26, 27, 28, 29],\n",
       "       [30, 31, 32, 33, 34, 35, 36, 37, 38, 39],\n",
       "       [40, 41, 42, 43, 44, 45, 46, 47, 48, 49],\n",
       "       [50, 51, 52, 53, 54, 55, 56, 57, 58, 59],\n",
       "       [60, 61, 62, 63, 64, 65, 66, 67, 68, 69],\n",
       "       [70, 71, 72, 73, 74, 75, 76, 77, 78, 79],\n",
       "       [80, 81, 82, 83, 84, 85, 86, 87, 88, 89],\n",
       "       [90, 91, 92, 93, 94, 95, 96, 97, 98, 99]])"
      ]
     },
     "execution_count": 95,
     "metadata": {},
     "output_type": "execute_result"
    }
   ],
   "source": [
    "a = np.arange(100).reshape((10,10))\n",
    "a"
   ]
  },
  {
   "cell_type": "code",
   "execution_count": 96,
   "id": "650a8614",
   "metadata": {},
   "outputs": [
    {
     "data": {
      "text/plain": [
       "array([[ 0,  1,  2,  3,  4,  5,  6,  7,  8,  9],\n",
       "       [10, 11, 12, 13, 14, 15, 16, 17, 18, 19],\n",
       "       [20, 21, 22, 23, 24, 25, 26, 27, 28, 29],\n",
       "       [30, 31, 32, 33, 34, 35, 36, 37, 38, 39],\n",
       "       [40, 41, 42, 43, 44, 45, 46, 47, 48, 49],\n",
       "       [50, 51, 52, 53, 54, 55, 56, 57, 58, 59],\n",
       "       [60, 61, 62, 63, 64, 65, 66, 67, 68, 69],\n",
       "       [70, 71, 72, 73, 74, 75, 76, 77, 78, 79],\n",
       "       [80, 81, 82, 83, 84, 85, 86, 87, 88, 89],\n",
       "       [90, 91, 92, 93, 94, 95, 96, 97, 98, 99]])"
      ]
     },
     "execution_count": 96,
     "metadata": {},
     "output_type": "execute_result"
    }
   ],
   "source": [
    "a = np.arange(100).reshape((10,10))\n",
    "a"
   ]
  },
  {
   "cell_type": "code",
   "execution_count": 97,
   "id": "540baee3",
   "metadata": {},
   "outputs": [
    {
     "data": {
      "text/plain": [
       "array([[60, 61, 62, 63, 64, 65, 66, 67, 68, 69],\n",
       "       [30, 31, 32, 33, 34, 35, 36, 37, 38, 39],\n",
       "       [80, 81, 82, 83, 84, 85, 86, 87, 88, 89],\n",
       "       [20, 21, 22, 23, 24, 25, 26, 27, 28, 29]])"
      ]
     },
     "execution_count": 97,
     "metadata": {},
     "output_type": "execute_result"
    }
   ],
   "source": [
    "a[[6,3,8,2]]"
   ]
  },
  {
   "cell_type": "code",
   "execution_count": 98,
   "id": "b56855d8",
   "metadata": {},
   "outputs": [
    {
     "data": {
      "text/plain": [
       "array([60, 52, 24, 86])"
      ]
     },
     "execution_count": 98,
     "metadata": {},
     "output_type": "execute_result"
    }
   ],
   "source": [
    "a[[6,5,2,8],[0,2,4,6]]"
   ]
  },
  {
   "cell_type": "code",
   "execution_count": 99,
   "id": "b5009fbe",
   "metadata": {},
   "outputs": [
    {
     "data": {
      "text/plain": [
       "array([99, 22,  0, 66])"
      ]
     },
     "execution_count": 99,
     "metadata": {},
     "output_type": "execute_result"
    }
   ],
   "source": [
    "a[[9,2,0,6],[9,2,0,6]]"
   ]
  },
  {
   "cell_type": "code",
   "execution_count": null,
   "id": "4d5abc4c",
   "metadata": {},
   "outputs": [
    {
     "data": {
      "text/plain": [
       "array([[ 5,  3,  8,  7],\n",
       "       [15, 13, 18, 17],\n",
       "       [25, 23, 28, 27],\n",
       "       [35, 33, 38, 37],\n",
       "       [45, 43, 48, 47],\n",
       "       [55, 53, 58, 57],\n",
       "       [65, 63, 68, 67],\n",
       "       [75, 73, 78, 77],\n",
       "       [85, 83, 88, 87],\n",
       "       [95, 93, 98, 97]])"
      ]
     },
     "execution_count": 100,
     "metadata": {},
     "output_type": "execute_result"
    }
   ],
   "source": [
    "\n",
    "a[:,[5,3,8,7]]\n",
    "\n",
    "# ✅ Breakdown:\n",
    "# a[:, ...] → means all rows\n",
    "\n",
    "# [5, 3, 8, 7] → means you're selecting columns 5, 3, 8, and 7, in that specific order\n",
    "\n",
    "# So you're getting a subset of columns for all rows, reordered.\n",
    "\n"
   ]
  },
  {
   "cell_type": "code",
   "execution_count": null,
   "id": "fd00450f",
   "metadata": {},
   "outputs": [
    {
     "data": {
      "text/plain": [
       "array([[62, 64, 67, 69],\n",
       "       [32, 34, 37, 39],\n",
       "       [82, 84, 87, 89],\n",
       "       [22, 24, 27, 29]])"
      ]
     },
     "execution_count": 101,
     "metadata": {},
     "output_type": "execute_result"
    }
   ],
   "source": [
    "a[[6,3,8,2]][:,[2,4,7,9]]\n",
    "\n",
    "# ✅ Step-by-step Explanation\n",
    "# Suppose a is a 2D NumPy array with shape (10, 10) or more.\n",
    "\n",
    "# 🔹 Step 1: a[[6, 3, 8, 2]]\n",
    "# Selects rows at indices 6, 3, 8, and 2.\n",
    "\n",
    "# Result: a new array of shape (4, a.shape[1]) — say (4, 10) if a has 10 columns.\n",
    "\n",
    "# 🔹 Step 2: [..., [2, 4, 7, 9]]\n",
    "# Selects columns 2, 4, 7, and 9 from those 4 rows.\n",
    "\n",
    "# Resulting shape: (4, 4)\n",
    "\n",
    "# ✅ Final Result:\n",
    "# A 4×4 submatrix containing the intersection of:\n",
    "\n",
    "# Rows: 6, 3, 8, 2\n",
    "\n",
    "# Columns: 2, 4, 7, 9\n",
    "\n"
   ]
  },
  {
   "cell_type": "code",
   "execution_count": 102,
   "id": "5b0a749d",
   "metadata": {},
   "outputs": [
    {
     "data": {
      "text/plain": [
       "array([10, 23, 31, 40, 50])"
      ]
     },
     "execution_count": 102,
     "metadata": {},
     "output_type": "execute_result"
    }
   ],
   "source": [
    "a = np.array([10,23,31,40,50])\n",
    "a"
   ]
  },
  {
   "cell_type": "code",
   "execution_count": 103,
   "id": "95a104da",
   "metadata": {},
   "outputs": [
    {
     "data": {
      "text/plain": [
       "array([10, 31, 40])"
      ]
     },
     "execution_count": 103,
     "metadata": {},
     "output_type": "execute_result"
    }
   ],
   "source": [
    "a[[True,False,True,True,False]]"
   ]
  },
  {
   "cell_type": "code",
   "execution_count": 104,
   "id": "3a11c55e",
   "metadata": {},
   "outputs": [
    {
     "data": {
      "text/plain": [
       "array([[ 0,  1,  2,  3,  4,  5,  6,  7,  8,  9],\n",
       "       [10, 11, 12, 13, 14, 15, 16, 17, 18, 19],\n",
       "       [20, 21, 22, 23, 24, 25, 26, 27, 28, 29],\n",
       "       [30, 31, 32, 33, 34, 35, 36, 37, 38, 39],\n",
       "       [40, 41, 42, 43, 44, 45, 46, 47, 48, 49],\n",
       "       [50, 51, 52, 53, 54, 55, 56, 57, 58, 59],\n",
       "       [60, 61, 62, 63, 64, 65, 66, 67, 68, 69],\n",
       "       [70, 71, 72, 73, 74, 75, 76, 77, 78, 79],\n",
       "       [80, 81, 82, 83, 84, 85, 86, 87, 88, 89],\n",
       "       [90, 91, 92, 93, 94, 95, 96, 97, 98, 99]])"
      ]
     },
     "execution_count": 104,
     "metadata": {},
     "output_type": "execute_result"
    }
   ],
   "source": [
    "a=np.arange(100).reshape(10,10)\n",
    "a"
   ]
  },
  {
   "cell_type": "code",
   "execution_count": null,
   "id": "21617dc1",
   "metadata": {},
   "outputs": [
    {
     "data": {
      "text/plain": [
       "array([[ 0,  1,  2,  3,  4,  5,  6,  7,  8,  9],\n",
       "       [20, 21, 22, 23, 24, 25, 26, 27, 28, 29],\n",
       "       [40, 41, 42, 43, 44, 45, 46, 47, 48, 49],\n",
       "       [70, 71, 72, 73, 74, 75, 76, 77, 78, 79],\n",
       "       [80, 81, 82, 83, 84, 85, 86, 87, 88, 89]])"
      ]
     },
     "execution_count": 105,
     "metadata": {},
     "output_type": "execute_result"
    }
   ],
   "source": [
    "a[[True,False,True,False,True,False,False,True,True,False]]\n",
    "\n",
    "# print row according to the condition true and false\n"
   ]
  },
  {
   "cell_type": "code",
   "execution_count": null,
   "id": "b25ba6db",
   "metadata": {},
   "outputs": [
    {
     "data": {
      "text/plain": [
       "array([[ 0,  2,  5,  7],\n",
       "       [10, 12, 15, 17],\n",
       "       [20, 22, 25, 27],\n",
       "       [30, 32, 35, 37],\n",
       "       [40, 42, 45, 47],\n",
       "       [50, 52, 55, 57],\n",
       "       [60, 62, 65, 67],\n",
       "       [70, 72, 75, 77],\n",
       "       [80, 82, 85, 87],\n",
       "       [90, 92, 95, 97]])"
      ]
     },
     "execution_count": 106,
     "metadata": {},
     "output_type": "execute_result"
    }
   ],
   "source": [
    "a[:,[True,False,True,False,False,True,False,True,False,False]]\n",
    "\n",
    "# print all row but specific column with condition given"
   ]
  },
  {
   "cell_type": "code",
   "execution_count": 108,
   "id": "da5ff483",
   "metadata": {},
   "outputs": [
    {
     "data": {
      "text/plain": [
       "array([ 0,  3,  6,  9, 12, 15, 18, 21, 24, 27, 30, 33, 36, 39, 42, 45, 48,\n",
       "       51, 54, 57, 60, 63, 66, 69, 72, 75, 78, 81, 84, 87, 90, 93, 96, 99])"
      ]
     },
     "execution_count": 108,
     "metadata": {},
     "output_type": "execute_result"
    }
   ],
   "source": [
    "a[a%3 == 0]\n",
    "\n",
    "# print all the element in the array a which is divisible by 3"
   ]
  },
  {
   "cell_type": "code",
   "execution_count": 109,
   "id": "b05a2630",
   "metadata": {},
   "outputs": [
    {
     "data": {
      "text/plain": [
       "array([ 0,  5, 10, 15, 20, 25, 30, 35, 40, 45, 50, 55, 60, 65, 70, 75, 80,\n",
       "       85, 90, 95])"
      ]
     },
     "execution_count": 109,
     "metadata": {},
     "output_type": "execute_result"
    }
   ],
   "source": [
    "a[a%5 == 0]"
   ]
  },
  {
   "cell_type": "code",
   "execution_count": null,
   "id": "be05bde7",
   "metadata": {},
   "outputs": [
    {
     "data": {
      "text/plain": [
       "array([[ 0,  1,  2,  3,  4,  5,  6,  7,  8,  9],\n",
       "       [20, 21, 22, 23, 24, 25, 26, 27, 28, 29],\n",
       "       [40, 41, 42, 43, 44, 45, 46, 47, 48, 49],\n",
       "       [60, 61, 62, 63, 64, 65, 66, 67, 68, 69],\n",
       "       [80, 81, 82, 83, 84, 85, 86, 87, 88, 89]])"
      ]
     },
     "execution_count": 110,
     "metadata": {},
     "output_type": "execute_result"
    }
   ],
   "source": [
    "a[a[:,0]%4 == 0]\n",
    "\n",
    "\n",
    "# ✅ Step-by-Step Explanation:\n",
    "# 🔹 a[:, 0]\n",
    "# Selects the first column (column at index 0) from all rows.\n",
    "\n",
    "# 🔹 a[:, 0] % 4 == 0\n",
    "# Applies the condition: \"which values in the first column are divisible by 4?\"\n",
    "\n",
    "# Returns a boolean array (e.g., [False, True, ...])\n",
    "\n",
    "# 🔹 a[...]\n",
    "# Filters all rows of a where the condition is True.\n"
   ]
  },
  {
   "cell_type": "code",
   "execution_count": 111,
   "id": "820edf05",
   "metadata": {},
   "outputs": [
    {
     "data": {
      "text/plain": [
       "array([[ 0,  4,  8],\n",
       "       [10, 14, 18],\n",
       "       [20, 24, 28],\n",
       "       [30, 34, 38],\n",
       "       [40, 44, 48],\n",
       "       [50, 54, 58],\n",
       "       [60, 64, 68],\n",
       "       [70, 74, 78],\n",
       "       [80, 84, 88],\n",
       "       [90, 94, 98]])"
      ]
     },
     "execution_count": 111,
     "metadata": {},
     "output_type": "execute_result"
    }
   ],
   "source": [
    "a[:,a[0]%4 == 0]"
   ]
  },
  {
   "cell_type": "code",
   "execution_count": 112,
   "id": "05754581",
   "metadata": {},
   "outputs": [
    {
     "data": {
      "text/plain": [
       "array([[ 0,  1,  2,  3,  4],\n",
       "       [ 5,  6,  7,  8,  9],\n",
       "       [10, 11, 12, 13, 14],\n",
       "       [15, 16, 17, 18, 19],\n",
       "       [20, 21, 22, 23, 24],\n",
       "       [25, 26, 27, 28, 29],\n",
       "       [30, 31, 32, 33, 34],\n",
       "       [35, 36, 37, 38, 39],\n",
       "       [40, 41, 42, 43, 44],\n",
       "       [45, 46, 47, 48, 49],\n",
       "       [50, 51, 52, 53, 54],\n",
       "       [55, 56, 57, 58, 59]])"
      ]
     },
     "execution_count": 112,
     "metadata": {},
     "output_type": "execute_result"
    }
   ],
   "source": [
    "a = np.arange(60).reshape((12,5))\n",
    "a"
   ]
  },
  {
   "cell_type": "code",
   "execution_count": 113,
   "id": "e3a5be07",
   "metadata": {},
   "outputs": [
    {
     "data": {
      "text/plain": [
       "array([ 2.,  7., 12., 17., 22., 27., 32., 37., 42., 47., 52., 57.])"
      ]
     },
     "execution_count": 113,
     "metadata": {},
     "output_type": "execute_result"
    }
   ],
   "source": [
    "#axis = 0 means mean of column\n",
    "#axis = 1 means mean of row\n",
    "np.mean(a,axis = 1)"
   ]
  },
  {
   "cell_type": "code",
   "execution_count": 114,
   "id": "ded58987",
   "metadata": {},
   "outputs": [
    {
     "data": {
      "text/plain": [
       "array([ 10,  35,  60,  85, 110, 135, 160, 185, 210, 235, 260, 285])"
      ]
     },
     "execution_count": 114,
     "metadata": {},
     "output_type": "execute_result"
    }
   ],
   "source": [
    "np.sum(a,axis = 1)"
   ]
  },
  {
   "cell_type": "code",
   "execution_count": 115,
   "id": "e3d705ba",
   "metadata": {},
   "outputs": [
    {
     "data": {
      "text/plain": [
       "np.int64(59)"
      ]
     },
     "execution_count": 115,
     "metadata": {},
     "output_type": "execute_result"
    }
   ],
   "source": [
    "np.max(a)"
   ]
  },
  {
   "cell_type": "code",
   "execution_count": 116,
   "id": "be29a707",
   "metadata": {},
   "outputs": [],
   "source": [
    "a = np.array([1,2,3])\n",
    "b = np.array([[10,20,30],[40,50,60],[70,80,90]])"
   ]
  },
  {
   "cell_type": "code",
   "execution_count": 121,
   "id": "4988eae0",
   "metadata": {},
   "outputs": [
    {
     "data": {
      "text/plain": [
       "array([[1],\n",
       "       [2],\n",
       "       [3]])"
      ]
     },
     "execution_count": 121,
     "metadata": {},
     "output_type": "execute_result"
    }
   ],
   "source": [
    "a"
   ]
  },
  {
   "cell_type": "code",
   "execution_count": 117,
   "id": "3b8067b9",
   "metadata": {},
   "outputs": [
    {
     "data": {
      "text/plain": [
       "array([[11, 22, 33],\n",
       "       [41, 52, 63],\n",
       "       [71, 82, 93]])"
      ]
     },
     "execution_count": 117,
     "metadata": {},
     "output_type": "execute_result"
    }
   ],
   "source": [
    "a+b"
   ]
  },
  {
   "cell_type": "code",
   "execution_count": 118,
   "id": "7ef2c86f",
   "metadata": {},
   "outputs": [],
   "source": [
    "a = np.array([[1],[2],[3]])\n",
    "b = np.array([[10,20,30],[40,50,60],[70,80,90]])"
   ]
  },
  {
   "cell_type": "code",
   "execution_count": 122,
   "id": "21589a5e",
   "metadata": {},
   "outputs": [
    {
     "data": {
      "text/plain": [
       "array([[1],\n",
       "       [2],\n",
       "       [3]])"
      ]
     },
     "execution_count": 122,
     "metadata": {},
     "output_type": "execute_result"
    }
   ],
   "source": [
    "a"
   ]
  },
  {
   "cell_type": "code",
   "execution_count": 123,
   "id": "e3a3381b",
   "metadata": {},
   "outputs": [
    {
     "data": {
      "text/plain": [
       "array([[10, 20, 30],\n",
       "       [40, 50, 60],\n",
       "       [70, 80, 90]])"
      ]
     },
     "execution_count": 123,
     "metadata": {},
     "output_type": "execute_result"
    }
   ],
   "source": [
    "b"
   ]
  },
  {
   "cell_type": "code",
   "execution_count": 124,
   "id": "81e3af76",
   "metadata": {},
   "outputs": [
    {
     "data": {
      "text/plain": [
       "array([[11, 21, 31],\n",
       "       [42, 52, 62],\n",
       "       [73, 83, 93]])"
      ]
     },
     "execution_count": 124,
     "metadata": {},
     "output_type": "execute_result"
    }
   ],
   "source": [
    "a+b"
   ]
  },
  {
   "cell_type": "code",
   "execution_count": 125,
   "id": "3225213c",
   "metadata": {},
   "outputs": [],
   "source": [
    "a = np.array([0,1,2,3,4])\n",
    "b = np.array([[4],[5],[6],[7]])"
   ]
  },
  {
   "cell_type": "code",
   "execution_count": 126,
   "id": "bbd7d484",
   "metadata": {},
   "outputs": [
    {
     "data": {
      "text/plain": [
       "array([0, 1, 2, 3, 4])"
      ]
     },
     "execution_count": 126,
     "metadata": {},
     "output_type": "execute_result"
    }
   ],
   "source": [
    "a"
   ]
  },
  {
   "cell_type": "code",
   "execution_count": 127,
   "id": "f82833e2",
   "metadata": {},
   "outputs": [
    {
     "data": {
      "text/plain": [
       "array([[4],\n",
       "       [5],\n",
       "       [6],\n",
       "       [7]])"
      ]
     },
     "execution_count": 127,
     "metadata": {},
     "output_type": "execute_result"
    }
   ],
   "source": [
    "b"
   ]
  },
  {
   "cell_type": "code",
   "execution_count": 128,
   "id": "3890661d",
   "metadata": {},
   "outputs": [
    {
     "data": {
      "text/plain": [
       "array([[ 4,  5,  6,  7,  8],\n",
       "       [ 5,  6,  7,  8,  9],\n",
       "       [ 6,  7,  8,  9, 10],\n",
       "       [ 7,  8,  9, 10, 11]])"
      ]
     },
     "execution_count": 128,
     "metadata": {},
     "output_type": "execute_result"
    }
   ],
   "source": [
    "a+b"
   ]
  },
  {
   "cell_type": "code",
   "execution_count": null,
   "id": "9ce5cb74",
   "metadata": {},
   "outputs": [
    {
     "data": {
      "text/plain": [
       "np.int64(2)"
      ]
     },
     "execution_count": 129,
     "metadata": {},
     "output_type": "execute_result"
    }
   ],
   "source": [
    "a = np.array([10,3,20,4,1])\n",
    "np.argmax(a)\n",
    "\n",
    "# This function returns the index of the maximum value in\n",
    "#  the array a.\n",
    "\n"
   ]
  },
  {
   "cell_type": "code",
   "execution_count": null,
   "id": "41547534",
   "metadata": {},
   "outputs": [
    {
     "name": "stdout",
     "output_type": "stream",
     "text": [
      "[[ 1900. 30000.  4000. 48300.]\n",
      " [ 1901. 47200.  6100. 48200.]\n",
      " [ 1902. 70200.  9800. 41500.]\n",
      " [ 1903. 77400. 35200. 38200.]\n",
      " [ 1904. 36300. 59400. 40600.]\n",
      " [ 1905. 20600. 41700. 39800.]\n",
      " [ 1906. 18100. 19000. 38600.]\n",
      " [ 1907. 21400. 13000. 42300.]\n",
      " [ 1908. 22000.  8300. 44500.]\n",
      " [ 1909. 25400.  9100. 42100.]\n",
      " [ 1910. 27100.  7400. 46000.]\n",
      " [ 1911. 40300.  8000. 46800.]\n",
      " [ 1912. 57000. 12300. 43800.]\n",
      " [ 1913. 76600. 19500. 40900.]\n",
      " [ 1914. 52300. 45700. 39400.]\n",
      " [ 1915. 19500. 51100. 39000.]\n",
      " [ 1916. 11200. 29700. 36700.]\n",
      " [ 1917.  7600. 15800. 41800.]\n",
      " [ 1918. 14600.  9700. 43300.]\n",
      " [ 1919. 16200. 10100. 41300.]\n",
      " [ 1920. 24700.  8600. 47300.]]\n"
     ]
    }
   ],
   "source": [
    "data = np.loadtxt('population.txt')\n",
    "print(data)  \n"
   ]
  },
  {
   "cell_type": "code",
   "execution_count": 136,
   "id": "9372b168",
   "metadata": {},
   "outputs": [
    {
     "data": {
      "text/plain": [
       "array([ 1920., 77400., 59400., 48300.])"
      ]
     },
     "execution_count": 136,
     "metadata": {},
     "output_type": "execute_result"
    }
   ],
   "source": [
    "np.max(data,axis = 0)"
   ]
  },
  {
   "cell_type": "code",
   "execution_count": 137,
   "id": "3b1f7793",
   "metadata": {},
   "outputs": [
    {
     "data": {
      "text/plain": [
       "array([48300., 48200., 70200., 77400., 59400., 41700., 38600., 42300.,\n",
       "       44500., 42100., 46000., 46800., 57000., 76600., 52300., 51100.,\n",
       "       36700., 41800., 43300., 41300., 47300.])"
      ]
     },
     "execution_count": 137,
     "metadata": {},
     "output_type": "execute_result"
    }
   ],
   "source": [
    "np.max(data,axis = 1)"
   ]
  },
  {
   "cell_type": "code",
   "execution_count": 138,
   "id": "3b4ad19d",
   "metadata": {},
   "outputs": [
    {
     "data": {
      "text/plain": [
       "array([3, 3, 1, 1, 2, 2, 3, 3, 3, 3, 3, 3, 1, 1, 1, 2, 3, 3, 3, 3, 3])"
      ]
     },
     "execution_count": 138,
     "metadata": {},
     "output_type": "execute_result"
    }
   ],
   "source": [
    "np.argmax(data,axis = 1)"
   ]
  },
  {
   "cell_type": "code",
   "execution_count": 139,
   "id": "8b8a7bf5",
   "metadata": {},
   "outputs": [],
   "source": [
    "a = np.array([[1,2],[3,4]])\n",
    "b = np.array([[5,6],[7,8]])"
   ]
  },
  {
   "cell_type": "code",
   "execution_count": null,
   "id": "7d7144be",
   "metadata": {},
   "outputs": [
    {
     "data": {
      "text/plain": [
       "array([[19, 22],\n",
       "       [43, 50]])"
      ]
     },
     "execution_count": 140,
     "metadata": {},
     "output_type": "execute_result"
    }
   ],
   "source": [
    "a.dot(b)\n",
    "\n",
    "# performs a dot product (matrix multiplication)\n",
    "#  between two NumPy arrays a and b."
   ]
  },
  {
   "cell_type": "code",
   "execution_count": 141,
   "id": "52795244",
   "metadata": {},
   "outputs": [
    {
     "data": {
      "text/plain": [
       "array([[19, 22],\n",
       "       [43, 50]])"
      ]
     },
     "execution_count": 141,
     "metadata": {},
     "output_type": "execute_result"
    }
   ],
   "source": [
    "np.dot(a,b)"
   ]
  },
  {
   "cell_type": "code",
   "execution_count": 142,
   "id": "21a2d5e2",
   "metadata": {},
   "outputs": [
    {
     "data": {
      "text/plain": [
       "array([[19, 22],\n",
       "       [43, 50]])"
      ]
     },
     "execution_count": 142,
     "metadata": {},
     "output_type": "execute_result"
    }
   ],
   "source": [
    "a@b"
   ]
  },
  {
   "cell_type": "code",
   "execution_count": null,
   "id": "119f829b",
   "metadata": {},
   "outputs": [],
   "source": []
  },
  {
   "cell_type": "code",
   "execution_count": null,
   "id": "5859f051",
   "metadata": {},
   "outputs": [],
   "source": []
  }
 ],
 "metadata": {
  "kernelspec": {
   "display_name": ".venv",
   "language": "python",
   "name": "python3"
  },
  "language_info": {
   "codemirror_mode": {
    "name": "ipython",
    "version": 3
   },
   "file_extension": ".py",
   "mimetype": "text/x-python",
   "name": "python",
   "nbconvert_exporter": "python",
   "pygments_lexer": "ipython3",
   "version": "3.13.1"
  }
 },
 "nbformat": 4,
 "nbformat_minor": 5
}
