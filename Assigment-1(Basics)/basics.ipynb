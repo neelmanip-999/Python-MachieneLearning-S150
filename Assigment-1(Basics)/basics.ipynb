{
 "cells": [
  {
   "cell_type": "markdown",
   "id": "c34c1501",
   "metadata": {},
   "source": [
    "1. Make a custom exception\n",
    "2. Make a 2-d array and read and write it in a csv format"
   ]
  },
  {
   "cell_type": "code",
   "execution_count": 1,
   "id": "68291dcb",
   "metadata": {},
   "outputs": [
    {
     "ename": "Exception",
     "evalue": "you are not eligible for vote",
     "output_type": "error",
     "traceback": [
      "\u001b[31m---------------------------------------------------------------------------\u001b[39m",
      "\u001b[31mException\u001b[39m                                 Traceback (most recent call last)",
      "\u001b[36mCell\u001b[39m\u001b[36m \u001b[39m\u001b[32mIn[1]\u001b[39m\u001b[32m, line 6\u001b[39m\n\u001b[32m      3\u001b[39m age=\u001b[38;5;28mint\u001b[39m(\u001b[38;5;28minput\u001b[39m(\u001b[33m\"\u001b[39m\u001b[33menter the age\u001b[39m\u001b[33m\"\u001b[39m))\n\u001b[32m      5\u001b[39m \u001b[38;5;28;01mif\u001b[39;00m(age<\u001b[32m18\u001b[39m):\n\u001b[32m----> \u001b[39m\u001b[32m6\u001b[39m     \u001b[38;5;28;01mraise\u001b[39;00m \u001b[38;5;167;01mException\u001b[39;00m(\u001b[33m\"\u001b[39m\u001b[33myou are not eligible for vote\u001b[39m\u001b[33m\"\u001b[39m)\n",
      "\u001b[31mException\u001b[39m: you are not eligible for vote"
     ]
    }
   ],
   "source": [
    "# making a custom exception:-\n",
    "\n",
    "age=int(input(\"enter the age\"))\n",
    "\n",
    "if(age<18):\n",
    "    raise Exception(\"you are not eligible for vote\")"
   ]
  },
  {
   "cell_type": "code",
   "execution_count": 2,
   "id": "8349ea9b",
   "metadata": {},
   "outputs": [],
   "source": [
    "#Make a 2-d array and read and write it in a csv format\n",
    "\n",
    "l=[['M1', 'M2', 'M3', 'M4'],\n",
    "   ['10', '20', '30', '40'],\n",
    "   ['50', '60', '60', '70'],\n",
    "   ['80', '90', '100', '110']\n",
    "   ]"
   ]
  },
  {
   "cell_type": "code",
   "execution_count": 3,
   "id": "386f6598",
   "metadata": {},
   "outputs": [],
   "source": [
    "with open('write.csv','w') as f:\n",
    "    for list in l:\n",
    "        f.write(','.join(map(str,list)))\n",
    "        f.write('\\n')"
   ]
  },
  {
   "cell_type": "code",
   "execution_count": 4,
   "id": "cb526817",
   "metadata": {},
   "outputs": [
    {
     "name": "stdout",
     "output_type": "stream",
     "text": [
      "M1,M2,M3,M4\n",
      "10,20,30,40\n",
      "50,60,60,70\n",
      "80,90,100,110\n",
      "\n"
     ]
    }
   ],
   "source": [
    "with open('write.csv','r') as f:\n",
    "    f.seek(0)\n",
    "    print(f.read())"
   ]
  }
 ],
 "metadata": {
  "kernelspec": {
   "display_name": ".venv",
   "language": "python",
   "name": "python3"
  },
  "language_info": {
   "codemirror_mode": {
    "name": "ipython",
    "version": 3
   },
   "file_extension": ".py",
   "mimetype": "text/x-python",
   "name": "python",
   "nbconvert_exporter": "python",
   "pygments_lexer": "ipython3",
   "version": "3.13.1"
  }
 },
 "nbformat": 4,
 "nbformat_minor": 5
}
