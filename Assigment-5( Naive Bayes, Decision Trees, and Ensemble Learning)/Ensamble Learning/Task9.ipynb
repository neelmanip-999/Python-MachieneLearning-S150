{
 "cells": [
  {
   "cell_type": "markdown",
   "id": "e183a655",
   "metadata": {},
   "source": [
    "Task 9: AdaBoost or Gradient Boosting\n",
    "● Train an AdaBoostClassifier or GradientBoostingClassifier.\n",
    "● Use a suitable dataset.\n",
    "● Compare it with Random Forest and Decision Tree in terms of:\n",
    "○ Accuracy\n",
    "○ F1-score\n",
    "○ Training time (optional)"
   ]
  },
  {
   "cell_type": "code",
   "execution_count": 1,
   "id": "7bdd4faa",
   "metadata": {},
   "outputs": [],
   "source": [
    "\n",
    "import pandas as pd\n",
    "import numpy as np\n",
    "from sklearn.model_selection import train_test_split\n",
    "from sklearn.preprocessing import LabelEncoder\n",
    "from sklearn.tree import DecisionTreeClassifier\n",
    "from sklearn.ensemble import RandomForestClassifier, AdaBoostClassifier, GradientBoostingClassifier\n",
    "from sklearn.metrics import accuracy_score, f1_score\n",
    "import time\n"
   ]
  },
  {
   "cell_type": "code",
   "execution_count": 3,
   "id": "95b32418",
   "metadata": {},
   "outputs": [
    {
     "name": "stderr",
     "output_type": "stream",
     "text": [
      "C:\\Users\\asus\\AppData\\Local\\Temp\\ipykernel_12356\\9751697.py:5: FutureWarning: A value is trying to be set on a copy of a DataFrame or Series through chained assignment using an inplace method.\n",
      "The behavior will change in pandas 3.0. This inplace method will never work because the intermediate object on which we are setting values always behaves as a copy.\n",
      "\n",
      "For example, when doing 'df[col].method(value, inplace=True)', try using 'df.method({col: value}, inplace=True)' or df[col] = df[col].method(value) instead, to perform the operation inplace on the original object.\n",
      "\n",
      "\n",
      "  data['Age'].fillna(data['Age'].median(), inplace=True)\n",
      "C:\\Users\\asus\\AppData\\Local\\Temp\\ipykernel_12356\\9751697.py:6: FutureWarning: A value is trying to be set on a copy of a DataFrame or Series through chained assignment using an inplace method.\n",
      "The behavior will change in pandas 3.0. This inplace method will never work because the intermediate object on which we are setting values always behaves as a copy.\n",
      "\n",
      "For example, when doing 'df[col].method(value, inplace=True)', try using 'df.method({col: value}, inplace=True)' or df[col] = df[col].method(value) instead, to perform the operation inplace on the original object.\n",
      "\n",
      "\n",
      "  data['Embarked'].fillna(data['Embarked'].mode()[0], inplace=True)\n"
     ]
    }
   ],
   "source": [
    "               \n",
    "data = pd.read_csv('titanic.csv')\n",
    "\n",
    "data.drop(['Cabin', 'Ticket', 'Name', 'PassengerId'], axis=1, inplace=True)\n",
    "\n",
    "data['Age'].fillna(data['Age'].median(), inplace=True)\n",
    "data['Embarked'].fillna(data['Embarked'].mode()[0], inplace=True)\n",
    "\n",
    "le = LabelEncoder()\n",
    "data['Sex'] = le.fit_transform(data['Sex'])          \n",
    "data['Embarked'] = le.fit_transform(data['Embarked'])\n",
    "\n",
    "X = data[['Pclass', 'Sex', 'Age', 'SibSp', 'Parch', 'Fare', 'Embarked']]\n",
    "y = data['Survived']\n",
    "\n",
    "X_train, X_test, y_train, y_test = train_test_split(X, y, test_size=0.2, random_state=42)\n"
   ]
  },
  {
   "cell_type": "code",
   "execution_count": 4,
   "id": "3254361d",
   "metadata": {},
   "outputs": [],
   "source": [
    "\n",
    "results = {}\n",
    "\n",
    "# Decision Tree:-\n",
    "start = time.time()\n",
    "dt = DecisionTreeClassifier(random_state=42)\n",
    "dt.fit(X_train, y_train)\n",
    "end = time.time()\n",
    "y_pred_dt = dt.predict(X_test)\n",
    "results['Decision Tree'] = {\n",
    "    'accuracy': accuracy_score(y_test, y_pred_dt),\n",
    "    'f1': f1_score(y_test, y_pred_dt),\n",
    "    'time': end - start\n",
    "}\n",
    "\n",
    "# Random Forest:-\n",
    "start = time.time()\n",
    "rf = RandomForestClassifier(random_state=42)\n",
    "rf.fit(X_train, y_train)\n",
    "end = time.time()\n",
    "y_pred_rf = rf.predict(X_test)\n",
    "results['Random Forest'] = {\n",
    "    'accuracy': accuracy_score(y_test, y_pred_rf),\n",
    "    'f1': f1_score(y_test, y_pred_rf),\n",
    "    'time': end - start\n",
    "}\n",
    "\n",
    "# AdaBoost:-\n",
    "start = time.time()\n",
    "ab = AdaBoostClassifier(random_state=42)\n",
    "ab.fit(X_train, y_train)\n",
    "end = time.time()\n",
    "y_pred_ab = ab.predict(X_test)\n",
    "results['AdaBoost'] = {\n",
    "    'accuracy': accuracy_score(y_test, y_pred_ab),\n",
    "    'f1': f1_score(y_test, y_pred_ab),\n",
    "    'time': end - start\n",
    "}\n"
   ]
  },
  {
   "cell_type": "code",
   "execution_count": 5,
   "id": "0cc16b93",
   "metadata": {},
   "outputs": [
    {
     "name": "stdout",
     "output_type": "stream",
     "text": [
      "Model Comparison:\n",
      "\n",
      "Decision Tree:\n",
      "Accuracy: 0.7821\n",
      "F1-Score: 0.7451\n",
      "Training Time: 0.0163 seconds\n",
      "\n",
      "Random Forest:\n",
      "Accuracy: 0.8212\n",
      "F1-Score: 0.7746\n",
      "Training Time: 0.6281 seconds\n",
      "\n",
      "AdaBoost:\n",
      "Accuracy: 0.7989\n",
      "F1-Score: 0.7429\n",
      "Training Time: 0.2598 seconds\n"
     ]
    }
   ],
   "source": [
    "print(\"Model Comparison:\")\n",
    "for model in results:\n",
    "    print(f\"\\n{model}:\")\n",
    "    print(f\"Accuracy: {results[model]['accuracy']:.4f}\")\n",
    "    print(f\"F1-Score: {results[model]['f1']:.4f}\")\n",
    "    print(f\"Training Time: {results[model]['time']:.4f} seconds\")\n"
   ]
  },
  {
   "cell_type": "code",
   "execution_count": null,
   "id": "59538a43",
   "metadata": {},
   "outputs": [],
   "source": []
  },
  {
   "cell_type": "code",
   "execution_count": null,
   "id": "22bd13f7",
   "metadata": {},
   "outputs": [],
   "source": []
  }
 ],
 "metadata": {
  "kernelspec": {
   "display_name": ".venv",
   "language": "python",
   "name": "python3"
  },
  "language_info": {
   "codemirror_mode": {
    "name": "ipython",
    "version": 3
   },
   "file_extension": ".py",
   "mimetype": "text/x-python",
   "name": "python",
   "nbconvert_exporter": "python",
   "pygments_lexer": "ipython3",
   "version": "3.13.1"
  }
 },
 "nbformat": 4,
 "nbformat_minor": 5
}
