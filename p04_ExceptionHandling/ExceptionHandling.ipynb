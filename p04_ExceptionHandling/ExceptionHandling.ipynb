{
 "cells": [
  {
   "cell_type": "markdown",
   "id": "e8513f46",
   "metadata": {},
   "source": [
    "Here's a complete explanation of Errors, Exceptions, and Handling in Python, including all the topics you mentioned:\n",
    "\n",
    "⚠️ 1. Errors in Python\n",
    "🔹 Syntax Errors\n",
    "These are mistakes in the structure of the code.\n",
    "\n",
    "Python detects them before running the program.\n",
    "\n",
    "# Example of syntax error:\n",
    "if True\n",
    "    print(\"Hello\")\n",
    "🔴 Output:\n",
    "SyntaxError: expected ':'\n",
    "\n",
    "\n",
    "🔹 Exceptions\n",
    "Exceptions occur during execution, even if the syntax is correct.\n",
    "\n",
    "They stop the program unless handled.\n",
    "# Example:\n",
    "x = 10 / 0\n",
    "🔴 Output:\n",
    "ZeroDivisionError: division by zero\n",
    "\n",
    "\n",
    "🧰 2. Handling Exceptions\n",
    "✅ try - except\n",
    "Used to catch and handle errors to prevent crashing.\n",
    "\n",
    "try:\n",
    "    x = int(input(\"Enter a number: \"))\n",
    "    print(10 / x)\n",
    "except ZeroDivisionError:\n",
    "    print(\"Cannot divide by zero!\")\n",
    "\n",
    "\n",
    "🧱 3. Common Exception Classes\n",
    "Some built-in exceptions:\n",
    "\n",
    "ZeroDivisionError\n",
    "\n",
    "ValueError\n",
    "\n",
    "TypeError\n",
    "\n",
    "FileNotFoundError\n",
    "\n",
    "KeyError\n",
    "\n",
    "IndexError\n",
    "\n",
    "All these are inherited from the base Exception class.\n",
    "\n",
    "🔁 4. Multiple Exceptions\n",
    "You can handle multiple exceptions using:\n",
    "\n",
    "try:\n",
    "    # risky code\n",
    "except (ZeroDivisionError, ValueError):\n",
    "    print(\"Caught one of the errors\")\n",
    "Or handle them separately:\n",
    "\n",
    "try:\n",
    "    # risky code\n",
    "except ValueError:\n",
    "    print(\"Value Error occurred\")\n",
    "except ZeroDivisionError:\n",
    "    print(\"Zero Division Error occurred\")\n",
    "\n",
    "\n",
    "🧬 5. Exception Base Class\n",
    "All exceptions inherit from the base:\n",
    "\n",
    "Exception\n",
    "You can catch any error like this:\n",
    "\n",
    "try:\n",
    "    # risky code\n",
    "except Exception as e:\n",
    "    print(\"Error:\", e)\n",
    "\n",
    "🚨 6. Raising a Custom Exception\n",
    "Use raise to throw exceptions manually:\n",
    "\n",
    "age = int(input(\"Enter your age: \"))\n",
    "if age < 18:\n",
    "    raise Exception(\"You must be 18 or older.\")\n",
    "\n",
    "✨ Custom Exception Class:\n",
    "class TooYoungError(Exception):\n",
    "    pass\n",
    "\n",
    "age = 15\n",
    "if age < 18:\n",
    "    raise TooYoungError(\"Too young to vote!\")\n",
    "\n",
    "🔄 7. else with try-except\n",
    "Runs only if no exception occurs.\n",
    "\n",
    "try:\n",
    "    num = int(input(\"Enter number: \"))\n",
    "except ValueError:\n",
    "    print(\"Not a number!\")\n",
    "else:\n",
    "    print(\"Valid number:\", num)\n",
    "\n",
    "\n",
    "✅ 8. finally Block\n",
    "Runs no matter what, even if there's an error or not.\n",
    "\n",
    "try:\n",
    "    f = open(\"data.txt\", \"r\")\n",
    "except FileNotFoundError:\n",
    "    print(\"File not found.\")\n",
    "finally:\n",
    "    print(\"This runs anyway.\")\n",
    "\n",
    "\n",
    "✅ Summary Table\n",
    "Block\tPurpose\n",
    "try\tCode that might raise an exception\n",
    "except\tHandle the exception\n",
    "else\tRuns if no exception occurs\n",
    "finally\tAlways runs (cleanup, closing files, etc.)\n",
    "raise\tManually trigger an exception"
   ]
  },
  {
   "cell_type": "code",
   "execution_count": 1,
   "id": "24335f73",
   "metadata": {},
   "outputs": [
    {
     "ename": "_IncompleteInputError",
     "evalue": "incomplete input (290942452.py, line 1)",
     "output_type": "error",
     "traceback": [
      "  \u001b[36mCell\u001b[39m\u001b[36m \u001b[39m\u001b[32mIn[1]\u001b[39m\u001b[32m, line 1\u001b[39m\n\u001b[31m    \u001b[39m\u001b[31mprint(\"Hi\"\u001b[39m\n              ^\n\u001b[31m_IncompleteInputError\u001b[39m\u001b[31m:\u001b[39m incomplete input\n"
     ]
    }
   ],
   "source": [
    "print(\"Hi\""
   ]
  },
  {
   "cell_type": "code",
   "execution_count": 2,
   "id": "35c84018",
   "metadata": {},
   "outputs": [],
   "source": [
    "def fn(a):\n",
    "    print(b)"
   ]
  },
  {
   "cell_type": "code",
   "execution_count": 3,
   "id": "6f992852",
   "metadata": {},
   "outputs": [
    {
     "ename": "NameError",
     "evalue": "name 'b' is not defined",
     "output_type": "error",
     "traceback": [
      "\u001b[31m---------------------------------------------------------------------------\u001b[39m",
      "\u001b[31mNameError\u001b[39m                                 Traceback (most recent call last)",
      "\u001b[36mCell\u001b[39m\u001b[36m \u001b[39m\u001b[32mIn[3]\u001b[39m\u001b[32m, line 1\u001b[39m\n\u001b[32m----> \u001b[39m\u001b[32m1\u001b[39m \u001b[43mfn\u001b[49m\u001b[43m(\u001b[49m\u001b[32;43m10\u001b[39;49m\u001b[43m)\u001b[49m\n",
      "\u001b[36mCell\u001b[39m\u001b[36m \u001b[39m\u001b[32mIn[2]\u001b[39m\u001b[32m, line 2\u001b[39m, in \u001b[36mfn\u001b[39m\u001b[34m(a)\u001b[39m\n\u001b[32m      1\u001b[39m \u001b[38;5;28;01mdef\u001b[39;00m\u001b[38;5;250m \u001b[39m\u001b[34mfn\u001b[39m(a):\n\u001b[32m----> \u001b[39m\u001b[32m2\u001b[39m     \u001b[38;5;28mprint\u001b[39m(\u001b[43mb\u001b[49m)\n",
      "\u001b[31mNameError\u001b[39m: name 'b' is not defined"
     ]
    }
   ],
   "source": [
    "fn(10)"
   ]
  },
  {
   "cell_type": "code",
   "execution_count": 4,
   "id": "d732b830",
   "metadata": {},
   "outputs": [
    {
     "ename": "NameError",
     "evalue": "name 'b' is not defined",
     "output_type": "error",
     "traceback": [
      "\u001b[31m---------------------------------------------------------------------------\u001b[39m",
      "\u001b[31mNameError\u001b[39m                                 Traceback (most recent call last)",
      "\u001b[36mCell\u001b[39m\u001b[36m \u001b[39m\u001b[32mIn[4]\u001b[39m\u001b[32m, line 2\u001b[39m\n\u001b[32m      1\u001b[39m a = \u001b[32m110\u001b[39m\n\u001b[32m----> \u001b[39m\u001b[32m2\u001b[39m \u001b[38;5;28mprint\u001b[39m(\u001b[43mb\u001b[49m)\n",
      "\u001b[31mNameError\u001b[39m: name 'b' is not defined"
     ]
    }
   ],
   "source": [
    "a = 110\n",
    "print(b)"
   ]
  },
  {
   "cell_type": "code",
   "execution_count": 5,
   "id": "1732cfa7",
   "metadata": {},
   "outputs": [
    {
     "ename": "ZeroDivisionError",
     "evalue": "division by zero",
     "output_type": "error",
     "traceback": [
      "\u001b[31m---------------------------------------------------------------------------\u001b[39m",
      "\u001b[31mZeroDivisionError\u001b[39m                         Traceback (most recent call last)",
      "\u001b[36mCell\u001b[39m\u001b[36m \u001b[39m\u001b[32mIn[5]\u001b[39m\u001b[32m, line 3\u001b[39m\n\u001b[32m      1\u001b[39m a = \u001b[32m10\u001b[39m\n\u001b[32m      2\u001b[39m b = \u001b[32m0\u001b[39m\n\u001b[32m----> \u001b[39m\u001b[32m3\u001b[39m \u001b[38;5;28mprint\u001b[39m(\u001b[43ma\u001b[49m\u001b[43m/\u001b[49m\u001b[43mb\u001b[49m)\n",
      "\u001b[31mZeroDivisionError\u001b[39m: division by zero"
     ]
    }
   ],
   "source": [
    "a = 10\n",
    "b = 0\n",
    "print(a/b)"
   ]
  },
  {
   "cell_type": "code",
   "execution_count": 6,
   "id": "713e6bdb",
   "metadata": {},
   "outputs": [
    {
     "ename": "TypeError",
     "evalue": "can only concatenate str (not \"int\") to str",
     "output_type": "error",
     "traceback": [
      "\u001b[31m---------------------------------------------------------------------------\u001b[39m",
      "\u001b[31mTypeError\u001b[39m                                 Traceback (most recent call last)",
      "\u001b[36mCell\u001b[39m\u001b[36m \u001b[39m\u001b[32mIn[6]\u001b[39m\u001b[32m, line 2\u001b[39m\n\u001b[32m      1\u001b[39m a = \u001b[32m10\u001b[39m\n\u001b[32m----> \u001b[39m\u001b[32m2\u001b[39m st = \u001b[33;43m\"\u001b[39;49m\u001b[33;43mHello\u001b[39;49m\u001b[33;43m\"\u001b[39;49m\u001b[43m \u001b[49m\u001b[43m+\u001b[49m\u001b[43m \u001b[49m\u001b[43ma\u001b[49m\n",
      "\u001b[31mTypeError\u001b[39m: can only concatenate str (not \"int\") to str"
     ]
    }
   ],
   "source": [
    "a = 10\n",
    "st = \"Hello\" + a"
   ]
  },
  {
   "cell_type": "code",
   "execution_count": 7,
   "id": "01df8f49",
   "metadata": {},
   "outputs": [
    {
     "ename": "IndentationError",
     "evalue": "unexpected indent (3888689027.py, line 2)",
     "output_type": "error",
     "traceback": [
      "  \u001b[36mCell\u001b[39m\u001b[36m \u001b[39m\u001b[32mIn[7]\u001b[39m\u001b[32m, line 2\u001b[39m\n\u001b[31m    \u001b[39m\u001b[31mb = 20\u001b[39m\n    ^\n\u001b[31mIndentationError\u001b[39m\u001b[31m:\u001b[39m unexpected indent\n"
     ]
    }
   ],
   "source": [
    "a = 10\n",
    "    b = 20"
   ]
  },
  {
   "cell_type": "code",
   "execution_count": 8,
   "id": "506b0908",
   "metadata": {},
   "outputs": [
    {
     "ename": "IndexError",
     "evalue": "list index out of range",
     "output_type": "error",
     "traceback": [
      "\u001b[31m---------------------------------------------------------------------------\u001b[39m",
      "\u001b[31mIndexError\u001b[39m                                Traceback (most recent call last)",
      "\u001b[36mCell\u001b[39m\u001b[36m \u001b[39m\u001b[32mIn[8]\u001b[39m\u001b[32m, line 2\u001b[39m\n\u001b[32m      1\u001b[39m l = [\u001b[32m1\u001b[39m,\u001b[32m2\u001b[39m,\u001b[32m3\u001b[39m]\n\u001b[32m----> \u001b[39m\u001b[32m2\u001b[39m \u001b[43ml\u001b[49m\u001b[43m[\u001b[49m\u001b[32;43m3\u001b[39;49m\u001b[43m]\u001b[49m\n",
      "\u001b[31mIndexError\u001b[39m: list index out of range"
     ]
    }
   ],
   "source": [
    "l = [1,2,3]\n",
    "l[3]"
   ]
  },
  {
   "cell_type": "code",
   "execution_count": 9,
   "id": "8fcb0fa1",
   "metadata": {},
   "outputs": [
    {
     "ename": "ValueError",
     "evalue": "invalid literal for int() with base 10: 'a'",
     "output_type": "error",
     "traceback": [
      "\u001b[31m---------------------------------------------------------------------------\u001b[39m",
      "\u001b[31mValueError\u001b[39m                                Traceback (most recent call last)",
      "\u001b[36mCell\u001b[39m\u001b[36m \u001b[39m\u001b[32mIn[9]\u001b[39m\u001b[32m, line 1\u001b[39m\n\u001b[32m----> \u001b[39m\u001b[32m1\u001b[39m \u001b[38;5;28;43mint\u001b[39;49m\u001b[43m(\u001b[49m\u001b[33;43m'\u001b[39;49m\u001b[33;43ma\u001b[39;49m\u001b[33;43m'\u001b[39;49m\u001b[43m)\u001b[49m\n",
      "\u001b[31mValueError\u001b[39m: invalid literal for int() with base 10: 'a'"
     ]
    }
   ],
   "source": [
    "int('a')"
   ]
  },
  {
   "cell_type": "code",
   "execution_count": 10,
   "id": "3b1c8198",
   "metadata": {},
   "outputs": [
    {
     "ename": "KeyError",
     "evalue": "10",
     "output_type": "error",
     "traceback": [
      "\u001b[31m---------------------------------------------------------------------------\u001b[39m",
      "\u001b[31mKeyError\u001b[39m                                  Traceback (most recent call last)",
      "\u001b[36mCell\u001b[39m\u001b[36m \u001b[39m\u001b[32mIn[10]\u001b[39m\u001b[32m, line 2\u001b[39m\n\u001b[32m      1\u001b[39m d = {}\n\u001b[32m----> \u001b[39m\u001b[32m2\u001b[39m \u001b[38;5;28mprint\u001b[39m(\u001b[43md\u001b[49m\u001b[43m[\u001b[49m\u001b[32;43m10\u001b[39;49m\u001b[43m]\u001b[49m)\n",
      "\u001b[31mKeyError\u001b[39m: 10"
     ]
    }
   ],
   "source": [
    "d = {}\n",
    "print(d[10])"
   ]
  },
  {
   "cell_type": "code",
   "execution_count": 12,
   "id": "b777f942",
   "metadata": {},
   "outputs": [
    {
     "name": "stdout",
     "output_type": "stream",
     "text": [
      "Hi\n",
      "Error division by zero\n",
      "0.75\n",
      "2\n",
      "Error invalid literal for int() with base 10: ''\n",
      "Bye\n"
     ]
    }
   ],
   "source": [
    "i = 1\n",
    "print(\"Hi\")\n",
    "while i <= 3:\n",
    "    try:\n",
    "        a = int(input('a = '))\n",
    "        b = int(input('b = '))\n",
    "        print(a/b)\n",
    "        print(i)\n",
    "    except Exception as e:\n",
    "        print(\"Error\",e)\n",
    "\n",
    "    i += 1\n",
    "print(\"Bye\")"
   ]
  },
  {
   "cell_type": "code",
   "execution_count": 13,
   "id": "d48fe84a",
   "metadata": {},
   "outputs": [
    {
     "name": "stdout",
     "output_type": "stream",
     "text": [
      "Wrong input b\n",
      "Wrong input value\n",
      "Wrong input value\n",
      "Wrong input value\n"
     ]
    }
   ],
   "source": [
    "i = 1\n",
    "while i <= 4:\n",
    "    try:\n",
    "        a = int(input())\n",
    "        b = int(input())\n",
    "        print(a/b)\n",
    "    except ZeroDivisionError:\n",
    "        print(\"Wrong input b\")\n",
    "    except ValueError:\n",
    "        print(\"Wrong input value\")\n",
    "    except Exception:\n",
    "        print(\"Error!!!\")\n",
    "    i += 1"
   ]
  },
  {
   "cell_type": "code",
   "execution_count": 14,
   "id": "49abe94b",
   "metadata": {},
   "outputs": [],
   "source": [
    "def fn(a,b):\n",
    "    print('In fn')\n",
    "    # try:\n",
    "    if b != 0:\n",
    "        return a/b\n",
    "    else:\n",
    "        raise Exception('b should be non-zero',10,20)\n",
    "    # except:\n",
    "        # print(\"b should be non-zero\")\n",
    "\n",
    "    print('out fn')"
   ]
  },
  {
   "cell_type": "code",
   "execution_count": 15,
   "id": "118e812a",
   "metadata": {},
   "outputs": [
    {
     "name": "stdout",
     "output_type": "stream",
     "text": [
      "Hi Main\n",
      "In fn\n"
     ]
    },
    {
     "ename": "Exception",
     "evalue": "('b should be non-zero', 10, 20)",
     "output_type": "error",
     "traceback": [
      "\u001b[31m---------------------------------------------------------------------------\u001b[39m",
      "\u001b[31mException\u001b[39m                                 Traceback (most recent call last)",
      "\u001b[36mCell\u001b[39m\u001b[36m \u001b[39m\u001b[32mIn[15]\u001b[39m\u001b[32m, line 3\u001b[39m\n\u001b[32m      1\u001b[39m \u001b[38;5;28mprint\u001b[39m(\u001b[33m'\u001b[39m\u001b[33mHi Main\u001b[39m\u001b[33m'\u001b[39m)\n\u001b[32m      2\u001b[39m \u001b[38;5;66;03m# try:\u001b[39;00m\n\u001b[32m----> \u001b[39m\u001b[32m3\u001b[39m a = \u001b[43mfn\u001b[49m\u001b[43m(\u001b[49m\u001b[32;43m10\u001b[39;49m\u001b[43m,\u001b[49m\u001b[32;43m0\u001b[39;49m\u001b[43m)\u001b[49m\n\u001b[32m      4\u001b[39m \u001b[38;5;28mprint\u001b[39m(\u001b[33m'\u001b[39m\u001b[33mdiv =\u001b[39m\u001b[33m'\u001b[39m,a)\n\u001b[32m      5\u001b[39m \u001b[38;5;66;03m# except Exception as e:\u001b[39;00m\n\u001b[32m      6\u001b[39m \u001b[38;5;66;03m#     print('Error: ',e)\u001b[39;00m\n",
      "\u001b[36mCell\u001b[39m\u001b[36m \u001b[39m\u001b[32mIn[14]\u001b[39m\u001b[32m, line 7\u001b[39m, in \u001b[36mfn\u001b[39m\u001b[34m(a, b)\u001b[39m\n\u001b[32m      5\u001b[39m     \u001b[38;5;28;01mreturn\u001b[39;00m a/b\n\u001b[32m      6\u001b[39m \u001b[38;5;28;01melse\u001b[39;00m:\n\u001b[32m----> \u001b[39m\u001b[32m7\u001b[39m     \u001b[38;5;28;01mraise\u001b[39;00m \u001b[38;5;167;01mException\u001b[39;00m(\u001b[33m'\u001b[39m\u001b[33mb should be non-zero\u001b[39m\u001b[33m'\u001b[39m,\u001b[32m10\u001b[39m,\u001b[32m20\u001b[39m)\n\u001b[32m      8\u001b[39m \u001b[38;5;66;03m# except:\u001b[39;00m\n\u001b[32m      9\u001b[39m     \u001b[38;5;66;03m# print(\"b should be non-zero\")\u001b[39;00m\n\u001b[32m     11\u001b[39m \u001b[38;5;28mprint\u001b[39m(\u001b[33m'\u001b[39m\u001b[33mout fn\u001b[39m\u001b[33m'\u001b[39m)\n",
      "\u001b[31mException\u001b[39m: ('b should be non-zero', 10, 20)"
     ]
    }
   ],
   "source": [
    "print('Hi Main')\n",
    "# try:\n",
    "a = fn(10,0)\n",
    "print('div =',a)\n",
    "# except Exception as e:\n",
    "#     print('Error: ',e)\n",
    "print('Bye Main')\n"
   ]
  },
  {
   "cell_type": "code",
   "execution_count": 16,
   "id": "a7f4753a",
   "metadata": {},
   "outputs": [
    {
     "ename": "TypeError",
     "evalue": "'<' not supported between instances of 'int' and 'str'",
     "output_type": "error",
     "traceback": [
      "\u001b[31m---------------------------------------------------------------------------\u001b[39m",
      "\u001b[31mTypeError\u001b[39m                                 Traceback (most recent call last)",
      "\u001b[36mCell\u001b[39m\u001b[36m \u001b[39m\u001b[32mIn[16]\u001b[39m\u001b[32m, line 1\u001b[39m\n\u001b[32m----> \u001b[39m\u001b[32m1\u001b[39m \u001b[32;43m4\u001b[39;49m\u001b[43m<\u001b[49m\u001b[33;43m'\u001b[39;49m\u001b[33;43mH\u001b[39;49m\u001b[33;43m'\u001b[39;49m\n",
      "\u001b[31mTypeError\u001b[39m: '<' not supported between instances of 'int' and 'str'"
     ]
    }
   ],
   "source": [
    "\n",
    "4<'H'\n"
   ]
  },
  {
   "cell_type": "code",
   "execution_count": 17,
   "id": "7f781c3c",
   "metadata": {},
   "outputs": [
    {
     "name": "stdout",
     "output_type": "stream",
     "text": [
      "Hi\n",
      "In fn\n",
      "b should be non-zero\n",
      "Traceback (most recent call last):\n",
      "  File \"C:\\Users\\asus\\AppData\\Local\\Temp\\ipykernel_9476\\132026757.py\", line 4, in <module>\n",
      "    fn(-10,0)\n",
      "    ~~^^^^^^^\n",
      "  File \"C:\\Users\\asus\\AppData\\Local\\Temp\\ipykernel_9476\\3853302704.py\", line 7, in fn\n",
      "    raise Exception('b should be non-zero',10,20)\n",
      "Exception: ('b should be non-zero', 10, 20)\n",
      "\n"
     ]
    }
   ],
   "source": [
    "import traceback\n",
    "try:\n",
    "    print(\"Hi\")\n",
    "    fn(-10,0)\n",
    "    print(\"Bye\")\n",
    "except Exception as e:\n",
    "    print(e.args[0])\n",
    "    print(traceback.format_exc())"
   ]
  },
  {
   "cell_type": "code",
   "execution_count": null,
   "id": "272e8e35",
   "metadata": {},
   "outputs": [],
   "source": []
  },
  {
   "cell_type": "code",
   "execution_count": null,
   "id": "b1839137",
   "metadata": {},
   "outputs": [],
   "source": []
  },
  {
   "cell_type": "code",
   "execution_count": null,
   "id": "cfc6e2d2",
   "metadata": {},
   "outputs": [],
   "source": []
  }
 ],
 "metadata": {
  "kernelspec": {
   "display_name": ".venv",
   "language": "python",
   "name": "python3"
  },
  "language_info": {
   "codemirror_mode": {
    "name": "ipython",
    "version": 3
   },
   "file_extension": ".py",
   "mimetype": "text/x-python",
   "name": "python",
   "nbconvert_exporter": "python",
   "pygments_lexer": "ipython3",
   "version": "3.13.1"
  }
 },
 "nbformat": 4,
 "nbformat_minor": 5
}
