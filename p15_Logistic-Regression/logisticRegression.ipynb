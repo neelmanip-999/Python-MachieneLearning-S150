{
 "cells": [
  {
   "cell_type": "code",
   "execution_count": 1,
   "id": "b2f6f121",
   "metadata": {},
   "outputs": [],
   "source": [
    "import pandas as pd\n",
    "import numpy as np\n",
    "from sklearn.model_selection import train_test_split\n",
    "from sklearn.linear_model import LogisticRegression\n",
    "from sklearn.metrics import accuracy_score\n",
    "from sklearn.preprocessing import StandardScaler\n",
    "from sklearn.preprocessing import LabelEncoder"
   ]
  },
  {
   "cell_type": "code",
   "execution_count": 2,
   "id": "9c02d862",
   "metadata": {},
   "outputs": [],
   "source": [
    "data = pd.read_csv('./Titanic.csv')"
   ]
  },
  {
   "cell_type": "code",
   "execution_count": 3,
   "id": "3b5d17ba",
   "metadata": {},
   "outputs": [
    {
     "data": {
      "application/vnd.microsoft.datawrangler.viewer.v0+json": {
       "columns": [
        {
         "name": "index",
         "rawType": "int64",
         "type": "integer"
        },
        {
         "name": "PassengerId",
         "rawType": "int64",
         "type": "integer"
        },
        {
         "name": "Survived",
         "rawType": "int64",
         "type": "integer"
        },
        {
         "name": "Pclass",
         "rawType": "int64",
         "type": "integer"
        },
        {
         "name": "Name",
         "rawType": "object",
         "type": "string"
        },
        {
         "name": "Sex",
         "rawType": "object",
         "type": "string"
        },
        {
         "name": "Age",
         "rawType": "float64",
         "type": "float"
        },
        {
         "name": "SibSp",
         "rawType": "int64",
         "type": "integer"
        },
        {
         "name": "Parch",
         "rawType": "int64",
         "type": "integer"
        },
        {
         "name": "Ticket",
         "rawType": "object",
         "type": "string"
        },
        {
         "name": "Fare",
         "rawType": "float64",
         "type": "float"
        },
        {
         "name": "Cabin",
         "rawType": "object",
         "type": "unknown"
        },
        {
         "name": "Embarked",
         "rawType": "object",
         "type": "string"
        }
       ],
       "ref": "50da17ed-b147-47a2-a371-0f2753026049",
       "rows": [
        [
         "0",
         "1",
         "0",
         "3",
         "Braund, Mr. Owen Harris",
         "male",
         "22.0",
         "1",
         "0",
         "A/5 21171",
         "7.25",
         null,
         "S"
        ],
        [
         "1",
         "2",
         "1",
         "1",
         "Cumings, Mrs. John Bradley (Florence Briggs Thayer)",
         "female",
         "38.0",
         "1",
         "0",
         "PC 17599",
         "71.2833",
         "C85",
         "C"
        ],
        [
         "2",
         "3",
         "1",
         "3",
         "Heikkinen, Miss. Laina",
         "female",
         "26.0",
         "0",
         "0",
         "STON/O2. 3101282",
         "7.925",
         null,
         "S"
        ],
        [
         "3",
         "4",
         "1",
         "1",
         "Futrelle, Mrs. Jacques Heath (Lily May Peel)",
         "female",
         "35.0",
         "1",
         "0",
         "113803",
         "53.1",
         "C123",
         "S"
        ],
        [
         "4",
         "5",
         "0",
         "3",
         "Allen, Mr. William Henry",
         "male",
         "35.0",
         "0",
         "0",
         "373450",
         "8.05",
         null,
         "S"
        ]
       ],
       "shape": {
        "columns": 12,
        "rows": 5
       }
      },
      "text/html": [
       "<div>\n",
       "<style scoped>\n",
       "    .dataframe tbody tr th:only-of-type {\n",
       "        vertical-align: middle;\n",
       "    }\n",
       "\n",
       "    .dataframe tbody tr th {\n",
       "        vertical-align: top;\n",
       "    }\n",
       "\n",
       "    .dataframe thead th {\n",
       "        text-align: right;\n",
       "    }\n",
       "</style>\n",
       "<table border=\"1\" class=\"dataframe\">\n",
       "  <thead>\n",
       "    <tr style=\"text-align: right;\">\n",
       "      <th></th>\n",
       "      <th>PassengerId</th>\n",
       "      <th>Survived</th>\n",
       "      <th>Pclass</th>\n",
       "      <th>Name</th>\n",
       "      <th>Sex</th>\n",
       "      <th>Age</th>\n",
       "      <th>SibSp</th>\n",
       "      <th>Parch</th>\n",
       "      <th>Ticket</th>\n",
       "      <th>Fare</th>\n",
       "      <th>Cabin</th>\n",
       "      <th>Embarked</th>\n",
       "    </tr>\n",
       "  </thead>\n",
       "  <tbody>\n",
       "    <tr>\n",
       "      <th>0</th>\n",
       "      <td>1</td>\n",
       "      <td>0</td>\n",
       "      <td>3</td>\n",
       "      <td>Braund, Mr. Owen Harris</td>\n",
       "      <td>male</td>\n",
       "      <td>22.0</td>\n",
       "      <td>1</td>\n",
       "      <td>0</td>\n",
       "      <td>A/5 21171</td>\n",
       "      <td>7.2500</td>\n",
       "      <td>NaN</td>\n",
       "      <td>S</td>\n",
       "    </tr>\n",
       "    <tr>\n",
       "      <th>1</th>\n",
       "      <td>2</td>\n",
       "      <td>1</td>\n",
       "      <td>1</td>\n",
       "      <td>Cumings, Mrs. John Bradley (Florence Briggs Th...</td>\n",
       "      <td>female</td>\n",
       "      <td>38.0</td>\n",
       "      <td>1</td>\n",
       "      <td>0</td>\n",
       "      <td>PC 17599</td>\n",
       "      <td>71.2833</td>\n",
       "      <td>C85</td>\n",
       "      <td>C</td>\n",
       "    </tr>\n",
       "    <tr>\n",
       "      <th>2</th>\n",
       "      <td>3</td>\n",
       "      <td>1</td>\n",
       "      <td>3</td>\n",
       "      <td>Heikkinen, Miss. Laina</td>\n",
       "      <td>female</td>\n",
       "      <td>26.0</td>\n",
       "      <td>0</td>\n",
       "      <td>0</td>\n",
       "      <td>STON/O2. 3101282</td>\n",
       "      <td>7.9250</td>\n",
       "      <td>NaN</td>\n",
       "      <td>S</td>\n",
       "    </tr>\n",
       "    <tr>\n",
       "      <th>3</th>\n",
       "      <td>4</td>\n",
       "      <td>1</td>\n",
       "      <td>1</td>\n",
       "      <td>Futrelle, Mrs. Jacques Heath (Lily May Peel)</td>\n",
       "      <td>female</td>\n",
       "      <td>35.0</td>\n",
       "      <td>1</td>\n",
       "      <td>0</td>\n",
       "      <td>113803</td>\n",
       "      <td>53.1000</td>\n",
       "      <td>C123</td>\n",
       "      <td>S</td>\n",
       "    </tr>\n",
       "    <tr>\n",
       "      <th>4</th>\n",
       "      <td>5</td>\n",
       "      <td>0</td>\n",
       "      <td>3</td>\n",
       "      <td>Allen, Mr. William Henry</td>\n",
       "      <td>male</td>\n",
       "      <td>35.0</td>\n",
       "      <td>0</td>\n",
       "      <td>0</td>\n",
       "      <td>373450</td>\n",
       "      <td>8.0500</td>\n",
       "      <td>NaN</td>\n",
       "      <td>S</td>\n",
       "    </tr>\n",
       "  </tbody>\n",
       "</table>\n",
       "</div>"
      ],
      "text/plain": [
       "   PassengerId  Survived  Pclass  \\\n",
       "0            1         0       3   \n",
       "1            2         1       1   \n",
       "2            3         1       3   \n",
       "3            4         1       1   \n",
       "4            5         0       3   \n",
       "\n",
       "                                                Name     Sex   Age  SibSp  \\\n",
       "0                            Braund, Mr. Owen Harris    male  22.0      1   \n",
       "1  Cumings, Mrs. John Bradley (Florence Briggs Th...  female  38.0      1   \n",
       "2                             Heikkinen, Miss. Laina  female  26.0      0   \n",
       "3       Futrelle, Mrs. Jacques Heath (Lily May Peel)  female  35.0      1   \n",
       "4                           Allen, Mr. William Henry    male  35.0      0   \n",
       "\n",
       "   Parch            Ticket     Fare Cabin Embarked  \n",
       "0      0         A/5 21171   7.2500   NaN        S  \n",
       "1      0          PC 17599  71.2833   C85        C  \n",
       "2      0  STON/O2. 3101282   7.9250   NaN        S  \n",
       "3      0            113803  53.1000  C123        S  \n",
       "4      0            373450   8.0500   NaN        S  "
      ]
     },
     "execution_count": 3,
     "metadata": {},
     "output_type": "execute_result"
    }
   ],
   "source": [
    "data.head()"
   ]
  },
  {
   "cell_type": "code",
   "execution_count": 4,
   "id": "71700fb2",
   "metadata": {},
   "outputs": [],
   "source": [
    "cols_drop = ['PassengerId', 'Name', 'Ticket', 'Cabin']"
   ]
  },
  {
   "cell_type": "code",
   "execution_count": 5,
   "id": "d8a6c02d",
   "metadata": {},
   "outputs": [],
   "source": [
    "data = data.drop(columns = cols_drop)"
   ]
  },
  {
   "cell_type": "code",
   "execution_count": 6,
   "id": "58d31e33",
   "metadata": {},
   "outputs": [
    {
     "data": {
      "text/plain": [
       "array(['S', 'C', 'Q', nan], dtype=object)"
      ]
     },
     "execution_count": 6,
     "metadata": {},
     "output_type": "execute_result"
    }
   ],
   "source": [
    "data.head()\n",
    "pd.unique(data['Embarked'])\n"
   ]
  },
  {
   "cell_type": "code",
   "execution_count": 7,
   "id": "2eccb935",
   "metadata": {},
   "outputs": [
    {
     "data": {
      "application/vnd.microsoft.datawrangler.viewer.v0+json": {
       "columns": [
        {
         "name": "index",
         "rawType": "int64",
         "type": "integer"
        },
        {
         "name": "Survived",
         "rawType": "int64",
         "type": "integer"
        },
        {
         "name": "Pclass",
         "rawType": "int64",
         "type": "integer"
        },
        {
         "name": "Sex",
         "rawType": "int64",
         "type": "integer"
        },
        {
         "name": "Age",
         "rawType": "float64",
         "type": "float"
        },
        {
         "name": "SibSp",
         "rawType": "int64",
         "type": "integer"
        },
        {
         "name": "Parch",
         "rawType": "int64",
         "type": "integer"
        },
        {
         "name": "Fare",
         "rawType": "float64",
         "type": "float"
        },
        {
         "name": "Embarked",
         "rawType": "int64",
         "type": "integer"
        }
       ],
       "ref": "fd913858-df60-4cb4-bd47-c044f2e037a8",
       "rows": [
        [
         "0",
         "0",
         "3",
         "1",
         "22.0",
         "1",
         "0",
         "7.25",
         "2"
        ],
        [
         "1",
         "1",
         "1",
         "0",
         "38.0",
         "1",
         "0",
         "71.2833",
         "0"
        ],
        [
         "2",
         "1",
         "3",
         "0",
         "26.0",
         "0",
         "0",
         "7.925",
         "2"
        ],
        [
         "3",
         "1",
         "1",
         "0",
         "35.0",
         "1",
         "0",
         "53.1",
         "2"
        ],
        [
         "4",
         "0",
         "3",
         "1",
         "35.0",
         "0",
         "0",
         "8.05",
         "2"
        ]
       ],
       "shape": {
        "columns": 8,
        "rows": 5
       }
      },
      "text/html": [
       "<div>\n",
       "<style scoped>\n",
       "    .dataframe tbody tr th:only-of-type {\n",
       "        vertical-align: middle;\n",
       "    }\n",
       "\n",
       "    .dataframe tbody tr th {\n",
       "        vertical-align: top;\n",
       "    }\n",
       "\n",
       "    .dataframe thead th {\n",
       "        text-align: right;\n",
       "    }\n",
       "</style>\n",
       "<table border=\"1\" class=\"dataframe\">\n",
       "  <thead>\n",
       "    <tr style=\"text-align: right;\">\n",
       "      <th></th>\n",
       "      <th>Survived</th>\n",
       "      <th>Pclass</th>\n",
       "      <th>Sex</th>\n",
       "      <th>Age</th>\n",
       "      <th>SibSp</th>\n",
       "      <th>Parch</th>\n",
       "      <th>Fare</th>\n",
       "      <th>Embarked</th>\n",
       "    </tr>\n",
       "  </thead>\n",
       "  <tbody>\n",
       "    <tr>\n",
       "      <th>0</th>\n",
       "      <td>0</td>\n",
       "      <td>3</td>\n",
       "      <td>1</td>\n",
       "      <td>22.0</td>\n",
       "      <td>1</td>\n",
       "      <td>0</td>\n",
       "      <td>7.2500</td>\n",
       "      <td>2</td>\n",
       "    </tr>\n",
       "    <tr>\n",
       "      <th>1</th>\n",
       "      <td>1</td>\n",
       "      <td>1</td>\n",
       "      <td>0</td>\n",
       "      <td>38.0</td>\n",
       "      <td>1</td>\n",
       "      <td>0</td>\n",
       "      <td>71.2833</td>\n",
       "      <td>0</td>\n",
       "    </tr>\n",
       "    <tr>\n",
       "      <th>2</th>\n",
       "      <td>1</td>\n",
       "      <td>3</td>\n",
       "      <td>0</td>\n",
       "      <td>26.0</td>\n",
       "      <td>0</td>\n",
       "      <td>0</td>\n",
       "      <td>7.9250</td>\n",
       "      <td>2</td>\n",
       "    </tr>\n",
       "    <tr>\n",
       "      <th>3</th>\n",
       "      <td>1</td>\n",
       "      <td>1</td>\n",
       "      <td>0</td>\n",
       "      <td>35.0</td>\n",
       "      <td>1</td>\n",
       "      <td>0</td>\n",
       "      <td>53.1000</td>\n",
       "      <td>2</td>\n",
       "    </tr>\n",
       "    <tr>\n",
       "      <th>4</th>\n",
       "      <td>0</td>\n",
       "      <td>3</td>\n",
       "      <td>1</td>\n",
       "      <td>35.0</td>\n",
       "      <td>0</td>\n",
       "      <td>0</td>\n",
       "      <td>8.0500</td>\n",
       "      <td>2</td>\n",
       "    </tr>\n",
       "  </tbody>\n",
       "</table>\n",
       "</div>"
      ],
      "text/plain": [
       "   Survived  Pclass  Sex   Age  SibSp  Parch     Fare  Embarked\n",
       "0         0       3    1  22.0      1      0   7.2500         2\n",
       "1         1       1    0  38.0      1      0  71.2833         0\n",
       "2         1       3    0  26.0      0      0   7.9250         2\n",
       "3         1       1    0  35.0      1      0  53.1000         2\n",
       "4         0       3    1  35.0      0      0   8.0500         2"
      ]
     },
     "execution_count": 7,
     "metadata": {},
     "output_type": "execute_result"
    }
   ],
   "source": [
    "lab_enc = LabelEncoder()\n",
    "data['Sex'] = lab_enc.fit_transform(data['Sex'])\n",
    "data['Embarked'] = lab_enc.fit_transform(data['Embarked'])\n",
    "data.head()"
   ]
  },
  {
   "cell_type": "code",
   "execution_count": 8,
   "id": "3cf1c52a",
   "metadata": {},
   "outputs": [
    {
     "data": {
      "application/vnd.microsoft.datawrangler.viewer.v0+json": {
       "columns": [
        {
         "name": "index",
         "rawType": "object",
         "type": "string"
        },
        {
         "name": "0",
         "rawType": "int64",
         "type": "integer"
        }
       ],
       "ref": "9d692bc0-511a-4e85-a3bc-f2f761fd3a77",
       "rows": [
        [
         "Survived",
         "0"
        ],
        [
         "Pclass",
         "0"
        ],
        [
         "Sex",
         "0"
        ],
        [
         "Age",
         "177"
        ],
        [
         "SibSp",
         "0"
        ],
        [
         "Parch",
         "0"
        ],
        [
         "Fare",
         "0"
        ],
        [
         "Embarked",
         "0"
        ]
       ],
       "shape": {
        "columns": 1,
        "rows": 8
       }
      },
      "text/plain": [
       "Survived      0\n",
       "Pclass        0\n",
       "Sex           0\n",
       "Age         177\n",
       "SibSp         0\n",
       "Parch         0\n",
       "Fare          0\n",
       "Embarked      0\n",
       "dtype: int64"
      ]
     },
     "execution_count": 8,
     "metadata": {},
     "output_type": "execute_result"
    }
   ],
   "source": [
    "data.isnull().sum()"
   ]
  },
  {
   "cell_type": "code",
   "execution_count": 9,
   "id": "e45693a8",
   "metadata": {},
   "outputs": [],
   "source": [
    "data = data.fillna(data['Age'].mean())"
   ]
  },
  {
   "cell_type": "code",
   "execution_count": 10,
   "id": "a5adf33e",
   "metadata": {},
   "outputs": [
    {
     "name": "stdout",
     "output_type": "stream",
     "text": [
      "<class 'pandas.core.frame.DataFrame'>\n",
      "RangeIndex: 891 entries, 0 to 890\n",
      "Data columns (total 8 columns):\n",
      " #   Column    Non-Null Count  Dtype  \n",
      "---  ------    --------------  -----  \n",
      " 0   Survived  891 non-null    int64  \n",
      " 1   Pclass    891 non-null    int64  \n",
      " 2   Sex       891 non-null    int64  \n",
      " 3   Age       891 non-null    float64\n",
      " 4   SibSp     891 non-null    int64  \n",
      " 5   Parch     891 non-null    int64  \n",
      " 6   Fare      891 non-null    float64\n",
      " 7   Embarked  891 non-null    int64  \n",
      "dtypes: float64(2), int64(6)\n",
      "memory usage: 55.8 KB\n"
     ]
    }
   ],
   "source": [
    "data.info()"
   ]
  },
  {
   "cell_type": "code",
   "execution_count": 11,
   "id": "2e455c12",
   "metadata": {},
   "outputs": [
    {
     "data": {
      "text/plain": [
       "['Pclass', 'Sex', 'Age', 'SibSp', 'Parch', 'Fare', 'Embarked']"
      ]
     },
     "execution_count": 11,
     "metadata": {},
     "output_type": "execute_result"
    }
   ],
   "source": [
    "input_cols = ['Pclass', 'Sex', 'Age', 'SibSp', 'Parch', 'Fare', 'Embarked']\n",
    "output_col = ['Survived']\n",
    "input_cols\n",
    "\n"
   ]
  },
  {
   "cell_type": "code",
   "execution_count": 12,
   "id": "fa67624e",
   "metadata": {},
   "outputs": [
    {
     "data": {
      "application/vnd.microsoft.datawrangler.viewer.v0+json": {
       "columns": [
        {
         "name": "index",
         "rawType": "int64",
         "type": "integer"
        },
        {
         "name": "Pclass",
         "rawType": "int64",
         "type": "integer"
        },
        {
         "name": "Sex",
         "rawType": "int64",
         "type": "integer"
        },
        {
         "name": "Age",
         "rawType": "float64",
         "type": "float"
        },
        {
         "name": "SibSp",
         "rawType": "int64",
         "type": "integer"
        },
        {
         "name": "Parch",
         "rawType": "int64",
         "type": "integer"
        },
        {
         "name": "Fare",
         "rawType": "float64",
         "type": "float"
        },
        {
         "name": "Embarked",
         "rawType": "int64",
         "type": "integer"
        }
       ],
       "ref": "6856bb0f-e91c-458c-83bc-e16f1eacad3e",
       "rows": [
        [
         "0",
         "3",
         "1",
         "22.0",
         "1",
         "0",
         "7.25",
         "2"
        ],
        [
         "1",
         "1",
         "0",
         "38.0",
         "1",
         "0",
         "71.2833",
         "0"
        ],
        [
         "2",
         "3",
         "0",
         "26.0",
         "0",
         "0",
         "7.925",
         "2"
        ],
        [
         "3",
         "1",
         "0",
         "35.0",
         "1",
         "0",
         "53.1",
         "2"
        ],
        [
         "4",
         "3",
         "1",
         "35.0",
         "0",
         "0",
         "8.05",
         "2"
        ]
       ],
       "shape": {
        "columns": 7,
        "rows": 5
       }
      },
      "text/html": [
       "<div>\n",
       "<style scoped>\n",
       "    .dataframe tbody tr th:only-of-type {\n",
       "        vertical-align: middle;\n",
       "    }\n",
       "\n",
       "    .dataframe tbody tr th {\n",
       "        vertical-align: top;\n",
       "    }\n",
       "\n",
       "    .dataframe thead th {\n",
       "        text-align: right;\n",
       "    }\n",
       "</style>\n",
       "<table border=\"1\" class=\"dataframe\">\n",
       "  <thead>\n",
       "    <tr style=\"text-align: right;\">\n",
       "      <th></th>\n",
       "      <th>Pclass</th>\n",
       "      <th>Sex</th>\n",
       "      <th>Age</th>\n",
       "      <th>SibSp</th>\n",
       "      <th>Parch</th>\n",
       "      <th>Fare</th>\n",
       "      <th>Embarked</th>\n",
       "    </tr>\n",
       "  </thead>\n",
       "  <tbody>\n",
       "    <tr>\n",
       "      <th>0</th>\n",
       "      <td>3</td>\n",
       "      <td>1</td>\n",
       "      <td>22.0</td>\n",
       "      <td>1</td>\n",
       "      <td>0</td>\n",
       "      <td>7.2500</td>\n",
       "      <td>2</td>\n",
       "    </tr>\n",
       "    <tr>\n",
       "      <th>1</th>\n",
       "      <td>1</td>\n",
       "      <td>0</td>\n",
       "      <td>38.0</td>\n",
       "      <td>1</td>\n",
       "      <td>0</td>\n",
       "      <td>71.2833</td>\n",
       "      <td>0</td>\n",
       "    </tr>\n",
       "    <tr>\n",
       "      <th>2</th>\n",
       "      <td>3</td>\n",
       "      <td>0</td>\n",
       "      <td>26.0</td>\n",
       "      <td>0</td>\n",
       "      <td>0</td>\n",
       "      <td>7.9250</td>\n",
       "      <td>2</td>\n",
       "    </tr>\n",
       "    <tr>\n",
       "      <th>3</th>\n",
       "      <td>1</td>\n",
       "      <td>0</td>\n",
       "      <td>35.0</td>\n",
       "      <td>1</td>\n",
       "      <td>0</td>\n",
       "      <td>53.1000</td>\n",
       "      <td>2</td>\n",
       "    </tr>\n",
       "    <tr>\n",
       "      <th>4</th>\n",
       "      <td>3</td>\n",
       "      <td>1</td>\n",
       "      <td>35.0</td>\n",
       "      <td>0</td>\n",
       "      <td>0</td>\n",
       "      <td>8.0500</td>\n",
       "      <td>2</td>\n",
       "    </tr>\n",
       "  </tbody>\n",
       "</table>\n",
       "</div>"
      ],
      "text/plain": [
       "   Pclass  Sex   Age  SibSp  Parch     Fare  Embarked\n",
       "0       3    1  22.0      1      0   7.2500         2\n",
       "1       1    0  38.0      1      0  71.2833         0\n",
       "2       3    0  26.0      0      0   7.9250         2\n",
       "3       1    0  35.0      1      0  53.1000         2\n",
       "4       3    1  35.0      0      0   8.0500         2"
      ]
     },
     "execution_count": 12,
     "metadata": {},
     "output_type": "execute_result"
    }
   ],
   "source": [
    "X_data = data[input_cols]\n",
    "Y_data = data['Survived']\n",
    "X_data.head()"
   ]
  },
  {
   "cell_type": "code",
   "execution_count": 13,
   "id": "62f3ce7c",
   "metadata": {},
   "outputs": [
    {
     "data": {
      "application/vnd.microsoft.datawrangler.viewer.v0+json": {
       "columns": [
        {
         "name": "index",
         "rawType": "int64",
         "type": "integer"
        },
        {
         "name": "Survived",
         "rawType": "int64",
         "type": "integer"
        }
       ],
       "ref": "7fa2c608-78e4-4f7e-8d6a-47b91020d161",
       "rows": [
        [
         "0",
         "0"
        ],
        [
         "1",
         "1"
        ],
        [
         "2",
         "1"
        ],
        [
         "3",
         "1"
        ],
        [
         "4",
         "0"
        ]
       ],
       "shape": {
        "columns": 1,
        "rows": 5
       }
      },
      "text/plain": [
       "0    0\n",
       "1    1\n",
       "2    1\n",
       "3    1\n",
       "4    0\n",
       "Name: Survived, dtype: int64"
      ]
     },
     "execution_count": 13,
     "metadata": {},
     "output_type": "execute_result"
    }
   ],
   "source": [
    "Y_data.head()"
   ]
  },
  {
   "cell_type": "code",
   "execution_count": 14,
   "id": "78baa412",
   "metadata": {},
   "outputs": [
    {
     "name": "stdout",
     "output_type": "stream",
     "text": [
      "(891, 7) (891,)\n"
     ]
    }
   ],
   "source": [
    "print(X_data.shape, Y_data.shape)"
   ]
  },
  {
   "cell_type": "code",
   "execution_count": 15,
   "id": "82636f24",
   "metadata": {},
   "outputs": [],
   "source": [
    "X_data = X_data.values\n",
    "Y_data = Y_data.values"
   ]
  },
  {
   "cell_type": "code",
   "execution_count": 16,
   "id": "0dbb7236",
   "metadata": {},
   "outputs": [],
   "source": [
    "x_train,x_test,y_train,y_test = train_test_split(X_data,Y_data,train_size = 0.8)"
   ]
  },
  {
   "cell_type": "code",
   "execution_count": 17,
   "id": "a331800f",
   "metadata": {},
   "outputs": [],
   "source": [
    "scale = StandardScaler()\n",
    "x_train = scale.fit_transform(x_train)\n",
    "x_test = scale.transform(x_test)"
   ]
  },
  {
   "cell_type": "code",
   "execution_count": 18,
   "id": "7d28fad0",
   "metadata": {},
   "outputs": [
    {
     "data": {
      "text/plain": [
       "array([[-0.88093048, -1.28727806, -0.46642803, -0.34220485, -0.14457067,\n",
       "         0.07353713, -0.19368482]])"
      ]
     },
     "execution_count": 18,
     "metadata": {},
     "output_type": "execute_result"
    }
   ],
   "source": [
    "clf = LogisticRegression()\n",
    "clf.fit(x_train,y_train)\n",
    "clf.coef_"
   ]
  },
  {
   "cell_type": "code",
   "execution_count": 19,
   "id": "b5c102c9",
   "metadata": {},
   "outputs": [
    {
     "data": {
      "text/plain": [
       "array([-0.63117771])"
      ]
     },
     "execution_count": 19,
     "metadata": {},
     "output_type": "execute_result"
    }
   ],
   "source": [
    "clf.intercept_"
   ]
  },
  {
   "cell_type": "code",
   "execution_count": 20,
   "id": "ee34ebb7",
   "metadata": {},
   "outputs": [
    {
     "data": {
      "text/plain": [
       "0.800561797752809"
      ]
     },
     "execution_count": 20,
     "metadata": {},
     "output_type": "execute_result"
    }
   ],
   "source": [
    "accuracy_score(y_train,clf.predict(x_train))"
   ]
  },
  {
   "cell_type": "code",
   "execution_count": 21,
   "id": "76be1912",
   "metadata": {},
   "outputs": [
    {
     "data": {
      "text/plain": [
       "0.8268156424581006"
      ]
     },
     "execution_count": 21,
     "metadata": {},
     "output_type": "execute_result"
    }
   ],
   "source": [
    "accuracy_score(y_test,clf.predict(x_test))"
   ]
  },
  {
   "cell_type": "code",
   "execution_count": 22,
   "id": "3c7bdd35",
   "metadata": {},
   "outputs": [
    {
     "data": {
      "text/plain": [
       "array([[-1.56720904, -1.33057432, -0.84438953,  4.72972324, -0.49049347,\n",
       "         1.3666984 , -1.93909463]])"
      ]
     },
     "execution_count": 22,
     "metadata": {},
     "output_type": "execute_result"
    }
   ],
   "source": [
    "xt = np.array([[1,0,18,6,0,100,0]])\n",
    "xt = scale.transform(xt)\n",
    "xt"
   ]
  },
  {
   "cell_type": "code",
   "execution_count": 23,
   "id": "0c965a46",
   "metadata": {},
   "outputs": [
    {
     "data": {
      "text/plain": [
       "array([1])"
      ]
     },
     "execution_count": 23,
     "metadata": {},
     "output_type": "execute_result"
    }
   ],
   "source": [
    "clf.predict(xt)"
   ]
  },
  {
   "cell_type": "code",
   "execution_count": 24,
   "id": "ebbdfbbb",
   "metadata": {},
   "outputs": [],
   "source": [
    "from sklearn.metrics import confusion_matrix, classification_report,roc_curve\n",
    "import seaborn as sns\n",
    "import matplotlib.pyplot as plt"
   ]
  },
  {
   "cell_type": "code",
   "execution_count": 25,
   "id": "c39e56c7",
   "metadata": {},
   "outputs": [],
   "source": [
    "ypred = [1,1,0,0,0,1,0,1,1,1]\n",
    "yac = [1,0,0,0,1,1,0,1,0,1]"
   ]
  },
  {
   "cell_type": "code",
   "execution_count": 26,
   "id": "d98ea46f",
   "metadata": {},
   "outputs": [],
   "source": [
    "cm = confusion_matrix(yac,ypred)"
   ]
  },
  {
   "cell_type": "code",
   "execution_count": 27,
   "id": "e65d571c",
   "metadata": {},
   "outputs": [
    {
     "data": {
      "text/plain": [
       "<Axes: >"
      ]
     },
     "execution_count": 27,
     "metadata": {},
     "output_type": "execute_result"
    },
    {
     "data": {
      "image/png": "[encoded data removed]",
      "text/plain": [
       "<Figure size 640x480 with 2 Axes>"
      ]
     },
     "metadata": {},
     "output_type": "display_data"
    }
   ],
   "source": [
    "sns.heatmap(cm,annot=True)"
   ]
  },
  {
   "cell_type": "code",
   "execution_count": 28,
   "id": "7e3cd517",
   "metadata": {},
   "outputs": [
    {
     "data": {
      "text/plain": [
       "<Axes: >"
      ]
     },
     "execution_count": 28,
     "metadata": {},
     "output_type": "execute_result"
    },
    {
     "data": {
      "image/png": "[encoded data removed]",
      "text/plain": [
       "<Figure size 640x480 with 2 Axes>"
      ]
     },
     "metadata": {},
     "output_type": "display_data"
    }
   ],
   "source": [
    "sns.heatmap(confusion_matrix(y_train,clf.predict(x_train)),annot = True,fmt='g')"
   ]
  },
  {
   "cell_type": "code",
   "execution_count": 29,
   "id": "38c31ea3",
   "metadata": {},
   "outputs": [
    {
     "name": "stdout",
     "output_type": "stream",
     "text": [
      "              precision    recall  f1-score   support\n",
      "\n",
      "           0       0.75      0.60      0.67         5\n",
      "           1       0.67      0.80      0.73         5\n",
      "\n",
      "    accuracy                           0.70        10\n",
      "   macro avg       0.71      0.70      0.70        10\n",
      "weighted avg       0.71      0.70      0.70        10\n",
      "\n"
     ]
    }
   ],
   "source": [
    "print(classification_report(yac,ypred))"
   ]
  },
  {
   "cell_type": "code",
   "execution_count": 30,
   "id": "091a0f37",
   "metadata": {},
   "outputs": [
    {
     "name": "stdout",
     "output_type": "stream",
     "text": [
      "              precision    recall  f1-score   support\n",
      "\n",
      "           0       0.82      0.87      0.84       438\n",
      "           1       0.77      0.69      0.73       274\n",
      "\n",
      "    accuracy                           0.80       712\n",
      "   macro avg       0.79      0.78      0.79       712\n",
      "weighted avg       0.80      0.80      0.80       712\n",
      "\n"
     ]
    }
   ],
   "source": [
    "print(classification_report(y_train,clf.predict(x_train)))"
   ]
  },
  {
   "cell_type": "code",
   "execution_count": 31,
   "id": "b8ece331",
   "metadata": {},
   "outputs": [],
   "source": [
    "fpr,tpr,_ = roc_curve(y_train,clf.predict_proba(x_train)[:,0],pos_label=0)\n",
    "\n",
    "# fpr, tpr, _ = roc_curve(y_train, clf.predict_proba(x_train)[:,0], pos_label=0)\n",
    "# clf.predict_proba(x_train)[:, 0]:\n",
    "# This gives the predicted probability that each sample belongs to class 0.\n",
    "\n",
    "# roc_curve(y_train, ..., pos_label=0):\n",
    "\n",
    "# Calculates the FPR and TPR at various thresholds.\n",
    "\n",
    "# pos_label=0 means we are treating class 0 as the positive class (which is a bit unusual — usually 1 is the positive class).\n",
    "\n",
    "# 📌 Mathematical meaning:\n",
    "\n",
    "# For multiple thresholds (e.g. 0.1, 0.2, ..., 0.9), it calculates:\n",
    "\n",
    "# TPR (Recall) = TP / (TP + FN)\n",
    "\n",
    "# FPR = FP / (FP + TN)\n",
    "\n"
   ]
  },
  {
   "cell_type": "code",
   "execution_count": 32,
   "id": "5fc01084",
   "metadata": {},
   "outputs": [
    {
     "data": {
      "image/png": "[encoded data removed]",
      "text/plain": [
       "<Figure size 640x480 with 1 Axes>"
      ]
     },
     "metadata": {},
     "output_type": "display_data"
    }
   ],
   "source": [
    "plt.plot(fpr,tpr)\n",
    "plt.plot([0,1],[0,1],'r--')\n",
    "plt.grid()\n",
    "plt.title('ROC Curve')\n",
    "plt.show()\n",
    "\n",
    "# plt.plot([0,1],[0,1],'r--')\n",
    "# This plots a dashed red diagonal line from (0,0) to (1,1),\n",
    "#  representing a random classifier — i.e., 50/50 guessing.\n",
    "\n"
   ]
  },
  {
   "cell_type": "code",
   "execution_count": 33,
   "id": "958101ef",
   "metadata": {},
   "outputs": [
    {
     "data": {
      "text/plain": [
       "array([0.85172391, 0.1082661 , 0.66464413, 0.95906306, 0.58255769,\n",
       "       0.65031778, 0.09626343, 0.96017751, 0.27919289, 0.76552251,\n",
       "       0.87294208, 0.64970774, 0.76550746, 0.25298563, 0.1401623 ,\n",
       "       0.65946285, 0.09416969, 0.12405828, 0.72530556, 0.33179802,\n",
       "       0.75899463, 0.4994699 , 0.34500469, 0.85203474, 0.06709411,\n",
       "       0.09420477, 0.80194686, 0.95820255, 0.3399565 , 0.06302806,\n",
       "       0.26244633, 0.08195985, 0.12007536, 0.89619371, 0.57100012,\n",
       "       0.13193412, 0.87678084, 0.11718524, 0.09416969, 0.08779241,\n",
       "       0.11718137, 0.22801752, 0.96481738, 0.36330887, 0.21661352,\n",
       "       0.73865535, 0.11478338, 0.28706052, 0.62217966, 0.14466629,\n",
       "       0.11718524, 0.13199978, 0.11291853, 0.13195481, 0.54336564,\n",
       "       0.14495758, 0.87677702, 0.50434854, 0.12040246, 0.8234607 ,\n",
       "       0.33922091, 0.11718524, 0.61449822, 0.87112523, 0.5918713 ,\n",
       "       0.16370046, 0.22711184, 0.09836424, 0.23522848, 0.13389436,\n",
       "       0.78980888, 0.26863996, 0.38452743, 0.34820932, 0.57870515,\n",
       "       0.86191607, 0.71838113, 0.05891245, 0.11280561, 0.95973876,\n",
       "       0.65608874, 0.09329735, 0.5418952 , 0.68044521, 0.82810472,\n",
       "       0.06091157, 0.60275012, 0.76014198, 0.82515706, 0.02111747,\n",
       "       0.4690417 , 0.07932828, 0.04619303, 0.1280697 , 0.22269767,\n",
       "       0.6672922 , 0.49024658, 0.76161946, 0.12068912, 0.10937559,\n",
       "       0.30569806, 0.13146836, 0.77417828, 0.65947964, 0.90202818,\n",
       "       0.12405828, 0.04815547, 0.07047883, 0.12722249, 0.94433072,\n",
       "       0.07671541, 0.0941851 , 0.10600019, 0.03541242, 0.2965722 ,\n",
       "       0.12780065, 0.08744772, 0.28711193, 0.19169096, 0.39687207,\n",
       "       0.80286584, 0.06501725, 0.53545915, 0.09329735, 0.60177689,\n",
       "       0.15039362, 0.19213047, 0.10255626, 0.11249182, 0.24181183,\n",
       "       0.45916677, 0.9443129 , 0.36462367, 0.26757586, 0.06946031,\n",
       "       0.59171783, 0.64527082, 0.1550129 , 0.00742232, 0.94988229,\n",
       "       0.09420477, 0.69025317, 0.11718524, 0.73902402, 0.309849  ,\n",
       "       0.11706152, 0.59064254, 0.53279112, 0.37898637, 0.23304979,\n",
       "       0.14043964, 0.32733718, 0.65946705, 0.65305408, 0.71443512,\n",
       "       0.09030378, 0.77465507, 0.30712043, 0.12012556, 0.12793477,\n",
       "       0.6818192 , 0.31280135, 0.08749995, 0.14483407, 0.59493091,\n",
       "       0.12859593, 0.54996007, 0.09118755, 0.0941851 , 0.2677366 ,\n",
       "       0.09420477, 0.70532115, 0.21915751, 0.24893757, 0.11308764,\n",
       "       0.12015439, 0.65951044, 0.94091729, 0.44464358, 0.07639154,\n",
       "       0.93035904, 0.4400327 , 0.02701827, 0.65946705, 0.91887098,\n",
       "       0.33131019, 0.26216274, 0.07921912, 0.94916246, 0.05335004,\n",
       "       0.76593953, 0.0941851 , 0.05892696, 0.71188702, 0.91135563,\n",
       "       0.35860154, 0.13604851, 0.90096819, 0.24948893, 0.86648513,\n",
       "       0.06954597, 0.08746264, 0.04648721, 0.05697496, 0.91478438,\n",
       "       0.47778409, 0.77646787, 0.0331484 , 0.38737599, 0.33913971,\n",
       "       0.12826744, 0.22198366, 0.50146844, 0.14483329, 0.09836424,\n",
       "       0.10928821, 0.11294163, 0.0941851 , 0.34941422, 0.06954597,\n",
       "       0.19844026, 0.24236005, 0.96515792, 0.16267934, 0.94656677,\n",
       "       0.33306035, 0.65946705, 0.12374457, 0.63366047, 0.30589692,\n",
       "       0.86249759, 0.61250294, 0.1240136 , 0.21760237, 0.91464864,\n",
       "       0.07284006, 0.14514338, 0.65946705, 0.90627252, 0.8906242 ,\n",
       "       0.81717812, 0.0965306 , 0.02377549, 0.08358761, 0.47069941,\n",
       "       0.95439784, 0.13614522, 0.13060813, 0.25304136, 0.11718524,\n",
       "       0.22801752, 0.09407724, 0.05466506, 0.49998555, 0.0994582 ,\n",
       "       0.27641836, 0.25004988, 0.14687904, 0.59157175, 0.08577305,\n",
       "       0.85634237, 0.42249222, 0.1360529 , 0.16267934, 0.87289428,\n",
       "       0.14806067, 0.65946705, 0.04924219, 0.46629469, 0.26246722,\n",
       "       0.62418226, 0.22956337, 0.10599901, 0.37184056, 0.82353678,\n",
       "       0.11672815, 0.57921728, 0.07178372, 0.05150169, 0.83947716,\n",
       "       0.40117265, 0.80633104, 0.60040976, 0.53993368, 0.58604419,\n",
       "       0.08744772, 0.95331503, 0.0848389 , 0.48002638, 0.91779683,\n",
       "       0.89709801, 0.65951044, 0.93309685, 0.09420477, 0.26911991,\n",
       "       0.77326101, 0.68929351, 0.19407258, 0.4723764 , 0.81298158,\n",
       "       0.11704735, 0.09836424, 0.59064254, 0.82520354, 0.79676019,\n",
       "       0.45916677, 0.37581764, 0.77942424, 0.24167419, 0.0626106 ,\n",
       "       0.86754359, 0.73235889, 0.15144887, 0.63947858, 0.47526009,\n",
       "       0.20996949, 0.10699793, 0.41385584, 0.59575861, 0.3049051 ,\n",
       "       0.17795666, 0.16674034, 0.11718524, 0.88334256, 0.08474324,\n",
       "       0.62540673, 0.132345  , 0.83807841, 0.92295989, 0.09967329,\n",
       "       0.14483407, 0.37498418, 0.54823333, 0.78650394, 0.64731755,\n",
       "       0.11117565, 0.05983943, 0.33913971, 0.9560561 , 0.65803511,\n",
       "       0.12793477, 0.57168179, 0.07288843, 0.56263361, 0.71865325,\n",
       "       0.22680243, 0.09067735, 0.7083372 , 0.47219003, 0.08966744,\n",
       "       0.09420477, 0.09342064, 0.80145929, 0.11719749, 0.07663388,\n",
       "       0.14048836, 0.16422624, 0.26833479, 0.75759377, 0.88651621,\n",
       "       0.29325619, 0.08091719, 0.94296914, 0.84323325, 0.71160472,\n",
       "       0.0629387 , 0.54406161, 0.05740737, 0.11718524, 0.24893757,\n",
       "       0.55249173, 0.79042888, 0.04661579, 0.09410273, 0.75297255,\n",
       "       0.00742232, 0.09067735, 0.891891  , 0.0941851 , 0.78588621,\n",
       "       0.0941851 , 0.07592516, 0.08813677, 0.59263938, 0.96481738,\n",
       "       0.63368505, 0.18204357, 0.38103141, 0.89854837, 0.02989995,\n",
       "       0.1258682 , 0.44989005, 0.77326101, 0.60275012, 0.08178513,\n",
       "       0.46883686, 0.12401698, 0.20281012, 0.96962746, 0.1204579 ,\n",
       "       0.0719083 , 0.0941851 , 0.92613434, 0.14254919, 0.66575288,\n",
       "       0.04655425, 0.47494898, 0.09420477, 0.9085884 , 0.47853041,\n",
       "       0.73736851, 0.84721992, 0.89448961, 0.23310392, 0.14488232,\n",
       "       0.07249863, 0.34598043, 0.10602204, 0.46880893, 0.34941422,\n",
       "       0.0950311 , 0.36191467, 0.32586392, 0.84859726, 0.12379969,\n",
       "       0.11974647, 0.91039327, 0.69673791, 0.12820962, 0.10514084,\n",
       "       0.09348095, 0.1201058 , 0.09681977, 0.0941107 , 0.0870318 ,\n",
       "       0.26576921, 0.46646084, 0.1221198 , 0.27567119, 0.06728104,\n",
       "       0.08905557, 0.08972621, 0.89173228, 0.10451791, 0.09180674,\n",
       "       0.12796744, 0.05688865, 0.26244633, 0.26244633, 0.21224034,\n",
       "       0.03995595, 0.81907483, 0.66683912, 0.09421275, 0.07675779,\n",
       "       0.08744424, 0.10899632, 0.09632104, 0.83097902, 0.66693592,\n",
       "       0.61951868, 0.12816366, 0.77842614, 0.05877792, 0.63081755,\n",
       "       0.14609929, 0.49443187, 0.11718524, 0.47051311, 0.11315906,\n",
       "       0.94080011, 0.4289594 , 0.1171833 , 0.08195985, 0.10143498,\n",
       "       0.56275758, 0.14483407, 0.12794659, 0.96551415, 0.0950311 ,\n",
       "       0.52199   , 0.36067243, 0.61916092, 0.65946705, 0.10266929,\n",
       "       0.12025207, 0.08463882, 0.44381653, 0.84081917, 0.62890192,\n",
       "       0.84323325, 0.95482793, 0.12537245, 0.64695681, 0.6090788 ,\n",
       "       0.45670737, 0.6579089 , 0.89923602, 0.63394563, 0.11718202,\n",
       "       0.58189504, 0.32891253, 0.13547593, 0.25599948, 0.09724919,\n",
       "       0.09653278, 0.12484711, 0.29315425, 0.21109226, 0.81931173,\n",
       "       0.44883871, 0.09681977, 0.28778123, 0.20541836, 0.0941851 ,\n",
       "       0.19908818, 0.15308719, 0.03652878, 0.20147928, 0.09634382,\n",
       "       0.09438997, 0.88424431, 0.43207454, 0.85052096, 0.76530173,\n",
       "       0.66592757, 0.78718735, 0.4940025 , 0.12315609, 0.79911277,\n",
       "       0.56887472, 0.5303333 , 0.1629085 , 0.06969232, 0.32961104,\n",
       "       0.13309022, 0.3049051 , 0.60257106, 0.71793009, 0.65946705,\n",
       "       0.11718265, 0.4690417 , 0.95786747, 0.09174966, 0.05882871,\n",
       "       0.34637314, 0.20541836, 0.22801752, 0.07326053, 0.10600019,\n",
       "       0.14495758, 0.1094114 , 0.31569613, 0.6739065 , 0.12412059,\n",
       "       0.11718524, 0.59720107, 0.94984764, 0.12401766, 0.11652336,\n",
       "       0.09319619, 0.25259023, 0.62277398, 0.112924  , 0.21323205,\n",
       "       0.14351545, 0.7589992 , 0.87117311, 0.03550071, 0.10057143,\n",
       "       0.25492258, 0.17365323, 0.67373641, 0.07239251, 0.91825222,\n",
       "       0.49176443, 0.13103003, 0.06077484, 0.76906833, 0.21727736,\n",
       "       0.9575083 , 0.24249738, 0.96791339, 0.12021186, 0.06695672,\n",
       "       0.13198123, 0.90860547, 0.46837977, 0.72506258, 0.26937516,\n",
       "       0.48467762, 0.77842614, 0.41389212, 0.09204939, 0.82945775,\n",
       "       0.9637985 , 0.93374741, 0.72589998, 0.14461541, 0.25330577,\n",
       "       0.08358761, 0.29161408, 0.12778104, 0.09420477, 0.00742232,\n",
       "       0.93164484, 0.11718524, 0.22956337, 0.60605586, 0.0941851 ,\n",
       "       0.95187454, 0.52222305, 0.37850029, 0.05335946, 0.22956337,\n",
       "       0.47742373, 0.20541836, 0.92278582, 0.86713648, 0.09967329,\n",
       "       0.31097859, 0.04237343, 0.06717131, 0.17795666, 0.94019433,\n",
       "       0.33306971, 0.22801752, 0.12016837, 0.28189415, 0.48626714,\n",
       "       0.22334554, 0.25179258, 0.08647718, 0.31280135, 0.11285862,\n",
       "       0.14043964, 0.13590485, 0.12022768, 0.12022768, 0.12274231,\n",
       "       0.14483329, 0.08711802, 0.66591925, 0.95299295, 0.93746923,\n",
       "       0.7608383 , 0.41398371, 0.92551611, 0.07179005, 0.05890209,\n",
       "       0.89258425, 0.0803672 , 0.12392833, 0.27641836, 0.33582339,\n",
       "       0.6825149 , 0.23145782, 0.11651696, 0.95628582, 0.65951044,\n",
       "       0.33929923, 0.0873345 , 0.13610125, 0.07179112, 0.36960244,\n",
       "       0.76552251, 0.08465281, 0.05653768, 0.0941851 , 0.29870063,\n",
       "       0.64183362, 0.64517994, 0.34613349, 0.15018619, 0.10616018,\n",
       "       0.45504935, 0.25074273, 0.055056  , 0.12415786, 0.17427094,\n",
       "       0.93705037, 0.13993409, 0.59263938, 0.37875012, 0.29520081,\n",
       "       0.76113893, 0.09420477, 0.16232003, 0.87413563, 0.12066   ,\n",
       "       0.11977709, 0.1183896 , 0.31802747, 0.13195481, 0.09896853,\n",
       "       0.69664967, 0.68044521, 0.33000357, 0.05891245, 0.94485566,\n",
       "       0.11279189, 0.10278876, 0.10931733, 0.91463472, 0.0941851 ,\n",
       "       0.76336319, 0.27647275, 0.64970914, 0.69739057, 0.11290355,\n",
       "       0.522199  , 0.95425572])"
      ]
     },
     "execution_count": 33,
     "metadata": {},
     "output_type": "execute_result"
    }
   ],
   "source": [
    "clf.predict_proba(x_train)[:,1]"
   ]
  },
  {
   "cell_type": "code",
   "execution_count": 34,
   "id": "c43317af",
   "metadata": {},
   "outputs": [
    {
     "data": {
      "image/png": "[encoded data removed]",
      "text/plain": [
       "<Figure size 800x600 with 1 Axes>"
      ]
     },
     "metadata": {},
     "output_type": "display_data"
    }
   ],
   "source": [
    "import numpy as np\n",
    "import matplotlib.pyplot as plt\n",
    "from sklearn.metrics import roc_curve, roc_auc_score\n",
    "\n",
    "# Same actual and predicted probabilities as before\n",
    "actual = np.array([\n",
    "    1, 1, 1, 0, 0, 1, 0, 0, 1, 0,\n",
    "    1, 1, 0, 1, 0, 0, 1, 1, 0, 0\n",
    "])\n",
    "\n",
    "# Instead of hard labels, use prediction **probabilities** (fake example)\n",
    "# These would normally come from model.predict_proba()[:, 1]\n",
    "# Here we use random plausible probabilities for illustration:\n",
    "predicted_prob = np.array([\n",
    "    0.9, 0.85, 0.4, 0.2, 0.7, 0.8, 0.1, 0.3, 0.2, 0.75,\n",
    "    0.88, 0.82, 0.3, 0.35, 0.25, 0.1, 0.9, 0.92, 0.2, 0.7\n",
    "])\n",
    "\n",
    "# Compute ROC curve\n",
    "fpr, tpr, thresholds = roc_curve(actual, predicted_prob)\n",
    "\n",
    "# Compute AUC (Area Under Curve)\n",
    "auc_score = roc_auc_score(actual, predicted_prob)\n",
    "\n",
    "# Plot ROC curve\n",
    "plt.figure(figsize=(8, 6))\n",
    "plt.plot(fpr, tpr, color='darkorange', linewidth=2, label=f'ROC Curve (AUC = {auc_score:.2f})')\n",
    "plt.plot([0, 1], [0, 1], color='navy', linestyle='--')  # Diagonal line\n",
    "plt.xlim([0.0, 1.0])\n",
    "plt.ylim([0.0, 1.05])\n",
    "plt.xlabel('False Positive Rate')\n",
    "plt.ylabel('True Positive Rate (Recall)')\n",
    "plt.title('Receiver Operating Characteristic (ROC) Curve')\n",
    "plt.legend(loc=\"lower right\")\n",
    "plt.grid(True)\n",
    "plt.show()\n"
   ]
  },
  {
   "cell_type": "code",
   "execution_count": null,
   "id": "92838b69",
   "metadata": {},
   "outputs": [],
   "source": []
  },
  {
   "cell_type": "code",
   "execution_count": null,
   "id": "280c3765",
   "metadata": {},
   "outputs": [],
   "source": []
  },
  {
   "cell_type": "code",
   "execution_count": null,
   "id": "9f6a297d",
   "metadata": {},
   "outputs": [],
   "source": []
  },
  {
   "cell_type": "code",
   "execution_count": null,
   "id": "1b5f6d88",
   "metadata": {},
   "outputs": [],
   "source": []
  }
 ],
 "metadata": {
  "kernelspec": {
   "display_name": ".venv",
   "language": "python",
   "name": "python3"
  },
  "language_info": {
   "codemirror_mode": {
    "name": "ipython",
    "version": 3
   },
   "file_extension": ".py",
   "mimetype": "text/x-python",
   "name": "python",
   "nbconvert_exporter": "python",
   "pygments_lexer": "ipython3",
   "version": "3.13.1"
  }
 },
 "nbformat": 4,
 "nbformat_minor": 5
}
