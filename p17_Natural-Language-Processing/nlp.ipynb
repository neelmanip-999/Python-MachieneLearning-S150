{
 "cells": [
  {
   "cell_type": "markdown",
   "id": "7c494ca3",
   "metadata": {},
   "source": [
    "Natural Language Processing (NLP) is a branch of artificial intelligence (AI) that focuses on\n",
    "the interaction between computers and human (natural) languages. It enables machines to read,\n",
    "understand, interpret, and generate human language in a valuable and meaningful way.\n",
    "\n",
    "🔍 Key Areas of NLP:\n",
    "1.Text Processing:\n",
    "\n",
    "-->Tokenization\n",
    "\n",
    "-->Lemmatization/Stemming\n",
    "\n",
    "-->Stopword Removal\n",
    "\n",
    "2.Syntactic Analysis:\n",
    "\n",
    "-->Part-of-Speech (POS) Tagging\n",
    "\n",
    "-->Parsing (Dependency & Constituency)\n",
    "\n",
    "3.Semantic Analysis:\n",
    "\n",
    "-->Named Entity Recognition (NER)\n",
    "\n",
    "-->Word Sense Disambiguation\n",
    "\n",
    "-->Sentiment Analysis\n",
    "\n",
    "4.Discourse & Pragmatics:\n",
    "\n",
    "-->Co-reference Resolution\n",
    "\n",
    "-->Discourse Structure\n",
    "\n",
    "5.Applications:\n",
    "\n",
    "-->Machine Translation (e.g., Google Translate)\n",
    "\n",
    "-->Chatbots and Virtual Assistants (e.g., Siri, Alexa, ChatGPT)\n",
    "\n",
    "-->Text Summarization\n",
    "\n",
    "-->Text Classification (e.g., spam detection)\n",
    "\n",
    "-->Question Answering\n",
    "\n",
    "-->Language Modeling (e.g., GPT, BERT)\n",
    "\n"
   ]
  },
  {
   "cell_type": "code",
   "execution_count": 3,
   "id": "52f7b42c",
   "metadata": {},
   "outputs": [
    {
     "name": "stderr",
     "output_type": "stream",
     "text": [
      "[nltk_data] Downloading package punkt_tab to\n",
      "[nltk_data]     C:\\Users\\asus\\AppData\\Roaming\\nltk_data...\n",
      "[nltk_data]   Unzipping tokenizers\\punkt_tab.zip.\n"
     ]
    },
    {
     "data": {
      "text/plain": [
       "True"
      ]
     },
     "execution_count": 3,
     "metadata": {},
     "output_type": "execute_result"
    }
   ],
   "source": [
    "import nltk\n",
    "nltk.download('punkt_tab')"
   ]
  },
  {
   "cell_type": "code",
   "execution_count": 4,
   "id": "8ea97665",
   "metadata": {},
   "outputs": [],
   "source": [
    "document = \"\"\"It was a very pleasant day. The weather was cool and there were light showers. \n",
    "I went to the market to buy some fruits.\"\"\"\n",
    "\n",
    "sentence = \"Send all the 50 documents  related to chapters 1,2,3 at shubham@cb.com\""
   ]
  },
  {
   "cell_type": "code",
   "execution_count": 5,
   "id": "e5b15e4f",
   "metadata": {},
   "outputs": [],
   "source": [
    "from nltk.tokenize import sent_tokenize,word_tokenize"
   ]
  },
  {
   "cell_type": "code",
   "execution_count": null,
   "id": "dcd4a11e",
   "metadata": {},
   "outputs": [
    {
     "name": "stdout",
     "output_type": "stream",
     "text": [
      "['It was a very pleasant day.', 'The weather was cool and there were light showers.', 'I went to the market to buy some fruits.']\n"
     ]
    }
   ],
   "source": [
    "sents = sent_tokenize(document)\n",
    "print(sents)"
   ]
  },
  {
   "cell_type": "code",
   "execution_count": 7,
   "id": "950dcd5e",
   "metadata": {},
   "outputs": [
    {
     "name": "stdout",
     "output_type": "stream",
     "text": [
      "['It', 'was', 'a', 'very', 'pleasant', 'day', '.', 'The', 'weather', 'was', 'cool', 'and', 'there', 'were', 'light', 'showers', '.', 'I', 'went', 'to', 'the', 'market', 'to', 'buy', 'some', 'fruits', '.']\n"
     ]
    }
   ],
   "source": [
    "words = word_tokenize(document)\n",
    "print(words)"
   ]
  },
  {
   "cell_type": "code",
   "execution_count": null,
   "id": "c14c7e4a",
   "metadata": {},
   "outputs": [],
   "source": [
    "import re #re-regular expression"
   ]
  },
  {
   "cell_type": "code",
   "execution_count": 9,
   "id": "b5643b77",
   "metadata": {},
   "outputs": [
    {
     "data": {
      "text/plain": [
       "['Send',\n",
       " 'all',\n",
       " 'the',\n",
       " '50',\n",
       " 'documents',\n",
       " 'related',\n",
       " 'to',\n",
       " 'chapters',\n",
       " '1',\n",
       " '2',\n",
       " '3',\n",
       " 'at',\n",
       " 'shubham@cb.com']"
      ]
     },
     "execution_count": 9,
     "metadata": {},
     "output_type": "execute_result"
    }
   ],
   "source": [
    "re.split(r'[,\\s]+',sentence)"
   ]
  },
  {
   "cell_type": "code",
   "execution_count": 10,
   "id": "4a0c9c43",
   "metadata": {},
   "outputs": [
    {
     "data": {
      "text/plain": [
       "'Send all the  documents  related to chapters  at shubham@cb.com'"
      ]
     },
     "execution_count": 10,
     "metadata": {},
     "output_type": "execute_result"
    }
   ],
   "source": [
    "re.sub(r'[^a-zA-Z\\s@.]+','',sentence)"
   ]
  },
  {
   "cell_type": "code",
   "execution_count": 12,
   "id": "420493c0",
   "metadata": {},
   "outputs": [
    {
     "name": "stderr",
     "output_type": "stream",
     "text": [
      "[nltk_data] Downloading package stopwords to\n",
      "[nltk_data]     C:\\Users\\asus\\AppData\\Roaming\\nltk_data...\n",
      "[nltk_data]   Unzipping corpora\\stopwords.zip.\n"
     ]
    },
    {
     "data": {
      "text/plain": [
       "True"
      ]
     },
     "execution_count": 12,
     "metadata": {},
     "output_type": "execute_result"
    }
   ],
   "source": [
    "import nltk\n",
    "nltk.download('stopwords')"
   ]
  },
  {
   "cell_type": "code",
   "execution_count": 13,
   "id": "698310b5",
   "metadata": {},
   "outputs": [],
   "source": [
    "from nltk.corpus import stopwords\n",
    "\n",
    "sw = set(stopwords.words('english'))"
   ]
  },
  {
   "cell_type": "code",
   "execution_count": 14,
   "id": "fa9a6f6a",
   "metadata": {},
   "outputs": [
    {
     "name": "stdout",
     "output_type": "stream",
     "text": [
      "{'if', 'why', 'will', \"needn't\", 'out', 've', 'mightn', 'whom', 'hadn', 'any', 'between', 'its', \"she'd\", 'haven', 'such', 'into', 'or', 'that', \"it's\", 'him', \"don't\", 'during', 'yourselves', \"we'd\", 'here', 'shan', 'from', 'more', 'won', 'how', 'couldn', 'don', \"i'm\", \"didn't\", 'over', \"they're\", 'ourselves', 'do', \"she's\", \"weren't\", 'herself', 'been', 'wouldn', 'until', \"she'll\", 'myself', \"haven't\", 'their', \"doesn't\", 'for', 'itself', 'her', 'theirs', 'isn', 'once', 'we', 'all', 'she', 'some', \"mightn't\", 'didn', 'when', 'those', 'm', 'each', \"won't\", 'himself', \"i'd\", 's', 'below', \"you're\", 'not', 'weren', 'd', \"it'd\", \"you'll\", 'aren', 'what', 'as', 'own', 'few', 'our', 't', 'in', 'were', 'while', 'other', 'me', 'has', 'very', 'of', 'my', 'then', 'hasn', \"they'd\", 'before', 'doing', 'down', \"we've\", 'only', \"wasn't\", 'had', 'further', 'i', 'again', 'ma', 'on', 'mustn', \"should've\", 'against', 'than', 'who', \"hasn't\", 'was', 'because', 'too', 'and', 'it', 'by', 'is', 'now', 'most', 'off', 'he', 'nor', 'having', 'doesn', 'which', \"you've\", 'at', 'hers', \"he's\", 'does', 'o', 'yourself', 'your', \"hadn't\", 'a', \"he'll\", 'be', 'themselves', 'they', \"mustn't\", \"they'll\", 'you', 'but', 'an', \"you'd\", \"i'll\", 'y', 'both', \"it'll\", 'are', 'this', 'should', 'the', 'his', 'above', \"i've\", \"he'd\", 're', 'so', 'can', \"we're\", 'with', 'them', \"they've\", \"wouldn't\", 'up', 'about', \"isn't\", 'wasn', 'to', \"we'll\", 'being', 'ours', 'did', 'through', \"aren't\", \"shouldn't\", \"that'll\", 'these', 'just', 'shouldn', 'ain', 'under', 'after', 'am', \"shan't\", 'where', 'needn', 'yours', 'no', 'have', 'll', \"couldn't\", 'same', 'there'}\n"
     ]
    }
   ],
   "source": [
    "print(sw)"
   ]
  },
  {
   "cell_type": "code",
   "execution_count": 15,
   "id": "81f5563c",
   "metadata": {},
   "outputs": [
    {
     "data": {
      "text/plain": [
       "['Send', 'documents', 'related', 'chapters', 'shubham@cb.com']"
      ]
     },
     "execution_count": 15,
     "metadata": {},
     "output_type": "execute_result"
    }
   ],
   "source": [
    "sentence = re.sub(r'[^a-zA-Z\\s@.]+','',sentence)\n",
    "tokens = re.split(r'[,\\s]+',sentence)\n",
    "tokens = [t for t in tokens if t not in sw]\n",
    "tokens"
   ]
  },
  {
   "cell_type": "code",
   "execution_count": 16,
   "id": "93e7eb81",
   "metadata": {},
   "outputs": [],
   "source": [
    "from nltk.stem.snowball import SnowballStemmer, PorterStemmer\n",
    "from nltk.stem.lancaster import LancasterStemmer"
   ]
  },
  {
   "cell_type": "code",
   "execution_count": 17,
   "id": "629d8d30",
   "metadata": {},
   "outputs": [
    {
     "data": {
      "text/plain": [
       "'deafeat'"
      ]
     },
     "execution_count": 17,
     "metadata": {},
     "output_type": "execute_result"
    }
   ],
   "source": [
    "sst = SnowballStemmer('english')\n",
    "sst.stem('deafeated')"
   ]
  },
  {
   "cell_type": "code",
   "execution_count": 18,
   "id": "494d967a",
   "metadata": {},
   "outputs": [
    {
     "data": {
      "text/plain": [
       "'curl'"
      ]
     },
     "execution_count": 18,
     "metadata": {},
     "output_type": "execute_result"
    }
   ],
   "source": [
    "sst.stem('curl')"
   ]
  },
  {
   "cell_type": "code",
   "execution_count": 19,
   "id": "14f4fed2",
   "metadata": {},
   "outputs": [
    {
     "data": {
      "text/plain": [
       "'ran'"
      ]
     },
     "execution_count": 19,
     "metadata": {},
     "output_type": "execute_result"
    }
   ],
   "source": [
    "sst.stem('ran')"
   ]
  },
  {
   "cell_type": "code",
   "execution_count": 20,
   "id": "eb8c3583",
   "metadata": {},
   "outputs": [],
   "source": [
    "ps = PorterStemmer()"
   ]
  },
  {
   "cell_type": "code",
   "execution_count": 21,
   "id": "c45fffd7",
   "metadata": {},
   "outputs": [
    {
     "data": {
      "text/plain": [
       "'curl'"
      ]
     },
     "execution_count": 21,
     "metadata": {},
     "output_type": "execute_result"
    }
   ],
   "source": [
    "ps.stem('curl')"
   ]
  },
  {
   "cell_type": "code",
   "execution_count": 22,
   "id": "ad2cbac9",
   "metadata": {},
   "outputs": [
    {
     "data": {
      "text/plain": [
       "'curli'"
      ]
     },
     "execution_count": 22,
     "metadata": {},
     "output_type": "execute_result"
    }
   ],
   "source": [
    "ps.stem('curly')"
   ]
  },
  {
   "cell_type": "code",
   "execution_count": 23,
   "id": "3893c429",
   "metadata": {},
   "outputs": [
    {
     "data": {
      "text/plain": [
       "['send', 'document', 'relat', 'chapter', 'shubham@cb.com']"
      ]
     },
     "execution_count": 23,
     "metadata": {},
     "output_type": "execute_result"
    }
   ],
   "source": [
    "sentence = re.sub(r'[^a-zA-Z\\s@.]+','',sentence)\n",
    "tokens = re.split(r'[,\\s]+',sentence)\n",
    "tokens = [sst.stem(t) for t in tokens if t not in sw]\n",
    "tokens"
   ]
  },
  {
   "cell_type": "code",
   "execution_count": 25,
   "id": "c2ea433c",
   "metadata": {},
   "outputs": [
    {
     "name": "stderr",
     "output_type": "stream",
     "text": [
      "[nltk_data] Downloading package averaged_perceptron_tagger_eng to\n",
      "[nltk_data]     C:\\Users\\asus\\AppData\\Roaming\\nltk_data...\n",
      "[nltk_data]   Unzipping taggers\\averaged_perceptron_tagger_eng.zip.\n"
     ]
    },
    {
     "data": {
      "text/plain": [
       "True"
      ]
     },
     "execution_count": 25,
     "metadata": {},
     "output_type": "execute_result"
    }
   ],
   "source": [
    "import nltk\n",
    "nltk.download('averaged_perceptron_tagger_eng')"
   ]
  },
  {
   "cell_type": "code",
   "execution_count": 26,
   "id": "73a40452",
   "metadata": {},
   "outputs": [
    {
     "data": {
      "text/plain": [
       "[[('I', 'PRP'), ('made', 'VBD'), ('10', 'CD'), ('runs', 'NNS')]]"
      ]
     },
     "execution_count": 26,
     "metadata": {},
     "output_type": "execute_result"
    }
   ],
   "source": [
    "nltk.pos_tag_sents([['I', 'made' ,'10', 'runs']])"
   ]
  },
  {
   "cell_type": "code",
   "execution_count": 28,
   "id": "f4305733",
   "metadata": {},
   "outputs": [
    {
     "name": "stderr",
     "output_type": "stream",
     "text": [
      "[nltk_data] Downloading package wordnet to\n",
      "[nltk_data]     C:\\Users\\asus\\AppData\\Roaming\\nltk_data...\n"
     ]
    },
    {
     "data": {
      "text/plain": [
       "True"
      ]
     },
     "execution_count": 28,
     "metadata": {},
     "output_type": "execute_result"
    }
   ],
   "source": [
    "import nltk\n",
    "nltk.download('wordnet')"
   ]
  },
  {
   "cell_type": "code",
   "execution_count": 29,
   "id": "3a32fe68",
   "metadata": {},
   "outputs": [
    {
     "name": "stdout",
     "output_type": "stream",
     "text": [
      "Lemmatized Words: ['run', 'fly', 'better', 'geese']\n"
     ]
    }
   ],
   "source": [
    "from nltk.stem import WordNetLemmatizer\n",
    "from nltk.corpus import wordnet\n",
    "\n",
    "# Initialize lemmatizer\n",
    "lemmatizer = WordNetLemmatizer()\n",
    "\n",
    "# Example words\n",
    "words = [\"ran\", \"flies\", \"better\", \"geese\"]\n",
    "\n",
    "# Lemmatize words\n",
    "lemmatized_words = [lemmatizer.lemmatize(word, pos=wordnet.VERB) for word in words]\n",
    "print(\"Lemmatized Words:\", lemmatized_words)"
   ]
  },
  {
   "cell_type": "code",
   "execution_count": 30,
   "id": "be9326e8",
   "metadata": {},
   "outputs": [],
   "source": [
    "from sklearn.feature_extraction.text import CountVectorizer,TfidfVectorizer\n",
    "import pandas as pd"
   ]
  },
  {
   "cell_type": "code",
   "execution_count": 31,
   "id": "b451c55b",
   "metadata": {},
   "outputs": [],
   "source": [
    "def preprocess_txt(sent):\n",
    "    sent = sent.lower()\n",
    "    sent = re.sub(r'[^a-zA-Z\\s]+','',sent)\n",
    "    words = re.split(r'[\\s]+',sent)\n",
    "    words = [sst.stem(w) for w in words if w not in sw]\n",
    "    return ' '.join(words)"
   ]
  },
  {
   "cell_type": "code",
   "execution_count": 32,
   "id": "95ad1e56",
   "metadata": {},
   "outputs": [
    {
     "name": "stdout",
     "output_type": "stream",
     "text": [
      "['like eat pizza', 'donot like watch movi']\n",
      "[[0 0 1 1 1 1 0 0 1 0 0]\n",
      " [1 1 0 0 1 0 1 1 0 1 1]]\n"
     ]
    }
   ],
   "source": [
    "sents = ['I like to eat Pizza','I donot like to watch movies']\n",
    "for i in range(len(sents)):\n",
    "    sents[i] =  preprocess_txt(sents[i])\n",
    "print(sents)\n",
    "cv = CountVectorizer(ngram_range=(1,2))\n",
    "vec = cv.fit_transform(sents).toarray()\n",
    "print(vec)"
   ]
  },
  {
   "cell_type": "code",
   "execution_count": 33,
   "id": "657efc12",
   "metadata": {},
   "outputs": [
    {
     "data": {
      "text/plain": [
       "array(['donot', 'donot like', 'eat', 'eat pizza', 'like', 'like eat',\n",
       "       'like watch', 'movi', 'pizza', 'watch', 'watch movi'], dtype=object)"
      ]
     },
     "execution_count": 33,
     "metadata": {},
     "output_type": "execute_result"
    }
   ],
   "source": [
    "cv.get_feature_names_out()"
   ]
  },
  {
   "cell_type": "code",
   "execution_count": 35,
   "id": "76ca98bb",
   "metadata": {},
   "outputs": [],
   "source": [
    "data = pd.read_csv('emails.csv')"
   ]
  },
  {
   "cell_type": "code",
   "execution_count": 36,
   "id": "f33fb04f",
   "metadata": {},
   "outputs": [
    {
     "data": {
      "application/vnd.microsoft.datawrangler.viewer.v0+json": {
       "columns": [
        {
         "name": "index",
         "rawType": "int64",
         "type": "integer"
        },
        {
         "name": "text",
         "rawType": "object",
         "type": "string"
        },
        {
         "name": "spam",
         "rawType": "int64",
         "type": "integer"
        }
       ],
       "ref": "fb6bb646-b806-4145-8541-3952add5c8d9",
       "rows": [
        [
         "0",
         "Subject: naturally irresistible your corporate identity  lt is really hard to recollect a company : the  market is full of suqgestions and the information isoverwhelminq ; but a good  catchy logo , stylish statlonery and outstanding website  will make the task much easier .  we do not promise that havinq ordered a iogo your  company will automaticaily become a world ieader : it isguite ciear that  without good products , effective business organization and practicable aim it  will be hotat nowadays market ; but we do promise that your marketing efforts  will become much more effective . here is the list of clear  benefits : creativeness : hand - made , original logos , specially done  to reflect your distinctive company image . convenience : logo and stationery  are provided in all formats ; easy - to - use content management system letsyou  change your website content and even its structure . promptness : you  will see logo drafts within three business days . affordability : your  marketing break - through shouldn ' t make gaps in your budget . 100 % satisfaction  guaranteed : we provide unlimited amount of changes with no extra fees for you to  be surethat you will love the result of this collaboration . have a look at our  portfolio _ _ _ _ _ _ _ _ _ _ _ _ _ _ _ _ _ _ _ _ _ _ _ _ _ _ _ _ _ _ _ _ _ _ _ _ _ _ _ _ _ _ _ _ _ _ _ _ _ _ _ _ not interested . . . _ _ _ _ _ _ _ _ _ _ _ _ _ _ _ _ _ _ _ _ _ _ _ _ _ _ _ _ _ _ _ _ _ _ _ _ _ _ _ _ _ _ _ _ _ _ _ _ _ _ _ _",
         "1"
        ],
        [
         "1",
         "Subject: the stock trading gunslinger  fanny is merrill but muzo not colza attainder and penultimate like esmark perspicuous ramble is segovia not group try slung kansas tanzania yes chameleon or continuant clothesman no  libretto is chesapeake but tight not waterway herald and hawthorn like chisel morristown superior is deoxyribonucleic not clockwork try hall incredible mcdougall yes hepburn or einsteinian earmark no  sapling is boar but duane not plain palfrey and inflexible like huzzah pepperoni bedtime is nameable not attire try edt chronography optima yes pirogue or diffusion albeit no ",
         "1"
        ],
        [
         "2",
         "Subject: unbelievable new homes made easy  im wanting to show you this  homeowner  you have been pre - approved for a $ 454 , 169 home loan at a 3 . 72 fixed rate .  this offer is being extended to you unconditionally and your credit is in no way a factor .  to take advantage of this limited time opportunity  all we ask is that you visit our website and complete  the 1 minute post approval form  look foward to hearing from you ,  dorcas pittman",
         "1"
        ],
        [
         "3",
         "Subject: 4 color printing special  request additional information now ! click here  click here for a printable version of our order form ( pdf format )  phone : ( 626 ) 338 - 8090 fax : ( 626 ) 338 - 8102 e - mail : ramsey @ goldengraphix . com  request additional information now ! click here  click here for a printable version of our order form ( pdf format )  golden graphix & printing 5110 azusa canyon rd . irwindale , ca 91706 this e - mail message is an advertisement and / or solicitation . ",
         "1"
        ],
        [
         "4",
         "Subject: do not have money , get software cds from here !  software compatibility . . . . ain ' t it great ?  grow old along with me the best is yet to be .  all tradgedies are finish ' d by death . all comedies are ended by marriage .",
         "1"
        ],
        [
         "5",
         "Subject: great nnews  hello , welcome to medzonline sh groundsel op  we are pleased to introduce ourselves as one of the ieading online phar felicitation maceuticai shops .  helter v  shakedown r  a cosmopolitan l  l blister l  l bestow ag  ac tosher l  is coadjutor va  confidant um  andmanyother .  - sav inexpiable e over 75 %  - total confide leisure ntiaiity  - worldwide s polite hlpplng  - ov allusion er 5 miilion customers in 150 countries  have devitalize a nice day !",
         "1"
        ],
        [
         "6",
         "Subject: here ' s a hot play in motion  homeland security investments  the terror attacks on the united states on september 11 , 20 ol have  changed  the security landscape for the foreseeable future . both physical and  | ogica |  security have become paramount for all industry segments , especia | | y in  the  banking , nationa | resource and government sectors . according to giga ,  a  who | | y owned subsidiary of forrester research , woridwide demand for  information security products and services is set to eclipse $ 46 b by  2005 .  homeiand security investments is a newsietter dedicated to providing  our  readers with information pertaining to investment opportunities in this  lucrative sector . as we know , events related to homeland security  happen  with lightning speed . what we as investors can do is position  ourselves in  such a way as to take advantage of the current trends and be ready to  capitalize on events which have yet to happen . homeland security  investments is here to heip our readers do just that .  with this in mind , it is with great excitement that we present vinoble ,  inc .  this stock is expected to do big things in both the near and | ong  terms .  symbol : vnbl . ob  current price : o . 08  short term target price : o . 35  12 month target price : 1 . 20  * * * why we believe vnbl . ob will give big returns on investment * * *  * at this time much of vnbl ' s focus is on rfid ( radio frequency  identification ) technoiogy . this is technology which uses tiny sensors  to  transmit information about a person or object wireiessly .  * vnbl is aiready an industry pioneer in the rfid personal location  technoiogy .  * vnbl is developing a form of rfid technology which allows companies  and  governments to wirelessly track their assets and resources . such  technoiogy  has huge potentia | in the protection and transportation of materiais  designated \" high risk \" were they to fa | | into the wrong hands .  * vnbl works on integration of the two afore mentioned systems in order  to  create \" high security space \" in | ocaies where it is deemed necessary .  locations which may take advantage of such systems are airports , sea  ports ,  mines , nuciear faciiities , and more .  * as with a | | stocks , news drives the short term price . fresh news has  made vnbl a hot buy .  news on vnbl  malibu , calif . - - ( business wire ) - - june 16 , 2 oo 5 - - vinoble , inc .  ( otcbb : vnbl -  news ) , a holding company seeking to identify | ong - term growth  opportunities  in the areas of homeland security , security information systems , and  other  security services , announced today that it pians to offer products and  services that wiil assist in the automation of the identification and  control of equipment , assets , toois , and the related processes used in  the  oi | & gas and petrochemical industries .  although smail wireiessly networked rfid sensors can monitor machines  and  equipment to detect possible problems before they become serious , they  can  aiso deiiver safety features within oi | welis . oi | maybe trapped in  different | ayers of rock , aiong with gas and water . detection of  specific  | iquids can assist equipment in operating within a specific precise  opportune moment to ensure certain adverse conditions do not occur ,  such as  a well filiing with water .  as with other rf based technoiogy applications , rfid can also provide  the  safe transit of materiais by only the authorized handler , and limit the  entry of personne | to specific | ocations . ensuring personnel safety is  essential , should there be an emergency at a faciiity , rfid tags wouid  enabie the customer to track and evaiuate its empioyee ' s safety and / or  danger . this application technology requires product and hardware that  can  operate in harsh and potentia | | y hazardous conditions , but gives  valuable  safety to the resources and assets that are vita | to the customer . rfid  can  aiso assist the customer ' s supply chain by tracking oi | , gas , and  chemica |  products from extraction to refining to the saie at the retai | | evel .  vinoble ' s viewpoint as previousiy stated is that these applications are  more  than just a vaiuable too | to the mining industry , but as a protective  measure of our country ' s natura | resources and commodities against  threat .  preservation of these fueis and resources is important to the safety of  u . s .  industry and economy .  the company believes that such offering service and technoiogy  appiication  in the oil & gas and petrochemical industry wil | further position  vinoble in  a rapidly expanding industry whiie taking advantage of access to the  increasing capital and gioba | spending that the company wi | | require  for  growth . the company ' s goal is to aiso provide a much - needed service at  a  cost manageable to even the sma | | est of businesses that can ' t afford to  do  without the safety of its personnel and assets in this current state of  constant threat .  this is outstanding news . the growth potential for this company is  exceptional . in an already hot industry , vnbl . ob stands out as a truiy  innovative pioneer . we see big things happening to this stock .  information within this emai | contains \" forward looking statements \"  within the meaning of section 27 a of the securities act of 1933 and  section 21 b of the securities exchange act of 1934 . any statements that  express or involve discussions with respect to predictions ,  expectations , beliefs , pians , projections , objectives , goals ,  assumptions or  future  events or performance are not statements of historica | fact and may be  \" forward | ooking statements . \" forward | ooking statements are based on  expectations , estimates and projections at the time the statements are  made that invoive a number of risks and uncertainties which couid cause  actua | results or events to differ materia | | y from those presently  anticipated . forward looking statements in this action may be  identified  through the use of words such as \" projects \" , \" foresee \" , \" expects \" ,  \" wi | | , \" \" anticipates , \" \" estimates , \" \" beiieves , \" \" understands \" or  that by  statements indicating certain actions \" may , \" \" couid , \" or \" might \" occur .  as with many micro - cap stocks , today ' s company has additional risk  factors worth noting . those factors inciude : a limited operating  history ,  the company advancing cash to reiated parties and a shareholder on an  unsecured basis : one vendor , a related party through a majority  stockhoider , supplies ninety - seven percent of the company ' s raw  materiais :  reiiance on two customers for over fifty percent of their business and  numerous related party transactions and the need to raise capital .  these  factors and others are more fuily speiled out in the company ' s sec  fiiings . we urge you to read the filings before you invest . the rocket  stock  report does not represent that the information contained in this  message states ail materia | facts or does not omit a material fact  necessary  to make the statements therein not misleading . ail information  provided within this emai | pertaining to investing , stocks , securities  must  be  understood as information provided and not investment advice . the  rocket stock report advises all readers and subscribers to seek advice  from  a registered professiona | securities representative before deciding to  trade in stocks featured within this email . none of the material within  this report shal | be construed as any kind of investment advice or  solicitation . many of these companies are on the verge of bankruptcy .  you  can lose ail your money by investing in this stock . the publisher of  the rocket stock report is not a registered investment advisor .  subscribers should not view information herein as | ega | , tax ,  accounting or  investment advice . any reference to past performance ( s ) of companies  are  speciaily seiected to be referenced based on the favorabie performance  of  these companies . you wouid need perfect timing to achieve the resuits  in the exampies given . there can be no assurance of that happening .  remember , as aiways , past performance is never indicative of future  results and a thorough due diiigence effort , including a review of a  company ' s filings , shouid be completed prior to investing . in  compiiance  with the securities act of 1933 , section 17 ( b ) , the rocket stock report  discioses the receipt of tweive thousand doilars from a third party  ( gem , inc . ) , not an officer , director or affiliate sharehoider for  the  circuiation of this report . gem , inc . has a position in the stock  they  wil | se | | at any time without notice . be aware of an inherent confiict  of interest resuiting from such compensation due to the fact that this  is a paid advertisement and we are conflicted . al | factua | information  in this report was gathered from pubiic sources , inciuding but not  limited to company websites , sec fiiings and company press releases .  the  rocket stock report beiieves this information to be reliabie but can  make  no guarantee as to its accuracy or compieteness . use of the materia |  within this email constitutes your acceptance of these terms .",
         "1"
        ],
        [
         "7",
         "Subject: save your money buy getting this thing here  you have not tried cialls yet ?  than you cannot even imagine what it is like to be a real man in bed !  the thing is that a great errrectlon is provided for you exactiy when you want .  cialis has a lot of advantages over viagra  - the effect iasts 36 hours !  - you are ready to start within just 10 minutes !  - you can mix it with aicohol ! we ship to any country !  get it right now ! . ",
         "1"
        ],
        [
         "8",
         "Subject: undeliverable : home based business for grownups  your message  subject : home based business for grownups  sent : sun , 21 jan 2001 09 : 24 : 27 + 0100  did not reach the following recipient ( s ) :  75 @ tfi . kpn . com on mon , 25 feb 2002 13 : 32 : 23 + 0100  the recipient name is not recognized  the mts - id of the original message is : c = us ; a = ; p = ptt  telecom ; l = mtpi 70590202251232 fjt 4 d 8 q 5  msexch : ims : kpn - telecom : i : mtpi 7059 0 ( 000 co 5 a 6 ) unknown recipient",
         "1"
        ],
        [
         "9",
         "Subject: save your money buy getting this thing here  you have not tried cialls yet ?  than you cannot even imagine what it is like to be a real man in bed !  the thing is that a great errrectlon is provided for you exactiy when you want .  cialis has a lot of advantages over viagra  - the effect lasts 36 hours !  - you are ready to start within just 10 minutes !  - you can mix it with aicohoi ! we ship to any country !  get it right now ! . ",
         "1"
        ],
        [
         "10",
         "Subject: las vegas high rise boom  las vegas is fast becoming a major metropolitan city ! 60 +  new high rise towers are expected to be built on and around the las vegas strip  within the next 3 - 4 years , that ' s 30 , 000 + condominiums !  this boom has just begun ! buy first . . . early phase ,  pre - construction pricing is now available on las vegas high rises including  trump , cosmopolitan , mgm , turnberry , icon , sky , among others .  join the interest list :  http : / / www . verticallv . com  message has been sent to you by realty one highrise . learn more at www . verticallv . comif you  wish to be excluded from future mailings , please reply with the word remove in  the subject line . ",
         "1"
        ],
        [
         "11",
         "Subject: save your money buy getting this thing here  you have not tried cialls yet ?  than you cannot even imagine what it is like to be a real man in bed !  the thing is that a great errrectlon is provided for you exactly when you want .  ciaiis has a iot of advantaqes over viagra  - the effect iasts 36 hours !  - you are ready to start within just 10 minutes !  - you can mix it with aicohol ! we ship to any country !  get it riqht now ! . ",
         "1"
        ],
        [
         "12",
         "Subject: brighten those teeth  get your  teeth bright white now !  have you considered professional teeth whitening ? if so , you  know it usually costs between $ 300 and $ 500 from your local  dentist !  visit our site to learn how to  professionally whiten your teeth , using the exact same whitening  system your dentist uses , at a fraction of the cost ! here ' s what you get :  we will show you what to look for in a whitening  system !  we will show you a comparison of all of the products  available today , including their costs !  we know our product is the best on the market , and we back  it with a 30 day money back guarantee !  click here to learn more !  you are receiving this email as an  internet affiliate network member . if you would no longer like to receive  special promotions  via email from internet affiliate network , then click  here to unsubscribe ",
         "1"
        ],
        [
         "13",
         "Subject: wall street phenomenon reaps rewards  small - cap stock finder  new developments expected to move western sierra mining , inc . stock  from $ 0 . 70 to over $ 4 . 0 o  westernsierramining . com  western sierra mining is a company on the move , fast ! big news is out !  big business is afoot for wsrm !  read on to find out why wsrm is our top pick this week .  * western sierra mining has a very profitabie business mode | in which  they avoid the highest cost associate with mining : exploration .  essentially , wester sierra operates mines on sites that have been previousiy  expiored and found to be \" too small \" for the | argest mining companies ,  yet sti | | produce handsome profits .  * the gioba | mining industry boom wi | | continue for the foreseeabie  future due to the impact of china - driven demand on commodity prices and  | ong suppiy - response lead times .  * news ! news ! news ! read on to find out why we expect wsrm to take off  this week !  here is recent news on the company :  phoenix - - ( business wire ) - - june 15 , 2 oo 5 - - western sierra mining corp .  ( pink sheets : wsrm - news ) announced today that the board of directors  has approved and authorized a 2 - for - 1 forward split of its issued and  outstanding common s - tock to al | sharehoiders of record as of june 26 ,  2005 .  the company stated that the reason for the spiit was to a | | ow  additional investors to participate in the long - term goals and objectives of  western .  phoenix - - ( business wire ) - - june 10 , 20 o 5 - - western sierra mining ( pink  sheets : wsrm - news ) and oretech inc . ( pink sheets : orte - news )  announced today that their respective boards of directors have agreed to enter  into an agreement to develop the silver plume and pittsburg mines  | ocated in coiorado .  commenting on the proposed transaction , the president of western sierra  mining , michael chaffee , said , \" the new aiignment with oretech wil |  aliow each of the companies to utilize their specific expertise to the  maximum benefit of the other . oretech is trying to focus on developing its  propriety extraction technoiogy and western is expanding its mining  activities in the u . s . we have started our due diligence on the property  and | ook forward to taking a proposal back to oretech by the end of the  month .  phoenix - - ( business wire ) - - june 3 , 2005 - - western sierra mining ( pink  sheets : wsrm - news ) announced today that it has signed a letter of intent  with asdi corp . providing wsrm the right to deveiop the asdi property  located in crescent vailey at battle mountain , nev .  we cannot stress enough the significance of this news . a s - tock spiit  can oniy mean one thing ; good business ! with the spiit date set at june  26 , now is obviousiy the time to get in . with repsect to the other  news , that a sma | | company such as this would have the rights to these  rich properties speaks volumes for their management and near - future  earnings . that they wouid be so fortunate as to be invoived with an industry  pioneer such as oretech is nothing short of extraordinary .  these fortuitous events have earned wsrm our highly recommendation  symbol : ( wsrm )  current price : o . 70  short term target price : 4 . 6 o  12 month target price : 8 . 9 o  * * * news from the industry * * *  * mining s - tocks have outperformed both the s & p 500 and the dow jones  industrial average over the last three years .  * profits by mining companies have doubled for the second year in a  row . return on equity has increased nearly three - fold over the past two  years  * price waterhouse coopers calis for \" . . . another bumper year for the  global mining industry in 2 oo 5 . \" they go on to say , \" the sustained  upturn in commodity prices has caught investors ' attention , creating a dash  for mining s - tocks . add the unprecedented profits and free cash flows  and we have a very buoyant industry . \"  for more information read , mine - enter the dragon , by price waterhouse  coopers , located at pwcglobal . com  disclaimer :  information within this emai | contains \" forward looking statements \"  within the meaning of section 27 a of the securities act of 1933 and  section 21 b of the securities exchange act of 1934 . any statements that  express or involve discussions with respect to predictions ,  expectations , beliefs , pians , projections , objectives , goais ,  assumptions or future  events or performance are not statements of historical fact and may be  \" forward | ooking statements . \" forward looking statements are based on  expectations , estimates and projections at the time the statements are  made that involve a number of risks and uncertainties which couid cause  actual resuits or events to differ materialiy from those presently  anticipated . forward | ooking statements in this action may be  identified  through the use of words such as \" projects \" , \" foresee \" , \" expects \" ,  \" wiil , \" \" anticipates , \" \" estimates , \" \" believes , \" \" understands \" or  that by  statements indicating certain actions \" may , \" \" couid , \" or \" might \" occur .  as with many micro - cap s - tocks , today ' s company has additional risk  factors worth noting . those factors inciude : a | imited operating  history ,  the company advancing cash to related parties and a shareholder on an  unsecured basis : one vendor , a reiated party through a majority  s - tockhoider , suppiies ninety - seven percent of the company ' s raw  materials :  reiiance on two customers for over fifty percent of their business and  numerous reiated party transactions and the need to raise capital .  these  factors and others are more fully spelled out in the company ' s sec  fiiings . we urge you to read the filings before you invest . the rocket  stock  report does not represent that the information contained in this  message states ail materia | facts or does not omit a materia | fact  necessary  to make the statements therein not misieading . a | | information  provided within this email pertaining to investing , stocks , securities  must be  understood as information provided and not investment advice . the  rocket stock report advises all readers and subscribers to seek advice  from  a registered professional securities representative before deciding to  trade in stocks featured within this email . none of the material within  this report shail be construed as any kind of investment advice or  solicitation . many of these companies are on the verge of bankruptcy .  you  can | ose al | your mone * y by investing in this stock . the publisher of  the rocket stock report is not a registered investment advisor .  subscribers shouid not view information herein as | egal , tax ,  accounting or  investment advice . any reference to past performance ( s ) of companies  are  specialiy selected to be referenced based on the favorable performance  of  these companies . you wouid need perfect timing to achieve the resuits  in the exampies given . there can be no assurance of that happening .  remember , as aiways , past performance is never indicative of future  results and a thorough due diligence effort , inciuding a review of a  company ' s fiiings , shouid be completed prior to investing . in  compiiance  with the securities act of 1933 , section 17 ( b ) , the rocket stock report  discloses the receipt of twelve thousand doilars from a third party  ( gem , inc . ) , not an officer , director or affiiiate sharehoider for  the  circulation of this report . gem , inc . has a position in the stoc * k  they  wi | | seil at any time without notice . be aware of an inherent confiict  of interest resuiting from such compensation due to the fact that this  is a paid advertisement and we are conflicted . ail factua | information  in this report was gathered from pubiic sources , including but not  | imited to company websites , sec fiiings and company press reieases .  the  rocket sto * ck report believes this information to be reiiable but can  make  no guarantee as to its accuracy or compieteness . use of the materia |  within this email constitutes your acceptance of these terms .",
         "1"
        ],
        [
         "14",
         "Subject: fpa notice : ebay misrepresentation of identity - user suspension - section 9 -  dear ebay member ,  in an effort to protect your ebay  account security , we have suspended your account until such time that it can  be safely restored to you . we have taken this action because your account  may have been compromised . although we cannot disclose our investigative  procedures that led to this conclusion , please know that we took this action  in order to maintain the safety of your account . for instructions on  getting your account reinstated , please click the button bellow :  thank you for your patience and  cooperation . regards ,  safeharbor departmentebay  inc . ",
         "1"
        ],
        [
         "15",
         "Subject: search engine position  be the very first listing in the top search engines immediately .  our company will now place any business with a qualified website  permanently at the top of the major search engines guaranteed never to move  ( ex : yahoo ! , msn , alta vista , etc . ) . this promotion includes unlimited  traffic and is not going to last long . if you are interested in being  guaranteed first position in the top search engines at a promotional fee ,  please contact us promptly to find out if you qualify via email at  searchl 1 @ telefonica . net . pe it ' s very important to include the url ( s ) if you  are interested in promoting ! ! ! this is not pay per click . examples will  be provided .  this promotion is only valid in the usa and canada .  sincerely ,  the search engine placement specialists  if you wish to be removed from this list , please respond to the following  email address and type the word \" remove \" in your subject line :  search 6 @ speedy . com . pe",
         "1"
        ],
        [
         "16",
         "Subject: only our software is guaranteed 100 % legal .  name - brand software at low , low , low , low prices  everything comes to him who hustles while he waits .  many would be cowards if they had courage enough .",
         "1"
        ],
        [
         "17",
         "Subject: localized software , all languages available .  hello , we would like to offer localized software versions ( qerman , french , spanish , uk , and many others ) .  all iisted software is availabie for immediate download !  no need to wait 2 - 3 week for cd deiivery !  just few exampies :  - norton lnternet security pro 2005 - $ 29 . 95  - windows xp professional with sp 2 fuil version - $ 59 . 95  - corei draw graphics suite 12 - $ 49 . 95  - dreamweaver mx 2004 ( homesite 5 . 5 including ) - $ 39 . 95  - macromedia studio mx 2004 - $ 119 . 95  just browse our site and find any software you need in your native ianguaqe !  best reqards ,  lauraiee ",
         "1"
        ],
        [
         "18",
         "Subject: security alert - confirm your national credit union information  - - > ",
         "1"
        ],
        [
         "19",
         "Subject: 21 st century web specialists jrgbm  dear  it professionals ,  have a problem or idea you need a solution for ?  not sure what it will cost so that you can budget accordingly ?  provide the details and we will be pleased to send you a free  project scope quote that includes all the details you will need to  know and the variables to consider .  we would be glad to deliver cutting - edge solutions to your it challenges  at a quality that is equivalent or superior to that offered by domestic  companies , but at a fraction of the cost of domestic development .  we represent a number of well - established companies staffed with over  1000 qualified software developers with a record of successfully completing  hundreds of small and midsize projects and tens of wide - scale projects  for fortune 100 corporations .  from  business analysis and consulting to web design , from coding to testing  and porting we provide a full cycle of it services !  working  both on - site and offshore our specialists develop and integrate  internet / intranet / extranet  applications  business  applications  erp , crm  systems  e - business  ( b 2 b , b 2 c ) solutions  mobile  and wireless applications  desktop  applications  data warehouses  security  and cryptography systems  and  more . . .  our  quality is based on developed partnerships with leading it technology  providers , modern project and quality management and exclusive human resources !  for  more info . . . click  here ! ! !  please include your phone number ,  and we will be happy to call you !  cost  effective it solutions !  experienced teams of specialists !  fair rates !  free  quotes ! !  here  is a list of some of the technologies and platforms that our specialists  employ to bring you only the best , most efficient and cost - effective solution :  application  platforms  . :  . net  . : java 2 ee  . : ibm websphere suite  . : lotus domino  . : bea weblogic  . : coldfusion  operating  systems  . :  windows ,  . : unix  . : ibm  databases  . :  ms sql  . : oracle  . : db 2  . : foxpro  . : informix  . : sybase  it  standards  . :  activex , com  . : asp  . : corba  . : jdbc  . : odbc  . : wap , wml  for  more info . . . click  here ! ! !  please include your phone number ,  and we will be happy to call you !  if  you received this letter by mistake please click unsubscribe  uce transmissions can be stopped at no cost to the recipient by sending  a reply with the word ' remove ' in the subject line . ( ref .  u . s . senate bill 1618 , title # 3 , section 301 ) ",
         "1"
        ],
        [
         "20",
         "Subject: any med for your girl to be happy !  your girl is unsatisfied with your potency ? don ' t wait until she finds another men !  click here to choose from a great variety of llcensed love t @ bs ! best pri $ es , fast shippinq and guaranteed effect ! here you buy it riqht from warehouse !  the store is verified by bbb and approved by visa ! ",
         "1"
        ],
        [
         "21",
         "Subject: re : wearable electronics  hi my name is jason , i recently visited www . clothingplus . fi / and wanted to offer my services . we could help you with your wearable electronics website . we create websites that mean business for you ! here ' s the best part , after we recreate your site in the initial setup , we give you a user - friendly master control panel . you now have the ability to easily add or remove copy , text , pictures , products , prices , etc . when you want to ! i would be happy to contact you and brainstorm some ideas . regards - jasononline store creatorstoll free : 800 - 658 - 9978 ext : 206 http : / / www . . com",
         "1"
        ],
        [
         "22",
         "Subject: top - level logo and business identity  corporate image can say a lot of things about your  company . contemporary rhythm of life is too dynamic . sometimes it takes oniy  several seconds for  your company to be remembered or to be lost among competitors .  get your logo , business stationery or website done  riqht now !  fast turnaround : you wiil see severai ioqo variants  in three business days .  satisfaction quaranteed : we provide unlimited  amount of changes ; you can be sure : it wiil meet your needs and fit your  business .  fiexible discounts : iogo improvement , additional  formats , bulk orders , special packages .  creative design for  competitive price : have a look at it right now !",
         "1"
        ],
        [
         "23",
         "Subject: your trusted source for prescription medication .  best prescription generic meds 4 less .  anger is one of the sinners of the soul .  write what you like ; there is no other rule .  life ' s most urgent question is : what are you doing for others ?  gold for friends , lead for foes .",
         "1"
        ],
        [
         "24",
         "Subject: rely on us for your online prescription ordering .  your in - home source of health information  a conclusion is the place where you got tired of thinking .  a man paints with his brains and not with his hands .  a poet more than thirty years old is simply an overgrown child .  one should always play fairly when one has the winning cards .",
         "1"
        ],
        [
         "25",
         "Subject: guzzle like a fountain  spur m rocks , our customer speaks :  \" my girlfriend and me have been really enjoying making  our own homemade erotic films . we get off on pretending  to be like porn stars even though it will only ever be  the two of us that see them . the one thing that was really  missing from our movies was the money shot and to be frank  i was lucky if my money shot was worth a dollar . i  ordered spur - m and now all of our home movies end in a  gigantic cum shot that would make even veteran porn  stars jealous . thanks spur - m for helping to spice up  our sex life ! \"  anthony , ky  \" spur - m really works . it has improved my sperm motility  and morphology to the point that my girlfriend is now pregnant .  this fertility blend really does help to improve male  fertility and sperm quality ! \"  adam j . , san francisco , usa  http : / / karla . chorally . com / spur / ? sheep  need not be disturbed ? go here  http : / / romano . chorally . com / rm . php",
         "1"
        ],
        [
         "26",
         "Subject: are you losing ? the answer would amaze you !  ? connecting your business to the world wide web ?  how  many shoppers are  you  losing ?  the  figure wouldamaze you !  how are youlosing them ?  they  cannot  findyour web  site !  a simple  equation  notbeing found = losing new customers !  we can change  that !  for only $ 119 . 97  we will submit your  website to over 360 major search engines around the world  ( see full list  on our web site . )  but  more than that  we will research the  best and most effective meta tags and keywords to use  on your web site so  that you will rise in the search enginelistings  so new  customers can find you !  don ' t lose any more customers !  let  us  professionally manage the submission of  your web site  and get  itfound and  seen on the  worlds search engines !  click onthis link  click  here !  to discover  thepower of  ? connecting  your business to the world wide web ? ",
         "1"
        ],
        [
         "27",
         "Subject: hi  how to save o improper n your medlcatlons over 70 % .  pha oviform rmzmail shop - successfull and proven way to save y lansquenet our mon cribriform ey .  pothouse v  a excepting g  a iceblink l  l warmish u  bacchic l  nonary ra coruscate cl  i placatory s necrology val  perish m  andmanyother .  * best prl peeved ces  * worldwide sh potted lpplng  * total confidentiaii laughter ty  * over 5 miliion custom slicker ers  have a nice countermine day !",
         "1"
        ],
        [
         "28",
         "Subject: 25 mg did thhe trick  ho receivable w to save on your medlcatlons over 70 % .  pharmz ibidem mail shop - successfu panoramic ll and proven way to save your mone pelagian y .  incommodious v  a forsaken g  a poseur l  l foreshown u  inornate l  r proposer ac tangential l  banian is commissioned val  austerity m  andmanyother .  * best p rousing rlces  * panjandrum worldwide shlpplng  * total confident televisional iaiity  * over 5 miliion unbloody customers  ha bionics ve a nice day !",
         "1"
        ],
        [
         "29",
         "Subject: save your money buy getting this thing here  you have not tried cialls yet ?  than you cannot even imagine what it is like to be a real man in bed !  the thing is that a great errrectlon is provided for you exactiy when you want .  cialis has a lot of advantages over viagra  - the effect lasts 36 hours !  - you are ready to start within just 10 minutes !  - you can mix it with aicohol ! we ship to any country !  get it right now ! . ",
         "1"
        ],
        [
         "30",
         "Subject: want to accept credit cards ? 126432211  aredit cpproved  no cecks  do it now  126432211",
         "1"
        ],
        [
         "31",
         "Subject: [ ilug ] seeking your partnership  dear partner to be ,  first , i must apologise to you for using this medium to communicate to you  about this project .  i am a highly placed official of government of nigeria and also a  founding member of the ruling party in power now , the peoples democratic  party ( pdp ) .  my committee - the niger delta development corporation ( nddc ) - which is in  charge of managing and supervising the disbursement of oil sales revenues  for the nigerian government . the revenues under our control runs into  several hundred of millions of dollars monthly . my self and  other colleagues in the nddc are currently in need of a foreign partner  with whose bank account we shall transfer the sum of forty nine million  five hundred thosand united states dollars ( $ 49 . 5 m ) . this fund accrued to us  as commission for oil sales contracts handled under our supervision .  the fund is presently waiting in the government account named cbn / fgn  independent revenue account number 400 - 939134 with j . p . morgan chase  bank , new york . you can do your independent verification of this . however ,  by virtue of our position as civil servants and members of the nddc , we  cannot acquire this funds in our name . this is because as top civil  servants , we are not allowed by law of the land to own or operate bank  accounts outside our country for now .  i have been delegated as a matter of trust by my colleagues ,  to look for an overseas partner in whose account we would  transfer the fund  hence the reason for this mail . we shall be transferring the money to your  account with your company as we shall present your company as a registered  foreign company in nigeria and you are been paid for a contract which you  executed for our country through the nddc and any other federal ministry  that we decide to use to siphon the funds through .  for your support and partnership , please reply me to negotiate your fees or  the percentage you wish to be paid when the funds arrive your bank account .  you must however note that this transaction , with  regards to our disposition to continue with you , is subject  to these terms . firstly , our conviction of your transparency .  secondly , that you treat this transaction with utmost secrecy  and confidentiality . finally and above all , that you will provide  an account that you have absolute control over .  the transaction , although discrete , is legitimate and there  is no risk or legal disadvantages either to ourselves or yourself now or  in the future as we have put in place perfect mchineries that will ensure  a hitch free transfer into your account upon acceptance .  the transfer will be effected to your account within ten - fourteen  ( 10 - 14 ) working days as soon as we reach an agreement and you furnish  me with a suitable bank account and company name and address with all  your contact numbers including fax number .  i am looking forward to doing business with you and do solicit  your confidentiality in this transaction , please mail your  response to me .  yours faithfully ,  anderson k . eseimoku  - -  irish linux users ' group : ilug @ linux . ie  http : / / www . linux . ie / mailman / listinfo / ilug for ( un ) subscription information .  list maintainer : listmaster @ linux . ie",
         "1"
        ],
        [
         "32",
         "Subject: [ ilug ] guaranteed to lose 10 - 12 lbs in 30 days 10 . 206  1 ) fight the risk of cancer !  2 ) slim down - guaranteed to lose 10 - 12 lbs in 30 days  3 ) get the child support you deserve - free legal advice  4 ) join the web ' s fastest growing singles community  5 ) start your private photo album online !  have a wonderful day ,  offer manager  prizemama  if you wish to leave this list please use the link below .  - -  irish linux users ' group : ilug @ linux . ie  http : / / www . linux . ie / mailman / listinfo / ilug for ( un ) subscription information .  list maintainer : listmaster @ linux . ie",
         "1"
        ],
        [
         "33",
         "Subject: re : just to her . . .  mdaemon has indentified your message as spam . it will not be delivered .  from : projecthoneypot @ projecthoneypot . org  to : s . denham @ capitalspreads . com  subject : * * * spam * * * score / req : 25 . 38 / 08 . 00 - just to her . . .  message - id :  yes , hits = 25 . 4 required = 8 . 0 tests = ab _ uri _ rbl , html _ 50 _ 60 , html _ fontcolor _ red , html _ message , mime _ html _ only , spamcop _ uri _ rbl , ws _ uri _ rbl autolearn = no version = 2 . 64  * * * * * * * * * * * * * * * * * * * * * * * * *  * 0 . 1 html _ fontcolor _ red body : html font color is red * 0 . 2 html _ 50 _ 60 body : message is 50 % to 60 % html * 0 . 1 mime _ html _ only body : message only has text / html mime parts * 0 . 0 html _ message body : html included in message * 8 . 0 spamcop _ uri _ rbl uri ' s domain appears in spamcop database at sc . surbl . org * [ bjefladghikm . extra - m . info is blacklisted in uri ] [ rbl at multi . surbl . org ] * 9 . 0 ws _ uri _ rbl uri ' s domain appears in ws database at ws . surbl . org * [ bjefladghikm . extra - m . info is blacklisted in uri ] [ rbl at multi . surbl . org ] * 8 . 0 ab _ uri _ rbl uri ' s domain appears in ab . surbl . org * [ bjefladghikm . extra - m . info is blacklisted in uri ] [ rbl at multi . surbl . org ]  : message contains [ 1 ] file attachments",
         "1"
        ],
        [
         "34",
         "Subject: ms 2003 software titles available for download  opt - in email special offer unsubscribe me search software top 10 new titles on sale now ! 1 office pro 20032 adobe photoshop 9 . 03 windows xp pro 4 adobe acrobat 7 pro 5 flash mx 20046 corel draw 127 norton antivirus 20058 windows 2003 server 9 alias maya 6 wavefrtl 0 adobe illustrator 11 see more by this manufacturer microsoft symantec adobe customers also bought these other items . . . microsoft office professional edition * 2003 * microsoftchoose : view other titles list price : $ 499 . 00 price : $ 69 . 99 you save : $ 429 . 01 ( 86 % ) availability : available for instant download ! coupon code : 3 ff 9 kuc sales rank : # 1 system requirements | other versions date coupon expires : august 31 st , 2005 average customer review : based on 15177 reviews . write a review . adobe photoshop cs 2 v 9 . 0 adobechoose : view other titles list price : $ 599 . 00 price : $ 69 . 99 you save : $ 529 . 01 ( 90 % ) availability : available for instant download ! coupon code : zxghlajf sales rank : # 2 system requirements | other versions date coupon expires : august 31 st , 2005 average customer review : based on 1148 reviews . write a review . microsoft windows xp professional or longhorn edition microsoftchoose : view other titles list price : $ 279 . 00 price : $ 49 . 99 you save : $ 229 . 01 ( 85 % ) availability : available for instant download ! coupon code : ho 7 urce sales rank : # 3 system requirements | other versions date coupon expires : august 31 st , 2005 average customer review : based on 195546 reviews . write a review . adobe acrobat professional v 7 . 0 adobechoose : view other titles list price : $ 499 . 00 price : $ 69 . 99 you save : $ 429 . 01 ( 85 % ) availability : available for instant download ! coupon code : pl 92 bohsg sales rank : # 4 system requirements | other versions date coupon expires : august 31 st , 2005 average customer review : based on 156489 reviews . write a review .",
         "1"
        ],
        [
         "35",
         "Subject: failure notice  hi . this is the qmail - send program at gigas . keys . be .  i ' m afraid i wasn ' t able to deliver your message to the following addresses .  this is a permanent error ; i ' ve given up . sorry it didn ' t work out .  :  this address no longer accepts mail .  - - - below this line is a copy of the message .  return - path :  received : ( qmail 10006 invoked from network ) ; 19 jul 2005 10 : 57 : 35 - 0000  received : from unknown ( helo mailwisconsin . com ) ( 220 . 162 . 170 . 32 )  by gigas . keys . be with smtp ; 19 jul 2005 10 : 57 : 35 - 0000  received : from 205 . 214 . 42 . 66  ( squirrelmail authenticated user projecthoneypot @ projecthoneypot . org ) ;  by mailwisconsin . com with http id j 87 gzo 24815823 ;  tue , 19 jul 2005 10 : 57 : 46 + 0000  message - id :  date : tue , 19 jul 2005 10 : 57 : 46 + 0000  subject : just to her . . .  from : \" barry castillo \"  to : info @ deboel . net  user - agent : squirrelmail / 1 . 4 . 3 a  x - mailer : squirrelmail / 1 . 4 . 3 a  mime - version : 1 . 0  content - type : text / html ; charset = iso - 8859 - 1  content - transfer - encoding : 8 bit  x - priority : 3 ( normal )  importance : normal  soft viagra at $ 1 . 62 per dose  ready to boost your sex life ? positive ?  time to do it right now !  order soft viagra at incredibly low prices  starting at $ 1 . 99 per dose ! unbeiivable !",
         "1"
        ],
        [
         "36",
         "Subject: claim your free $ 1000 home depot gift card .  claim your home depot gift card - a $ 1000 value . were sure you can find a use for this gift card in your area . ( ) .  by exclusiverewards  udexhoyp",
         "1"
        ],
        [
         "37",
         "Subject: perfect logo charset = koi 8 - r \" >  thinking of breathing new life into your business ?  start from revamping its front - end - logo and visual identity .  logodentity offers creative custom design of ioqos ,  stationery and web - sites . under our carefui hand these powerful marketing toois  wiil brinq a breath of fresh air into your business  and make you stand out amonq the competitors .  you are just a click  away from your future success . ciick here to see the sampies of our artwork ,  check our prices and hot offers",
         "1"
        ],
        [
         "38",
         "Subject: branded softs  roxio easy media creator 7 . 0 - $ 19 . 95  http : / / broadcasters . wxget . com /  i sing all kinds .  when a man cannot choose he ceases to be a man .  the more minimal the art , the more maximum the explanation .",
         "1"
        ],
        [
         "39",
         "Subject: extra time - last 5 - 10 times longer  hello ,  did you ejaculate before or within a few minutes of  penetration ?  premature ejaculation occurs when you ejaculate too quickly  and without control . it occurs before or shortly after  penetration . premature ejaculation interferes with the sexual  pleasure of both you and your partner . it causes feelings of  guilt , embarrassment , frustration , and depression .  extra - time is the only male sexual performance formula that ,  not only stops premature ejaculation , but actually \" cures \" it .  extra - time is the only product that allows \" you \" to control  when you ejaculate .  - non - hormonal herbal therapy .  - acts locally on the sex organs .  - regulates process of ejaculation .  - acts through neuro - endocrine pathway .  - acts on the high centers of emotion in the brain .  look here : http : / / tabboulehs . net / et / ? meds  no thanks : http : / / tabboulehs . net / rr . php",
         "1"
        ],
        [
         "40",
         "Subject: get the best price on your next car !  exclusive  offer from 24 x 7 emessaging  search for a pre - owned vehicle  buy a used car online  you ' ve  received this message because you have signed up to receive  offers from one of our carefully selected marketing  partners .  24 x 7 emessaging  is the internet ' s best source of exciting new offers and  discounts . if you no longer wish to receive these offers ,  please follow the unsubscribe instructions at the bottom .  to  unsubscribe from our mailing list , please  click  here ",
         "1"
        ],
        [
         "41",
         "Subject: bro check out this awesome new product  wish you could be better ?  http : / / www . gretan . com / ss /  a cheerful mind is a vigorous mind .  war is god ' s way of teaching americans geography .  all human power is a compound of time and patience .  strive for excellence , not perfection .  if you ' re killed , you ' ve lost a very important part of your life .",
         "1"
        ],
        [
         "42",
         "Subject: hidden gems help get a leg up on the market  homeland security investments  the terror attacks on the united states on september 11 , 2001 have  changed  the security landscape for the foreseeable future . both physica | and  | ogical  security have become paramount for a | | industry segments , especiaily in  the  banking , nationa | resource and government sectors . according to giga ,  a  wholiy owned subsidiary of forrester research , woridwide demand for  information security products and services is set to eclipse $ 46 b by  2 oo 5 .  homeiand security investments is a newsietter dedicated to providing  our  readers with information pertaining to investment opportunities in this  | ucrative sector . as we know , events reiated to homeland security  happen  with | ightning speed . what we as investors can do is position  ourselves in  such a way as to take advantage of the current trends and be ready to  capitalize on events which have yet to happen . homeland security  investments is here to heip our readers do just that .  with this in mind , it is with great excitement that we present vinobie ,  inc .  this stock is expected to do big things in both the near and long  terms .  symbol : vnbl . ob  current price : 0 . 08  short term target price : o . 35  12 month target price : 1 . 2 o  * * * why we beiieve vnbl . ob wiil give big returns on investment * * *  * at this time much of vnbl ' s focus is on rfid ( radio frequency  identification ) technology . this is technology which uses tiny sensors  to  transmit information about a person or object wirelessly .  * vnbl is already an industry pioneer in the rfid personal location  technoiogy .  * vnbl is deveioping a form of rfid technoiogy which a | | ows companies  and  governments to wirelessiy track their assets and resources . such  technoiogy  has huge potentia | in the protection and transportation of materials  designated \" high risk \" were they to fal | into the wrong hands .  * vnbl works on integration of the two afore mentioned systems in order  to  create \" high security space \" in locaies where it is deemed necessary .  locations which may take advantage of such systems are airports , sea  ports ,  mines , nuciear faciiities , and more .  * as with all stocks , news drives the short term price . fresh news has  made vnbl a hot buy .  news on vnbl  malibu , calif . - - ( business wire ) - - june 16 , 2005 - - vinoble , inc .  ( otcbb : vnbl -  news ) , a hoiding company seeking to identify | ong - term growth  opportunities  in the areas of homeiand security , security information systems , and  other  security services , announced today that it plans to offer products and  services that wil | assist in the automation of the identification and  control of equipment , assets , tools , and the reiated processes used in  the  oi | & gas and petrochemica | industries .  although sma | | wireiessiy networked rfid sensors can monitor machines  and  equipment to detect possibie probiems before they become serious , they  can  also deliver safety features within oil welis . oi | maybe trapped in  different | ayers of rock , along with gas and water . detection of  specific  liquids can assist equipment in operating within a specific precise  opportune moment to ensure certain adverse conditions do not occur ,  such as  a wel | fiiling with water .  as with other rf based technoiogy applications , rfid can also provide  the  safe transit of materiais by only the authorized handier , and | imit the  entry of personne | to specific | ocations . ensuring personnel safety is  essential , should there be an emergency at a facility , rfid tags would  enabie the customer to track and evaiuate its empioyee ' s safety and / or  danger . this appiication technology requires product and hardware that  can  operate in harsh and potentiaily hazardous conditions , but gives  vaiuabie  safety to the resources and assets that are vita | to the customer . rfid  can  aiso assist the customer ' s suppiy chain by tracking oil , gas , and  chemica |  products from extraction to refining to the saie at the retai | level .  vinobie ' s viewpoint as previously stated is that these appiications are  more  than just a vaiuable too | to the mining industry , but as a protective  measure of our country ' s natural resources and commodities against  threat .  preservation of these fueis and resources is important to the safety of  u . s .  industry and economy .  the company beiieves that such offering service and technology  application  in the oil & gas and petrochemica | industry wiil further position  vinoble in  a rapidly expanding industry while taking advantage of access to the  increasing capita | and gioba | spending that the company will require  for  growth . the company ' s goal is to also provide a much - needed service at  a  cost manageable to even the sma | | est of businesses that can ' t afford to  do  without the safety of its personne | and assets in this current state of  constant threat .  this is outstanding news . the growth potentia | for this company is  exceptiona | . in an already hot industry , vnbl . ob stands out as a truiy  innovative pioneer . we see big things happening to this stock .  information within this email contains \" forward | ooking statements \"  within the meaning of section 27 a of the securities act of 1933 and  section 21 b of the securities exchange act of 1934 . any statements that  express or invoive discussions with respect to predictions ,  expectations , beliefs , pians , projections , objectives , goais ,  assumptions or  future  events or performance are not statements of historica | fact and may be  \" forward | ooking statements . \" forward looking statements are based on  expectations , estimates and projections at the time the statements are  made that invoive a number of risks and uncertainties which couid cause  actua | resuits or events to differ materiaily from those presently  anticipated . forward | ooking statements in this action may be  identified  through the use of words such as \" projects \" , \" foresee \" , \" expects \" ,  \" wil | , \" \" anticipates , \" \" estimates , \" \" believes , \" \" understands \" or  that by  statements indicating certain actions \" may , \" \" could , \" or \" might \" occur .  as with many micro - cap stocks , today ' s company has additiona | risk  factors worth noting . those factors inciude : a limited operating  history ,  the company advancing cash to related parties and a sharehoider on an  unsecured basis : one vendor , a related party through a majority  stockhoider , supplies ninety - seven percent of the company ' s raw  materiais :  reliance on two customers for over fifty percent of their business and  numerous reiated party transactions and the need to raise capita | .  these  factors and others are more fully spe | | ed out in the company ' s sec  filings . we urge you to read the filings before you invest . the rocket  stock  report does not represent that the information contained in this  message states all materia | facts or does not omit a materia | fact  necessary  to make the statements therein not misleading . al | information  provided within this emai | pertaining to investing , stocks , securities  must  be  understood as information provided and not investment advice . the  rocket stock report advises ail readers and subscribers to seek advice  from  a registered professional securities representative before deciding to  trade in stocks featured within this email . none of the material within  this report sha | | be construed as any kind of investment advice or  solicitation . many of these companies are on the verge of bankruptcy .  you  can lose a | | your money by investing in this stock . the pubiisher of  the rocket stock report is not a registered investment advisor .  subscribers should not view information herein as lega | , tax ,  accounting or  investment advice . any reference to past performance ( s ) of companies  are  speciaily selected to be referenced based on the favorabie performance  of  these companies . you would need perfect timing to achieve the results  in the examples given . there can be no assurance of that happening .  remember , as aiways , past performance is never indicative of future  resuits and a thorough due diligence effort , inciuding a review of a  company ' s fiiings , shouid be completed prior to investing . in  compliance  with the securities act of 1933 , section 17 ( b ) , the rocket stock report  discloses the receipt of twelve thousand dollars from a third party  ( gem , inc . ) , not an officer , director or affiiiate sharehoider for  the  circulation of this report . gem , inc . has a position in the stock  they  wiil sel | at any time without notice . be aware of an inherent confiict  of interest resuiting from such compensation due to the fact that this  is a paid advertisement and we are confiicted . ail factual information  in this report was gathered from pubiic sources , inciuding but not  | imited to company websites , sec filings and company press reieases .  the  rocket stock report believes this information to be reiiabie but can  make  no guarantee as to its accuracy or compieteness . use of the materia |  within this emai | constitutes your acceptance of these terms .",
         "1"
        ],
        [
         "43",
         "Subject: 10 minutes before sex , lasts for 24 - 36 hours  legal , prescription medications under the essential guidance of licensed medical  under every stone lurks a politician .  experience is the name everyone gives to their mistakes .  without music , life would be a mistake .",
         "1"
        ],
        [
         "44",
         "Subject: wish you could be better ?  penis growth extreme  http : / / www . siratu . com / ss /  cruelty is like hope : it springs eternal .  amusement is the happiness of those who cannot think .  to each his own . ( suum cuique )  always forgive your enemies ; nothing annoys them so much .  bad news goes about in clogs , good news in stockinged feet .",
         "1"
        ],
        [
         "45",
         "Subject: 1000 full color brochures 335  the tsa design products & ideas expo show is just around the corner and if you are going to be an exhibitor you will need something to hand out to your prospective customers . wiley printing wants to help you do that by offering great prices on quality print collateral . here are a few examples :  1 , 000 business cards for $ 55 - full color , uv coated with 14 pt . paper stock  1 , 000 postcards for $ 150 - full color , uv coated with 14 pt . paper stock  1 , 000 brochures for $ 335 - full color , two sided 100 # gloss text  if you are interested in any of these offers or if you are looking for something a little different please contact us through one of the methods below .  wiley print  4650 cole ave # 105  dallas , tx 75205  214 . 443 . 0908 phone  214 . 443 . 0308 fax  info @ wileyprint . com  note : this is the first and last time wiley print will ever send you an email . however , if you would like to opt out please reply to this email with remove me in the subject line .",
         "1"
        ],
        [
         "46",
         "Subject: search for the best and cheapest pharmacy online  save 80 % over the brandnames like viagra , cialis and propecia  anatomy is destiny .  oh , what a dear ravishing thing is the beginning of an amour !  it is not every question that deserves an answer .",
         "1"
        ],
        [
         "47",
         "Subject: failure notice  hi . this is the qmail - send program at mail - 03 . cdsnet . net .  i ' m afraid i wasn ' t able to deliver your message to the following addresses .  this is a permanent error ; i ' ve given up . sorry it didn ' t work out .  :  sorry , i couldn ' t find any host named bb . internetcds . com . ( # 5 . 1 . 2 )  - - - below this line is a copy of the message .  return - path :  received : ( qmail 50355 invoked by alias ) ; 19 jul 2005 10 : 58 : 51 - 0000  delivered - to : nic - notify @ internetcds . com  received : ( qmail 50352 invoked from network ) ; 19 jul 2005 10 : 58 : 51 - 0000  received : from unknown ( helo localhost ) ( 127 . 0 . 0 . 1 )  by mail - 03 . cdsnet . net with smtp ; 19 jul 2005 10 : 58 : 51 - 0000  received : from mail - 03 . cdsnet . net ( [ 127 . 0 . 0 . 1 ] )  by localhost ( mail - 03 . cdsnet . net [ 127 . 0 . 0 . 1 ] ) ( amavisd - new , port 10024 )  with smtp id 46679 - 09 for ;  tue , 19 jul 2005 03 : 58 : 51 - 0700 ( pdt )  received : ( qmail 50346 invoked from network ) ; 19 jul 2005 10 : 58 : 50 - 0000  received : from yahoobb 220056020109 . bbtec . net ( helo mailwisconsin . com ) ( 220 . 56 . 20 . 109 )  by mail - 03 . cdsnet . net with smtp ; 19 jul 2005 10 : 58 : 50 - 0000  received : from 205 . 214 . 42 . 66  ( squirrelmail authenticated user projecthoneypot @ projecthoneypot . org ) ;  by mailwisconsin . com with http id j 87 gzo 09360462 ;  tue , 19 jul 2005 10 : 57 : 46 + 0000  message - id :  date : tue , 19 jul 2005 10 : 57 : 46 + 0000  subject : just to her . . .  from : \" barry castillo \"  to : nic - notify @ internetcds . com  user - agent : squirrelmail / 1 . 4 . 3 a  x - mailer : squirrelmail / 1 . 4 . 3 a  mime - version : 1 . 0  content - type : text / html ; charset = iso - 8859 - 1  content - transfer - encoding : 8 bit  x - priority : 3 ( normal )  importance : normal  x - virus - scanned : by amavisd - new at internetcds . com  soft viagra at $ 1 . 62 per dose  ready to boost your sex life ? positive ?  time to do it right now !  order soft viagra at incredibly low prices  starting at $ 1 . 99 per dose ! unbelivabie !",
         "1"
        ],
        [
         "48",
         "Subject: claim your free home depot gift card - a $ 1000 value .  claim your home depot gift card - a $ 1000 value . were sure you can find a use for this gift card in your area . ( ) .  by exclusiverewards  qprkelmv",
         "1"
        ],
        [
         "49",
         "Subject: breaking biotech news  hey , i thought you might want to take a look at gtha  could genethera become the next darling of biotech ' as they announce collaborations with industry giant beckman coulter ?  breaking biotech news :  genethera inc . to collaborate with biotech giant beckman coulter inc .  - genethera news release july 11 th , 2005 .  genethera inc . ( otc . bb : gtha ) a molecular biotech company located in wheat ridge , co . granted first right of refusal to beckman coulter , inc . ( nyc : bec $ 63 . 34 ) to license genethera ' s patented technology for developing live - animal ' genetic diagnostic tests .  this is a significant milestone for genethera . beckman coulter is one of the world ' s leading manufacturers of biomedical testing systems , tests and supplies . our collaboration will unite the expertise of beckman coulter with the cutting edge technology of genethera .  - dr . antonio milici , m . d . , ph . d . genethera inc .  genethera provides genetic diagnostic solutions for the veterinary and agricultural industries with future plans to include the healthcare industry . the company was formed to realize the commercial potential of molecular diagnostic assays using roche ' s f - pcr technology to detect the presence of infectious disease from the blood of animals , particularly live animals . this platform enables  genethera to offer tests that are presently not available from any other technology . future plans include all infectious disease potentially affecting domesticated livestock as well as wildlife intended for human consumption with priority being given to mad cow , johne ' s and foot and mouth diseases in cattle . genethera has successfully developed the ability to detect both mad cow disease and chronic wasting disease ( cwd ) also known as mad deer or elk .  free information reguarding stocks !  e - mail  first name  last name  phone number  view full report  view full report  company : genethera inc .  symbol : gtha  exchange : otc . bb  recent price : $ 0 . 90  outstanding shares : 21 mil website : www . genethera . net  prior to the 1 st case of mad cow , u . s . beef exports in 2003 in the us were valued at near $ 6 billion . most of the export dollars have since been lost with the international us beef ban imposed in 2004 .  over 90 million cattle are in feedlots in the u . s .  over 35 million cattle have been slaughtered in the u . s . annually  beckman coulter , inc . is a leading manufacturer of biomedical testing instrument  systems , tests and supplies that simplify and automate laboratory processes . spanning the biomedical testing continuum - - from pioneering medical research and clinical trials to laboratory diagnostics and point - of - care testing - - beckman coulter ' s 200 , 000 installed systems provide essential biomedical information to enhance health care around the world . the company , based in fullerton , calif . , reported 2004 annual sales of $ 2 . 4 billion with 64 percent of this amount generated by recurring revenue from supplies , test kits and services . for more information , visit www . beckmancoulter . com .  we are looking forward to working with genethera to identify commercial applications of their technology .  - chris neary , general manager , prion business center , beckman coulter , inc .  in most countries around the globe , the discovery of a cow with mad cow disease ' leads to the immediate slaughter of hundreds , even thousands of cattle out of wide spread fear of disease spread and the need to complete disease testing on the dead animals . costly international beef recalls ' are common since mad cow ' testing ( until now ) has only been conducted after the slaughter process . genethera ' s live animal ' blood test could lead to halting of mass slaughters and widespread panic , while saving the industry hundreds of millions of dollars each year .  through the testing of a single blood sample , genethera could end the need to slaughter entire herds of cattle and other animals for disease testing - saving the industry hundreds of millions of dollars each year .  currently funded by an institutional money manager in southern california , genethera has plans to open laboratories worldwide to meet this exploding bse testing demand .  you want to invest in the dna revolution ? don ' t wait for customized drugs , which are years away . buy shares in a company using dna for diagnostic work .  forbes - good genes , kerry a . dolan , may 16 , 2005  new patented tests created with information gleaned from genome mapping have injected new life and higher margins ( near 75 % ) into the business . the $ 2 . 5 billion molecular diagnostics industry is expanding at a 15 % annual rate , according to consulting firm leomics associates of emerson , n . j .  genethera ( gtha ) : making their mark in biotech  genethera has just recently teamed up with biotech giant beckman coulter inc .  they are the first to market with a blood test for mad cow disease on live cattle  they have the ability to detect numerous infectious diseases utilizing genetic methods from the blood of a live animal  they are the first to market with a blood test for detecting cwd  they are presently developing a therapeutic vaccine for cwd and mad cow disease using rna interference technology  they are currently developing a blood test using the same platform for breast and prostate cancer detection with their strategic partner xpng ( xpention genetics inc . )  genethera could end beef recalls ' and potentially the slaughter of millions of animals around the globe while saving the industry hundreds of millions of dollars each year  currently funded by an institutional money manager in southern california , genethera has plans to open laboratories worldwide to handle this growing bse testing demand .  genethera could generate revenues over $ 13 million for every 1 % of cattle tested in the usa alone  international testing figures would be staggering .  genethera technology :  genethera ' s business is based on its integrated technology platform ( itp ) that combines a proprietary diagnostic solution called gene expression assay ( gea ( tm ) ) with purivax ( tm ) , its system for analyzing large - scale dna sequencing .  the first part of this platform is the ongoing development of molecular diagnostic assays solutions using real time fluorogenic polymerase chain reaction ( f - pcr ) technology to detect the presence of infectious disease from the blood of live animals . the second part of the itp is the development of therapeutic vaccines using rna interference technology . it also allows for the efficient , effective , and continuous testing , management and treatment of animal populations . these facts distinguish the technology from any alternative testing and management methodology available to agriculture today - - all of which require the destruction of individual animals and even entire herds . our testing and data analysis processes also allow us not only to separate infected from clean animals , but also to gain knowledge vital to development of preventative vaccines .  genethera inc . is committed to providing global access to cutting edge biotechnology services to fellow scientists in academia , the pharmaceutical industry , and the biotechnology industry . primarily , genethera ' s expertise focuses on technology relevant to animal and human immunotherapy . genethera is dedicated to furnishing dependable , high quality , cost - effective and prompt client consulting services . these services are backed by the cumulative experiences of greater than 100 years of research and development in both government and industry by genethera ' s senior scientists . genethera develops a commercial - scale implementation of adenovector purification process to support rd material production . furthermore , genethera evaluates and tests commercially available expression vectors and incorporates them into its vector repertoire . these technologies are well established within the repertoire of genethera ' s scientific staff .  genethera can uniquely detect and treat a variety of diseases in animals while they are still alive .  the company provides genetics - based diagnostic and vaccine solutions to meet the growing demands of today ' s veterinary industry and tomorrow ' s agriculture and healthcare industries . the company is organized and operated both to continually apply its scientific research to more effective management of diseases and , in so doing , realize the commercial potential of molecular biotechnology .  the core of genethera ' s operation is the ongoing development of molecular diagnostic assays using real time fluorogenic polymerase chain reaction . ( f - pcr ) technology uses live animal blood to detect the presence of infectious diseases and for the development of vaccines for such blood born diseases . it also allows for the efficient , effective , and continuous testing , management and treatment of animal populations . these facts distinguish the technology from any alternative testing and management methodology available to agriculture today - - all of which require the destruction of individual animals and even entire herds . our testing and data analysis processes also allow us not only to separate infected from clean animals , but also to gain knowledge vital to development of preventative vaccines .  to date , genethera has successfully developed the assay ability to detect mad cow and chronic wasting disease , a disease affecting elk and deer in north america . diagnostic assays for e . coli ol 57 : h 7 and johnne ' s disease are in the final stages of development . vaccines for e . coli ol 57 : h 7 and johnne ' s disease , both of which are diseases affecting cattle , are in advanced stages of development . in the future , the company plans to expand assay application research to a wide range of diseases / animals , the immediate targets being mad cow , hoof mouth , west nile and newcastle .  genethera can detect bse using the companies patented live animal blood test that evaluates the e . d . r . f . gene sequence . the e . d . r . f . gene is proven to decrease dramatically before any tse infection is noticeable in a live animal or human . the patent gtha holds is broad based and can detect all tse diseases including mad cow ( bse ) in cattle , cwd in elk deer and creutzfeld - jacobs in humans  the company ' s patented test can detect these diseases faster than any other method developed in the marketplace and at far less a cost . the test can also be used on a mass scale using roche f - pcr , dna analyzing robotics equipment . genethera can analyze over 2000 blood samples a day with one f - pcr machine and a single technician . the project will prove highly profitable at approx $ 4 . 00 per test when wide scale commercialization is under way .  a multi - billion dollar , international demand for commercial mad cow testing has emerged around the globe .  japan conducted 3 million post - mortem rapid mad cow tests last year alone . they used the western blot developed by prionics ag in swizterland and bio - rad ' s rapid test . costs are between $ 20 and $ 40 dollars per test . most importantly , other tests in the marketplace cannot detect the disease until the animal has been killed . testing through post - mortem brain tissue exams is extremely labor intensive and costly .  japan spent between $ 60 million - $ 120 million on 3 million post mortem rapid mad cow tests in 2004 .  genethera ' s simple blood test can be collected using their patented field collection system . the sample is then mailed to the lab for testing . the company also stated in their recent 10 k that they are currently in negotiations with strategic testing partners that we believe will absorb the costs of commercializing our live animal mad cow test .  management :  dr . tony milici - chairman of the board , president ceo  dr . milici is a ph . d . in experimental hematology and m . d . in medicine and surgery , receiving degrees from university of rome ( italy ) and stanford university . his specialties include : molecular biology / biotechnology , gene therapy / molecularly oncology and molecular . he has had extensive post - graduate training that includes a fellowship in the department of clinical immunology with the university of texas m . d . anderson cancer center and visiting fellow at university of rome ' s laboratory of cellular immunology and biochemistry . among his post - graduate activities , dr . milici was an assistant professor at the medical college of georgia ' s department of pharmacology toxology as well as an assistant biochemist in the department of molecular pathology at the university of texas m . d . anderson cancer center in houston , tx . prior to founding genethera , inc . , dr . milici was president ceo of genetrans , inc . based in augusta , ga . , a diagnostics laboratory . for dr . milici , genethera is a realization of an ambition to demonstrate the commercial potential of molecular biotechnology .  dr . thomas j . slaga - board member  dr . slaga is a ph . d . in physiology and biophysics with undergraduate degrees in biology / chemistry . since 1999 , dr . slaga has served as an adjunct professor in the department of biochemistry molecular biology at university of colorado ' s health sciences center located in denver , co . dr . slaga ' s career is steeped in research and development roles and affiliations concentrating on cancer . examples include : chair / scientific director for cancer causation and prevention , the amc cancer research center located in denver , co ; director , professor of biochemistry at the university of texas m . d . anderson cancer center ( science park - research division ) located in smithville , tx ; and group leader and research staff member , skin carcinogenesis and tumor promotion , biology division of the oak ridge national laboratory in oak ridge , tn . dr . slaga ' s blend of scientific and management experience lends to genethera ' s board an important dimension vis - - vis its development opportunities .  mr . richard w . bryans , jr . - board member - general counsel  mr . bryans is an attorney at law in denver , co . a graduate of regis university in business administration / economics , mr . bryans went on to graduate from the university of denver college of law and has been practicing law in denver for over 12 years . mr . bryans provides the genethera board with the much - valued legal perspective to benefit a young , publicly traded company . additionally , the company will be able to take advantage of mr . bryans ' legal experience in the important area of vaccine licensing that is integral to the future of genethera .  to join market movers mailings click here to find out more .  tw inc .  4636 hidden forest dr .  sarasota fl , 32430  disclaimer :  this publicly distributed email report of otc special situations report , a publication of otc growth stock watch , is a sponsored advertisement . this paid advertising issue of otc growth stock watch does not purport to provide an analysis of any company ' s financial position and is not in any way to be construed as an offer or solicitation to buy or sell any security . otc growth stock watch is a paid advertiser . xpention genetics inc . is the featured company . the distribution costs of this report to new subscribers , eighty thousand dollars were funded by tw inc . in an effort to create investor awareness of xpention genetics , inc . tw inc . is not a broker - dealer nor are they an investment advisor . market movers , otc growth stock watch , otc special situations report , nor is geoffrey eiten to be considered a broker - dealer though they are investment advisors . it is anticipated that this report will generate new subscriptions for growth stock watch . neither otc growth stock watch nor geoffrey eiten , the reviewer [ or analyst ] , received any compensation for this report , but both expect to receive an unknown amount of revenue from new subscriptions from the subscription offer contained herein . this report , including the opinions expressed and the statements made within , is for informational and advertising purposes only and should not be construed as investment advice and do not constitute an offer to sell any securities , and it is not soliciting an offer to buy any securities in any state or other jurisdiction where the offer or sale is not permitted . readers should consult with their own professional investment , tax and portfolio advisors before making any investment decision and should independently verify all information herein . the information used to prepare this report is believed to be from reliable sources , but no representation is made as to the accuracy or completeness of such information . investment in securities carries a high degree of risk and involves risks and uncertainties which may result in investors ' losing all of their invested capital . past performance does not guarantee future results . the information contained herein contains forward - looking statements , within the meaning of section 27 a of the securities act of 1933 and section 21 e of the securities exchange act of 1934 . forward - looking statements are based upon expectations , estimates and projections at the time the statements are made and involve risks and uncertainties that could cause actual events to differ materially from those anticipated . forward - looking statements may be identified through the use of words such as expects , will , anticipates , estimates , believes , or by statements indicating certain actions may , could , should , or might occur . any statements that express or involve predictions , expectations , beliefs , plans , projections , objectives , goals or future events or performance may be forward - looking statements . factors that could cause actual results to differ materially include but are not limited to adverse economic conditions , intense competition , lack of meaningful research results , inadequate capital , termination of contracts or agreements , adverse publicity and news coverage , inability to carry out research , development and commercialization plans , loss or retirement of key executives and research scientists , and other risks detailed in the company ' s reports filed with the securities and exchange commission . more complete information about xpention genetics , inc . is available from the website of the securities and exchange commission , at http : / / www . sec . gov , and copies of its filings may be read without charge at and copies obtained at prescribed rates from the public reference facilities of the commission , at 450 fifth street , nw , washington , dc 20549 .  media matrix 7025 county rd . , 46 a dte 1071 # 349 lake mary , fl 32746 this e - mail message is an advertisement and / or solicitation . ",
         "1"
        ]
       ],
       "shape": {
        "columns": 2,
        "rows": 5728
       }
      },
      "text/html": [
       "<div>\n",
       "<style scoped>\n",
       "    .dataframe tbody tr th:only-of-type {\n",
       "        vertical-align: middle;\n",
       "    }\n",
       "\n",
       "    .dataframe tbody tr th {\n",
       "        vertical-align: top;\n",
       "    }\n",
       "\n",
       "    .dataframe thead th {\n",
       "        text-align: right;\n",
       "    }\n",
       "</style>\n",
       "<table border=\"1\" class=\"dataframe\">\n",
       "  <thead>\n",
       "    <tr style=\"text-align: right;\">\n",
       "      <th></th>\n",
       "      <th>text</th>\n",
       "      <th>spam</th>\n",
       "    </tr>\n",
       "  </thead>\n",
       "  <tbody>\n",
       "    <tr>\n",
       "      <th>0</th>\n",
       "      <td>Subject: naturally irresistible your corporate...</td>\n",
       "      <td>1</td>\n",
       "    </tr>\n",
       "    <tr>\n",
       "      <th>1</th>\n",
       "      <td>Subject: the stock trading gunslinger  fanny i...</td>\n",
       "      <td>1</td>\n",
       "    </tr>\n",
       "    <tr>\n",
       "      <th>2</th>\n",
       "      <td>Subject: unbelievable new homes made easy  im ...</td>\n",
       "      <td>1</td>\n",
       "    </tr>\n",
       "    <tr>\n",
       "      <th>3</th>\n",
       "      <td>Subject: 4 color printing special  request add...</td>\n",
       "      <td>1</td>\n",
       "    </tr>\n",
       "    <tr>\n",
       "      <th>4</th>\n",
       "      <td>Subject: do not have money , get software cds ...</td>\n",
       "      <td>1</td>\n",
       "    </tr>\n",
       "    <tr>\n",
       "      <th>...</th>\n",
       "      <td>...</td>\n",
       "      <td>...</td>\n",
       "    </tr>\n",
       "    <tr>\n",
       "      <th>5723</th>\n",
       "      <td>Subject: re : research and development charges...</td>\n",
       "      <td>0</td>\n",
       "    </tr>\n",
       "    <tr>\n",
       "      <th>5724</th>\n",
       "      <td>Subject: re : receipts from visit  jim ,  than...</td>\n",
       "      <td>0</td>\n",
       "    </tr>\n",
       "    <tr>\n",
       "      <th>5725</th>\n",
       "      <td>Subject: re : enron case study update  wow ! a...</td>\n",
       "      <td>0</td>\n",
       "    </tr>\n",
       "    <tr>\n",
       "      <th>5726</th>\n",
       "      <td>Subject: re : interest  david ,  please , call...</td>\n",
       "      <td>0</td>\n",
       "    </tr>\n",
       "    <tr>\n",
       "      <th>5727</th>\n",
       "      <td>Subject: news : aurora 5 . 2 update  aurora ve...</td>\n",
       "      <td>0</td>\n",
       "    </tr>\n",
       "  </tbody>\n",
       "</table>\n",
       "<p>5728 rows × 2 columns</p>\n",
       "</div>"
      ],
      "text/plain": [
       "                                                   text  spam\n",
       "0     Subject: naturally irresistible your corporate...     1\n",
       "1     Subject: the stock trading gunslinger  fanny i...     1\n",
       "2     Subject: unbelievable new homes made easy  im ...     1\n",
       "3     Subject: 4 color printing special  request add...     1\n",
       "4     Subject: do not have money , get software cds ...     1\n",
       "...                                                 ...   ...\n",
       "5723  Subject: re : research and development charges...     0\n",
       "5724  Subject: re : receipts from visit  jim ,  than...     0\n",
       "5725  Subject: re : enron case study update  wow ! a...     0\n",
       "5726  Subject: re : interest  david ,  please , call...     0\n",
       "5727  Subject: news : aurora 5 . 2 update  aurora ve...     0\n",
       "\n",
       "[5728 rows x 2 columns]"
      ]
     },
     "execution_count": 36,
     "metadata": {},
     "output_type": "execute_result"
    }
   ],
   "source": [
    "data\n"
   ]
  },
  {
   "cell_type": "code",
   "execution_count": 37,
   "id": "54218f3d",
   "metadata": {},
   "outputs": [],
   "source": [
    "def process_text(text):\n",
    "    text = text.lower()[9:]\n",
    "    sentence = re.sub(r'[^a-zA-Z\\s]+','',text)\n",
    "    tokens = re.split(r'[,\\s]+',sentence)\n",
    "    tokens = [sst.stem(w) for w in tokens if w not in sw]\n",
    "\n",
    "    return ' '.join(tokens)"
   ]
  },
  {
   "cell_type": "code",
   "execution_count": 38,
   "id": "e5d5e3fb",
   "metadata": {},
   "outputs": [],
   "source": [
    "data['text'] = data['text'].apply(process_text)"
   ]
  },
  {
   "cell_type": "code",
   "execution_count": 39,
   "id": "931d24ba",
   "metadata": {},
   "outputs": [
    {
     "data": {
      "application/vnd.microsoft.datawrangler.viewer.v0+json": {
       "columns": [
        {
         "name": "index",
         "rawType": "int64",
         "type": "integer"
        },
        {
         "name": "text",
         "rawType": "object",
         "type": "string"
        }
       ],
       "ref": "bf4ecf5a-aa98-455b-a62b-5c1882cb0994",
       "rows": [
        [
         "0",
         "natur irresist corpor ident lt realli hard recollect compani market full suqgest inform isoverwhelminq good catchi logo stylish statloneri outstand websit make task much easier promis havinq order iogo compani automaticaili becom world ieader isguit ciear without good product effect busi organ practic aim hotat nowaday market promis market effort becom much effect list clear benefit creativ hand made origin logo special done reflect distinct compani imag conveni logo stationeri provid format easi use content manag system letsyou chang websit content even structur prompt see logo draft within three busi day afford market break make gap budget satisfact guarante provid unlimit amount chang extra fee surethat love result collabor look portfolio interest "
        ],
        [
         "1",
         "stock trade gunsling fanni merril muzo colza attaind penultim like esmark perspicu rambl segovia group tri slung kansa tanzania yes chameleon continu clothesman libretto chesapeak tight waterway herald hawthorn like chisel morristown superior deoxyribonucl clockwork tri hall incred mcdougal yes hepburn einsteinian earmark sapl boar duan plain palfrey inflex like huzzah pepperoni bedtim nameabl attir tri edt chronographi optima yes pirogu diffus albeit "
        ],
        [
         "2",
         "unbeliev new home made easi im want show homeown pre approv home loan fix rate offer extend uncondit credit way factor take advantag limit time opportun ask visit websit complet minut post approv form look foward hear dorca pittman"
        ],
        [
         "3",
         " color print special request addit inform click click printabl version order form pdf format phone fax e mail ramsey goldengraphix com request addit inform click click printabl version order form pdf format golden graphix print azusa canyon rd irwindal ca e mail messag advertis solicit "
        ],
        [
         "4",
         "money get softwar cds softwar compat great grow old along best yet tradgedi finish death comedi end marriag "
        ],
        [
         "5",
         "great nnew hello welcom medzonlin sh groundsel op pleas introduc one iead onlin phar felicit maceuticai shop helter v shakedown r cosmopolitan l l blister l l bestow ag ac tosher l coadjutor va confid um andmanyoth sav inexpi e total confid leisur ntiaiiti worldwid polit hlpplng ov allus er miilion custom countri devit nice day "
        ],
        [
         "6",
         "hot play motion homeland secur invest terror attack unit state septemb ol chang secur landscap forese futur physic ogica secur becom paramount industri segment especia bank nationa resourc govern sector accord giga own subsidiari forrest research woridwid demand inform secur product servic set eclips b homeiand secur invest newsiett dedic provid reader inform pertain invest opportun lucrat sector know event relat homeland secur happen lightn speed investor posit way take advantag current trend readi capit event yet happen homeland secur invest heip reader mind great excit present vinobl inc stock expect big thing near ong term symbol vnbl ob current price short term target price month target price believ vnbl ob give big return invest time much vnbl focus rfid radio frequenc identif technoiogi technolog use tini sensor transmit inform person object wireiessli vnbl aireadi industri pioneer rfid person locat technoiogi vnbl develop form rfid technolog allow compani govern wireless track asset resourc technoiogi huge potentia protect transport materiai design high risk fa wrong hand vnbl work integr two afor mention system order creat high secur space ocai deem necessari locat may take advantag system airport sea port mine nuciear faciiiti stock news drive short term price fresh news made vnbl hot buy news vnbl malibu calif busi wire june oo vinobl inc otcbb vnbl news hold compani seek identifi ong term growth opportun area homeland secur secur inform system secur servic announc today pian offer product servic wiil assist autom identif control equip asset tooi relat process use oi gas petrochem industri although smail wireiessli network rfid sensor monitor machin equip detect possibl problem becom serious aiso deiiver safeti featur within oi weli oi mayb trap differ ayer rock aiong gas water detect specif iquid assist equip oper within specif precis opportun moment ensur certain advers condit occur well fili water rf base technoiogi applic rfid also provid safe transit materiai author handler limit entri personn specif ocat ensur personnel safeti essenti emerg faciiiti rfid tag wouid enabi custom track evaiuat empioye safeti danger applic technolog requir product hardwar oper harsh potentia hazard condit give valuabl safeti resourc asset vita custom rfid aiso assist custom suppli chain track oi gas chemica product extract refin saie retai evel vinobl viewpoint previousiy state applic vaiuabl mine industri protect measur countri natura resourc commod threat preserv fuei resourc import safeti u industri economi compani believ offer servic technoiogi appiic oil gas petrochem industri wil posit vinobl rapid expand industri whiie take advantag access increas capit gioba spend compani wi requir growth compani goal aiso provid much need servic cost manag even sma est busi afford without safeti personnel asset current state constant threat outstand news growth potenti compani except alreadi hot industri vnbl ob stand truiy innov pioneer see big thing happen stock inform within emai contain forward look statement within mean section secur act section b secur exchang act statement express involv discuss respect predict expect belief pian project object goal assumpt futur event perform statement historica fact may forward ook statement forward ook statement base expect estim project time statement made invoiv number risk uncertainti couid caus actua result event differ materia present anticip forward look statement action may identifi use word project forese expect wi anticip estim beiiev understand statement indic certain action may couid might occur mani micro cap stock today compani addit risk factor worth note factor inciud limit oper histori compani advanc cash reiat parti sharehold unsecur basi one vendor relat parti major stockhoid suppli nineti seven percent compani raw materiai reiianc two custom fifti percent busi numer relat parti transact need rais capit factor other fuili speil compani sec fii urg read file invest rocket stock report repres inform contain messag state ail materia fact omit materi fact necessari make statement therein mislead ail inform provid within emai pertain invest stock secur must understood inform provid invest advic rocket stock report advis reader subscrib seek advic regist professiona secur repres decid trade stock featur within email none materi within report shal constru kind invest advic solicit mani compani verg bankruptci lose ail money invest stock publish rocket stock report regist invest advisor subscrib view inform herein ega tax account invest advic refer past perform compani speciaili seiect referenc base favorabi perform compani wouid need perfect time achiev resuit exampi given assur happen rememb aiway past perform never indic futur result thorough due diiigenc effort includ review compani file shouid complet prior invest compiianc secur act section b rocket stock report discios receipt tweiv thousand doilar third parti gem inc offic director affili sharehoid circuiat report gem inc posit stock wil se time without notic awar inher confiict interest resuit compens due fact paid advertis conflict al factua inform report gather pubiic sourc inciud limit compani websit sec fii compani press releas rocket stock report beiiev inform reliabi make guarante accuraci compiet use materia within email constitut accept term "
        ],
        [
         "7",
         "save money buy get thing tri ciall yet cannot even imagin like real man bed thing great errrectlon provid exactiy want ciali lot advantag viagra effect iast hour readi start within minut mix aicohol ship countri get right "
        ],
        [
         "8",
         "undeliver home base busi grownup messag subject home base busi grownup sent sun jan reach follow recipi tfi kpn com mon feb recipi name recogn mts id origin messag c us p ptt telecom l mtpi fjt q msexch im kpn telecom mtpi co unknown recipi"
        ],
        [
         "9",
         "save money buy get thing tri ciall yet cannot even imagin like real man bed thing great errrectlon provid exactiy want ciali lot advantag viagra effect last hour readi start within minut mix aicohoi ship countri get right "
        ],
        [
         "10",
         "las vega high rise boom las vega fast becom major metropolitan citi new high rise tower expect built around las vega strip within next year condominium boom begun buy first earli phase pre construct price avail las vega high rise includ trump cosmopolitan mgm turnberri icon sky among other join interest list http www verticallv com messag sent realti one highris learn www verticallv comif wish exclud futur mail pleas repli word remov subject line "
        ],
        [
         "11",
         "save money buy get thing tri ciall yet cannot even imagin like real man bed thing great errrectlon provid exact want ciaii iot advantaq viagra effect iast hour readi start within minut mix aicohol ship countri get riqht "
        ],
        [
         "12",
         "brighten teeth get teeth bright white consid profession teeth whiten know usual cost local dentist visit site learn profession whiten teeth use exact whiten system dentist use fraction cost get show look whiten system show comparison product avail today includ cost know product best market back day money back guarante click learn receiv email internet affili network member would longer like receiv special promot via email internet affili network click unsubscrib "
        ],
        [
         "13",
         "wall street phenomenon reap reward small cap stock finder new develop expect move western sierra mine inc stock westernsierramin com western sierra mine compani move fast big news big busi afoot wsrm read find wsrm top pick week western sierra mine profitabi busi mode avoid highest cost associ mine explor essenti wester sierra oper mine site previousiy expior found small argest mine compani yet sti produc handsom profit gioba mine industri boom wi continu foreseeabi futur due impact china driven demand commod price ong suppiy respons lead time news news news read find expect wsrm take week recent news compani phoenix busi wire june oo western sierra mine corp pink sheet wsrm news announc today board director approv author forward split issu outstand common tock al sharehoid record june compani state reason spiit ow addit investor particip long term goal object western phoenix busi wire june western sierra mine pink sheet wsrm news oretech inc pink sheet ort news announc today respect board director agre enter agreement develop silver plume pittsburg mine ocat coiorado comment propos transact presid western sierra mine michael chaffe said new aiignment oretech wil aliow compani util specif expertis maximum benefit oretech tri focus develop proprieti extract technoiogi western expand mine activ u start due dilig properti ook forward take propos back oretech end month phoenix busi wire june western sierra mine pink sheet wsrm news announc today sign letter intent asdi corp provid wsrm right deveiop asdi properti locat crescent vailey battl mountain nev cannot stress enough signific news tock spiit oniy mean one thing good busi spiit date set june obviousiy time get repsect news sma compani would right rich properti speak volum manag near futur earn wouid fortun invoiv industri pioneer oretech noth short extraordinari fortuit event earn wsrm high recommend symbol wsrm current price short term target price month target price news industri mine tock outperform p dow jone industri averag last three year profit mine compani doubl second year row return equiti increas near three fold past two year price waterhous cooper cali anoth bumper year global mine industri oo go say sustain upturn commod price caught investor attent creat dash mine tock add unpreced profit free cash flow buoyant industri inform read mine enter dragon price waterhous cooper locat pwcglobal com disclaim inform within emai contain forward look statement within mean section secur act section b secur exchang act statement express involv discuss respect predict expect belief pian project object goai assumpt futur event perform statement histor fact may forward ook statement forward look statement base expect estim project time statement made involv number risk uncertainti couid caus actual resuit event differ materialiy present anticip forward ook statement action may identifi use word project forese expect wiil anticip estim believ understand statement indic certain action may couid might occur mani micro cap tock today compani addit risk factor worth note factor inciud imit oper histori compani advanc cash relat parti sharehold unsecur basi one vendor reiat parti major tockhoid suppii nineti seven percent compani raw materi reiianc two custom fifti percent busi numer reiat parti transact need rais capit factor other fulli spell compani sec fii urg read file invest rocket stock report repres inform contain messag state ail materia fact omit materia fact necessari make statement therein misiead inform provid within email pertain invest stock secur must understood inform provid invest advic rocket stock report advis reader subscrib seek advic regist profession secur repres decid trade stock featur within email none materi within report shail constru kind invest advic solicit mani compani verg bankruptci ose al mone invest stock publish rocket stock report regist invest advisor subscrib shouid view inform herein egal tax account invest advic refer past perform compani specialiy select referenc base favor perform compani wouid need perfect time achiev resuit exampi given assur happen rememb aiway past perform never indic futur result thorough due dilig effort inciud review compani fii shouid complet prior invest compiianc secur act section b rocket stock report disclos receipt twelv thousand doilar third parti gem inc offic director affiiiat sharehoid circul report gem inc posit stoc k wi seil time without notic awar inher confiict interest resuit compens due fact paid advertis conflict ail factua inform report gather pubiic sourc includ imit compani websit sec fii compani press reieas rocket sto ck report believ inform reiiabl make guarante accuraci compiet use materia within email constitut accept term "
        ],
        [
         "14",
         "fpa notic ebay misrepresent ident user suspens section dear ebay member effort protect ebay account secur suspend account time safe restor taken action account may compromis although cannot disclos investig procedur led conclus pleas know took action order maintain safeti account instruct get account reinstat pleas click button bellow thank patienc cooper regard safeharbor departmentebay inc "
        ],
        [
         "15",
         "search engin posit first list top search engin immedi compani place busi qualifi websit perman top major search engin guarante never move ex yahoo msn alta vista etc promot includ unlimit traffic go last long interest guarante first posit top search engin promot fee pleas contact us prompt find qualifi via email searchl telefonica net pe import includ url interest promot pay per click exampl provid promot valid usa canada sincer search engin placement specialist wish remov list pleas respond follow email address type word remov subject line search speedi com pe"
        ],
        [
         "16",
         "softwar guarante legal name brand softwar low low low low price everyth come hustl wait mani would coward courag enough "
        ],
        [
         "17",
         "local softwar languag avail hello would like offer local softwar version qerman french spanish uk mani other iist softwar availabi immedi download need wait week cd deiiveri exampi norton lnternet secur pro window xp profession sp fuil version corei draw graphic suit dreamweav mx homesit includ macromedia studio mx brows site find softwar need nativ ianguaq best reqard lauraie "
        ],
        [
         "18",
         "secur alert confirm nation credit union inform "
        ],
        [
         "19",
         " st centuri web specialist jrgbm dear profession problem idea need solut sure cost budget accord provid detail pleas send free project scope quot includ detail need know variabl consid would glad deliv cut edg solut challeng qualiti equival superior offer domest compani fraction cost domest develop repres number well establish compani staf qualifi softwar develop record success complet hundr small midsiz project ten wide scale project fortun corpor busi analysi consult web design code test port provid full cycl servic work site offshor specialist develop integr internet intranet extranet applic busi applic erp crm system e busi b b b c solut mobil wireless applic desktop applic data warehous secur cryptographi system qualiti base develop partnership lead technolog provid modern project qualiti manag exclus human resourc info click pleas includ phone number happi call cost effect solut experienc team specialist fair rate free quot list technolog platform specialist employ bring best effici cost effect solut applic platform net java ee ibm webspher suit lotus domino bea weblog coldfus oper system window unix ibm databas ms sql oracl db foxpro informix sybas standard activex com asp corba jdbc odbc wap wml info click pleas includ phone number happi call receiv letter mistak pleas click unsubscrib uce transmiss stop cost recipi send repli word remov subject line ref u senat bill titl section "
        ],
        [
         "20",
         "med girl happi girl unsatisfi potenc wait find anoth men click choos great varieti llcens love bs best pri es fast shippinq guarante effect buy riqht warehous store verifi bbb approv visa "
        ],
        [
         "21",
         "wearabl electron hi name jason recent visit www clothingplus fi want offer servic could help wearabl electron websit creat websit mean busi best part recreat site initi setup give user friend master control panel abil easili add remov copi text pictur product price etc want would happi contact brainstorm idea regard jasononlin store creatorstol free ext http www com"
        ],
        [
         "22",
         "top level logo busi ident corpor imag say lot thing compani contemporari rhythm life dynam sometim take oniy sever second compani rememb lost among competitor get logo busi stationeri websit done riqht fast turnaround wiil see severai ioqo variant three busi day satisfact quarante provid unlimit amount chang sure wiil meet need fit busi fiexibl discount iogo improv addit format bulk order special packag creativ design competit price look right "
        ],
        [
         "23",
         "trust sourc prescript medic best prescript generic med less anger one sinner soul write like rule life urgent question other gold friend lead foe "
        ],
        [
         "24",
         "reli us onlin prescript order home sourc health inform conclus place got tire think man paint brain hand poet thirti year old simpli overgrown child one alway play fair one win card "
        ],
        [
         "25",
         "guzzl like fountain spur rock custom speak girlfriend realli enjoy make homemad erot film get pretend like porn star even though ever two us see one thing realli miss movi money shot frank lucki money shot worth dollar order spur home movi end gigant cum shot would make even veteran porn star jealous thank spur help spice sex life anthoni ky spur realli work improv sperm motil morpholog point girlfriend pregnant fertil blend realli help improv male fertil sperm qualiti adam j san francisco usa http karla choral com spur sheep need disturb go http romano choral com rm php"
        ],
        [
         "26",
         "lose answer would amaz connect busi world wide web mani shopper lose figur wouldamaz youlos cannot findyour web site simpl equat notb found lose new custom chang submit websit major search engin around world see full list web site research best effect meta tag keyword use web site rise search enginelist new custom find lose custom let us profession manag submiss web site get itfound seen world search engin click onthi link click discov thepow connect busi world wide web "
        ],
        [
         "27",
         "hi save improp n medlcatlon pha oviform rmzmail shop successful proven way save lansquenet mon cribriform ey pothous v except g iceblink l l warmish u bacchic l nonari ra corusc cl placatori necrolog val perish andmanyoth best prl peev ces worldwid sh pot lpplng total confidentiaii laughter ty miliion custom slicker er nice countermin day "
        ],
        [
         "28",
         " mg thhe trick ho receiv w save medlcatlon pharmz ibidem mail shop successfu panoram proven way save mone pelagian incommodi v forsaken g poseur l l foreshown u inorn l r propos ac tangenti l banian commiss val auster andmanyoth best p rous rlces panjandrum worldwid shlpplng total confid television iaiiti miliion unbloodi custom ha bionic nice day "
        ],
        [
         "29",
         "save money buy get thing tri ciall yet cannot even imagin like real man bed thing great errrectlon provid exactiy want ciali lot advantag viagra effect last hour readi start within minut mix aicohol ship countri get right "
        ],
        [
         "30",
         "want accept credit card aredit cpprove ceck "
        ],
        [
         "31",
         " ilug seek partnership dear partner first must apologis use medium communic project high place offici govern nigeria also found member rule parti power peopl democrat parti pdp committe niger delta develop corpor nddc charg manag supervis disburs oil sale revenu nigerian govern revenu control run sever hundr million dollar month self colleagu nddc current need foreign partner whose bank account shall transfer sum forti nine million five hundr thosand unit state dollar fund accru us commiss oil sale contract handl supervis fund present wait govern account name cbn fgn independ revenu account number j p morgan chase bank new york independ verif howev virtu posit civil servant member nddc cannot acquir fund name top civil servant allow law land oper bank account outsid countri deleg matter trust colleagu look oversea partner whose account would transfer fund henc reason mail shall transfer money account compani shall present compani regist foreign compani nigeria paid contract execut countri nddc feder ministri decid use siphon fund support partnership pleas repli negoti fee percentag wish paid fund arriv bank account must howev note transact regard disposit continu subject term first convict transpar second treat transact utmost secreci confidenti final provid account absolut control transact although discret legitim risk legal disadvantag either futur put place perfect mchineri ensur hitch free transfer account upon accept transfer effect account within ten fourteen work day soon reach agreement furnish suitabl bank account compani name address contact number includ fax number look forward busi solicit confidenti transact pleas mail respons faith anderson k eseimoku irish linux user group ilug linux ie http www linux ie mailman listinfo ilug un subscript inform list maintain listmast linux ie"
        ],
        [
         "32",
         " ilug guarante lose lbs day fight risk cancer slim guarante lose lbs day get child support deserv free legal advic join web fastest grow singl communiti start privat photo album onlin wonder day offer manag prizemama wish leav list pleas use link irish linux user group ilug linux ie http www linux ie mailman listinfo ilug un subscript inform list maintain listmast linux ie"
        ],
        [
         "33",
         "mdaemon indentifi messag spam deliv projecthoneypot projecthoneypot org denham capitalspread com subject spam score req messag id yes hit requir test ab uri rbl html html fontcolor red html messag mime html spamcop uri rbl ws uri rbl autolearn version html fontcolor red bodi html font color red html bodi messag html mime html bodi messag text html mime part html messag bodi html includ messag spamcop uri rbl uri domain appear spamcop databas sc surbl org bjefladghikm extra info blacklist uri rbl multi surbl org ws uri rbl uri domain appear ws databas ws surbl org bjefladghikm extra info blacklist uri rbl multi surbl org ab uri rbl uri domain appear ab surbl org bjefladghikm extra info blacklist uri rbl multi surbl org messag contain file attach"
        ],
        [
         "34",
         "ms softwar titl avail download opt email special offer unsubscrib search softwar top new titl sale offic pro adob photoshop window xp pro adob acrobat pro flash mx corel draw norton antivirus window server alia maya wavefrtl adob illustr see manufactur microsoft symantec adob custom also bought item microsoft offic profession edit microsoftchoos view titl list price price save avail avail instant download coupon code ff kuc sale rank system requir version date coupon expir august st averag custom review base review write review adob photoshop cs v adobechoos view titl list price price save avail avail instant download coupon code zxghlajf sale rank system requir version date coupon expir august st averag custom review base review write review microsoft window xp profession longhorn edit microsoftchoos view titl list price price save avail avail instant download coupon code ho urc sale rank system requir version date coupon expir august st averag custom review base review write review adob acrobat profession v adobechoos view titl list price price save avail avail instant download coupon code pl bohsg sale rank system requir version date coupon expir august st averag custom review base review write review "
        ],
        [
         "35",
         "failur notic hi qmail send program giga key afraid abl deliv messag follow address perman error given sorri work address longer accept mail line copi messag return path receiv qmail invok network jul receiv unknown helo mailwisconsin com giga key smtp jul receiv squirrelmail authent user projecthoneypot projecthoneypot org mailwisconsin com http id j gzo tue jul messag id date tue jul subject barri castillo info deboel net user agent squirrelmail x mailer squirrelmail mime version content type text html charset iso content transfer encod bit x prioriti normal import normal soft viagra per dose readi boost sex life posit time right order soft viagra incred low price start per dose unbeiiv "
        ],
        [
         "36",
         "claim free home depot gift card claim home depot gift card valu sure find use gift card area exclusivereward udexhoyp"
        ],
        [
         "37",
         "perfect logo charset koi r think breath new life busi start revamp front end logo visual ident logodent offer creativ custom design ioqo stationeri web site carefui hand power market tooi wiil brinq breath fresh air busi make stand amonq competitor click away futur success ciick see sampi artwork check price hot offer"
        ],
        [
         "38",
         "brand soft roxio easi media creator http broadcast wxget com sing kind man cannot choos ceas man minim art maximum explan "
        ],
        [
         "39",
         "extra time last time longer hello ejacul within minut penetr prematur ejacul occur ejacul quick without control occur short penetr prematur ejacul interfer sexual pleasur partner caus feel guilt embarrass frustrat depress extra time male sexual perform formula stop prematur ejacul actual cure extra time product allow control ejacul non hormon herbal therapi act local sex organ regul process ejacul act neuro endocrin pathway act high center emot brain look http tabbouleh net et med thank http tabbouleh net rr php"
        ],
        [
         "40",
         "get best price next car exclus offer x emessag search pre own vehicl buy use car onlin receiv messag sign receiv offer one care select market partner x emessag internet best sourc excit new offer discount longer wish receiv offer pleas follow unsubscrib instruct bottom unsubscrib mail list pleas click "
        ],
        [
         "41",
         "bro check awesom new product wish could better http www gretan com ss cheer mind vigor mind war god way teach american geographi human power compound time patienc strive excel perfect kill lost import part life "
        ],
        [
         "42",
         "hidden gem help get leg market homeland secur invest terror attack unit state septemb chang secur landscap forese futur physica ogic secur becom paramount industri segment especiaili bank nationa resourc govern sector accord giga wholiy own subsidiari forrest research woridwid demand inform secur product servic set eclips b oo homeiand secur invest newsiett dedic provid reader inform pertain invest opportun ucrat sector know event reiat homeland secur happen ightn speed investor posit way take advantag current trend readi capit event yet happen homeland secur invest heip reader mind great excit present vinobi inc stock expect big thing near long term symbol vnbl ob current price short term target price month target price beiiev vnbl ob wiil give big return invest time much vnbl focus rfid radio frequenc identif technolog technolog use tini sensor transmit inform person object wireless vnbl alreadi industri pioneer rfid person locat technoiogi vnbl deveiop form rfid technoiogi ow compani govern wirelessiy track asset resourc technoiogi huge potentia protect transport materi design high risk fal wrong hand vnbl work integr two afor mention system order creat high secur space locai deem necessari locat may take advantag system airport sea port mine nuciear faciiiti stock news drive short term price fresh news made vnbl hot buy news vnbl malibu calif busi wire june vinobl inc otcbb vnbl news hoid compani seek identifi ong term growth opportun area homeiand secur secur inform system secur servic announc today plan offer product servic wil assist autom identif control equip asset tool reiat process use oi gas petrochemica industri although sma wireiessiy network rfid sensor monitor machin equip detect possibi probiem becom serious also deliv safeti featur within oil weli oi mayb trap differ ayer rock along gas water detect specif liquid assist equip oper within specif precis opportun moment ensur certain advers condit occur wel fiil water rf base technoiogi applic rfid also provid safe transit materiai author handier imit entri personn specif ocat ensur personnel safeti essenti emerg facil rfid tag would enabi custom track evaiuat empioye safeti danger appiic technolog requir product hardwar oper harsh potentiaili hazard condit give vaiuabi safeti resourc asset vita custom rfid aiso assist custom suppiy chain track oil gas chemica product extract refin saie retai level vinobi viewpoint previous state appiic vaiuabl mine industri protect measur countri natur resourc commod threat preserv fuei resourc import safeti u industri economi compani beiiev offer servic technolog applic oil gas petrochemica industri wiil posit vinobl rapid expand industri take advantag access increas capita gioba spend compani requir growth compani goal also provid much need servic cost manag even sma est busi afford without safeti personn asset current state constant threat outstand news growth potentia compani exceptiona alreadi hot industri vnbl ob stand truiy innov pioneer see big thing happen stock inform within email contain forward ook statement within mean section secur act section b secur exchang act statement express invoiv discuss respect predict expect belief pian project object goai assumpt futur event perform statement historica fact may forward ook statement forward look statement base expect estim project time statement made invoiv number risk uncertainti couid caus actua resuit event differ materiaili present anticip forward ook statement action may identifi use word project forese expect wil anticip estim believ understand statement indic certain action may could might occur mani micro cap stock today compani additiona risk factor worth note factor inciud limit oper histori compani advanc cash relat parti sharehoid unsecur basi one vendor relat parti major stockhoid suppli nineti seven percent compani raw materiai relianc two custom fifti percent busi numer reiat parti transact need rais capita factor other fulli spe ed compani sec file urg read file invest rocket stock report repres inform contain messag state materia fact omit materia fact necessari make statement therein mislead al inform provid within emai pertain invest stock secur must understood inform provid invest advic rocket stock report advis ail reader subscrib seek advic regist profession secur repres decid trade stock featur within email none materi within report sha constru kind invest advic solicit mani compani verg bankruptci lose money invest stock pubiish rocket stock report regist invest advisor subscrib view inform herein lega tax account invest advic refer past perform compani speciaili select referenc base favorabi perform compani would need perfect time achiev result exampl given assur happen rememb aiway past perform never indic futur resuit thorough due dilig effort inciud review compani fii shouid complet prior invest complianc secur act section b rocket stock report disclos receipt twelv thousand dollar third parti gem inc offic director affiiiat sharehoid circul report gem inc posit stock wiil sel time without notic awar inher confiict interest resuit compens due fact paid advertis confiict ail factual inform report gather pubiic sourc inciud imit compani websit sec file compani press reieas rocket stock report believ inform reiiabi make guarante accuraci compiet use materia within emai constitut accept term "
        ],
        [
         "43",
         " minut sex last hour legal prescript medic essenti guidanc licens medic everi stone lurk politician experi name everyon give mistak without music life would mistak "
        ],
        [
         "44",
         "wish could better peni growth extrem http www siratu com ss cruelti like hope spring etern amus happi cannot think suum cuiqu alway forgiv enemi noth annoy much bad news goe clog good news stocking feet "
        ],
        [
         "45",
         " full color brochur tsa design product idea expo show around corner go exhibitor need someth hand prospect custom wiley print want help offer great price qualiti print collater exampl busi card full color uv coat pt paper stock postcard full color uv coat pt paper stock brochur full color two side gloss text interest offer look someth littl differ pleas contact us one method wiley print cole ave dalla tx phone fax info wileyprint com note first last time wiley print ever send email howev would like opt pleas repli email remov subject line "
        ],
        [
         "46",
         "search best cheapest pharmaci onlin save brandnam like viagra ciali propecia anatomi destini oh dear ravish thing begin amour everi question deserv answer "
        ],
        [
         "47",
         "failur notic hi qmail send program mail cdsnet net afraid abl deliv messag follow address perman error given sorri work sorri find host name bb internetcd com line copi messag return path receiv qmail invok alia jul deliv nic notifi internetcd com receiv qmail invok network jul receiv unknown helo localhost mail cdsnet net smtp jul receiv mail cdsnet net localhost mail cdsnet net amavisd new port smtp id tue jul pdt receiv qmail invok network jul receiv yahoobb bbtec net helo mailwisconsin com mail cdsnet net smtp jul receiv squirrelmail authent user projecthoneypot projecthoneypot org mailwisconsin com http id j gzo tue jul messag id date tue jul subject barri castillo nic notifi internetcd com user agent squirrelmail x mailer squirrelmail mime version content type text html charset iso content transfer encod bit x prioriti normal import normal x virus scan amavisd new internetcd com soft viagra per dose readi boost sex life posit time right order soft viagra incred low price start per dose unbelivabi "
        ],
        [
         "48",
         "claim free home depot gift card valu claim home depot gift card valu sure find use gift card area exclusivereward qprkelmv"
        ],
        [
         "49",
         "break biotech news hey thought might want take look gtha could genethera becom next darl biotech announc collabor industri giant beckman coulter break biotech news genethera inc collabor biotech giant beckman coulter inc genethera news releas juli th genethera inc otc bb gtha molecular biotech compani locat wheat ridg co grant first right refus beckman coulter inc nyc bec licens genethera patent technolog develop live anim genet diagnost test signific mileston genethera beckman coulter one world lead manufactur biomed test system test suppli collabor unit expertis beckman coulter cut edg technolog genethera dr antonio milici ph genethera inc genethera provid genet diagnost solut veterinari agricultur industri futur plan includ healthcar industri compani form realiz commerci potenti molecular diagnost assay use roch f pcr technolog detect presenc infecti diseas blood anim particular live anim platform enabl genethera offer test present avail technolog futur plan includ infecti diseas potenti affect domest livestock well wildlif intend human consumpt prioriti given mad cow john foot mouth diseas cattl genethera success develop abil detect mad cow diseas chronic wast diseas cwd also known mad deer elk free inform reguard stock e mail first name last name phone number view full report view full report compani genethera inc symbol gtha exchang otc bb recent price outstand share mil websit www genethera net prior st case mad cow u beef export us valu near billion export dollar sinc lost intern us beef ban impos million cattl feedlot u million cattl slaughter u annual beckman coulter inc lead manufactur biomed test instrument system test suppli simplifi autom laboratori process span biomed test continuum pioneer medic research clinic trial laboratori diagnost point care test beckman coulter instal system provid essenti biomed inform enhanc health care around world compani base fullerton calif report annual sale billion percent amount generat recur revenu suppli test kit servic inform visit www beckmancoult com look forward work genethera identifi commerci applic technolog chris neari general manag prion busi center beckman coulter inc countri around globe discoveri cow mad cow diseas lead immedi slaughter hundr even thousand cattl wide spread fear diseas spread need complet diseas test dead anim cost intern beef recal common sinc mad cow test conduct slaughter process genethera live anim blood test could lead halt mass slaughter widespread panic save industri hundr million dollar year test singl blood sampl genethera could end need slaughter entir herd cattl anim diseas test save industri hundr million dollar year current fund institut money manag southern california genethera plan open laboratori worldwid meet explod bse test demand want invest dna revolut wait custom drug year away buy share compani use dna diagnost work forb good gene kerri dolan may new patent test creat inform glean genom map inject new life higher margin near busi billion molecular diagnost industri expand annual rate accord consult firm leomic associ emerson n j genethera gtha make mark biotech genethera recent team biotech giant beckman coulter inc first market blood test mad cow diseas live cattl abil detect numer infecti diseas util genet method blood live anim first market blood test detect cwd present develop therapeut vaccin cwd mad cow diseas use rna interfer technolog current develop blood test use platform breast prostat cancer detect strateg partner xpng xpention genet inc genethera could end beef recal potenti slaughter million anim around globe save industri hundr million dollar year current fund institut money manag southern california genethera plan open laboratori worldwid handl grow bse test demand genethera could generat revenu million everi cattl test usa alon intern test figur would stagger genethera technolog genethera busi base integr technolog platform itp combin proprietari diagnost solut call gene express assay gea tm purivax tm system analyz larg scale dna sequenc first part platform ongo develop molecular diagnost assay solut use real time fluorogen polymeras chain reaction f pcr technolog detect presenc infecti diseas blood live anim second part itp develop therapeut vaccin use rna interfer technolog also allow effici effect continu test manag treatment anim popul fact distinguish technolog altern test manag methodolog avail agricultur today requir destruct individu anim even entir herd test data analysi process also allow us separ infect clean anim also gain knowledg vital develop prevent vaccin genethera inc commit provid global access cut edg biotechnolog servic fellow scientist academia pharmaceut industri biotechnolog industri primarili genethera expertis focus technolog relev anim human immunotherapi genethera dedic furnish depend high qualiti cost effect prompt client consult servic servic back cumul experi greater year research develop govern industri genethera senior scientist genethera develop commerci scale implement adenovector purif process support rd materi product furthermor genethera evalu test commerci avail express vector incorpor vector repertoir technolog well establish within repertoir genethera scientif staff genethera uniqu detect treat varieti diseas anim still aliv compani provid genet base diagnost vaccin solut meet grow demand today veterinari industri tomorrow agricultur healthcar industri compani organ oper continu appli scientif research effect manag diseas realiz commerci potenti molecular biotechnolog core genethera oper ongo develop molecular diagnost assay use real time fluorogen polymeras chain reaction f pcr technolog use live anim blood detect presenc infecti diseas develop vaccin blood born diseas also allow effici effect continu test manag treatment anim popul fact distinguish technolog altern test manag methodolog avail agricultur today requir destruct individu anim even entir herd test data analysi process also allow us separ infect clean anim also gain knowledg vital develop prevent vaccin date genethera success develop assay abil detect mad cow chronic wast diseas diseas affect elk deer north america diagnost assay e coli ol h johnn diseas final stage develop vaccin e coli ol h johnn diseas diseas affect cattl advanc stage develop futur compani plan expand assay applic research wide rang diseas anim immedi target mad cow hoof mouth west nile newcastl genethera detect bse use compani patent live anim blood test evalu e r f gene sequenc e r f gene proven decreas dramat tse infect notic live anim human patent gtha hold broad base detect tse diseas includ mad cow bse cattl cwd elk deer creutzfeld jacob human compani patent test detect diseas faster method develop marketplac far less cost test also use mass scale use roch f pcr dna analyz robot equip genethera analyz blood sampl day one f pcr machin singl technician project prove high profit approx per test wide scale commerci way multi billion dollar intern demand commerci mad cow test emerg around globe japan conduct million post mortem rapid mad cow test last year alon use western blot develop prionic ag swizterland bio rad rapid test cost dollar per test import test marketplac cannot detect diseas anim kill test post mortem brain tissu exam extrem labor intens cost japan spent million million million post mortem rapid mad cow test genethera simpl blood test collect use patent field collect system sampl mail lab test compani also state recent k current negoti strateg test partner believ absorb cost commerci live anim mad cow test manag dr toni milici chairman board presid ceo dr milici ph experiment hematolog medicin surgeri receiv degre univers rome itali stanford univers specialti includ molecular biolog biotechnolog gene therapi molecular oncolog molecular extens post graduat train includ fellowship depart clinic immunolog univers texa anderson cancer center visit fellow univers rome laboratori cellular immunolog biochemistri among post graduat activ dr milici assist professor medic colleg georgia depart pharmacolog toxolog well assist biochemist depart molecular patholog univers texa anderson cancer center houston tx prior found genethera inc dr milici presid ceo genetran inc base augusta ga diagnost laboratori dr milici genethera realize ambit demonstr commerci potenti molecular biotechnolog dr thoma j slaga board member dr slaga ph physiolog biophys undergradu degre biolog chemistri sinc dr slaga serv adjunct professor depart biochemistri molecular biolog univers colorado health scienc center locat denver co dr slaga career steep research develop role affili concentr cancer exampl includ chair scientif director cancer causat prevent amc cancer research center locat denver co director professor biochemistri univers texa anderson cancer center scienc park research divis locat smithvill tx group leader research staff member skin carcinogenesi tumor promot biolog divis oak ridg nation laboratori oak ridg tn dr slaga blend scientif manag experi lend genethera board import dimens vis vis develop opportun mr richard w bryan jr board member general counsel mr bryan attorney law denver co graduat regi univers busi administr econom mr bryan went graduat univers denver colleg law practic law denver year mr bryan provid genethera board much valu legal perspect benefit young public trade compani addit compani abl take advantag mr bryan legal experi import area vaccin licens integr futur genethera join market mover mail click find tw inc hidden forest dr sarasota fl disclaim public distribut email report otc special situat report public otc growth stock watch sponsor advertis paid advertis issu otc growth stock watch purport provid analysi compani financi posit way constru offer solicit buy sell secur otc growth stock watch paid advertis xpention genet inc featur compani distribut cost report new subscrib eighti thousand dollar fund tw inc effort creat investor awar xpention genet inc tw inc broker dealer invest advisor market mover otc growth stock watch otc special situat report geoffrey eiten consid broker dealer though invest advisor anticip report generat new subscript growth stock watch neither otc growth stock watch geoffrey eiten review analyst receiv compens report expect receiv unknown amount revenu new subscript subscript offer contain herein report includ opinion express statement made within inform advertis purpos constru invest advic constitut offer sell secur solicit offer buy secur state jurisdict offer sale permit reader consult profession invest tax portfolio advisor make invest decis independ verifi inform herein inform use prepar report believ reliabl sourc represent made accuraci complet inform invest secur carri high degre risk involv risk uncertainti may result investor lose invest capit past perform guarante futur result inform contain herein contain forward look statement within mean section secur act section e secur exchang act forward look statement base upon expect estim project time statement made involv risk uncertainti could caus actual event differ materi anticip forward look statement may identifi use word expect anticip estim believ statement indic certain action may could might occur statement express involv predict expect belief plan project object goal futur event perform may forward look statement factor could caus actual result differ materi includ limit advers econom condit intens competit lack meaning research result inadequ capit termin contract agreement advers public news coverag inabl carri research develop commerci plan loss retir key execut research scientist risk detail compani report file secur exchang commiss complet inform xpention genet inc avail websit secur exchang commiss http www sec gov copi file may read without charg copi obtain prescrib rate public refer facil commiss fifth street nw washington dc media matrix counti rd dte lake mari fl e mail messag advertis solicit "
        ]
       ],
       "shape": {
        "columns": 1,
        "rows": 5728
       }
      },
      "text/plain": [
       "0       natur irresist corpor ident lt realli hard rec...\n",
       "1       stock trade gunsling fanni merril muzo colza a...\n",
       "2       unbeliev new home made easi im want show homeo...\n",
       "3        color print special request addit inform clic...\n",
       "4       money get softwar cds softwar compat great gro...\n",
       "                              ...                        \n",
       "5723    research develop charg gpg forward shirley cre...\n",
       "5724    receipt visit jim thank invit visit lsu shirle...\n",
       "5725    enron case studi updat wow day super thank muc...\n",
       "5726    interest david pleas call shirley crenshaw ass...\n",
       "5727    news aurora updat aurora version fastest model...\n",
       "Name: text, Length: 5728, dtype: object"
      ]
     },
     "execution_count": 39,
     "metadata": {},
     "output_type": "execute_result"
    }
   ],
   "source": [
    "data['text']"
   ]
  },
  {
   "cell_type": "code",
   "execution_count": 40,
   "id": "194ff2b1",
   "metadata": {},
   "outputs": [],
   "source": [
    "X = data['text'].values\n",
    "y = data['spam'].values"
   ]
  },
  {
   "cell_type": "code",
   "execution_count": 41,
   "id": "add6d07b",
   "metadata": {},
   "outputs": [],
   "source": [
    "cv = CountVectorizer(ngram_range=(1,2))"
   ]
  },
  {
   "cell_type": "code",
   "execution_count": 42,
   "id": "773e108b",
   "metadata": {},
   "outputs": [],
   "source": [
    "x_data = cv.fit_transform(X)"
   ]
  },
  {
   "cell_type": "code",
   "execution_count": 43,
   "id": "4996f271",
   "metadata": {},
   "outputs": [
    {
     "data": {
      "text/plain": [
       "(5728, 323076)"
      ]
     },
     "execution_count": 43,
     "metadata": {},
     "output_type": "execute_result"
    }
   ],
   "source": [
    "x_data.shape"
   ]
  },
  {
   "cell_type": "code",
   "execution_count": 44,
   "id": "ed6fdc24",
   "metadata": {},
   "outputs": [
    {
     "data": {
      "text/plain": [
       "<Compressed Sparse Row sparse matrix of dtype 'int64'\n",
       "\twith 1141453 stored elements and shape (5728, 323076)>"
      ]
     },
     "execution_count": 44,
     "metadata": {},
     "output_type": "execute_result"
    }
   ],
   "source": [
    "x_data"
   ]
  },
  {
   "cell_type": "code",
   "execution_count": 45,
   "id": "dfacd70c",
   "metadata": {},
   "outputs": [
    {
     "name": "stdout",
     "output_type": "stream",
     "text": [
      "<Compressed Sparse Row sparse matrix of dtype 'int64'\n",
      "\twith 204 stored elements and shape (1, 323076)>\n",
      "  Coords\tValues\n",
      "  (0, 187281)\t1\n",
      "  (0, 145101)\t1\n",
      "  (0, 59931)\t1\n",
      "  (0, 133560)\t1\n",
      "  (0, 165352)\t1\n",
      "  (0, 233151)\t1\n",
      "  (0, 124873)\t1\n",
      "  (0, 234592)\t1\n",
      "  (0, 51213)\t3\n",
      "  (0, 170898)\t4\n",
      "  (0, 112752)\t1\n",
      "  (0, 279224)\t1\n",
      "  (0, 138840)\t1\n",
      "  (0, 145334)\t1\n",
      "  (0, 119468)\t2\n",
      "  (0, 39196)\t1\n",
      "  (0, 163162)\t4\n",
      "  (0, 275541)\t1\n",
      "  (0, 271722)\t1\n",
      "  (0, 202274)\t1\n",
      "  (0, 311776)\t2\n",
      "  (0, 168017)\t2\n",
      "  (0, 282787)\t1\n",
      "  (0, 185039)\t2\n",
      "  (0, 82723)\t1\n",
      "  :\t:\n",
      "  (0, 80683)\t1\n",
      "  (0, 316129)\t1\n",
      "  (0, 288773)\t1\n",
      "  (0, 33842)\t1\n",
      "  (0, 67907)\t1\n",
      "  (0, 5756)\t1\n",
      "  (0, 170990)\t1\n",
      "  (0, 31495)\t1\n",
      "  (0, 168193)\t1\n",
      "  (0, 114531)\t1\n",
      "  (0, 33003)\t1\n",
      "  (0, 250525)\t1\n",
      "  (0, 123070)\t1\n",
      "  (0, 227310)\t1\n",
      "  (0, 300194)\t1\n",
      "  (0, 11023)\t1\n",
      "  (0, 41807)\t1\n",
      "  (0, 100365)\t1\n",
      "  (0, 103419)\t1\n",
      "  (0, 279498)\t1\n",
      "  (0, 165001)\t1\n",
      "  (0, 243157)\t1\n",
      "  (0, 47456)\t1\n",
      "  (0, 164104)\t1\n",
      "  (0, 215727)\t1\n"
     ]
    }
   ],
   "source": [
    "print(x_data[0])"
   ]
  },
  {
   "cell_type": "code",
   "execution_count": 46,
   "id": "d7f9f747",
   "metadata": {},
   "outputs": [],
   "source": [
    "from sklearn.linear_model import LogisticRegression"
   ]
  },
  {
   "cell_type": "code",
   "execution_count": 47,
   "id": "f1a97f73",
   "metadata": {},
   "outputs": [
    {
     "data": {
      "text/html": [
       "<style>#sk-container-id-1 {\n",
       "  /* Definition of color scheme common for light and dark mode */\n",
       "  --sklearn-color-text: #000;\n",
       "  --sklearn-color-text-muted: #666;\n",
       "  --sklearn-color-line: gray;\n",
       "  /* Definition of color scheme for unfitted estimators */\n",
       "  --sklearn-color-unfitted-level-0: #fff5e6;\n",
       "  --sklearn-color-unfitted-level-1: #f6e4d2;\n",
       "  --sklearn-color-unfitted-level-2: #ffe0b3;\n",
       "  --sklearn-color-unfitted-level-3: chocolate;\n",
       "  /* Definition of color scheme for fitted estimators */\n",
       "  --sklearn-color-fitted-level-0: #f0f8ff;\n",
       "  --sklearn-color-fitted-level-1: #d4ebff;\n",
       "  --sklearn-color-fitted-level-2: #b3dbfd;\n",
       "  --sklearn-color-fitted-level-3: cornflowerblue;\n",
       "\n",
       "  /* Specific color for light theme */\n",
       "  --sklearn-color-text-on-default-background: var(--sg-text-color, var(--theme-code-foreground, var(--jp-content-font-color1, black)));\n",
       "  --sklearn-color-background: var(--sg-background-color, var(--theme-background, var(--jp-layout-color0, white)));\n",
       "  --sklearn-color-border-box: var(--sg-text-color, var(--theme-code-foreground, var(--jp-content-font-color1, black)));\n",
       "  --sklearn-color-icon: #696969;\n",
       "\n",
       "  @media (prefers-color-scheme: dark) {\n",
       "    /* Redefinition of color scheme for dark theme */\n",
       "    --sklearn-color-text-on-default-background: var(--sg-text-color, var(--theme-code-foreground, var(--jp-content-font-color1, white)));\n",
       "    --sklearn-color-background: var(--sg-background-color, var(--theme-background, var(--jp-layout-color0, #111)));\n",
       "    --sklearn-color-border-box: var(--sg-text-color, var(--theme-code-foreground, var(--jp-content-font-color1, white)));\n",
       "    --sklearn-color-icon: #878787;\n",
       "  }\n",
       "}\n",
       "\n",
       "#sk-container-id-1 {\n",
       "  color: var(--sklearn-color-text);\n",
       "}\n",
       "\n",
       "#sk-container-id-1 pre {\n",
       "  padding: 0;\n",
       "}\n",
       "\n",
       "#sk-container-id-1 input.sk-hidden--visually {\n",
       "  border: 0;\n",
       "  clip: rect(1px 1px 1px 1px);\n",
       "  clip: rect(1px, 1px, 1px, 1px);\n",
       "  height: 1px;\n",
       "  margin: -1px;\n",
       "  overflow: hidden;\n",
       "  padding: 0;\n",
       "  position: absolute;\n",
       "  width: 1px;\n",
       "}\n",
       "\n",
       "#sk-container-id-1 div.sk-dashed-wrapped {\n",
       "  border: 1px dashed var(--sklearn-color-line);\n",
       "  margin: 0 0.4em 0.5em 0.4em;\n",
       "  box-sizing: border-box;\n",
       "  padding-bottom: 0.4em;\n",
       "  background-color: var(--sklearn-color-background);\n",
       "}\n",
       "\n",
       "#sk-container-id-1 div.sk-container {\n",
       "  /* jupyter's `normalize.less` sets `[hidden] { display: none; }`\n",
       "     but bootstrap.min.css set `[hidden] { display: none !important; }`\n",
       "     so we also need the `!important` here to be able to override the\n",
       "     default hidden behavior on the sphinx rendered scikit-learn.org.\n",
       "     See: https://github.com/scikit-learn/scikit-learn/issues/21755 */\n",
       "  display: inline-block !important;\n",
       "  position: relative;\n",
       "}\n",
       "\n",
       "#sk-container-id-1 div.sk-text-repr-fallback {\n",
       "  display: none;\n",
       "}\n",
       "\n",
       "div.sk-parallel-item,\n",
       "div.sk-serial,\n",
       "div.sk-item {\n",
       "  /* draw centered vertical line to link estimators */\n",
       "  background-image: linear-gradient(var(--sklearn-color-text-on-default-background), var(--sklearn-color-text-on-default-background));\n",
       "  background-size: 2px 100%;\n",
       "  background-repeat: no-repeat;\n",
       "  background-position: center center;\n",
       "}\n",
       "\n",
       "/* Parallel-specific style estimator block */\n",
       "\n",
       "#sk-container-id-1 div.sk-parallel-item::after {\n",
       "  content: \"\";\n",
       "  width: 100%;\n",
       "  border-bottom: 2px solid var(--sklearn-color-text-on-default-background);\n",
       "  flex-grow: 1;\n",
       "}\n",
       "\n",
       "#sk-container-id-1 div.sk-parallel {\n",
       "  display: flex;\n",
       "  align-items: stretch;\n",
       "  justify-content: center;\n",
       "  background-color: var(--sklearn-color-background);\n",
       "  position: relative;\n",
       "}\n",
       "\n",
       "#sk-container-id-1 div.sk-parallel-item {\n",
       "  display: flex;\n",
       "  flex-direction: column;\n",
       "}\n",
       "\n",
       "#sk-container-id-1 div.sk-parallel-item:first-child::after {\n",
       "  align-self: flex-end;\n",
       "  width: 50%;\n",
       "}\n",
       "\n",
       "#sk-container-id-1 div.sk-parallel-item:last-child::after {\n",
       "  align-self: flex-start;\n",
       "  width: 50%;\n",
       "}\n",
       "\n",
       "#sk-container-id-1 div.sk-parallel-item:only-child::after {\n",
       "  width: 0;\n",
       "}\n",
       "\n",
       "/* Serial-specific style estimator block */\n",
       "\n",
       "#sk-container-id-1 div.sk-serial {\n",
       "  display: flex;\n",
       "  flex-direction: column;\n",
       "  align-items: center;\n",
       "  background-color: var(--sklearn-color-background);\n",
       "  padding-right: 1em;\n",
       "  padding-left: 1em;\n",
       "}\n",
       "\n",
       "\n",
       "/* Toggleable style: style used for estimator/Pipeline/ColumnTransformer box that is\n",
       "clickable and can be expanded/collapsed.\n",
       "- Pipeline and ColumnTransformer use this feature and define the default style\n",
       "- Estimators will overwrite some part of the style using the `sk-estimator` class\n",
       "*/\n",
       "\n",
       "/* Pipeline and ColumnTransformer style (default) */\n",
       "\n",
       "#sk-container-id-1 div.sk-toggleable {\n",
       "  /* Default theme specific background. It is overwritten whether we have a\n",
       "  specific estimator or a Pipeline/ColumnTransformer */\n",
       "  background-color: var(--sklearn-color-background);\n",
       "}\n",
       "\n",
       "/* Toggleable label */\n",
       "#sk-container-id-1 label.sk-toggleable__label {\n",
       "  cursor: pointer;\n",
       "  display: flex;\n",
       "  width: 100%;\n",
       "  margin-bottom: 0;\n",
       "  padding: 0.5em;\n",
       "  box-sizing: border-box;\n",
       "  text-align: center;\n",
       "  align-items: start;\n",
       "  justify-content: space-between;\n",
       "  gap: 0.5em;\n",
       "}\n",
       "\n",
       "#sk-container-id-1 label.sk-toggleable__label .caption {\n",
       "  font-size: 0.6rem;\n",
       "  font-weight: lighter;\n",
       "  color: var(--sklearn-color-text-muted);\n",
       "}\n",
       "\n",
       "#sk-container-id-1 label.sk-toggleable__label-arrow:before {\n",
       "  /* Arrow on the left of the label */\n",
       "  content: \"▸\";\n",
       "  float: left;\n",
       "  margin-right: 0.25em;\n",
       "  color: var(--sklearn-color-icon);\n",
       "}\n",
       "\n",
       "#sk-container-id-1 label.sk-toggleable__label-arrow:hover:before {\n",
       "  color: var(--sklearn-color-text);\n",
       "}\n",
       "\n",
       "/* Toggleable content - dropdown */\n",
       "\n",
       "#sk-container-id-1 div.sk-toggleable__content {\n",
       "  display: none;\n",
       "  text-align: left;\n",
       "  /* unfitted */\n",
       "  background-color: var(--sklearn-color-unfitted-level-0);\n",
       "}\n",
       "\n",
       "#sk-container-id-1 div.sk-toggleable__content.fitted {\n",
       "  /* fitted */\n",
       "  background-color: var(--sklearn-color-fitted-level-0);\n",
       "}\n",
       "\n",
       "#sk-container-id-1 div.sk-toggleable__content pre {\n",
       "  margin: 0.2em;\n",
       "  border-radius: 0.25em;\n",
       "  color: var(--sklearn-color-text);\n",
       "  /* unfitted */\n",
       "  background-color: var(--sklearn-color-unfitted-level-0);\n",
       "}\n",
       "\n",
       "#sk-container-id-1 div.sk-toggleable__content.fitted pre {\n",
       "  /* unfitted */\n",
       "  background-color: var(--sklearn-color-fitted-level-0);\n",
       "}\n",
       "\n",
       "#sk-container-id-1 input.sk-toggleable__control:checked~div.sk-toggleable__content {\n",
       "  /* Expand drop-down */\n",
       "  display: block;\n",
       "  width: 100%;\n",
       "  overflow: visible;\n",
       "}\n",
       "\n",
       "#sk-container-id-1 input.sk-toggleable__control:checked~label.sk-toggleable__label-arrow:before {\n",
       "  content: \"▾\";\n",
       "}\n",
       "\n",
       "/* Pipeline/ColumnTransformer-specific style */\n",
       "\n",
       "#sk-container-id-1 div.sk-label input.sk-toggleable__control:checked~label.sk-toggleable__label {\n",
       "  color: var(--sklearn-color-text);\n",
       "  background-color: var(--sklearn-color-unfitted-level-2);\n",
       "}\n",
       "\n",
       "#sk-container-id-1 div.sk-label.fitted input.sk-toggleable__control:checked~label.sk-toggleable__label {\n",
       "  background-color: var(--sklearn-color-fitted-level-2);\n",
       "}\n",
       "\n",
       "/* Estimator-specific style */\n",
       "\n",
       "/* Colorize estimator box */\n",
       "#sk-container-id-1 div.sk-estimator input.sk-toggleable__control:checked~label.sk-toggleable__label {\n",
       "  /* unfitted */\n",
       "  background-color: var(--sklearn-color-unfitted-level-2);\n",
       "}\n",
       "\n",
       "#sk-container-id-1 div.sk-estimator.fitted input.sk-toggleable__control:checked~label.sk-toggleable__label {\n",
       "  /* fitted */\n",
       "  background-color: var(--sklearn-color-fitted-level-2);\n",
       "}\n",
       "\n",
       "#sk-container-id-1 div.sk-label label.sk-toggleable__label,\n",
       "#sk-container-id-1 div.sk-label label {\n",
       "  /* The background is the default theme color */\n",
       "  color: var(--sklearn-color-text-on-default-background);\n",
       "}\n",
       "\n",
       "/* On hover, darken the color of the background */\n",
       "#sk-container-id-1 div.sk-label:hover label.sk-toggleable__label {\n",
       "  color: var(--sklearn-color-text);\n",
       "  background-color: var(--sklearn-color-unfitted-level-2);\n",
       "}\n",
       "\n",
       "/* Label box, darken color on hover, fitted */\n",
       "#sk-container-id-1 div.sk-label.fitted:hover label.sk-toggleable__label.fitted {\n",
       "  color: var(--sklearn-color-text);\n",
       "  background-color: var(--sklearn-color-fitted-level-2);\n",
       "}\n",
       "\n",
       "/* Estimator label */\n",
       "\n",
       "#sk-container-id-1 div.sk-label label {\n",
       "  font-family: monospace;\n",
       "  font-weight: bold;\n",
       "  display: inline-block;\n",
       "  line-height: 1.2em;\n",
       "}\n",
       "\n",
       "#sk-container-id-1 div.sk-label-container {\n",
       "  text-align: center;\n",
       "}\n",
       "\n",
       "/* Estimator-specific */\n",
       "#sk-container-id-1 div.sk-estimator {\n",
       "  font-family: monospace;\n",
       "  border: 1px dotted var(--sklearn-color-border-box);\n",
       "  border-radius: 0.25em;\n",
       "  box-sizing: border-box;\n",
       "  margin-bottom: 0.5em;\n",
       "  /* unfitted */\n",
       "  background-color: var(--sklearn-color-unfitted-level-0);\n",
       "}\n",
       "\n",
       "#sk-container-id-1 div.sk-estimator.fitted {\n",
       "  /* fitted */\n",
       "  background-color: var(--sklearn-color-fitted-level-0);\n",
       "}\n",
       "\n",
       "/* on hover */\n",
       "#sk-container-id-1 div.sk-estimator:hover {\n",
       "  /* unfitted */\n",
       "  background-color: var(--sklearn-color-unfitted-level-2);\n",
       "}\n",
       "\n",
       "#sk-container-id-1 div.sk-estimator.fitted:hover {\n",
       "  /* fitted */\n",
       "  background-color: var(--sklearn-color-fitted-level-2);\n",
       "}\n",
       "\n",
       "/* Specification for estimator info (e.g. \"i\" and \"?\") */\n",
       "\n",
       "/* Common style for \"i\" and \"?\" */\n",
       "\n",
       ".sk-estimator-doc-link,\n",
       "a:link.sk-estimator-doc-link,\n",
       "a:visited.sk-estimator-doc-link {\n",
       "  float: right;\n",
       "  font-size: smaller;\n",
       "  line-height: 1em;\n",
       "  font-family: monospace;\n",
       "  background-color: var(--sklearn-color-background);\n",
       "  border-radius: 1em;\n",
       "  height: 1em;\n",
       "  width: 1em;\n",
       "  text-decoration: none !important;\n",
       "  margin-left: 0.5em;\n",
       "  text-align: center;\n",
       "  /* unfitted */\n",
       "  border: var(--sklearn-color-unfitted-level-1) 1pt solid;\n",
       "  color: var(--sklearn-color-unfitted-level-1);\n",
       "}\n",
       "\n",
       ".sk-estimator-doc-link.fitted,\n",
       "a:link.sk-estimator-doc-link.fitted,\n",
       "a:visited.sk-estimator-doc-link.fitted {\n",
       "  /* fitted */\n",
       "  border: var(--sklearn-color-fitted-level-1) 1pt solid;\n",
       "  color: var(--sklearn-color-fitted-level-1);\n",
       "}\n",
       "\n",
       "/* On hover */\n",
       "div.sk-estimator:hover .sk-estimator-doc-link:hover,\n",
       ".sk-estimator-doc-link:hover,\n",
       "div.sk-label-container:hover .sk-estimator-doc-link:hover,\n",
       ".sk-estimator-doc-link:hover {\n",
       "  /* unfitted */\n",
       "  background-color: var(--sklearn-color-unfitted-level-3);\n",
       "  color: var(--sklearn-color-background);\n",
       "  text-decoration: none;\n",
       "}\n",
       "\n",
       "div.sk-estimator.fitted:hover .sk-estimator-doc-link.fitted:hover,\n",
       ".sk-estimator-doc-link.fitted:hover,\n",
       "div.sk-label-container:hover .sk-estimator-doc-link.fitted:hover,\n",
       ".sk-estimator-doc-link.fitted:hover {\n",
       "  /* fitted */\n",
       "  background-color: var(--sklearn-color-fitted-level-3);\n",
       "  color: var(--sklearn-color-background);\n",
       "  text-decoration: none;\n",
       "}\n",
       "\n",
       "/* Span, style for the box shown on hovering the info icon */\n",
       ".sk-estimator-doc-link span {\n",
       "  display: none;\n",
       "  z-index: 9999;\n",
       "  position: relative;\n",
       "  font-weight: normal;\n",
       "  right: .2ex;\n",
       "  padding: .5ex;\n",
       "  margin: .5ex;\n",
       "  width: min-content;\n",
       "  min-width: 20ex;\n",
       "  max-width: 50ex;\n",
       "  color: var(--sklearn-color-text);\n",
       "  box-shadow: 2pt 2pt 4pt #999;\n",
       "  /* unfitted */\n",
       "  background: var(--sklearn-color-unfitted-level-0);\n",
       "  border: .5pt solid var(--sklearn-color-unfitted-level-3);\n",
       "}\n",
       "\n",
       ".sk-estimator-doc-link.fitted span {\n",
       "  /* fitted */\n",
       "  background: var(--sklearn-color-fitted-level-0);\n",
       "  border: var(--sklearn-color-fitted-level-3);\n",
       "}\n",
       "\n",
       ".sk-estimator-doc-link:hover span {\n",
       "  display: block;\n",
       "}\n",
       "\n",
       "/* \"?\"-specific style due to the `<a>` HTML tag */\n",
       "\n",
       "#sk-container-id-1 a.estimator_doc_link {\n",
       "  float: right;\n",
       "  font-size: 1rem;\n",
       "  line-height: 1em;\n",
       "  font-family: monospace;\n",
       "  background-color: var(--sklearn-color-background);\n",
       "  border-radius: 1rem;\n",
       "  height: 1rem;\n",
       "  width: 1rem;\n",
       "  text-decoration: none;\n",
       "  /* unfitted */\n",
       "  color: var(--sklearn-color-unfitted-level-1);\n",
       "  border: var(--sklearn-color-unfitted-level-1) 1pt solid;\n",
       "}\n",
       "\n",
       "#sk-container-id-1 a.estimator_doc_link.fitted {\n",
       "  /* fitted */\n",
       "  border: var(--sklearn-color-fitted-level-1) 1pt solid;\n",
       "  color: var(--sklearn-color-fitted-level-1);\n",
       "}\n",
       "\n",
       "/* On hover */\n",
       "#sk-container-id-1 a.estimator_doc_link:hover {\n",
       "  /* unfitted */\n",
       "  background-color: var(--sklearn-color-unfitted-level-3);\n",
       "  color: var(--sklearn-color-background);\n",
       "  text-decoration: none;\n",
       "}\n",
       "\n",
       "#sk-container-id-1 a.estimator_doc_link.fitted:hover {\n",
       "  /* fitted */\n",
       "  background-color: var(--sklearn-color-fitted-level-3);\n",
       "}\n",
       "\n",
       ".estimator-table summary {\n",
       "    padding: .5rem;\n",
       "    font-family: monospace;\n",
       "    cursor: pointer;\n",
       "}\n",
       "\n",
       ".estimator-table details[open] {\n",
       "    padding-left: 0.1rem;\n",
       "    padding-right: 0.1rem;\n",
       "    padding-bottom: 0.3rem;\n",
       "}\n",
       "\n",
       ".estimator-table .parameters-table {\n",
       "    margin-left: auto !important;\n",
       "    margin-right: auto !important;\n",
       "}\n",
       "\n",
       ".estimator-table .parameters-table tr:nth-child(odd) {\n",
       "    background-color: #fff;\n",
       "}\n",
       "\n",
       ".estimator-table .parameters-table tr:nth-child(even) {\n",
       "    background-color: #f6f6f6;\n",
       "}\n",
       "\n",
       ".estimator-table .parameters-table tr:hover {\n",
       "    background-color: #e0e0e0;\n",
       "}\n",
       "\n",
       ".estimator-table table td {\n",
       "    border: 1px solid rgba(106, 105, 104, 0.232);\n",
       "}\n",
       "\n",
       ".user-set td {\n",
       "    color:rgb(255, 94, 0);\n",
       "    text-align: left;\n",
       "}\n",
       "\n",
       ".user-set td.value pre {\n",
       "    color:rgb(255, 94, 0) !important;\n",
       "    background-color: transparent !important;\n",
       "}\n",
       "\n",
       ".default td {\n",
       "    color: black;\n",
       "    text-align: left;\n",
       "}\n",
       "\n",
       ".user-set td i,\n",
       ".default td i {\n",
       "    color: black;\n",
       "}\n",
       "\n",
       ".copy-paste-icon {\n",
       "    background-image: url(data:image/svg+xml;base64,PHN2ZyB4bWxucz0iaHR0cDovL3d3dy53My5vcmcvMjAwMC9zdmciIHZpZXdCb3g9IjAgMCA0NDggNTEyIj48IS0tIUZvbnQgQXdlc29tZSBGcmVlIDYuNy4yIGJ5IEBmb250YXdlc29tZSAtIGh0dHBzOi8vZm9udGF3ZXNvbWUuY29tIExpY2Vuc2UgLSBodHRwczovL2ZvbnRhd2Vzb21lLmNvbS9saWNlbnNlL2ZyZWUgQ29weXJpZ2h0IDIwMjUgRm9udGljb25zLCBJbmMuLS0+PHBhdGggZD0iTTIwOCAwTDMzMi4xIDBjMTIuNyAwIDI0LjkgNS4xIDMzLjkgMTQuMWw2Ny45IDY3LjljOSA5IDE0LjEgMjEuMiAxNC4xIDMzLjlMNDQ4IDMzNmMwIDI2LjUtMjEuNSA0OC00OCA0OGwtMTkyIDBjLTI2LjUgMC00OC0yMS41LTQ4LTQ4bDAtMjg4YzAtMjYuNSAyMS41LTQ4IDQ4LTQ4ek00OCAxMjhsODAgMCAwIDY0LTY0IDAgMCAyNTYgMTkyIDAgMC0zMiA2NCAwIDAgNDhjMCAyNi41LTIxLjUgNDgtNDggNDhMNDggNTEyYy0yNi41IDAtNDgtMjEuNS00OC00OEwwIDE3NmMwLTI2LjUgMjEuNS00OCA0OC00OHoiLz48L3N2Zz4=);\n",
       "    background-repeat: no-repeat;\n",
       "    background-size: 14px 14px;\n",
       "    background-position: 0;\n",
       "    display: inline-block;\n",
       "    width: 14px;\n",
       "    height: 14px;\n",
       "    cursor: pointer;\n",
       "}\n",
       "</style><body><div id=\"sk-container-id-1\" class=\"sk-top-container\"><div class=\"sk-text-repr-fallback\"><pre>LogisticRegression()</pre><b>In a Jupyter environment, please rerun this cell to show the HTML representation or trust the notebook. <br />On GitHub, the HTML representation is unable to render, please try loading this page with nbviewer.org.</b></div><div class=\"sk-container\" hidden><div class=\"sk-item\"><div class=\"sk-estimator fitted sk-toggleable\"><input class=\"sk-toggleable__control sk-hidden--visually\" id=\"sk-estimator-id-1\" type=\"checkbox\" checked><label for=\"sk-estimator-id-1\" class=\"sk-toggleable__label fitted sk-toggleable__label-arrow\"><div><div>LogisticRegression</div></div><div><a class=\"sk-estimator-doc-link fitted\" rel=\"noreferrer\" target=\"_blank\" href=\"https://scikit-learn.org/1.7/modules/generated/sklearn.linear_model.LogisticRegression.html\">?<span>Documentation for LogisticRegression</span></a><span class=\"sk-estimator-doc-link fitted\">i<span>Fitted</span></span></div></label><div class=\"sk-toggleable__content fitted\" data-param-prefix=\"\">\n",
       "        <div class=\"estimator-table\">\n",
       "            <details>\n",
       "                <summary>Parameters</summary>\n",
       "                <table class=\"parameters-table\">\n",
       "                  <tbody>\n",
       "                    \n",
       "        <tr class=\"default\">\n",
       "            <td><i class=\"copy-paste-icon\"\n",
       "                 onclick=\"copyToClipboard('penalty',\n",
       "                          this.parentElement.nextElementSibling)\"\n",
       "            ></i></td>\n",
       "            <td class=\"param\">penalty&nbsp;</td>\n",
       "            <td class=\"value\">&#x27;l2&#x27;</td>\n",
       "        </tr>\n",
       "    \n",
       "\n",
       "        <tr class=\"default\">\n",
       "            <td><i class=\"copy-paste-icon\"\n",
       "                 onclick=\"copyToClipboard('dual',\n",
       "                          this.parentElement.nextElementSibling)\"\n",
       "            ></i></td>\n",
       "            <td class=\"param\">dual&nbsp;</td>\n",
       "            <td class=\"value\">False</td>\n",
       "        </tr>\n",
       "    \n",
       "\n",
       "        <tr class=\"default\">\n",
       "            <td><i class=\"copy-paste-icon\"\n",
       "                 onclick=\"copyToClipboard('tol',\n",
       "                          this.parentElement.nextElementSibling)\"\n",
       "            ></i></td>\n",
       "            <td class=\"param\">tol&nbsp;</td>\n",
       "            <td class=\"value\">0.0001</td>\n",
       "        </tr>\n",
       "    \n",
       "\n",
       "        <tr class=\"default\">\n",
       "            <td><i class=\"copy-paste-icon\"\n",
       "                 onclick=\"copyToClipboard('C',\n",
       "                          this.parentElement.nextElementSibling)\"\n",
       "            ></i></td>\n",
       "            <td class=\"param\">C&nbsp;</td>\n",
       "            <td class=\"value\">1.0</td>\n",
       "        </tr>\n",
       "    \n",
       "\n",
       "        <tr class=\"default\">\n",
       "            <td><i class=\"copy-paste-icon\"\n",
       "                 onclick=\"copyToClipboard('fit_intercept',\n",
       "                          this.parentElement.nextElementSibling)\"\n",
       "            ></i></td>\n",
       "            <td class=\"param\">fit_intercept&nbsp;</td>\n",
       "            <td class=\"value\">True</td>\n",
       "        </tr>\n",
       "    \n",
       "\n",
       "        <tr class=\"default\">\n",
       "            <td><i class=\"copy-paste-icon\"\n",
       "                 onclick=\"copyToClipboard('intercept_scaling',\n",
       "                          this.parentElement.nextElementSibling)\"\n",
       "            ></i></td>\n",
       "            <td class=\"param\">intercept_scaling&nbsp;</td>\n",
       "            <td class=\"value\">1</td>\n",
       "        </tr>\n",
       "    \n",
       "\n",
       "        <tr class=\"default\">\n",
       "            <td><i class=\"copy-paste-icon\"\n",
       "                 onclick=\"copyToClipboard('class_weight',\n",
       "                          this.parentElement.nextElementSibling)\"\n",
       "            ></i></td>\n",
       "            <td class=\"param\">class_weight&nbsp;</td>\n",
       "            <td class=\"value\">None</td>\n",
       "        </tr>\n",
       "    \n",
       "\n",
       "        <tr class=\"default\">\n",
       "            <td><i class=\"copy-paste-icon\"\n",
       "                 onclick=\"copyToClipboard('random_state',\n",
       "                          this.parentElement.nextElementSibling)\"\n",
       "            ></i></td>\n",
       "            <td class=\"param\">random_state&nbsp;</td>\n",
       "            <td class=\"value\">None</td>\n",
       "        </tr>\n",
       "    \n",
       "\n",
       "        <tr class=\"default\">\n",
       "            <td><i class=\"copy-paste-icon\"\n",
       "                 onclick=\"copyToClipboard('solver',\n",
       "                          this.parentElement.nextElementSibling)\"\n",
       "            ></i></td>\n",
       "            <td class=\"param\">solver&nbsp;</td>\n",
       "            <td class=\"value\">&#x27;lbfgs&#x27;</td>\n",
       "        </tr>\n",
       "    \n",
       "\n",
       "        <tr class=\"default\">\n",
       "            <td><i class=\"copy-paste-icon\"\n",
       "                 onclick=\"copyToClipboard('max_iter',\n",
       "                          this.parentElement.nextElementSibling)\"\n",
       "            ></i></td>\n",
       "            <td class=\"param\">max_iter&nbsp;</td>\n",
       "            <td class=\"value\">100</td>\n",
       "        </tr>\n",
       "    \n",
       "\n",
       "        <tr class=\"default\">\n",
       "            <td><i class=\"copy-paste-icon\"\n",
       "                 onclick=\"copyToClipboard('multi_class',\n",
       "                          this.parentElement.nextElementSibling)\"\n",
       "            ></i></td>\n",
       "            <td class=\"param\">multi_class&nbsp;</td>\n",
       "            <td class=\"value\">&#x27;deprecated&#x27;</td>\n",
       "        </tr>\n",
       "    \n",
       "\n",
       "        <tr class=\"default\">\n",
       "            <td><i class=\"copy-paste-icon\"\n",
       "                 onclick=\"copyToClipboard('verbose',\n",
       "                          this.parentElement.nextElementSibling)\"\n",
       "            ></i></td>\n",
       "            <td class=\"param\">verbose&nbsp;</td>\n",
       "            <td class=\"value\">0</td>\n",
       "        </tr>\n",
       "    \n",
       "\n",
       "        <tr class=\"default\">\n",
       "            <td><i class=\"copy-paste-icon\"\n",
       "                 onclick=\"copyToClipboard('warm_start',\n",
       "                          this.parentElement.nextElementSibling)\"\n",
       "            ></i></td>\n",
       "            <td class=\"param\">warm_start&nbsp;</td>\n",
       "            <td class=\"value\">False</td>\n",
       "        </tr>\n",
       "    \n",
       "\n",
       "        <tr class=\"default\">\n",
       "            <td><i class=\"copy-paste-icon\"\n",
       "                 onclick=\"copyToClipboard('n_jobs',\n",
       "                          this.parentElement.nextElementSibling)\"\n",
       "            ></i></td>\n",
       "            <td class=\"param\">n_jobs&nbsp;</td>\n",
       "            <td class=\"value\">None</td>\n",
       "        </tr>\n",
       "    \n",
       "\n",
       "        <tr class=\"default\">\n",
       "            <td><i class=\"copy-paste-icon\"\n",
       "                 onclick=\"copyToClipboard('l1_ratio',\n",
       "                          this.parentElement.nextElementSibling)\"\n",
       "            ></i></td>\n",
       "            <td class=\"param\">l1_ratio&nbsp;</td>\n",
       "            <td class=\"value\">None</td>\n",
       "        </tr>\n",
       "    \n",
       "                  </tbody>\n",
       "                </table>\n",
       "            </details>\n",
       "        </div>\n",
       "    </div></div></div></div></div><script>function copyToClipboard(text, element) {\n",
       "    // Get the parameter prefix from the closest toggleable content\n",
       "    const toggleableContent = element.closest('.sk-toggleable__content');\n",
       "    const paramPrefix = toggleableContent ? toggleableContent.dataset.paramPrefix : '';\n",
       "    const fullParamName = paramPrefix ? `${paramPrefix}${text}` : text;\n",
       "\n",
       "    const originalStyle = element.style;\n",
       "    const computedStyle = window.getComputedStyle(element);\n",
       "    const originalWidth = computedStyle.width;\n",
       "    const originalHTML = element.innerHTML.replace('Copied!', '');\n",
       "\n",
       "    navigator.clipboard.writeText(fullParamName)\n",
       "        .then(() => {\n",
       "            element.style.width = originalWidth;\n",
       "            element.style.color = 'green';\n",
       "            element.innerHTML = \"Copied!\";\n",
       "\n",
       "            setTimeout(() => {\n",
       "                element.innerHTML = originalHTML;\n",
       "                element.style = originalStyle;\n",
       "            }, 2000);\n",
       "        })\n",
       "        .catch(err => {\n",
       "            console.error('Failed to copy:', err);\n",
       "            element.style.color = 'red';\n",
       "            element.innerHTML = \"Failed!\";\n",
       "            setTimeout(() => {\n",
       "                element.innerHTML = originalHTML;\n",
       "                element.style = originalStyle;\n",
       "            }, 2000);\n",
       "        });\n",
       "    return false;\n",
       "}\n",
       "\n",
       "document.querySelectorAll('.fa-regular.fa-copy').forEach(function(element) {\n",
       "    const toggleableContent = element.closest('.sk-toggleable__content');\n",
       "    const paramPrefix = toggleableContent ? toggleableContent.dataset.paramPrefix : '';\n",
       "    const paramName = element.parentElement.nextElementSibling.textContent.trim();\n",
       "    const fullParamName = paramPrefix ? `${paramPrefix}${paramName}` : paramName;\n",
       "\n",
       "    element.setAttribute('title', fullParamName);\n",
       "});\n",
       "</script></body>"
      ],
      "text/plain": [
       "LogisticRegression()"
      ]
     },
     "execution_count": 47,
     "metadata": {},
     "output_type": "execute_result"
    }
   ],
   "source": [
    "clf = LogisticRegression()\n",
    "clf.fit(x_data,y)"
   ]
  },
  {
   "cell_type": "code",
   "execution_count": 48,
   "id": "b8be366a",
   "metadata": {},
   "outputs": [
    {
     "data": {
      "text/plain": [
       "1.0"
      ]
     },
     "execution_count": 48,
     "metadata": {},
     "output_type": "execute_result"
    }
   ],
   "source": [
    "clf.score(x_data,y)\n"
   ]
  },
  {
   "cell_type": "code",
   "execution_count": null,
   "id": "5322ce43",
   "metadata": {},
   "outputs": [],
   "source": []
  },
  {
   "cell_type": "code",
   "execution_count": null,
   "id": "b298bab9",
   "metadata": {},
   "outputs": [],
   "source": []
  },
  {
   "cell_type": "code",
   "execution_count": null,
   "id": "1f909868",
   "metadata": {},
   "outputs": [],
   "source": []
  },
  {
   "cell_type": "code",
   "execution_count": null,
   "id": "7e0a4aba",
   "metadata": {},
   "outputs": [],
   "source": []
  },
  {
   "cell_type": "code",
   "execution_count": null,
   "id": "190c5cf0",
   "metadata": {},
   "outputs": [],
   "source": []
  }
 ],
 "metadata": {
  "kernelspec": {
   "display_name": ".venv",
   "language": "python",
   "name": "python3"
  },
  "language_info": {
   "codemirror_mode": {
    "name": "ipython",
    "version": 3
   },
   "file_extension": ".py",
   "mimetype": "text/x-python",
   "name": "python",
   "nbconvert_exporter": "python",
   "pygments_lexer": "ipython3",
   "version": "3.13.1"
  }
 },
 "nbformat": 4,
 "nbformat_minor": 5
}
