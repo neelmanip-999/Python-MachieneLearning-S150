{
 "cells": [
  {
   "cell_type": "markdown",
   "id": "a8b09427",
   "metadata": {},
   "source": [
    "functions:-\n",
    "\n",
    "defination\n",
    "Memory management\n",
    "parameters (Pass by Value)\n",
    "return / Multiple Return\n",
    "default arguments\n",
    "keyword arguments\n",
    "DocString (doc)\n",
    "function as arguments\n",
    "Anonymous Function\n",
    "Recursion\n",
    "Type Hints\n",
    "Arbitrary arguments (*args and **kwargs) (After Built-in)\n",
    "Function within function\n",
    "Function Decorators\n",
    "iterators\n",
    "\n",
    "\n",
    "Various Functions:-\n",
    "\n",
    "\n",
    "abs\n",
    "all\n",
    "dir\n",
    "divmod\n",
    "enumerate\n",
    "filter\n",
    "isinstance\n",
    "map\n",
    "reduce -- in python3 from functools import reduce\n",
    "sorted"
   ]
  },
  {
   "cell_type": "code",
   "execution_count": 2,
   "id": "ab5421f3",
   "metadata": {},
   "outputs": [
    {
     "name": "stdout",
     "output_type": "stream",
     "text": [
      "a= 100\n",
      "b= 200\n",
      "sum : 300\n"
     ]
    }
   ],
   "source": [
    "def add(a,b):\n",
    "    print(\"a=\",a)\n",
    "    print(\"b=\",b)\n",
    "    x=a+b\n",
    "    return x\n",
    "\n",
    "c=add(100,200)\n",
    "print(\"sum :\",c)    \n"
   ]
  },
  {
   "cell_type": "code",
   "execution_count": 3,
   "id": "4795612e",
   "metadata": {},
   "outputs": [
    {
     "name": "stdout",
     "output_type": "stream",
     "text": [
      "[10, 20] [30, 40]\n",
      "[30, 20] [10, 40]\n"
     ]
    }
   ],
   "source": [
    "def swap(a,b):\n",
    "    temp=a[0]\n",
    "    a[0]=b[0]\n",
    "    b[0]=temp\n",
    "a=[10,20]\n",
    "b=[30,40]\n",
    "\n",
    "print(a,b)\n",
    "swap(a,b)\n",
    "print(a,b)"
   ]
  },
  {
   "cell_type": "code",
   "execution_count": 7,
   "id": "dee5bd10",
   "metadata": {},
   "outputs": [
    {
     "name": "stdout",
     "output_type": "stream",
     "text": [
      "10\n",
      "-10\n"
     ]
    }
   ],
   "source": [
    "def add(a,b):\n",
    "    return sub(a,b)+b\n",
    "def sub(a,b):\n",
    "    return a-b\n",
    "\n",
    "c=add(10,20)\n",
    "d=sub(10,20)\n",
    "print(c)\n",
    "print(d)\n"
   ]
  },
  {
   "cell_type": "code",
   "execution_count": null,
   "id": "7e4b250c",
   "metadata": {},
   "outputs": [],
   "source": [
    "def add_sub(a,b,/,*,p,q = 50):\n",
    "    c = a+b\n",
    "    d = p-q\n",
    "\n",
    "    return c,d\n",
    "\n",
    "c,d = add_sub(1000,500,q=200,p=100)\n",
    "print(c,d)\n",
    "\n",
    "# / means a and b must be passed positionally, not by keyword.\n",
    "\n",
    "# * means p and q must be passed as keyword arguments only."
   ]
  },
  {
   "cell_type": "code",
   "execution_count": 9,
   "id": "547667c8",
   "metadata": {},
   "outputs": [
    {
     "name": "stdout",
     "output_type": "stream",
     "text": [
      "30\n",
      "(150, 50)\n",
      "100\n"
     ]
    }
   ],
   "source": [
    "def add(a:int, b:int) -> int :\n",
    "    c = a+b\n",
    "    return c\n",
    "\n",
    "def add_sub(a,b,/,*,p,q=30):\n",
    "    c = a+b\n",
    "    d = p-q\n",
    "    return c,d\n",
    "\n",
    "def sub(a):\n",
    "    b = 200\n",
    "    c = a-b\n",
    "    print(c)\n",
    "\n",
    "\n",
    "# 1. add(a: int, b: int) -> int\n",
    "\n",
    "# def add(a: int, b: int) -> int:\n",
    "#     c = a + b\n",
    "#     return c\n",
    "# Purpose: Adds a and b, returns the sum.\n",
    "\n",
    "# Type hints: Indicate that both a and b are integers, and the function returns an integer.\n",
    "\n",
    "# Note: Type hints are optional in Python and aren't enforced at runtime.\n",
    "\n",
    "# Example call:\n",
    "\n",
    "# python\n",
    "# Copy code\n",
    "# result = add(10, 5)  # Output: 15\n",
    "# ✅ 2. add_sub(a, b, /, *, p, q=30)\n",
    "# python\n",
    "# Copy code\n",
    "# def add_sub(a, b, /, *, p, q=30):\n",
    "#     c = a + b\n",
    "#     d = p - q\n",
    "#     return c, d\n",
    "# Positional-only (a, b): Must be passed without keywords.\n",
    "\n",
    "# Keyword-only (p, q): Must be passed using keywords.\n",
    "\n",
    "# q has a default value of 30.\n",
    "\n",
    "# Example call:\n",
    "\n",
    "# python\n",
    "# Copy code\n",
    "# x, y = add_sub(100, 50, p=70, q=20)\n",
    "# # x = 150, y = 50\n",
    "# ✅ 3. sub(a)\n",
    "# python\n",
    "# Copy code\n",
    "# def sub(a):\n",
    "#     b = 200\n",
    "#     c = a - b\n",
    "#     print(c)\n",
    "# Purpose: Subtracts 200 from the input a, prints the result.\n",
    "\n",
    "# No return value.\n",
    "\n",
    "# Example call:\n",
    "\n",
    "# python\n",
    "# Copy code\n",
    "# sub(500)  # Output: 300\n",
    "# 🧪 Example Combined Use:\n",
    "# python\n",
    "# Copy code\n",
    "print(add(10, 20))                         # 30\n",
    "print(add_sub(100, 50, p=80))              # (150, 50)\n",
    "sub(300)                                   # 100"
   ]
  },
  {
   "cell_type": "code",
   "execution_count": 10,
   "id": "fd826a93",
   "metadata": {},
   "outputs": [
    {
     "name": "stdout",
     "output_type": "stream",
     "text": [
      "<function add at 0x00000138D4E66DE0> <class 'function'> 1343601667552\n"
     ]
    }
   ],
   "source": [
    "print(add,type(add),id(add))"
   ]
  },
  {
   "cell_type": "code",
   "execution_count": 11,
   "id": "6fae2d94",
   "metadata": {},
   "outputs": [
    {
     "name": "stdout",
     "output_type": "stream",
     "text": [
      "<function add at 0x00000138D4E66DE0>\n"
     ]
    }
   ],
   "source": [
    "print(add)"
   ]
  },
  {
   "cell_type": "code",
   "execution_count": 12,
   "id": "cb6de604",
   "metadata": {},
   "outputs": [
    {
     "data": {
      "text/plain": [
       "10"
      ]
     },
     "execution_count": 12,
     "metadata": {},
     "output_type": "execute_result"
    }
   ],
   "source": [
    "import math\n",
    "math.floor(10.6)"
   ]
  },
  {
   "cell_type": "code",
   "execution_count": 13,
   "id": "2f385a2f",
   "metadata": {},
   "outputs": [
    {
     "name": "stdout",
     "output_type": "stream",
     "text": [
      "\u001b[31mSignature:\u001b[39m math.floor(x, /)\n",
      "\u001b[31mDocstring:\u001b[39m\n",
      "Return the floor of x as an Integral.\n",
      "\n",
      "This is the largest integer <= x.\n",
      "\u001b[31mType:\u001b[39m      builtin_function_or_method"
     ]
    }
   ],
   "source": [
    "math.floor?"
   ]
  },
  {
   "cell_type": "code",
   "execution_count": null,
   "id": "01649147",
   "metadata": {},
   "outputs": [
    {
     "data": {
      "text/plain": [
       "'This is a demo Function for DocString'"
      ]
     },
     "execution_count": 14,
     "metadata": {},
     "output_type": "execute_result"
    }
   ],
   "source": [
    "def fn():\n",
    "    \"This is a demo Function for DocString\"\n",
    "fn.__doc__\n",
    "\n",
    "# \"This is a demo Function for DocString\" is the docstring of the function fn.\n",
    "\n",
    "# A docstring is the first string literal in a function/class/module and is used for documentation.\n"
   ]
  },
  {
   "cell_type": "code",
   "execution_count": 15,
   "id": "1d9d86bf",
   "metadata": {},
   "outputs": [
    {
     "name": "stdout",
     "output_type": "stream",
     "text": [
      "\u001b[31mSignature:\u001b[39m fn()\n",
      "\u001b[31mDocstring:\u001b[39m This is a demo Function for DocString\n",
      "\u001b[31mFile:\u001b[39m      c:\\users\\asus\\appdata\\local\\temp\\ipykernel_23376\\3154994930.py\n",
      "\u001b[31mType:\u001b[39m      function"
     ]
    }
   ],
   "source": [
    "\n",
    "fn?"
   ]
  },
  {
   "cell_type": "code",
   "execution_count": 16,
   "id": "f213e0c3",
   "metadata": {},
   "outputs": [
    {
     "name": "stdout",
     "output_type": "stream",
     "text": [
      "\u001b[31mSignature:\u001b[39m add(a: int, b: int) -> int\n",
      "\u001b[31mDocstring:\u001b[39m <no docstring>\n",
      "\u001b[31mFile:\u001b[39m      c:\\users\\asus\\appdata\\local\\temp\\ipykernel_23376\\2761959555.py\n",
      "\u001b[31mType:\u001b[39m      function"
     ]
    }
   ],
   "source": [
    "\n",
    "add?"
   ]
  },
  {
   "cell_type": "code",
   "execution_count": 17,
   "id": "6f680ede",
   "metadata": {},
   "outputs": [],
   "source": [
    "def add(a,b):\n",
    "    return a+b\n",
    "def sub(a,b):\n",
    "    return a-b"
   ]
  },
  {
   "cell_type": "code",
   "execution_count": 18,
   "id": "cc5f6f8c",
   "metadata": {},
   "outputs": [
    {
     "data": {
      "text/plain": [
       "200"
      ]
     },
     "execution_count": 18,
     "metadata": {},
     "output_type": "execute_result"
    }
   ],
   "source": [
    "def cal(fn,a=10,b=20):\n",
    "    val = fn(a,b)\n",
    "    return val\n",
    "cal(lambda a,b: a*b,20,10)\n",
    "\n",
    "\n",
    "# cal is a function that:\n",
    "\n",
    "# Takes another function fn as an argument.\n",
    "\n",
    "# Passes a and b to it.\n",
    "\n",
    "# Returns the result.\n",
    "\n",
    "# ✅ Function Call:\n",
    "# python\n",
    "# Copy code\n",
    "# cal(lambda a, b: a * b, 20, 10)\n",
    "# You're passing a lambda function:\n",
    "# lambda a, b: a * b → returns the product of a and b.\n",
    "\n",
    "# You're also overriding the default values of a and b with 20 and 10.\n",
    "\n",
    "# ▶ Execution:\n",
    "# fn = lambda a, b: a * b\n",
    "\n",
    "# a = 20, b = 10\n",
    "\n",
    "# val = 20 * 10 = 200\n",
    "\n"
   ]
  },
  {
   "cell_type": "code",
   "execution_count": 19,
   "id": "794eec21",
   "metadata": {},
   "outputs": [
    {
     "data": {
      "text/plain": [
       "20"
      ]
     },
     "execution_count": 19,
     "metadata": {},
     "output_type": "execute_result"
    }
   ],
   "source": [
    "sub = lambda a,b,c: a-b+c\n",
    "sub(10,20,30)\n"
   ]
  },
  {
   "cell_type": "code",
   "execution_count": 20,
   "id": "581db99a",
   "metadata": {},
   "outputs": [
    {
     "data": {
      "text/plain": [
       "2.0"
      ]
     },
     "execution_count": 20,
     "metadata": {},
     "output_type": "execute_result"
    }
   ],
   "source": [
    "cal(lambda a,b: a/b,20,10)\n"
   ]
  },
  {
   "cell_type": "code",
   "execution_count": 21,
   "id": "5ea40ac7",
   "metadata": {},
   "outputs": [
    {
     "name": "stdout",
     "output_type": "stream",
     "text": [
      "Hello\n",
      "In fn2\n",
      "Bye\n",
      "In fn2\n"
     ]
    }
   ],
   "source": [
    "def fn1():\n",
    "    print(\"Hello\")\n",
    "    def fn2():\n",
    "        print(\"In fn2\")\n",
    "\n",
    "    fn2()\n",
    "    print(\"Bye\")\n",
    "    return fn2\n",
    "fn2 = fn1()\n",
    "fn2()"
   ]
  },
  {
   "cell_type": "code",
   "execution_count": 2,
   "id": "ab28746f",
   "metadata": {},
   "outputs": [
    {
     "data": {
      "text/plain": [
       "5"
      ]
     },
     "execution_count": 2,
     "metadata": {},
     "output_type": "execute_result"
    }
   ],
   "source": [
    "\n",
    "import math\n",
    "def count_digits(num : int) -> int:\n",
    "    return int(math.log10(num))+1\n",
    "count_digits(12345)"
   ]
  },
  {
   "cell_type": "code",
   "execution_count": 3,
   "id": "2fc8d3ed",
   "metadata": {},
   "outputs": [
    {
     "data": {
      "text/plain": [
       "False"
      ]
     },
     "execution_count": 3,
     "metadata": {},
     "output_type": "execute_result"
    }
   ],
   "source": [
    "def isArmStrong(num: int) -> bool:\n",
    "    t = num\n",
    "    s = 0\n",
    "    nod = count_digits(num)\n",
    "    while t != 0:\n",
    "        rem = t%10\n",
    "        s += rem**nod\n",
    "\n",
    "        t = t//10\n",
    "    return s == num\n",
    "isArmStrong(16)"
   ]
  },
  {
   "cell_type": "code",
   "execution_count": 4,
   "id": "b5ec8046",
   "metadata": {},
   "outputs": [
    {
     "name": "stdout",
     "output_type": "stream",
     "text": [
      "1\n",
      "2\n",
      "3\n",
      "4\n",
      "5\n",
      "6\n",
      "7\n",
      "8\n",
      "9\n",
      "153\n",
      "370\n",
      "371\n",
      "407\n"
     ]
    }
   ],
   "source": [
    "def printAllArmStrong(l:int = 1,r:int = 1000) -> None:\n",
    "    i = l\n",
    "    while i <= r:\n",
    "        if isArmStrong(i):\n",
    "            print(i)\n",
    "        i += 1\n",
    "printAllArmStrong(1,1000)\n"
   ]
  },
  {
   "cell_type": "code",
   "execution_count": null,
   "id": "09add23b",
   "metadata": {},
   "outputs": [
    {
     "name": "stdout",
     "output_type": "stream",
     "text": [
      "(20, 30) <class 'tuple'>\n",
      "a =  10\n"
     ]
    }
   ],
   "source": [
    "\n",
    "def fn(a,*args,c):\n",
    "    print(args,type(args))\n",
    "    print('a = ',a)\n",
    "fn(10,20,30,c = 40)\n",
    "\n",
    "# You're using a function with a combination of:\n",
    "\n",
    "# a regular parameter a,\n",
    "\n",
    "# *args to collect extra positional arguments,\n",
    "\n",
    "# and a keyword-only argument c.\n",
    "\n"
   ]
  },
  {
   "cell_type": "code",
   "execution_count": null,
   "id": "db90b4ad",
   "metadata": {},
   "outputs": [
    {
     "name": "stdout",
     "output_type": "stream",
     "text": [
      "{'a': 100, 'b': 'Hello'}\n",
      "c = 400\n"
     ]
    }
   ],
   "source": [
    "def fn(c,**shub):\n",
    "    print(shub)\n",
    "    print('c =',c)\n",
    "fn(400, a = 100,b = 'Hello')\n",
    "\n",
    "# **shub to collect additional keyword arguments into a dictionary."
   ]
  },
  {
   "cell_type": "code",
   "execution_count": 7,
   "id": "eea6cb93",
   "metadata": {},
   "outputs": [
    {
     "name": "stdout",
     "output_type": "stream",
     "text": [
      "10\n",
      "20\n",
      "()\n",
      "{'c': 30, 'd': 40, 'f': 60}\n"
     ]
    }
   ],
   "source": [
    "def fn(a,b,*args,e,**kwargs):\n",
    "    print(a)\n",
    "    print(b)\n",
    "    print(args)\n",
    "    print(kwargs)\n",
    "fn(10,20,c = 30,d = 40,e = 50,f = 60)\n",
    "\n",
    "# 🧠 Parameter Matching:\n",
    "# Argument\tValue\n",
    "# 10\t        → a\t\n",
    "# 20\t        → b\t\n",
    "# (no extra positional)\t→ args = () (empty tuple)\t\n",
    "# e=50\t→ keyword-only e ✅\t\n",
    "# c=30, d=40, f=60\t→ collected into kwargs"
   ]
  },
  {
   "cell_type": "code",
   "execution_count": 8,
   "id": "c62db5db",
   "metadata": {},
   "outputs": [],
   "source": [
    "z = 1000\n",
    "def fn_1():\n",
    "    x = 10\n",
    "    y = 20\n",
    "    z = 100\n",
    "    def fn_2():\n",
    "        nonlocal z,y\n",
    "        y = 2000\n",
    "        x = 30\n",
    "        w = 0\n",
    "        z = 200\n",
    "        print(x,y,z)\n",
    "    fn_2()\n",
    "    print(x,y,z)"
   ]
  },
  {
   "cell_type": "code",
   "execution_count": null,
   "id": "81ce0a6f",
   "metadata": {},
   "outputs": [
    {
     "name": "stdout",
     "output_type": "stream",
     "text": [
      "30 2000 200\n",
      "10 2000 200\n",
      "1000\n"
     ]
    }
   ],
   "source": [
    "fn_1()\n",
    "print(z)\n",
    "\n",
    "# Variable Scopes:\n",
    "# z = 1000 → global\n",
    "\n",
    "# fn_1() creates local x=10, y=20, z=100\n",
    "\n",
    "# fn_2() uses nonlocal z, y → modifies z and y in fn_1\n",
    "\n",
    "# Execution Flow:\n",
    "# Inside fn_2():\n",
    "# x = 30 (local to fn_2, doesn't affect outer x)\n",
    "\n",
    "# y = 2000 (modifies y from fn_1)\n",
    "\n",
    "# z = 200 (modifies z from fn_1)\n",
    "\n",
    "# print(x, y, z) → prints 30 2000 200\n",
    "\n",
    "# After fn_2() finishes:\n",
    "# x = 10 (unchanged in fn_1)\n",
    "\n",
    "# y = 2000 (modified)\n",
    "\n",
    "# z = 200 (modified)\n",
    "\n",
    "# print(x, y, z) → prints 10 2000 200\n",
    "\n",
    "# Outside all functions:\n",
    "# z = 1000 (global remains unchanged)\n",
    "\n",
    "# print(z) → prints 1000\n",
    "\n"
   ]
  },
  {
   "cell_type": "code",
   "execution_count": 10,
   "id": "9247e4f8",
   "metadata": {},
   "outputs": [
    {
     "name": "stdout",
     "output_type": "stream",
     "text": [
      "Hello\n"
     ]
    }
   ],
   "source": [
    "users = {\n",
    "    \"Shubham\":123,\n",
    "    \"Vani\":345\n",
    "}\n",
    "\n",
    "def printH():\n",
    "    print(\"Hello\")\n",
    "\n",
    "def protectedH(username,password):\n",
    "    if username in users and users[username] == password:\n",
    "        printH()\n",
    "    else:\n",
    "        print(\"Wrong Username or password\")\n",
    "protectedH(\"Shubham\",123)"
   ]
  },
  {
   "cell_type": "markdown",
   "id": "5a60e648",
   "metadata": {},
   "source": [
    "Various Functions:-\n",
    "\n",
    "abs\n",
    "all\n",
    "dir\n",
    "divmod\n",
    "enumerate\n",
    "filter\n",
    "isinstance\n",
    "map\n",
    "reduce -- in python3 from functools import reduce\n",
    "sorted\n"
   ]
  },
  {
   "cell_type": "code",
   "execution_count": null,
   "id": "a34fa47c",
   "metadata": {},
   "outputs": [
    {
     "data": {
      "text/plain": [
       "True"
      ]
     },
     "execution_count": 11,
     "metadata": {},
     "output_type": "execute_result"
    }
   ],
   "source": [
    "all([1,2,3,True])\n",
    "\n",
    "# The all() function returns True if all elements in the iterable are truthy (i.e., not False, 0, None, '', etc.).\n",
    "\n",
    "# In this case:\n",
    "\n",
    "# 1, 2, 3, and True are all truthy values.\n",
    "\n"
   ]
  },
  {
   "cell_type": "code",
   "execution_count": null,
   "id": "12899c31",
   "metadata": {},
   "outputs": [
    {
     "data": {
      "text/plain": [
       "(3, 1)"
      ]
     },
     "execution_count": 12,
     "metadata": {},
     "output_type": "execute_result"
    }
   ],
   "source": [
    "divmod(10,3)\n",
    "\n",
    "# The built-in function divmod(a, b) returns a tuple containing:\n",
    "\n",
    "# The result of integer division a // b (quotient)\n",
    "\n",
    "# The remainder a % b\n",
    "\n"
   ]
  },
  {
   "cell_type": "code",
   "execution_count": null,
   "id": "d9737d16",
   "metadata": {},
   "outputs": [
    {
     "name": "stdout",
     "output_type": "stream",
     "text": [
      "1 10\n",
      "2 20\n",
      "3 30\n"
     ]
    }
   ],
   "source": [
    "for idx,val in enumerate([10,20,30],start=1):\n",
    "    print(idx,val)\n",
    "\n",
    "#     enumerate() returns (index, value) pairs from the list.\n",
    "\n",
    "# By default, indexing starts from 0, but you've specified start=1."
   ]
  },
  {
   "cell_type": "code",
   "execution_count": 14,
   "id": "c8754ba0",
   "metadata": {},
   "outputs": [
    {
     "name": "stdout",
     "output_type": "stream",
     "text": [
      "2\n",
      "4\n",
      "6\n",
      "8\n",
      "10\n"
     ]
    }
   ],
   "source": [
    "l = [i for i in range(1,11)]\n",
    "for i in filter(lambda x:x%2==0,l):\n",
    "    print(i)"
   ]
  },
  {
   "cell_type": "code",
   "execution_count": 15,
   "id": "a2798c55",
   "metadata": {},
   "outputs": [
    {
     "name": "stdout",
     "output_type": "stream",
     "text": [
      "False\n"
     ]
    }
   ],
   "source": [
    "a = 10\n",
    "print(isinstance(a,float))"
   ]
  },
  {
   "cell_type": "code",
   "execution_count": 16,
   "id": "d7f0697a",
   "metadata": {},
   "outputs": [
    {
     "name": "stdout",
     "output_type": "stream",
     "text": [
      "1\n",
      "4\n",
      "9\n",
      "16\n",
      "25\n",
      "36\n",
      "49\n",
      "64\n",
      "81\n",
      "100\n"
     ]
    }
   ],
   "source": [
    "for i in map(lambda x:x**2,l):\n",
    "    print(i)"
   ]
  },
  {
   "cell_type": "code",
   "execution_count": null,
   "id": "dbf0ab2e",
   "metadata": {},
   "outputs": [
    {
     "data": {
      "text/plain": [
       "3628800"
      ]
     },
     "execution_count": 17,
     "metadata": {},
     "output_type": "execute_result"
    }
   ],
   "source": [
    "from functools import reduce\n",
    "reduce(lambda x,y : x*y, l)\n",
    "\n",
    "\n",
    "# Step 1: (((1 * 2) * 3) * 4)\n",
    "# Step 2: => 2 * 3 = 6\n",
    "# Step 3: => 6 * 4 = 24\n",
    "\n"
   ]
  },
  {
   "cell_type": "code",
   "execution_count": 18,
   "id": "011a0bd1",
   "metadata": {},
   "outputs": [
    {
     "data": {
      "text/plain": [
       "10"
      ]
     },
     "execution_count": 18,
     "metadata": {},
     "output_type": "execute_result"
    }
   ],
   "source": [
    "reduce(lambda x,y : x if x>y else y, l)"
   ]
  }
 ],
 "metadata": {
  "kernelspec": {
   "display_name": ".venv",
   "language": "python",
   "name": "python3"
  },
  "language_info": {
   "codemirror_mode": {
    "name": "ipython",
    "version": 3
   },
   "file_extension": ".py",
   "mimetype": "text/x-python",
   "name": "python",
   "nbconvert_exporter": "python",
   "pygments_lexer": "ipython3",
   "version": "3.13.1"
  }
 },
 "nbformat": 4,
 "nbformat_minor": 5
}
