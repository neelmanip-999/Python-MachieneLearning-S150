{
 "cells": [
  {
   "cell_type": "markdown",
   "id": "7bbacc71",
   "metadata": {},
   "source": [
    "Sets:-\n",
    "\n",
    "unordered collection of unique items\n",
    "Using sets:\n",
    "we can test for membership\n",
    "whether a set is a subset of another set\n",
    "find intersection between two sets and so on\n",
    "Can't be indexed"
   ]
  },
  {
   "cell_type": "code",
   "execution_count": 1,
   "id": "c5d48e4b",
   "metadata": {},
   "outputs": [
    {
     "name": "stdout",
     "output_type": "stream",
     "text": [
      "{1, 2, 3, 4, 5, 'Shubham', 10, 'Hello'} <class 'set'>\n"
     ]
    }
   ],
   "source": [
    "s = {1,2,3,4,\"Hello\",1,5,\"Shubham\",10}\n",
    "print(s,type(s))\n"
   ]
  },
  {
   "cell_type": "code",
   "execution_count": 2,
   "id": "abd0485d",
   "metadata": {},
   "outputs": [
    {
     "data": {
      "text/plain": [
       "True"
      ]
     },
     "execution_count": 2,
     "metadata": {},
     "output_type": "execute_result"
    }
   ],
   "source": [
    "3 in s"
   ]
  },
  {
   "cell_type": "code",
   "execution_count": 3,
   "id": "af0f3dc8",
   "metadata": {},
   "outputs": [
    {
     "data": {
      "text/plain": [
       "False"
      ]
     },
     "execution_count": 3,
     "metadata": {},
     "output_type": "execute_result"
    }
   ],
   "source": [
    "30 in s"
   ]
  },
  {
   "cell_type": "code",
   "execution_count": 5,
   "id": "afc92a77",
   "metadata": {},
   "outputs": [
    {
     "data": {
      "text/plain": [
       "{1, 2, 3, 4, 5, 6, 7}"
      ]
     },
     "execution_count": 5,
     "metadata": {},
     "output_type": "execute_result"
    }
   ],
   "source": [
    "l = [1,2,3,5,2,3,1,6,3,4,2,7,6]\n",
    "s = set(l)\n",
    "s"
   ]
  },
  {
   "cell_type": "code",
   "execution_count": 6,
   "id": "73b3f1a0",
   "metadata": {},
   "outputs": [
    {
     "data": {
      "text/plain": [
       "{1, 2, 3, 4, 10}"
      ]
     },
     "execution_count": 6,
     "metadata": {},
     "output_type": "execute_result"
    }
   ],
   "source": [
    "s1 = {1,2,3,4}\n",
    "s2 = {3,4,5,6}\n",
    "s1.add(10)\n",
    "s1\n"
   ]
  },
  {
   "cell_type": "code",
   "execution_count": 8,
   "id": "09526f26",
   "metadata": {},
   "outputs": [
    {
     "data": {
      "text/plain": [
       "set()"
      ]
     },
     "execution_count": 8,
     "metadata": {},
     "output_type": "execute_result"
    }
   ],
   "source": [
    "l = []\n",
    "s = set()\n",
    "s #This creates an Empty Set"
   ]
  },
  {
   "cell_type": "code",
   "execution_count": 9,
   "id": "1fbc8504",
   "metadata": {},
   "outputs": [
    {
     "ename": "TypeError",
     "evalue": "'set' object is not subscriptable",
     "output_type": "error",
     "traceback": [
      "\u001b[31m---------------------------------------------------------------------------\u001b[39m",
      "\u001b[31mTypeError\u001b[39m                                 Traceback (most recent call last)",
      "\u001b[36mCell\u001b[39m\u001b[36m \u001b[39m\u001b[32mIn[9]\u001b[39m\u001b[32m, line 1\u001b[39m\n\u001b[32m----> \u001b[39m\u001b[32m1\u001b[39m \u001b[43ms\u001b[49m\u001b[43m[\u001b[49m\u001b[32;43m0\u001b[39;49m\u001b[43m]\u001b[49m\n",
      "\u001b[31mTypeError\u001b[39m: 'set' object is not subscriptable"
     ]
    }
   ],
   "source": [
    "s[0]"
   ]
  },
  {
   "cell_type": "code",
   "execution_count": 10,
   "id": "38c64093",
   "metadata": {},
   "outputs": [
    {
     "data": {
      "text/plain": [
       "{1, 2, 3, 4, 5, 6, 10}"
      ]
     },
     "execution_count": 10,
     "metadata": {},
     "output_type": "execute_result"
    }
   ],
   "source": [
    "s1.union(s2)"
   ]
  },
  {
   "cell_type": "code",
   "execution_count": 11,
   "id": "903fa2ce",
   "metadata": {},
   "outputs": [
    {
     "data": {
      "text/plain": [
       "{3, 4}"
      ]
     },
     "execution_count": 11,
     "metadata": {},
     "output_type": "execute_result"
    }
   ],
   "source": [
    "s1.intersection(s2)"
   ]
  },
  {
   "cell_type": "code",
   "execution_count": 12,
   "id": "e601d7d0",
   "metadata": {},
   "outputs": [
    {
     "data": {
      "text/plain": [
       "{1, 2, 3, 4, 10}"
      ]
     },
     "execution_count": 12,
     "metadata": {},
     "output_type": "execute_result"
    }
   ],
   "source": [
    "s1"
   ]
  },
  {
   "cell_type": "code",
   "execution_count": null,
   "id": "1ceac42c",
   "metadata": {},
   "outputs": [
    {
     "data": {
      "text/plain": [
       "1"
      ]
     },
     "execution_count": 13,
     "metadata": {},
     "output_type": "execute_result"
    }
   ],
   "source": [
    "s1.pop()\n",
    "# pop() removes and returns an arbitrary element from the set.\n",
    "\n",
    "# Since sets are unordered, you cannot predict which element will be removed."
   ]
  },
  {
   "cell_type": "code",
   "execution_count": 14,
   "id": "8eca43c0",
   "metadata": {},
   "outputs": [
    {
     "data": {
      "text/plain": [
       "{2, 3, 4, 10}"
      ]
     },
     "execution_count": 14,
     "metadata": {},
     "output_type": "execute_result"
    }
   ],
   "source": [
    "s1"
   ]
  },
  {
   "cell_type": "code",
   "execution_count": 15,
   "id": "deb50bc0",
   "metadata": {},
   "outputs": [
    {
     "data": {
      "text/plain": [
       "{3, 4, 10}"
      ]
     },
     "execution_count": 15,
     "metadata": {},
     "output_type": "execute_result"
    }
   ],
   "source": [
    "s1.pop()\n",
    "s1"
   ]
  },
  {
   "cell_type": "code",
   "execution_count": 16,
   "id": "ac76e29e",
   "metadata": {},
   "outputs": [],
   "source": [
    "s1.remove(10)"
   ]
  },
  {
   "cell_type": "code",
   "execution_count": 17,
   "id": "ad614616",
   "metadata": {},
   "outputs": [
    {
     "data": {
      "text/plain": [
       "{3, 4}"
      ]
     },
     "execution_count": 17,
     "metadata": {},
     "output_type": "execute_result"
    }
   ],
   "source": [
    "s1"
   ]
  },
  {
   "cell_type": "code",
   "execution_count": 18,
   "id": "887b061f",
   "metadata": {},
   "outputs": [
    {
     "ename": "KeyError",
     "evalue": "10",
     "output_type": "error",
     "traceback": [
      "\u001b[31m---------------------------------------------------------------------------\u001b[39m",
      "\u001b[31mKeyError\u001b[39m                                  Traceback (most recent call last)",
      "\u001b[36mCell\u001b[39m\u001b[36m \u001b[39m\u001b[32mIn[18]\u001b[39m\u001b[32m, line 1\u001b[39m\n\u001b[32m----> \u001b[39m\u001b[32m1\u001b[39m \u001b[43ms1\u001b[49m\u001b[43m.\u001b[49m\u001b[43mremove\u001b[49m\u001b[43m(\u001b[49m\u001b[32;43m10\u001b[39;49m\u001b[43m)\u001b[49m\n\u001b[32m      2\u001b[39m s1\n",
      "\u001b[31mKeyError\u001b[39m: 10"
     ]
    }
   ],
   "source": [
    "s1.remove(10)\n",
    "s1"
   ]
  },
  {
   "cell_type": "code",
   "execution_count": null,
   "id": "7de863fd",
   "metadata": {},
   "outputs": [],
   "source": [
    "s1.discard(10)\n",
    "\n",
    "# s1.discard(10) removes the element 10 from the set if it exists.\n",
    "\n",
    "# If 10 is not present, it does nothing — and does not raise an error (unlike remove()).\n"
   ]
  },
  {
   "cell_type": "code",
   "execution_count": 20,
   "id": "765bfc94",
   "metadata": {},
   "outputs": [
    {
     "data": {
      "text/plain": [
       "{5, 6}"
      ]
     },
     "execution_count": 20,
     "metadata": {},
     "output_type": "execute_result"
    }
   ],
   "source": [
    "s2.difference(s1)"
   ]
  },
  {
   "cell_type": "code",
   "execution_count": null,
   "id": "18755d7f",
   "metadata": {},
   "outputs": [
    {
     "data": {
      "text/plain": [
       "{5, 6}"
      ]
     },
     "execution_count": 21,
     "metadata": {},
     "output_type": "execute_result"
    }
   ],
   "source": [
    "s2.symmetric_difference(s1)\n",
    "# eturns a new set containing elements that are in either s2 or s1 but not in both — i.e., the symmetric difference."
   ]
  },
  {
   "cell_type": "code",
   "execution_count": 23,
   "id": "b0af3480",
   "metadata": {},
   "outputs": [],
   "source": [
    "s1 = {1,2,3,4}\n",
    "s2 = {3,4,5,6}\n"
   ]
  },
  {
   "cell_type": "code",
   "execution_count": 24,
   "id": "13798665",
   "metadata": {},
   "outputs": [
    {
     "data": {
      "text/plain": [
       "False"
      ]
     },
     "execution_count": 24,
     "metadata": {},
     "output_type": "execute_result"
    }
   ],
   "source": [
    "s1.issubset(s2)"
   ]
  },
  {
   "cell_type": "code",
   "execution_count": 25,
   "id": "267d1a41",
   "metadata": {},
   "outputs": [
    {
     "data": {
      "text/plain": [
       "False"
      ]
     },
     "execution_count": 25,
     "metadata": {},
     "output_type": "execute_result"
    }
   ],
   "source": [
    "s2.issuperset(s1)"
   ]
  },
  {
   "cell_type": "code",
   "execution_count": 26,
   "id": "048b7d94",
   "metadata": {},
   "outputs": [
    {
     "data": {
      "text/plain": [
       "False"
      ]
     },
     "execution_count": 26,
     "metadata": {},
     "output_type": "execute_result"
    }
   ],
   "source": [
    "s1.isdisjoint(s2)"
   ]
  },
  {
   "cell_type": "code",
   "execution_count": 27,
   "id": "ffd3e329",
   "metadata": {},
   "outputs": [
    {
     "data": {
      "text/plain": [
       "4"
      ]
     },
     "execution_count": 27,
     "metadata": {},
     "output_type": "execute_result"
    }
   ],
   "source": [
    "len(s2)"
   ]
  },
  {
   "cell_type": "code",
   "execution_count": 28,
   "id": "a5210832",
   "metadata": {},
   "outputs": [
    {
     "name": "stdout",
     "output_type": "stream",
     "text": [
      "1\n",
      "2\n",
      "3\n",
      "4\n"
     ]
    }
   ],
   "source": [
    "for ele in s1:\n",
    "    print(ele)"
   ]
  },
  {
   "cell_type": "markdown",
   "id": "052e038b",
   "metadata": {},
   "source": [
    "Dictionary:-\n",
    "\n",
    "unordered collection of key:value pairs\n",
    "mutable data structure\n",
    "Heterogeneous\n",
    "Immutable Keys\n",
    "dict functions\n",
    "traversal\n",
    "Comprehension"
   ]
  },
  {
   "cell_type": "code",
   "execution_count": 30,
   "id": "53255a7c",
   "metadata": {},
   "outputs": [],
   "source": [
    "d = {\n",
    "    \"India\" : 1000,\n",
    "    \"USSR\" : 150,\n",
    "    \"USA\" : 100,\n",
    "    1.1 : \"one\",\n",
    "    2 : [1,2],\n",
    "    \"India\" : 10000,\n",
    "    (1,2,3) : \"Tuple\"\n",
    "    # [1,2,3] : \"List\"\n",
    "}"
   ]
  },
  {
   "cell_type": "code",
   "execution_count": 31,
   "id": "813dee4a",
   "metadata": {},
   "outputs": [
    {
     "name": "stdout",
     "output_type": "stream",
     "text": [
      "{'India': 10000, 'USSR': 150, 'USA': 100, 1.1: 'one', 2: [1, 2], (1, 2, 3): 'Tuple'} <class 'dict'>\n"
     ]
    }
   ],
   "source": [
    "print(d,type(d))"
   ]
  },
  {
   "cell_type": "code",
   "execution_count": 32,
   "id": "bd115a0e",
   "metadata": {},
   "outputs": [
    {
     "data": {
      "text/plain": [
       "{'India': 10000,\n",
       " 'USSR': 150,\n",
       " 'USA': 100,\n",
       " 1.1: 'one',\n",
       " 2: [1, 2],\n",
       " (1, 2, 3): 'Tuple',\n",
       " 'China': 100}"
      ]
     },
     "execution_count": 32,
     "metadata": {},
     "output_type": "execute_result"
    }
   ],
   "source": [
    "d[\"China\"] = 100 #New key value pair\n",
    "d"
   ]
  },
  {
   "cell_type": "code",
   "execution_count": 33,
   "id": "08bc4917",
   "metadata": {},
   "outputs": [
    {
     "data": {
      "text/plain": [
       "100"
      ]
     },
     "execution_count": 33,
     "metadata": {},
     "output_type": "execute_result"
    }
   ],
   "source": [
    "d[\"China\"] "
   ]
  },
  {
   "cell_type": "code",
   "execution_count": 34,
   "id": "825bc72c",
   "metadata": {},
   "outputs": [
    {
     "ename": "KeyError",
     "evalue": "3",
     "output_type": "error",
     "traceback": [
      "\u001b[31m---------------------------------------------------------------------------\u001b[39m",
      "\u001b[31mKeyError\u001b[39m                                  Traceback (most recent call last)",
      "\u001b[36mCell\u001b[39m\u001b[36m \u001b[39m\u001b[32mIn[34]\u001b[39m\u001b[32m, line 1\u001b[39m\n\u001b[32m----> \u001b[39m\u001b[32m1\u001b[39m \u001b[43md\u001b[49m\u001b[43m[\u001b[49m\u001b[32;43m3\u001b[39;49m\u001b[43m]\u001b[49m\n",
      "\u001b[31mKeyError\u001b[39m: 3"
     ]
    }
   ],
   "source": [
    "d[3]"
   ]
  },
  {
   "cell_type": "code",
   "execution_count": null,
   "id": "65eeaddc",
   "metadata": {},
   "outputs": [
    {
     "name": "stdout",
     "output_type": "stream",
     "text": [
      "100\n"
     ]
    }
   ],
   "source": [
    "print(d.get(\"China\",0))\n",
    "# Look for the key \"China\" in the dictionary d.\n",
    "\n",
    "# If \"China\" exists, return its corresponding value.\n",
    "\n",
    "# If \"China\" does not exist, return the default value 0."
   ]
  },
  {
   "cell_type": "code",
   "execution_count": 36,
   "id": "9d950536",
   "metadata": {},
   "outputs": [
    {
     "data": {
      "text/plain": [
       "100"
      ]
     },
     "execution_count": 36,
     "metadata": {},
     "output_type": "execute_result"
    }
   ],
   "source": [
    "d.pop(\"China\",0)"
   ]
  },
  {
   "cell_type": "code",
   "execution_count": 37,
   "id": "c322d04e",
   "metadata": {},
   "outputs": [
    {
     "data": {
      "text/plain": [
       "{'India': 10000,\n",
       " 'USSR': 150,\n",
       " 'USA': 100,\n",
       " 1.1: 'one',\n",
       " 2: [1, 2],\n",
       " (1, 2, 3): 'Tuple'}"
      ]
     },
     "execution_count": 37,
     "metadata": {},
     "output_type": "execute_result"
    }
   ],
   "source": [
    "d"
   ]
  },
  {
   "cell_type": "code",
   "execution_count": null,
   "id": "83d0ae5e",
   "metadata": {},
   "outputs": [
    {
     "data": {
      "text/plain": [
       "((1, 2, 3), 'Tuple')"
      ]
     },
     "execution_count": 38,
     "metadata": {},
     "output_type": "execute_result"
    }
   ],
   "source": [
    "d.popitem()\n",
    "# removes and returns the last inserted key-value pair from the dictionary d."
   ]
  },
  {
   "cell_type": "code",
   "execution_count": 39,
   "id": "a834f8a4",
   "metadata": {},
   "outputs": [
    {
     "data": {
      "text/plain": [
       "{'India': 10000, 'USSR': 150, 'USA': 100, 1.1: 'one', 2: [1, 2]}"
      ]
     },
     "execution_count": 39,
     "metadata": {},
     "output_type": "execute_result"
    }
   ],
   "source": [
    "d"
   ]
  },
  {
   "cell_type": "code",
   "execution_count": 40,
   "id": "21e5afa3",
   "metadata": {},
   "outputs": [
    {
     "data": {
      "text/plain": [
       "{'India': 10000, 'USSR': 150, 'USA': 100, 1.1: 'one'}"
      ]
     },
     "execution_count": 40,
     "metadata": {},
     "output_type": "execute_result"
    }
   ],
   "source": [
    "d.popitem()\n",
    "d"
   ]
  },
  {
   "cell_type": "code",
   "execution_count": 41,
   "id": "bc38a0d1",
   "metadata": {},
   "outputs": [
    {
     "data": {
      "text/plain": [
       "{'India': 10000, 'USSR': 150, 1.1: 'one'}"
      ]
     },
     "execution_count": 41,
     "metadata": {},
     "output_type": "execute_result"
    }
   ],
   "source": [
    "del d['USA']\n",
    "d"
   ]
  },
  {
   "cell_type": "code",
   "execution_count": 42,
   "id": "c271cd41",
   "metadata": {},
   "outputs": [
    {
     "data": {
      "text/plain": [
       "dict_keys(['India', 'USSR', 1.1])"
      ]
     },
     "execution_count": 42,
     "metadata": {},
     "output_type": "execute_result"
    }
   ],
   "source": [
    "d.keys()"
   ]
  },
  {
   "cell_type": "code",
   "execution_count": 43,
   "id": "165db64f",
   "metadata": {},
   "outputs": [
    {
     "data": {
      "text/plain": [
       "dict_values([10000, 150, 'one'])"
      ]
     },
     "execution_count": 43,
     "metadata": {},
     "output_type": "execute_result"
    }
   ],
   "source": [
    "d.values()"
   ]
  },
  {
   "cell_type": "code",
   "execution_count": 44,
   "id": "b0cec6dc",
   "metadata": {},
   "outputs": [
    {
     "data": {
      "text/plain": [
       "dict_items([('India', 10000), ('USSR', 150), (1.1, 'one')])"
      ]
     },
     "execution_count": 44,
     "metadata": {},
     "output_type": "execute_result"
    }
   ],
   "source": [
    "d.items()"
   ]
  },
  {
   "cell_type": "code",
   "execution_count": 45,
   "id": "7339ff32",
   "metadata": {},
   "outputs": [],
   "source": [
    "d1 = d.fromkeys([1,2,3,4],\"Number\")"
   ]
  },
  {
   "cell_type": "code",
   "execution_count": 46,
   "id": "5e450434",
   "metadata": {},
   "outputs": [
    {
     "data": {
      "text/plain": [
       "{1: 'Number', 2: 'Number', 3: 'Number', 4: 'Number'}"
      ]
     },
     "execution_count": 46,
     "metadata": {},
     "output_type": "execute_result"
    }
   ],
   "source": [
    "d1"
   ]
  },
  {
   "cell_type": "code",
   "execution_count": 48,
   "id": "5357a947",
   "metadata": {},
   "outputs": [
    {
     "data": {
      "text/plain": [
       "{'India': 10000,\n",
       " 'USSR': 150,\n",
       " 1.1: 'one',\n",
       " 1: 'Number',\n",
       " 2: 'Number',\n",
       " 3: 'Number',\n",
       " 4: 'Number'}"
      ]
     },
     "execution_count": 48,
     "metadata": {},
     "output_type": "execute_result"
    }
   ],
   "source": [
    "d.update(d1)\n",
    "d"
   ]
  },
  {
   "cell_type": "code",
   "execution_count": 49,
   "id": "f1be4e75",
   "metadata": {},
   "outputs": [
    {
     "name": "stdout",
     "output_type": "stream",
     "text": [
      "India 10000\n",
      "USSR 150\n",
      "1.1 one\n",
      "1 Number\n",
      "2 Number\n",
      "3 Number\n",
      "4 Number\n"
     ]
    }
   ],
   "source": [
    "for k in d:\n",
    "    print(k,d[k])"
   ]
  },
  {
   "cell_type": "code",
   "execution_count": 50,
   "id": "0d58e7e7",
   "metadata": {},
   "outputs": [
    {
     "name": "stdout",
     "output_type": "stream",
     "text": [
      "India 10000\n",
      "USSR 150\n",
      "1.1 one\n",
      "1 Number\n",
      "2 Number\n",
      "3 Number\n",
      "4 Number\n"
     ]
    }
   ],
   "source": [
    "for k,v in d.items():\n",
    "    print(k,v)"
   ]
  },
  {
   "cell_type": "code",
   "execution_count": 51,
   "id": "35099f37",
   "metadata": {},
   "outputs": [],
   "source": [
    "s = set()\n",
    "for i in range(10):\n",
    "    s.add(i)"
   ]
  },
  {
   "cell_type": "code",
   "execution_count": 52,
   "id": "0aa9be9c",
   "metadata": {},
   "outputs": [
    {
     "data": {
      "text/plain": [
       "{0, 1, 2, 3, 4, 5, 6, 7, 8, 9}"
      ]
     },
     "execution_count": 52,
     "metadata": {},
     "output_type": "execute_result"
    }
   ],
   "source": [
    "s"
   ]
  },
  {
   "cell_type": "code",
   "execution_count": 53,
   "id": "d87b0c51",
   "metadata": {},
   "outputs": [
    {
     "data": {
      "text/plain": [
       "{0, 1, 2, 3, 4, 5, 6, 7, 8, 9}"
      ]
     },
     "execution_count": 53,
     "metadata": {},
     "output_type": "execute_result"
    }
   ],
   "source": [
    "s = {i for i in range(10)}\n",
    "s"
   ]
  },
  {
   "cell_type": "code",
   "execution_count": 54,
   "id": "4d1db051",
   "metadata": {},
   "outputs": [
    {
     "data": {
      "text/plain": [
       "{0: 0, 1: 1, 2: 4, 3: 9, 4: 16, 5: 25, 6: 36, 7: 49, 8: 64, 9: 81}"
      ]
     },
     "execution_count": 54,
     "metadata": {},
     "output_type": "execute_result"
    }
   ],
   "source": [
    "d = {}\n",
    "for i in range(10):\n",
    "    d[i] = i**2\n",
    "d    "
   ]
  },
  {
   "cell_type": "code",
   "execution_count": 55,
   "id": "552f8332",
   "metadata": {},
   "outputs": [
    {
     "data": {
      "text/plain": [
       "{0: 0, 1: 1, 2: 4, 3: 9, 4: 16, 5: 25, 6: 36, 7: 49, 8: 64, 9: 81}"
      ]
     },
     "execution_count": 55,
     "metadata": {},
     "output_type": "execute_result"
    }
   ],
   "source": [
    "d = {i : i**2 for i in range(10)}\n",
    "d"
   ]
  },
  {
   "cell_type": "code",
   "execution_count": 56,
   "id": "c95dc00c",
   "metadata": {},
   "outputs": [
    {
     "name": "stdout",
     "output_type": "stream",
     "text": [
      "Counter({1: 5, 2: 5, 4: 4, 3: 3, 6: 3, 5: 2, 66: 2, 31: 2, 8: 1, 64: 1, 22: 1})\n"
     ]
    }
   ],
   "source": [
    "l = [1,2,3,1,4,1,2,4,5,2,3,1,2,3,4,6,8,6,5,6,66,64,31,22,4,1,2,31,66]\n",
    "from collections import Counter\n",
    "\n",
    "d = Counter(l)\n",
    "print(d)"
   ]
  },
  {
   "cell_type": "code",
   "execution_count": 57,
   "id": "b3f47b31",
   "metadata": {},
   "outputs": [
    {
     "name": "stdout",
     "output_type": "stream",
     "text": [
      "{1: 5, 2: 5, 3: 3, 4: 4, 5: 2, 6: 3, 8: 1, 66: 2, 64: 1, 31: 2, 22: 1}\n"
     ]
    }
   ],
   "source": [
    "d = {}\n",
    "for ele in l:\n",
    "    # if ele in d:\n",
    "    #     d[ele] += 1\n",
    "    # else:\n",
    "    #     d[ele] = 1\n",
    "\n",
    "    d[ele] = d.get(ele,0)+1\n",
    "\n",
    "print(d)"
   ]
  },
  {
   "cell_type": "code",
   "execution_count": null,
   "id": "26737a24",
   "metadata": {},
   "outputs": [],
   "source": []
  },
  {
   "cell_type": "code",
   "execution_count": null,
   "id": "2a9081c4",
   "metadata": {},
   "outputs": [],
   "source": []
  }
 ],
 "metadata": {
  "kernelspec": {
   "display_name": ".venv",
   "language": "python",
   "name": "python3"
  },
  "language_info": {
   "codemirror_mode": {
    "name": "ipython",
    "version": 3
   },
   "file_extension": ".py",
   "mimetype": "text/x-python",
   "name": "python",
   "nbconvert_exporter": "python",
   "pygments_lexer": "ipython3",
   "version": "3.13.1"
  }
 },
 "nbformat": 4,
 "nbformat_minor": 5
}
