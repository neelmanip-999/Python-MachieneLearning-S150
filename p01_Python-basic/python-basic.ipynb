{
 "cells": [
  {
   "cell_type": "code",
   "execution_count": 1,
   "id": "2a46fdc5",
   "metadata": {},
   "outputs": [
    {
     "name": "stdout",
     "output_type": "stream",
     "text": [
      "hello\n"
     ]
    }
   ],
   "source": [
    "print('hello')"
   ]
  },
  {
   "cell_type": "code",
   "execution_count": null,
   "id": "41bf491d",
   "metadata": {},
   "outputs": [],
   "source": [
    "a = 10\n",
    "b10 = 'Hello'\n",
    "_a = -20"
   ]
  },
  {
   "cell_type": "code",
   "execution_count": 3,
   "id": "d79cdf6a",
   "metadata": {},
   "outputs": [
    {
     "name": "stdout",
     "output_type": "stream",
     "text": [
      "10 Hello -20\n"
     ]
    }
   ],
   "source": [
    "print(a,b10,_a)"
   ]
  },
  {
   "cell_type": "code",
   "execution_count": 4,
   "id": "03da1c62",
   "metadata": {},
   "outputs": [
    {
     "name": "stdout",
     "output_type": "stream",
     "text": [
      "['False', 'None', 'True', 'and', 'as', 'assert', 'async', 'await', 'break', 'class', 'continue', 'def', 'del', 'elif', 'else', 'except', 'finally', 'for', 'from', 'global', 'if', 'import', 'in', 'is', 'lambda', 'nonlocal', 'not', 'or', 'pass', 'raise', 'return', 'try', 'while', 'with', 'yield'] 35\n"
     ]
    }
   ],
   "source": [
    "import keyword\n",
    "\n",
    "print(keyword.kwlist,len(keyword.kwlist))"
   ]
  },
  {
   "cell_type": "code",
   "execution_count": 5,
   "id": "1929aff0",
   "metadata": {},
   "outputs": [],
   "source": [
    "a = 10\n",
    "b = 20\n",
    "\n",
    "a,b = 10,20\n"
   ]
  },
  {
   "cell_type": "code",
   "execution_count": 6,
   "id": "49224b7a",
   "metadata": {},
   "outputs": [
    {
     "name": "stdout",
     "output_type": "stream",
     "text": [
      "10 20\n"
     ]
    }
   ],
   "source": [
    "print(a,b)"
   ]
  },
  {
   "cell_type": "code",
   "execution_count": 7,
   "id": "028f5eed",
   "metadata": {},
   "outputs": [
    {
     "name": "stdout",
     "output_type": "stream",
     "text": [
      "150\n"
     ]
    }
   ],
   "source": [
    "a = 10 + 20 + \\\n",
    "    30 + 40 + \\\n",
    "    50\n",
    "print(a)"
   ]
  },
  {
   "cell_type": "code",
   "execution_count": 8,
   "id": "a083e4ec",
   "metadata": {},
   "outputs": [
    {
     "name": "stdout",
     "output_type": "stream",
     "text": [
      "<class 'int'>\n"
     ]
    }
   ],
   "source": [
    "print(type(a))\n"
   ]
  },
  {
   "cell_type": "code",
   "execution_count": 9,
   "id": "4e4a53aa",
   "metadata": {},
   "outputs": [
    {
     "name": "stdout",
     "output_type": "stream",
     "text": [
      "<class 'str'>\n"
     ]
    }
   ],
   "source": [
    "b = 'Hello'\n",
    "print(type(b))"
   ]
  },
  {
   "cell_type": "code",
   "execution_count": 10,
   "id": "32aacbd9",
   "metadata": {},
   "outputs": [
    {
     "data": {
      "text/plain": [
       "140727541896776"
      ]
     },
     "execution_count": 10,
     "metadata": {},
     "output_type": "execute_result"
    }
   ],
   "source": [
    "id(a)"
   ]
  },
  {
   "cell_type": "markdown",
   "id": "e6f3a6b8",
   "metadata": {},
   "source": [
    "Data Types:-\n",
    "                     Text Type:\tstr\n",
    "                     Numeric Types:\tint, float, complex\n",
    "                     Sequence Types:\tlist, tuple, range\n",
    "                     Mapping Type:\tdict\n",
    "                     Set Types:\tset, frozenset\n",
    "                     Boolean Type:\tbool\n",
    "                     Binary Types:\tbytes, bytearray, memoryview\n",
    "                     None Type:\tNoneType"
   ]
  },
  {
   "cell_type": "markdown",
   "id": "1105b92c",
   "metadata": {},
   "source": [
    "TYPE CONVERSION:----\n"
   ]
  },
  {
   "cell_type": "code",
   "execution_count": 11,
   "id": "73bdce7c",
   "metadata": {},
   "outputs": [
    {
     "name": "stdout",
     "output_type": "stream",
     "text": [
      "1000000000000000000000000000000000000000000000000 <class 'int'>\n",
      "10.3 <class 'float'>\n",
      "(2+5j) <class 'complex'>\n"
     ]
    }
   ],
   "source": [
    "a = 1000000000000000000000000000000000000000000000000\n",
    "b = 10.3\n",
    "c = 2 + 5j\n",
    "print(a,type(a))\n",
    "print(b,type(b))\n",
    "print(c,type(c))"
   ]
  },
  {
   "cell_type": "code",
   "execution_count": 12,
   "id": "9c5b4a45",
   "metadata": {},
   "outputs": [
    {
     "name": "stdout",
     "output_type": "stream",
     "text": [
      "[1, 2, 3, 4] <class 'list'>\n"
     ]
    }
   ],
   "source": [
    "l = [1,2,3,4]\n",
    "print(l,type(l))"
   ]
  },
  {
   "cell_type": "code",
   "execution_count": 13,
   "id": "17fbc738",
   "metadata": {},
   "outputs": [
    {
     "name": "stdout",
     "output_type": "stream",
     "text": [
      "True <class 'bool'>\n"
     ]
    }
   ],
   "source": [
    "b = True\n",
    "print(b,type(b))"
   ]
  },
  {
   "cell_type": "code",
   "execution_count": 14,
   "id": "3b22d0eb",
   "metadata": {},
   "outputs": [
    {
     "name": "stdout",
     "output_type": "stream",
     "text": [
      "None <class 'NoneType'>\n"
     ]
    }
   ],
   "source": [
    "\n",
    "a = None\n",
    "print(a,type(a))"
   ]
  },
  {
   "cell_type": "code",
   "execution_count": null,
   "id": "dd27ca19",
   "metadata": {},
   "outputs": [
    {
     "ename": "ValueError",
     "evalue": "invalid literal for int() with base 10: '10abc'",
     "output_type": "error",
     "traceback": [
      "\u001b[31m---------------------------------------------------------------------------\u001b[39m",
      "\u001b[31mValueError\u001b[39m                                Traceback (most recent call last)",
      "\u001b[36mCell\u001b[39m\u001b[36m \u001b[39m\u001b[32mIn[15]\u001b[39m\u001b[32m, line 2\u001b[39m\n\u001b[32m      1\u001b[39m a = \u001b[33m'\u001b[39m\u001b[33m10abc\u001b[39m\u001b[33m'\u001b[39m\n\u001b[32m----> \u001b[39m\u001b[32m2\u001b[39m b = \u001b[38;5;28;43mint\u001b[39;49m\u001b[43m(\u001b[49m\u001b[43ma\u001b[49m\u001b[43m)\u001b[49m\n\u001b[32m      3\u001b[39m \u001b[38;5;28mprint\u001b[39m(b)\n",
      "\u001b[31mValueError\u001b[39m: invalid literal for int() with base 10: '10abc'"
     ]
    }
   ],
   "source": [
    "a = '10abc'\n",
    "b = int(a)  # 10abc is not a number\n",
    "print(b)"
   ]
  },
  {
   "cell_type": "markdown",
   "id": "20d9867e",
   "metadata": {},
   "source": [
    "OPERATORS:-\n",
    "\n",
    "Types of Operators\n",
    "Airthmetic: +, -, *, /, %, //, **\n",
    "relational: ==, <=, <, >=, >, !=\n",
    "logical: and, or, not\n",
    "Bitwise: &, |, ~, ^, <<, >>\n",
    "Assignment: =, +=, -= ...\n",
    "Special: is, is not, in, not in\n"
   ]
  },
  {
   "cell_type": "code",
   "execution_count": null,
   "id": "31f6e3fa",
   "metadata": {},
   "outputs": [
    {
     "name": "stdout",
     "output_type": "stream",
     "text": [
      "130\n",
      "130\n",
      "-110\n",
      "1200\n",
      "0.08333333333333333\n",
      "0\n",
      "10\n",
      "1000000000000000000000000000000000000000000000000000000000000000000000000000000000000000000000000000000000000000000000000\n"
     ]
    }
   ],
   "source": [
    "a = 10\n",
    "b = 120\n",
    "c = a+b\n",
    "print(c)\n",
    "print(a+b)\n",
    "print(a-b)\n",
    "print(a*b)\n",
    "print(a/b) # float division\n",
    "print(a//b) # integer division\n",
    "print(a%b)\n",
    "print(a**b)"
   ]
  },
  {
   "cell_type": "code",
   "execution_count": 17,
   "id": "e158f215",
   "metadata": {},
   "outputs": [
    {
     "data": {
      "text/plain": [
       "False"
      ]
     },
     "execution_count": 17,
     "metadata": {},
     "output_type": "execute_result"
    }
   ],
   "source": [
    "a = 10\n",
    "b = 20\n",
    "a >= b"
   ]
  },
  {
   "cell_type": "code",
   "execution_count": 18,
   "id": "6b1ec968",
   "metadata": {},
   "outputs": [
    {
     "name": "stdout",
     "output_type": "stream",
     "text": [
      "True\n"
     ]
    }
   ],
   "source": [
    "c = a <= b\n",
    "print(c)"
   ]
  },
  {
   "cell_type": "code",
   "execution_count": 19,
   "id": "9ff4e4c1",
   "metadata": {},
   "outputs": [
    {
     "name": "stdout",
     "output_type": "stream",
     "text": [
      "False\n",
      "True\n"
     ]
    }
   ],
   "source": [
    "x = 1\n",
    "y = 10\n",
    "a = x < y\n",
    "b = False\n",
    "print(a and b)\n",
    "print(a or b)"
   ]
  },
  {
   "cell_type": "code",
   "execution_count": 20,
   "id": "ae17322f",
   "metadata": {},
   "outputs": [
    {
     "data": {
      "text/plain": [
       "True"
      ]
     },
     "execution_count": 20,
     "metadata": {},
     "output_type": "execute_result"
    }
   ],
   "source": [
    "x < y or x == y"
   ]
  },
  {
   "cell_type": "code",
   "execution_count": 21,
   "id": "fbb164f3",
   "metadata": {},
   "outputs": [
    {
     "data": {
      "text/plain": [
       "0"
      ]
     },
     "execution_count": 21,
     "metadata": {},
     "output_type": "execute_result"
    }
   ],
   "source": [
    "a = 10\n",
    "a -= 10\n",
    "a"
   ]
  },
  {
   "cell_type": "code",
   "execution_count": null,
   "id": "ab764818",
   "metadata": {},
   "outputs": [
    {
     "name": "stdout",
     "output_type": "stream",
     "text": [
      "True\n"
     ]
    }
   ],
   "source": [
    "a = 1000\n",
    "b = a\n",
    "print(id(a) == id(b))\n",
    "\n",
    "#a = 1000 assigns the value 1000 to variable a.\n",
    "\n",
    "# b = a makes b reference the same object as a.\n",
    "\n",
    "# id(a) and id(b) return the memory addresses (object IDs) of the variables.\n",
    "\n",
    "# Since b is directly assigned from a, they both point to the same object in memory, so id(a) == id(b) is True.\n"
   ]
  },
  {
   "cell_type": "code",
   "execution_count": 25,
   "id": "138a7113",
   "metadata": {},
   "outputs": [
    {
     "name": "stdout",
     "output_type": "stream",
     "text": [
      "10.0\n"
     ]
    }
   ],
   "source": [
    "a = 10\n",
    "print(float(a))"
   ]
  },
  {
   "cell_type": "code",
   "execution_count": 27,
   "id": "5caa6d4f",
   "metadata": {},
   "outputs": [
    {
     "name": "stdout",
     "output_type": "stream",
     "text": [
      "10 <class 'int'>\n"
     ]
    }
   ],
   "source": [
    "p = input(\"Enter Principal: \")\n",
    "p = int(p)\n",
    "print(p,type(p))"
   ]
  },
  {
   "cell_type": "code",
   "execution_count": null,
   "id": "dbb02654",
   "metadata": {},
   "outputs": [
    {
     "name": "stdout",
     "output_type": "stream",
     "text": [
      "Simple Interest: 100.0\n"
     ]
    }
   ],
   "source": [
    "# calculating simple intrest :-\n",
    "\n",
    "p = int(input(\"Enter Principal: \"))\n",
    "r = float(input(\"Enter Rate: \"))\n",
    "y = int(input(\"Enter Year: \"))\n",
    "\n",
    "si = (p*r*y)/100\n",
    "print(\"Simple Interest: \"+str(si))"
   ]
  },
  {
   "cell_type": "markdown",
   "id": "3524bd09",
   "metadata": {},
   "source": [
    "IfElse:-\n",
    "\n",
    "if .. else\n",
    "if .. elif .... else\n",
    "Nested if\n",
    "Indentation Input from user"
   ]
  },
  {
   "cell_type": "code",
   "execution_count": 29,
   "id": "8b662c82",
   "metadata": {},
   "outputs": [
    {
     "name": "stdout",
     "output_type": "stream",
     "text": [
      "Hi\n",
      "Odd Number\n",
      "Bye\n"
     ]
    }
   ],
   "source": [
    "a = 21\n",
    "print(\"Hi\")\n",
    "if a%2 == 0:\n",
    "  print(\"Number is even\")\n",
    "  print(\"Hello World\")\n",
    "else:\n",
    "    print('Odd Number')\n",
    "print(\"Bye\")"
   ]
  },
  {
   "cell_type": "code",
   "execution_count": 30,
   "id": "b57f1555",
   "metadata": {},
   "outputs": [
    {
     "name": "stdout",
     "output_type": "stream",
     "text": [
      "child\n"
     ]
    }
   ],
   "source": [
    "age = 15\n",
    "if age < 18:\n",
    "    print(\"child\")\n",
    "else:\n",
    "    if age < 60:\n",
    "        print(\"adult\")\n",
    "    else:\n",
    "        print(\"Senior Citizen\")"
   ]
  },
  {
   "cell_type": "code",
   "execution_count": 31,
   "id": "c2c6252a",
   "metadata": {},
   "outputs": [
    {
     "name": "stdout",
     "output_type": "stream",
     "text": [
      "A\n"
     ]
    }
   ],
   "source": [
    "marks = 100\n",
    "if 80 <= marks and marks <= 100:\n",
    "    print('A')\n",
    "elif 60 <= marks and marks < 80:\n",
    "    print('B')\n",
    "elif 40 <= marks and marks < 60:\n",
    "    print('C')\n",
    "elif 0 <= marks and marks < 40:\n",
    "    print('Fail')\n",
    "else:\n",
    "    print('Not Valid')"
   ]
  },
  {
   "cell_type": "code",
   "execution_count": 32,
   "id": "44e1e9f9",
   "metadata": {},
   "outputs": [
    {
     "name": "stdout",
     "output_type": "stream",
     "text": [
      "Fail\n"
     ]
    }
   ],
   "source": [
    "marks = 10\n",
    "if 80 <= marks <= 100:\n",
    "    print('A')\n",
    "elif 60 <= marks < 80:\n",
    "    print('B')\n",
    "elif 40 <= marks < 60:\n",
    "    print('C')\n",
    "elif 0 <= marks < 40:\n",
    "    print('Fail')\n",
    "else:\n",
    "    print('Not Valid')"
   ]
  },
  {
   "cell_type": "markdown",
   "id": "1c2bd3e7",
   "metadata": {},
   "source": [
    "Ternary Operator:-\n",
    "\n",
    "Syntax:\n",
    "First_val if condn else second_val"
   ]
  },
  {
   "cell_type": "code",
   "execution_count": 34,
   "id": "67209d92",
   "metadata": {},
   "outputs": [
    {
     "name": "stdout",
     "output_type": "stream",
     "text": [
      "Adult\n"
     ]
    }
   ],
   "source": [
    "age = 20\n",
    "c = 'Adult' if age >= 18 else 'Child'\n",
    "print(c)\n"
   ]
  },
  {
   "cell_type": "markdown",
   "id": "d285b254",
   "metadata": {},
   "source": [
    "while loop:-\n",
    "\n",
    "To iterate over a block of code as long as the test expression is true.\n",
    "Syntax:\n",
    "while testExp:\n",
    "Body\n",
    "else:\n",
    "After testExp is false\n"
   ]
  },
  {
   "cell_type": "code",
   "execution_count": 35,
   "id": "3aa68099",
   "metadata": {},
   "outputs": [
    {
     "name": "stdout",
     "output_type": "stream",
     "text": [
      "HELLO\n",
      "HELLO\n",
      "HELLO\n",
      "HELLO\n",
      "HELLO\n"
     ]
    }
   ],
   "source": [
    "\n",
    "i=0\n",
    "while i<5:\n",
    "    print('HELLO')\n",
    "    i+=1"
   ]
  },
  {
   "cell_type": "code",
   "execution_count": null,
   "id": "0e94d661",
   "metadata": {},
   "outputs": [
    {
     "name": "stdout",
     "output_type": "stream",
     "text": [
      "sum : 15\n"
     ]
    }
   ],
   "source": [
    "# calculating sum of N digits\n",
    "\n",
    "i=0\n",
    "N=0\n",
    "while(i<=5):\n",
    "    N+=i\n",
    "    i+=1\n",
    "print(\"sum :\" ,N)"
   ]
  },
  {
   "cell_type": "code",
   "execution_count": null,
   "id": "96d7988d",
   "metadata": {},
   "outputs": [
    {
     "name": "stdout",
     "output_type": "stream",
     "text": [
      "3\n",
      "5\n",
      "7\n",
      "9\n",
      "11\n",
      "Sum: 35\n"
     ]
    },
    {
     "ename": "",
     "evalue": "",
     "output_type": "error",
     "traceback": [
      "\u001b[1;31mThe Kernel crashed while executing code in the current cell or a previous cell. \n",
      "\u001b[1;31mPlease review the code in the cell(s) to identify a possible cause of the failure. \n",
      "\u001b[1;31mClick <a href='https://aka.ms/vscodeJupyterKernelCrash'>here</a> for more info. \n",
      "\u001b[1;31mView Jupyter <a href='command:jupyter.viewOutput'>log</a> for further details."
     ]
    }
   ],
   "source": [
    "# printing and calculating odd number and their sum\n",
    "n = 0\n",
    "sumS = 0\n",
    "while n < 5:\n",
    "    ele = 2*n+3\n",
    "    sumS += ele\n",
    "    print(ele)\n",
    "    n+=1\n",
    "\n",
    "print(\"Sum:\",sumS)"
   ]
  },
  {
   "cell_type": "code",
   "execution_count": null,
   "id": "d87980de",
   "metadata": {},
   "outputs": [
    {
     "name": "stdout",
     "output_type": "stream",
     "text": [
      "1\n",
      "2\n",
      "3\n",
      "5\n",
      "6\n",
      "10\n",
      "15\n",
      "30\n"
     ]
    }
   ],
   "source": [
    "# printing factor of N\n",
    "n = 30\n",
    "i = 1\n",
    "while i <= n:\n",
    "    if n%i == 0:\n",
    "        print(i)\n",
    "    i += 1"
   ]
  },
  {
   "cell_type": "code",
   "execution_count": 38,
   "id": "3ac7a783",
   "metadata": {},
   "outputs": [
    {
     "name": "stdout",
     "output_type": "stream",
     "text": [
      "1\n",
      "2\n",
      "3\n",
      "5\n",
      "6\n",
      "10\n",
      "15\n",
      "30\n",
      "No of Factors: 8\n"
     ]
    }
   ],
   "source": [
    "n = 30\n",
    "i = 1\n",
    "c = 0\n",
    "while i <= n:\n",
    "    if n%i == 0:\n",
    "        print(i)\n",
    "        c += 1\n",
    "    i += 1\n",
    "print(\"No of Factors:\",c)"
   ]
  },
  {
   "cell_type": "code",
   "execution_count": 40,
   "id": "c761f39f",
   "metadata": {},
   "outputs": [
    {
     "name": "stdout",
     "output_type": "stream",
     "text": [
      "2\n",
      "Not Prime\n"
     ]
    }
   ],
   "source": [
    "n=30\n",
    "i=2\n",
    "c=0\n",
    "while i<n:\n",
    "    print(i)\n",
    "    if(n%i==0):\n",
    "        c+=1\n",
    "        break\n",
    "    i+=1\n",
    "\n",
    "if(c==0):\n",
    "    print(\"Prime\")\n",
    "else:\n",
    "    print(\"Not Prime\")\n",
    "     "
   ]
  },
  {
   "cell_type": "code",
   "execution_count": 41,
   "id": "bdbce89a",
   "metadata": {},
   "outputs": [
    {
     "name": "stdout",
     "output_type": "stream",
     "text": [
      "2\n",
      "3\n",
      "5\n",
      "7\n",
      "11\n",
      "13\n",
      "17\n",
      "19\n",
      "23\n",
      "29\n",
      "31\n",
      "37\n",
      "41\n",
      "43\n",
      "47\n",
      "53\n",
      "59\n",
      "61\n",
      "67\n",
      "71\n",
      "73\n",
      "79\n",
      "83\n",
      "89\n",
      "97\n"
     ]
    }
   ],
   "source": [
    "n = 2\n",
    "while n <= 100:\n",
    "    i = 2\n",
    "    c = 0\n",
    "    while i < n:\n",
    "        if n%i == 0:\n",
    "            c += 1\n",
    "            break\n",
    "        i += 1\n",
    "    if c == 0:\n",
    "        print(n)\n",
    "    n += 1"
   ]
  },
  {
   "cell_type": "code",
   "execution_count": null,
   "id": "b3401d4c",
   "metadata": {},
   "outputs": [],
   "source": []
  },
  {
   "cell_type": "code",
   "execution_count": null,
   "id": "59c5411f",
   "metadata": {},
   "outputs": [],
   "source": []
  },
  {
   "cell_type": "code",
   "execution_count": null,
   "id": "46313a8f",
   "metadata": {},
   "outputs": [],
   "source": []
  },
  {
   "cell_type": "code",
   "execution_count": null,
   "id": "c2076fd0",
   "metadata": {},
   "outputs": [],
   "source": []
  },
  {
   "cell_type": "code",
   "execution_count": null,
   "id": "5ba3f1b3",
   "metadata": {},
   "outputs": [],
   "source": []
  },
  {
   "cell_type": "code",
   "execution_count": null,
   "id": "b38c6e54",
   "metadata": {},
   "outputs": [],
   "source": []
  },
  {
   "cell_type": "code",
   "execution_count": null,
   "id": "350b5605",
   "metadata": {},
   "outputs": [],
   "source": []
  }
 ],
 "metadata": {
  "kernelspec": {
   "display_name": ".venv",
   "language": "python",
   "name": "python3"
  },
  "language_info": {
   "codemirror_mode": {
    "name": "ipython",
    "version": 3
   },
   "file_extension": ".py",
   "mimetype": "text/x-python",
   "name": "python",
   "nbconvert_exporter": "python",
   "pygments_lexer": "ipython3",
   "version": "3.13.1"
  }
 },
 "nbformat": 4,
 "nbformat_minor": 5
}
